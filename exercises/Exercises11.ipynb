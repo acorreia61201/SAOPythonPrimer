{
 "cells": [
  {
   "cell_type": "markdown",
   "id": "9512f1d2",
   "metadata": {},
   "source": [
    "# SAO/LIP Python Primer Course Exercise Set 11\n",
    "\n",
    "[![Open In Colab](https://colab.research.google.com/assets/colab-badge.svg)](https://colab.research.google.com/github/acorreia61201/SAOPythonPrimer/blob/main/exercises/Exercises11.ipynb)\n",
    "\n",
    "## Exercise: Harmonic Motion, revisited\n",
    "\n",
    "Let's take another look at simple harmonic motion, which we've looked at in a previous exercise. Recall that the equation of motion for a frictionless pendulum of mass $m$ and string length $l$ is:\n",
    "\n",
    "\\begin{equation}\n",
    "m\\frac{d^2\\theta}{dt^2} + \\frac{mg}{l}\\sin \\theta = 0\n",
    "\\end{equation}\n",
    "\n",
    "Recall that we're taking the angular position $\\theta$ into consideration, with $\\theta = 0$ corresponding to the equilibrium state of the pendulum (i.e. hanging straight down).\n",
    "\n",
    "**Your task:** As practice, use `sympy` to write this equation. $\\theta$ will be a function of $t$, so make sure you define it accordingly. The result should look just like the equation above (or at least very close). There are no restrictions on the variables above, but you may define the parameters $m, l, g$ to be positive if you wish."
   ]
  },
  {
   "cell_type": "code",
   "execution_count": null,
   "id": "c8539faf",
   "metadata": {},
   "outputs": [],
   "source": [
    "# YOUR CODE HERE"
   ]
  },
  {
   "cell_type": "markdown",
   "id": "02744c84",
   "metadata": {},
   "source": [
    "There are many ways to derive this equation. One way is by using the *Euler-Lagrange equations*, an alternative physics formulation to the Newton's laws you're probably familiar with. This formulation uses *generalized coordinates* as an analogue to the $x$ and $y$ coordinates more commonly used throughout physics. Since a pendulum moves along an arc of a circle, it's much more convenient to use *polar coordinates* to model the system:\n",
    "\n",
    "\\begin{equation}\n",
    "x = r \\sin \\theta \\\\\n",
    "y = r \\cos \\theta\n",
    "\\end{equation}\n",
    "\n",
    "(We've seemingly swapped the definitions from what you may be used to, but recall that we're defining the negative $y$-axis to be $\\theta = 0$.) In this situation, $r = l$ is a constant, so we only need to consider the equation of motion for $\\theta$. For Lagrangian mechanics, we need to consider the two sources of energy in the system. The first is the *kinetic energy* $T$, defined for any system as:\n",
    "\n",
    "\\begin{equation}\n",
    "T = \\frac{1}{2}mv^2\n",
    "\\end{equation}\n",
    "\n",
    "It's important to note that this only takes into consideration linear velocity. The linear velocity of an object moving in a circle is $v = r\\omega$, where $\\omega = d\\theta/dt$ is the angular velocity of the object.\n",
    "\n",
    "**Your task:** Use `sympy` to write the kinetic energy of the pendulum in terms of its mass $m$, length $l$, and angular velocity $\\omega$."
   ]
  },
  {
   "cell_type": "code",
   "execution_count": null,
   "id": "d8006c51",
   "metadata": {},
   "outputs": [],
   "source": [
    "# YOUR CODE HERE"
   ]
  },
  {
   "cell_type": "markdown",
   "id": "290910c3",
   "metadata": {},
   "source": [
    "We also have to consider the *potential energy* $V$ of the system. The only contribution to this term is due to gravitation, which we define as:\n",
    "\n",
    "\\begin{equation}\n",
    "V = mgh\n",
    "\\end{equation}\n",
    "\n",
    "$h$ is the height of the pendulum. We can define any vertical position as the point at which $h=0$; we'll use the ceiling so that the potential can be written as:\n",
    "\n",
    "\\begin{equation}\n",
    "V = -mgy\n",
    "\\end{equation}\n",
    "\n",
    "**Your task:** Use `sympy` to write the potential energy in terms of $m$, $l$, and $\\theta$."
   ]
  },
  {
   "cell_type": "code",
   "execution_count": null,
   "id": "9d201c96",
   "metadata": {},
   "outputs": [],
   "source": [
    "# YOUR CODE HERE"
   ]
  },
  {
   "cell_type": "markdown",
   "id": "83f82a2c",
   "metadata": {},
   "source": [
    "With these two quantities, we can define the *Lagrangian* $L$ of the system:\n",
    "\n",
    "\\begin{equation}\n",
    "L = T - V\n",
    "\\end{equation}\n",
    "\n",
    "**Your task:** Use `sympy` to write the Lagrangian of the pendulum system using the energies you defined above."
   ]
  },
  {
   "cell_type": "code",
   "execution_count": null,
   "id": "7f5fc93f",
   "metadata": {},
   "outputs": [],
   "source": [
    "# YOUR CODE HERE"
   ]
  },
  {
   "cell_type": "markdown",
   "id": "d11fb919",
   "metadata": {},
   "source": [
    "We can then plug this into the Euler-Lagrange equation:\n",
    "\n",
    "\\begin{equation}\n",
    "\\frac{\\partial L}{\\partial \\theta} - \\frac{d}{dt} \\frac{\\partial L}{\\partial \\omega} = 0\n",
    "\\end{equation}\n",
    "\n",
    "We'll solve this equation using `sympy` in a few steps:\n",
    "\n",
    "**Your task:** First, evaluate the first term of the above equation. Save it as something like `term1`."
   ]
  },
  {
   "cell_type": "code",
   "execution_count": null,
   "id": "2e43a054",
   "metadata": {},
   "outputs": [],
   "source": [
    "# YOUR CODE HERE"
   ]
  },
  {
   "cell_type": "markdown",
   "id": "a196a057",
   "metadata": {},
   "source": [
    "Next, we'll use the chain rule to evaluate the above total derivative with respect to $t$:\n",
    "\n",
    "\\begin{equation}\n",
    "\\frac{d}{dt} \\frac{\\partial L}{\\partial \\omega} = \\frac{d\\omega}{dt} \\frac{\\partial}{\\partial\\omega} \\frac{\\partial L}{\\partial \\omega}\n",
    "\\end{equation}\n",
    "\n",
    "**Your task:** Take the derivative of $L$ with respect to $\\omega$ twice. Substitute $\\omega = d\\theta/dt$ and multiply the result by $d^2\\theta/dt^2$ ($=d\\omega/dt$). Save this term as something like `term2`."
   ]
  },
  {
   "cell_type": "code",
   "execution_count": null,
   "id": "00cf0941",
   "metadata": {},
   "outputs": [],
   "source": [
    "# YOUR CODE HERE"
   ]
  },
  {
   "cell_type": "markdown",
   "id": "6ba22fba",
   "metadata": {},
   "source": [
    "**Your task:** Finally, write the expression `term1 - term2`. How does this compare to the actual equation of motion?"
   ]
  },
  {
   "cell_type": "code",
   "execution_count": null,
   "id": "19e9695d",
   "metadata": {},
   "outputs": [],
   "source": [
    "# YOUR CODE HERE"
   ]
  }
 ],
 "metadata": {
  "kernelspec": {
   "display_name": "Python 3 (ipykernel)",
   "language": "python",
   "name": "python3"
  },
  "language_info": {
   "codemirror_mode": {
    "name": "ipython",
    "version": 3
   },
   "file_extension": ".py",
   "mimetype": "text/x-python",
   "name": "python",
   "nbconvert_exporter": "python",
   "pygments_lexer": "ipython3",
   "version": "3.9.16"
  }
 },
 "nbformat": 4,
 "nbformat_minor": 5
}
