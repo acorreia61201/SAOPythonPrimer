{
  "cells": [
    {
      "cell_type": "markdown",
      "id": "59291062",
      "metadata": {
        "id": "59291062"
      },
      "source": [
        "# SAO/LIP Python Primer Course Exercise Set 10\n",
        "\n",
        "[![Open In Colab](https://colab.research.google.com/assets/colab-badge.svg)](https://colab.research.google.com/github/acorreia61201/SAOPythonPrimer/blob/main/exercises/Exercises10.ipynb)\n",
        "\n",
        "In the exercises below, I suggest that you use an external text editor to create files for library creation. Feel free to use the supplied cells for code development, but you should use the Colab upload feature or your local machine to do these exercises.\n",
        "\n",
        "## Exercise 1: Writing Your Own Integration Library\n",
        "\n",
        "We've worked a bit with integration algorithms this week. Let's practice writing a module by implementing them in your own library.\n",
        "\n",
        "**Your task:** Write a function that uses the trapezoidal rule to calculate the integral of a function over the range $[a, b]$. We've done this a couple times before in the exercises; you may copy your work from those exercises if you wish or write it from scratch using https://en.wikipedia.org/wiki/Trapezoidal_rule (remember that we defined $\\Delta x = (b-a)/(N-1))$. Save this function to a file called `integration.py` in your current working directory. Use the cell below to test the function if necessary."
      ]
    },
    {
      "cell_type": "code",
      "execution_count": 5,
      "id": "9ef12cc7",
      "metadata": {
        "id": "9ef12cc7"
      },
      "outputs": [],
      "source": [
        "import numpy as np\n",
        "\n",
        "def trapezoidal(a, b, n, f):\n",
        "    grid = np.linspace(a, b, n) # grid with n points and bounds [a, b]\n",
        "    dx = (b-a)/(n-1) # separation between points\n",
        "    sum = f(a) + f(b) # placeholder containing endpoints\n",
        "    for i in range(1, n-1): # iterate over all points except first and last\n",
        "        sum += 2*f(grid[i]) # add each contribution\n",
        "    return sum*dx/2 # multiply prefactor"
      ]
    },
    {
      "cell_type": "markdown",
      "id": "80369866",
      "metadata": {
        "id": "80369866"
      },
      "source": [
        "**Your task:** Write a function that uses the Monte-Carlo method to calculate the integral of a function over the range $[a, b]$. You may again copy the function from a previous exercise or write it from scratch if you wish. Save this function to `integration.py`, again using the cell below if necessary."
      ]
    },
    {
      "cell_type": "code",
      "execution_count": 6,
      "id": "a52c7f57",
      "metadata": {
        "id": "a52c7f57"
      },
      "outputs": [],
      "source": [
        "def montecarlo(a, b, n, f):\n",
        "    grid = np.random.uniform(a, b, n) # random grid of n points in domain [a, b]\n",
        "    V = b - a # 1D volume\n",
        "    sum = 0 # placeholder for summation\n",
        "    for i in grid:\n",
        "        sum += f(i) # add contributions from each element\n",
        "    return sum*V/n # multiply prefactor"
      ]
    },
    {
      "cell_type": "code",
      "source": [
        "# if you were doing this exercise, you could use a local text editor to copy these functions and call them later\n",
        "# for this case, I've added files into the solutions directory in the Github repo that can be downloaded here:\n",
        "!wget"
      ],
      "metadata": {
        "id": "RO5Sazwpjxz4"
      },
      "id": "RO5Sazwpjxz4",
      "execution_count": null,
      "outputs": []
    },
    {
      "cell_type": "markdown",
      "id": "b8e46953",
      "metadata": {
        "id": "b8e46953"
      },
      "source": [
        "Let's test the accuracy of these functions against `scipy.integrate.quad()`.\n",
        "\n",
        "**Your task:** Use the trapezoidal rule, Monte-Carlo method, and `quad()` to evaluate the following integral:\n",
        "\n",
        "\\begin{equation}\n",
        "\\int_0^1 \\frac{x^4(1-x)^4}{1+x^2}dx\n",
        "\\end{equation}\n",
        "\n",
        "Import your functions from `integration`. Evaluate the trapezoidal and Monte-Carlo integrals with 200 values over the range $N=[10, 10^6]$ using `numpy.geomspace()`. Plot your results versus $N$ on a loglog scale. Also plot the `quad` result as a dashed horizontal line. Label everything accordingly. How do the three methods compare?"
      ]
    },
    {
      "cell_type": "code",
      "execution_count": null,
      "id": "8dda7d47",
      "metadata": {
        "id": "8dda7d47"
      },
      "outputs": [],
      "source": [
        "import integration as ig"
      ]
    },
    {
      "cell_type": "markdown",
      "id": "30cd46e9",
      "metadata": {
        "id": "30cd46e9"
      },
      "source": [
        "The exact value of the above integral is $22/7 - \\pi$. (We can actually use this and the fact that the integrand is greater than zero to prove $22/7 > \\pi$; if you're interested, see https://en.wikipedia.org/wiki/Proof_that_22/7_exceeds_%CF%80.)\n",
        "\n",
        "**Your task:** Make another plot of the absolute errors of each method:\n",
        "\n",
        "\\begin{equation}\n",
        "\\bigg| E - (\\frac{22}{7} - \\pi) \\bigg|\n",
        "\\end{equation}\n",
        "\n",
        "Here, $E$ is a placeholder for your estimates. Plot the trapezoidal and Monte-Carlo errors on a loglog scale, along with a horizontal dashed line for the `quad` error. Which method seems to have the smallest error? How quickly does the error diminish for increasing $N$?"
      ]
    },
    {
      "cell_type": "code",
      "execution_count": null,
      "id": "6ff4c6f8",
      "metadata": {
        "id": "6ff4c6f8"
      },
      "outputs": [],
      "source": [
        "# YOUR CODE HERE"
      ]
    },
    {
      "cell_type": "markdown",
      "id": "23875bbd",
      "metadata": {
        "id": "23875bbd"
      },
      "source": [
        "## Exercise 2: Archimedes' Method\n",
        "\n",
        "One method of approximating $\\pi$ is with *Archimedes' method*, which approximates the circumference of a circle to the perimeter of a circumscribed polygon. We know that the circumference of a unit circle is $2\\pi r$ = $\\pi$. As the number of sides in the circumscribed polygon increases, the polygon will become closer and closer to approximating the circle itself, and its perimeter will get closer to being the circle's circumference. We'll write some code to estimate the value of $\\pi$ using this method.\n",
        "\n",
        "To start, we need a way to generate the polygon itself. To do so, we can use the following formulas to generate a set of ordered pairs equally spaced along the circumference of the circle:\n",
        "\n",
        "\\begin{equation}\n",
        "x_i = 0.5\\cos(2\\pi i/N) \\\\\n",
        "y_i = 0.5\\sin(2\\pi i/N)\n",
        "\\end{equation}\n",
        "\n",
        "(Notice that we're \"cheating\" by using $\\pi$ to generate these; the original method of doing this would've involved using pencil and paper, which is far less efficient.)\n",
        "\n",
        "**Your task:** Write a function that generates $N$ equally spaced points on the circumference of a unit circle. Test your code with a square; its vertices should be $(.5, 0)$, $(0, .5)$, $(-.5, 0)$, $(0, -.5)$. Save this to a file named `archimedes.py`."
      ]
    },
    {
      "cell_type": "code",
      "execution_count": null,
      "id": "ca92e031",
      "metadata": {
        "id": "ca92e031"
      },
      "outputs": [],
      "source": [
        "# YOUR CODE HERE"
      ]
    },
    {
      "cell_type": "markdown",
      "id": "f4098760",
      "metadata": {
        "id": "f4098760"
      },
      "source": [
        "**Your task:** Let's check that this function works as advertised. Import your function from `archimedes` and generate three sets of 4, 8, and 16 points. Plot these points as blue circles along with a solid black unfilled unit circle centered at (Hint: see some examples using `plt.Circle` and `plt.add_artist` at https://www.geeksforgeeks.org/how-to-draw-a-circle-using-matplotlib-in-python/#)."
      ]
    },
    {
      "cell_type": "code",
      "execution_count": null,
      "id": "2669b5c3",
      "metadata": {
        "id": "2669b5c3"
      },
      "outputs": [],
      "source": [
        "# YOUR CODE HERE"
      ]
    },
    {
      "cell_type": "markdown",
      "id": "9827562c",
      "metadata": {
        "id": "9827562c"
      },
      "source": [
        "We now have to calculate the perimeter of the circumscribed polygon. We'll do it recursively. We know that the distance of a straight-line path starting at $(x_0, y_0)$ and ending at $(x_1, y_1)$ is:\n",
        "\n",
        "\\begin{equation}\n",
        "\\sqrt{(x_1 - x_0)^2 + (y_1 - y_0)^2}\n",
        "\\end{equation}\n",
        "\n",
        "We can repeat this same procedure for each pair of points sequentially until we reach $(x_{N-1}, y_{N-1})$, whose straight line path will end at $(x_0, y_0)$. By summing up each of these straight line paths, we will get the perimeter of the shape.\n",
        "\n",
        "**Your task:** Write a function that takes in a series of ordered pairs $(x_i, y_i)$ and outputs the perimeter of the polygon traced out by straight-line paths connecting those points. Check that your function works by using a square with $N = 4$ points; its perimeter should be:\n",
        "\n",
        "\\begin{equation}\n",
        "4\\sqrt{0.5^2 + 0.5^2} = 2.8284271247461903\n",
        "\\end{equation}\n",
        "\n",
        "Save this to `archimedes.py`."
      ]
    },
    {
      "cell_type": "code",
      "execution_count": null,
      "id": "442d3f74",
      "metadata": {
        "id": "442d3f74"
      },
      "outputs": [],
      "source": [
        "# YOUR CODE HERE"
      ]
    },
    {
      "cell_type": "markdown",
      "id": "e32aa0f2",
      "metadata": {
        "id": "e32aa0f2"
      },
      "source": [
        "**Your task:** Finally, we'll use these two functions to approximate $\\pi$. Use `archimedes` to calculate the perimeters of 200 $N$-sided circumscribed polygons, with $N = [4, 4^8]$. Plot these perimeters versus $N$ on a loglog plot along with a dashed horizontal line at $y=\\pi$. How does the estimate compare? How quickly does it converge to $\\pi$?"
      ]
    },
    {
      "cell_type": "code",
      "execution_count": null,
      "id": "c6946c6c",
      "metadata": {
        "id": "c6946c6c"
      },
      "outputs": [],
      "source": [
        "# YOUR CODE HERE"
      ]
    }
  ],
  "metadata": {
    "kernelspec": {
      "display_name": "Python 3 (ipykernel)",
      "language": "python",
      "name": "python3"
    },
    "language_info": {
      "codemirror_mode": {
        "name": "ipython",
        "version": 3
      },
      "file_extension": ".py",
      "mimetype": "text/x-python",
      "name": "python",
      "nbconvert_exporter": "python",
      "pygments_lexer": "ipython3",
      "version": "3.9.16"
    },
    "colab": {
      "provenance": []
    }
  },
  "nbformat": 4,
  "nbformat_minor": 5
}