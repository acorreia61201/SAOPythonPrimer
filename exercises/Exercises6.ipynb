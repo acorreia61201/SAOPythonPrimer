{
 "cells": [
  {
   "cell_type": "markdown",
   "id": "58f2c2c5",
   "metadata": {},
   "source": [
    "# SAO/LIP Python Primer Course Exercise Set 6\n",
    "\n",
    "[![Open In Colab](https://colab.research.google.com/assets/colab-badge.svg)](https://colab.research.google.com/github/acorreia61201/SAOPythonPrimer/blob/main/exercises/Exercises6.ipynb)\n",
    "\n",
    "## Exercise 1: Basic Plotting\n",
    "\n",
    "To start, we'll generate some basic plots so you can get the hang of using `matplotlib`. You may change the size of each figure \n",
    "\n",
    "**Your task:** Generate a plot of $|x|$ over $x = [-5, 5]$. No modifications needed."
   ]
  },
  {
   "cell_type": "code",
   "execution_count": 1,
   "id": "2f282751",
   "metadata": {},
   "outputs": [],
   "source": [
    "# YOUR CODE HERE"
   ]
  },
  {
   "cell_type": "markdown",
   "id": "36d3a3c0",
   "metadata": {},
   "source": [
    "**Your task:** Generate a plot containing $x^3$ and $3x^2$ over $x = [-5, 5]$. Make $x^3$ a blue solid line and $3x^2$ an orange dashed line, and label them \"y\" and \"dy/dx\" respectively. Place the legend in the top left."
   ]
  },
  {
   "cell_type": "code",
   "execution_count": null,
   "id": "9d968fb6",
   "metadata": {},
   "outputs": [],
   "source": [
    "# YOUR CODE HERE"
   ]
  },
  {
   "cell_type": "markdown",
   "id": "cb4a67db",
   "metadata": {},
   "source": [
    "**Your task:** Generate a scatterplot of $\\tan(x)$ on the range $[-\\pi, \\pi]$ (`matplotlib` automatically handles the asymptotes). Make the points red circles. Add dashed grey lines at the asymptotes $x = -\\pi/2, \\pi/2$. Adjust the x ticks so that they mark every half-integer multiple of $\\pi$ (i.e. $-\\pi$, $-\\pi/2$, 0,...)."
   ]
  },
  {
   "cell_type": "code",
   "execution_count": null,
   "id": "8813f576",
   "metadata": {},
   "outputs": [],
   "source": [
    "# YOUR CODE HERE"
   ]
  },
  {
   "cell_type": "markdown",
   "id": "e39fb3f5",
   "metadata": {},
   "source": [
    "**Your task:** Generate an array of 5000 randomly sampled points from a normal distribution with mean 0 and variance 1 (use `numpy.random.normal()`; see the docs at https://numpy.org/doc/stable/reference/random/generated/numpy.random.normal.html). Generate a histogram with 20 bins using this data."
   ]
  },
  {
   "cell_type": "code",
   "execution_count": 2,
   "id": "92be9951",
   "metadata": {},
   "outputs": [],
   "source": [
    "# YOUR CODE HERE"
   ]
  },
  {
   "cell_type": "markdown",
   "id": "8577d983",
   "metadata": {},
   "source": [
    "**Your task:** Generate a figure with two plots next to each other as follows:\n",
    "\n",
    "- The plot on the left should be a scatterplot of $1/x$ over the range $[-5, 5]$. The points should be orange triangles. Plot a grey dotted line at the horizontal asymptote and a green dashed line at the vertical asymptote (the asymptotes of $1/x$ are $x=0, y=0$). Set the y-axis to the range $[-5, 5]$. Title this plot \"Scatterplot\".\n",
    "- The plot on the right should be a 2D histogram, where each axis is a series of 5000 points sampled from a normal distribution. The x-axis should have 30 bins, and the y-axis should have 15 bins. Title this plot \"Histogram\"."
   ]
  },
  {
   "cell_type": "code",
   "execution_count": 3,
   "id": "1787bb33",
   "metadata": {},
   "outputs": [],
   "source": [
    "# YOUR CODE HERE"
   ]
  },
  {
   "cell_type": "markdown",
   "id": "77659fb7",
   "metadata": {},
   "source": [
    "## Exercise 2: Freefall Motion, revisited\n",
    "\n",
    "Recall the one-dimensional equation of motion of an object in freefall near the surface of Earth:\n",
    "\n",
    "\\begin{equation}\n",
    "y(t) = y_0 + v_{y,0}t + \\frac{1}{2}gt^2\n",
    "\\end{equation}\n",
    "\n",
    "Here, $y$ is the position of the object at time $t$, $y_0$ and $v_{y,0}$ are the initial position and time of the object (at time $t=0$, and $g = -9.81 m/s^2$ is the acceleration due to gravity near the Earth's surface. Let's plot a series of scenarios.\n",
    "\n",
    "**Your task:** If I drop a ball off a roof 200 m high, how long will it take to hit the ground? To \"solve\" this, generate a plot over $t=[0, 10]$ and use the above equation to compute the positions. Draw a dashed grey line at $y=0$ to signify the ground; the solution will be the point at which the solid line intersects this dashed line. Label the y-axis 'y (m)' and the x-axis 't (s)'. You can check with your result from Exercise Set 1."
   ]
  },
  {
   "cell_type": "code",
   "execution_count": 5,
   "id": "ccccfffb",
   "metadata": {},
   "outputs": [],
   "source": [
    "# YOUR CODE HERE"
   ]
  },
  {
   "cell_type": "markdown",
   "id": "ce4ab188",
   "metadata": {},
   "source": [
    "**Your task:** What if I instead threw the ball upwards at $10 m/s$ from a 150 m tall building? Generate a plot as you did above with this new setup, again drawing a dashed line at $y=0$."
   ]
  },
  {
   "cell_type": "code",
   "execution_count": 6,
   "id": "a5318e7b",
   "metadata": {},
   "outputs": [],
   "source": [
    "# YOUR CODE HERE"
   ]
  },
  {
   "cell_type": "markdown",
   "id": "c923e2c3",
   "metadata": {},
   "source": [
    "Let's compare the positions in these scenarios to the velocity of the ball, which you may recall can be calculated as follows:\n",
    "\n",
    "\\begin{equation}\n",
    "v_y(y) = v_{y,0} + gt\n",
    "\\end{equation}\n",
    "\n",
    "**Your task:** What if I threw the ball upwards at $15 m/s$ from a 180 m tall building? Generate two plots, with the top plot showing the position of the ball over time and the bottom plot showing the velocity over time. Draw a horizontal dotted line at $v = 0$ on the velocity plot; this signifies the time at which the ball reaches its maximum height. Label the top y-axis 'y (m)', the bottom y-axis 'v (m/s)', and the bottom x-axis 't (s)'."
   ]
  },
  {
   "cell_type": "code",
   "execution_count": null,
   "id": "57e1a55c",
   "metadata": {},
   "outputs": [],
   "source": [
    "# YOUR CODE HERE"
   ]
  },
  {
   "cell_type": "markdown",
   "id": "944d802e",
   "metadata": {},
   "source": [
    "## Exercise 3: Verifying Series Approximations\n",
    "\n",
    "There are a couple ways that we can verify the series approximations we've been doing.\n",
    "\n",
    "**Your task:** Let's use the following series:\n",
    "\n",
    "\\begin{equation}\n",
    "\\cos(x) = \\sum_{n=0}^\\infty (-1)^n \\frac{x^{2n}}{(2n)!}\n",
    "\\end{equation}\n",
    "\n",
    "Write a function that calculates this series approximation for an array of $x$ values."
   ]
  },
  {
   "cell_type": "code",
   "execution_count": 7,
   "id": "a6a6b159",
   "metadata": {},
   "outputs": [],
   "source": [
    "# YOUR CODE HERE"
   ]
  },
  {
   "cell_type": "markdown",
   "id": "966208f3",
   "metadata": {},
   "source": [
    "One way we can verify the series approximation is by plotting each term's function.\n",
    "\n",
    "**Your task:** Calculate the first 5 terms of the above series over the range $[-2\\pi, 2\\pi]$. Plot these functions as well as $\\cos(x)$, which you should plot with a thick black line, on the given range. Label each term by its $n$ value. Set the y-limit to $[-1.5, 1.5]$ so the actual function remains visible."
   ]
  },
  {
   "cell_type": "code",
   "execution_count": 22,
   "id": "1a29306b",
   "metadata": {},
   "outputs": [],
   "source": [
    "# YOUR CODE HERE"
   ]
  },
  {
   "cell_type": "markdown",
   "id": "252b96f5",
   "metadata": {},
   "source": [
    "We can also compute the error between the real function and its series approximation at each term.\n",
    "\n",
    "**Your task:** Calculate the series approximation to $\\cos(x)$ for the first 30 terms for $x=\\pi/2$. For each term, evaluate the absolute value of the difference between $cos(\\pi/2)$ and the term. Make a plot where the x values are the term numbers and the y values are the absolute differences. Draw a horiontal line at $y=0$; the series should approach this value."
   ]
  },
  {
   "cell_type": "code",
   "execution_count": 23,
   "id": "f87b0b75",
   "metadata": {},
   "outputs": [],
   "source": [
    "# YOUR CODE HERE"
   ]
  },
  {
   "cell_type": "markdown",
   "id": "c0b4d34c",
   "metadata": {},
   "source": [
    "**Your task:** In the analysis above, generate a second plot below the first in the same figure, this time evaluating at $x = 2\\pi$. Does the absolute difference still converge to zero? Is it faster or slower than at $x=\\pi/2$?"
   ]
  },
  {
   "cell_type": "code",
   "execution_count": 24,
   "id": "db8ab4e0",
   "metadata": {},
   "outputs": [],
   "source": [
    "# YOUR CODE HERE"
   ]
  },
  {
   "cell_type": "markdown",
   "id": "7a846dd9",
   "metadata": {},
   "source": [
    "## Exercise 4: Computational Derivatives\n",
    "\n",
    "Another problem that's tricky to implement on a computer is *differentiation*. For most functions, calculating derivatives by hand is trivial using basic calculus principles. However, as with many problems, we need an algorithm to \"tell\" the computer how to differentiate. One way to evaluate derivatives is with the *finite difference method*:\n",
    "\n",
    "\\begin{equation}\n",
    "\\frac{dy}{dx}\\bigg|_{x=a} = \\lim_{\\Delta x \\rightarrow 0}\\frac{y(a + \\Delta x) - y(a)}{\\Delta x}\n",
    "\\end{equation}\n",
    "\n",
    "The left-hand side reads \"the derivative of $y$ with respect to $x$ evaluated at $x=a$. $\\Delta x$ is a parameter that we control; as $\\Delta x$ approaches zero, the equation on the right should approach the equation on the left.\n",
    "\n",
    "**Your task:** Write a function that takes in a function `y` and two values $a$ and $\\Delta x$ and outputs the derivative of $y(a)$. Test this with some functions with simple derivatives like $x^2$ or $e^x$."
   ]
  },
  {
   "cell_type": "code",
   "execution_count": 25,
   "id": "38086d37",
   "metadata": {},
   "outputs": [],
   "source": [
    "# YOUR CODE HERE"
   ]
  },
  {
   "cell_type": "markdown",
   "id": "6998c6db",
   "metadata": {},
   "source": [
    "Let's try doing a more robust test by plotting the function we get out.\n",
    "\n",
    "**Your task:** Evaluate the derivative of $e^x$ at 100 values in the range $a = (-3, 3)$ with $\\Delta x = 0.01$. Plot these values as a scatterplot with red circles. Also plot $e^x$ as a solid blue line. As you probably know, $e^x$ is a function whose derivative is itself; is that the case here? Play around with the $\\Delta x$ value; how does increasing or decreasing it change the fit?"
   ]
  },
  {
   "cell_type": "code",
   "execution_count": null,
   "id": "0b3da8d3",
   "metadata": {},
   "outputs": [],
   "source": [
    "# YOUR CODE HERE"
   ]
  },
  {
   "cell_type": "markdown",
   "id": "93a97576",
   "metadata": {},
   "source": [
    "Now, let's see how changing $\\Delta x$ changes the fit.\n",
    "\n",
    "**Your task:** Define the following as a function:\n",
    "\n",
    "\\begin{equation}\n",
    "y(x) = \\frac{1}{\\sqrt{2\\pi}} e^{-x^2/2}\n",
    "\\end{equation}\n",
    "\n",
    "Now, define an array of 100 points in the range $\\Delta x = [10^{-6}, 10^{-1}]$ using `numpy.geomspace()`. Calculate the derivative of the above equation using your finite difference function over your array, fixing $a = 1$. "
   ]
  },
  {
   "cell_type": "code",
   "execution_count": 42,
   "id": "ca1e4622",
   "metadata": {},
   "outputs": [],
   "source": [
    "# YOUR CODE HERE"
   ]
  },
  {
   "cell_type": "markdown",
   "id": "161c02d7",
   "metadata": {},
   "source": [
    "The derivative of the above expression is (you can check this using the chain rule):\n",
    "\n",
    "\\begin{equation}\n",
    "y'(x) = -\\frac{xe^{-x^2/2}}{\\sqrt{2\\pi}} \n",
    "\\end{equation}\n",
    "\n",
    "Using the derivative values you obtained above, evaluate the absolute difference between this equation evaluated at $x=1$ and those values. Plot the log of the absolute differences versus $\\log \\Delta x$, labelling the axes accordingly. Your results should approach some very small value on the left hand side; is that the case here?"
   ]
  },
  {
   "cell_type": "code",
   "execution_count": 43,
   "id": "ac24d11f",
   "metadata": {},
   "outputs": [],
   "source": [
    "# YOUR CODE HERE"
   ]
  },
  {
   "cell_type": "markdown",
   "id": "a750229e",
   "metadata": {},
   "source": [
    "## Exercise 5: Comparing Numerical Integrators\n",
    "\n",
    "Let's use a plot to compare how well the trapezoidal and Monte-Carlo methods of computing integrals approximate their true values. \n",
    "\n",
    "I've given you a function `trapezoidal` since you've already done this in a previous exercise (how does yours compare?):"
   ]
  },
  {
   "cell_type": "code",
   "execution_count": 44,
   "id": "e1dee096",
   "metadata": {},
   "outputs": [],
   "source": [
    "def trapezoidal(f, a, b, n):\n",
    "    '''\n",
    "    Evaluate an integral using the trapezoidal rule.\n",
    "    \n",
    "    f: the function to integrate\n",
    "    a, b: the lower and upper bounds of integration\n",
    "    n: the number of points, or one more than the number of trapezoids, to generate\n",
    "    '''\n",
    "    vals = np.linspace(a, b, n) # generate sample points\n",
    "    dx = (b-a)/(n-1)            # spaces between points\n",
    "    integral = f(a) + f(b)      # evaluate the first and last points\n",
    "    for i in range(1, n-1):     # iterate from f(x_1) to f(x_(n-2)) (f(x(n-1)) = b)\n",
    "        integral += 2*f(a+i*dx) # middle terms; x_i = a + i*dx\n",
    "    return dx*integral/2        # trapezoidal estimate"
   ]
  },
  {
   "cell_type": "markdown",
   "id": "638729bd",
   "metadata": {},
   "source": [
    "The Monte-Carlo method is slightly different. Now, if we want to integrate a function, we can use the approximation:\n",
    "\n",
    "\\begin{equation}\n",
    "\\int^b_a f(x) dx = \\frac{b-a}{N} \\sum_{i=0}^\\infty f(x_i)\n",
    "\\end{equation}\n",
    "\n",
    "In essence, we're generating an array of $N$ random points in the range $[a, b]$, summing up the values of the function at those points, and multiplying by the \"volume\" element $(b-a)$ and dividing by $N$.\n",
    "\n",
    "**Your task:** Write a function that computes the Monte-Carlo integral for a given function."
   ]
  },
  {
   "cell_type": "code",
   "execution_count": null,
   "id": "491c7688",
   "metadata": {},
   "outputs": [],
   "source": [
    "# YOUR CODE HERE"
   ]
  },
  {
   "cell_type": "markdown",
   "id": "d9dcb0f5",
   "metadata": {},
   "source": [
    "**Your task:** Generate a range of 50 $n$ values over $[10, 10^6]$ using `numpy.geomspace()`. Use the trapezoidal method to estimate the integral of the normal distribution function that you defined earlier:\n",
    "\n",
    "\\begin{equation}\n",
    "f(x) = \\frac{1}{\\sqrt{2\\pi}} e^{-x^2/2}\n",
    "\\end{equation}\n",
    "\n",
    "Integrate over the range $x = [-2, 2]$ using the array of $n$ values you've defined. Save the results to a list for later."
   ]
  },
  {
   "cell_type": "code",
   "execution_count": 45,
   "id": "dc2d6617",
   "metadata": {},
   "outputs": [],
   "source": [
    "# YOUR CODE HERE"
   ]
  },
  {
   "cell_type": "markdown",
   "id": "09ba5aa8",
   "metadata": {},
   "source": [
    "**Your task:** Do the same as above, except using the Monte-Carlo method."
   ]
  },
  {
   "cell_type": "code",
   "execution_count": 46,
   "id": "c89204fc",
   "metadata": {},
   "outputs": [],
   "source": [
    "# YOUR CODE HERE"
   ]
  },
  {
   "cell_type": "markdown",
   "id": "aa6b4426",
   "metadata": {},
   "source": [
    "**Your task:** The true value of the integral is 0.954499736... Calculate the absolute errors between your calculated values and the true value. Plot the trapezoidal and Monte-Carlo absolute errors on one loglog plot. Label both lines with their appropriate methods, the x-axis as \"n\", and the y-axis as \"absolute error\". Both should approach a very small value as $n$ increases; is that the case? Does either appear to be better?"
   ]
  },
  {
   "cell_type": "code",
   "execution_count": null,
   "id": "39a27a6c",
   "metadata": {},
   "outputs": [],
   "source": [
    "# YOUR CODE HERE"
   ]
  }
 ],
 "metadata": {
  "kernelspec": {
   "display_name": "Python 3 (ipykernel)",
   "language": "python",
   "name": "python3"
  },
  "language_info": {
   "codemirror_mode": {
    "name": "ipython",
    "version": 3
   },
   "file_extension": ".py",
   "mimetype": "text/x-python",
   "name": "python",
   "nbconvert_exporter": "python",
   "pygments_lexer": "ipython3",
   "version": "3.9.16"
  }
 },
 "nbformat": 4,
 "nbformat_minor": 5
}
