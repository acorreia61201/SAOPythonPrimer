{
 "cells": [
  {
   "cell_type": "markdown",
   "id": "a1bcaecf",
   "metadata": {},
   "source": [
    "# SAO/LIP Python Primer Course Exercise Set 12\n",
    "\n",
    "[![Open In Colab](https://colab.research.google.com/assets/colab-badge.svg)](https://colab.research.google.com/github/acorreia61201/SAOPythonPrimer/blob/main/exercises/Exercises12.ipynb)"
   ]
  },
  {
   "cell_type": "markdown",
   "id": "43ca2512",
   "metadata": {},
   "source": [
    "## Exercise: Writing an Integration Module\n",
    "\n",
    "This exercise has been adapted from the original version of lecture 12. You'll be using the trapezoidal and Monte-Carlo methods of integration that we've been using throughout the exercises thus far.\n",
    "\n",
    "1. Write a class called `Trapezoidal1D` that:\n",
    "    a. Takes two argument upon initialization: a function and the number of samples to use.\n",
    "    b. Defines an `integrate` method that takes as input the limits to integrate between and calculates the integral of the function using the [trapezoidal rule](https://en.wikipedia.org/wiki/Trapezoidal_rule).\n",
    "    \n",
    "For example, if you define the function:\n",
    "\n",
    "```python\n",
    "def f(x):\n",
    "    return 1/(1+x*x)\n",
    "```\n",
    "\n",
    "Then you should be able initialize your class and integrate between -1 and 1 with:\n",
    "\n",
    "```python\n",
    "numerical_integrator = Trapezoidal1D(f, 100000)\n",
    "numerical_integrator.integrate(-1, 1)\n",
    "```"
   ]
  },
  {
   "cell_type": "code",
   "execution_count": null,
   "id": "3c67fad1",
   "metadata": {},
   "outputs": [],
   "source": [
    "# YOUR CODE HERE"
   ]
  },
  {
   "cell_type": "markdown",
   "id": "4e40a137",
   "metadata": {},
   "source": [
    "2. Write an abstract base class called `Integral1D` that defines a common API for all 1D integral classes. This class should:\n",
    "\n",
    " * Have the same `__init__` as the `Trapezoidal1D` you defined in (1).\n",
    " * Define an abstract method called `integrate` that takes in the limits."
   ]
  },
  {
   "cell_type": "code",
   "execution_count": null,
   "id": "3f6cfcba",
   "metadata": {},
   "outputs": [],
   "source": [
    "# YOUR CODE HERE"
   ]
  },
  {
   "cell_type": "markdown",
   "id": "467d74ee",
   "metadata": {},
   "source": [
    "3. Modify `Trapezoidal1D` so that it inherits from `Integral1D`. You should be able to drop `Trapezoidal`'s `__init__` method since it will use the one in `Integral1D`."
   ]
  },
  {
   "cell_type": "code",
   "execution_count": null,
   "id": "e302b77b",
   "metadata": {},
   "outputs": [],
   "source": [
    "# YOUR CODE HERE"
   ]
  },
  {
   "cell_type": "markdown",
   "id": "1bbe5ee8",
   "metadata": {},
   "source": [
    "4. Write a class called `MonteCarlo1D` that:\n",
    "  * Inherits from `Integral1D`.\n",
    "  * Implements [Monte Carlo integration](https://en.wikipedia.org/wiki/Monte_Carlo_integration) in it's `integral` method using the `N` samples instead of the trapezoidal rule.\n",
    "  \n",
    "In other words, using the function `f` above, you should be able to integrate between -1 and 1 with:\n",
    "\n",
    "```python\n",
    "numerical_integrator = MoneCarlo1D(f, 100000)\n",
    "numerical_integrator.integrate(-1, 1)\n",
    "```"
   ]
  },
  {
   "cell_type": "code",
   "execution_count": null,
   "id": "4d016bc2",
   "metadata": {},
   "outputs": [],
   "source": [
    "# YOUR CODE HERE"
   ]
  }
 ],
 "metadata": {
  "kernelspec": {
   "display_name": "Python 3 (ipykernel)",
   "language": "python",
   "name": "python3"
  },
  "language_info": {
   "codemirror_mode": {
    "name": "ipython",
    "version": 3
   },
   "file_extension": ".py",
   "mimetype": "text/x-python",
   "name": "python",
   "nbconvert_exporter": "python",
   "pygments_lexer": "ipython3",
   "version": "3.9.16"
  }
 },
 "nbformat": 4,
 "nbformat_minor": 5
}
