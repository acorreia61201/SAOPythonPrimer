{
 "cells": [
  {
   "cell_type": "markdown",
   "id": "9f5e8456",
   "metadata": {},
   "source": [
    "## Exercise 3: Numerical Integration\n",
    "\n",
    "Another common problem that require an algorithmic treatment on computers is *integration*, which most basically is the method of computing the areas under arbitrary curves. While integration can be relatively simple to do by-hand, computational integration requires a bit more thought to implement. \n",
    "\n",
    "Fortunately, there are several tried-and-true methods to approximate integrals algorithmically. One of these methods is the *trapezoidal method*, which calculates the area under a curve using trapezoids that approximate the true function. (If you're unfamiliar, see https://en.wikipedia.org/wiki/Trapezoidal_rule for some pictoral examples.) \n",
    "\n",
    "If we want to integrate a function $f(x)$ on an interval $(a, b)$, we can instead divide the interval into a series of $N$ trapezoids of equal width $\\Delta x$. The \"tilted\" side of the trapezoid is a linear fit to the left and right bounds of the trapezoid. Using this concept, we can write an algorithm to approximate an integral as:\n",
    "\n",
    "\\begin{equation}\n",
    "\\int_a^b f(x) dx \\approx \\frac{\\Delta x}{2} \\big(f(x_0) + 2f(x_1) + 2f(x_2) + 2f(x_3) + ... + f(x_N) \\big)\n",
    "\\end{equation}\n",
    "\n",
    "For this exercise, you can take:\n",
    "\n",
    "\\begin{equation}\n",
    "\\Delta x = \\frac{b-a}{N}\n",
    "\\end{equation}\n",
    "\n",
    "**Your task:** We'll construct a function to apply the trapezoidal rule piecewise. I've started off a function below that takes the inputs $f(x), a, b, N$ as defined above"
   ]
  }
 ],
 "metadata": {
  "kernelspec": {
   "display_name": "Python 3 (ipykernel)",
   "language": "python",
   "name": "python3"
  },
  "language_info": {
   "codemirror_mode": {
    "name": "ipython",
    "version": 3
   },
   "file_extension": ".py",
   "mimetype": "text/x-python",
   "name": "python",
   "nbconvert_exporter": "python",
   "pygments_lexer": "ipython3",
   "version": "3.9.16"
  }
 },
 "nbformat": 4,
 "nbformat_minor": 5
}
