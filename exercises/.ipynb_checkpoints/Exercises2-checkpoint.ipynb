{
 "cells": [
  {
   "cell_type": "markdown",
   "id": "a7d55e82",
   "metadata": {},
   "source": [
    "# SAO/LIP Python Primer Course Exercise Set 2\n",
    "\n",
    "[![Open In Colab](https://colab.research.google.com/assets/colab-badge.svg)](https://colab.research.google.com/github/acorreia61201/SAOPythonPrimer/blob/main/lectures/Lecture2.ipynb)\n",
    "\n",
    "## Exercise 1: Logic gates\n",
    "\n",
    "Let's get a little practice with Boolean logic by constructing the basic logic gates.\n",
    "\n",
    "**Your task:** I've started off some functions below to represent the basic logic gates. If you don't know how Python functions work, don't worry; we'll cover them in the next lecture. All you have to do is replace the comments after `return` with your code. Using the `not`, `and`, and `or` operators, construct the logic gates below. Check your answers in the subsequent cells (you can check with the truth tables at https://en.wikipedia.org/wiki/Logic_gate#Symbols; a \"0\" means `False` and a \"1\" means `True`. I've filled out an example using `and`:"
   ]
  },
  {
   "cell_type": "code",
   "execution_count": null,
   "id": "0d9a8be1",
   "metadata": {},
   "outputs": [],
   "source": [
    "def and_gate(a, b):\n",
    "    return a and b"
   ]
  },
  {
   "cell_type": "code",
   "execution_count": null,
   "id": "07454774",
   "metadata": {},
   "outputs": [],
   "source": [
    "print(and_gate(True, True))\n",
    "print(and_gate(True, False))\n",
    "print(and_gate(False, True))\n",
    "print(and_gate(False, False))"
   ]
  },
  {
   "cell_type": "code",
   "execution_count": null,
   "id": "ef0e884a",
   "metadata": {},
   "outputs": [],
   "source": [
    "def nand(a, b):\n",
    "    '''\n",
    "    This gate is the \"not and\" gate: it returns False if both inputs are true and True otherwise.\n",
    "    '''\n",
    "    return # YOUR CODE HERE"
   ]
  },
  {
   "cell_type": "code",
   "execution_count": null,
   "id": "72821e6a",
   "metadata": {},
   "outputs": [],
   "source": [
    "print(nand(True, True))\n",
    "print(nand(True, False))\n",
    "print(nand(False, True))\n",
    "print(nand(False, False))"
   ]
  },
  {
   "cell_type": "code",
   "execution_count": null,
   "id": "0a41e359",
   "metadata": {},
   "outputs": [],
   "source": [
    "def nor(a, b):\n",
    "    '''\n",
    "    This gate is the \"not or\" gate: it returns True if both inputs are false and False otherwise.\n",
    "    '''\n",
    "    return # YOUR CODE HERE"
   ]
  },
  {
   "cell_type": "code",
   "execution_count": null,
   "id": "0bf37880",
   "metadata": {},
   "outputs": [],
   "source": [
    "print(nor(True, True))\n",
    "print(nor(True, False))\n",
    "print(nor(False, True))\n",
    "print(nor(False, False))"
   ]
  },
  {
   "cell_type": "code",
   "execution_count": null,
   "id": "c0c321d8",
   "metadata": {},
   "outputs": [],
   "source": [
    "def xor(a, b):\n",
    "    '''\n",
    "    The exclusive or gate. This gate returns True if the inputs are opposite (i.e. a is True and b is False) and False\n",
    "    otherwise.\n",
    "    \n",
    "    Hint: Start by writing an and statement that's false when the inputs are the same. Negating the inputs will give\n",
    "    the same truth values if the inputs are the same, but will invert the truth values if they're different. \n",
    "    '''\n",
    "    return # YOUR CODE HERE"
   ]
  },
  {
   "cell_type": "code",
   "execution_count": null,
   "id": "8298c5a7",
   "metadata": {},
   "outputs": [],
   "source": [
    "print(xor(True, True))\n",
    "print(xor(True, False))\n",
    "print(xor(False, True))\n",
    "print(xor(False, False))"
   ]
  },
  {
   "cell_type": "code",
   "execution_count": null,
   "id": "31bc3f2c",
   "metadata": {},
   "outputs": [],
   "source": [
    "def xnor(a, b):\n",
    "    '''\n",
    "    The exclusive nor gate. This gate returns True if the inputs are the same and False otherwise\n",
    "    \n",
    "    Hint: Think of this as the \"not xor\" gate.\n",
    "    '''\n",
    "    return # YOUR CODE HERE"
   ]
  },
  {
   "cell_type": "code",
   "execution_count": null,
   "id": "6029d5c7",
   "metadata": {},
   "outputs": [],
   "source": [
    "print(xnor(True, True))\n",
    "print(xnor(True, False))\n",
    "print(xnor(False, True))\n",
    "print(xnor(False, False))"
   ]
  },
  {
   "cell_type": "markdown",
   "id": "870046bf",
   "metadata": {},
   "source": [
    "## Exercise 2: Manipulating Strings\n",
    "\n",
    "Let's get in some practice manipulating the elements in lists. Recall the `list()` function that we used to copy the contents of one list to another. We can also use it to convert strings to lists. Try it below; you should end up with a list containing the individual letters in `'true'`:"
   ]
  },
  {
   "cell_type": "code",
   "execution_count": null,
   "id": "980429fb",
   "metadata": {},
   "outputs": [],
   "source": [
    "str_list = list('true')\n",
    "str_list"
   ]
  },
  {
   "cell_type": "markdown",
   "id": "320c1b0e",
   "metadata": {},
   "source": [
    "**Your task:** Add and change elements in `str_list` so that the individual elements will read `false` (i.e. your final list should look like `['f', 'a', 'l', 's', 'e']`). You may use any of the methods we've discussed to do this (you could even use a `for` loop; can you figure out how?). If you need to start over, simply rerun the cell above."
   ]
  },
  {
   "cell_type": "code",
   "execution_count": null,
   "id": "84a9dd00",
   "metadata": {},
   "outputs": [],
   "source": [
    "# YOUR CODE HERE"
   ]
  },
  {
   "cell_type": "markdown",
   "id": "db1144da",
   "metadata": {},
   "source": [
    "So far, we've only used the `+` operator on numbers. However, you can also use this to combine strings.\n",
    "\n",
    "**Your task:** Use a `for` loop and the `+` operator to combine your list from the last cell into one string that reads `'false'`."
   ]
  },
  {
   "cell_type": "code",
   "execution_count": null,
   "id": "8da20b99",
   "metadata": {},
   "outputs": [],
   "source": [
    "# YOUR CODE HERE"
   ]
  },
  {
   "cell_type": "markdown",
   "id": "5051eee8",
   "metadata": {},
   "source": [
    "**Your task:** Now, for completeness, let's do the reverse. Convert the string `'false'` to `'true'` by converting the string to a list, changing the elements, and combining the elements into one string."
   ]
  },
  {
   "cell_type": "code",
   "execution_count": null,
   "id": "55f6772f",
   "metadata": {},
   "outputs": [],
   "source": [
    "# YOUR CODE HERE"
   ]
  },
  {
   "cell_type": "markdown",
   "id": "0c04fe7b",
   "metadata": {},
   "source": [
    "## Exercise 3: Evaluating a Series\n",
    "\n",
    "One common problem in programming is calculating the exact value of a function. As we've seen with floating-point errors, computers generally don't calculate exact values for functions when possible to maximize performance. One method to evaluate functions is by using their *series approximations*, which approximate the function to a summation of terms.\n",
    "\n",
    "We'll start by approximating the value of $\\pi$, one of the most well-recognized mathematical constants. Specifically, we'll use a famous series that converges to a value related to $\\pi$:\n",
    "\n",
    "\\begin{equation}\n",
    "\\frac{\\pi^2}{6} = \\sum_{n=1}^\\infty \\frac{1}{n^2}\n",
    "\\end{equation}\n",
    "\n",
    "If you're unfamiliar with the notation, the large symbol on the left (the *sigma*) represents a summation from $n=1$ to infinity. The above formula can be rewritten as:\n",
    "\n",
    "\\begin{equation}\n",
    "\\frac{\\pi^2}{6} = \\frac{1}{1} + \\frac{1}{4} + \\frac{1}{9} + \\cdots\n",
    "\\end{equation}\n",
    "\n",
    "**Your task:** Use a `for` loop to approximate the value of $\\pi^2/6$ to 10 terms. The exact value is $\\pi^2/6 = 1.6449340668...$ How does your result compare?"
   ]
  },
  {
   "cell_type": "code",
   "execution_count": null,
   "id": "e4cd32b4",
   "metadata": {},
   "outputs": [],
   "source": [
    "# YOUR CODE HERE"
   ]
  },
  {
   "cell_type": "markdown",
   "id": "e0cd61b2",
   "metadata": {},
   "source": [
    "We can use a slightly more complicated, less well-known series to approximate $\\pi$ directly:\n",
    "\n",
    "\\begin{equation}\n",
    "\\pi = \\sum_{n=1}^\\infty (-1)^{n+1} \\frac{4}{2n+1}\n",
    "\\end{equation}\n",
    "\n",
    "**Your task:** Use a `for` loop to approximate the value of $\\pi$ to 10 terms. The exact value is $\\pi = 3.1415926535...$ How does your result compare?"
   ]
  },
  {
   "cell_type": "code",
   "execution_count": null,
   "id": "c571d0dd",
   "metadata": {},
   "outputs": [],
   "source": [
    "# YOUR CODE HERE"
   ]
  },
  {
   "cell_type": "markdown",
   "id": "d28e805d",
   "metadata": {},
   "source": [
    "Next, let's try approximating the value of *Euler's constant $e$*, another one of the most widely-used values in statistics and mathematics. Its value can be approximated using the following formula:\n",
    "\n",
    "\\begin{equation}\n",
    "e = \\sum_{n=0}^\\infty \\frac{1}{n!}\n",
    "\\end{equation}\n",
    "\n",
    "The exclamation mark is a *factorial*, where $n!$ is the product of all integers from 1 to $n$ and $0!$ is defined as 1. Therefore, the above formula can be rewritten as:\n",
    "\n",
    "\\begin{equation}\n",
    "e = 1 + \\frac{1}{1} + \\frac{1}{1 \\times 2} + \\frac{1}{1 \\times 2 \\times 3} + \\cdots\n",
    "\\end{equation}\n",
    "\n",
    "**Your task:** Use a `for` loop to approximate the value of $e$ to 10 terms. For the sake of practice, use a nested `for` loop to evaluate the factorial rather than a builtin.\n",
    "\n",
    "The exact value of Euler's number is $e = 2.7182818284...$ How does your result compare?"
   ]
  },
  {
   "cell_type": "code",
   "execution_count": null,
   "id": "cde10166",
   "metadata": {},
   "outputs": [],
   "source": [
    "# YOUR CODE HERE"
   ]
  },
  {
   "cell_type": "markdown",
   "id": "2fb7c879",
   "metadata": {},
   "source": [
    "## Exercise 4: Triangular Numbers\n",
    "\n",
    "In number theory, a *triangular number* is defined as follows:\n",
    "\n",
    "\\begin{equation}\n",
    "T_n = \\sum_{k=1}^n k = 1 + 2 + 3 + \\cdots + n\n",
    "\\end{equation}\n",
    "\n",
    "Some of these triangular numbers happen to be *perfect squares*, integers that are equal to some other integer times itself. The two smallest square triangular numbers are $T_1 = 1$ and $T_8 = 36 = 6^2$.\n",
    "\n",
    "**Your task:** Write a loop that calculates the first eleven square triangular numbers $N_k$. The easiest way to do this is by using a `while` loop, and on each iteration calculating the triangular number and then checking if it's a perfect square. Save these values to a list. \n",
    "\n",
    "(Hint: You may find two functions useful: `math.floor()`, which rounds down a float to the previous integer, and `math.ceil()` which rounds up a float to the next integer. I've imported them for you in the cell below. If you input a float representation of an integer (e.g. 6.0), these functions will return the same value of 6. Try taking the square root of some square numbers you know to see how this could be useful.)"
   ]
  },
  {
   "cell_type": "code",
   "execution_count": null,
   "id": "0373880c",
   "metadata": {},
   "outputs": [],
   "source": [
    "from math import floor, ceil\n",
    "\n",
    "# YOUR WORK HERE"
   ]
  },
  {
   "cell_type": "markdown",
   "id": "dbb8fc3d",
   "metadata": {},
   "source": [
    "One result of number theory predicts a limiting behavior for square triangular numbers:\n",
    "\n",
    "\\begin{equation}\n",
    "\\lim_{i \\rightarrow \\infty} \\frac{N_{i+1}}{N_i} = (1 + \\sqrt{2})^4\n",
    "\\end{equation}\n",
    "\n",
    "The right-hand expression is a *limit*, and more specifically reads as \"the limit as $i$ goes to infinity\". This means that as $i$ gets larger and larger, the expression on the left will get closer and closer to the expression on the right. The ratio on the left indicates an element in your list divided by its previous neighbor. For example, if $i = 0$, the ratio would be $T_1/T_0$, the second element divided by the first.\n",
    "\n",
    "**Your task:** Write a loop that calculates the ten ratios you get from the first eleven square triangular numbers you saved previously and save them to a list. (Hint: You may need to implement a loop control statement to handle the first or last elements (depending on how your code is configured).)"
   ]
  },
  {
   "cell_type": "code",
   "execution_count": null,
   "id": "ea5c4c6e",
   "metadata": {},
   "outputs": [],
   "source": [
    "# YOUR WORK HERE"
   ]
  },
  {
   "cell_type": "markdown",
   "id": "61cbe9e8",
   "metadata": {},
   "source": [
    "**Your task:** Now, create a new list that stores the values:\n",
    "\n",
    "\\begin{equation}\n",
    "\\bigg| \\frac{N_{i+1}}{N_i} - (1 + \\sqrt{2})^4 \\bigg|\n",
    "\\end{equation}\n",
    "\n",
    "The fraction represents the ratios you calculated in the previous task. The bars represent the *absolute value*, which you can take in Python using the built-in function `abs()`. From the limit equation above, this expression should approach 0 as $i$ increases. Is that the case here?"
   ]
  },
  {
   "cell_type": "code",
   "execution_count": null,
   "id": "8ea79108",
   "metadata": {},
   "outputs": [],
   "source": [
    "# YOUR WORK HERE"
   ]
  }
 ],
 "metadata": {
  "kernelspec": {
   "display_name": "Python 3 (ipykernel)",
   "language": "python",
   "name": "python3"
  },
  "language_info": {
   "codemirror_mode": {
    "name": "ipython",
    "version": 3
   },
   "file_extension": ".py",
   "mimetype": "text/x-python",
   "name": "python",
   "nbconvert_exporter": "python",
   "pygments_lexer": "ipython3",
   "version": "3.9.16"
  }
 },
 "nbformat": 4,
 "nbformat_minor": 5
}
