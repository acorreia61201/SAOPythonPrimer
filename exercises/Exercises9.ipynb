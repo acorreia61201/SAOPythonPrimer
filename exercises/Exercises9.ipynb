{
  "cells": [
    {
      "cell_type": "markdown",
      "id": "c569a012",
      "metadata": {
        "id": "c569a012"
      },
      "source": [
        "# SAO/LIP Python Primer Course Exercise Set 9\n",
        "\n",
        "[![Open In Colab](https://colab.research.google.com/assets/colab-badge.svg)](https://colab.research.google.com/github/acorreia61201/SAOPythonPrimer/blob/main/exercises/Exercises9.ipynb)\n",
        "\n",
        "## Exercise 1: Basic Error Handling\n",
        "\n",
        "Let's see some simple use cases for `try`/`except` statements.\n",
        "\n",
        "Download the data below:"
      ]
    },
    {
      "cell_type": "code",
      "execution_count": null,
      "id": "413201db",
      "metadata": {
        "id": "413201db"
      },
      "outputs": [],
      "source": [
        "!wget https://raw.githubusercontent.com/acorreia61201/SAOPythonPrimer/main/files/randnums.csv"
      ]
    },
    {
      "cell_type": "markdown",
      "id": "40d7718f",
      "metadata": {
        "id": "40d7718f"
      },
      "source": [
        "This dataset contains only one column: a series of 200 random numbers. We'll do a simple analysis of the parity of the numbers in this dataset.\n",
        "\n",
        "**Your task:** Load the data. Iterate over the data and populate a dictionary with entries `number: parity`, where `number` is the number from the dataset and `parity` is either the string 'even' if the number is even or 'odd' if the number is odd. Print some entries in your dictionary to see if it worked."
      ]
    },
    {
      "cell_type": "code",
      "execution_count": null,
      "id": "3c9b373e",
      "metadata": {
        "id": "3c9b373e"
      },
      "outputs": [],
      "source": [
        "# YOUR CODE HERE"
      ]
    },
    {
      "cell_type": "markdown",
      "id": "d674d248",
      "metadata": {
        "id": "d674d248"
      },
      "source": [
        "Oh no...there's a bunch of decimals sprinkled throughout the data. As you may recall, numbers with non-trivial decimals don't have a well-defined parity. The data set is a bit too big to sift through every single value and pick out the decimals by index, so we'll use an assertion instead.\n",
        "\n",
        "**Your task:** Write a function that checks for parity in the same way as you did above, adding a line which asserts that each value is an integer (Hint: Recall that integers return the same `math.ceil()` and `math.floor()` values). Now, use your function to iterate over the data and populate a dictionary. Add a `try`/`except` block that catches the assertion error and enters 'decimal' wherever the key is a decimal."
      ]
    },
    {
      "cell_type": "code",
      "execution_count": null,
      "id": "d6441d89",
      "metadata": {
        "id": "d6441d89"
      },
      "outputs": [],
      "source": [
        "# YOUR CODE HERE"
      ]
    },
    {
      "cell_type": "markdown",
      "id": "4054c231",
      "metadata": {
        "id": "4054c231"
      },
      "source": [
        "## Exercise 2: Series Approximations, revisited\n",
        "\n",
        "Let's see how we can use `try`/`except` and `assert` statements when doing a practical problem. We can make the following approximation:\n",
        "\n",
        "\\begin{equation}\n",
        "\\frac{x}{(1-x)^2} = \\sum_{n=0}^{\\infty} nx^n\n",
        "\\end{equation}\n",
        "\n",
        "**Your task:** Write a function that calculates the series approximation for the expression above up to $n$ terms."
      ]
    },
    {
      "cell_type": "code",
      "execution_count": null,
      "id": "a0762aa7",
      "metadata": {
        "id": "a0762aa7"
      },
      "outputs": [],
      "source": [
        "# YOUR CODE HERE"
      ]
    },
    {
      "cell_type": "markdown",
      "id": "c1fcac96",
      "metadata": {
        "id": "c1fcac96"
      },
      "source": [
        "**Your task:** Generate series approximations for $n=[2, 4, 8, 16]$ terms over the domain $x = [-2, 2]$. Plot the results versus $x$ on one plot along with the exact function. Make the exact function solid black, and label each of the series approximations and axes accordingly. Scale the y-axis to $[-1, 10]$ so you can see the lines better."
      ]
    },
    {
      "cell_type": "code",
      "execution_count": null,
      "id": "1d91539d",
      "metadata": {
        "id": "1d91539d"
      },
      "outputs": [],
      "source": [
        "# YOUR CODE HERE"
      ]
    },
    {
      "cell_type": "markdown",
      "id": "89e5dbce",
      "metadata": {
        "id": "89e5dbce"
      },
      "source": [
        "Looking at the plot, you may notice that the function doesn't converge at all beyond the asymptote at $x=1$. In fact by examining the series, you may be wondering how the series could emulate the left and right sides of the plot at all. The simple answer is that it doesn't. The series approximation is only valid for $|x| < 1$, excluding the bounds to avoid asymptotes.\n",
        "\n",
        "**Your task:** Modify your function above to assert that the input value of `x` is within the valid range for the series approximation. Try to redo the analysis above; you should get an error immediately."
      ]
    },
    {
      "cell_type": "code",
      "execution_count": null,
      "id": "63278b0f",
      "metadata": {
        "id": "63278b0f"
      },
      "outputs": [],
      "source": [
        "# YOUR CODE HERE"
      ]
    },
    {
      "cell_type": "markdown",
      "id": "e93caae1",
      "metadata": {
        "id": "e93caae1"
      },
      "source": [
        "**Your task:** To recreate the previous analysis, write a loop that iterates over the domain $[-2, 2]$ as well as $n=[2, 4, 8, 16]$. Write a `try`/`except` block that handles the assertion errors you'll get. If the function throws an error at an $x$ value, set the corresponding estimate value to `numpy.nan` or `None`. Plot the results as you did before.\n",
        "\n",
        "(Hint: This will be a double-nested loop, where we iterate over the x values within each n value. We'll want to do the error processing while iterating over x, and we only want to plot the result for a given n value once we're done iterating over x.)"
      ]
    },
    {
      "cell_type": "code",
      "execution_count": null,
      "id": "2a1c723c",
      "metadata": {
        "id": "2a1c723c"
      },
      "outputs": [],
      "source": [
        "# YOUR CODE HERE"
      ]
    },
    {
      "cell_type": "markdown",
      "id": "360abf09",
      "metadata": {
        "id": "360abf09"
      },
      "source": [
        "## Exercise 3: Simple Debugging\n",
        "\n",
        "**Your task:** Each of the functions below has a bug. That is, they should output results, just not the correct ones. I've provided a description as to what each function should do; it's up to you to find the bug in each function and correct it. Use the cells to do whatever debugging you need."
      ]
    },
    {
      "cell_type": "code",
      "execution_count": null,
      "id": "64fff1b1",
      "metadata": {
        "id": "64fff1b1"
      },
      "outputs": [],
      "source": [
        "def distance(x, y):\n",
        "    '''\n",
        "    Compute the straight-line distance between two points x and y.\n",
        "\n",
        "    x, y: tuples representing ordered pairs\n",
        "    '''\n",
        "    xdist = x[0]-y[0]\n",
        "    ydist = x[1]+y[1]\n",
        "    return (xdist*xdist + ydist*ydist)**0.5"
      ]
    },
    {
      "cell_type": "code",
      "execution_count": null,
      "id": "2ff9d399",
      "metadata": {
        "id": "2ff9d399"
      },
      "outputs": [],
      "source": [
        "def freefall(t, a, x0=0, v0=0):\n",
        "    '''\n",
        "    Compute the position of an object subject to constant acceleration at a given time\n",
        "\n",
        "    t: time in seconds\n",
        "    a: acceleration in m/s**2\n",
        "    x0: initial position in meters. Default 0\n",
        "    v0: initial velocity in m/s. Default 0 (start at rest)\n",
        "    '''\n",
        "    pos_term = x0\n",
        "    vel_term = v0*t\n",
        "    acc_term = 0.5*a*a*t\n",
        "    return pos_term + vel_term + acc_term"
      ]
    },
    {
      "cell_type": "code",
      "execution_count": null,
      "id": "a39b4ffe",
      "metadata": {
        "id": "a39b4ffe"
      },
      "outputs": [],
      "source": [
        "def convert_line(vals):\n",
        "    '''\n",
        "    Convert between slope-intercept and standard form of a linear equation.\n",
        "\n",
        "    vals: tuple of values. (m, b) if input is slope-intercept form; (A, B, C) if input is standard form.\n",
        "    '''\n",
        "    if len(vals) == 2:\n",
        "        m, b = vals\n",
        "        out_vals = (m, -1, b)\n",
        "    elif len(vals) == 3:\n",
        "        A, B, C = vals\n",
        "        out_vals = (C/B, -A/B)\n",
        "    else:\n",
        "        print('Input must be length 2 for slope-intercept form or length 3 for standard form')\n",
        "        return\n",
        "    return out_vals"
      ]
    },
    {
      "cell_type": "code",
      "execution_count": null,
      "id": "d73f8398",
      "metadata": {
        "id": "d73f8398"
      },
      "outputs": [],
      "source": [
        "import numpy as np\n",
        "\n",
        "def trapezoidal(f, n, a, b):\n",
        "    '''\n",
        "    Compute a definite integral using the trapezoidal rule.\n",
        "\n",
        "    f: function of the integrand\n",
        "    n: number of trapezoids to integrate over\n",
        "    a, b: lower and upper bounds of integration\n",
        "    '''\n",
        "    grid = np.linspace(a, b, n)\n",
        "    dx = (b-a)/(n-1)\n",
        "    integral = f(a) + f(b)\n",
        "    for i in range(1, n-1):\n",
        "        integral += f(grid[i])\n",
        "    return dx*integral/2"
      ]
    },
    {
      "cell_type": "code",
      "execution_count": null,
      "id": "a8621082",
      "metadata": {
        "id": "a8621082"
      },
      "outputs": [],
      "source": [
        "from scipy import integrate\n",
        "import numpy as np\n",
        "\n",
        "def bell(a, b):\n",
        "    '''\n",
        "    Compute the percentage of points that lie between two z-scores in a normalized Gaussian distribution.\n",
        "\n",
        "    a, b: lower and upper bounds, aka z-scores\n",
        "    '''\n",
        "    norm_dist = lambda x: np.exp(-x*x/2)/(2*np.pi)\n",
        "    area = integrate.quad(norm_dist, a, b)\n",
        "    return area"
      ]
    }
  ],
  "metadata": {
    "kernelspec": {
      "display_name": "Python 3 (ipykernel)",
      "language": "python",
      "name": "python3"
    },
    "language_info": {
      "codemirror_mode": {
        "name": "ipython",
        "version": 3
      },
      "file_extension": ".py",
      "mimetype": "text/x-python",
      "name": "python",
      "nbconvert_exporter": "python",
      "pygments_lexer": "ipython3",
      "version": "3.9.16"
    },
    "colab": {
      "provenance": []
    }
  },
  "nbformat": 4,
  "nbformat_minor": 5
}