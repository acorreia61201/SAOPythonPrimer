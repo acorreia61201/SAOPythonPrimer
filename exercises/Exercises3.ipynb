{
 "cells": [
  {
   "cell_type": "markdown",
   "id": "de9d76c0",
   "metadata": {},
   "source": [
    "# SAO/LIP Python Primer Course Exercise Set 3\n",
    "\n",
    "[![Open In Colab](https://colab.research.google.com/assets/colab-badge.svg)](https://colab.research.google.com/github/acorreia61201/SAOPythonPrimer/blob/main/exercises/Exercises3.ipynb)\n",
    "\n",
    "## Exercise 1: Detecting Palindromes\n",
    "\n",
    "A *palindrome* is a word (or number) that reads the same when spelled backwards (e.g. \"racecar\", \"wow\", \"kayak\").\n",
    "\n",
    "**Your task:** Write a function `is_palindrome()` that takes a string as an input and determines whether it is a palindrome. (Hint: try using the `reverse()` method on a string.) The function should print a statement that tells me whether or not the input is a palindrome. Test it with some words to see if it works (numbers expressed as strings should work too)."
   ]
  },
  {
   "cell_type": "code",
   "execution_count": null,
   "id": "2189b2a2",
   "metadata": {},
   "outputs": [],
   "source": [
    "# YOUR CODE HERE"
   ]
  },
  {
   "cell_type": "markdown",
   "id": "760778ea",
   "metadata": {},
   "source": [
    "Palindromes can also include phrases or sentences that include extra punctuation or capitalization. Some examples are \"Madam, I'm Adam\" or \"Step on no pets\".\n",
    "\n",
    "**Your task:** Modify `is_palindrome()` (you can copy it below or modify it above) to make all letters in your string one case (i.e. uppercase or lowercase) and remove punctuation. Save the original string so you can print it out as part of your output. Try it below; the function should work with single words as well as full phrases.\n",
    "\n",
    "(Hint: for the former, you can use the Python built-ins `lower()` or `upper()`, which respectively makes all letters in the string lowercase or uppercase. For the latter, see https://datagy.io/python-remove-punctuation-from-string/ and https://www.geeksforgeeks.org/python-remove-spaces-from-a-string/#. I found it most helpful to use a loop iterating over `string.punctuation` and using the `replace()` method on the strings to remove spaces and punctuation. You'll have to do in-place modifications each time you use `replace()` (i.e. string = string.replace()) to save the changes.)"
   ]
  },
  {
   "cell_type": "code",
   "execution_count": null,
   "id": "7e761f9c",
   "metadata": {},
   "outputs": [],
   "source": [
    "# YOUR CODE HERE"
   ]
  },
  {
   "cell_type": "markdown",
   "id": "bb9714e4",
   "metadata": {},
   "source": [
    "## Exercise 2: Verifying Trig Identities\n",
    "\n",
    "We can verify some common trigonometric identities by plugging some values into them.\n",
    "\n",
    "**Your task:** Generate a list of 21 numbers between $-\\pi$ and $\\pi$. One way you can do this is by generating a range of 21 integers and using a `for` loop to scale each value. (Hint: `range()` may not produce a list, but `list(range())` will.) To practice with iteration and using `range()`, try to refrain from using more convenient methods (e.g. from other libraries); we'll cover them in the next lecture."
   ]
  },
  {
   "cell_type": "code",
   "execution_count": null,
   "id": "4fe05665",
   "metadata": {},
   "outputs": [],
   "source": [
    "# YOUR CODE HERE"
   ]
  },
  {
   "cell_type": "markdown",
   "id": "d536d265",
   "metadata": {},
   "source": [
    "**Your task:** For each trigonometric identity below, write a function that prints \"True\" if the identity is satisfied and \"False\" if not. Then, use a loop to iterate over your list above to check each value. \n",
    "\n",
    "(Hint: Print out your values. You may get some values that look something like `0.999999...` and return `False`. This isn't exactly wrong; this happens due to how computers approximate trig functions, which we'll look at later in this exercise set. Look up `math.isclose()` in the docs at the end of Lecture 3 if you encounter errors like this.)\n",
    "\n",
    "(Hint: `math` doesn't contain all of the trig functions - namely $\\sec$, $\\csc$, and $\\cot$. Use their definitions in relation to $\\sin$, $\\cos$, and $\\tan$ to evaluate them. There is a caveat to this; you will have to add an `if` statement to exclude values where $\\sin$, $\\cos$, and $\\tan$ equal zero to avoid math errors.)\n",
    "\n",
    "\\begin{equation}\n",
    "\\sin^2{x} + \\cos^2{x} = 1\n",
    "\\end{equation}"
   ]
  },
  {
   "cell_type": "code",
   "execution_count": null,
   "id": "707606a8",
   "metadata": {},
   "outputs": [],
   "source": [
    "# YOUR CODE HERE"
   ]
  },
  {
   "cell_type": "markdown",
   "id": "b3254590",
   "metadata": {},
   "source": [
    "\\begin{equation}\n",
    "1 + \\cot^2{x} = \\csc^2{x}\n",
    "\\end{equation}"
   ]
  },
  {
   "cell_type": "code",
   "execution_count": null,
   "id": "c27f42e3",
   "metadata": {},
   "outputs": [],
   "source": [
    "# YOUR CODE HERE"
   ]
  },
  {
   "cell_type": "markdown",
   "id": "26279e4c",
   "metadata": {},
   "source": [
    "\\begin{equation}\n",
    "1 + \\tan^2{x} = \\sec^2{x}\n",
    "\\end{equation}"
   ]
  },
  {
   "cell_type": "code",
   "execution_count": null,
   "id": "f542be25",
   "metadata": {},
   "outputs": [],
   "source": [
    "# YOUR CODE HERE"
   ]
  },
  {
   "cell_type": "markdown",
   "id": "b295298a",
   "metadata": {},
   "source": [
    "## Exercise 3: More on Compound Interest\n",
    "\n",
    "Let's return to compound interest. Recall that if you take out a loan of value $P$ for $t$ years at a compound rate $r$ applied $n$ times per year, the total amound $A$ you will owe to the bank is:\n",
    "\n",
    "\\begin{equation}\n",
    "A = P\\bigg(1 + \\frac{r}{n}\\bigg)^{nt}\n",
    "\\end{equation}\n",
    "\n",
    "**Your task:** Write a function that takes $P, n, r, t$ as inputs and returns the owed value $A$. Test this with values from Exercise Set 1: If I take out a \\\\$1000 loan for 7 years at a compount interest rate of 4\\% applied monthly, how much money will I owe the bank?"
   ]
  },
  {
   "cell_type": "code",
   "execution_count": null,
   "id": "e60fb1e7",
   "metadata": {},
   "outputs": [],
   "source": [
    "# YOUR CODE HERE"
   ]
  },
  {
   "cell_type": "markdown",
   "id": "b1d0fb7f",
   "metadata": {},
   "source": [
    "Compound interest is actually one of the many placed where $e$ shows up. Specifically, as $n$ increases to infinity, the compound interest formula approaches:\n",
    "\n",
    "\\begin{equation}\n",
    "A_{lim} = Pe^{rt}\n",
    "\\end{equation}\n",
    "\n",
    "**Your task:** Modify your function (either copy it below or modify it above) to also calculate the above equation. Have your function return $|A - A_{lim}|$. Use the values of $P, r, t$ from above, but iterate over a range of ten $n$ values from 1 to 100 and print out the function outputs. Do your printed values approach zero as expected?"
   ]
  },
  {
   "cell_type": "code",
   "execution_count": null,
   "id": "aab7ba1e",
   "metadata": {},
   "outputs": [],
   "source": [
    "# YOUR CODE HERE"
   ]
  },
  {
   "cell_type": "markdown",
   "id": "dda18525",
   "metadata": {},
   "source": [
    "## Exercise 4: More Series Approximations\n",
    "\n",
    "Let's look at some more series approximations of more advanced functions. Let's first look at the natural logarithm, which can be approximated as follows:\n",
    "\n",
    "\\begin{equation}\n",
    "\\ln(1+x) = \\sum_{n=1}^{\\infty} (-1)^{n+1} \\frac{x^n}{n}\n",
    "\\end{equation}\n",
    "\n",
    "**Your task:** Write a function that takes $x$ and $n$ as inputs and returns the value of the series to the $n$th term."
   ]
  },
  {
   "cell_type": "code",
   "execution_count": null,
   "id": "cfb21465",
   "metadata": {},
   "outputs": [],
   "source": [
    "# YOUR CODE HERE"
   ]
  },
  {
   "cell_type": "markdown",
   "id": "c948278c",
   "metadata": {},
   "source": [
    "The series approximation above is not valid for all values of $x$. The easiest one to see is the case where $x <= -1$, for which the left hand side is undefined. Inputting $x > 1$ will also make the infinite sum on the right unbounded for large $n$ values. As implied by the summation notation, we also require that $n$ is an integer.\n",
    "\n",
    "**Your task:** Modify your function so that it only runs for $x$ inputs in the range $-1 < x \\leq 1$ and integer $n$ inputs. You can print an error message when encountering a case like this to ensure your function is working."
   ]
  },
  {
   "cell_type": "code",
   "execution_count": null,
   "id": "d7e367a7",
   "metadata": {},
   "outputs": [],
   "source": [
    "# YOUR CODE HERE"
   ]
  },
  {
   "cell_type": "markdown",
   "id": "3ecf71b1",
   "metadata": {},
   "source": [
    "**Your task:** Instead of modifying this function to calculate the error directly, we'll write two new functions to do this for us. First, write a function that simply returns the value of $\\ln(1 + x)$ for a given $x$ value."
   ]
  },
  {
   "cell_type": "code",
   "execution_count": null,
   "id": "80bd61e6",
   "metadata": {},
   "outputs": [],
   "source": [
    "# YOUR CODE HERE"
   ]
  },
  {
   "cell_type": "markdown",
   "id": "44e5bad9",
   "metadata": {},
   "source": [
    "**Your task:** I've started a function below with four inputs: $x$ and $n$ from above, as well as `real` and `approx`, inputs representing the real and approximate functions you wrote above. (If you'd like, you can set these as default parameters for now.) In this function, write code that will compute and return the absolute error $|f(x, n) - \\ln(1 + x)|$, where $f(x, n)$ is your series approximation function. For a valid $x$ value, compute this function for ten $n$ values between 1 and 20. Does the absolute error go to zero as expected?"
   ]
  },
  {
   "cell_type": "code",
   "execution_count": null,
   "id": "9d2a39ff",
   "metadata": {},
   "outputs": [],
   "source": [
    "def abs_error(n, x, real, approx):\n",
    "    # YOUR CODE HERE"
   ]
  },
  {
   "cell_type": "markdown",
   "id": "c3b7e017",
   "metadata": {},
   "source": [
    "Let's use the `abs_error` function above to examine another series approximation:\n",
    "\n",
    "\\begin{equation}\n",
    "\\sin x = \\sum_{n=0}^{\\infty} (-1)^{n} \\frac{x^{2n+1}}{(2n + 1)!}\n",
    "\\end{equation}\n",
    "\n",
    "Unlike above, $x$ can take on any real value. $n$ is still required to be an integer.\n",
    "\n",
    "**Your task:** Write two functions: one that evaluates $\\sin x$ for a given $x$ value, and one that evaluates the series above to $n$ terms."
   ]
  },
  {
   "cell_type": "code",
   "execution_count": null,
   "id": "7c6035e5",
   "metadata": {},
   "outputs": [],
   "source": [
    "# YOUR CODE HERE"
   ]
  },
  {
   "cell_type": "markdown",
   "id": "b254a1e6",
   "metadata": {},
   "source": [
    "**Your task:** As above, iterate over ten $n$ values between 1 and 20 to evaluate `abs_error`. This time, make sure to change the `approx` argument to your approximation of sine and the `real` argument to your exact sine value. You shouldn't have to make any changes to `abs_error`; just change the arguments when you call it. Does the absolute error go to zero as expected? Try some different $x$ values; does the approximation get better or worse with larger absolute values of $x$?"
   ]
  },
  {
   "cell_type": "code",
   "execution_count": null,
   "id": "bdfb8a08",
   "metadata": {},
   "outputs": [],
   "source": [
    "# YOUR CODE HERE"
   ]
  }
 ],
 "metadata": {
  "kernelspec": {
   "display_name": "Python 3 (ipykernel)",
   "language": "python",
   "name": "python3"
  },
  "language_info": {
   "codemirror_mode": {
    "name": "ipython",
    "version": 3
   },
   "file_extension": ".py",
   "mimetype": "text/x-python",
   "name": "python",
   "nbconvert_exporter": "python",
   "pygments_lexer": "ipython3",
   "version": "3.9.16"
  }
 },
 "nbformat": 4,
 "nbformat_minor": 5
}
