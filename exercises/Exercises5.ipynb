{
 "cells": [
  {
   "cell_type": "markdown",
   "id": "6af6633f",
   "metadata": {},
   "source": [
    "# SAO/LIP Python Primer Course Exercise Set 5\n",
    "\n",
    "[![Open In Colab](https://colab.research.google.com/assets/colab-badge.svg)](https://colab.research.google.com/github/acorreia61201/SAOPythonPrimer/blob/main/exercises/Exercises5.ipynb)\n",
    "\n",
    "## Exercise 1: Matrix Arithmetic\n",
    "\n",
    "**Your task:** Solve the following matrix arithmetic problems using `numpy`, using the following definitions:\n",
    "\n",
    "\\begin{equation}\n",
    "a = \\begin{pmatrix}\n",
    "4 \\\\ -2 \\\\ -7 \\\\\n",
    "\\end{pmatrix}, \n",
    "b = \\begin{pmatrix}\n",
    "-1 \\\\ 8 \\\\ 4 \\\\ \n",
    "\\end{pmatrix}, \n",
    "c = \\begin{pmatrix}\n",
    "9 \\\\ 4 \\\\ -6 \\\\\n",
    "\\end{pmatrix}\n",
    "\\end{equation}\n",
    "\n",
    "\\begin{equation}\n",
    "D = \\begin{pmatrix}\n",
    "5 & -3 & 2 \\\\\n",
    "4 & 1 & 9 \\\\\n",
    "\\end{pmatrix}, \n",
    "E = \\begin{pmatrix}\n",
    "7 & 3 & 8 \\\\\n",
    "-1 & 8 & 5 \\\\\n",
    "6 & 9 & -2 \\\\\n",
    "\\end{pmatrix}, \n",
    "F = \\begin{pmatrix}\n",
    "0 & 4 \\\\\n",
    "5 & -8 \\\\\n",
    "8 & 7 \\\\\n",
    "\\end{pmatrix}\n",
    "\\end{equation}\n",
    "\n",
    "- $a + b - c$"
   ]
  },
  {
   "cell_type": "code",
   "execution_count": 1,
   "id": "7e98d7b2",
   "metadata": {},
   "outputs": [],
   "source": [
    "# YOUR CODE HERE"
   ]
  },
  {
   "cell_type": "markdown",
   "id": "a3ba3d02",
   "metadata": {},
   "source": [
    "- $2a - 7b$"
   ]
  },
  {
   "cell_type": "code",
   "execution_count": null,
   "id": "784daebe",
   "metadata": {},
   "outputs": [],
   "source": [
    "# YOUR CODE HERE"
   ]
  },
  {
   "cell_type": "markdown",
   "id": "f92d2e6c",
   "metadata": {},
   "source": [
    "- $a \\cdot c$"
   ]
  },
  {
   "cell_type": "code",
   "execution_count": null,
   "id": "befd9dee",
   "metadata": {},
   "outputs": [],
   "source": [
    "# YOUR CODE HERE"
   ]
  },
  {
   "cell_type": "markdown",
   "id": "259d5c6e",
   "metadata": {},
   "source": [
    "- $a \\times b$"
   ]
  },
  {
   "cell_type": "code",
   "execution_count": null,
   "id": "2127c976",
   "metadata": {},
   "outputs": [],
   "source": [
    "# YOUR CODE HERE"
   ]
  },
  {
   "cell_type": "markdown",
   "id": "7e0fa932",
   "metadata": {},
   "source": [
    "- $Da$"
   ]
  },
  {
   "cell_type": "code",
   "execution_count": 2,
   "id": "dc931820",
   "metadata": {},
   "outputs": [],
   "source": [
    "# YOUR CODE HERE"
   ]
  },
  {
   "cell_type": "markdown",
   "id": "51aaafd7",
   "metadata": {},
   "source": [
    "- $\\frac{1}{2}EF$"
   ]
  },
  {
   "cell_type": "code",
   "execution_count": 3,
   "id": "f253dca5",
   "metadata": {},
   "outputs": [],
   "source": [
    "# YOUR CODE HERE"
   ]
  },
  {
   "cell_type": "markdown",
   "id": "ec98daf0",
   "metadata": {},
   "source": [
    "- $b^TFc$ ($b^T$ is the transpose of $b$; we need this for the multiplication to be defined)"
   ]
  },
  {
   "cell_type": "code",
   "execution_count": 4,
   "id": "f3fabe04",
   "metadata": {},
   "outputs": [],
   "source": [
    "# YOUR CODE HERE"
   ]
  },
  {
   "cell_type": "markdown",
   "id": "93f28828",
   "metadata": {},
   "source": [
    "## Exercise 2: Verifying Matrix Identities\n",
    "\n",
    "We can use arrays to verify some important matrix identites used thoughout linear algebra.\n",
    "\n",
    "**Your task:** For each identity, write a function that takes in some amount of arrays as inputs and evaluates any relevant values. Return a message that states whether the input matrices are confirmed or denied. Try it out with some test matrices; feel free to use the ones above or define your own.\n",
    "\n",
    "- The distributive property: $A(B + C) = AB + AC$"
   ]
  },
  {
   "cell_type": "code",
   "execution_count": 5,
   "id": "992a72f6",
   "metadata": {},
   "outputs": [],
   "source": [
    "# YOUR CODE HERE"
   ]
  },
  {
   "cell_type": "markdown",
   "id": "5e7397f5",
   "metadata": {},
   "source": [
    "- The associative property (or lack thereof): $AB \\neq BA$"
   ]
  },
  {
   "cell_type": "code",
   "execution_count": null,
   "id": "55c1ef2a",
   "metadata": {},
   "outputs": [],
   "source": [
    "# YOUR CODE HERE"
   ]
  },
  {
   "cell_type": "markdown",
   "id": "e4313c11",
   "metadata": {},
   "source": [
    "- Sum of transposes: $A^T + B^T = (A + B)^T$"
   ]
  },
  {
   "cell_type": "code",
   "execution_count": 6,
   "id": "b106a3b5",
   "metadata": {},
   "outputs": [],
   "source": [
    "# YOUR CODE HERE"
   ]
  },
  {
   "cell_type": "markdown",
   "id": "5dd4c1aa",
   "metadata": {},
   "source": [
    "- Product of transposes: $(ABC)^T = C^TB^TA^T$"
   ]
  },
  {
   "cell_type": "code",
   "execution_count": null,
   "id": "337ff114",
   "metadata": {},
   "outputs": [],
   "source": [
    "# YOUR CODE HERE"
   ]
  },
  {
   "cell_type": "markdown",
   "id": "e90cdad1",
   "metadata": {},
   "source": [
    "- The identity matrix $I$: $AI = A$"
   ]
  },
  {
   "cell_type": "code",
   "execution_count": 7,
   "id": "727b9a7d",
   "metadata": {},
   "outputs": [],
   "source": [
    "# YOUR CODE HERE"
   ]
  },
  {
   "cell_type": "markdown",
   "id": "7f6ea112",
   "metadata": {},
   "source": [
    "- The trace of a matrix: $tr(A) = \\sum_i{A_{ii}}$ $A_{ij}$ is the element in row $i$ and column $j$ of matrix $A$. You may use `numpy.trace()` to evaluate the left-hand side of this identity."
   ]
  },
  {
   "cell_type": "code",
   "execution_count": 8,
   "id": "2ca501a1",
   "metadata": {},
   "outputs": [],
   "source": [
    "# YOUR CODE HERE"
   ]
  },
  {
   "cell_type": "markdown",
   "id": "427e613a",
   "metadata": {},
   "source": [
    "## Exercise 3: Computing the Inverse of a Matrix\n",
    "\n",
    "Taking the inverse of a nonzero number is a trivial task. However, as you may know, doing the same for a matrix takes a bit more work. We define the *matrix inverse* as follows, assuming $A$ is a 2x2 *square matrix* (i.e. the numbers of rows and columns in $A$ are equal):\n",
    "\n",
    "\\begin{equation}\n",
    "A^{-1} = \\frac{1}{det(A)} \\begin{pmatrix} A_{11} & -A_{01} \\\\ -A_{10} & A_{00} \\\\ \\end{pmatrix}\n",
    "\\end{equation}\n",
    "\n",
    "We define a new quantity $det(A)$ as the *determinant* of $A$. For a 2D matrix, calculating its value is trivial:\n",
    "\n",
    "\\begin{equation}\n",
    "det(A) = A_{00}A_{11} - A_{01}A_{10}\n",
    "\\end{equation}\n",
    "\n",
    "**Your task:** Write a function that takes a 2x2 matrix as an input and returns its inverse. The above formulas only work for this type of matrix, so you may add some logic to return an error message if the input is not 2x2. Test your function by verifying the following identity, which defines the identity matrix:\n",
    "\n",
    "\\begin{equation}\n",
    "A^{-1}A = AA^{-1} = I\n",
    "\\end{equation}"
   ]
  },
  {
   "cell_type": "code",
   "execution_count": 9,
   "id": "ee5d9420",
   "metadata": {},
   "outputs": [],
   "source": [
    "# YOUR CODE HERE"
   ]
  },
  {
   "cell_type": "markdown",
   "id": "c663b661",
   "metadata": {},
   "source": [
    "If you tested the function above, you may have gotten some errors. If you did, don't fret; there's a reason for this. If not, try inputting the following matrix:\n",
    "\n",
    "\\begin{equation}\n",
    "\\begin{pmatrix}\n",
    "8 & 6 \\\\\n",
    "4 & 3 \\\\\n",
    "\\end{pmatrix}\n",
    "\\end{equation}\n",
    "\n",
    "This isn't an error on your part (assuming you did the first task correctly). Not all matrices have well-defined inverses. You can see this from the definition above; if the determinant of the matrix is zero, the coefficient will be undefined and you'll encounter a divide by zero error.\n",
    "\n",
    "**Your code:** Modify your function to handle this exception. Print out an error message along the lines of `\"Matrix has no inverse\"` when you reach this condition."
   ]
  },
  {
   "cell_type": "code",
   "execution_count": 10,
   "id": "11e79c16",
   "metadata": {},
   "outputs": [],
   "source": [
    "# YOUR CODE HERE"
   ]
  },
  {
   "cell_type": "markdown",
   "id": "72678401",
   "metadata": {},
   "source": [
    "One application of matrix inverses is solving systems of linear equations. You may have used a matrix method of solving systems like this in a college algebra course.\n",
    "\n",
    "Let's try the following example: A group of families visited the Science Museum. All of them came to the museum using the bus and left on the train. Tickets for the bus cost \\\\$4.50 per child and \\\\$4.80 per adult, and train tickets cost \\\\$5.25 per child and \\\\$5.40 per adult. In total, the families spent \\\\$177.60 on bus tickets and \\\\$202.80 on train tickets. We can set this up as follows, where $x$ is the number of children and $y$ is the number of adults:\n",
    "\n",
    "\\begin{equation}\n",
    "4.50x + 4.80y = 177.60 \\\\\n",
    "5.25x + 5.40y = 202.80\n",
    "\\end{equation}\n",
    "\n",
    "We can work backwards from these equations to get a matrix equation. If you're familiar with linear algebra, you can check that the equation above is equivalent to the following:\n",
    "\n",
    "\\begin{equation}\n",
    "\\begin{pmatrix} 4.50 & 4.80 \\\\ 5.25 & 5.40 \\\\ \\end{pmatrix}\n",
    "\\begin{pmatrix} x \\\\ y \\\\ \\end{pmatrix} =\n",
    "\\begin{pmatrix} 177.60 \\\\ 202.80 \\\\ \\end{pmatrix}\n",
    "\\end{equation}\n",
    "\n",
    "By multiplying both sides of the matrix equation by the inverse, we should get back the matrix of unknowns.\n",
    "\n",
    "**Your task:** Use your inverse function to solve the problem above. How many children and adults went to the Science Museum?"
   ]
  },
  {
   "cell_type": "code",
   "execution_count": 11,
   "id": "d9c8818e",
   "metadata": {},
   "outputs": [],
   "source": [
    "# YOUR CODE HERE"
   ]
  },
  {
   "cell_type": "markdown",
   "id": "71a9faec",
   "metadata": {},
   "source": [
    "## Exercise 4: Eigenvalues\n",
    "\n",
    "An important problem in linear algebra is finding the *eigenvalues* of a matrix, special values intrinsic to matrices which have applications throughout science, especially in physics. Eigenvalues are defined with the eigenvalue equation:\n",
    "\n",
    "\\begin{equation}\n",
    "Av = \\lambda v\n",
    "\\end{equation}\n",
    "\n",
    "$v$ is an *eigenvector* of $A$, whereas $\\lambda$ is an eigenvalue of $A$. The above equation is essentially stating that if I multiply $A$ by one of its eigenvectors, I get back a scalar multiple of that same eigenvector. To solve for eigenvalues, I can multiply the right hand side by the identity matrix (just like how you can multiply a number by 1 without changing its value) and moving all terms to the left hand side to get:\n",
    "\n",
    "\\begin{equation}\n",
    "Av - \\lambda Iv = 0\n",
    "\\end{equation}\n",
    "\n",
    "Since $v$ can be any vector, we require that the matrix coefficient is the zero matrix:\n",
    "\\begin{equation}\n",
    "(A - \\lambda I) = 0\n",
    "\\end{equation}\n",
    "\n",
    "This is the *characteristic equation* of $A$, which we can solve by taking the determinant of both sides:\n",
    "\\begin{equation}\n",
    "det(A - \\lambda I) = 0\n",
    "\\end{equation}\n",
    "\n",
    "For this exercise, we'll stick to 2x2 matrices. This means that the left-hand side will take the form of a quadratic with respect to $\\lambda$.\n",
    "\n",
    "**Your task:** Write a function that takes in a 2x2 matrix and returns its eigenvalues. You won't be able to directly input the above equation into the function like previous exercises; you'll have to figure out how to get the above equation down to a calculable form. (Hint: Try looking through earlier exercise sets for inspiration.)"
   ]
  },
  {
   "cell_type": "code",
   "execution_count": null,
   "id": "1f530cd3",
   "metadata": {},
   "outputs": [],
   "source": [
    "# YOUR CODE HERE"
   ]
  },
  {
   "cell_type": "markdown",
   "id": "8b575fa7",
   "metadata": {},
   "source": [
    "Now, we'll modify the code to print out the corresponding eigenvectors to the eigenvalues you found. Oftentimes, it's convenient to *normalize* the eigenvectors so they satisfy:\n",
    "\n",
    "\\begin{equation}\n",
    "v_0^2 + v_1^2 = 1\n",
    "\\end{equation}\n",
    "\n",
    "Here, $v_0$ and $v_1$ represent the elements of 2-element eigenvector $v$.\n",
    "\n",
    "**Your task:** Modify your function so that it outputs both the eigenvalues and their corresponding eigenvectors for a 2x2 matrix input. (Hint: generally, $v_0^2 + v_1^2 \\neq 1$; how can you use the value of the left-hand side to normalize $v$?)"
   ]
  },
  {
   "cell_type": "code",
   "execution_count": 12,
   "id": "70c4fb49",
   "metadata": {},
   "outputs": [],
   "source": [
    "# YOUR CODE HERE"
   ]
  },
  {
   "cell_type": "markdown",
   "id": "ce46395e",
   "metadata": {},
   "source": [
    "**Your task:** Test your code with the following examples:\n",
    "\n",
    "\\begin{equation}\n",
    "\\begin{pmatrix}\n",
    "5 & 4 \\\\\n",
    "1 & 2 \\\\\n",
    "\\end{pmatrix}\n",
    "\\end{equation}\n",
    "\n",
    "\\begin{equation}\n",
    "\\begin{pmatrix}\n",
    "-5 & 2 \\\\\n",
    "-7 & 4 \\\\\n",
    "\\end{pmatrix}\n",
    "\\end{equation}\n",
    "\n",
    "\\begin{equation}\n",
    "\\begin{pmatrix}\n",
    "-8 & -3 \\\\\n",
    "-5 & 1 \\\\\n",
    "\\end{pmatrix}\n",
    "\\end{equation}\n",
    "\n",
    "The function `numpy.linalg.eig()` (https://numpy.org/doc/stable/reference/generated/numpy.linalg.eig.html) returns the eigenvalues and eigenvectors of a matrix input. Use this to compare your answers."
   ]
  },
  {
   "cell_type": "code",
   "execution_count": null,
   "id": "d560383b",
   "metadata": {},
   "outputs": [],
   "source": [
    "# YOUR CODE HERE"
   ]
  }
 ],
 "metadata": {
  "kernelspec": {
   "display_name": "Python 3 (ipykernel)",
   "language": "python",
   "name": "python3"
  },
  "language_info": {
   "codemirror_mode": {
    "name": "ipython",
    "version": 3
   },
   "file_extension": ".py",
   "mimetype": "text/x-python",
   "name": "python",
   "nbconvert_exporter": "python",
   "pygments_lexer": "ipython3",
   "version": "3.9.16"
  }
 },
 "nbformat": 4,
 "nbformat_minor": 5
}
