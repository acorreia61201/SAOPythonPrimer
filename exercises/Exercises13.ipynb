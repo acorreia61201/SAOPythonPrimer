{
  "nbformat": 4,
  "nbformat_minor": 0,
  "metadata": {
    "colab": {
      "provenance": [],
      "authorship_tag": "ABX9TyM7LwCRr5mNxW8BF6CcCsKK",
      "include_colab_link": true
    },
    "kernelspec": {
      "name": "python3",
      "display_name": "Python 3"
    },
    "language_info": {
      "name": "python"
    }
  },
  "cells": [
    {
      "cell_type": "markdown",
      "metadata": {
        "id": "view-in-github",
        "colab_type": "text"
      },
      "source": [
        "<a href=\"https://colab.research.google.com/github/acorreia61201/SAOPythonPrimer/blob/main/exercises/Exercises13.ipynb\" target=\"_parent\"><img src=\"https://colab.research.google.com/assets/colab-badge.svg\" alt=\"Open In Colab\"/></a>"
      ]
    },
    {
      "cell_type": "markdown",
      "source": [
        "# SAO/LIP Python Primer Course Exercise Set 13\n",
        "\n",
        "[![Open In Colab](https://colab.research.google.com/assets/colab-badge.svg)](https://colab.research.google.com/github/acorreia61201/SAOPythonPrimer/blob/main/exercises/Exercises13.ipynb)\n",
        "\n",
        "This is an additional exercise set containing simpler and more modular problems for practicing basic programming skills in Python.\n",
        "\n",
        "Additionally, I've linked extra resources on Python and programming below. This includes general Python lessons as well as the user guides for certain libraries, which I used to help create these lectures.\n",
        "\n",
        "- [Software Carpentry](https://software-carpentry.org/lessons/), a series of lessons covering the basics of scientific programming. There are two sites focused entirely on Python, but there are also links to lessons on Unix, Git, and other languages that may be helpful if you continue on in computer science. I used this personally when learning how to use Python and Unix, so I'd highly recommend it.\n",
        "- There are a lot of other websites like [W3Schools](https://www.w3schools.com/python/) and [TutorialsPoint](https://www.tutorialspoint.com/python/index.htm) that provide some pretty good beginner and intermediate tutorials on Python. They'll also pop up often if you ever look up general questions on Python.\n",
        "- [NumPy user guide](https://numpy.org/doc/stable/user/)\n",
        "- [Matplotlib tutorials](https://matplotlib.org/stable/tutorials/index.html)\n",
        "- [Pandas user guide](https://pandas.pydata.org/docs/user_guide/index.html)\n",
        "- [SciPy user guide](https://docs.scipy.org/doc/scipy/)\n",
        "\n",
        "## Exercise 1: Basic List Calculations\n",
        "\n",
        "We'll start by doing some simple statistical calculations on a list to practice indexing and iteration.\n",
        "\n",
        "**Your task:** Calculate the range of the list below. The *range* is the difference between the highest and lowest values in the list. You can do this either by sorting the list and indexing or using `max()` and `min()`."
      ],
      "metadata": {
        "id": "O76pMabf5G_u"
      }
    },
    {
      "cell_type": "code",
      "execution_count": null,
      "metadata": {
        "id": "1Wf4-VjK5ET1"
      },
      "outputs": [],
      "source": [
        "data = [22,15,6,29,10,4,27,11,2,6,19,21,20,17,22,22,1,9,17,22,6,24,7,12,19,4,19,1,9,22]\n",
        "\n",
        "# YOUR CODE HERE"
      ]
    },
    {
      "cell_type": "markdown",
      "source": [
        "**Your task:** Now, find the *midrange* of the list by taking the mean of the highest and lowest values."
      ],
      "metadata": {
        "id": "U-MabTPBA0Pd"
      }
    },
    {
      "cell_type": "code",
      "source": [
        "# YOUR CODE HERE"
      ],
      "metadata": {
        "id": "gSw5gxyIB44-"
      },
      "execution_count": null,
      "outputs": []
    },
    {
      "cell_type": "markdown",
      "source": [
        "**Your task:** Now, take the *mean* of the list. The best way to do this is by using a loop to sum up all the list values, then dividing by the length of the list."
      ],
      "metadata": {
        "id": "OR1TttGrB6Dd"
      }
    },
    {
      "cell_type": "code",
      "source": [
        "# YOUR CODE HERE"
      ],
      "metadata": {
        "id": "hkc2PBJfCZDr"
      },
      "execution_count": null,
      "outputs": []
    },
    {
      "cell_type": "markdown",
      "source": [
        "**Your task:** Now, find the *standard deviation* of the list. Recall that the standard deviation is defined as follows using the mean $\\mu$:\n",
        "\n",
        "\\begin{equation}\n",
        "\\sigma = \\sqrt{\\frac{\\sum_i (x_i - \\mu)^2}{N}}\n",
        "\\end{equation}\n",
        "\n",
        "We can split this problem up. First, we'll calculate the summation in the numerator. We'll do the following:\n",
        "- Define a placeholder variable (i.e. `sum`) and start a loop that iterates over each element in `data`. The simplest way to do this is with a `for` loop, with which we can loop for each value in `data`.\n",
        "  - At each step of the loop, take the difference between the current step's list value $x_i$ and $\\mu$, and square the result.\n",
        "  - Add this squared result to `sum` at the end of every step."
      ],
      "metadata": {
        "id": "nrELBrm2CcUz"
      }
    },
    {
      "cell_type": "code",
      "source": [
        "# YOUR CODE HERE"
      ],
      "metadata": {
        "id": "JwshpZ3XCb5C"
      },
      "execution_count": null,
      "outputs": []
    },
    {
      "cell_type": "markdown",
      "source": [
        "**Your task:** Using the summation you calculated in the previous step, divide by the length of the list. Take the square root of this result (using either an external library or raising to the 0.5 power) to get the standard deviation."
      ],
      "metadata": {
        "id": "c4xS1l2XEfdE"
      }
    },
    {
      "cell_type": "code",
      "source": [
        "# YOUR CODE HERE"
      ],
      "metadata": {
        "id": "OQQAMR3TEfx9"
      },
      "execution_count": null,
      "outputs": []
    },
    {
      "cell_type": "markdown",
      "source": [
        "Now, we'll find the *median* of the list in a series of steps. Recall that there are two conditions we need to consider for whether the list has an even or odd number of values.\n",
        "\n",
        "**Your task:** We'll start with the simpler one: Find the median of the list below, which has an odd number of elements. Take the following steps:\n",
        "\n",
        "- First sort the list numerically.\n",
        "- Then, we have to find the central index, which we can do by taking the integer division of the length of the list by 2.\n",
        "- Once we have that, the median will be the list element with that central index."
      ],
      "metadata": {
        "id": "LDxM8zzvGWA6"
      }
    },
    {
      "cell_type": "code",
      "source": [
        "odd_data = [3, 9, 24, 18, 5, 21, 15]\n",
        "\n",
        "# YOUR CODE HERE"
      ],
      "metadata": {
        "id": "mhILqy1zGWYa"
      },
      "execution_count": null,
      "outputs": []
    },
    {
      "cell_type": "markdown",
      "source": [
        "**Your task:** Now, we'll look at a list with an even number of elements. The setup is as follows:\n",
        "\n",
        "- Again, sort the list.\n",
        "- We now want two indices in the center. Dividing the length of the list by 2 will give us the upper index, and subtracting one from this will give the lower index.\n",
        "- Once we have those indices, we need to get the elements corresponding to those indices. The median will then be the average (i.e. half the sum) of these elements."
      ],
      "metadata": {
        "id": "dS8wMJ0AH7N4"
      }
    },
    {
      "cell_type": "code",
      "source": [
        "even_data = [5, 24, 14, 7, 9, 13, 10, 4]\n",
        "\n",
        "# YOUR CODE HERE"
      ],
      "metadata": {
        "id": "kT62RnRRIg0h"
      },
      "execution_count": null,
      "outputs": []
    },
    {
      "cell_type": "markdown",
      "source": [
        "**Your task:** We'll write these even and odd median finders into a single `if-else` block. Specifically:\n",
        "\n",
        "- If the list has an even number of elements, we find the median using the latter method (i.e. taking the average of the two central values). Recall that we can check if the length of the list is even by taking its *modulo* 2; if the modulus of the length with 2 is zero, the list has an even number of elements.\n",
        "- Otherwise, the list has to have an odd number of elements, and we can use the former method to find the median.\n",
        "\n",
        "Write this as code below to find the median of `data`. All you have to do is make sure the condition on your `if` statement is correct, then you can copy your code from the two cells above into the correct conditions (remember, we want the even method when the `if` statement is satisfied)."
      ],
      "metadata": {
        "id": "HqpEec9vIhHE"
      }
    },
    {
      "cell_type": "code",
      "source": [
        "# YOUR CODE HERE"
      ],
      "metadata": {
        "id": "PB1fDQG9KViD"
      },
      "execution_count": null,
      "outputs": []
    },
    {
      "cell_type": "markdown",
      "source": [
        "**Your task:** Finally, *normalize* the list. That is, divide each element by the maximum value such that the maximum value becomes 1. One way to do this is by first picking out the maximum value using `max(data)`. We can then use a loop over the indices of the list `range(len(data))` and modify each element in place by dividing over the max."
      ],
      "metadata": {
        "id": "HP1qoQbnMMgP"
      }
    },
    {
      "cell_type": "code",
      "source": [
        "# YOUR CODE HERE"
      ],
      "metadata": {
        "id": "9eRQVZo0MM1b"
      },
      "execution_count": null,
      "outputs": []
    },
    {
      "cell_type": "markdown",
      "source": [
        "## Exercise 2: Indexing and Slicing\n",
        "\n",
        "We'll now practice using various indexing methods to call elements and reorder lists.\n",
        "\n",
        "**Your task:** I've generated a list below. Print out the first two elements using a slice (i.e. `lst[...]`). It may be convenient to also print out `lst` in this cell to see if you're doing it correctly."
      ],
      "metadata": {
        "id": "9ETpd_e09-t1"
      }
    },
    {
      "cell_type": "code",
      "source": [
        "import numpy as np\n",
        "lst = list(np.random.randint(10, size=10))\n",
        "\n",
        "# YOUR CODE HERE"
      ],
      "metadata": {
        "colab": {
          "base_uri": "https://localhost:8080/"
        },
        "id": "rtCdBayL-BKe",
        "outputId": "a0646740-387b-425f-dac7-081a12cd4f61"
      },
      "execution_count": null,
      "outputs": [
        {
          "output_type": "execute_result",
          "data": {
            "text/plain": [
              "[9, 7, 3, 4, 4, 2, 0, 0, 5, 4]"
            ]
          },
          "metadata": {},
          "execution_count": 3
        }
      ]
    },
    {
      "cell_type": "markdown",
      "source": [
        "**Your task:** Print out the third through sixth elements."
      ],
      "metadata": {
        "id": "KnBeM9_GaU39"
      }
    },
    {
      "cell_type": "code",
      "source": [
        "# YOUR CODE HERE"
      ],
      "metadata": {
        "id": "DH366HQSaVHT"
      },
      "execution_count": null,
      "outputs": []
    },
    {
      "cell_type": "markdown",
      "source": [
        "**Your task:** Print out the last four elements."
      ],
      "metadata": {
        "id": "SKJoqb1MbXHB"
      }
    },
    {
      "cell_type": "code",
      "source": [
        "# YOUR CODE HERE"
      ],
      "metadata": {
        "id": "NiVoUH-kbW0N"
      },
      "execution_count": null,
      "outputs": []
    },
    {
      "cell_type": "markdown",
      "source": [
        "**Your task:** Print out all but the last three elements."
      ],
      "metadata": {
        "id": "FOr42ofoamSV"
      }
    },
    {
      "cell_type": "code",
      "source": [
        "# YOUR CODE HERE"
      ],
      "metadata": {
        "id": "0YGujwnrau64"
      },
      "execution_count": null,
      "outputs": []
    },
    {
      "cell_type": "markdown",
      "source": [
        "**Your task:** Print out every even-indexed element (i.e. `lst[0]`, `lst[2]`, etc.) (Hint: this entails every other element starting from index zero)"
      ],
      "metadata": {
        "id": "LhcoA2aJawvS"
      }
    },
    {
      "cell_type": "code",
      "source": [
        "# YOUR CODE HERE"
      ],
      "metadata": {
        "id": "m2AYdSm_axCT"
      },
      "execution_count": null,
      "outputs": []
    },
    {
      "cell_type": "markdown",
      "source": [
        "**Your task:** Print out every odd-indexed element (i.e. `lst[1]`, `lst[3]`, ...)."
      ],
      "metadata": {
        "id": "uq-kg-gma6Mv"
      }
    },
    {
      "cell_type": "code",
      "source": [
        "# YOUR CODE HERE"
      ],
      "metadata": {
        "id": "dk4r1t2JbHmM"
      },
      "execution_count": null,
      "outputs": []
    },
    {
      "cell_type": "markdown",
      "source": [
        "**Your task:** Print out every third element in reverse order (i.e. `[lst[9], lst[6], lst[3], lst[0]]`)."
      ],
      "metadata": {
        "id": "jkjpZrf4bIuE"
      }
    },
    {
      "cell_type": "code",
      "source": [
        "# YOUR CODE HERE"
      ],
      "metadata": {
        "id": "E_BvlqyibJQ9"
      },
      "execution_count": null,
      "outputs": []
    },
    {
      "cell_type": "markdown",
      "source": [
        "**Your task:** Print out the first, fourth, and seventh elements. (Hint: This is the same as starting from index 0 and incrementing by 3, except we have to modify the end argument to exclude the last element.)"
      ],
      "metadata": {
        "id": "RQKBjut4cIc6"
      }
    },
    {
      "cell_type": "code",
      "source": [
        "# YOUR CODE HERE"
      ],
      "metadata": {
        "id": "gChFoelNcI5K"
      },
      "execution_count": null,
      "outputs": []
    },
    {
      "cell_type": "markdown",
      "source": [
        "**Your task:** Print out the first and last element. (Hint: the step size between the first and last element is equal to the length of the list minus 1)"
      ],
      "metadata": {
        "id": "ESZCr2jCcihe"
      }
    },
    {
      "cell_type": "code",
      "source": [
        "# YOUR CODE HERE"
      ],
      "metadata": {
        "id": "Z1apFnPrci2Z"
      },
      "execution_count": null,
      "outputs": []
    },
    {
      "cell_type": "markdown",
      "source": [
        "## Exercise 3: Basic Looping\n",
        "\n",
        "We'll do some practice problems to gain some intuition on how we can use loops when programming.\n",
        "\n",
        "**Your task:** Write a `while` loop that prints out the first ten natural numbers. A simple way to do this is to set a variable equal to 1 outside the loop. Then, at each iteration, print the variable out and add 1 to it. The loop should only run as long as the placeholder variable is at most 10, the tenth natural number."
      ],
      "metadata": {
        "id": "b_Fm-sSpqmEw"
      }
    },
    {
      "cell_type": "code",
      "source": [
        "# YOUR CODE HERE"
      ],
      "metadata": {
        "id": "Fr2Uxyf4ql0Q"
      },
      "execution_count": null,
      "outputs": []
    },
    {
      "cell_type": "markdown",
      "source": [
        "**Your task:** Write a `for` loop that counts how many letters are in a word. We can do this by defining a counter as zero to stand in for the number of letters. Iterating over a word will loop over each letter, so for each letter in our string all we have to do is add 1 to the counter. Once the loop is finished, we can print out the counter.\n",
        "\n",
        "Test this with some short words. You may also use longer words like `'civilization'`, which has 12 letters."
      ],
      "metadata": {
        "id": "bqwTdk5nqln5"
      }
    },
    {
      "cell_type": "code",
      "source": [
        "# YOUR CODE HERE"
      ],
      "metadata": {
        "id": "eO10wKaTqmo7"
      },
      "execution_count": null,
      "outputs": []
    },
    {
      "cell_type": "markdown",
      "source": [
        "**Your task:** Write a `for` loop that populates `lst2` with the types of each element in `lst1`. Recall that we can use `type(a)` to get the datatype of `a`. It will be most useful here to iterate over the elements of `lst1` and append the type of the element to `lst2` at each step.\n",
        "\n"
      ],
      "metadata": {
        "id": "xZ_lNcH7uepE"
      }
    },
    {
      "cell_type": "code",
      "source": [
        "lst1 = [3.14, 66, \"Teddy Bear\", True, [], {}]\n",
        "lst2 = []\n",
        "\n",
        "# YOUR CODE HERE"
      ],
      "metadata": {
        "id": "UGa745SQue5-"
      },
      "execution_count": null,
      "outputs": []
    },
    {
      "cell_type": "markdown",
      "source": [
        "**Your task:** Write a `for` loop that prints out the first 10 multiples of a given value of `n`. For example, if we set `n = 2`, we should get out `2, 4, 6, 8..., 20`. To do this, we can set `n` outside of the loop and iterate over the values from 1 to 10. At each step, we'd then simply take n times the current value and print to screen."
      ],
      "metadata": {
        "id": "jLz8ddV0vJUL"
      }
    },
    {
      "cell_type": "code",
      "source": [
        "# YOUR CODE HERE"
      ],
      "metadata": {
        "id": "XjL250ItvJlH"
      },
      "execution_count": null,
      "outputs": []
    },
    {
      "cell_type": "markdown",
      "source": [
        "**Your task:** Write a `for` loop that iterates over a list of numbers (you can generate one manually) and applies the following operations:\n",
        "\n",
        "- Multiply the value by 4\n",
        "- Add 12\n",
        "- Multiply by 2\n",
        "- Add 16\n",
        "- Divide by 8\n",
        "- Subtract the original number\n",
        "\n",
        "After applying this series of operations, print out the value. To check, every value should return 5."
      ],
      "metadata": {
        "id": "0YlmqQGnv82s"
      }
    },
    {
      "cell_type": "code",
      "source": [
        "# YOUR CODE HERE"
      ],
      "metadata": {
        "id": "9_oztTVtv9Jf"
      },
      "execution_count": null,
      "outputs": []
    },
    {
      "cell_type": "markdown",
      "source": [
        "**Your task:** Write a `for` loop that calculates the factorial of a natural number (i.e. integer greater than zero). We can do so with the following:\n",
        "\n",
        "- Define the number you want to take the factorial of as well as a placeholder variable set to 1, meant to represent the factorial.\n",
        "- Iterate from 1 to the number.\n",
        "  - At each step, multiply the current number to the placeholder variable.\n",
        "- When we're done, print the placeholder variable; this is the factorial.\n",
        "\n",
        "To check, the first few factorials are $1!=1, 2!=2, 3!=6, 4!=24, 5!=120$. Only worry about integers greater than zero."
      ],
      "metadata": {
        "id": "bFcxlfmfxTOS"
      }
    },
    {
      "cell_type": "code",
      "source": [
        "# YOUR CODE HERE"
      ],
      "metadata": {
        "id": "VzTcFbb_xT-b"
      },
      "execution_count": null,
      "outputs": []
    },
    {
      "cell_type": "markdown",
      "source": [
        "## Exercise 4: Recreating Builtin Functions\n",
        "\n",
        "We'll get in some practice with writing functions by replicating some builtins we've used throughout the course.\n",
        "\n",
        "**Your task:** We'll start by writing a function that replicates `pow()`. Recall that `pow(a, b)` raises `a` to the power of `b`. Write a function `my_pow(a, b)` that returns `a` raised to the power `b`.\n",
        "\n",
        "Test it with some known values. For example, `pow(2, 3)` returns 8, `pow(3, 3)` returns 27, and `pow(5, 2)` returns 25."
      ],
      "metadata": {
        "id": "fBOtfDws-DNZ"
      }
    },
    {
      "cell_type": "code",
      "source": [
        "# YOUR CODE HERE"
      ],
      "metadata": {
        "id": "bbQe_fI_-E6f"
      },
      "execution_count": null,
      "outputs": []
    },
    {
      "cell_type": "markdown",
      "source": [
        "**Your task:** Now, let's write a function `my_len(l)` that returns the length of an input list `l`. To do this:\n",
        "\n",
        "- We can define a placeholder variable inside the function along with a `for` loop that iterates over each element in `l`.\n",
        "  - At each step of the `for` loop, all we have to do is add 1 to the placeholder to signify an additional element.\n",
        "- After exiting the loop (i.e. after reaching the end of the list), we'll end the funciton with a `return` statement that returns the value of the placeholder.\n",
        "\n",
        "Test this with some short lists (you can generate them yourself manually) to see if you get back the correct number of elements."
      ],
      "metadata": {
        "id": "_KUIX-aHehio"
      }
    },
    {
      "cell_type": "code",
      "source": [
        "# YOUR CODE HERE"
      ],
      "metadata": {
        "id": "AUyqOl9TegnO"
      },
      "execution_count": null,
      "outputs": []
    },
    {
      "cell_type": "markdown",
      "source": [
        "**Your task:** Now, let's write a function `my_abs(a)` that takes the absolute value of an input number `a`. We can do this with two conditions that encompass all real numbers:\n",
        "\n",
        "- If `a` is greater than or equal to zero, we'll just return `a`.\n",
        "- If `a` is less than zero, we'll return negative `a`.\n",
        "\n",
        "Test this with some positive and negative numbers; the output should always be greater than or equal to zero."
      ],
      "metadata": {
        "id": "m3HoHCgxegWf"
      }
    },
    {
      "cell_type": "code",
      "source": [
        "# YOUR CODE HERE"
      ],
      "metadata": {
        "id": "Z-5LdyqBgTKF"
      },
      "execution_count": null,
      "outputs": []
    },
    {
      "cell_type": "markdown",
      "source": [
        "**Your task:** Now, let's write a function `my_max(l)` that returns the maximum value of an input list `l`. We can do this in the following way:\n",
        "\n",
        "- At the start of the function, define a variable `m = l[0]`, the first element of `l`.\n",
        "- Start a `for` loop that iterates over every element in `l`.\n",
        "  - At each step, check if the current element is strictly greater than `m`.\n",
        "    - If the current value is greater than `m`, replace the value of `m` with that value.\n",
        "    - Otherwise, `pass` so that `m` remains the same\n",
        "- Once the loop exits, return `m`.\n",
        "\n",
        "Test this with some manually generated lists. You should get the maximum value every time."
      ],
      "metadata": {
        "id": "5LFP2IxogUGs"
      }
    },
    {
      "cell_type": "code",
      "source": [
        "# YOUR CODE HERE"
      ],
      "metadata": {
        "id": "6I4_GmB3gUcj"
      },
      "execution_count": null,
      "outputs": []
    },
    {
      "cell_type": "markdown",
      "source": [
        "**Your task:** We'll do a similar task as above by writing a function `my_min(l)` that returns the minimum value in an input list `l`. The logic is mostly the same:\n",
        "\n",
        "- At the start of the function, define a variable `m = l[0]` and start a loop that iterates over every element in `l`.\n",
        "  - Now at each step, check if the current element is strictly less than `m`.\n",
        "    - If so, redefine `m` as the current element\n",
        "    - Otherwise, `pass`\n",
        "- Return `m` outside of the `for` loop.\n",
        "\n",
        "Test this with some manually generated lists or the ones you may have used above. You should get the minimum value every time."
      ],
      "metadata": {
        "id": "wxQfURcQhQa4"
      }
    },
    {
      "cell_type": "code",
      "source": [
        "# YOUR CODE HERE"
      ],
      "metadata": {
        "id": "kHfHdMuLhQtl"
      },
      "execution_count": null,
      "outputs": []
    },
    {
      "cell_type": "markdown",
      "source": [
        "**Your task:** Finally, we'll write a function `my_range(stop, start = 0, step = 1)` that returns a list of integers from `start` to `stop - 1` with step size `step`. We can do this in the following way:\n",
        "\n",
        "- Define a placeholder empty list.\n",
        "- Start a `while` loop that iterates while `start` is strictly less than `stop`.\n",
        "  - At each step, append the current value of `start` to the placeholder list.\n",
        "  - After this, add `step` to `start`.\n",
        "- Once the loop finishes, return the placeholder list.\n",
        "\n",
        "Test this with some inputs:\n",
        "- `my_range(5)` should return `[0, 1, 2, 3, 4]`.\n",
        "- `my_range(start=2, stop=7)` should return `[2, 3, 4, 5, 6]`.\n",
        "- `my_range(start=4, stop=12, step=3)` should return `[4, 7, 10]`."
      ],
      "metadata": {
        "id": "0ST4ry1wh3fG"
      }
    },
    {
      "cell_type": "code",
      "source": [
        "# YOUR CODE HERE"
      ],
      "metadata": {
        "id": "twfh12g3h3x9"
      },
      "execution_count": null,
      "outputs": []
    },
    {
      "cell_type": "markdown",
      "source": [
        "## Exercise 5: Triangular Numbers, deconstructed\n",
        "\n",
        "We'll revisit the problem on square triangular numbers from an earlier exercise set. This time, we'll go through it step-by-step to get a better understanding of how to think through a problem like this. We'll also get more practice with loops and functions.\n",
        "\n",
        "**Your task:** A triangular number is defined as follows:\n",
        "\n",
        "\\begin{equation}\n",
        "T_n = \\sum_{i=1}^n i = 1 + 2 + 3 + \\cdots + n\n",
        "\\end{equation}\n",
        "\n",
        "In simpler terms, each triangular number $T_n$ is defined as the sum of all positive integers from 1 to $n$.\n",
        "\n",
        "Write a loop that computes and returns the first 10 triangular numbers. A good way to write this would be to define two placeholder variables: one which acts as the running total, and one which acts as a counter. Then, on each iteration:\n",
        "\n",
        "- Increment the counter by one\n",
        "- Add the counter to the running total\n",
        "- Print the running total value\n",
        "\n",
        "This will continue until the counter is greater than or equal to 10, after which the loop should stop."
      ],
      "metadata": {
        "id": "Nf-kVOpO-HE7"
      }
    },
    {
      "cell_type": "code",
      "source": [
        "# YOUR CODE HERE"
      ],
      "metadata": {
        "id": "PuocxAlTKrxD"
      },
      "execution_count": null,
      "outputs": []
    },
    {
      "cell_type": "markdown",
      "source": [
        "**Your task:** A square number is defined as an integer that is the product of some other integer with itself. That is, if we take the square root of a perfect square, we will get an integer.\n",
        "\n",
        "Write a function `is_square(n)` that returns a Boolean based on whether or not the input is a perfect square (i.e. return `True` if the number is a perfect square and `False` otherwise).\n",
        "\n",
        "One property we should take advantage of is the fact that no matter the datatype of the number, an integer's `floor()` and `ceil()` values (accessible via `math` or `numpy`) will be equivalent. So, we could:\n",
        "\n",
        "- take the floor and ceiling of the square root of the input\n",
        "- compare them using a Boolean operator\n",
        "- return the truth value of that Boolean operator"
      ],
      "metadata": {
        "id": "LL9pZiygMgCr"
      }
    },
    {
      "cell_type": "code",
      "source": [
        "# YOUR CODE HERE"
      ],
      "metadata": {
        "id": "4LaG8AFOMff0"
      },
      "execution_count": null,
      "outputs": []
    },
    {
      "cell_type": "markdown",
      "source": [
        "**Your task:** Now, let's populate a list with the first eleven numbers that are both perfect squares and triangular numbers. We'll take the following steps:\n",
        "\n",
        "- Create an empty list `square_tri` for storing the values.\n",
        "- Copy in our loop from above that printed out the first 10 triangular numbers, this time getting rid of the print statement. We'll also have to modify the stop condition so that the loop stops when the placeholder list has at least eleven values in it. This way, the loop will keep generating triangular numbers in order until it finds 11 perfect squares.\n",
        "  - After calculating the triangular number on each step, test if the number is square using `is_square()`\n",
        "    - If it is, we'll print its value and append it to the placeholder list.\n",
        "    - If not, we'll just `pass` the value.\n",
        "\n",
        "For reference, the triangular numbers 1, 36, and 1225 are perfect squares."
      ],
      "metadata": {
        "id": "uIHwBd_HOC33"
      }
    },
    {
      "cell_type": "code",
      "source": [
        "# YOUR CODE HERE"
      ],
      "metadata": {
        "id": "PNhAtH2NOCYd"
      },
      "execution_count": null,
      "outputs": []
    },
    {
      "cell_type": "markdown",
      "source": [
        "**Your task:** We now want to find the ratios between each square triangular number in `square_tri` and its previous neighbor. To do this, we'll define a new empty list `ratios` and write a loop that iterates over every index in the list we generated above. A convenient way to do this is to iterate for each number in `range(len(square_tri))`. We can then find the ratios in one of two ways:\n",
        "\n",
        "1. At each step, we can divide the current element by its previous neighbor. This is equivalent to `square_tri[i] / square_tri[i-1]`. Notice that if `i = 0`, the denominator would be the last element `square_tri[-1]`, so we'll need to include an `if` statement that passes over this first element.\n",
        "\n",
        "2. We can also divide the next value by the current value. This is equivalent to `square_tri[i+1] / square_tri[i]`. Notice that if `i = len(square_tri) - 1`, the next element won't exist, so we'll need to include an `if` statement that passes over the last element.\n",
        "\n",
        "Use one of the two strategies above to find the ratios of the square triangular elements. For reference, the first two ratios will be $36/1$ and $1225/36$, based on the first three elements above."
      ],
      "metadata": {
        "id": "F979CXInG03c"
      }
    },
    {
      "cell_type": "code",
      "source": [
        "# YOUR CODE HERE"
      ],
      "metadata": {
        "id": "ZPHudXxvIPgT"
      },
      "execution_count": null,
      "outputs": []
    },
    {
      "cell_type": "markdown",
      "source": [
        "**Your task:** Number theory states that the ratios above tend to a specific value:\n",
        "\n",
        "\\begin{equation}\n",
        "\\lim_{i \\rightarrow \\infty} \\frac{N_{i+1}}{N_i} = (1 + \\sqrt{2})^4\n",
        "\\end{equation}\n",
        "\n",
        "To verify this, we can calculate the absolute error between this value and the ratios we calculated above:\n",
        "\n",
        "\\begin{equation}\n",
        "\\bigg| \\frac{N_{i+1}}{N_i} - (1 + \\sqrt{2})^4 \\bigg|\n",
        "\\end{equation}\n",
        "\n",
        "Create a new empty list `abs_errs`. To populate this list, write a loop that will take every element of `ratios`, calculates the absolute error using the second expression, and appends the value to `abs_errs`. It may be convenient to define the right-hand side of the limit equation as its own variable outside the loop and call it at each step."
      ],
      "metadata": {
        "id": "lffDqSnLIRLx"
      }
    },
    {
      "cell_type": "code",
      "source": [
        "# YOUR CODE HERE"
      ],
      "metadata": {
        "id": "0KbGnfFYIQtJ"
      },
      "execution_count": null,
      "outputs": []
    }
  ]
}