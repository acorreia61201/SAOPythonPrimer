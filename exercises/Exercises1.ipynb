{
 "cells": [
  {
   "cell_type": "markdown",
   "id": "639c414a",
   "metadata": {},
   "source": [
    "# SAO/LIP Python Primer Course Exercise Set 1\n",
    "\n",
    "[![Open In Colab](https://colab.research.google.com/assets/colab-badge.svg)](https://colab.research.google.com/github/acorreia61201/SAOPythonPrimer/blob/main/exercises/Exercises1.ipynb)\n",
    "\n",
    "## Exercise 1: More on Print Statements\n",
    "\n",
    "Let's start off with printing some simple statements. We'll use the (approximately) exact value of pi, which we can get from a Python library called NumPy (we'll be using this library more in-depth later on). Run the cell below:"
   ]
  },
  {
   "cell_type": "code",
   "execution_count": null,
   "id": "14d049e5",
   "metadata": {},
   "outputs": [],
   "source": [
    "from numpy import pi"
   ]
  },
  {
   "cell_type": "markdown",
   "id": "af85514c",
   "metadata": {},
   "source": [
    "**Your task:** Print the value of pi up to 6 decimal places. (Hint: refer to https://www.pythoncheatsheet.org/cheatsheet/string-formatting for help on how to do this.)"
   ]
  },
  {
   "cell_type": "code",
   "execution_count": null,
   "id": "b855a293",
   "metadata": {},
   "outputs": [],
   "source": [
    "# YOUR CODE HERE"
   ]
  },
  {
   "cell_type": "markdown",
   "id": "92dafb2d",
   "metadata": {},
   "source": [
    "**Your task:** Now, print the value of pi in scientific notation with 3 decimal places. (Hint: refer to https://www.pythoncheatsheet.org/cheatsheet/string-formatting for help on how to do this.)"
   ]
  },
  {
   "cell_type": "code",
   "execution_count": null,
   "id": "b88c89dd",
   "metadata": {},
   "outputs": [],
   "source": [
    "# YOUR CODE HERE"
   ]
  },
  {
   "cell_type": "markdown",
   "id": "7b065751",
   "metadata": {},
   "source": [
    "**Your task:** Calculate the area of a circle with a radius of 3 cm. Print out the statement, \"The area of the circle is [area] cm^2\", where [area] is the answer you get up to 2 decimal places."
   ]
  },
  {
   "cell_type": "code",
   "execution_count": null,
   "id": "e1b7455c",
   "metadata": {},
   "outputs": [],
   "source": [
    "# YOUR CODE HERE"
   ]
  },
  {
   "cell_type": "markdown",
   "id": "88b678fe",
   "metadata": {},
   "source": [
    "**Your task:** Calculate the circumference of the circle with a radius of 3 cm. Print out the statement: \"The circle has a radius of [radius] cm, an area of [area] cm^2, and a circumference of [circumference] cm.\", where the values in brackets are replaced with your answers from above with two decimal places each."
   ]
  },
  {
   "cell_type": "code",
   "execution_count": null,
   "id": "0b1f48ba",
   "metadata": {},
   "outputs": [],
   "source": [
    "# YOUR CODE HERE"
   ]
  },
  {
   "cell_type": "markdown",
   "id": "c5355277",
   "metadata": {},
   "source": [
    "## Exercise 2: Practice with Basic Operations\n",
    "\n",
    "**Your task:** Calculate the value of $2^x$, where $x$ has each of the following values:\n",
    "- `0.5`\n",
    "- `1./2.`\n",
    "- `1/2`\n",
    "- `1//2`\n",
    "- `1 % 2`\n",
    "\n",
    "The nominal value for $\\sqrt 2$ is $\\sim 1.414...$. Which expressions give the nominal result? Which ones don't? Do you know why?"
   ]
  },
  {
   "cell_type": "code",
   "execution_count": null,
   "id": "c41ef772",
   "metadata": {},
   "outputs": [],
   "source": [
    "# YOUR CODE HERE"
   ]
  },
  {
   "cell_type": "markdown",
   "id": "1cf11c61",
   "metadata": {},
   "source": [
    "## Exercise 3: Quadratic Formula\n",
    "\n",
    "The quadratic formula is a universal way of solving for the roots (a.k.a. \"zeroes\") of a quadratic expression. For an equation of the form:\n",
    "\n",
    "\\begin{equation}\n",
    "ax^2 + bx + c = 0,\n",
    "\\end{equation}\n",
    "\n",
    "its roots are:\n",
    "\n",
    "\\begin{equation}\n",
    "x = \\frac{-b \\pm \\sqrt{b^2 - 4ac}}{2a}\n",
    "\\end{equation}\n",
    "\n",
    "**Your task:** Find the roots of the following equation:\n",
    "\n",
    "\\begin{equation}\n",
    "x^2 + 2x - 3 = 0\n",
    "\\end{equation}\n",
    "\n",
    "(Hint: For the square root, you can raise the expression to the 0.5 power; there are more convenient ways of taking square roots that we'll cover later (if you know them, feel free to use them). You should also find two separate values for the two roots.) This expression is pretty easy to factor by hand; you can do this to check your answers."
   ]
  },
  {
   "cell_type": "code",
   "execution_count": null,
   "id": "4e96b2b7",
   "metadata": {},
   "outputs": [],
   "source": [
    "# YOUR CODE HERE"
   ]
  },
  {
   "cell_type": "markdown",
   "id": "ed39a482",
   "metadata": {},
   "source": [
    "**Your task:** Find the roots of the following equation:\n",
    "\n",
    "\\begin{equation}\n",
    "x^2 + 8x + 16 = 0\n",
    "\\end{equation}\n",
    "\n",
    "This is also a pretty easy expression to factor by hand if you want to check your answers."
   ]
  },
  {
   "cell_type": "code",
   "execution_count": 4,
   "id": "d0a30be9",
   "metadata": {},
   "outputs": [
    {
     "data": {
      "text/plain": [
       "1.0"
      ]
     },
     "execution_count": 4,
     "metadata": {},
     "output_type": "execute_result"
    }
   ],
   "source": [
    "# YOUR CODE HERE"
   ]
  },
  {
   "cell_type": "markdown",
   "id": "76d0975e",
   "metadata": {},
   "source": [
    "**Your task:** Find the roots of the following equation:\n",
    "\n",
    "\\begin{equation}\n",
    "4x^2 + 5x - 32 = 15\n",
    "\\end{equation}"
   ]
  },
  {
   "cell_type": "code",
   "execution_count": null,
   "id": "f93945ad",
   "metadata": {},
   "outputs": [],
   "source": [
    "# YOUR CODE HERE"
   ]
  },
  {
   "cell_type": "markdown",
   "id": "72dae164",
   "metadata": {},
   "source": [
    "## Exercise 4: Kinematic Motion\n",
    "\n",
    "The full kinematic equation of motion in one dimension is:\n",
    "\n",
    "\\begin{equation}\n",
    "x(t) = x_0 + v_0t + \\frac{1}{2}at^2\n",
    "\\end{equation}\n",
    "\n",
    "Here, $x(t)$ is the position of the object at time $t$, $x_0$ and $v_0$ are the initial position and velocity of the object (defined at time $t=0$), and $a$ is the acceleration of the object, which here we have assumed is a constant. \n",
    "\n",
    "Near the surface of the Earth, we can assume that all objects accelerate due to the force of gravity at a constant rate $g = -9.8~m/s^2$ (ignoring air resistance).\n",
    "\n",
    "**Your task:** If I drop a ball from the top of a 200 meter tall building, how far will it have fallen in 2 seconds? Define your constants and the time $t$, and write up the equation above to get the correct answer. (Hint: Assume the ball started at rest. Also, don't worry about units here; assume everything is in standard SI units (i.e. meters, seconds, kilograms).) Play around with the values; what happens when you change $v_0$? $x_0$? $a$?"
   ]
  },
  {
   "cell_type": "code",
   "execution_count": null,
   "id": "29d47944",
   "metadata": {},
   "outputs": [],
   "source": [
    "# YOUR CODE HERE"
   ]
  },
  {
   "cell_type": "markdown",
   "id": "cc29f997",
   "metadata": {},
   "source": [
    "If we want to know the velocity of an object at a certain time $t$, we can differentiate the above equation with respect to time to get:\n",
    "\n",
    "\\begin{equation}\n",
    "v(t) = v_0 + at\n",
    "\\end{equation}\n",
    "\n",
    "**Your task:** If I drop a ball from the top of a 200 meter tall building, how fast will it be moving in 2 seconds? You already have the constants above; all you have to do is write up an expression that gives the correct result."
   ]
  },
  {
   "cell_type": "code",
   "execution_count": null,
   "id": "77fc759f",
   "metadata": {},
   "outputs": [],
   "source": [
    "# YOUR CODE HERE"
   ]
  },
  {
   "cell_type": "markdown",
   "id": "b42557a0",
   "metadata": {},
   "source": [
    "**Your task:** If I drop a ball from the top of a 200 meter tall building, when will it hit the ground? To answer this, solve the given equations for $t$ and write up your results here. (Hint: The quadratic formula will be useful here; which root should you choose?) Check your answers by plugging the $t$ value into the first code block; you should get $x = 0$. Try out different initial values to see how the time changes."
   ]
  },
  {
   "cell_type": "code",
   "execution_count": null,
   "id": "fb7db160",
   "metadata": {},
   "outputs": [],
   "source": [
    "# YOUR CODE HERE"
   ]
  },
  {
   "cell_type": "markdown",
   "id": "bb9bf1a4",
   "metadata": {},
   "source": [
    "## Exercise 5: Interest\n",
    "\n",
    "When you take out a loan from a bank, the amount that you eventually have to pay back is not equal to the amount you took out. The bank will apply an additional sum, known as interest, that is based on how long you've had the loan and how much you've taken out.\n",
    "\n",
    "First, let's look at *simple interest*, which applies a flat interest rate based on the amount you initially took out. If you take out an initial value $P$ for $t$ years at a simple interest rate of $r$, the total amount $A$ you end up paying back is:\n",
    "\n",
    "\\begin{equation}\n",
    "A = P(1 + rt)\n",
    "\\end{equation}\n",
    "\n",
    "**Your task:** If I take out a \\\\$1000 loan for 7 years at a simple interest rate of 4\\%, how much money will I owe the bank? Define the variables $P$, $r$, and $t$ from above, and write up an expression that will give the correct value of $A$. (Hint: you will have to convert $r$ from a percentage to a decimal.) Play around with the values and see how the final value changes."
   ]
  },
  {
   "cell_type": "code",
   "execution_count": null,
   "id": "627d75e1",
   "metadata": {},
   "outputs": [],
   "source": [
    "# YOUR CODE HERE"
   ]
  },
  {
   "cell_type": "markdown",
   "id": "7ac94997",
   "metadata": {},
   "source": [
    "Now, let's look at *compound interest*, which applies interest based on the current value you have to pay back. That is, the interest applied changes as the value of the loan increases. If you take out an initial value $P$ for $t$ years at a compound rate $r$ applied $n$ times per year, the total amound $A$ you end up paying back is:\n",
    "\n",
    "\\begin{equation}\n",
    "A = P\\bigg(1 + \\frac{r}{n}\\bigg)^{nt}\n",
    "\\end{equation}\n",
    "\n",
    "**Your task:** If I take out a \\\\$1000 loan for 7 years at a compount interest rate of 4\\% applied monthly, how much money will I owe the bank? If you haven't changed the values of $P$, $r$, and $t$ above, you should be able to just define $n$. Write up an expression that will give the correct value of $A$. (Hint: there are 12 months in a year.) How does this compare with the simple interest value?"
   ]
  },
  {
   "cell_type": "code",
   "execution_count": null,
   "id": "3706d0e1",
   "metadata": {},
   "outputs": [],
   "source": [
    "# YOUR CODE HERE"
   ]
  },
  {
   "cell_type": "markdown",
   "id": "cf7287df",
   "metadata": {},
   "source": [
    "**Your task:** I take out the same loan for the same amount of time with the same interest rate, this time applied weekly. How much money will I owe the bank? (Hint: There are 52 weeks in a year.) How does this compare with the previous two values?"
   ]
  },
  {
   "cell_type": "code",
   "execution_count": null,
   "id": "15aa88b0",
   "metadata": {},
   "outputs": [],
   "source": [
    "# YOUR CODE HERE"
   ]
  }
 ],
 "metadata": {
  "kernelspec": {
   "display_name": "Python 3 (ipykernel)",
   "language": "python",
   "name": "python3"
  },
  "language_info": {
   "codemirror_mode": {
    "name": "ipython",
    "version": 3
   },
   "file_extension": ".py",
   "mimetype": "text/x-python",
   "name": "python",
   "nbconvert_exporter": "python",
   "pygments_lexer": "ipython3",
   "version": "3.9.16"
  }
 },
 "nbformat": 4,
 "nbformat_minor": 5
}
