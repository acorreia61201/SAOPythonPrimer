{
 "cells": [
  {
   "cell_type": "markdown",
   "id": "9f5e8456",
   "metadata": {},
   "source": [
    "# SAO/LIP Python Primer Course Exercise Set 4\n",
    "\n",
    "[![Open In Colab](https://colab.research.google.com/assets/colab-badge.svg)](https://colab.research.google.com/github/acorreia61201/SAOPythonPrimer/blob/main/exercises/Exercises4.ipynb)\n",
    "\n",
    "## Exercise 1: Wind Chill\n",
    "\n",
    "*Wind chill* is a perceived decrease in air temperature due to wind, applicable to when the temperature is particularly cold. There's a fitted formula for calculating the apparent air temperature given a wind speed $v$ in miles per hour and air temperature $T$ in Fahrenheit:\n",
    "\n",
    "\\begin{equation}\n",
    "T_{WC} = 35.74 + 0.6215T - 35.75v^{0.16} + 0.4275Tv^{0.16}\n",
    "\\end{equation}\n",
    "\n",
    "**Your task:** Define a function that takes in $T, v$ as inputs and outputs the perceived temperature when accounting for wind chill. For now, fix $T$ to some value between -50 and 50, either with a global declaration or a default parameter. \n",
    "\n",
    "Then, generate an array of 15 $v$ values ranging from 0 to 60 mph. Iterate over this array and calculate the perceived temperatures for each wind speed for your chosen temperature value. Try changing $T$ and seeing how your values change."
   ]
  },
  {
   "cell_type": "code",
   "execution_count": null,
   "id": "54f6b221",
   "metadata": {},
   "outputs": [],
   "source": [
    "# YOUR CODE HERE"
   ]
  },
  {
   "cell_type": "markdown",
   "id": "148cd660",
   "metadata": {},
   "source": [
    "The above formula is only valid for Fahrenheit temperature values and mph velocity values. Rather than write a whole new function, it would be convenient if our existing function could take in different units for $T$ and $v$.\n",
    "\n",
    "**Your task:** Add three default parameters to your function above: `input_temp = 'F'`, `output_temp = 'F'`, and `input_speed = 'miles'`. Add additional logic to the function to do the following:\n",
    "\n",
    "- If `input_temp == 'C'`, convert the input temperature to Fahrenheit:\n",
    "\n",
    "\\begin{equation}\n",
    "T_F = (9T_C/5) + 32\n",
    "\\end{equation}\n",
    "\n",
    "- If `input_speed == 'meters'`, convert the input wind speed to miles per hour:\n",
    "\n",
    "\\begin{equation}\n",
    "v_{mph} = v_{m/s} * 3600 / 1609\n",
    "\\end{equation}\n",
    "\n",
    "- If `output_temp == 'C'`, convert the output temperature to Celsius:\n",
    "\n",
    "\\begin{equation}\n",
    "T_C = 5(T_F - 32)/9\n",
    "\\end{equation}\n",
    "\n",
    "- If the parameters are set to default, your code should work the same as before. That is, if I set `input temp = C` and `input_speed = 'meters'` but keep `output_temp = 'F'`, the function should convert the inputs and output a Fahrenheit value as before. \n",
    "\n",
    "To test this, select a Celsius temperature value between -40 and 10. Generate an array of 15 speed values between 0 and 30 meters per second and iterate over it, calculating the perceived temperatures in Celsius at your chosen temperature using your modified function."
   ]
  },
  {
   "cell_type": "code",
   "execution_count": null,
   "id": "5a234365",
   "metadata": {},
   "outputs": [],
   "source": [
    "# YOUR CODE HERE"
   ]
  },
  {
   "cell_type": "markdown",
   "id": "78490f45",
   "metadata": {},
   "source": [
    "## Exercise 2: Grading a Class\n",
    "\n",
    "Let's pretend I recently proctored a test and have to submit grades. The students' grades are below:"
   ]
  },
  {
   "cell_type": "code",
   "execution_count": null,
   "id": "13645956",
   "metadata": {},
   "outputs": [],
   "source": [
    "grades = {'Alice': 51, 'Ben': 90, 'Carlos': 47, 'Tim': 87, 'Eddy': 72, 'Rita': 83, 'Emma': 95,\n",
    "          'Alex': 44, 'Sydney': 74, 'May': 42, 'Greg': 76, 'Maya': 71, 'Laura': 81, 'Matthew': 45, \n",
    "          'Madison': 54, 'Eric': 46, 'Zach': 60, 'Sam': 85, 'Cole': 65, 'Natalie': 57}"
   ]
  },
  {
   "cell_type": "markdown",
   "id": "ce0e87ca",
   "metadata": {},
   "source": [
    "A lot of them didn't do too well, so I want to scale their grades so they have a better chance of passing the class.\n",
    "\n",
    "**Your task:** To start, I want to try adding a flat amount to everyone's grades. Write a loop that adds 15 points to everyone's grade. Do this in a new dictionary so we can use the original values later. Print out the student and their grade on each iteration."
   ]
  },
  {
   "cell_type": "code",
   "execution_count": null,
   "id": "ee3eef9d",
   "metadata": {},
   "outputs": [],
   "source": [
    "# YOUR CODE HERE"
   ]
  },
  {
   "cell_type": "markdown",
   "id": "40c1eed2",
   "metadata": {},
   "source": [
    "Turns out that's not a very good strategy. It definitely helps out the lower-performing students, but now the students that got mid to high B's now get a better than perfect score.\n",
    "\n",
    "**Your task:** Let's try a different strategy. Write a loop that adds 15 percent of the points the students lost back to their grade. Again, print out the students and their grade on each iteration. (Hint: the grades are out of 100 points, so the amount of points they lost will be (100 - grade).)"
   ]
  },
  {
   "cell_type": "code",
   "execution_count": null,
   "id": "f360da7c",
   "metadata": {},
   "outputs": [],
   "source": [
    "# YOUR CODE HERE"
   ]
  },
  {
   "cell_type": "markdown",
   "id": "59a1927f",
   "metadata": {},
   "source": [
    "This one's a little better since it ensures no student can get more than 100, but it doesn't help out the worst-performing students that much.\n",
    "\n",
    "**Your task:** Let's try a hybrid approach. I'll add back either 20\\% of the points a student lost or 10 flat points; whichever is lesser. Write a loop that will apply these changes to the students' grades and print the results as before."
   ]
  },
  {
   "cell_type": "code",
   "execution_count": null,
   "id": "3f71e30b",
   "metadata": {},
   "outputs": [],
   "source": [
    "# YOUR CODE HERE"
   ]
  },
  {
   "cell_type": "markdown",
   "id": "12552977",
   "metadata": {},
   "source": [
    "This strategy works out pretty well, so I think I'll stick with these new grades. When handing back the tests, I want to attach a letter grade so the students can get a rough idea of how they did at a glance. The class has the following grading policy:\n",
    "\n",
    "- A student gets an A if their grade is between 90 and 100\n",
    "- A student gets a B if their grade is between 80 and 89.99\n",
    "- A student gets a C if their grade is between 70 and 79.99\n",
    "- A student gets a D if their grade is between 60 and 69.99\n",
    "- A student gets an F if their grade is less than a 60\n",
    "\n",
    "**Your task:** Create a new dictionary by converting the students' scaled number grades to letter grades. Use a loop to iterate over the scaled grade dictionary."
   ]
  },
  {
   "cell_type": "code",
   "execution_count": null,
   "id": "3938efe5",
   "metadata": {},
   "outputs": [],
   "source": [
    "# YOUR CODE HERE"
   ]
  },
  {
   "cell_type": "markdown",
   "id": "3838c967",
   "metadata": {},
   "source": [
    "## Exercise 3: Numerical Integration, Part 1\n",
    "\n",
    "Another common problem that require an algorithmic treatment on computers is *integration*, which most basically is the method of computing the areas under arbitrary curves. While integration can be relatively simple to do by-hand, computational integration requires a bit more thought to implement. \n",
    "\n",
    "Fortunately, there are several tried-and-true methods to approximate integrals algorithmically. One of these methods is the *trapezoidal method*, which calculates the area under a curve using trapezoids that approximate the true function. (If you're unfamiliar, see https://en.wikipedia.org/wiki/Trapezoidal_rule for some pictoral examples.) \n",
    "\n",
    "If we want to integrate a function $f(x)$ on an interval $(a, b)$, we can instead divide the interval into a series of $N$ trapezoids of equal width $\\Delta x$. The \"tilted\" side of the trapezoid is a linear fit to the left and right bounds of the trapezoid. Using this concept, we can write an algorithm to approximate an integral as:\n",
    "\n",
    "\\begin{equation}\n",
    "\\int_a^b f(x) dx \\approx \\frac{\\Delta x}{2} \\big(f(x_0) + 2f(x_1) + 2f(x_2) + 2f(x_3) + ... + f(x_N) \\big)\n",
    "\\end{equation}\n",
    "\n",
    "For this exercise, you can take:\n",
    "\n",
    "\\begin{equation}\n",
    "\\Delta x = \\frac{b-a}{N}\n",
    "\\end{equation}\n",
    "\n",
    "**Your task:** We'll construct a function to apply the trapezoidal rule piecewise. In the function `trapezoidal()` below, write some code that will return a grid of $N+1$ evenly spaced values over the interval $[a, b]$. Test it with a simple example; if you run `trapezoidal(0, 10, 10)`, you should get a grid of integers from 0 to 10 (albeit represented as floats; don't worry about type casting with `dtype`)."
   ]
  },
  {
   "cell_type": "code",
   "execution_count": null,
   "id": "35edaf95",
   "metadata": {},
   "outputs": [],
   "source": [
    "def trapezoidal(a, b, N, f):\n",
    "    # YOUR CODE HERE"
   ]
  },
  {
   "cell_type": "markdown",
   "id": "db277201",
   "metadata": {},
   "source": [
    "You'll notice that I set a parameter `f`; this will be the function we want to integrate. To start simple, we'll use a relatively simple function:\n",
    "\n",
    "\\begin{equation}\n",
    "f(x) = x^2\n",
    "\\end{equation}\n",
    "\n",
    "**Your task:** Write a function that simply returns the value of $f(x)$ below."
   ]
  },
  {
   "cell_type": "code",
   "execution_count": null,
   "id": "1b21b2d8",
   "metadata": {},
   "outputs": [],
   "source": [
    "# YOUR CODE HERE"
   ]
  },
  {
   "cell_type": "markdown",
   "id": "46e721c2",
   "metadata": {},
   "source": [
    "**Your task:** Now, modify `trapezoidal` to include a `for` loop iterating over your grid from above that applies the trapezoidal rule. The function should return the value of the integral.\n",
    "\n",
    "(Hint: It will be useful to calculate the first and last terms outside of the loop; perhaps you could define a variable `integral` representing the full sum whose initial value is `f(a) + f(b)` Then iterate over all of the other values from $i = 1$ to $i = N-1$). \n",
    "\n",
    "(Hint: Each element can be expressed in terms of the separation $\\Delta x$ and the lower bound $a$ as $x_i = a + i\\Delta x$. Using this, $a$ will be $x_0$ and $b$ will be $x_{N} = a + N\\Delta x)$. Remember that we want $N$ trapezoids, which requires that we have $N+1$ points between them.)\n",
    "\n",
    "Test your function by approximating the following integral:\n",
    "\n",
    "\\begin{equation}\n",
    "\\int_0^1 x^2 dx\n",
    "\\end{equation}\n",
    "\n",
    "We know that the exact value of the above expression is $1/3$; does your code above come close to this? Try increasing $N$ to see if the result improves."
   ]
  },
  {
   "cell_type": "code",
   "execution_count": null,
   "id": "f270e0ce",
   "metadata": {},
   "outputs": [],
   "source": [
    "# YOUR CODE HERE"
   ]
  },
  {
   "cell_type": "markdown",
   "id": "a4d22a10",
   "metadata": {},
   "source": [
    "**Your task:** Write another function that returns the value of the *normal distribution*:\n",
    "\n",
    "\\begin{equation}\n",
    "f(x) = \\frac{1}{\\sqrt{2\\pi}}e^{-\\frac{x^2}{2}}\n",
    "\\end{equation}\n",
    "\n",
    "Use `trapezoidal()` to estimate the integral of this function on the interval $[a, b] = [-1, 1]$. Since this is a normal distribution with a standard deviation of 1, this integral should work out to $\\sim 0.6827$. Does your estimate come close? Try increasing $N$ and see what happens."
   ]
  },
  {
   "cell_type": "code",
   "execution_count": null,
   "id": "039c14c6",
   "metadata": {},
   "outputs": [],
   "source": [
    "# YOUR CODE HERE"
   ]
  },
  {
   "cell_type": "markdown",
   "id": "b95a0f49",
   "metadata": {},
   "source": [
    "## Exercise 4: Numerical Integration, Part 2\n",
    "\n",
    "Another numerical integration algorithm is *Monte-Carlo integration* (https://en.wikipedia.org/wiki/Monte_Carlo_integration). This method essentially counts the number of points in a uniform random distribution that lie inside the area we want to calculate. As the number of points approaches infinity, the integral estimate should approach the true value.\n",
    "\n",
    "This strategy is most useful when calculating multivariate integrals, such as the areas of shapes. Consequently, one popular use for the Monte-Carlo method is estimating the value of $\\pi$ by estimating the area of a circle. We'll estimate $\\pi$ using a Monte-Carlo integrator by developing a function piecewise.\n",
    "\n",
    "**Your task:** Write a function `monte_carlo()` that generates two random arrays of $N$ numbers ranging from -1 to 1. These will represent the $x$ and $y$ values in the formula below. You'll need a random number generator for this; see the docs for `numpy.random.uniform()` here: https://numpy.org/doc/stable/reference/random/generated/numpy.random.uniform.html.\n",
    "\n",
    "(Hint: If you're still unsure, the syntax of the `np.geomspace()` input is `(lower, upper, num)` if we want to generate `num` points between `lower` and `upper`."
   ]
  },
  {
   "cell_type": "code",
   "execution_count": null,
   "id": "eb88d861",
   "metadata": {},
   "outputs": [],
   "source": [
    "def monte_carlo(N, f):\n",
    "    # YOUR CODE HERE"
   ]
  },
  {
   "cell_type": "markdown",
   "id": "f56951a3",
   "metadata": {},
   "source": [
    "The algorithm for general 2D Monte-Carlo integration is as follows:\n",
    "\n",
    "\\begin{equation}\n",
    "\\int_c^d \\int_a^b f(x, y)dxdy = \\lim_{N \\rightarrow \\infty} \\frac{V}{N}\\sum_{i=1}^N f(x_i, y_i)\n",
    "\\end{equation}\n",
    "\n",
    "Here, $V$ is the volume of the sample space $(b-a) \\times (d-c)$. The arrays above will stand in for our values of $x$ and $y$, and since they both vary over $[-1, 1]$, the value of $V$ will be $(1+1) \\times (1+1) = 4$. \n",
    "\n",
    "**Your task:** Modify `monte_carlo()` so that it computes the integral of a function using the Monte-Carlo method. Your algorithm should use the array of random points you generated above.\n",
    "\n",
    "(Hint: We'll use the two arrays as if they were $(x,y)$ pairs. That is, if we named the arrays `x` and `y`, then `x[i]` and `y[i]` will be the ith ordered pair that we evaluate the function at.)"
   ]
  },
  {
   "cell_type": "code",
   "execution_count": null,
   "id": "04a7c1c4",
   "metadata": {},
   "outputs": [],
   "source": [
    "# YOUR CODE HERE"
   ]
  },
  {
   "cell_type": "markdown",
   "id": "ed9e96dd",
   "metadata": {},
   "source": [
    "For this example, we'll set $f(x, y)$ to be the *Heaviside function*, which will measure whether a point lies in the unit circle:\n",
    "\n",
    "\\begin{equation}\n",
    "f(x, y) = \n",
    "\\begin{cases}\n",
    "1, &\\sqrt{x^2 + y^2} \\leq 1 \\\\\n",
    "0, &otherwise\n",
    "\\end{cases}\n",
    "\\end{equation}\n",
    "\n",
    "**Your task:** Write a function that evaluates the Heaviside function above for an ordered pair consisting of the first and second elements. This will be the variable `f` in the function declaration above; you can test that the function is working by calling `monte_carlo(N, function)`, where `function` is the function you define below and `N` is an integer of your choice. The value won't converge very well for small values of $N$; as long as you get something around 3 or 3.1, you should be okay."
   ]
  },
  {
   "cell_type": "code",
   "execution_count": null,
   "id": "854c4b3b",
   "metadata": {},
   "outputs": [],
   "source": [
    "# YOUR CODE HERE"
   ]
  },
  {
   "cell_type": "markdown",
   "id": "f55c24e2",
   "metadata": {},
   "source": [
    "**Your task:** Test this integral for several values of $N$ using 15 values. You may use `np.linspace()` to do this for a small range of values. Alternatively, you could use `numpy.geomspace()` (https://numpy.org/doc/stable/reference/generated/numpy.geomspace.html) to test over a large range of values (say, `np.geomspace(1, 10**6)` to test from 1 to 1 million). We know that the area of a unit circle should be exactly $\\pi$; does you result converge to this?"
   ]
  },
  {
   "cell_type": "code",
   "execution_count": null,
   "id": "719aacd8",
   "metadata": {},
   "outputs": [],
   "source": [
    "# YOUR CODE HERE"
   ]
  }
 ],
 "metadata": {
  "kernelspec": {
   "display_name": "Python 3 (ipykernel)",
   "language": "python",
   "name": "python3"
  },
  "language_info": {
   "codemirror_mode": {
    "name": "ipython",
    "version": 3
   },
   "file_extension": ".py",
   "mimetype": "text/x-python",
   "name": "python",
   "nbconvert_exporter": "python",
   "pygments_lexer": "ipython3",
   "version": "3.9.16"
  }
 },
 "nbformat": 4,
 "nbformat_minor": 5
}
