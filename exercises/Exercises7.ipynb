{
 "cells": [
  {
   "cell_type": "markdown",
   "id": "ed8c11cb",
   "metadata": {},
   "source": [
    "# SAO/LIP Python Primer Course Exercise Set 7\n",
    "\n",
    "[![Open In Colab](https://colab.research.google.com/assets/colab-badge.svg)](https://colab.research.google.com/github/acorreia61201/SAOPythonPrimer/blob/main/exercises/Exercises7.ipynb)\n",
    "\n",
    "This exercise set is split between two parts. The first part deals with basic Python I/O, while the second does some more robust numerical analyses using `pandas`.\n",
    "\n",
    "## Exercise 1.1: Simple File Manipulation\n",
    "\n",
    "Let's get some practice reading and writing files using Python builtins, as well as navigating directories. Each file that you generate below should have one word per line.\n",
    "\n",
    "**Your task:** Create a directory called `my_files`. Move to this directory and create two new directories inside it, `dogs` and `fruits`. Check by using `os.listdir()`."
   ]
  },
  {
   "cell_type": "code",
   "execution_count": 6,
   "id": "29ccd26b",
   "metadata": {},
   "outputs": [],
   "source": [
    "# YOUR CODE HERE"
   ]
  },
  {
   "cell_type": "markdown",
   "id": "dca84212",
   "metadata": {},
   "source": [
    "**Your task:** Generate two files:\n",
    "- Create a file `dog_list.txt` using the list `dog_breeds` below, and place it in `dogs`.\n",
    "- Create a file `fruit_list.txt` using the list `fruit_types` below, and place it in `fruits`."
   ]
  },
  {
   "cell_type": "code",
   "execution_count": 7,
   "id": "314e4577",
   "metadata": {},
   "outputs": [],
   "source": [
    "dog_breeds = ['pug', 'schnauzer', 'shiba inu', 'poodle', 'greyhound', 'chihuahua', 'great dane']\n",
    "fruit_types = ['apple', 'banana', 'blueberry', 'strawberry', 'grape', 'pineapple', 'cantaloupe']\n",
    "\n",
    "# YOUR CODE HERE"
   ]
  },
  {
   "cell_type": "markdown",
   "id": "29e7ab21",
   "metadata": {},
   "source": [
    "**Your task:** Create a new file `reversed_dogs.txt`. Read in the contents of `dog_list.txt` and write them in reverse order in this new file. Move this file to the `dogs` directory. (Don't just use the lists above; you should use `open()` to get the contents.)"
   ]
  },
  {
   "cell_type": "code",
   "execution_count": 8,
   "id": "bc73f33f",
   "metadata": {},
   "outputs": [],
   "source": [
    "# YOUR CODE HERE"
   ]
  },
  {
   "cell_type": "markdown",
   "id": "958bcb2d",
   "metadata": {},
   "source": [
    "**Your task:** Create a new file `alphabet_fruits.txt`. Read in the contents of `fruit_list.txt` and write them in alphabetical order in this new file. Move this file to the `fruits` directory."
   ]
  },
  {
   "cell_type": "code",
   "execution_count": null,
   "id": "0829ed0e",
   "metadata": {},
   "outputs": [],
   "source": [
    "# YOUR CODE HERE"
   ]
  },
  {
   "cell_type": "markdown",
   "id": "0f6b7bb5",
   "metadata": {},
   "source": [
    "**Your task:** Write a loop below that reads in `dogs/dogs_list.txt` and prints out the names of dogs that contain the letter `a`. Write these names to a new file, `dog_count.txt`, in the current working directory (i.e. `my_files`)."
   ]
  },
  {
   "cell_type": "code",
   "execution_count": null,
   "id": "4b9b91b9",
   "metadata": {},
   "outputs": [],
   "source": [
    "# YOUR CODE HERE"
   ]
  },
  {
   "cell_type": "markdown",
   "id": "e81996ec",
   "metadata": {},
   "source": [
    "**Your task:** Write a loop that reads in `fruits/fruit_list.txt` and prints out the names of fruits with more than 7 letters. Write these names to a new file, `fruit_count.txt`, in the current working directory (i.e. `my_files`)."
   ]
  },
  {
   "cell_type": "code",
   "execution_count": null,
   "id": "a96dd0a9",
   "metadata": {},
   "outputs": [],
   "source": [
    "# YOUR CODE HERE"
   ]
  },
  {
   "cell_type": "markdown",
   "id": "de5b0bf8",
   "metadata": {},
   "source": [
    "## Exercise 1.2: Find and Replace Substrings in Files\n",
    "\n",
    "In this exercise, we'll be using the Gettysburg Address file that was downloaded in the lecture. If you need to download or re-download the file, run the cell below (be sure to rename it if necessary)."
   ]
  },
  {
   "cell_type": "code",
   "execution_count": null,
   "id": "83e02069",
   "metadata": {},
   "outputs": [],
   "source": [
    "!wget https://collincapano.com/wp-content/uploads/2023/01/gettysburg_address-bliss_copy.txt"
   ]
  },
  {
   "cell_type": "markdown",
   "id": "13b17555",
   "metadata": {},
   "source": [
    "**Your task:** Write a loop below that searches the file for the string 'here' (don't worry about caps; none of the occurrences of 'here' are capitalized anyways). If a line contains 'here', print that line to screen along with its line number. Treat the first line as line 1. At the end, print out the number of occurrences of 'here' in the file."
   ]
  },
  {
   "cell_type": "code",
   "execution_count": 1,
   "id": "432ef016",
   "metadata": {},
   "outputs": [],
   "source": [
    "# YOUR CODE HERE"
   ]
  },
  {
   "cell_type": "markdown",
   "id": "062d9ae9",
   "metadata": {},
   "source": [
    "**Your task:** Now, write a loop that replaces every occurrence of 'here' with 'there'. You will need to make use of the method `readobj.replace()`, where `readobj` is a placeholder for `file.read()` for a given `file`. The first input for `replace()` is the string you wish to replace, and the second is the string you want to replace it with. (If you need help, see the examples at https://linuxhint.com/python-replaces-string-file/.) Write the changes to the same file, and use `read()` to check if the changes were correct."
   ]
  },
  {
   "cell_type": "code",
   "execution_count": 3,
   "id": "3c03094a",
   "metadata": {},
   "outputs": [],
   "source": [
    "# YOUR CODE HERE"
   ]
  },
  {
   "cell_type": "markdown",
   "id": "a0f60d48",
   "metadata": {},
   "source": [
    "Let's now try the same thing with multiple files. Run the cell below to download a bunch of files I made. You'll see a bunch of files that end in `.ini` if you do `os.listdir()`."
   ]
  },
  {
   "cell_type": "code",
   "execution_count": 12,
   "id": "f18dbca0",
   "metadata": {},
   "outputs": [
    {
     "name": "stdout",
     "output_type": "stream",
     "text": [
      "--2023-06-01 01:44:36--  https://raw.githubusercontent.com/acorreia61201/SAOPythonPrimer/main/files/ini_files/GW150914_full_fixed.ini\n",
      "Resolving raw.githubusercontent.com (raw.githubusercontent.com)... 185.199.111.133, 185.199.108.133, 185.199.109.133, ...\n",
      "Connecting to raw.githubusercontent.com (raw.githubusercontent.com)|185.199.111.133|:443... connected.\n",
      "HTTP request sent, awaiting response... 200 OK\n",
      "Length: 5751 (5.6K) [text/plain]\n",
      "Saving to: ‘GW150914_full_fixed.ini’\n",
      "\n",
      "GW150914_full_fixed 100%[===================>]   5.62K  --.-KB/s    in 0.001s  \n",
      "\n",
      "2023-06-01 01:44:37 (5.01 MB/s) - ‘GW150914_full_fixed.ini’ saved [5751/5751]\n",
      "\n",
      "--2023-06-01 01:44:37--  https://raw.githubusercontent.com/acorreia61201/SAOPythonPrimer/main/files/ini_files/GW150914_full_fixed_IMR.ini\n",
      "Resolving raw.githubusercontent.com (raw.githubusercontent.com)... 185.199.111.133, 185.199.108.133, 185.199.109.133, ...\n",
      "Connecting to raw.githubusercontent.com (raw.githubusercontent.com)|185.199.111.133|:443... connected.\n",
      "HTTP request sent, awaiting response... 200 OK\n",
      "Length: 7450 (7.3K) [text/plain]\n",
      "Saving to: ‘GW150914_full_fixed_IMR.ini’\n",
      "\n",
      "GW150914_full_fixed 100%[===================>]   7.28K  --.-KB/s    in 0.004s  \n",
      "\n",
      "2023-06-01 01:44:37 (1.61 MB/s) - ‘GW150914_full_fixed_IMR.ini’ saved [7450/7450]\n",
      "\n",
      "--2023-06-01 01:44:37--  https://raw.githubusercontent.com/acorreia61201/SAOPythonPrimer/main/files/ini_files/GW150914_full_fixed_inject_IMR.ini\n",
      "Resolving raw.githubusercontent.com (raw.githubusercontent.com)... 185.199.111.133, 185.199.108.133, 185.199.109.133, ...\n",
      "Connecting to raw.githubusercontent.com (raw.githubusercontent.com)|185.199.111.133|:443... connected.\n",
      "HTTP request sent, awaiting response... 200 OK\n",
      "Length: 7248 (7.1K) [text/plain]\n",
      "Saving to: ‘GW150914_full_fixed_inject_IMR.ini’\n",
      "\n",
      "GW150914_full_fixed 100%[===================>]   7.08K  --.-KB/s    in 0.001s  \n",
      "\n",
      "2023-06-01 01:44:37 (4.81 MB/s) - ‘GW150914_full_fixed_inject_IMR.ini’ saved [7248/7248]\n",
      "\n",
      "--2023-06-01 01:44:38--  https://raw.githubusercontent.com/acorreia61201/SAOPythonPrimer/main/files/ini_files/GW150914_full_fixed_inject.ini\n",
      "Resolving raw.githubusercontent.com (raw.githubusercontent.com)... 185.199.111.133, 185.199.108.133, 185.199.109.133, ...\n",
      "Connecting to raw.githubusercontent.com (raw.githubusercontent.com)|185.199.111.133|:443... connected.\n",
      "HTTP request sent, awaiting response... 200 OK\n",
      "Length: 5549 (5.4K) [text/plain]\n",
      "Saving to: ‘GW150914_full_fixed_inject.ini’\n",
      "\n",
      "GW150914_full_fixed 100%[===================>]   5.42K  --.-KB/s    in 0.002s  \n",
      "\n",
      "2023-06-01 01:44:38 (2.57 MB/s) - ‘GW150914_full_fixed_inject.ini’ saved [5549/5549]\n",
      "\n",
      "--2023-06-01 01:44:38--  https://raw.githubusercontent.com/acorreia61201/SAOPythonPrimer/main/files/ini_files/GW150914_full_var.ini\n",
      "Resolving raw.githubusercontent.com (raw.githubusercontent.com)... 185.199.111.133, 185.199.108.133, 185.199.109.133, ...\n",
      "Connecting to raw.githubusercontent.com (raw.githubusercontent.com)|185.199.111.133|:443... connected.\n",
      "HTTP request sent, awaiting response... 200 OK\n",
      "Length: 5821 (5.7K) [text/plain]\n",
      "Saving to: ‘GW150914_full_var.ini’\n",
      "\n",
      "GW150914_full_var.i 100%[===================>]   5.68K  --.-KB/s    in 0.001s  \n",
      "\n",
      "2023-06-01 01:44:38 (6.09 MB/s) - ‘GW150914_full_var.ini’ saved [5821/5821]\n",
      "\n",
      "--2023-06-01 01:44:38--  https://raw.githubusercontent.com/acorreia61201/SAOPythonPrimer/main/files/ini_files/GW150914_full_var_IMR.ini\n",
      "Resolving raw.githubusercontent.com (raw.githubusercontent.com)... 185.199.111.133, 185.199.108.133, 185.199.109.133, ...\n",
      "Connecting to raw.githubusercontent.com (raw.githubusercontent.com)|185.199.111.133|:443... connected.\n",
      "HTTP request sent, awaiting response... 200 OK\n",
      "Length: 7500 (7.3K) [text/plain]\n",
      "Saving to: ‘GW150914_full_var_IMR.ini’\n",
      "\n",
      "GW150914_full_var_I 100%[===================>]   7.32K  --.-KB/s    in 0.01s   \n",
      "\n",
      "2023-06-01 01:44:38 (653 KB/s) - ‘GW150914_full_var_IMR.ini’ saved [7500/7500]\n",
      "\n",
      "--2023-06-01 01:44:39--  https://raw.githubusercontent.com/acorreia61201/SAOPythonPrimer/main/files/ini_files/GW150914_full_var_inject_IMR.ini\n",
      "Resolving raw.githubusercontent.com (raw.githubusercontent.com)... 185.199.111.133, 185.199.108.133, 185.199.109.133, ...\n",
      "Connecting to raw.githubusercontent.com (raw.githubusercontent.com)|185.199.111.133|:443... connected.\n",
      "HTTP request sent, awaiting response... 200 OK\n",
      "Length: 7298 (7.1K) [text/plain]\n",
      "Saving to: ‘GW150914_full_var_inject_IMR.ini’\n",
      "\n",
      "GW150914_full_var_i 100%[===================>]   7.13K  --.-KB/s    in 0.002s  \n",
      "\n",
      "2023-06-01 01:44:39 (4.36 MB/s) - ‘GW150914_full_var_inject_IMR.ini’ saved [7298/7298]\n",
      "\n",
      "--2023-06-01 01:44:39--  https://raw.githubusercontent.com/acorreia61201/SAOPythonPrimer/main/files/ini_files/GW150914_full_var_inject.ini\n",
      "Resolving raw.githubusercontent.com (raw.githubusercontent.com)... 185.199.111.133, 185.199.108.133, 185.199.109.133, ...\n",
      "Connecting to raw.githubusercontent.com (raw.githubusercontent.com)|185.199.111.133|:443... connected.\n",
      "HTTP request sent, awaiting response... 200 OK\n",
      "Length: 5619 (5.5K) [text/plain]\n",
      "Saving to: ‘GW150914_full_var_inject.ini’\n",
      "\n",
      "GW150914_full_var_i 100%[===================>]   5.49K  --.-KB/s    in 0.006s  \n",
      "\n",
      "2023-06-01 01:44:39 (996 KB/s) - ‘GW150914_full_var_inject.ini’ saved [5619/5619]\n",
      "\n"
     ]
    }
   ],
   "source": [
    "!wget https://raw.githubusercontent.com/acorreia61201/SAOPythonPrimer/main/files/ini_files/GW150914_full_fixed.ini\n",
    "!wget https://raw.githubusercontent.com/acorreia61201/SAOPythonPrimer/main/files/ini_files/GW150914_full_fixed_IMR.ini\n",
    "!wget https://raw.githubusercontent.com/acorreia61201/SAOPythonPrimer/main/files/ini_files/GW150914_full_fixed_inject_IMR.ini\n",
    "!wget https://raw.githubusercontent.com/acorreia61201/SAOPythonPrimer/main/files/ini_files/GW150914_full_fixed_inject.ini\n",
    "!wget https://raw.githubusercontent.com/acorreia61201/SAOPythonPrimer/main/files/ini_files/GW150914_full_var.ini\n",
    "!wget https://raw.githubusercontent.com/acorreia61201/SAOPythonPrimer/main/files/ini_files/GW150914_full_var_IMR.ini\n",
    "!wget https://raw.githubusercontent.com/acorreia61201/SAOPythonPrimer/main/files/ini_files/GW150914_full_var_inject_IMR.ini\n",
    "!wget https://raw.githubusercontent.com/acorreia61201/SAOPythonPrimer/main/files/ini_files/GW150914_full_var_inject.ini"
   ]
  },
  {
   "cell_type": "markdown",
   "id": "7f5b5a19",
   "metadata": {},
   "source": [
    "You should now have a bunch of `.ini` files in your working directory. It would be convenient if we could move all these to their own directory.\n",
    "\n",
    "**Your task:** Move all eight `.ini` files to a directory called `ini_files` in your current working directory. (Hint: You may find the method `file.endswith()` useful here: https://www.pythonforbeginners.com/code-snippets-source-code/python-os-listdir-and-endswith.) Move to this directory for the next part and to check if all eight are there."
   ]
  },
  {
   "cell_type": "code",
   "execution_count": null,
   "id": "5fc72975",
   "metadata": {},
   "outputs": [],
   "source": [
    "# YOUR CODE HERE"
   ]
  },
  {
   "cell_type": "markdown",
   "id": "7cacc0e7",
   "metadata": {},
   "source": [
    "**Your task:** Each file contains lines with the path `'/work/pi_ccapano_umassd_edu/acorreia7_umassd_edu'`, my home directory on a cluster I use to do research. Use a loop to find and replace each instance of this string in the files you've downloaded with your current working directory.\n",
    "\n",
    "A good check would be to first print out how many instances of my string are in the files. Then, once you do your find/replace procedure, you should find that the files have the exact same number of your string and none of mine.\n",
    "\n",
    "When you're done, make sure to move back to the directory you started from with `os.chdir('..')`"
   ]
  },
  {
   "cell_type": "code",
   "execution_count": 5,
   "id": "ac17de89",
   "metadata": {},
   "outputs": [],
   "source": [
    "# YOUR CODE HERE"
   ]
  },
  {
   "cell_type": "markdown",
   "id": "3e4442e2",
   "metadata": {},
   "source": [
    "## Exercise 2.1: Gravitational Waves\n",
    "\n",
    "We'll do a couple simple examples with plotting and analyzing data using *gravitational wave* data. Gravitational waves are ripples in spacetime casued by the orbit and merger of two objects. With current technology, we have so far only been able to detect gravitational waves from systems involving black holes and neutron stars, the two densest astrophysical objects.\n",
    "\n",
    "Download the following data:"
   ]
  },
  {
   "cell_type": "code",
   "execution_count": 5,
   "id": "84c35fd2",
   "metadata": {},
   "outputs": [
    {
     "name": "stdout",
     "output_type": "stream",
     "text": [
      "--2023-05-31 23:33:38--  https://raw.githubusercontent.com/acorreia61201/SAOPythonPrimer/main/files/GW150914.csv\n",
      "Resolving raw.githubusercontent.com (raw.githubusercontent.com)... 185.199.110.133, 185.199.109.133, 185.199.111.133, ...\n",
      "Connecting to raw.githubusercontent.com (raw.githubusercontent.com)|185.199.110.133|:443... connected.\n",
      "HTTP request sent, awaiting response... 200 OK\n",
      "Length: 124617 (122K) [text/plain]\n",
      "Saving to: ‘GW150914.csv’\n",
      "\n",
      "GW150914.csv        100%[===================>] 121.70K  --.-KB/s    in 0.04s   \n",
      "\n",
      "2023-05-31 23:33:38 (2.78 MB/s) - ‘GW150914.csv’ saved [124617/124617]\n",
      "\n"
     ]
    }
   ],
   "source": [
    "!wget https://raw.githubusercontent.com/acorreia61201/SAOPythonPrimer/main/files/GW150914.csv"
   ]
  },
  {
   "cell_type": "markdown",
   "id": "3107b81d",
   "metadata": {},
   "source": [
    "This is the initial data release for GW150914, the first direct detection of a gravitational wave from a binary black hole merger. The first column t lists the times in seconds of the analysis, and the second column h lists the *strain* in units of $10^{-21}$, a technical term for the wave amplitude.\n",
    "\n",
    "**Your task:** Load the data from above using `pandas`. Assign the name 'Times' to column t and 'Strains' to column h. Check that you read in the data correctly. The data should run from 0.25 to a little less than 0.46 seconds."
   ]
  },
  {
   "cell_type": "code",
   "execution_count": null,
   "id": "756733f2",
   "metadata": {},
   "outputs": [],
   "source": [
    "# YOUR CODE HERE"
   ]
  },
  {
   "cell_type": "markdown",
   "id": "c50044fc",
   "metadata": {},
   "source": [
    "**Your task:** Let's plot the data to see what a typical GW event looks like. Plot strain vs. time, and label the x-axis 'time (s)' and the y-axis 'strain ($Hz^{-1/2}$)' using Latex notation (these units are the inverse square root of Hertz, or square root of seconds). "
   ]
  },
  {
   "cell_type": "code",
   "execution_count": null,
   "id": "bf5eddc4",
   "metadata": {},
   "outputs": [],
   "source": [
    "# YOUR CODE HERE"
   ]
  },
  {
   "cell_type": "markdown",
   "id": "a3701ac9",
   "metadata": {},
   "source": [
    "One parameter of importance to GW research is the maximum amplitude of an event. We call the point at which a GW reaches this max amplitude the *merger*. The detectors current available to LIGO (the Laser Interferometer Gravitational-Wave Observatory) can detect strains of order $\\sim 10^{-22}$. This means that a detector several kilometers long can detect length changes due to gravitational waves around the size of an atomic nucleus.\n",
    "\n",
    "We'll do a rudimentary sanity check to see if this is a detectable gravitational wave by finding the maximum amplitude point and calling it the merger. This isn't a great assumption, since noise in the detectors will bias these points. A more robust test would involve cleaning the noise in the data and finding the maximum frequency point, but that requires more advanced techniques we won't get into.\n",
    "\n",
    "**Your task:** Print out the maximum and minimum strain values from the data. We'll take the largest absolute value to be the merger. Is this larger than the maximum sensitivity of LIGO?\n",
    "\n",
    "Also, get the time at which this maximum amplitude occurs."
   ]
  },
  {
   "cell_type": "code",
   "execution_count": null,
   "id": "1d8b6c89",
   "metadata": {},
   "outputs": [],
   "source": [
    "# YOUR CODE HERE"
   ]
  },
  {
   "cell_type": "markdown",
   "id": "407ff8ed",
   "metadata": {},
   "source": [
    "Gravitational wave events often occur over very short timespans. In the case of black hole mergers like GW150914, the objects can end up moving so fast that they are *relativistic*, meaning our classical mechanical models can no longer accurately describe them.\n",
    "\n",
    "**Your task:** Calculate the amount of time that passed from the start of data to the merger. As a sanity check, this should be shorter than the full length of the dataset, ~0.21 seconds."
   ]
  },
  {
   "cell_type": "code",
   "execution_count": null,
   "id": "0ae68e41",
   "metadata": {},
   "outputs": [],
   "source": [
    "# YOUR CODE HERE"
   ]
  },
  {
   "cell_type": "markdown",
   "id": "2cb71504",
   "metadata": {},
   "source": [
    "We can use numerical simulations to attempt to clean up the noise in the data for more accurate analyses. We won't get into this analysis since it requires robust knowledge of general relativity, but I will provide the result from the initial observation paper. You can download the data below:"
   ]
  },
  {
   "cell_type": "code",
   "execution_count": 6,
   "id": "9c4479ec",
   "metadata": {},
   "outputs": [
    {
     "name": "stdout",
     "output_type": "stream",
     "text": [
      "--2023-06-01 00:37:39--  https://raw.githubusercontent.com/acorreia61201/SAOPythonPrimer/main/files/GW150914_model.csv\n",
      "Resolving raw.githubusercontent.com (raw.githubusercontent.com)... 185.199.110.133, 185.199.111.133, 185.199.108.133, ...\n",
      "Connecting to raw.githubusercontent.com (raw.githubusercontent.com)|185.199.110.133|:443... connected.\n",
      "HTTP request sent, awaiting response... 200 OK\n",
      "Length: 131261 (128K) [text/plain]\n",
      "Saving to: ‘GW150914_model.csv’\n",
      "\n",
      "GW150914_model.csv  100%[===================>] 128.18K  --.-KB/s    in 0.04s   \n",
      "\n",
      "2023-06-01 00:37:40 (3.17 MB/s) - ‘GW150914_model.csv’ saved [131261/131261]\n",
      "\n"
     ]
    }
   ],
   "source": [
    "!wget https://raw.githubusercontent.com/acorreia61201/SAOPythonPrimer/main/files/GW150914_model.csv"
   ]
  },
  {
   "cell_type": "markdown",
   "id": "a8bf156c",
   "metadata": {},
   "source": [
    "The columns have the same meanings as the raw data.\n",
    "\n",
    "**Your task:** Read in the above dataset using `pandas`. Check that this data set has the same first and last times as the raw data. "
   ]
  },
  {
   "cell_type": "code",
   "execution_count": null,
   "id": "211eccd2",
   "metadata": {},
   "outputs": [],
   "source": [
    "# YOUR CODE HERE"
   ]
  },
  {
   "cell_type": "markdown",
   "id": "3bacb8ab",
   "metadata": {},
   "source": [
    "**Your task:** Now, on one set of axes, plot the raw data in solid blue and the model data in solid black. Label them accordingly, and give this plot the same axis titles as the previous plot. How well does the model match the raw data? Are there points where the model seems to be a better fit than others?"
   ]
  },
  {
   "cell_type": "code",
   "execution_count": 8,
   "id": "fcc744de",
   "metadata": {},
   "outputs": [],
   "source": [
    "# YOUR CODE HERE"
   ]
  },
  {
   "cell_type": "markdown",
   "id": "508ad22b",
   "metadata": {},
   "source": [
    "## Exercise 2.2: Analyzing Solar System Orbits\n",
    "\n",
    "Download the following dataset:"
   ]
  },
  {
   "cell_type": "code",
   "execution_count": null,
   "id": "d22212cf",
   "metadata": {},
   "outputs": [],
   "source": [
    "!wget https://raw.githubusercontent.com/acorreia61201/SAOPythonPrimer/main/files/planets.csv"
   ]
  },
  {
   "cell_type": "markdown",
   "id": "1d79e323",
   "metadata": {},
   "source": [
    "**Your task:** Use `pandas` to load in and view the data in this csv file."
   ]
  },
  {
   "cell_type": "code",
   "execution_count": null,
   "id": "2e6fb3fb",
   "metadata": {},
   "outputs": [],
   "source": [
    "# YOUR CODE HERE"
   ]
  },
  {
   "cell_type": "markdown",
   "id": "b0017fef",
   "metadata": {},
   "source": [
    "This dataset contains some orbital parameters for the planets in the solar system (and Pluto). The distance column gives the average distance to the Sun in kilometers, period_rot gives the rotational period in Earth days, and period_orb gives the orbital period in Earth years. The last column gives the *eccentricity* of each planet, a parameter that describes how elliptical the planets' orbits are. For bound orbits, this value ranges between 0 and 1, with 0 representing a perfect circle, and increasing values representing a more \"stretched-out\" orbit.\n",
    "\n",
    "As you may expect, the distance measurements are very large, into the billions for the farthest planets. In solar system astronomy, it's convenient to use *astronomical units*, or *AU*, to measure distances. We can use the conversion $1 AU = 1.496 \\times 10^8 km$ to convert the values in our dataset.\n",
    "\n",
    "**Your task:** Modify the `DataFrame` above so that the distance column is in units of AU. As a sanity check, 1 AU is defined as the average distance from the Earth to the Sun, so the Earth's distance should be something close to 1."
   ]
  },
  {
   "cell_type": "code",
   "execution_count": null,
   "id": "d525ba10",
   "metadata": {},
   "outputs": [],
   "source": [
    "# YOUR CODE HERE"
   ]
  },
  {
   "cell_type": "markdown",
   "id": "6ad8a118",
   "metadata": {},
   "source": [
    "Using this data, we can do a simple verification of *Kepler's third law*. In its simplest form, it reads:\n",
    "\n",
    "\\begin{equation}\n",
    "P \\propto a^{3/2}\n",
    "\\end{equation}\n",
    "\n",
    "This means that the period $P$ of a planet's orbit is proportional to the *semimajor axis* $a$ raised to the power of $3/2$. We define the semimajor axis as the average between the maximum and minimum distances of a planet from the Sun.\n",
    "\n",
    "**Your task:** Generate a scatterplot of $P$ versus $a^{3/2}$ using your dataset. Plot this on a loglog scale and label your axes 'Period (Earth yrs)' and 'Semimajor axis (AU)'.\n",
    "\n",
    "On a loglog scale, the above proportionality will produce a straight line. Does your plot match this?"
   ]
  },
  {
   "cell_type": "code",
   "execution_count": null,
   "id": "4b963644",
   "metadata": {},
   "outputs": [],
   "source": [
    "# YOUR CODE HERE"
   ]
  },
  {
   "cell_type": "markdown",
   "id": "8fcc3787",
   "metadata": {},
   "source": [
    "The *mean orbital velocity* is the average speed at which an object orbits the Sun. There are two ways we can calculate this. By using Newton's law of universal gravitation and assuming the mass of the planet is much less than that of the Sun, we can calculate velocity of an object with distance $a$ as:\n",
    "\n",
    "\\begin{equation}\n",
    "v = \\sqrt{\\frac{GM}{a}}\n",
    "\\end{equation}\n",
    "\n",
    "$G = 6.6743 \\times 10^{-11} m^3kg^{-1}s^{-2}$ is *Newton's gravitational constant*, and $M = 2 \\times 10^{30} kg$ is the mass of the Sun.\n",
    "\n",
    "We can also approximate the velocity using $a$, $P$, and eccentricity $e$ with the following (this comes from evaluating an *elliptic integral*, an advanced calculus concept we won't get into):\n",
    "\n",
    "\\begin{equation}\n",
    "v \\approx \\frac{2\\pi a}{P}\\bigg[ 1 - \\frac{e^2}{4} \\bigg]\n",
    "\\end{equation}\n",
    "\n",
    "**Your task:** For each planet, calculate its approximate mean orbital velocity using the second equation. Convert your velocities to $m/s$, i.e. convert $a$ to meters ($1 AU = 1.496 \\times 10^{11} m, 1 km = 1000 m$) and $P$ to seconds ($1 year = 3.154 \\times 10^7 s$). You may reload the dataset if you'd prefer to convert from kilometers rather than AUs."
   ]
  },
  {
   "cell_type": "code",
   "execution_count": 2,
   "id": "f9a7de5b",
   "metadata": {},
   "outputs": [],
   "source": [
    "# YOUR CODE HERE"
   ]
  },
  {
   "cell_type": "markdown",
   "id": "3be9093f",
   "metadata": {},
   "source": [
    "**Your task:** Plot your points above as a scatterplot of velocity versus $a$. On the same axes, plot the first equation along a range of 500 points on $a = [10^7, 10^{10}] m$. Label the axes accordingly. How well do the data points match the Newtonian model?"
   ]
  },
  {
   "cell_type": "code",
   "execution_count": 3,
   "id": "11dac6cc",
   "metadata": {},
   "outputs": [],
   "source": [
    "# YOUR CODE HERE"
   ]
  }
 ],
 "metadata": {
  "kernelspec": {
   "display_name": "Python 3 (ipykernel)",
   "language": "python",
   "name": "python3"
  },
  "language_info": {
   "codemirror_mode": {
    "name": "ipython",
    "version": 3
   },
   "file_extension": ".py",
   "mimetype": "text/x-python",
   "name": "python",
   "nbconvert_exporter": "python",
   "pygments_lexer": "ipython3",
   "version": "3.9.16"
  }
 },
 "nbformat": 4,
 "nbformat_minor": 5
}
