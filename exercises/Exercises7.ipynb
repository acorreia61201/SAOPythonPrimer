{
 "cells": [
  {
   "cell_type": "markdown",
   "id": "ed8c11cb",
   "metadata": {},
   "source": [
    "# SAO/LIP Python Primer Course Exercise Set 7\n",
    "\n",
    "[![Open In Colab](https://colab.research.google.com/assets/colab-badge.svg)](https://colab.research.google.com/github/acorreia61201/SAOPythonPrimer/blob/main/exercises/Exercises7.ipynb)\n",
    "\n",
    "This exercise set is split between two parts. The first part deals with basic Python I/O, while the second does some more robust numerical analyses using `pandas`.\n",
    "\n",
    "## Exercise 1.1: Simple File Manipulation\n",
    "\n",
    "Let's get some practice reading and writing files using Python builtins, as well as navigating directories. Each file that you generate below should have one word per line.\n",
    "\n",
    "**Your task:** Create a directory called `my_files`. Move to this directory and create two new directories inside it, `dogs` and `fruits`. Check by using `os.listdir()`."
   ]
  },
  {
   "cell_type": "code",
   "execution_count": 6,
   "id": "29ccd26b",
   "metadata": {},
   "outputs": [],
   "source": [
    "# YOUR CODE HERE"
   ]
  },
  {
   "cell_type": "markdown",
   "id": "dca84212",
   "metadata": {},
   "source": [
    "**Your task:** Generate two files:\n",
    "- Create a file `dog_list.txt` using the list `dog_breeds` below, and place it in `dogs`.\n",
    "- Create a file `fruit_list.txt` using the list `fruit_types` below, and place it in `fruits`."
   ]
  },
  {
   "cell_type": "code",
   "execution_count": 7,
   "id": "314e4577",
   "metadata": {},
   "outputs": [],
   "source": [
    "dog_breeds = ['pug', 'schnauzer', 'shiba inu', 'poodle', 'greyhound', 'chihuahua', 'great dane']\n",
    "fruit_types = ['apple', 'banana', 'blueberry', 'strawberry', 'grape', 'pineapple', 'cantaloupe']\n",
    "\n",
    "# YOUR CODE HERE"
   ]
  },
  {
   "cell_type": "markdown",
   "id": "29e7ab21",
   "metadata": {},
   "source": [
    "**Your task:** Create a new file `reversed_dogs.txt`. Read in the contents of `dog_list.txt` and write them in reverse order in this new file. Move this file to the `dogs` directory. (Don't just use the lists above; you should use `open()` to get the contents.)"
   ]
  },
  {
   "cell_type": "code",
   "execution_count": 8,
   "id": "bc73f33f",
   "metadata": {},
   "outputs": [],
   "source": [
    "# YOUR CODE HERE"
   ]
  },
  {
   "cell_type": "markdown",
   "id": "958bcb2d",
   "metadata": {},
   "source": [
    "**Your task:** Create a new file `alphabet_fruits.txt`. Read in the contents of `fruit_list.txt` and write them in alphabetical order in this new file. Move this file to the `fruits` directory."
   ]
  },
  {
   "cell_type": "code",
   "execution_count": null,
   "id": "0829ed0e",
   "metadata": {},
   "outputs": [],
   "source": [
    "# YOUR CODE HERE"
   ]
  },
  {
   "cell_type": "markdown",
   "id": "0f6b7bb5",
   "metadata": {},
   "source": [
    "**Your task:** Write a loop below that reads in `dogs/dogs_list.txt` and prints out the names of dogs that contain the letter `a`. Write these names to a new file, `dog_count.txt`, in the current working directory (i.e. `my_files`)."
   ]
  },
  {
   "cell_type": "code",
   "execution_count": null,
   "id": "4b9b91b9",
   "metadata": {},
   "outputs": [],
   "source": [
    "# YOUR CODE HERE"
   ]
  },
  {
   "cell_type": "markdown",
   "id": "e81996ec",
   "metadata": {},
   "source": [
    "**Your task:** Write a loop that reads in `fruits/fruit_list.txt` and prints out the names of fruits with more than 7 letters. Write these names to a new file, `fruit_count.txt`, in the current working directory (i.e. `my_files`)."
   ]
  },
  {
   "cell_type": "code",
   "execution_count": null,
   "id": "a96dd0a9",
   "metadata": {},
   "outputs": [],
   "source": [
    "# YOUR CODE HERE"
   ]
  },
  {
   "cell_type": "markdown",
   "id": "de5b0bf8",
   "metadata": {},
   "source": [
    "## Exercise 1.2: Find and Replace Substrings in Files\n",
    "\n",
    "In this exercise, we'll be using the Gettysburg Address file that was downloaded in the lecture. If you need to download or re-download the file, run the cell below (be sure to rename it if necessary)."
   ]
  },
  {
   "cell_type": "code",
   "execution_count": null,
   "id": "83e02069",
   "metadata": {},
   "outputs": [],
   "source": [
    "!wget https://collincapano.com/wp-content/uploads/2023/01/gettysburg_address-bliss_copy.txt"
   ]
  },
  {
   "cell_type": "markdown",
   "id": "13b17555",
   "metadata": {},
   "source": [
    "**Your task:** Write a loop below that searches the file for the string 'here' (don't worry about caps; none of the occurrences of 'here' are capitalized anyways). If a line contains 'here', print that line to screen along with its line number. Treat the first line as line 1. At the end, print out the number of occurrences of 'here' in the file."
   ]
  },
  {
   "cell_type": "code",
   "execution_count": 1,
   "id": "432ef016",
   "metadata": {},
   "outputs": [],
   "source": [
    "# YOUR CODE HERE"
   ]
  },
  {
   "cell_type": "markdown",
   "id": "062d9ae9",
   "metadata": {},
   "source": [
    "**Your task:** Now, write a loop that replaces every occurrence of 'here' with 'there'. You will need to make use of the method `readobj.replace()`, where `readobj` is a placeholder for `file.read()` for a given `file`. The first input for `replace()` is the string you wish to replace, and the second is the string you want to replace it with. (If you need help, see the examples at https://linuxhint.com/python-replaces-string-file/.) Write the changes to the same file, and use `read()` to check if the changes were correct."
   ]
  },
  {
   "cell_type": "code",
   "execution_count": 3,
   "id": "3c03094a",
   "metadata": {},
   "outputs": [],
   "source": [
    "# YOUR CODE HERE"
   ]
  },
  {
   "cell_type": "markdown",
   "id": "a0f60d48",
   "metadata": {},
   "source": [
    "Let's now try the same thing with multiple files. Run the cell below to download a directory containing a bunch of files I made. You'll see a bunch of files that end in `.ini` if you do `os.listdir()`."
   ]
  },
  {
   "cell_type": "code",
   "execution_count": 1,
   "id": "f18dbca0",
   "metadata": {},
   "outputs": [
    {
     "name": "stdout",
     "output_type": "stream",
     "text": [
      "--2023-05-31 14:25:59--  https://github.com/acorreia61201/SAOPythonPrimer/tree/a0653c521ebab4fbbd6104def791cbda3978d5c7/ini_files\n",
      "Resolving github.com (github.com)... 140.82.112.4\n",
      "Connecting to github.com (github.com)|140.82.112.4|:443... connected.\n",
      "HTTP request sent, awaiting response... 200 OK\n",
      "Length: unspecified [text/html]\n",
      "Saving to: ‘ini_files’\n",
      "\n",
      "ini_files               [ <=>                ] 132.09K  --.-KB/s    in 0.08s   \n",
      "\n",
      "2023-05-31 14:25:59 (1.57 MB/s) - ‘ini_files’ saved [135264]\n",
      "\n"
     ]
    }
   ],
   "source": [
    "!wget https://github.com/acorreia61201/SAOPythonPrimer/tree/a0653c521ebab4fbbd6104def791cbda3978d5c7/ini_files"
   ]
  },
  {
   "cell_type": "markdown",
   "id": "7cacc0e7",
   "metadata": {},
   "source": [
    "**Your task:** Each file contains lines with the path `'/work/pi_ccapano_umassd_edu/acorreia7_umassd_edu'`, my home directory on a supercomputer I use to do research. Use a loop to find and replace each instance of this string in the files you've downloaded with your current working directory. You can check that it worked if you try to find the above path in the directory; you shouldn't find any."
   ]
  },
  {
   "cell_type": "code",
   "execution_count": 5,
   "id": "ac17de89",
   "metadata": {},
   "outputs": [],
   "source": [
    "# YOUR CODE HERE"
   ]
  },
  {
   "cell_type": "markdown",
   "id": "508ad22b",
   "metadata": {},
   "source": [
    "## Exercise 2.1: "
   ]
  }
 ],
 "metadata": {
  "kernelspec": {
   "display_name": "Python 3 (ipykernel)",
   "language": "python",
   "name": "python3"
  },
  "language_info": {
   "codemirror_mode": {
    "name": "ipython",
    "version": 3
   },
   "file_extension": ".py",
   "mimetype": "text/x-python",
   "name": "python",
   "nbconvert_exporter": "python",
   "pygments_lexer": "ipython3",
   "version": "3.9.16"
  }
 },
 "nbformat": 4,
 "nbformat_minor": 5
}
