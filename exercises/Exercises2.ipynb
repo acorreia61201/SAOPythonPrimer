{
 "cells": [
  {
   "cell_type": "markdown",
   "id": "0c5cafe6",
   "metadata": {},
   "source": [
    "# SAO/LIP Python Primer Course Exercise Set 2\n",
    "\n",
    "[![Open In Colab](https://colab.research.google.com/assets/colab-badge.svg)](https://colab.research.google.com/github/acorreia61201/SAOPythonPrimer/blob/main/lectures/Lecture2.ipynb)\n",
    "\n",
    "## Exercise 1: Logic gates\n",
    "\n",
    "Let's get a little practice with Boolean logic by constructing the basic logic gates.\n",
    "\n",
    "**Your task:** I've started off some functions below to represent the basic logic gates. If you don't know how they work, don't worry. All you have to do is replace the comments after `return` with your code. Using the `not`, `and`, and `or` operators, construct the logic gates below. Check your answers in the subsequent cells (you can check with the truth tables at https://en.wikipedia.org/wiki/Logic_gate#Symbols; a \"0\" means `False` and a \"1\" means `True`. I've filled out an example using `and`:"
   ]
  },
  {
   "cell_type": "code",
   "execution_count": null,
   "id": "4cae7205",
   "metadata": {},
   "outputs": [],
   "source": [
    "def and_gate(a, b):\n",
    "    return a and b"
   ]
  },
  {
   "cell_type": "code",
   "execution_count": null,
   "id": "0d28d93a",
   "metadata": {},
   "outputs": [],
   "source": [
    "print(and_gate(True, True))\n",
    "print(and_gate(True, False))\n",
    "print(and_gate(False, True))\n",
    "print(and_gate(False, False))"
   ]
  },
  {
   "cell_type": "code",
   "execution_count": null,
   "id": "463785c4",
   "metadata": {},
   "outputs": [],
   "source": [
    "def nand(a, b):\n",
    "    '''\n",
    "    This gate is the \"not and\" gate: it returns False if both inputs are true and True otherwise.\n",
    "    '''\n",
    "    return # YOUR CODE HERE"
   ]
  },
  {
   "cell_type": "code",
   "execution_count": null,
   "id": "4cd601db",
   "metadata": {},
   "outputs": [],
   "source": [
    "print(nand(True, True))\n",
    "print(nand(True, False))\n",
    "print(nand(False, True))\n",
    "print(nand(False, False))"
   ]
  },
  {
   "cell_type": "code",
   "execution_count": null,
   "id": "bff12e5b",
   "metadata": {},
   "outputs": [],
   "source": [
    "def nor(a, b):\n",
    "    '''\n",
    "    This gate is the \"not or\" gate: it returns True if both inputs are false and False otherwise.\n",
    "    '''\n",
    "    return # YOUR CODE HERE"
   ]
  },
  {
   "cell_type": "code",
   "execution_count": null,
   "id": "381bc63a",
   "metadata": {},
   "outputs": [],
   "source": [
    "print(nor(True, True))\n",
    "print(nor(True, False))\n",
    "print(nor(False, True))\n",
    "print(nor(False, False))"
   ]
  },
  {
   "cell_type": "code",
   "execution_count": null,
   "id": "045d3188",
   "metadata": {},
   "outputs": [],
   "source": [
    "def xor(a, b):\n",
    "    '''\n",
    "    The exclusive or gate. This gate returns True if the inputs are opposite (i.e. a is True and b is False) and False\n",
    "    otherwise.\n",
    "    \n",
    "    Hint: Start by writing an and statement that's false when the inputs are the same. Negating the inputs will give\n",
    "    the same truth values if the inputs are the same, but will invert the truth values if they're different. \n",
    "    '''\n",
    "    return # YOUR CODE HERE"
   ]
  },
  {
   "cell_type": "code",
   "execution_count": null,
   "id": "49553074",
   "metadata": {},
   "outputs": [],
   "source": [
    "print(xor(True, True))\n",
    "print(xor(True, False))\n",
    "print(xor(False, True))\n",
    "print(xor(False, False))"
   ]
  },
  {
   "cell_type": "code",
   "execution_count": null,
   "id": "8a24e131",
   "metadata": {},
   "outputs": [],
   "source": [
    "def xnor(a, b):\n",
    "    '''\n",
    "    The exclusive nor gate. This gate returns True if the inputs are the same and False otherwise\n",
    "    \n",
    "    Hint: Think of this as the \"not xor\" gate.\n",
    "    '''\n",
    "    return # YOUR CODE HERE"
   ]
  },
  {
   "cell_type": "code",
   "execution_count": null,
   "id": "eca74e58",
   "metadata": {},
   "outputs": [],
   "source": [
    "print(xnor(True, True))\n",
    "print(xnor(True, False))\n",
    "print(xnor(False, True))\n",
    "print(xnor(False, False))"
   ]
  },
  {
   "cell_type": "markdown",
   "id": "770f48e4",
   "metadata": {},
   "source": [
    "## Exercise 2: Simulating Gambling\n",
    "\n",
    "We can create a simple model of gambling "
   ]
  },
  {
   "cell_type": "markdown",
   "id": "053b09af",
   "metadata": {},
   "source": [
    "## Exercise 3: Evaluating a Series\n",
    "\n",
    "One common problem in programming is calculating the exact value of a function. As we've seen with floating-point errors, computers generally don't calculate exact values for functions when possible to maximize performance. One method to evaluate functions is by using their *series approximations*, which approximate the function to a summation of terms.\n",
    "\n",
    "We'll start by approximating the value of $\\pi$, one of the most well-recognized mathematical constants. Specifically, we'll use a famous series that converges to a value related to $\\pi$:\n",
    "\n",
    "\\begin{equation}\n",
    "\\frac{\\pi^2}{6} = \\sum_{n=1}^\\infty \\frac{1}{n^2}\n",
    "\\end{equation}\n",
    "\n",
    "If you're unfamiliar with the notation, the large symbol on the left (the *sigma*) represents a summation from $n=1$ to infinity. The above formula can be rewritten as:\n",
    "\n",
    "\\begin{equation}\n",
    "\\frac{\\pi^2}{6} = \\frac{1}{1} + \\frac{1}{4} + \\frac{1}{9} + \\cdots\n",
    "\\end{equation}\n",
    "\n",
    "**Your task:** Use a `for` loop to approximate the value of $\\pi^2/6$ to 10 terms. The exact value is $\\pi^2/6 = 1.6449340668...$ How does your result compare?"
   ]
  },
  {
   "cell_type": "code",
   "execution_count": 14,
   "id": "40fe3389",
   "metadata": {},
   "outputs": [],
   "source": [
    "# YOUR CODE HERE"
   ]
  },
  {
   "cell_type": "markdown",
   "id": "2ccaf9a2",
   "metadata": {},
   "source": [
    "We can use a slightly more complicated, less well-known series to approximate $\\pi$ directly:\n",
    "\n",
    "\\begin{equation}\n",
    "\\pi = \\sum_{n=1}^\\infty (-1)^{n+1} \\frac{4}{2n+1}\n",
    "\\end{equation}\n",
    "\n",
    "**Your task:** Use a `for` loop to approximate the value of $\\pi$ to 10 terms. The exact value is $\\pi = 3.1415926535...$ How does your result compare?"
   ]
  },
  {
   "cell_type": "code",
   "execution_count": null,
   "id": "b3d1bc68",
   "metadata": {},
   "outputs": [],
   "source": [
    "# YOUR CODE HERE"
   ]
  },
  {
   "cell_type": "markdown",
   "id": "3ebc9492",
   "metadata": {},
   "source": [
    "Next, let's try approximating the value of *Euler's constant $e$*, another one of the most widely-used values in statistics and mathematics. Its value can be approximated using the following formula:\n",
    "\n",
    "\\begin{equation}\n",
    "e = \\sum_{n=0}^\\infty \\frac{1}{n!}\n",
    "\\end{equation}\n",
    "\n",
    "The exclamation mark is a *factorial*, where $n!$ is the product of all integers from 1 to $n$ and $0!$ is defined as 1. Therefore, the above formula can be rewritten as:\n",
    "\n",
    "\\begin{equation}\n",
    "e = 1 + \\frac{1}{1} + \\frac{1}{1 \\times 2} + \\frac{1}{1 \\times 2 \\times 3} + \\cdots\n",
    "\\end{equation}\n",
    "\n",
    "**Your task:** Use a `for` loop to approximate the value of $e$ to 10 terms. For the sake of practice, use a nested `for` loop to evaluate the factorial rather than a builtin.\n",
    "\n",
    "The exact value of Euler's number is $e = 2.7182818284...$ How does your result compare?"
   ]
  },
  {
   "cell_type": "code",
   "execution_count": null,
   "id": "64fb2181",
   "metadata": {},
   "outputs": [],
   "source": [
    "# YOUR CODE HERE"
   ]
  }
 ],
 "metadata": {
  "kernelspec": {
   "display_name": "Python 3 (ipykernel)",
   "language": "python",
   "name": "python3"
  },
  "language_info": {
   "codemirror_mode": {
    "name": "ipython",
    "version": 3
   },
   "file_extension": ".py",
   "mimetype": "text/x-python",
   "name": "python",
   "nbconvert_exporter": "python",
   "pygments_lexer": "ipython3",
   "version": "3.9.16"
  }
 },
 "nbformat": 4,
 "nbformat_minor": 5
}
