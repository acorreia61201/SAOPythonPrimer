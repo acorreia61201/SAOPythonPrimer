{
 "cells": [
  {
   "cell_type": "markdown",
   "id": "6f117297",
   "metadata": {},
   "source": [
    "# SAO/LIP Python Primer Course Exercise Set 2\n",
    "\n",
    "[![Open In Colab](https://colab.research.google.com/assets/colab-badge.svg)](https://colab.research.google.com/github/acorreia61201/SAOPythonPrimer/blob/main/exercises/Exercises2.ipynb)\n",
    "\n",
    "## Exercise 1: Working with Lists\n",
    "\n",
    "Let's start by using lists and iteration to do some simple calculations.\n",
    "\n",
    "**Your task:** Use a loop to multiply together all the elements of the list `test` below. Print out the value of the product afterwards."
   ]
  },
  {
   "cell_type": "code",
   "execution_count": 1,
   "id": "0a40260f",
   "metadata": {},
   "outputs": [],
   "source": [
    "test = [3,12,4,15,10,8,6,14,4,11,9,5,2,13]\n",
    "\n",
    "# YOUR CODE HERE"
   ]
  },
  {
   "cell_type": "markdown",
   "id": "f70814ed",
   "metadata": {},
   "source": [
    "**Your task:** Now, use a loop to find the arithmetic mean of `test`. Recall the *arithmetic mean* of a sequence is the sum of all of the elements divided by the number of elements. Save the value of the mean; it will be useful in the next task."
   ]
  },
  {
   "cell_type": "code",
   "execution_count": 2,
   "id": "b8cc7869",
   "metadata": {},
   "outputs": [],
   "source": [
    "# YOUR CODE HERE"
   ]
  },
  {
   "cell_type": "markdown",
   "id": "d51f8740",
   "metadata": {},
   "source": [
    "**Your task:** Finally, use a loop to determine the *standard deviation* of `test`. The formula for standard deviation is:\n",
    "\n",
    "\\begin{equation}\n",
    "\\sigma = \\sqrt{\\frac{\\sum_i(x_i - \\mu)^2}{N}}\n",
    "\\end{equation}\n",
    "\n",
    "If you're unfamiliar with the notation, the expression in parentheses on the right (the *sigma*) represents a summation over all $x_i$, the elements of `test`. $\\mu$ is the mean you calculated above; you don't have to recalculate it here. $N$ is the total number of elements. As an example, if `test` had 3 elements, your code should output:\n",
    "\n",
    "\\begin{equation}\n",
    "\\sigma = \\sqrt{\\frac{(x_0 - \\mu)^2 + (x_1 - \\mu)^2 + (x_2 - \\mu)^2}{N}}\n",
    "\\end{equation}"
   ]
  },
  {
   "cell_type": "code",
   "execution_count": null,
   "id": "050da597",
   "metadata": {},
   "outputs": [],
   "source": [
    "# YOUR CODE HERE"
   ]
  },
  {
   "cell_type": "markdown",
   "id": "f9e8c7f2",
   "metadata": {},
   "source": [
    "## Exercise 2: Logic gates\n",
    "\n",
    "Let's get a little practice with Boolean logic by constructing the basic logic gates.\n",
    "\n",
    "**Your task:** Using the `not`, `and`, and `or` operators, construct the logic gates indicated in the comments I've written. Check your answers by changing the values of `a` and `b` to different combinations of `True` and `False` (you can check with the truth tables at https://en.wikipedia.org/wiki/Logic_gate#Symbols; a \"0\" means `False` and a \"1\" means `True`."
   ]
  },
  {
   "cell_type": "code",
   "execution_count": null,
   "id": "a807ea4c",
   "metadata": {},
   "outputs": [],
   "source": [
    "#NAND, The \"not and\" gate: it returns False if both inputs are true and True otherwise.\n",
    "a = True\n",
    "b = True\n",
    "\n",
    "# YOUR CODE HERE"
   ]
  },
  {
   "cell_type": "code",
   "execution_count": null,
   "id": "eb811594",
   "metadata": {},
   "outputs": [],
   "source": [
    "#NOR, The \"not or\" gate: it returns True if both inputs are false and False otherwise.\n",
    "a = True\n",
    "b = True\n",
    "\n",
    "# YOUR CODE HERE"
   ]
  },
  {
   "cell_type": "code",
   "execution_count": null,
   "id": "8c17dee3",
   "metadata": {},
   "outputs": [],
   "source": [
    "# XOR, the exclusive or gate. This gate returns True if the inputs are opposite (i.e. a is True and b is False) \n",
    "# and False otherwise.\n",
    "    \n",
    "# Hint: Start by writing an and statement that's false when the inputs are the same. Negating the inputs will give\n",
    "# the same truth values if the inputs are the same, but will invert the truth values if they're different. \n",
    "a = True\n",
    "b = True\n",
    "\n",
    "# YOUR CODE HERE"
   ]
  },
  {
   "cell_type": "code",
   "execution_count": null,
   "id": "919e5c13",
   "metadata": {},
   "outputs": [],
   "source": [
    "#XNOR, the exclusive nor gate. This gate returns True if the inputs are the same and False otherwise\n",
    "    \n",
    "# Hint: Think of this as the \"not xor\" gate.\n",
    "a = True\n",
    "b = True\n",
    "\n",
    "# YOUR CODE HERE"
   ]
  },
  {
   "cell_type": "markdown",
   "id": "be5f99fa",
   "metadata": {},
   "source": [
    "## Exercise 3: Manipulating Strings\n",
    "\n",
    "Let's get in some practice manipulating the elements in lists. Recall the `list()` function that we used to copy the contents of one list to another. We can also use it to convert strings to lists. Try it below; you should end up with a list containing the individual letters in `'true'`:"
   ]
  },
  {
   "cell_type": "code",
   "execution_count": null,
   "id": "e69b44d4",
   "metadata": {},
   "outputs": [],
   "source": [
    "str_list = list('true')\n",
    "str_list"
   ]
  },
  {
   "cell_type": "markdown",
   "id": "88ec486f",
   "metadata": {},
   "source": [
    "**Your task:** Add and change elements in `str_list` so that the individual elements will read `false` (i.e. your final list should look like `['f', 'a', 'l', 's', 'e']`). You may use any of the methods we've discussed to do this (you could even use a `for` loop; can you figure out how?). If you need to start over, simply rerun the cell above."
   ]
  },
  {
   "cell_type": "code",
   "execution_count": null,
   "id": "4d16bc30",
   "metadata": {},
   "outputs": [],
   "source": [
    "# YOUR CODE HERE"
   ]
  },
  {
   "cell_type": "markdown",
   "id": "5a629f1a",
   "metadata": {},
   "source": [
    "So far, we've only used the `+` operator on numbers. However, you can also use this to combine strings.\n",
    "\n",
    "**Your task:** Use a `for` loop and the `+` operator to combine your list from the last cell into one string that reads `'false'`."
   ]
  },
  {
   "cell_type": "code",
   "execution_count": null,
   "id": "84a94526",
   "metadata": {},
   "outputs": [],
   "source": [
    "# YOUR CODE HERE"
   ]
  },
  {
   "cell_type": "markdown",
   "id": "d11ef5f1",
   "metadata": {},
   "source": [
    "**Your task:** Now, for completeness, let's do the reverse. Convert the string `'false'` to `'true'` by converting the string to a list, changing the elements, and combining the elements into one string."
   ]
  },
  {
   "cell_type": "code",
   "execution_count": null,
   "id": "b932ad0a",
   "metadata": {},
   "outputs": [],
   "source": [
    "# YOUR CODE HERE"
   ]
  },
  {
   "cell_type": "markdown",
   "id": "c20f7e45",
   "metadata": {},
   "source": [
    "## Exercise 4: Evaluating a Series\n",
    "\n",
    "One common problem in programming is calculating the exact value of a function. As we've seen with floating-point errors, computers generally don't calculate exact values for functions when possible to maximize performance. One method to evaluate functions is by using their *series approximations*, which approximate the function to a summation of terms.\n",
    "\n",
    "We'll start by approximating the value of $\\pi$, one of the most well-recognized mathematical constants. Specifically, we'll use a famous series that converges to a value related to $\\pi$:\n",
    "\n",
    "\\begin{equation}\n",
    "\\frac{\\pi^2}{6} = \\sum_{n=1}^\\infty \\frac{1}{n^2}\n",
    "\\end{equation}\n",
    "\n",
    "If you're unfamiliar with the notation, the large symbol on the left (the *sigma*) represents a summation from $n=1$ to infinity. The above formula can be rewritten as:\n",
    "\n",
    "\\begin{equation}\n",
    "\\frac{\\pi^2}{6} = \\frac{1}{1} + \\frac{1}{4} + \\frac{1}{9} + \\cdots\n",
    "\\end{equation}\n",
    "\n",
    "**Your task:** Use a `for` loop to approximate the value of $\\pi^2/6$ to 10 terms. The exact value is $\\pi^2/6 = 1.6449340668...$ How does your result compare?"
   ]
  },
  {
   "cell_type": "code",
   "execution_count": null,
   "id": "7a1c5822",
   "metadata": {},
   "outputs": [],
   "source": [
    "# YOUR CODE HERE"
   ]
  },
  {
   "cell_type": "markdown",
   "id": "86f0d74d",
   "metadata": {},
   "source": [
    "We can use a slightly more complicated, less well-known series to approximate $\\pi$ directly:\n",
    "\n",
    "\\begin{equation}\n",
    "\\pi = \\sum_{n=1}^\\infty (-1)^{n+1} \\frac{4}{2n+1}\n",
    "\\end{equation}\n",
    "\n",
    "**Your task:** Use a `for` loop to approximate the value of $\\pi$ to 10 terms. The exact value is $\\pi = 3.1415926535...$ How does your result compare?"
   ]
  },
  {
   "cell_type": "code",
   "execution_count": null,
   "id": "486cd01d",
   "metadata": {},
   "outputs": [],
   "source": [
    "# YOUR CODE HERE"
   ]
  },
  {
   "cell_type": "markdown",
   "id": "b29babdd",
   "metadata": {},
   "source": [
    "Next, let's try approximating the value of *Euler's constant $e$*, another one of the most widely-used values in statistics and mathematics. Its value can be approximated using the following formula:\n",
    "\n",
    "\\begin{equation}\n",
    "e = \\sum_{n=0}^\\infty \\frac{1}{n!}\n",
    "\\end{equation}\n",
    "\n",
    "The exclamation mark is a *factorial*, where $n!$ is the product of all integers from 1 to $n$ and $0!$ is defined as 1. Therefore, the above formula can be rewritten as:\n",
    "\n",
    "\\begin{equation}\n",
    "e = 1 + \\frac{1}{1} + \\frac{1}{1 \\times 2} + \\frac{1}{1 \\times 2 \\times 3} + \\cdots\n",
    "\\end{equation}\n",
    "\n",
    "**Your task:** Use a `for` loop to approximate the value of $e$ to 10 terms. For the sake of practice, use a nested `for` loop to evaluate the factorial rather than a builtin.\n",
    "\n",
    "The exact value of Euler's number is $e = 2.7182818284...$ How does your result compare?"
   ]
  },
  {
   "cell_type": "code",
   "execution_count": null,
   "id": "90c5ac5f",
   "metadata": {},
   "outputs": [],
   "source": [
    "# YOUR CODE HERE"
   ]
  },
  {
   "cell_type": "markdown",
   "id": "8d493c71",
   "metadata": {},
   "source": [
    "## Exercise 5: Verifying the Golden Ratio\n",
    "\n",
    "One of the most well-known numerical sequences is the *Fibonacci sequence*. We can evaluate the first few terms in the sequence using loops and the following formula:\n",
    "\n",
    "\\begin{equation}\n",
    "F_{n} = F_{n-1} + F_{n-2}\n",
    "\\end{equation}\n",
    "\n",
    "In other words, the *n*th Fibonacci number is equal to the sum of the two Fibonacci numbers before it. The first two Fibonacci numbers are defined as $F_1 = 1$ and $F_2 = 1$ (we'll omit the actual first element, $F_0 = 0$, to avoid divide by zero errors later on). \n",
    "\n",
    "**Your task:** Write a loop that calculates the first 11 Fibonacci numbers. Save them to a list for later."
   ]
  },
  {
   "cell_type": "code",
   "execution_count": null,
   "id": "e1f70f1c",
   "metadata": {},
   "outputs": [],
   "source": [
    "# YOUR CODE HERE"
   ]
  },
  {
   "cell_type": "markdown",
   "id": "83d92223",
   "metadata": {},
   "source": [
    "One result of number theory predicts a limiting behavior for the Fibonacci sequence, known as the *golden ratio*:\n",
    "\n",
    "\\begin{equation}\n",
    "\\lim_{i \\rightarrow \\infty} \\frac{F_{i+1}}{F_i} = \\frac{1 + \\sqrt{5}}{2}\n",
    "\\end{equation}\n",
    "\n",
    "The right-hand expression is a *limit*, and more specifically reads as \"the limit as $i$ goes to infinity\". This means that as $i$ gets larger and larger, the expression on the left will get closer and closer to the expression on the right. The ratio on the left indicates an element in your list divided by its previous neighbor. For example, if $i = 0$, the ratio would be $F_1/F_0$, the second element divided by the first.\n",
    "\n",
    "**Your task:** Calculate the ratios between your Fibonacci numbers using a loop and save them to a list. Your list should have ten elements. (Hint: You'll need to add some logic to exclude the first or last element from the calculation depending on how you've written your code.)"
   ]
  },
  {
   "cell_type": "code",
   "execution_count": null,
   "id": "f0c64ef6",
   "metadata": {},
   "outputs": [],
   "source": [
    "# YOUR CODE HERE"
   ]
  },
  {
   "cell_type": "markdown",
   "id": "98c4dea3",
   "metadata": {},
   "source": [
    "**Your task:** Now, use a loop to create a new list that stores the values:\n",
    "\n",
    "\\begin{equation}\n",
    "\\bigg| \\frac{F_{i+1}}{F_i} - \\frac{1 + \\sqrt{5}}{2} \\bigg|\n",
    "\\end{equation}\n",
    "\n",
    "The fraction represents the ratios you calculated in the previous task. The bars represent the *absolute value*, which you can take in Python using the built-in function `abs()`. From the limit equation above, this expression should approach 0 as $i$ increases. Is that the case here?"
   ]
  },
  {
   "cell_type": "code",
   "execution_count": null,
   "id": "311aa987",
   "metadata": {},
   "outputs": [],
   "source": [
    "# YOUR CODE HERE"
   ]
  },
  {
   "cell_type": "markdown",
   "id": "3998581c",
   "metadata": {},
   "source": [
    "## Exercise 6: Triangular Numbers\n",
    "\n",
    "In number theory, a *triangular number* is defined as follows:\n",
    "\n",
    "\\begin{equation}\n",
    "T_n = \\sum_{k=1}^n k = 1 + 2 + 3 + \\cdots + n\n",
    "\\end{equation}\n",
    "\n",
    "Some of these triangular numbers happen to be *perfect squares*, integers that are equal to some other integer times itself. The two smallest square triangular numbers are $T_1 = 1$ and $T_8 = 36 = 6^2$.\n",
    "\n",
    "**Your task:** Write a loop that calculates the first eleven square triangular numbers $N_k$. The easiest way to do this is by using a `while` loop, and on each iteration calculating the triangular number and then checking if it's a perfect square. Save these values to a list. \n",
    "\n",
    "(Hint: You may find two functions useful: `math.floor()`, which rounds down a float to the previous integer, and `math.ceil()` which rounds up a float to the next integer. I've imported them for you in the cell below. If you input a float representation of an integer (e.g. 6.0), these functions will return the same value of 6. Try taking the square root of some square numbers you know to see how this could be useful.)"
   ]
  },
  {
   "cell_type": "code",
   "execution_count": null,
   "id": "6ad2c563",
   "metadata": {},
   "outputs": [],
   "source": [
    "from math import floor, ceil\n",
    "\n",
    "# YOUR WORK HERE"
   ]
  },
  {
   "cell_type": "markdown",
   "id": "f84a27fd",
   "metadata": {},
   "source": [
    "One result of number theory predicts a limiting behavior for square triangular numbers:\n",
    "\n",
    "\\begin{equation}\n",
    "\\lim_{i \\rightarrow \\infty} \\frac{N_{i+1}}{N_i} = (1 + \\sqrt{2})^4\n",
    "\\end{equation}\n",
    "\n",
    "**Your task:** Repeat the error analysis that you conducted in Exercise 4 to evaluate the golden ratio. That is, generate a list of ratios of values that will represent the left hand side, and use them to calculate\n",
    "\n",
    "\\begin{equation}\n",
    "\\bigg| \\frac{N_{i+1}}{N_i} - (1 + \\sqrt{2})^4 \\bigg|\n",
    "\\end{equation}\n",
    "\n",
    "Do your values approach the limit?"
   ]
  },
  {
   "cell_type": "code",
   "execution_count": null,
   "id": "c8310a1c",
   "metadata": {},
   "outputs": [],
   "source": [
    "# YOUR WORK HERE"
   ]
  }
 ],
 "metadata": {
  "kernelspec": {
   "display_name": "Python 3 (ipykernel)",
   "language": "python",
   "name": "python3"
  },
  "language_info": {
   "codemirror_mode": {
    "name": "ipython",
    "version": 3
   },
   "file_extension": ".py",
   "mimetype": "text/x-python",
   "name": "python",
   "nbconvert_exporter": "python",
   "pygments_lexer": "ipython3",
   "version": "3.9.16"
  }
 },
 "nbformat": 4,
 "nbformat_minor": 5
}
