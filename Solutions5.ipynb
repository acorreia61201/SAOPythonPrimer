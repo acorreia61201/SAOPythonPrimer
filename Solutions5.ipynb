{
  "cells": [
    {
      "cell_type": "markdown",
      "metadata": {
        "id": "view-in-github",
        "colab_type": "text"
      },
      "source": [
        "<a href=\"https://colab.research.google.com/github/acorreia61201/SAOPythonPrimer/blob/main/Solutions5.ipynb\" target=\"_parent\"><img src=\"https://colab.research.google.com/assets/colab-badge.svg\" alt=\"Open In Colab\"/></a>"
      ]
    },
    {
      "cell_type": "markdown",
      "id": "6927df38",
      "metadata": {
        "id": "6927df38"
      },
      "source": [
        "# SAO/LIP Python Primer Course Exercise Set 5\n",
        "\n",
        "[![Open In Colab](https://colab.research.google.com/assets/colab-badge.svg)](https://colab.research.google.com/github/acorreia61201/SAOPythonPrimer/blob/main/exercises/Exercises5.ipynb)\n",
        "\n",
        "## Exercise 1: Matrix Arithmetic\n",
        "\n",
        "**Your task:** Solve the following matrix arithmetic problems using `numpy`, using the following definitions:\n",
        "\n",
        "\\begin{equation}\n",
        "a = \\begin{pmatrix}\n",
        "4 \\\\ -2 \\\\ -7 \\\\\n",
        "\\end{pmatrix}, \n",
        "b = \\begin{pmatrix}\n",
        "-1 \\\\ 8 \\\\ 4 \\\\ \n",
        "\\end{pmatrix}, \n",
        "c = \\begin{pmatrix}\n",
        "9 \\\\ 4 \\\\ -6 \\\\\n",
        "\\end{pmatrix}\n",
        "\\end{equation}\n",
        "\n",
        "\\begin{equation}\n",
        "D = \\begin{pmatrix}\n",
        "5 & -3 & 2 \\\\\n",
        "4 & 1 & 9 \\\\\n",
        "\\end{pmatrix}, \n",
        "E = \\begin{pmatrix}\n",
        "7 & 3 & 8 \\\\\n",
        "-1 & 8 & 5 \\\\\n",
        "6 & 9 & -2 \\\\\n",
        "\\end{pmatrix}, \n",
        "F = \\begin{pmatrix}\n",
        "0 & 4 \\\\\n",
        "5 & -8 \\\\\n",
        "8 & 7 \\\\\n",
        "\\end{pmatrix}\n",
        "\\end{equation}\n",
        "\n",
        "- $a + b - c$"
      ]
    },
    {
      "cell_type": "code",
      "execution_count": 16,
      "id": "438dbd04",
      "metadata": {
        "id": "438dbd04",
        "outputId": "99ffc924-482c-46cd-b5f2-69e0dbd53859",
        "colab": {
          "base_uri": "https://localhost:8080/"
        }
      },
      "outputs": [
        {
          "output_type": "execute_result",
          "data": {
            "text/plain": [
              "array([-6,  2,  3])"
            ]
          },
          "metadata": {},
          "execution_count": 16
        }
      ],
      "source": [
        "import numpy as np\n",
        "\n",
        "# define all the matrices here\n",
        "a = np.array([4, -2, -7])\n",
        "b = np.array([-1, 8, 4])\n",
        "c = np.array([9, 4, -6])\n",
        "D = np.array([[5, -3, 2], [4, 1, 9]])\n",
        "E = np.array([[7, 3, 8], [-1, 8, 5], [6, 9, -2]])\n",
        "F = np.array([[0, 4], [5, -8], [8, 7]])\n",
        "\n",
        "a + b - c"
      ]
    },
    {
      "cell_type": "markdown",
      "id": "3f899b73",
      "metadata": {
        "id": "3f899b73"
      },
      "source": [
        "- $2a - 7b$"
      ]
    },
    {
      "cell_type": "code",
      "execution_count": 17,
      "id": "c17ac39a",
      "metadata": {
        "id": "c17ac39a",
        "outputId": "839174e4-565c-4e25-bed3-871eb7b23143",
        "colab": {
          "base_uri": "https://localhost:8080/"
        }
      },
      "outputs": [
        {
          "output_type": "execute_result",
          "data": {
            "text/plain": [
              "array([ 15, -60, -42])"
            ]
          },
          "metadata": {},
          "execution_count": 17
        }
      ],
      "source": [
        "2*a - 7*b"
      ]
    },
    {
      "cell_type": "markdown",
      "id": "e7c2555b",
      "metadata": {
        "id": "e7c2555b"
      },
      "source": [
        "- $a \\cdot c$"
      ]
    },
    {
      "cell_type": "code",
      "execution_count": 18,
      "id": "8623e5c8",
      "metadata": {
        "id": "8623e5c8",
        "outputId": "981c37a1-97c2-47f8-8c5b-529bec753081",
        "colab": {
          "base_uri": "https://localhost:8080/"
        }
      },
      "outputs": [
        {
          "output_type": "execute_result",
          "data": {
            "text/plain": [
              "array([[70]])"
            ]
          },
          "metadata": {},
          "execution_count": 18
        }
      ],
      "source": [
        "np.dot(a.reshape(1, 3), c.reshape(3, 1))\n",
        "# if you use 2D arrays, they have to be a row and column vector. If you use 1D arrays, numpy will automatically do the conversion"
      ]
    },
    {
      "cell_type": "markdown",
      "id": "c3e7ce0b",
      "metadata": {
        "id": "c3e7ce0b"
      },
      "source": [
        "- $a \\times b$"
      ]
    },
    {
      "cell_type": "code",
      "execution_count": 22,
      "id": "dc62ea49",
      "metadata": {
        "id": "dc62ea49",
        "outputId": "deac2ea0-40dd-411d-a10b-8c14106f41fd",
        "colab": {
          "base_uri": "https://localhost:8080/"
        }
      },
      "outputs": [
        {
          "output_type": "execute_result",
          "data": {
            "text/plain": [
              "array([[48, -9, 30]])"
            ]
          },
          "metadata": {},
          "execution_count": 22
        }
      ],
      "source": [
        "np.cross(a.reshape(1, 3), b.reshape(1, 3))\n",
        "# if you use 2D arrays, they have to have the same shape. If you use 1D arrays, numpy will automatically do the conversion"
      ]
    },
    {
      "cell_type": "markdown",
      "id": "622a8dc1",
      "metadata": {
        "id": "622a8dc1"
      },
      "source": [
        "- $Da$"
      ]
    },
    {
      "cell_type": "code",
      "execution_count": 23,
      "id": "66500a65",
      "metadata": {
        "id": "66500a65",
        "outputId": "a98061a8-27cb-43a6-e768-905d8a3dc2fd",
        "colab": {
          "base_uri": "https://localhost:8080/"
        }
      },
      "outputs": [
        {
          "output_type": "execute_result",
          "data": {
            "text/plain": [
              "array([ 12, -49])"
            ]
          },
          "metadata": {},
          "execution_count": 23
        }
      ],
      "source": [
        "np.matmul(D, a)"
      ]
    },
    {
      "cell_type": "markdown",
      "id": "29a40243",
      "metadata": {
        "id": "29a40243"
      },
      "source": [
        "- $\\frac{1}{2}EF$"
      ]
    },
    {
      "cell_type": "code",
      "execution_count": 24,
      "id": "92065b4f",
      "metadata": {
        "id": "92065b4f",
        "colab": {
          "base_uri": "https://localhost:8080/"
        },
        "outputId": "d3371407-abf1-492a-fdcf-a043bf023ecf"
      },
      "outputs": [
        {
          "output_type": "execute_result",
          "data": {
            "text/plain": [
              "array([[ 39.5,  30. ],\n",
              "       [ 40. , -16.5],\n",
              "       [ 14.5, -31. ]])"
            ]
          },
          "metadata": {},
          "execution_count": 24
        }
      ],
      "source": [
        "0.5*np.matmul(E, F)"
      ]
    },
    {
      "cell_type": "markdown",
      "id": "1abba6ad",
      "metadata": {
        "id": "1abba6ad"
      },
      "source": [
        "- $b^TEc$ ($b^T$ is the transpose of $b$; we need this for the multiplication to be defined) (Hint: If you defined $b$ and $c$ as row vectors (i.e. 1D arrays using `np.array()`) you'd technically be transposing $c$. Either way, make sure $b$ is a row vector and $c$ is a column vector, )"
      ]
    },
    {
      "cell_type": "code",
      "execution_count": 25,
      "id": "0fec4389",
      "metadata": {
        "id": "0fec4389",
        "outputId": "50cd1b38-e41f-42c8-ccbc-5ec2a543dd6e",
        "colab": {
          "base_uri": "https://localhost:8080/"
        }
      },
      "outputs": [
        {
          "output_type": "execute_result",
          "data": {
            "text/plain": [
              "array([325])"
            ]
          },
          "metadata": {},
          "execution_count": 25
        }
      ],
      "source": [
        "term1 = np.matmul(b, E) # multiply the first two factors first\n",
        "np.matmul(term1, c.reshape(3, 1)) # then the third\n",
        "# note that the original problem wouldn't work since b.T*F would give a 1x2 matrix"
      ]
    },
    {
      "cell_type": "markdown",
      "id": "d337d30c",
      "metadata": {
        "id": "d337d30c"
      },
      "source": [
        "## Exercise 2: Verifying Matrix Identities\n",
        "\n",
        "We can use arrays to verify some important matrix identites used thoughout linear algebra.\n",
        "\n",
        "**Your task:** For each identity, write a function that takes in some amount of arrays as inputs and evaluates any relevant values. Return the truth value of each identity (that is, return `True` if the identity is satisfied and `False` if it isn't). Try it out with some test matrices; feel free to use the ones above or define your own.\n",
        "\n",
        "- The distributive property: $A(B + C) = AB + AC$"
      ]
    },
    {
      "cell_type": "code",
      "execution_count": null,
      "id": "7b88d9e5",
      "metadata": {
        "id": "7b88d9e5",
        "outputId": "51a755e8-a741-436b-a3fc-feb16ed76ef8",
        "colab": {
          "base_uri": "https://localhost:8080/"
        }
      },
      "outputs": [
        {
          "output_type": "execute_result",
          "data": {
            "text/plain": [
              "array([[ True,  True,  True],\n",
              "       [ True,  True,  True],\n",
              "       [ True,  True,  True]])"
            ]
          },
          "metadata": {},
          "execution_count": 35
        }
      ],
      "source": [
        "# generating matrices; these are identities, so anything will work\n",
        "A = E\n",
        "B = E.T * 0.451\n",
        "C = 3*B - 5*A/3.7\n",
        "\n",
        "def dist(A, B, C):\n",
        "    lhs = np.matmul(A, (B+C)) # left-hand side\n",
        "    rhs = np.matmul(A, B) + np.matmul(A, C) # right-hand side\n",
        "    return np.isclose(lhs, rhs) # are they equal? (element-wise)\n",
        "\n",
        "dist(A, B, C)"
      ]
    },
    {
      "cell_type": "markdown",
      "id": "09ee579d",
      "metadata": {
        "id": "09ee579d"
      },
      "source": [
        "- The associative property (or lack thereof): $AB \\neq BA$"
      ]
    },
    {
      "cell_type": "code",
      "execution_count": null,
      "id": "e5930783",
      "metadata": {
        "id": "e5930783",
        "outputId": "eb2f84f2-bb81-4a12-e5cc-5faef55685e9",
        "colab": {
          "base_uri": "https://localhost:8080/"
        }
      },
      "outputs": [
        {
          "output_type": "execute_result",
          "data": {
            "text/plain": [
              "array([[False, False, False],\n",
              "       [False, False, False],\n",
              "       [False, False, False]])"
            ]
          },
          "metadata": {},
          "execution_count": 38
        }
      ],
      "source": [
        "def assoc(A, B):\n",
        "    lhs = np.matmul(A, B) # left-hand side\n",
        "    rhs = np.matmul(B, A) # right-hand side\n",
        "    return np.isclose(lhs, rhs) # are they equal?\n",
        "\n",
        "assoc(A, B)"
      ]
    },
    {
      "cell_type": "markdown",
      "id": "78bbb913",
      "metadata": {
        "id": "78bbb913"
      },
      "source": [
        "- Sum of transposes: $A^T + B^T = (A + B)^T$"
      ]
    },
    {
      "cell_type": "code",
      "execution_count": null,
      "id": "ab2a77e1",
      "metadata": {
        "id": "ab2a77e1",
        "outputId": "4ae15c6e-4cc5-40e0-f25a-41e46978e6f1",
        "colab": {
          "base_uri": "https://localhost:8080/"
        }
      },
      "outputs": [
        {
          "output_type": "execute_result",
          "data": {
            "text/plain": [
              "array([[ True,  True,  True],\n",
              "       [ True,  True,  True],\n",
              "       [ True,  True,  True]])"
            ]
          },
          "metadata": {},
          "execution_count": 41
        }
      ],
      "source": [
        "def sumT(A, B):\n",
        "    lhs = A.T + B.T # left-hand side\n",
        "    rhs = (A + B).T # right-hand side\n",
        "    return np.isclose(lhs, rhs) # are they equal?\n",
        "\n",
        "sumT(A, B)"
      ]
    },
    {
      "cell_type": "markdown",
      "id": "3ef56347",
      "metadata": {
        "id": "3ef56347"
      },
      "source": [
        "- Product of transposes: $(ABC)^T = C^TB^TA^T$"
      ]
    },
    {
      "cell_type": "code",
      "execution_count": null,
      "id": "ff023246",
      "metadata": {
        "id": "ff023246",
        "outputId": "58cf6150-0ad4-4ba6-d4a5-7ef4a920ab1e",
        "colab": {
          "base_uri": "https://localhost:8080/"
        }
      },
      "outputs": [
        {
          "output_type": "execute_result",
          "data": {
            "text/plain": [
              "array([[ True,  True,  True],\n",
              "       [ True,  True,  True],\n",
              "       [ True,  True,  True]])"
            ]
          },
          "metadata": {},
          "execution_count": 42
        }
      ],
      "source": [
        "def mulT(A, B, C):\n",
        "    lhs = np.matmul(np.matmul(A, B), C).T # left-hand side\n",
        "    rhs = np.matmul(np.matmul(C.T, B.T), A.T) # right-hand side\n",
        "    return np.isclose(lhs, rhs) # are they equal?\n",
        "\n",
        "mulT(A, B, C)"
      ]
    },
    {
      "cell_type": "markdown",
      "id": "f58208f1",
      "metadata": {
        "id": "f58208f1"
      },
      "source": [
        "- The identity matrix $I$: $AI = A$"
      ]
    },
    {
      "cell_type": "code",
      "execution_count": null,
      "id": "14ebcbdd",
      "metadata": {
        "id": "14ebcbdd",
        "outputId": "a3f301c1-9f8e-495a-a7d6-de5329dea44f",
        "colab": {
          "base_uri": "https://localhost:8080/"
        }
      },
      "outputs": [
        {
          "output_type": "execute_result",
          "data": {
            "text/plain": [
              "array([[ True,  True,  True],\n",
              "       [ True,  True,  True],\n",
              "       [ True,  True,  True]])"
            ]
          },
          "metadata": {},
          "execution_count": 45
        }
      ],
      "source": [
        "def iden(A):\n",
        "    lhs = np.matmul(A, np.eye(np.shape(A)[0])) # left-hand side (shape[0] gives the num of rows)\n",
        "    rhs = A # right-hand side\n",
        "    return np.isclose(lhs, rhs)\n",
        "\n",
        "iden(B)"
      ]
    },
    {
      "cell_type": "markdown",
      "id": "8006e022",
      "metadata": {
        "id": "8006e022"
      },
      "source": [
        "- The trace of a matrix: $tr(A) = \\sum_i{A_{ii}}$. $A_{ij}$ is the element in row $i$ and column $j$ of matrix $A$. You may use `numpy.trace()` to evaluate the left-hand side of this identity."
      ]
    },
    {
      "cell_type": "code",
      "execution_count": null,
      "id": "fa7b12d3",
      "metadata": {
        "id": "fa7b12d3",
        "outputId": "855665ce-014a-4789-8af4-69280be7a25a",
        "colab": {
          "base_uri": "https://localhost:8080/"
        }
      },
      "outputs": [
        {
          "output_type": "execute_result",
          "data": {
            "text/plain": [
              "True"
            ]
          },
          "metadata": {},
          "execution_count": 51
        }
      ],
      "source": [
        "def tr(A):\n",
        "    lhs = np.trace(A) # left hand side\n",
        "    rhs = 0\n",
        "    for i in range(np.shape(A)[0]): # iterate over n of an n by n matrix\n",
        "        rhs += A[i, i] # add the diagonal elements\n",
        "    return np.isclose(lhs, rhs) # are they equal?\n",
        "\n",
        "tr(A)"
      ]
    },
    {
      "cell_type": "markdown",
      "id": "96aa79e2",
      "metadata": {
        "id": "96aa79e2"
      },
      "source": [
        "## Exercise 3: Computing the Inverse of a Matrix\n",
        "\n",
        "Taking the inverse of a nonzero number is a trivial task. However, as you may know, doing the same for a matrix takes a bit more work. We define the *matrix inverse* as follows, assuming $A$ is a 2x2 *square matrix* (i.e. the numbers of rows and columns in $A$ are equal):\n",
        "\n",
        "\\begin{equation}\n",
        "A^{-1} = \\frac{1}{det(A)} \\begin{pmatrix} A_{11} & -A_{01} \\\\ -A_{10} & A_{00} \\\\ \\end{pmatrix}\n",
        "\\end{equation}\n",
        "\n",
        "We define a new quantity $det(A)$ as the *determinant* of $A$. For a 2D matrix, calculating its value is trivial:\n",
        "\n",
        "\\begin{equation}\n",
        "det(A) = A_{00}A_{11} - A_{01}A_{10}\n",
        "\\end{equation}\n",
        "\n",
        "**Your task:** Write a function that takes a 2x2 matrix as an input and returns its inverse. The above formulas only work for this type of matrix, so you may add some logic to return an error message if the input is not 2x2. Test your function by verifying the following identity, which defines the identity matrix:\n",
        "\n",
        "\\begin{equation}\n",
        "A^{-1}A = AA^{-1} = I\n",
        "\\end{equation}"
      ]
    },
    {
      "cell_type": "code",
      "execution_count": null,
      "id": "7d899bb9",
      "metadata": {
        "id": "7d899bb9",
        "outputId": "ffa98f7a-99bd-423e-e8f7-ad1d8cd17bde",
        "colab": {
          "base_uri": "https://localhost:8080/"
        }
      },
      "outputs": [
        {
          "output_type": "execute_result",
          "data": {
            "text/plain": [
              "array([[-2. ,  1. ],\n",
              "       [ 1.5, -0.5]])"
            ]
          },
          "metadata": {},
          "execution_count": 59
        }
      ],
      "source": [
        "def inv(A):\n",
        "    det = A[0, 0]*A[1, 1] - A[0, 1]*A[1, 0] # evaluate the determinant\n",
        "    # set up matrix factor element-wise\n",
        "    inverse = np.empty((2, 2))\n",
        "    inverse[0, 0] = A[1, 1]\n",
        "    inverse[0, 1] = -A[0, 1]\n",
        "    inverse[1, 0] = -A[1, 0]\n",
        "    inverse[1, 1] = A[0, 0]\n",
        "    return inverse/det\n",
        "\n",
        "A = np.array([[1, 2], [3, 4]]) # an invertible matrix\n",
        "Ainv = inv(A)\n",
        "Ainv"
      ]
    },
    {
      "cell_type": "code",
      "source": [
        "# check the identity\n",
        "np.matmul(A, Ainv)"
      ],
      "metadata": {
        "id": "txASo8I5TXns",
        "outputId": "0b580c02-5fa0-400e-f8b4-81f71324bbae",
        "colab": {
          "base_uri": "https://localhost:8080/"
        }
      },
      "id": "txASo8I5TXns",
      "execution_count": null,
      "outputs": [
        {
          "output_type": "execute_result",
          "data": {
            "text/plain": [
              "array([[1., 0.],\n",
              "       [0., 1.]])"
            ]
          },
          "metadata": {},
          "execution_count": 60
        }
      ]
    },
    {
      "cell_type": "code",
      "source": [
        "B = np.array([[8, 6], [4, 3]]) # a non-invertible matrix\n",
        "inv(B)"
      ],
      "metadata": {
        "id": "WYQyOGKUNLYy",
        "outputId": "923b4af5-8979-43c1-a583-998d195fa93b",
        "colab": {
          "base_uri": "https://localhost:8080/"
        }
      },
      "id": "WYQyOGKUNLYy",
      "execution_count": null,
      "outputs": [
        {
          "output_type": "stream",
          "name": "stderr",
          "text": [
            "<ipython-input-53-dc07ea2d60ba>:9: RuntimeWarning: divide by zero encountered in true_divide\n",
            "  return inverse/det\n"
          ]
        },
        {
          "output_type": "execute_result",
          "data": {
            "text/plain": [
              "array([[ inf, -inf],\n",
              "       [-inf,  inf]])"
            ]
          },
          "metadata": {},
          "execution_count": 54
        }
      ]
    },
    {
      "cell_type": "markdown",
      "id": "6fa1a136",
      "metadata": {
        "id": "6fa1a136"
      },
      "source": [
        "If you tested the function above, you may have gotten some errors. If you did, don't fret; there's a reason for this. If not, try inputting the following matrix:\n",
        "\n",
        "\\begin{equation}\n",
        "\\begin{pmatrix}\n",
        "8 & 6 \\\\\n",
        "4 & 3 \\\\\n",
        "\\end{pmatrix}\n",
        "\\end{equation}\n",
        "\n",
        "This isn't an error on your part (assuming you did the first task correctly). Not all matrices have well-defined inverses. You can see this from the definition above; if the determinant of the matrix is zero, the coefficient will be undefined and you'll encounter a divide by zero error.\n",
        "\n",
        "**Your code:** Modify your function with an `if` statement that handles this exception. Print out an error message `\"Matrix has no inverse\"` when you reach this condition."
      ]
    },
    {
      "cell_type": "code",
      "execution_count": null,
      "id": "8d789438",
      "metadata": {
        "id": "8d789438",
        "outputId": "0f0e84c3-706a-4404-ca12-16a47af80de0",
        "colab": {
          "base_uri": "https://localhost:8080/"
        }
      },
      "outputs": [
        {
          "output_type": "stream",
          "name": "stdout",
          "text": [
            "Matrix is non-invertible\n"
          ]
        }
      ],
      "source": [
        "def inv(A):\n",
        "    # handle non-invertible matrices\n",
        "    det = A[0, 0]*A[1, 1] - A[0, 1]*A[1, 0] # evaluate the determinant\n",
        "    if np.isclose(det, 0): # the det is zero (can also use ==)\n",
        "        print('Matrix is non-invertible')\n",
        "        return\n",
        "    # set up matrix factor element-wise\n",
        "    inverse = np.empty((2, 2))\n",
        "    inverse[0, 0] = A[1, 1]\n",
        "    inverse[0, 1] = -A[0, 1]\n",
        "    inverse[1, 0] = -A[1, 0]\n",
        "    inverse[1, 1] = A[0, 0]\n",
        "    return inverse/det\n",
        "\n",
        "inv(B)"
      ]
    },
    {
      "cell_type": "markdown",
      "id": "7fa08ada",
      "metadata": {
        "id": "7fa08ada"
      },
      "source": [
        "One application of matrix inverses is solving systems of linear equations. You may have used a matrix method of solving systems like this in a college algebra course.\n",
        "\n",
        "Let's try the following example: A group of families visited the Science Museum. All of them came to the museum using the bus and left on the train. Tickets for the bus cost \\\\$4.50 per child and \\\\$4.80 per adult, and train tickets cost \\\\$5.25 per child and \\\\$5.40 per adult. In total, the families spent \\\\$177.60 on bus tickets and \\\\$202.80 on train tickets. We can set this up as follows, where $x$ is the number of children and $y$ is the number of adults:\n",
        "\n",
        "\\begin{equation}\n",
        "4.50x + 4.80y = 177.60 \\\\\n",
        "5.25x + 5.40y = 202.80\n",
        "\\end{equation}\n",
        "\n",
        "We can work backwards from these equations to get a matrix equation. If you're familiar with linear algebra, you can check that the equation above is equivalent to the following:\n",
        "\n",
        "\\begin{equation}\n",
        "\\begin{pmatrix} 4.50 & 4.80 \\\\ 5.25 & 5.40 \\\\ \\end{pmatrix}\n",
        "\\begin{pmatrix} x \\\\ y \\\\ \\end{pmatrix} =\n",
        "\\begin{pmatrix} 177.60 \\\\ 202.80 \\\\ \\end{pmatrix}\n",
        "\\end{equation}\n",
        "\n",
        "By multiplying both sides of the matrix equation by the inverse, we should get back the matrix of unknowns.\n",
        "\n",
        "**Your task:** Use your inverse function to solve the problem above. How many children and adults went to the Science Museum?"
      ]
    },
    {
      "cell_type": "markdown",
      "source": [],
      "metadata": {
        "id": "Skf2e3avU-98"
      },
      "id": "Skf2e3avU-98"
    },
    {
      "cell_type": "markdown",
      "source": [],
      "metadata": {
        "id": "mlwstXDHU-5b"
      },
      "id": "mlwstXDHU-5b"
    },
    {
      "cell_type": "code",
      "execution_count": null,
      "id": "e9f3e645",
      "metadata": {
        "id": "e9f3e645",
        "outputId": "7a0f3842-1bca-4df9-c777-7ce064d5a932",
        "colab": {
          "base_uri": "https://localhost:8080/"
        }
      },
      "outputs": [
        {
          "output_type": "execute_result",
          "data": {
            "text/plain": [
              "array([[16.],\n",
              "       [22.]])"
            ]
          },
          "metadata": {},
          "execution_count": 62
        }
      ],
      "source": [
        "prices = np.array([[4.5, 4.8], [5.25, 5.4]]) # lhs matrix of prices\n",
        "totals = np.array([[177.60], [202.80]]) # rhs matrix of totals\n",
        "prices_inv = inv(prices) # invert the prices matrix\n",
        "\n",
        "# \"multiply both sides\", aka multiply vector by inverse matrix\n",
        "np.matmul(prices_inv, totals)"
      ]
    },
    {
      "cell_type": "markdown",
      "id": "b56d6629",
      "metadata": {
        "id": "b56d6629"
      },
      "source": [
        "## Exercise 4: Eigenvalues\n",
        "\n",
        "An important problem in linear algebra is finding the *eigenvalues* of a matrix, special values intrinsic to matrices which have applications throughout science, especially in physics. Eigenvalues are defined with the eigenvalue equation:\n",
        "\n",
        "\\begin{equation}\n",
        "Av = \\lambda v\n",
        "\\end{equation}\n",
        "\n",
        "$v$ is an *eigenvector* of $A$, whereas $\\lambda$ is an eigenvalue of $A$. The above equation is essentially stating that if I multiply $A$ by one of its eigenvectors, I get back a scalar multiple of that same eigenvector. To solve for eigenvalues, I can multiply the right hand side by the identity matrix (just like how you can multiply a number by 1 without changing its value) and moving all terms to the left hand side to get:\n",
        "\n",
        "\\begin{equation}\n",
        "Av - \\lambda Iv = 0\n",
        "\\end{equation}\n",
        "\n",
        "Since $v$ can be any vector, we require that the matrix coefficient is the zero matrix:\n",
        "\\begin{equation}\n",
        "(A - \\lambda I) = 0\n",
        "\\end{equation}\n",
        "\n",
        "This is the *characteristic equation* of $A$, which we can solve by taking the determinant of both sides:\n",
        "\\begin{equation}\n",
        "det(A - \\lambda I) = 0\n",
        "\\end{equation}\n",
        "\n",
        "For this exercise, we'll stick to 2x2 matrices. This means that the left-hand side will take the form of a quadratic with respect to $\\lambda$.\n",
        "\n",
        "**Your task:** Write a function that takes in a 2x2 matrix and returns its eigenvalues. You won't be able to directly input the above equation into the function like previous exercises; you'll have to figure out how to get the above equation down to a calculable form. (Hint: The left-hand side of the characteristic equation is a polynomial with respect to $\\lambda$.)"
      ]
    },
    {
      "cell_type": "code",
      "execution_count": null,
      "id": "41a5f402",
      "metadata": {
        "id": "41a5f402",
        "outputId": "2797fe4c-4458-403a-c86b-b0b3c7e4db7d",
        "colab": {
          "base_uri": "https://localhost:8080/"
        }
      },
      "outputs": [
        {
          "output_type": "execute_result",
          "data": {
            "text/plain": [
              "(5.372281323269014, -0.3722813232690143)"
            ]
          },
          "metadata": {},
          "execution_count": 63
        }
      ],
      "source": [
        "# The lhs of the last equation can be expanded for a 2x2 matrix as:\n",
        "# (A[00] - lamb)(A[11] - lamb) - (A[01])(A[10])\n",
        "# = lamb**2 - lamb(A[00] + A[11]) + (A[00]A[11] - A[01]A[10])\n",
        "# This has the format of a quadratic formula, which we've implemented before\n",
        "\n",
        "def eigen(A):\n",
        "    a = 1\n",
        "    b = -A[0, 0] - A[1, 1]\n",
        "    c = A[0, 0]*A[1, 1] - A[0, 1]*A[1, 0]\n",
        "    proot = (-b + np.sqrt(b**2 - 4*a*c))/(2*a) # plus root of quadratic formula\n",
        "    mroot = (-b - np.sqrt(b**2 - 4*a*c))/(2*a) # minus root of quadratic formula\n",
        "    return (proot, mroot)"
      ]
    },
    {
      "cell_type": "markdown",
      "id": "6b7136a6",
      "metadata": {
        "id": "6b7136a6"
      },
      "source": [
        "**Your task:** Test your code with the following examples:\n",
        "\n",
        "\\begin{equation}\n",
        "\\begin{pmatrix}\n",
        "5 & 4 \\\\\n",
        "1 & 2 \\\\\n",
        "\\end{pmatrix}\n",
        "\\end{equation}\n",
        "\n",
        "\\begin{equation}\n",
        "\\begin{pmatrix}\n",
        "-5 & 2 \\\\\n",
        "-7 & 4 \\\\\n",
        "\\end{pmatrix}\n",
        "\\end{equation}\n",
        "\n",
        "\\begin{equation}\n",
        "\\begin{pmatrix}\n",
        "-8 & -3 \\\\\n",
        "-5 & 1 \\\\\n",
        "\\end{pmatrix}\n",
        "\\end{equation}\n",
        "\n",
        "The function `numpy.linalg.eig()` (https://numpy.org/doc/stable/reference/generated/numpy.linalg.eig.html) returns the eigenvalues and eigenvectors of a matrix input. Use this to compare your answers."
      ]
    },
    {
      "cell_type": "code",
      "execution_count": null,
      "id": "c5abd182",
      "metadata": {
        "id": "c5abd182",
        "outputId": "76145445-d59f-47dc-f41a-59a57a07f78f",
        "colab": {
          "base_uri": "https://localhost:8080/"
        }
      },
      "outputs": [
        {
          "output_type": "stream",
          "name": "stdout",
          "text": [
            "(6.0, 1.0)\n",
            "[6. 1.]\n"
          ]
        }
      ],
      "source": [
        "A = np.array([[5, 4], [1, 2]])\n",
        "print(eigen(A))\n",
        "print(np.linalg.eig(A)[0]) # eig() returns (eigenvalues, eigenvectors); we just want to look at the values)"
      ]
    },
    {
      "cell_type": "code",
      "source": [
        "B = np.array([[-5, 2], [-7, 4]])\n",
        "print(eigen(B))\n",
        "print(np.linalg.eig(B)[0]) # note that the order may be reversed"
      ],
      "metadata": {
        "id": "JL3qMqsqbjmn",
        "outputId": "ffcf61b0-7a55-44cf-c257-6118fed9d6d9",
        "colab": {
          "base_uri": "https://localhost:8080/"
        }
      },
      "id": "JL3qMqsqbjmn",
      "execution_count": null,
      "outputs": [
        {
          "output_type": "stream",
          "name": "stdout",
          "text": [
            "(2.0, -3.0)\n",
            "[-3.  2.]\n"
          ]
        }
      ]
    },
    {
      "cell_type": "code",
      "source": [
        "C = np.array([[-8, -3], [-5, 1]])\n",
        "print(eigen(C))\n",
        "print(np.linalg.eig(C)[0])"
      ],
      "metadata": {
        "id": "N9LpG8eWbu7h",
        "outputId": "0e81a7e1-c444-4538-af3a-ade6d9eaceef",
        "colab": {
          "base_uri": "https://localhost:8080/"
        }
      },
      "id": "N9LpG8eWbu7h",
      "execution_count": null,
      "outputs": [
        {
          "output_type": "stream",
          "name": "stdout",
          "text": [
            "(2.4371710435189584, -9.437171043518958)\n",
            "[-9.43717104  2.43717104]\n"
          ]
        }
      ]
    }
  ],
  "metadata": {
    "kernelspec": {
      "display_name": "Python 3 (ipykernel)",
      "language": "python",
      "name": "python3"
    },
    "language_info": {
      "codemirror_mode": {
        "name": "ipython",
        "version": 3
      },
      "file_extension": ".py",
      "mimetype": "text/x-python",
      "name": "python",
      "nbconvert_exporter": "python",
      "pygments_lexer": "ipython3",
      "version": "3.9.16"
    },
    "colab": {
      "provenance": [],
      "include_colab_link": true
    }
  },
  "nbformat": 4,
  "nbformat_minor": 5
}