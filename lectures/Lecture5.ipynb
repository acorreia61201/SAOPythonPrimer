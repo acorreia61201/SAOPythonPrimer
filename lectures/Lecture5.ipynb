{
 "cells": [
  {
   "cell_type": "markdown",
   "id": "c4486ad6",
   "metadata": {},
   "source": [
    "# SAO/LIP Python Primer Course Lecture 5\n",
    "\n",
    "In this notebook, you will learn about:\n",
    "- Universal Functions\n",
    "- Manipulating Arrays\n",
    "- Array Operations\n",
    "- `numpy` I/O\n",
    "\n",
    "[![Open In Colab](https://colab.research.google.com/assets/colab-badge.svg)](https://colab.research.google.com/github/acorreia61201/SAOPythonPrimer/blob/main/lectures/Lecture5.ipynb)\n",
    "\n",
    "In the last lecture, we went over the basic beginnings of using `numpy` as part of a discussion on data structures. We'll continue talking about the `numpy` library and some of the powerful things you can do with it.\n",
    "\n",
    "## Universal Functions\n",
    "\n",
    "Recall that the `math` library has several functions for evaluating common functions:"
   ]
  },
  {
   "cell_type": "code",
   "execution_count": 1,
   "id": "1704a441",
   "metadata": {},
   "outputs": [
    {
     "data": {
      "text/plain": [
       "1.0"
      ]
     },
     "execution_count": 1,
     "metadata": {},
     "output_type": "execute_result"
    }
   ],
   "source": [
    "import math as m\n",
    "\n",
    "m.sin(m.pi/2)"
   ]
  },
  {
   "cell_type": "markdown",
   "id": "e2fc635e",
   "metadata": {},
   "source": [
    "If we want to apply an operation to a list of values, we can't just input the list into the function; we have to iterate over it using a loop:"
   ]
  },
  {
   "cell_type": "code",
   "execution_count": 7,
   "id": "3655eed4",
   "metadata": {},
   "outputs": [
    {
     "data": {
      "text/plain": [
       "array([-1.22464680e-16, -5.87785252e-01, -9.51056516e-01, -9.51056516e-01,\n",
       "       -5.87785252e-01,  0.00000000e+00,  5.87785252e-01,  9.51056516e-01,\n",
       "        9.51056516e-01,  5.87785252e-01,  1.22464680e-16])"
      ]
     },
     "execution_count": 7,
     "metadata": {},
     "output_type": "execute_result"
    }
   ],
   "source": [
    "import numpy as np\n",
    "\n",
    "test = np.linspace(-m.pi, m.pi, 11)\n",
    "results = np.empty(11)\n",
    "\n",
    "for i in range(test.shape[0]):\n",
    "    results[i] = m.sin(test[i])\n",
    "    \n",
    "results"
   ]
  },
  {
   "cell_type": "markdown",
   "id": "61e068ea",
   "metadata": {},
   "source": [
    "`numpy` provides a more memory- and time-efficient method of applying an operation to all elements in an array. We can instead use *universal functions* supplied by `numpy`. When applying them to one value, these functions are indistinguishable from their `math` counterparts:"
   ]
  },
  {
   "cell_type": "code",
   "execution_count": 6,
   "id": "e737d675",
   "metadata": {},
   "outputs": [
    {
     "name": "stdout",
     "output_type": "stream",
     "text": [
      "1.2246467991473532e-16\n",
      "1.2246467991473532e-16\n"
     ]
    }
   ],
   "source": [
    "print(m.sin(m.pi))\n",
    "print(np.sin(m.pi))"
   ]
  },
  {
   "cell_type": "markdown",
   "id": "7155c2b0",
   "metadata": {},
   "source": [
    "However, look what happens when we input `test` in `numpy.sin()`:"
   ]
  },
  {
   "cell_type": "code",
   "execution_count": 8,
   "id": "53834e1a",
   "metadata": {},
   "outputs": [
    {
     "data": {
      "text/plain": [
       "array([-1.22464680e-16, -5.87785252e-01, -9.51056516e-01, -9.51056516e-01,\n",
       "       -5.87785252e-01,  0.00000000e+00,  5.87785252e-01,  9.51056516e-01,\n",
       "        9.51056516e-01,  5.87785252e-01,  1.22464680e-16])"
      ]
     },
     "execution_count": 8,
     "metadata": {},
     "output_type": "execute_result"
    }
   ],
   "source": [
    "np.sin(test)"
   ]
  },
  {
   "cell_type": "markdown",
   "id": "7fe5d179",
   "metadata": {},
   "source": [
    "It automatically takes the sine of all the values in `test`, with no extra effort on our part. `numpy` has a universal function counterpart for nearly every `math` function that works in the same way:"
   ]
  },
  {
   "cell_type": "code",
   "execution_count": 9,
   "id": "9f7756fd",
   "metadata": {},
   "outputs": [
    {
     "data": {
      "text/plain": [
       "array([-3., -2., -1., -1., -0.,  0.,  1.,  2.,  2.,  3.,  4.])"
      ]
     },
     "execution_count": 9,
     "metadata": {},
     "output_type": "execute_result"
    }
   ],
   "source": [
    "np.ceil(test)"
   ]
  },
  {
   "cell_type": "code",
   "execution_count": 10,
   "id": "198d7529",
   "metadata": {},
   "outputs": [
    {
     "data": {
      "text/plain": [
       "array([-180., -144., -108.,  -72.,  -36.,    0.,   36.,   72.,  108.,\n",
       "        144.,  180.])"
      ]
     },
     "execution_count": 10,
     "metadata": {},
     "output_type": "execute_result"
    }
   ],
   "source": [
    "np.rad2deg(test) # comparable to math.degrees()"
   ]
  },
  {
   "cell_type": "code",
   "execution_count": 11,
   "id": "5fe16d70",
   "metadata": {},
   "outputs": [
    {
     "data": {
      "text/plain": [
       "array([ 0.04321392,  0.08100259,  0.1518358 ,  0.28460954,  0.53348809,\n",
       "        1.        ,  1.87445609,  3.51358562,  6.58606196, 12.34528394,\n",
       "       23.14069263])"
      ]
     },
     "execution_count": 11,
     "metadata": {},
     "output_type": "execute_result"
    }
   ],
   "source": [
    "np.exp(test)"
   ]
  },
  {
   "cell_type": "markdown",
   "id": "06594fe3",
   "metadata": {},
   "source": [
    "There are even some equivalents to the fundamental constants found in `math` of the type `numpy.float64`:"
   ]
  },
  {
   "cell_type": "code",
   "execution_count": 12,
   "id": "5d36a02d",
   "metadata": {},
   "outputs": [
    {
     "data": {
      "text/plain": [
       "3.141592653589793"
      ]
     },
     "execution_count": 12,
     "metadata": {},
     "output_type": "execute_result"
    }
   ],
   "source": [
    "np.pi"
   ]
  },
  {
   "cell_type": "code",
   "execution_count": 13,
   "id": "7e622c9e",
   "metadata": {},
   "outputs": [
    {
     "data": {
      "text/plain": [
       "1.2246467991473532e-16"
      ]
     },
     "execution_count": 13,
     "metadata": {},
     "output_type": "execute_result"
    }
   ],
   "source": [
    "np.sin(np.pi)"
   ]
  },
  {
   "cell_type": "code",
   "execution_count": 14,
   "id": "b3893bb1",
   "metadata": {},
   "outputs": [
    {
     "data": {
      "text/plain": [
       "2.718281828459045"
      ]
     },
     "execution_count": 14,
     "metadata": {},
     "output_type": "execute_result"
    }
   ],
   "source": [
    "np.e"
   ]
  },
  {
   "cell_type": "code",
   "execution_count": 15,
   "id": "c8c00665",
   "metadata": {},
   "outputs": [
    {
     "data": {
      "text/plain": [
       "1.0"
      ]
     },
     "execution_count": 15,
     "metadata": {},
     "output_type": "execute_result"
    }
   ],
   "source": [
    "np.log(np.e)"
   ]
  },
  {
   "cell_type": "markdown",
   "id": "8a293cfd",
   "metadata": {},
   "source": [
    "Recall my warning about using import statements of the form `from library import function`. Here lies the reason; let's say I called `exp()` directly from `numpy` and `math`:"
   ]
  },
  {
   "cell_type": "code",
   "execution_count": 16,
   "id": "1c60bc4d",
   "metadata": {},
   "outputs": [],
   "source": [
    "from numpy import exp\n",
    "from math import exp"
   ]
  },
  {
   "cell_type": "markdown",
   "id": "99edb887",
   "metadata": {},
   "source": [
    "Now, if I try to input an array into `exp()`, there's no way to tell which `exp()` I'm using until I get an error:"
   ]
  },
  {
   "cell_type": "code",
   "execution_count": 17,
   "id": "5a09d072",
   "metadata": {},
   "outputs": [
    {
     "ename": "TypeError",
     "evalue": "only size-1 arrays can be converted to Python scalars",
     "output_type": "error",
     "traceback": [
      "\u001b[0;31m---------------------------------------------------------------------------\u001b[0m",
      "\u001b[0;31mTypeError\u001b[0m                                 Traceback (most recent call last)",
      "Cell \u001b[0;32mIn[17], line 1\u001b[0m\n\u001b[0;32m----> 1\u001b[0m \u001b[43mexp\u001b[49m\u001b[43m(\u001b[49m\u001b[43mtest\u001b[49m\u001b[43m)\u001b[49m\n",
      "\u001b[0;31mTypeError\u001b[0m: only size-1 arrays can be converted to Python scalars"
     ]
    }
   ],
   "source": [
    "exp(test)"
   ]
  },
  {
   "cell_type": "markdown",
   "id": "ea783b1b",
   "metadata": {},
   "source": [
    "There are some instances when it's convenient to call functions directly from packages. In longer codes, however, it can get hard to track down where you may be importing functions. Use statements like this sparingly when writing your own codes.\n",
    "\n",
    "## Manipulating `numpy` Arrays\n",
    "\n",
    "Now that we know how to generate arrays, let's look into how we can modify them. Let's start with two arrays:"
   ]
  },
  {
   "cell_type": "code",
   "execution_count": 48,
   "id": "c9c7618e",
   "metadata": {},
   "outputs": [],
   "source": [
    "x = np.array([1, 4, 6, 3, 5, 2])\n",
    "y = np.array([[7, 8]]) # The double bracket makes this a 2D array"
   ]
  },
  {
   "cell_type": "markdown",
   "id": "66b3050b",
   "metadata": {},
   "source": [
    "First, let's order the elements of `x` by using the `numpy.sort()` function:"
   ]
  },
  {
   "cell_type": "code",
   "execution_count": 49,
   "id": "b22238fb",
   "metadata": {},
   "outputs": [
    {
     "data": {
      "text/plain": [
       "array([1, 2, 3, 4, 5, 6])"
      ]
     },
     "execution_count": 49,
     "metadata": {},
     "output_type": "execute_result"
    }
   ],
   "source": [
    "np.sort(x)"
   ]
  },
  {
   "cell_type": "markdown",
   "id": "1d087543",
   "metadata": {},
   "source": [
    "Let's print `x` to check:"
   ]
  },
  {
   "cell_type": "code",
   "execution_count": 50,
   "id": "8d028269",
   "metadata": {},
   "outputs": [
    {
     "data": {
      "text/plain": [
       "array([1, 4, 6, 3, 5, 2])"
      ]
     },
     "execution_count": 50,
     "metadata": {},
     "output_type": "execute_result"
    }
   ],
   "source": [
    "x"
   ]
  },
  {
   "cell_type": "markdown",
   "id": "64f95c44",
   "metadata": {},
   "source": [
    "What happened? It turns out `numpy` functions that manipulate arrays don't do in-place modifications. If we want to overwrite the array with the sorted counterpart, we have to redefine `x` with the function above:"
   ]
  },
  {
   "cell_type": "code",
   "execution_count": 51,
   "id": "4cbb55f4",
   "metadata": {},
   "outputs": [
    {
     "data": {
      "text/plain": [
       "array([1, 2, 3, 4, 5, 6])"
      ]
     },
     "execution_count": 51,
     "metadata": {},
     "output_type": "execute_result"
    }
   ],
   "source": [
    "x = np.sort(x)\n",
    "x"
   ]
  },
  {
   "cell_type": "markdown",
   "id": "2549e255",
   "metadata": {},
   "source": [
    "We can also change the shape of an existing array using the `reshape()` method. Its input is a comma-separated list representing the shape you want the output to be. `numpy` will automatically distribute the elements to fit the new shape:"
   ]
  },
  {
   "cell_type": "code",
   "execution_count": 52,
   "id": "4b2b7759",
   "metadata": {},
   "outputs": [
    {
     "data": {
      "text/plain": [
       "array([[1, 2, 3],\n",
       "       [4, 5, 6]])"
      ]
     },
     "execution_count": 52,
     "metadata": {},
     "output_type": "execute_result"
    }
   ],
   "source": [
    "x.reshape(2, 3)"
   ]
  },
  {
   "cell_type": "code",
   "execution_count": 53,
   "id": "9708af3e",
   "metadata": {},
   "outputs": [
    {
     "data": {
      "text/plain": [
       "array([[1],\n",
       "       [2],\n",
       "       [3],\n",
       "       [4],\n",
       "       [5],\n",
       "       [6]])"
      ]
     },
     "execution_count": 53,
     "metadata": {},
     "output_type": "execute_result"
    }
   ],
   "source": [
    "x.reshape(6, 1)"
   ]
  },
  {
   "cell_type": "code",
   "execution_count": 54,
   "id": "4c203249",
   "metadata": {},
   "outputs": [
    {
     "data": {
      "text/plain": [
       "array([[[1, 2]],\n",
       "\n",
       "       [[3, 4]],\n",
       "\n",
       "       [[5, 6]]])"
      ]
     },
     "execution_count": 54,
     "metadata": {},
     "output_type": "execute_result"
    }
   ],
   "source": [
    "x.reshape(3, 1, 2)"
   ]
  },
  {
   "cell_type": "markdown",
   "id": "42e931e3",
   "metadata": {},
   "source": [
    "The shape input in `reshape` must contain the same number of elements as the original array. That is, `x.size` and `x.reshape().size` must be equal:"
   ]
  },
  {
   "cell_type": "code",
   "execution_count": 55,
   "id": "b0be5953",
   "metadata": {},
   "outputs": [
    {
     "ename": "ValueError",
     "evalue": "cannot reshape array of size 6 into shape (4,2)",
     "output_type": "error",
     "traceback": [
      "\u001b[0;31m---------------------------------------------------------------------------\u001b[0m",
      "\u001b[0;31mValueError\u001b[0m                                Traceback (most recent call last)",
      "Cell \u001b[0;32mIn[55], line 1\u001b[0m\n\u001b[0;32m----> 1\u001b[0m \u001b[43mx\u001b[49m\u001b[38;5;241;43m.\u001b[39;49m\u001b[43mreshape\u001b[49m\u001b[43m(\u001b[49m\u001b[38;5;241;43m4\u001b[39;49m\u001b[43m,\u001b[49m\u001b[43m \u001b[49m\u001b[38;5;241;43m2\u001b[39;49m\u001b[43m)\u001b[49m\n",
      "\u001b[0;31mValueError\u001b[0m: cannot reshape array of size 6 into shape (4,2)"
     ]
    }
   ],
   "source": [
    "x.reshape(4, 2)"
   ]
  },
  {
   "cell_type": "markdown",
   "id": "ee2ae6d7",
   "metadata": {},
   "source": [
    "Let's use `x.reshape(3, 2)` so `x` and `y` will have the same number of columns:"
   ]
  },
  {
   "cell_type": "code",
   "execution_count": 56,
   "id": "f9e0aa6e",
   "metadata": {},
   "outputs": [
    {
     "data": {
      "text/plain": [
       "array([[1, 2],\n",
       "       [3, 4],\n",
       "       [5, 6]])"
      ]
     },
     "execution_count": 56,
     "metadata": {},
     "output_type": "execute_result"
    }
   ],
   "source": [
    "x = x.reshape(3,2)\n",
    "x"
   ]
  },
  {
   "cell_type": "markdown",
   "id": "be086d16",
   "metadata": {},
   "source": [
    "We can combine two existing arrays using `numpy.concatenate()`. The only required input is a tuple containing the arrays you wish to combine. There's also a parameter `axis` that controls which axis to combine the arrays along. It defaults to 0, the highest-order axis. For example, using `axis = 0` to combine `x` and `y` will yield the following:"
   ]
  },
  {
   "cell_type": "code",
   "execution_count": 57,
   "id": "decf5c3c",
   "metadata": {},
   "outputs": [
    {
     "data": {
      "text/plain": [
       "array([[1, 2],\n",
       "       [3, 4],\n",
       "       [5, 6],\n",
       "       [7, 8]])"
      ]
     },
     "execution_count": 57,
     "metadata": {},
     "output_type": "execute_result"
    }
   ],
   "source": [
    "np.concatenate((x, y))"
   ]
  },
  {
   "cell_type": "markdown",
   "id": "19579de9",
   "metadata": {},
   "source": [
    "There are some constraints to which arrays we can concatenate. All of the input arrays must have the same `ndim` value. Notice that when I defined `y`, I used a double bracket to denote it as a 2D array, even though it looks like a 1D array since it has one row. Let's see what happens if I redefine `y` as a 1D array:"
   ]
  },
  {
   "cell_type": "code",
   "execution_count": 58,
   "id": "61c5f796",
   "metadata": {},
   "outputs": [
    {
     "ename": "ValueError",
     "evalue": "all the input arrays must have same number of dimensions, but the array at index 0 has 2 dimension(s) and the array at index 1 has 1 dimension(s)",
     "output_type": "error",
     "traceback": [
      "\u001b[0;31m---------------------------------------------------------------------------\u001b[0m",
      "\u001b[0;31mValueError\u001b[0m                                Traceback (most recent call last)",
      "Cell \u001b[0;32mIn[58], line 2\u001b[0m\n\u001b[1;32m      1\u001b[0m y_eg \u001b[38;5;241m=\u001b[39m np\u001b[38;5;241m.\u001b[39marray([\u001b[38;5;241m7\u001b[39m, \u001b[38;5;241m8\u001b[39m])\n\u001b[0;32m----> 2\u001b[0m \u001b[43mnp\u001b[49m\u001b[38;5;241;43m.\u001b[39;49m\u001b[43mconcatenate\u001b[49m\u001b[43m(\u001b[49m\u001b[43m(\u001b[49m\u001b[43mx\u001b[49m\u001b[43m,\u001b[49m\u001b[43m \u001b[49m\u001b[43my_eg\u001b[49m\u001b[43m)\u001b[49m\u001b[43m)\u001b[49m\n",
      "File \u001b[0;32m<__array_function__ internals>:200\u001b[0m, in \u001b[0;36mconcatenate\u001b[0;34m(*args, **kwargs)\u001b[0m\n",
      "\u001b[0;31mValueError\u001b[0m: all the input arrays must have same number of dimensions, but the array at index 0 has 2 dimension(s) and the array at index 1 has 1 dimension(s)"
     ]
    }
   ],
   "source": [
    "y_eg = np.array([7, 8])\n",
    "np.concatenate((x, y_eg))"
   ]
  },
  {
   "cell_type": "markdown",
   "id": "e312126b",
   "metadata": {},
   "source": [
    "Fortunately, if you didn't initially define all your arrays to have the same number of dimensions, you can just use `reshape()`:"
   ]
  },
  {
   "cell_type": "code",
   "execution_count": 61,
   "id": "e7fe6eda",
   "metadata": {},
   "outputs": [
    {
     "data": {
      "text/plain": [
       "array([[7, 8]])"
      ]
     },
     "execution_count": 61,
     "metadata": {},
     "output_type": "execute_result"
    }
   ],
   "source": [
    "y_eg = y_eg.reshape(1, 2)\n",
    "y_eg"
   ]
  },
  {
   "cell_type": "code",
   "execution_count": 62,
   "id": "04760f48",
   "metadata": {},
   "outputs": [
    {
     "data": {
      "text/plain": [
       "array([[1, 2],\n",
       "       [3, 4],\n",
       "       [5, 6],\n",
       "       [7, 8]])"
      ]
     },
     "execution_count": 62,
     "metadata": {},
     "output_type": "execute_result"
    }
   ],
   "source": [
    "np.concatenate((x, y_eg))"
   ]
  },
  {
   "cell_type": "markdown",
   "id": "5195106a",
   "metadata": {},
   "source": [
    "What will happen if I try to change the `axis` argument?"
   ]
  },
  {
   "cell_type": "code",
   "execution_count": 63,
   "id": "97d801c1",
   "metadata": {},
   "outputs": [
    {
     "ename": "ValueError",
     "evalue": "all the input array dimensions except for the concatenation axis must match exactly, but along dimension 0, the array at index 0 has size 3 and the array at index 1 has size 1",
     "output_type": "error",
     "traceback": [
      "\u001b[0;31m---------------------------------------------------------------------------\u001b[0m",
      "\u001b[0;31mValueError\u001b[0m                                Traceback (most recent call last)",
      "Cell \u001b[0;32mIn[63], line 1\u001b[0m\n\u001b[0;32m----> 1\u001b[0m \u001b[43mnp\u001b[49m\u001b[38;5;241;43m.\u001b[39;49m\u001b[43mconcatenate\u001b[49m\u001b[43m(\u001b[49m\u001b[43m(\u001b[49m\u001b[43mx\u001b[49m\u001b[43m,\u001b[49m\u001b[43m \u001b[49m\u001b[43my\u001b[49m\u001b[43m)\u001b[49m\u001b[43m,\u001b[49m\u001b[43m \u001b[49m\u001b[43maxis\u001b[49m\u001b[38;5;241;43m=\u001b[39;49m\u001b[38;5;241;43m1\u001b[39;49m\u001b[43m)\u001b[49m\n",
      "File \u001b[0;32m<__array_function__ internals>:200\u001b[0m, in \u001b[0;36mconcatenate\u001b[0;34m(*args, **kwargs)\u001b[0m\n",
      "\u001b[0;31mValueError\u001b[0m: all the input array dimensions except for the concatenation axis must match exactly, but along dimension 0, the array at index 0 has size 3 and the array at index 1 has size 1"
     ]
    }
   ],
   "source": [
    "np.concatenate((x, y), axis=1)"
   ]
  },
  {
   "cell_type": "markdown",
   "id": "495004cc",
   "metadata": {},
   "source": [
    "This is another constraint: the sizes of the arrays along all axes except the axis of concatenation must be equivalent. That is, if we want to concatenate `x` and `y` along axis 1, then both arrays must have the same shape in axis 0. In this case, as the error above says, `x` has an axis 0 size of 3 and `y` has an axis 1 size of 1. If we want to add a new column to x as-is, we'd have to define a new array with an axis 0 with the correct size:"
   ]
  },
  {
   "cell_type": "code",
   "execution_count": 65,
   "id": "90ac7ae6",
   "metadata": {},
   "outputs": [
    {
     "data": {
      "text/plain": [
       "array([[ 9],\n",
       "       [10],\n",
       "       [11]])"
      ]
     },
     "execution_count": 65,
     "metadata": {},
     "output_type": "execute_result"
    }
   ],
   "source": [
    "z = np.array([9, 10, 11])\n",
    "z = z.reshape(3, 1)\n",
    "z"
   ]
  },
  {
   "cell_type": "code",
   "execution_count": 69,
   "id": "ff203757",
   "metadata": {},
   "outputs": [
    {
     "data": {
      "text/plain": [
       "array([[ 1,  2,  9],\n",
       "       [ 3,  4, 10],\n",
       "       [ 5,  6, 11]])"
      ]
     },
     "execution_count": 69,
     "metadata": {},
     "output_type": "execute_result"
    }
   ],
   "source": [
    "comb = np.concatenate((x, z), axis=1)\n",
    "comb"
   ]
  },
  {
   "cell_type": "markdown",
   "id": "49fd11e5",
   "metadata": {},
   "source": [
    "If we want to remove elements from an array, we can use `numpy.delete()`. The syntax is as follows:"
   ]
  },
  {
   "cell_type": "code",
   "execution_count": 70,
   "id": "968dfae9",
   "metadata": {},
   "outputs": [
    {
     "data": {
      "text/plain": [
       "array([[ 1,  2,  9],\n",
       "       [ 5,  6, 11]])"
      ]
     },
     "execution_count": 70,
     "metadata": {},
     "output_type": "execute_result"
    }
   ],
   "source": [
    "np.delete(comb, 1, axis=0) # delete the second row"
   ]
  },
  {
   "cell_type": "code",
   "execution_count": 71,
   "id": "5b57ae60",
   "metadata": {},
   "outputs": [
    {
     "data": {
      "text/plain": [
       "array([[1, 2],\n",
       "       [3, 4],\n",
       "       [5, 6]])"
      ]
     },
     "execution_count": 71,
     "metadata": {},
     "output_type": "execute_result"
    }
   ],
   "source": [
    "np.delete(comb, 2, axis=1) # delete the last column"
   ]
  },
  {
   "cell_type": "markdown",
   "id": "e9557e71",
   "metadata": {},
   "source": [
    "The first argument is the array you wish to modify. The second argument is the index or indices you want to remove. The keyword argument `axis` again specifies on which axis you wish to apply the deletion. \n",
    "\n",
    "Note that slicing also works on the second argument, albeit with a slightly different syntax. We need to use the `slice()` built-in function, which has the same input syntax as `range()`:"
   ]
  },
  {
   "cell_type": "code",
   "execution_count": 74,
   "id": "5cd36098",
   "metadata": {},
   "outputs": [
    {
     "data": {
      "text/plain": [
       "array([[1],\n",
       "       [3],\n",
       "       [5]])"
      ]
     },
     "execution_count": 74,
     "metadata": {},
     "output_type": "execute_result"
    }
   ],
   "source": [
    "np.delete(comb, slice(1, 3), axis=1) # delete the last two columns"
   ]
  },
  {
   "cell_type": "code",
   "execution_count": 75,
   "id": "518046a2",
   "metadata": {},
   "outputs": [
    {
     "data": {
      "text/plain": [
       "array([[ 3,  4, 10]])"
      ]
     },
     "execution_count": 75,
     "metadata": {},
     "output_type": "execute_result"
    }
   ],
   "source": [
    "np.delete(comb, slice(0, 3, 2), axis=0) # delete the first and the last row"
   ]
  },
  {
   "cell_type": "code",
   "execution_count": null,
   "id": "3333a6b8",
   "metadata": {},
   "outputs": [],
   "source": []
  }
 ],
 "metadata": {
  "kernelspec": {
   "display_name": "Python 3 (ipykernel)",
   "language": "python",
   "name": "python3"
  },
  "language_info": {
   "codemirror_mode": {
    "name": "ipython",
    "version": 3
   },
   "file_extension": ".py",
   "mimetype": "text/x-python",
   "name": "python",
   "nbconvert_exporter": "python",
   "pygments_lexer": "ipython3",
   "version": "3.9.16"
  }
 },
 "nbformat": 4,
 "nbformat_minor": 5
}
