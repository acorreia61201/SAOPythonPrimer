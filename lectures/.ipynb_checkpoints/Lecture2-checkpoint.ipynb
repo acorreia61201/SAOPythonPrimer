{
 "cells": [
  {
   "cell_type": "markdown",
   "id": "e566516d",
   "metadata": {},
   "source": [
    "# SAO/LIP Python Primer Course Lecture 2\n",
    "\n",
    "In this notebook, you will learn about:\n",
    "- Tuples\n",
    "- Lists\n",
    "- Loops\n",
    "- Boolean logic\n",
    "- Loop control statements\n",
    "\n",
    "[![Open In Colab](https://colab.research.google.com/assets/colab-badge.svg)](https://colab.research.google.com/github/acorreia61201/SAOPythonPrimer/blob/main/lectures/Lecture2.ipynb)\n",
    "\n",
    "## Tuples\n",
    "\n",
    "So far, all of the data types we've looked at involve singular values, like numbers or single strings. Oftentimes, especially in scientific programming, you'll want to store or modify multiple values at a time. Python has several data types beyond those we've discussed designed especially for this. \n",
    "\n",
    "The simplest of these is the *tuple*, which can be thought of as ordered sequences of objects. They are denoted by comma-separated lists of items encased in parentheses `()`, as shown below."
   ]
  },
  {
   "cell_type": "code",
   "execution_count": null,
   "id": "27b55922",
   "metadata": {},
   "outputs": [],
   "source": [
    "tuple_eg1 = (1, 2, 3)\n",
    "type(tuple_eg1)"
   ]
  },
  {
   "cell_type": "markdown",
   "id": "d37dd8d5",
   "metadata": {},
   "source": [
    "The elements can be of any type (even `tuple`), and the elements in a tuple need not be of the same type. For example:"
   ]
  },
  {
   "cell_type": "code",
   "execution_count": null,
   "id": "03e5c83e",
   "metadata": {},
   "outputs": [],
   "source": [
    "tuple_eg2 = (2, 3.14159, \"Hello world\", tuple_eg1, True)\n",
    "type(tuple_eg2)"
   ]
  },
  {
   "cell_type": "markdown",
   "id": "1e4f0116",
   "metadata": {},
   "source": [
    "Let's say we only want a certain element or series of elements in a tuple. We can do this using *indexing*. In Python, the first element in a tuple is defined to have index 0. If we want to access the first element of the tuple above, we can use the following syntax:"
   ]
  },
  {
   "cell_type": "code",
   "execution_count": null,
   "id": "300ae528",
   "metadata": {},
   "outputs": [],
   "source": [
    "tuple_eg2[0]"
   ]
  },
  {
   "cell_type": "markdown",
   "id": "9daedf62",
   "metadata": {},
   "source": [
    "In general, if we want to access the *n*th element, we use the syntax `tuple[n-1]` to access it. If we want to access the element `tuple_eg1` from above, we would use:"
   ]
  },
  {
   "cell_type": "code",
   "execution_count": null,
   "id": "28915b3f",
   "metadata": {},
   "outputs": [],
   "source": [
    "tuple_eg2[3]"
   ]
  },
  {
   "cell_type": "markdown",
   "id": "40748116",
   "metadata": {},
   "source": [
    "Consequently, trying to call `tuple[n]` in a tuple of length `n` will throw an error:"
   ]
  },
  {
   "cell_type": "code",
   "execution_count": null,
   "id": "08dfbdd6",
   "metadata": {},
   "outputs": [],
   "source": [
    "tuple_eg2[5]"
   ]
  },
  {
   "cell_type": "markdown",
   "id": "07fbd253",
   "metadata": {},
   "source": [
    "The inverse is not true, however. A negative number index will count backwards from the last element. For example, to access the last element, we can use:"
   ]
  },
  {
   "cell_type": "code",
   "execution_count": null,
   "id": "ac481e1c",
   "metadata": {},
   "outputs": [],
   "source": [
    "tuple_eg2[-1]"
   ]
  },
  {
   "cell_type": "markdown",
   "id": "0b71fc23",
   "metadata": {},
   "source": [
    "If we want to call multiple values at once, we can use *slicing*. Slices have the syntax `start:stop:step`, where `start` is the first index listed, `stop` is the index after the last index shown, and `step` is the *step size*, which indicates the spacing between elements. If only one colon `:` is included, the step size defaults to 1. All three options must be integers. For example, to get the second through fourth elements in the above tuple, we can use:"
   ]
  },
  {
   "cell_type": "code",
   "execution_count": null,
   "id": "4d9e4515",
   "metadata": {},
   "outputs": [],
   "source": [
    "tuple_eg2[1:4]"
   ]
  },
  {
   "cell_type": "markdown",
   "id": "f6978700",
   "metadata": {},
   "source": [
    "If we want to show every other element from start to end, we can use the following, recalling that index -1 represents the last element:"
   ]
  },
  {
   "cell_type": "code",
   "execution_count": null,
   "id": "d4885d18",
   "metadata": {},
   "outputs": [],
   "source": [
    "tuple_eg2[0:-1:2]"
   ]
  },
  {
   "cell_type": "markdown",
   "id": "58e34854",
   "metadata": {},
   "source": [
    "There are two options to view the first three elements. Using the above syntax:"
   ]
  },
  {
   "cell_type": "code",
   "execution_count": null,
   "id": "cf8895d3",
   "metadata": {},
   "outputs": [],
   "source": [
    "tuple_eg2[0:3]"
   ]
  },
  {
   "cell_type": "markdown",
   "id": "3fb694d2",
   "metadata": {},
   "source": [
    "We can also leave the first index empty, again noting that the last index is excluded:"
   ]
  },
  {
   "cell_type": "code",
   "execution_count": null,
   "id": "cc4fd620",
   "metadata": {},
   "outputs": [],
   "source": [
    "tuple_eg2[:3]"
   ]
  },
  {
   "cell_type": "markdown",
   "id": "8a094d47",
   "metadata": {},
   "source": [
    "The same applies for listing the last three elements, except this time the slice includes the first index:"
   ]
  },
  {
   "cell_type": "code",
   "execution_count": null,
   "id": "b0ea56a8",
   "metadata": {},
   "outputs": [],
   "source": [
    "tuple_eg2[2:]"
   ]
  },
  {
   "cell_type": "markdown",
   "id": "3d2b0533",
   "metadata": {},
   "source": [
    "If we wanted to list the elements in reverse order, we can use the following syntax:"
   ]
  },
  {
   "cell_type": "code",
   "execution_count": null,
   "id": "9e65662b",
   "metadata": {},
   "outputs": [],
   "source": [
    "tuple_eg2[::-1]"
   ]
  },
  {
   "cell_type": "markdown",
   "id": "1302ffa3",
   "metadata": {},
   "source": [
    "If we want to get the total number of elements in a tuple, we can use the built-in function `len`:"
   ]
  },
  {
   "cell_type": "code",
   "execution_count": null,
   "id": "223558d2",
   "metadata": {},
   "outputs": [],
   "source": [
    "len(tuple_eg2)"
   ]
  },
  {
   "cell_type": "markdown",
   "id": "6f68fb9f",
   "metadata": {},
   "source": [
    "You can also map values from a tuple to a series of variables as follows:"
   ]
  },
  {
   "cell_type": "code",
   "execution_count": null,
   "id": "cf1e3abc",
   "metadata": {},
   "outputs": [],
   "source": [
    "a, b, c = tuple_eg1\n",
    "print(a, b, c)"
   ]
  },
  {
   "cell_type": "markdown",
   "id": "0ff3c89f",
   "metadata": {},
   "source": [
    "However, you need to make sure that the number of variables you're mapping to equals the number of elements in the tuple, or else you'll get an error. (Use `len` to check if you have the right number of variables.)"
   ]
  },
  {
   "cell_type": "code",
   "execution_count": null,
   "id": "3fbfc18e",
   "metadata": {},
   "outputs": [],
   "source": [
    "d, f = tuple_eg1"
   ]
  },
  {
   "cell_type": "markdown",
   "id": "18c9f8a9",
   "metadata": {},
   "source": [
    "## Lists\n",
    "\n",
    "Another type that allows for storing multiple values is a `list`. These are also ordered sequences of elements of various types, this time encased in brackets `[]`. You can call elements and get the length in the same way as tuples.\n",
    "\n",
    "So why do we have two different data types that are so similar? The answer lies in what's called *mutability*. Tuples are *immutable*, which means that its elements cannot be modified without redefining the tuple. Lists, meanwhile, are *mutable*, meaning its elements may be modified in-place. This may make lists seem superior, but there is a tradeoff: tuples take up less memory than lists. This tradeoff becomes more noticeable when considering datasets with hundreds or thousands of elements.\n",
    "\n",
    "All of the above notes on indices and slices hold for lists:"
   ]
  },
  {
   "cell_type": "code",
   "execution_count": null,
   "id": "5fbd9136",
   "metadata": {},
   "outputs": [],
   "source": [
    "list_eg = [1, 4, 9, 16]"
   ]
  },
  {
   "cell_type": "code",
   "execution_count": null,
   "id": "47127a48",
   "metadata": {},
   "outputs": [],
   "source": [
    "len(list_eg)"
   ]
  },
  {
   "cell_type": "code",
   "execution_count": null,
   "id": "dd6841a6",
   "metadata": {},
   "outputs": [],
   "source": [
    "list_eg[1]"
   ]
  },
  {
   "cell_type": "code",
   "execution_count": null,
   "id": "526c699c",
   "metadata": {},
   "outputs": [],
   "source": [
    "list_eg[0:3]"
   ]
  },
  {
   "cell_type": "code",
   "execution_count": null,
   "id": "55fd612b",
   "metadata": {},
   "outputs": [],
   "source": [
    "list_eg[0:-1:2]"
   ]
  },
  {
   "cell_type": "code",
   "execution_count": null,
   "id": "2a910204",
   "metadata": {},
   "outputs": [],
   "source": [
    "list_eg[2:]"
   ]
  },
  {
   "cell_type": "code",
   "execution_count": null,
   "id": "15c7bf54",
   "metadata": {},
   "outputs": [],
   "source": [
    "list_eg[::-1]"
   ]
  },
  {
   "cell_type": "markdown",
   "id": "b2bb0116",
   "metadata": {},
   "source": [
    "As promised, there's additional functions that allow you to modify the elements of a list. The simplest way to do this is to reassign individual elements by index:"
   ]
  },
  {
   "cell_type": "code",
   "execution_count": null,
   "id": "5157a610",
   "metadata": {},
   "outputs": [],
   "source": [
    "list_eg[0] = 3\n",
    "list_eg"
   ]
  },
  {
   "cell_type": "markdown",
   "id": "e91726af",
   "metadata": {},
   "source": [
    "There's some nuance to this, however. If you define a list with another list, modifying one will modify the other."
   ]
  },
  {
   "cell_type": "code",
   "execution_count": null,
   "id": "cd50e633",
   "metadata": {},
   "outputs": [],
   "source": [
    "list_mod = list_eg\n",
    "list_mod[0] = 1\n",
    "print(list_mod, list_eg)"
   ]
  },
  {
   "cell_type": "markdown",
   "id": "18fa238c",
   "metadata": {},
   "source": [
    "However, making a copy by using the `list` function will modify only the new list."
   ]
  },
  {
   "cell_type": "code",
   "execution_count": null,
   "id": "2c97826d",
   "metadata": {},
   "outputs": [],
   "source": [
    "list_mod = list(list_eg)\n",
    "list_mod[0] = 3\n",
    "print(list_mod, list_eg)"
   ]
  },
  {
   "cell_type": "markdown",
   "id": "616d4f2d",
   "metadata": {},
   "source": [
    "We can use some other commands known as *methods* to add or remove items from a list. If we wanted to add an item to the end of a list, we can use the `append()` method:"
   ]
  },
  {
   "cell_type": "code",
   "execution_count": null,
   "id": "c0497ed3",
   "metadata": {},
   "outputs": [],
   "source": [
    "list_mod.append(25)\n",
    "list_mod"
   ]
  },
  {
   "cell_type": "markdown",
   "id": "c67fa571",
   "metadata": {},
   "source": [
    "If we wanted to add an item to a specific place somewhere in the list, we can use the `insert()` method. This takes two arguments; the first is the index where you would like to place the element, and the second is the element you wish to place."
   ]
  },
  {
   "cell_type": "code",
   "execution_count": null,
   "id": "534bf178",
   "metadata": {},
   "outputs": [],
   "source": [
    "list_mod.insert(3, 12)\n",
    "list_mod"
   ]
  },
  {
   "cell_type": "markdown",
   "id": "1a5e891d",
   "metadata": {},
   "source": [
    "If we wanted to remove the last element from the list, we can use `pop()`. This will also print the element to screen:"
   ]
  },
  {
   "cell_type": "code",
   "execution_count": null,
   "id": "348733be",
   "metadata": {},
   "outputs": [],
   "source": [
    "list_mod.pop()"
   ]
  },
  {
   "cell_type": "code",
   "execution_count": null,
   "id": "8ce459ae",
   "metadata": {},
   "outputs": [],
   "source": [
    "list_mod"
   ]
  },
  {
   "cell_type": "markdown",
   "id": "8a1bfb31",
   "metadata": {},
   "source": [
    "If we want to remove any element, there are three options. If we want to remove an element by index, we can use `del()`, which has a different syntax from the methods above:"
   ]
  },
  {
   "cell_type": "code",
   "execution_count": null,
   "id": "22c015eb",
   "metadata": {},
   "outputs": [],
   "source": [
    "del list_mod[3]\n",
    "list_mod"
   ]
  },
  {
   "cell_type": "markdown",
   "id": "bd7b0930",
   "metadata": {},
   "source": [
    "If we want to remove an element by its value, we can use `remove()`:"
   ]
  },
  {
   "cell_type": "code",
   "execution_count": null,
   "id": "d30afdec",
   "metadata": {},
   "outputs": [],
   "source": [
    "list_mod.remove(3)\n",
    "list_mod"
   ]
  },
  {
   "cell_type": "markdown",
   "id": "1dc61bee",
   "metadata": {},
   "source": [
    "We can also remove elements at specific indices by passing an argument into `pop()`. This will again print the element to screen, or save its value to a variable as shown here:"
   ]
  },
  {
   "cell_type": "code",
   "execution_count": null,
   "id": "1caf2aaa",
   "metadata": {},
   "outputs": [],
   "source": [
    "rem = list_mod.pop(1)\n",
    "rem"
   ]
  },
  {
   "cell_type": "markdown",
   "id": "7542e57c",
   "metadata": {},
   "source": [
    "Let's append it to the list again for demonstration purposes:"
   ]
  },
  {
   "cell_type": "code",
   "execution_count": null,
   "id": "f62b3ed4",
   "metadata": {},
   "outputs": [],
   "source": [
    "list_mod.append(rem)\n",
    "list_mod"
   ]
  },
  {
   "cell_type": "markdown",
   "id": "63a4904b",
   "metadata": {},
   "source": [
    "If we want the index of a certain value, we can use the method `index()`:"
   ]
  },
  {
   "cell_type": "code",
   "execution_count": null,
   "id": "a5aac219",
   "metadata": {},
   "outputs": [],
   "source": [
    "list_mod.index(16)"
   ]
  },
  {
   "cell_type": "markdown",
   "id": "31d21901",
   "metadata": {},
   "source": [
    "If we wanted to reverse the order of elements in a list, we can use `reverse()`:"
   ]
  },
  {
   "cell_type": "code",
   "execution_count": null,
   "id": "cd688863",
   "metadata": {},
   "outputs": [],
   "source": [
    "list_mod.reverse()\n",
    "list_mod"
   ]
  },
  {
   "cell_type": "markdown",
   "id": "6688fc52",
   "metadata": {},
   "source": [
    "If we want to organize a list, we can use the method `sort()`. This will default to ascending order for `int`s and `float`s, or alphabetical order for `str`s:"
   ]
  },
  {
   "cell_type": "code",
   "execution_count": null,
   "id": "5804ea6d",
   "metadata": {},
   "outputs": [],
   "source": [
    "list_mod.append(1)\n",
    "list_mod"
   ]
  },
  {
   "cell_type": "code",
   "execution_count": null,
   "id": "e9a1d585",
   "metadata": {},
   "outputs": [],
   "source": [
    "list_mod.sort()\n",
    "list_mod"
   ]
  },
  {
   "cell_type": "code",
   "execution_count": null,
   "id": "9db97e08",
   "metadata": {},
   "outputs": [],
   "source": [
    "str_list = ['apples', 'pears', 'bananas', 'blueberries', 'strawberries']\n",
    "str_list.sort()\n",
    "str_list"
   ]
  },
  {
   "cell_type": "markdown",
   "id": "31d54ed8",
   "metadata": {},
   "source": [
    "Oftentimes, lists will have duplicate values. There are some additional functionalities for handling this."
   ]
  },
  {
   "cell_type": "code",
   "execution_count": null,
   "id": "583b759b",
   "metadata": {},
   "outputs": [],
   "source": [
    "list_mod.append(1)\n",
    "list_mod"
   ]
  },
  {
   "cell_type": "markdown",
   "id": "7fdadbdd",
   "metadata": {},
   "source": [
    "If we want the number of occurrences of an element, we can use `count()`:"
   ]
  },
  {
   "cell_type": "code",
   "execution_count": null,
   "id": "71564617",
   "metadata": {},
   "outputs": [],
   "source": [
    "list_mod.count(1)"
   ]
  },
  {
   "cell_type": "markdown",
   "id": "a5cb7a47",
   "metadata": {},
   "source": [
    "What will happen if we pass a duplicate element to `index()`?"
   ]
  },
  {
   "cell_type": "code",
   "execution_count": null,
   "id": "624aa469",
   "metadata": {},
   "outputs": [],
   "source": [
    "list_mod.index(1)"
   ]
  },
  {
   "cell_type": "markdown",
   "id": "e11e2a41",
   "metadata": {},
   "source": [
    "What will happen if we pass a duplicate element to `remove()`?"
   ]
  },
  {
   "cell_type": "code",
   "execution_count": null,
   "id": "8c75e21f",
   "metadata": {},
   "outputs": [],
   "source": [
    "list_mod.remove(1)\n",
    "list_mod"
   ]
  },
  {
   "cell_type": "markdown",
   "id": "39f9a79c",
   "metadata": {},
   "source": [
    "Finally, if we want to remove all elements from a list, we can use `clear()`:"
   ]
  },
  {
   "cell_type": "code",
   "execution_count": null,
   "id": "e02b17f7",
   "metadata": {},
   "outputs": [],
   "source": [
    "list_mod.clear()\n",
    "list_mod"
   ]
  },
  {
   "cell_type": "markdown",
   "id": "a2886d14",
   "metadata": {},
   "source": [
    "## Loops\n",
    "\n",
    "### `for` Loops\n",
    "\n",
    "We now know how to store and manipulate multiple values in a list. However, oftentimes in scientific computing we want to apply operations to each element more complicated than the simple methods explained above. This is known as *iteration*, and to do this in Python we can use what are called *loops*.\n",
    "\n",
    "One important built-in function used frequently in loops is `range()`, which automatically creates a sequence of integers. The syntax is very similar to slices, with the general inputs being `range(start, stop, step)`. `start` represents the first value in the list, `stop` represents the integer after the last element, and `step` represents the increment.\n",
    "\n",
    "By inputting one value, this defaults to a sequence of integers starting at 0 and ending one before the input. You can think `range(i)` as a sequence of length `i` starting at 0:"
   ]
  },
  {
   "cell_type": "code",
   "execution_count": null,
   "id": "86d9a648",
   "metadata": {},
   "outputs": [],
   "source": [
    "rng = range(6)\n",
    "rng"
   ]
  },
  {
   "cell_type": "markdown",
   "id": "79a697a1",
   "metadata": {},
   "source": [
    "There's one problem: `range()` doesn't create a list or tuple; it creates its own data type. If we want to view its contents, we'll have to make use of one of the three most common loops: the `for` loop. Let's write a simple `for` loop that will print the elements of `rng` sequentially to screen:"
   ]
  },
  {
   "cell_type": "code",
   "execution_count": null,
   "id": "ff7d18f0",
   "metadata": {},
   "outputs": [],
   "source": [
    "for i in rng:\n",
    "    print(i)"
   ]
  },
  {
   "cell_type": "markdown",
   "id": "322629a3",
   "metadata": {},
   "source": [
    "This is one of the simplest `for` loops you can write, but the basic syntax is all here. We define a variable `i` used to represent an arbitrary element in our collection of values `rng`. Then, starting from the first element in `rng`, the indented action (the `print` statement) will be carried out one at a time for each element until reaching the end of `rng`. \n",
    "\n",
    "Note the indentation on the `print` statement. **Indentation is required for any loop to work**. Unlike other languages like C or Fortran, Python is very particular about indentation in loops or functions (which we'll cover later on). You can use Tab or a couple spaces to create indents, but make sure this is consistent throughout your code.\n",
    "\n",
    "Let's try another example. Let's say I didn't know about the `len()` function and wanted to count up how many elements are in the list below: "
   ]
  },
  {
   "cell_type": "code",
   "execution_count": null,
   "id": "8c5ac5a8",
   "metadata": {},
   "outputs": [],
   "source": [
    "test = [4, 234, 563, 123, 809, 8, 67, 90, 67, 5, 345, 789, 56, 98, 90, 56, 45, 90, 30, 768, 97, 45, 78, 51]"
   ]
  },
  {
   "cell_type": "markdown",
   "id": "1dbd0380",
   "metadata": {},
   "source": [
    "I could just count each element by hand, but we can use a `for` loop for that. First, we can define a variable `counter`, which we set to zero:"
   ]
  },
  {
   "cell_type": "code",
   "execution_count": null,
   "id": "87310838",
   "metadata": {},
   "outputs": [],
   "source": [
    "counter = 0"
   ]
  },
  {
   "cell_type": "markdown",
   "id": "5a5ed8b0",
   "metadata": {},
   "source": [
    "Then, we can write a loop that iterates over the list `test`. For each element in `test`, we can add 1 to `counter` in-place:"
   ]
  },
  {
   "cell_type": "code",
   "execution_count": null,
   "id": "f5bd8f43",
   "metadata": {},
   "outputs": [],
   "source": [
    "for i in test:\n",
    "    counter += 1"
   ]
  },
  {
   "cell_type": "markdown",
   "id": "bc4afcc2",
   "metadata": {},
   "source": [
    "Once the `for` loop is finished, we can print the value of `counter` to get the length of the list:"
   ]
  },
  {
   "cell_type": "code",
   "execution_count": null,
   "id": "d2714abc",
   "metadata": {},
   "outputs": [],
   "source": [
    "print(counter)"
   ]
  },
  {
   "cell_type": "markdown",
   "id": "b8e17c7f",
   "metadata": {},
   "source": [
    "Of course, we know that `len()` exists, so we can check this easily."
   ]
  },
  {
   "cell_type": "code",
   "execution_count": null,
   "id": "a7c55b81",
   "metadata": {},
   "outputs": [],
   "source": [
    "len(test)"
   ]
  },
  {
   "cell_type": "markdown",
   "id": "f7c692c0",
   "metadata": {},
   "source": [
    "(Note: You should usually stick to built-ins whenever possible. As you've seen, it's pretty easy to code up built-ins by hand, but they usually take up much more time and memory. Built-ins are usually built in lower-level languages like C and Fortran, which are generally much faster than anything you could code in Python.)\n",
    "\n",
    "Notice that I defined `counter` outside of the loop. If I defined it inside of the loop, its value would be reset to 0 at every iteration. Let's see it in action, this time moving `counter = 0` inside the loop:"
   ]
  },
  {
   "cell_type": "code",
   "execution_count": null,
   "id": "a424b1bd",
   "metadata": {},
   "outputs": [],
   "source": [
    "for i in test:\n",
    "    counter = 0\n",
    "    counter += 1\n",
    "    \n",
    "print(counter)"
   ]
  },
  {
   "cell_type": "markdown",
   "id": "8bf8a4d0",
   "metadata": {},
   "source": [
    "The value here is now 1, and in fact will always be 1 regardless of the length of list. That's because at each iteration, the value of `counter` is being reset to 0 no matter what the value of `i` is. Remember to be careful of where you're defining variables; it will become more important when we go over functions later on.\n",
    "\n",
    "Any code we've described thus far works in loops. Let's say I wanted to do a bunch of operations to each element in `test` and save the output to a new list, `test_out`. Rather than individually call all 24 elements in the list and write separate lines of code for each one, I can just use a `for` loop:"
   ]
  },
  {
   "cell_type": "code",
   "execution_count": null,
   "id": "df5733fd",
   "metadata": {},
   "outputs": [],
   "source": [
    "test_out = [] # define an empty list for storing values\n",
    "for i in test:\n",
    "    i += 5\n",
    "    i *= 9\n",
    "    i /= 23\n",
    "    i *= i\n",
    "    i -= 432\n",
    "    i = int(i)\n",
    "    i = i % 7\n",
    "    test_out.append(i) # add element to the list when done\n",
    "    \n",
    "test_out"
   ]
  },
  {
   "cell_type": "markdown",
   "id": "a8f28f39",
   "metadata": {},
   "source": [
    "That's the benefit of loops: it makes your code more flexible and less redundant. I could use this loop to act on any list of numbers; I haven't hard-coded anything about the length or elements of `test` anywhere.\n",
    "\n",
    "### Boolean Logic\n",
    "\n",
    "There are two other types of loops, but using them effectively requires in-depth knowledge of *Boolean logic*. I briefly mentioned the `bool` data type in Lecture 1, which consists of `True` and `False`. These have exactly the meanings you'd expect: a statement that is true returns `True`, whereas a statement that is false returns `False`.\n",
    "\n",
    "We can illustrate this by comparing numbers. The operators `>` and `<` determine whether the value to the left is greater than or less than the value on the right, respectively:"
   ]
  },
  {
   "cell_type": "code",
   "execution_count": null,
   "id": "060ea918",
   "metadata": {},
   "outputs": [],
   "source": [
    "3 > 9"
   ]
  },
  {
   "cell_type": "code",
   "execution_count": null,
   "id": "1a6d70d0",
   "metadata": {},
   "outputs": [],
   "source": [
    "3 < 9"
   ]
  },
  {
   "cell_type": "markdown",
   "id": "90ce562d",
   "metadata": {},
   "source": [
    "To determine whether two values are equivalent or not, we can use `==` and `!=` respectively:"
   ]
  },
  {
   "cell_type": "code",
   "execution_count": null,
   "id": "59fff5ea",
   "metadata": {},
   "outputs": [],
   "source": [
    "3 + 5 == 8"
   ]
  },
  {
   "cell_type": "code",
   "execution_count": null,
   "id": "47d1c20b",
   "metadata": {},
   "outputs": [],
   "source": [
    "3 + 5 == 9"
   ]
  },
  {
   "cell_type": "code",
   "execution_count": null,
   "id": "055440a7",
   "metadata": {},
   "outputs": [],
   "source": [
    "4 * 7 != 21"
   ]
  },
  {
   "cell_type": "code",
   "execution_count": null,
   "id": "cd792088",
   "metadata": {},
   "outputs": [],
   "source": [
    "4 * 7 != 28"
   ]
  },
  {
   "cell_type": "markdown",
   "id": "4003599a",
   "metadata": {},
   "source": [
    "There are also three *Boolean operators* that can conditionally modify the truth values of statements. These follow the same logic as standard truth tables if you're familiar with those.\n",
    "\n",
    "The simplest of these is `not`, which flips the truth value of the statement after it:"
   ]
  },
  {
   "cell_type": "code",
   "execution_count": null,
   "id": "f75793b6",
   "metadata": {},
   "outputs": [],
   "source": [
    "not 3 + 5 == 8"
   ]
  },
  {
   "cell_type": "code",
   "execution_count": null,
   "id": "43e815eb",
   "metadata": {},
   "outputs": [],
   "source": [
    "not 3 > 9"
   ]
  },
  {
   "cell_type": "markdown",
   "id": "95c26fab",
   "metadata": {},
   "source": [
    "Another operator is `and`, which returns `True` if all statements are true, or `False` otherwise:"
   ]
  },
  {
   "cell_type": "code",
   "execution_count": null,
   "id": "6ad7d2c8",
   "metadata": {},
   "outputs": [],
   "source": [
    "3 + 5 == 8 and 3 < 9"
   ]
  },
  {
   "cell_type": "code",
   "execution_count": null,
   "id": "a945f031",
   "metadata": {},
   "outputs": [],
   "source": [
    "3 + 5 > 8 and 3 < 9"
   ]
  },
  {
   "cell_type": "markdown",
   "id": "9b599772",
   "metadata": {},
   "source": [
    "The last operator is `or`, which returns `True` if at least one statement is true, or `False` if all statements are false:"
   ]
  },
  {
   "cell_type": "code",
   "execution_count": null,
   "id": "8e9b4d34",
   "metadata": {},
   "outputs": [],
   "source": [
    "3 + 5 == 8 or 3 < 9"
   ]
  },
  {
   "cell_type": "code",
   "execution_count": null,
   "id": "5c65dee0",
   "metadata": {},
   "outputs": [],
   "source": [
    "3 + 5 > 8 or 3 < 9"
   ]
  },
  {
   "cell_type": "code",
   "execution_count": null,
   "id": "3ba05c35",
   "metadata": {},
   "outputs": [],
   "source": [
    "3 + 5 > 8 or 3 == 9"
   ]
  },
  {
   "cell_type": "markdown",
   "id": "15693709",
   "metadata": {},
   "source": [
    "These can be combined to create more robust statements. Can you guess the truth value of the statement below?"
   ]
  },
  {
   "cell_type": "code",
   "execution_count": null,
   "id": "5ea13f46",
   "metadata": {},
   "outputs": [],
   "source": [
    "(3 + 5 > 9 and not 3 != 9) or (3 * 5 > 10 or not (9/3 == 3 and 4 + 3 != 6))"
   ]
  },
  {
   "cell_type": "markdown",
   "id": "ab668a67",
   "metadata": {},
   "source": [
    "### `while` Loops\n",
    "\n",
    "With knowledge of Boolean logic in Python, we can now cover the other two loop types. The simpler of these is the `while` loop, which does the operation inside of the loop as long as the *condition* (the statement following `while`) returns `True`. \n",
    "\n",
    "Recall the examples above where we counted the elements in a list `test`. Let's say we wanted to print the first ten elements of `test` to the screen. We can do this with a `while` loop by again defining `counter = 0` outside of the loop. We'll then print the element corresponding to the index `counter` in `test`, and add 1 to `counter` afterwards. Since we want the counter to stop after 10 elements (i.e. after printing `test[9]`), we'll set the condition `while counter < 10`. That way, the loop will run until `counter` is equal to 10, when the statement will become false and the loop will exit."
   ]
  },
  {
   "cell_type": "code",
   "execution_count": null,
   "id": "62487048",
   "metadata": {},
   "outputs": [],
   "source": [
    "counter = 0\n",
    "while counter < 10:\n",
    "    print(counter, test[counter])\n",
    "    counter += 1\n",
    "print('Loop finished')"
   ]
  },
  {
   "cell_type": "markdown",
   "id": "a1c8a55f",
   "metadata": {},
   "source": [
    "`while` loops are very simple, but you should be very careful when implementing them. One of the most dangerous things you can do when writing a loop is using the statement `while True`. Because a statement like this is hard-coded to never be false, the loop will attempt to run infinitely, with the only way to stop it being a keyboard interrupt or a force close of the program. This is an arbitrary example, but similar statements like `while variable > 0` when `variable` is always negative or `while x > 0 or x <= 0` will cause similar runaway loops. It's up to you as the programmer to catch issues like this before running code.\n",
    "\n",
    "### `if` Loops\n",
    "\n",
    "The final type of loop we'll cover and the one that gives you the most control over conditional statements is the `if` loop. These types of loops will only run if the condition attached to the `if` statement is true. These `if` statements are commonly used within other loops to control when the code should run.\n",
    "\n",
    "For example, let's say I wanted to count how many elements in `test` are even. We can use a `for` loop as before to iterate over each element and define a counter outside the loop to count the instances of these numbers. Inside this loop, we can write an `if` statement that prints the current value to the screen and increments the counter if the value is even (i.e. the value *modulo* 2 is zero, or the remainder of the value divided by 2 is zero)."
   ]
  },
  {
   "cell_type": "code",
   "execution_count": null,
   "id": "12c35c3f",
   "metadata": {},
   "outputs": [],
   "source": [
    "counter = 0\n",
    "for i in test:\n",
    "    if i % 2 == 0:\n",
    "        print(i)\n",
    "        counter += 1\n",
    "\n",
    "print('There are {0} even elements in the list'.format(counter))"
   ]
  },
  {
   "cell_type": "markdown",
   "id": "bfcb1a99",
   "metadata": {},
   "source": [
    "The `if` statement above is not a proper loop; it's just an extra condition in the `for` loop that runs code when the condition is true. We can construct a full loop out of `if` statements by implementing the `else` and `elif` keywords. Using these, you can iterate over all of the elements in a sequence even if the initial `if` statement isn't always satisfied. \n",
    "\n",
    "In the example above, we can add an `else` statement that will handle all of the values that don't fulfill the initial `if` statement condition. In this case, we'll have two counters that count the number of even and odd elements respectively. If an element is even, we'll use the `if` statement above to increment the even counter. Otherwise, we'll use an `else` statement to increment the odd counter (since we know an integer that isn't even must be odd)."
   ]
  },
  {
   "cell_type": "code",
   "execution_count": null,
   "id": "f50b93ac",
   "metadata": {},
   "outputs": [],
   "source": [
    "even_counter = 0\n",
    "odd_counter = 0\n",
    "for i in test:\n",
    "    if i % 2 == 0: # the code after this statement will only run if the number is even\n",
    "        even_counter += 1\n",
    "    else: # the code after this statement will only run if the number is not even (i.e. odd)\n",
    "        odd_counter += 1\n",
    "\n",
    "print('There are {0} even elements and {1} odd elements in the list'.format(even_counter, odd_counter))"
   ]
  },
  {
   "cell_type": "markdown",
   "id": "068ba375",
   "metadata": {},
   "source": [
    "Since integers must be either even or odd, we can check that this is working correctly by checking that `even_counter` and `odd_counter` add up to the length of the list, since the list only has integers in it:"
   ]
  },
  {
   "cell_type": "code",
   "execution_count": null,
   "id": "77da14e6",
   "metadata": {},
   "outputs": [],
   "source": [
    "even_counter + odd_counter == len(test)"
   ]
  },
  {
   "cell_type": "markdown",
   "id": "12e48c28",
   "metadata": {},
   "source": [
    "Let's add some `float`s to the list and organize it a little bit:"
   ]
  },
  {
   "cell_type": "code",
   "execution_count": null,
   "id": "20834f95",
   "metadata": {},
   "outputs": [],
   "source": [
    "test.append(235.18)\n",
    "test.append(342.89)\n",
    "test.append(789.35)\n",
    "test.append(452.82)\n",
    "test.append(12.47)\n",
    "test.append(75.93)\n",
    "test.sort()"
   ]
  },
  {
   "cell_type": "markdown",
   "id": "bc34c12c",
   "metadata": {},
   "source": [
    "In general, decimal values have no well-defined definition of parity (i.e. \"even-ness\" or \"odd-ness\"), so our code above will be bugged. That is, the code won't return an error, but it will return the wrong result, since it will erroneously say that all of the new entries are odd. How can we fix this?\n",
    "\n",
    "We can rewrite our code above to cover the three conditions:\n",
    "- the value *modulo* 2 is zero (and, by definition, is an integer)\n",
    "- the value *modulo* 2 is not zero and it is an integer\n",
    "- the value *modulo* 2 is not zero and it is not an integer\n",
    "\n",
    "One way to do this is with an `elif` statement. These are statements placed before the `else` statement and after the `if` statement, so that if the initial if statement fails, we can pass another condition before diverting automatically to all other cases. Here, we can use our initial `if` statement to increment the even counter, then an `elif` statement to increment the odd counter, and finally an `else` statement to cover all other values (i.e. the `float` values that can neither be even nor odd)."
   ]
  },
  {
   "cell_type": "code",
   "execution_count": null,
   "id": "6d3d198e",
   "metadata": {},
   "outputs": [],
   "source": [
    "even_counter = 0\n",
    "odd_counter = 0\n",
    "float_counter = 0\n",
    "for i in test:\n",
    "    if i % 2 == 0: # this code runs if the value is even\n",
    "        even_counter += 1\n",
    "    elif i % 2 != 0 and type(i) == int: # this code runs if the value is odd\n",
    "        odd_counter += 1\n",
    "    else: # this code runs if the value is neither even nor odd\n",
    "        float_counter += 1\n",
    "\n",
    "print('There are {0} even integers, {1} odd integers in the list, and {2} floats'.format(even_counter, odd_counter, float_counter))"
   ]
  },
  {
   "cell_type": "markdown",
   "id": "cd46723f",
   "metadata": {},
   "source": [
    "Again, we can check that we got all the values by comparing to `len(test)`:"
   ]
  },
  {
   "cell_type": "code",
   "execution_count": null,
   "id": "02f650fc",
   "metadata": {},
   "outputs": [],
   "source": [
    "even_counter + odd_counter + float_counter == len(test)"
   ]
  },
  {
   "cell_type": "markdown",
   "id": "63a055c2",
   "metadata": {},
   "source": [
    "This is the simplest structure of a multiconditional `if` statement. You can have as many `elif` statements as you'd like, as long as they're all before the `else` statement.\n",
    "\n",
    "Alternatively, we could use a *nested `if` statement*. Notice that the even and odd counters only increment if the value is an integer. Therefore, we can have one `if` statement that determines whether a value is an `int` or a `float`. Then, if a value satisfies the `int` condition, we can write another `if` statement inside that condition that determines whether a value is even or odd, just as above:"
   ]
  },
  {
   "cell_type": "code",
   "execution_count": null,
   "id": "13bc9b95",
   "metadata": {},
   "outputs": [],
   "source": [
    "even_counter = 0\n",
    "odd_counter = 0\n",
    "float_counter = 0\n",
    "for i in test:\n",
    "    if type(i) == int: # this code runs if the value is is an integer\n",
    "        if i % 2 == 0: # this code runs if the value is even\n",
    "            even_counter += 1\n",
    "        else: # this code runs if the value is odd\n",
    "            odd_counter += 1\n",
    "    else: # this code runs if the value is the value is not an integer (i.e. a float)\n",
    "        float_counter += 1\n",
    "\n",
    "print('There are {0} even integers, {1} odd integers in the list, and {2} floats'.format(even_counter, odd_counter, float_counter))"
   ]
  },
  {
   "cell_type": "markdown",
   "id": "ed71a6dd",
   "metadata": {},
   "source": [
    "### Loop Control Statements\n",
    "\n",
    "When running loops, sometimes you want to add additional behaviors when meeting certain conditions. For example, what if I wanted to do nothing when encountering an odd integer in the codes above? Or what if I wanted to stop the code altogether when reaching a string? To do this, there are special *loop control statements* you can implement in loops.\n",
    "\n",
    "The most common of these is `pass`, which will cause the code to do nothing on a particular iteration. For example, let's modify the code above to do nothing when encountering an odd number:"
   ]
  },
  {
   "cell_type": "code",
   "execution_count": null,
   "id": "96c8dfdf",
   "metadata": {},
   "outputs": [],
   "source": [
    "even_counter = 0\n",
    "odd_counter = 0\n",
    "float_counter = 0\n",
    "for i in test:\n",
    "    if type(i) == int: # this code runs if the value is is an integer\n",
    "        if i % 2 == 0: # this code runs if the value is even\n",
    "            even_counter += 1\n",
    "        else: # this code runs if the value is odd\n",
    "            pass # don't do anything\n",
    "    else: # this code runs if the value is the value is not an integer (i.e. a float)\n",
    "        float_counter += 1\n",
    "\n",
    "print('There are {0} even integers, {1} odd integers in the list, and {2} floats'.format(even_counter, odd_counter, float_counter))"
   ]
  },
  {
   "cell_type": "markdown",
   "id": "c5aabbe5",
   "metadata": {},
   "source": [
    "Notice that the code now reads zero odd integers. This is because we're not doing anything when encountering an odd integer; you can think of it as \"skipping over\" them.\n",
    "\n",
    "A similar statement is `continue`. When the code encounters a `pass` statement, it will continue going through the code as normal. When hitting a `continue` statement, it will immediately stop the current iteration and move on to the next one. Let's illustrate this difference with a simpler example: we'll create a `range` object with numbers from 0 to 9. We'll print out the values, but for even numbers we'll include a `pass` statement before it:"
   ]
  },
  {
   "cell_type": "code",
   "execution_count": null,
   "id": "faf45b1c",
   "metadata": {},
   "outputs": [],
   "source": [
    "for i in range(10):\n",
    "    if i % 2 == 0:\n",
    "        pass\n",
    "    print(i)"
   ]
  },
  {
   "cell_type": "markdown",
   "id": "b7a006fc",
   "metadata": {},
   "source": [
    "The `pass` statement doesn't do anything; it only acts as a placeholder if we don't want to do anything on a certain iteration. Let's replace it with a `continue` statement:"
   ]
  },
  {
   "cell_type": "code",
   "execution_count": null,
   "id": "00f765fd",
   "metadata": {},
   "outputs": [],
   "source": [
    "for i in range(10):\n",
    "    if i % 2 == 0:\n",
    "        continue\n",
    "    print(i)"
   ]
  },
  {
   "cell_type": "markdown",
   "id": "aabbdf88",
   "metadata": {},
   "source": [
    "Now, when the code reaches an even number, it encounters the `continue` statement, which stops the current iteration immediately and moves to the next number.\n",
    "\n",
    "Lastly, there is the `break` condition. This stops the code altogether, no matter what iteration it's on. Let's replace `continue` above with `break`:"
   ]
  },
  {
   "cell_type": "code",
   "execution_count": null,
   "id": "be94c036",
   "metadata": {},
   "outputs": [],
   "source": [
    "for i in range(10):\n",
    "    if i % 2 == 0:\n",
    "        break\n",
    "    print(i)"
   ]
  },
  {
   "cell_type": "markdown",
   "id": "9cbc68a7",
   "metadata": {},
   "source": [
    "That's weird...there's no output. That's intentional; once the code reaches an even number for the first time (in this case, zero), the code stops immediately, and no other iterations are carried out. We can apply this to our previous parity detection code to stop immediatly upon reaching a non-integer:"
   ]
  },
  {
   "cell_type": "code",
   "execution_count": null,
   "id": "a8ddcadc",
   "metadata": {},
   "outputs": [],
   "source": [
    "even_counter = 0\n",
    "odd_counter = 0\n",
    "float_counter = 0\n",
    "for i in test:\n",
    "    if type(i) == int: # this code runs if the value is is an integer\n",
    "        if i % 2 == 0: # this code runs if the value is even\n",
    "            even_counter += 1\n",
    "        else: # this code runs if the value is odd\n",
    "            odd_counter += 1\n",
    "    else: # this code runs if the value is the value is not an integer (i.e. a float)\n",
    "        print('Encountered a non-integer')\n",
    "        break\n",
    "\n",
    "print('There are {0} even integers, {1} odd integers in the list, and {2} floats'.format(even_counter, odd_counter, float_counter))"
   ]
  },
  {
   "cell_type": "markdown",
   "id": "4aa3bbf9",
   "metadata": {},
   "source": [
    "As you can see, the code stopped dead in its tracks upon reaching the first non-integer. Loop control statements can be powerful tools for handling unforseen edge cases that may break your code, like the sudden appearance of `NaN`s or the appearance of a `float` in a data set that should only contain `int`s."
   ]
  }
 ],
 "metadata": {
  "kernelspec": {
   "display_name": "Python 3 (ipykernel)",
   "language": "python",
   "name": "python3"
  },
  "language_info": {
   "codemirror_mode": {
    "name": "ipython",
    "version": 3
   },
   "file_extension": ".py",
   "mimetype": "text/x-python",
   "name": "python",
   "nbconvert_exporter": "python",
   "pygments_lexer": "ipython3",
   "version": "3.9.16"
  }
 },
 "nbformat": 4,
 "nbformat_minor": 5
}
