{
 "cells": [
  {
   "cell_type": "markdown",
   "id": "f9f67f41",
   "metadata": {},
   "source": [
    "# SAO/LIP Python Primer Course Lecture 3\n",
    "\n",
    "In this notebook, you will learn about:\n",
    "- Functions\n",
    "- Variable scope\n",
    "- Libraries\n",
    "- The `math` Library\n",
    "\n",
    "[![Open In Colab](https://colab.research.google.com/assets/colab-badge.svg)](https://colab.research.google.com/github/acorreia61201/SAOPythonPrimer/blob/main/lectures/Lecture3.ipynb)\n",
    "\n",
    "## Functions\n",
    "\n",
    "So far, most of the code we've gone over has been relatively simple. Most of it has been simple one-line codes, and in the last lecture we started touching on two- or three-line loops. Even with codes as short as this, let's say we wanted to carry out an operation multiple times across different variables or data sets. \n",
    "\n",
    "For example, say we wanted to write a code that checks if an integer is a perfect square. You should have been able to do this as part of Exercise Set 2:"
   ]
  },
  {
   "cell_type": "code",
   "execution_count": 1,
   "id": "b76d6be6",
   "metadata": {},
   "outputs": [
    {
     "name": "stdout",
     "output_type": "stream",
     "text": [
      "64 is a perfect square\n"
     ]
    }
   ],
   "source": [
    "from math import ceil, floor\n",
    "\n",
    "n = 64\n",
    "root = n**0.5\n",
    "if ceil(root) == floor(root):\n",
    "    print('{0} is a perfect square'.format(n))\n",
    "else:\n",
    "    print('{0} is not a perfect square'.format(n))"
   ]
  },
  {
   "cell_type": "markdown",
   "id": "bd19eb11",
   "metadata": {},
   "source": [
    "Now, if I wanted to do this with another number, I'd have to copy the entire code save one number:"
   ]
  },
  {
   "cell_type": "code",
   "execution_count": 2,
   "id": "7ee24330",
   "metadata": {},
   "outputs": [
    {
     "name": "stdout",
     "output_type": "stream",
     "text": [
      "67 is not a perfect square\n"
     ]
    }
   ],
   "source": [
    "n = 67\n",
    "root = n**0.5\n",
    "if ceil(root) == floor(root):\n",
    "    print('{0} is a perfect square'.format(n))\n",
    "else:\n",
    "    print('{0} is not a perfect square'.format(n))"
   ]
  },
  {
   "cell_type": "markdown",
   "id": "7d60b6c6",
   "metadata": {},
   "source": [
    "...and again with a different number..."
   ]
  },
  {
   "cell_type": "code",
   "execution_count": 3,
   "id": "f4558359",
   "metadata": {},
   "outputs": [
    {
     "name": "stdout",
     "output_type": "stream",
     "text": [
      "81 is a perfect square\n"
     ]
    }
   ],
   "source": [
    "n = 81\n",
    "root = n**0.5\n",
    "if ceil(root) == floor(root):\n",
    "    print('{0} is a perfect square'.format(n))\n",
    "else:\n",
    "    print('{0} is not a perfect square'.format(n))"
   ]
  },
  {
   "cell_type": "markdown",
   "id": "ac15331f",
   "metadata": {},
   "source": [
    "Sure, I could just compile these numbers into a list and use a `for` loop, but what if I wanted this to be applicable to any number anyone can think of? Every time I wanted to check if a number is a perfect square, I'd have to copy this same code and change one value. \n",
    "\n",
    "Generally, **you should avoid copying code whenever possible.** Copying code as I did above is not only annoying, but can also lead to additional headaches if you wanted to modify the code at every instance. That is, say I wanted to modify the `if` statement that checks if the root is an integer. I would have to make sure that I make the exact same change in every instance of the block of code. Even worse, if the blocks have a bug, I would have to fix every single occurrence of the bug, possibly multiple times if my first fix doesn't work.\n",
    "\n",
    "The easiest way to avoid code redundancies is with *functions*. This solves these hypothetical problems by allowing you to write a block of code once and run it as many times as you'd like with one keyword. To see how this works, let's rewrite the above code as a function:"
   ]
  },
  {
   "cell_type": "code",
   "execution_count": 13,
   "id": "2f4a8383",
   "metadata": {},
   "outputs": [],
   "source": [
    "def is_sqrt(n):\n",
    "    '''Check if an integer is a perfect square.'''\n",
    "    root = n**0.5\n",
    "    if ceil(root) == floor(root):\n",
    "        print('{0} is a perfect square'.format(n))\n",
    "    else:\n",
    "        print('{0} is not a perfect square'.format(n))"
   ]
  },
  {
   "cell_type": "markdown",
   "id": "2174aab8",
   "metadata": {},
   "source": [
    "Here we can see the basic syntax of a function. Every function starts with the line `def keyword(args):`, where `keyword` is the name of the function you can call to run the code within and `args` are a set of inputs used in the function. In the above example, I've defined the function with the keyword `is_sqrt`, which takes in the argument `n`. Now, if I want to run the code above, all I have to do is call `is_sqrt` with an integer as an input:"
   ]
  },
  {
   "cell_type": "code",
   "execution_count": 5,
   "id": "f7dea9af",
   "metadata": {},
   "outputs": [
    {
     "name": "stdout",
     "output_type": "stream",
     "text": [
      "64 is a perfect square\n",
      "72 is not a perfect square\n",
      "81 is a perfect square\n"
     ]
    }
   ],
   "source": [
    "is_sqrt(64)\n",
    "is_sqrt(72)\n",
    "is_sqrt(81)"
   ]
  },
  {
   "cell_type": "markdown",
   "id": "af89dc71",
   "metadata": {},
   "source": [
    "This eliminates the need to copy and paste the same code over and over again whenever I want to use it. Even better, if I wanted to make changes to the above function, all I'd have to do is modify the function, and the change will be applied every subsequent time I call it.\n",
    "\n",
    "For example, let's add a condition that will handle whenever a non-integer is passed as an argument. We could do it in the cell above, but for demonstration's sake I'll copy it below:"
   ]
  },
  {
   "cell_type": "code",
   "execution_count": 14,
   "id": "eca85d63",
   "metadata": {},
   "outputs": [],
   "source": [
    "def is_sqrt(n):\n",
    "    '''Check if an integer is a perfect square.'''\n",
    "    if type(n) != int:\n",
    "        print('Input must be an integer')\n",
    "    else:\n",
    "        root = n**0.5\n",
    "        if ceil(root) == floor(root):\n",
    "            print('{0} is a perfect square'.format(n))\n",
    "        else:\n",
    "            print('{0} is not a perfect square'.format(n))"
   ]
  },
  {
   "cell_type": "markdown",
   "id": "e84a2394",
   "metadata": {},
   "source": [
    "Now, let's try passing some more arguments, including a `float`:"
   ]
  },
  {
   "cell_type": "code",
   "execution_count": 15,
   "id": "f360df10",
   "metadata": {},
   "outputs": [
    {
     "name": "stdout",
     "output_type": "stream",
     "text": [
      "Input must be an integer\n",
      "49 is a perfect square\n",
      "490 is not a perfect square\n"
     ]
    }
   ],
   "source": [
    "is_sqrt(4.9)\n",
    "is_sqrt(49)\n",
    "is_sqrt(490)"
   ]
  },
  {
   "cell_type": "markdown",
   "id": "c64089c8",
   "metadata": {},
   "source": [
    "As you can see, the modification carries every subsequent time we call `is_sqrt`. This is the power of functions: they can make code much cleaner and greatly reduce the time you spend debugging code. Any Python code covered up to this point can be written in a function; you could even write nested functions if you wanted. You should use them liberally when writing your own code.\n",
    "\n",
    "You may have noticed the string encased in three asterisks after the `def` statement and before the actual code. This is known as a *docstring*, and serves as a short description of what the function actually does. Here, it simply states that the function checks if an integer is a perfect square. These become more useful when you want to know the usage of functions from outside files (i.e. from libraries, which we'll go over later on). You can print the docstring to a function by using the `__doc__` method:"
   ]
  },
  {
   "cell_type": "code",
   "execution_count": 16,
   "id": "f9aeef5a",
   "metadata": {},
   "outputs": [
    {
     "data": {
      "text/plain": [
       "'Check if an integer is a perfect square.'"
      ]
     },
     "execution_count": 16,
     "metadata": {},
     "output_type": "execute_result"
    }
   ],
   "source": [
    "is_sqrt.__doc__"
   ]
  },
  {
   "cell_type": "markdown",
   "id": "fda22a88",
   "metadata": {},
   "source": [
    "Docstrings aren't necessary, but just like comments they can be helpful when writing code that may be used by multiple people (or by yourself several months after writing).\n",
    "\n",
    "### The `return` statement\n",
    "\n",
    "Functions like the ones I've written above can simply run a block of code without any output (bar the `print` statements. However, you can also write functions that generate outputs that you can further save or manipulate. We can do this using the `return` statement. Let's illustrate this by writing the `pow()` built-in as a Python function:"
   ]
  },
  {
   "cell_type": "code",
   "execution_count": 17,
   "id": "ff63db30",
   "metadata": {},
   "outputs": [],
   "source": [
    "def my_pow(a, b):\n",
    "    return a**b"
   ]
  },
  {
   "cell_type": "markdown",
   "id": "50771ca0",
   "metadata": {},
   "source": [
    "This function simply takes two inputs, `a` and `b`, and raises `a` to the power of `b`, exactly as the `pow()` function does. The `return` statement makes it so calling `my_pow` gives direct access to the value:"
   ]
  },
  {
   "cell_type": "code",
   "execution_count": 21,
   "id": "b758d41b",
   "metadata": {},
   "outputs": [
    {
     "data": {
      "text/plain": [
       "81"
      ]
     },
     "execution_count": 21,
     "metadata": {},
     "output_type": "execute_result"
    }
   ],
   "source": [
    "my_pow(3, 4)"
   ]
  },
  {
   "cell_type": "code",
   "execution_count": 22,
   "id": "65db6e5b",
   "metadata": {},
   "outputs": [
    {
     "data": {
      "text/plain": [
       "1.4142135623730951"
      ]
     },
     "execution_count": 22,
     "metadata": {},
     "output_type": "execute_result"
    }
   ],
   "source": [
    "my_pow(2, 0.5)"
   ]
  },
  {
   "cell_type": "code",
   "execution_count": 23,
   "id": "45b97f35",
   "metadata": {},
   "outputs": [
    {
     "data": {
      "text/plain": [
       "64"
      ]
     },
     "execution_count": 23,
     "metadata": {},
     "output_type": "execute_result"
    }
   ],
   "source": [
    "var = my_pow(4, 3)\n",
    "var"
   ]
  },
  {
   "cell_type": "markdown",
   "id": "df03098c",
   "metadata": {},
   "source": [
    "Much like the `break` statement in loops, a `return` statement also acts as a stopping point for a function. Let's illustrate this by copying `my_pow`, this time adding a `print` statement after the `return` statement:"
   ]
  },
  {
   "cell_type": "code",
   "execution_count": 24,
   "id": "df01f838",
   "metadata": {},
   "outputs": [],
   "source": [
    "def my_pow(a, b):\n",
    "    return a**b\n",
    "    print('This is after the return statement')"
   ]
  },
  {
   "cell_type": "code",
   "execution_count": 25,
   "id": "3cc7c879",
   "metadata": {},
   "outputs": [
    {
     "data": {
      "text/plain": [
       "8"
      ]
     },
     "execution_count": 25,
     "metadata": {},
     "output_type": "execute_result"
    }
   ],
   "source": [
    "my_pow(2, 3)"
   ]
  },
  {
   "cell_type": "markdown",
   "id": "4fc5d122",
   "metadata": {},
   "source": [
    "Notice that the `print` statement never ran; the function stopped upon encountering the `return` statement. Let's try a more complicated example: we'll rewrite `is_sqrt` to simply print a warning if a value isn't an integer:"
   ]
  },
  {
   "cell_type": "code",
   "execution_count": 30,
   "id": "02145496",
   "metadata": {},
   "outputs": [],
   "source": [
    "def is_sqrt(n):\n",
    "    '''Check if an integer is a perfect square.'''\n",
    "    if type(n) != int:\n",
    "        print('Input is not an integer')\n",
    "    root = n**0.5\n",
    "    if ceil(root) == floor(root):\n",
    "        print('{0} is a perfect square'.format(n))\n",
    "    else:\n",
    "        print('{0} is not a perfect square'.format(n))"
   ]
  },
  {
   "cell_type": "code",
   "execution_count": 31,
   "id": "75ed19e5",
   "metadata": {},
   "outputs": [
    {
     "name": "stdout",
     "output_type": "stream",
     "text": [
      "4 is a perfect square\n",
      "7 is not a perfect square\n",
      "28 is not a perfect square\n",
      "36 is a perfect square\n",
      "Input is not an integer\n"
     ]
    },
    {
     "ename": "TypeError",
     "evalue": "unsupported operand type(s) for ** or pow(): 'str' and 'float'",
     "output_type": "error",
     "traceback": [
      "\u001b[0;31m---------------------------------------------------------------------------\u001b[0m",
      "\u001b[0;31mTypeError\u001b[0m                                 Traceback (most recent call last)",
      "Cell \u001b[0;32mIn[31], line 4\u001b[0m\n\u001b[1;32m      1\u001b[0m test_vals \u001b[38;5;241m=\u001b[39m [\u001b[38;5;241m4\u001b[39m, \u001b[38;5;241m7\u001b[39m, \u001b[38;5;241m28\u001b[39m, \u001b[38;5;241m36\u001b[39m, \u001b[38;5;124m'\u001b[39m\u001b[38;5;124mstring\u001b[39m\u001b[38;5;124m'\u001b[39m, \u001b[38;5;241m64\u001b[39m, \u001b[38;5;241m95\u001b[39m, \u001b[38;5;241m100\u001b[39m]\n\u001b[1;32m      3\u001b[0m \u001b[38;5;28;01mfor\u001b[39;00m i \u001b[38;5;129;01min\u001b[39;00m test_vals:\n\u001b[0;32m----> 4\u001b[0m     \u001b[43mis_sqrt\u001b[49m\u001b[43m(\u001b[49m\u001b[43mi\u001b[49m\u001b[43m)\u001b[49m\n",
      "Cell \u001b[0;32mIn[30], line 5\u001b[0m, in \u001b[0;36mis_sqrt\u001b[0;34m(n)\u001b[0m\n\u001b[1;32m      3\u001b[0m \u001b[38;5;28;01mif\u001b[39;00m \u001b[38;5;28mtype\u001b[39m(n) \u001b[38;5;241m!=\u001b[39m \u001b[38;5;28mint\u001b[39m:\n\u001b[1;32m      4\u001b[0m     \u001b[38;5;28mprint\u001b[39m(\u001b[38;5;124m'\u001b[39m\u001b[38;5;124mInput is not an integer\u001b[39m\u001b[38;5;124m'\u001b[39m)\n\u001b[0;32m----> 5\u001b[0m root \u001b[38;5;241m=\u001b[39m \u001b[43mn\u001b[49m\u001b[38;5;241;43m*\u001b[39;49m\u001b[38;5;241;43m*\u001b[39;49m\u001b[38;5;241;43m0.5\u001b[39;49m\n\u001b[1;32m      6\u001b[0m \u001b[38;5;28;01mif\u001b[39;00m ceil(root) \u001b[38;5;241m==\u001b[39m floor(root):\n\u001b[1;32m      7\u001b[0m     \u001b[38;5;28mprint\u001b[39m(\u001b[38;5;124m'\u001b[39m\u001b[38;5;132;01m{0}\u001b[39;00m\u001b[38;5;124m is a perfect square\u001b[39m\u001b[38;5;124m'\u001b[39m\u001b[38;5;241m.\u001b[39mformat(n))\n",
      "\u001b[0;31mTypeError\u001b[0m: unsupported operand type(s) for ** or pow(): 'str' and 'float'"
     ]
    }
   ],
   "source": [
    "test_vals = [4, 7, 28, 36, 'string', 64, 95, 100]\n",
    "\n",
    "for i in test_vals:\n",
    "    is_sqrt(i)"
   ]
  },
  {
   "cell_type": "markdown",
   "id": "0bba96c1",
   "metadata": {},
   "source": [
    "Notice that we get an error upon reaching the string. The function correctly printed 'Input is not an integer', but we had no other logic to stop the code, so it continued right on to the next line. Let's add an empty `return` statement in that first `if` condition to fix this:"
   ]
  },
  {
   "cell_type": "code",
   "execution_count": 32,
   "id": "5560f20c",
   "metadata": {},
   "outputs": [
    {
     "name": "stdout",
     "output_type": "stream",
     "text": [
      "4 is a perfect square\n",
      "7 is not a perfect square\n",
      "28 is not a perfect square\n",
      "36 is a perfect square\n",
      "Input is not an integer\n",
      "64 is a perfect square\n",
      "95 is not a perfect square\n",
      "100 is a perfect square\n"
     ]
    }
   ],
   "source": [
    "def is_sqrt(n):\n",
    "    '''Check if an integer is a perfect square.'''\n",
    "    if type(n) != int:\n",
    "        print('Input is not an integer')\n",
    "        return\n",
    "    root = n**0.5\n",
    "    if ceil(root) == floor(root):\n",
    "        print('{0} is a perfect square'.format(n))\n",
    "    else:\n",
    "        print('{0} is not a perfect square'.format(n))\n",
    "        \n",
    "for i in test_vals:\n",
    "    is_sqrt(i)"
   ]
  },
  {
   "cell_type": "markdown",
   "id": "29fc0a70",
   "metadata": {},
   "source": [
    "Now, when a number isn't an integer, `is_sqrt` will print the warning and run the `return` statement, which stops the function immediately. This demonstrates that `return` can be used both for outputting values and controlling errors. Using them effectively can be a great boon in scientific programming.\n",
    "\n",
    "### Function Inputs\n",
    "\n",
    "Let's talk a little more about the inputs to a function. In the examples above, I defined functions with set numbers of inputs. If I tried to call the functions with anything other than the exact number of inputs listed, I'll get an error:"
   ]
  },
  {
   "cell_type": "code",
   "execution_count": 40,
   "id": "4e3e9e26",
   "metadata": {},
   "outputs": [
    {
     "ename": "TypeError",
     "evalue": "is_sqrt() takes 1 positional argument but 2 were given",
     "output_type": "error",
     "traceback": [
      "\u001b[0;31m---------------------------------------------------------------------------\u001b[0m",
      "\u001b[0;31mTypeError\u001b[0m                                 Traceback (most recent call last)",
      "Cell \u001b[0;32mIn[40], line 1\u001b[0m\n\u001b[0;32m----> 1\u001b[0m \u001b[43mis_sqrt\u001b[49m\u001b[43m(\u001b[49m\u001b[38;5;241;43m24\u001b[39;49m\u001b[43m,\u001b[49m\u001b[43m \u001b[49m\u001b[38;5;124;43m'\u001b[39;49m\u001b[38;5;124;43mstring\u001b[39;49m\u001b[38;5;124;43m'\u001b[39;49m\u001b[43m)\u001b[49m\n",
      "\u001b[0;31mTypeError\u001b[0m: is_sqrt() takes 1 positional argument but 2 were given"
     ]
    }
   ],
   "source": [
    "is_sqrt(24, 'string')"
   ]
  },
  {
   "cell_type": "markdown",
   "id": "9f88fea9",
   "metadata": {},
   "source": [
    "There are several ways to control inputs when defining functions. One way is by setting *arbitrary arguments* or *\\*args*, which, as the name suggests, allows for any number of arguments to be passed into a function. For example, let's say we wanted to input several numbers at a time into `is_sqrt` (besides iterating over a list as I did above). We could replace the single input with `*nums` and re-format the code into a `for` loop:"
   ]
  },
  {
   "cell_type": "code",
   "execution_count": 41,
   "id": "579c8253",
   "metadata": {},
   "outputs": [],
   "source": [
    "def is_sqrt(*nums):\n",
    "    '''Check if an integer is a perfect square.'''\n",
    "    for n in nums:\n",
    "        root = n**0.5\n",
    "        if ceil(root) == floor(root):\n",
    "            print('{0} is a perfect square'.format(n))\n",
    "        else:\n",
    "            print('{0} is not a perfect square'.format(n))"
   ]
  },
  {
   "cell_type": "markdown",
   "id": "51ce2947",
   "metadata": {},
   "source": [
    "Now I can put in as many arguments as I want and the code will still work:"
   ]
  },
  {
   "cell_type": "code",
   "execution_count": 43,
   "id": "8d8c4bc5",
   "metadata": {},
   "outputs": [
    {
     "name": "stdout",
     "output_type": "stream",
     "text": [
      "4 is a perfect square\n",
      "7 is not a perfect square\n",
      "9 is a perfect square\n",
      "12 is not a perfect square\n",
      "16 is a perfect square\n"
     ]
    }
   ],
   "source": [
    "is_sqrt(4, 7, 9, 12, 16)"
   ]
  },
  {
   "cell_type": "markdown",
   "id": "9de74ff3",
   "metadata": {},
   "source": [
    "Note that I removed the logic to detect non-integers and stop the function. Watch what happens if I add it back in:"
   ]
  },
  {
   "cell_type": "code",
   "execution_count": 45,
   "id": "d126afbf",
   "metadata": {},
   "outputs": [
    {
     "name": "stdout",
     "output_type": "stream",
     "text": [
      "4 is a perfect square\n",
      "7 is not a perfect square\n",
      "9 is a perfect square\n",
      "Input is not an integer\n"
     ]
    }
   ],
   "source": [
    "def is_sqrt(*nums):\n",
    "    '''Check if an integer is a perfect square.'''\n",
    "    for n in nums:\n",
    "        if type(n) != int:\n",
    "            print('Input is not an integer')\n",
    "            return\n",
    "        root = n**0.5\n",
    "        if ceil(root) == floor(root):\n",
    "            print('{0} is a perfect square'.format(n))\n",
    "        else:\n",
    "            print('{0} is not a perfect square'.format(n))\n",
    "        \n",
    "is_sqrt(4, 7, 9, 'string', 12, 16)"
   ]
  },
  {
   "cell_type": "markdown",
   "id": "9bd55d25",
   "metadata": {},
   "source": [
    "The function stops altogether when reaching the string, leaving out the last two entries. Sometimes, generalizing your functions like this won't be as simple as adding in an arbitrary argument. In this case, we'd have to replace `return` with a `continue` statement so only the iteration stops, not the whole function:"
   ]
  },
  {
   "cell_type": "code",
   "execution_count": 46,
   "id": "9897ce6d",
   "metadata": {},
   "outputs": [
    {
     "name": "stdout",
     "output_type": "stream",
     "text": [
      "4 is a perfect square\n",
      "7 is not a perfect square\n",
      "9 is a perfect square\n",
      "Input is not an integer\n",
      "12 is not a perfect square\n",
      "16 is a perfect square\n"
     ]
    }
   ],
   "source": [
    "def is_sqrt(*nums):\n",
    "    '''Check if an integer is a perfect square.'''\n",
    "    for n in nums:\n",
    "        if type(n) != int:\n",
    "            print('Input is not an integer')\n",
    "            continue\n",
    "        root = n**0.5\n",
    "        if ceil(root) == floor(root):\n",
    "            print('{0} is a perfect square'.format(n))\n",
    "        else:\n",
    "            print('{0} is not a perfect square'.format(n))\n",
    "        \n",
    "is_sqrt(4, 7, 9, 'string', 12, 16)"
   ]
  },
  {
   "cell_type": "markdown",
   "id": "7f3435a5",
   "metadata": {},
   "source": [
    "Another way we can control the inputs for a function is with *keyword arguments*. When defining a function, this looks exactly the same as a regular function. Let's copy over `my_pow()` for demonstration purposes."
   ]
  },
  {
   "cell_type": "code",
   "execution_count": 47,
   "id": "2b9fee65",
   "metadata": {},
   "outputs": [],
   "source": [
    "def my_pow(a, b):\n",
    "    return a**b"
   ]
  },
  {
   "cell_type": "markdown",
   "id": "26ee043f",
   "metadata": {},
   "source": [
    "When calling the function, I can then specify the value of each of the arguments directly using `a =` and `b =`. The order I put them in when calling the function doesn't matter, so long as I include both:"
   ]
  },
  {
   "cell_type": "code",
   "execution_count": 48,
   "id": "99c9ca1d",
   "metadata": {},
   "outputs": [
    {
     "data": {
      "text/plain": [
       "8"
      ]
     },
     "execution_count": 48,
     "metadata": {},
     "output_type": "execute_result"
    }
   ],
   "source": [
    "my_pow(b=3, a=2)"
   ]
  },
  {
   "cell_type": "markdown",
   "id": "d3ddd018",
   "metadata": {},
   "source": [
    "We can also set *default parameters* when defining a function. Let's say I wanted to change `my_pow()` so, by default, it cubes the input `a`. I can write:"
   ]
  },
  {
   "cell_type": "code",
   "execution_count": 49,
   "id": "f546d472",
   "metadata": {},
   "outputs": [],
   "source": [
    "def my_pow(a, b=3):\n",
    "    return a**b"
   ]
  },
  {
   "cell_type": "markdown",
   "id": "88baf2a9",
   "metadata": {},
   "source": [
    "Now, I only have to call the function with one argument for `a`, and the function will work:"
   ]
  },
  {
   "cell_type": "code",
   "execution_count": 50,
   "id": "d7531216",
   "metadata": {},
   "outputs": [
    {
     "data": {
      "text/plain": [
       "8"
      ]
     },
     "execution_count": 50,
     "metadata": {},
     "output_type": "execute_result"
    }
   ],
   "source": [
    "my_pow(2)"
   ]
  },
  {
   "cell_type": "markdown",
   "id": "766f77b4",
   "metadata": {},
   "source": [
    "Alternatively, if I want to take a different power of `a`, I can pass a keyword argument for `b` when I call `my_pow()`:"
   ]
  },
  {
   "cell_type": "code",
   "execution_count": 51,
   "id": "37e15022",
   "metadata": {},
   "outputs": [
    {
     "data": {
      "text/plain": [
       "16"
      ]
     },
     "execution_count": 51,
     "metadata": {},
     "output_type": "execute_result"
    }
   ],
   "source": [
    "my_pow(2, b=4)"
   ]
  },
  {
   "cell_type": "markdown",
   "id": "cdabfc01",
   "metadata": {},
   "source": [
    "### Variable Scope\n",
    "\n",
    "One important point to keep in mind when working with functions is the *scope* of your variables. Let's define a variable below:"
   ]
  },
  {
   "cell_type": "code",
   "execution_count": 33,
   "id": "78b0e84c",
   "metadata": {},
   "outputs": [],
   "source": [
    "x = 300"
   ]
  },
  {
   "cell_type": "markdown",
   "id": "a711892d",
   "metadata": {},
   "source": [
    "This variable has a *global scope*, meaning that any function I call will associate the variable `x` with the value `300`. This seems pretty obvious, but what do you think will happen when I define a variable `x` from within a function?"
   ]
  },
  {
   "cell_type": "code",
   "execution_count": 35,
   "id": "b4dabe73",
   "metadata": {},
   "outputs": [
    {
     "name": "stdout",
     "output_type": "stream",
     "text": [
      "200\n"
     ]
    }
   ],
   "source": [
    "def a_function():\n",
    "    x = 200\n",
    "    print(x)\n",
    "    \n",
    "a_function()"
   ]
  },
  {
   "cell_type": "markdown",
   "id": "7e414c00",
   "metadata": {},
   "source": [
    "This function prints off the value of `x` I assigned within itself. So maybe calling the function redefines `x` afterwards. Let's see what happens if I print `x` outside of the function:"
   ]
  },
  {
   "cell_type": "code",
   "execution_count": 36,
   "id": "3102c944",
   "metadata": {},
   "outputs": [
    {
     "name": "stdout",
     "output_type": "stream",
     "text": [
      "300\n"
     ]
    }
   ],
   "source": [
    "print(x)"
   ]
  },
  {
   "cell_type": "markdown",
   "id": "928915b2",
   "metadata": {},
   "source": [
    "Weird...it seems that `x` has two different values depending on where I call it from. Why is this happening?\n",
    "\n",
    "It turns out that the variable `x` I defined within the function has a *local scope*. This means that any time I call `x` *inside of the function*, the code will default to the definition set within the function. As you can see, a variable with local scope overrides any global values in that function alone. Indeed, if I define a function without redefining `x`, the function will default to the global value:"
   ]
  },
  {
   "cell_type": "code",
   "execution_count": 38,
   "id": "cf7e30cf",
   "metadata": {},
   "outputs": [
    {
     "name": "stdout",
     "output_type": "stream",
     "text": [
      "300\n"
     ]
    }
   ],
   "source": [
    "def another_function():\n",
    "    print(x)\n",
    "    \n",
    "another_function()"
   ]
  },
  {
   "cell_type": "markdown",
   "id": "2f09f82d",
   "metadata": {},
   "source": [
    "Variable scope is important to consider when defining variables within a function. You can avoid this by simply not using the same variable names locally and globally. However, you may want to define a variable globally when within a local scope. To do this, we can use the `global` keyword. Let's see it in action:"
   ]
  },
  {
   "cell_type": "code",
   "execution_count": 39,
   "id": "21284c15",
   "metadata": {},
   "outputs": [
    {
     "name": "stdout",
     "output_type": "stream",
     "text": [
      "Before calling function: 300\n",
      "From within function: 200\n",
      "After calling function: 200\n"
     ]
    }
   ],
   "source": [
    "x = 300 # global definition\n",
    "\n",
    "print('Before calling function: {0}'.format(x))\n",
    "\n",
    "def a_third_function():\n",
    "    global x # declare x as a global variable\n",
    "    x = 200 # define x locally; global keyword applies definition globally\n",
    "    print('From within function: {0}'.format(x))\n",
    "    \n",
    "a_third_function()\n",
    "\n",
    "print('After calling function: {0}'.format(x))"
   ]
  },
  {
   "cell_type": "markdown",
   "id": "a16ec7f8",
   "metadata": {},
   "source": [
    "## Libraries\n",
    "\n",
    "Now that we've covered functions, you could theoretically write any function you want to do practically whatever you want. However, with how popular Python has become in the past few years, it's very likely that someone else has written a function to do whatever you want to do, with the added benefit of being stress-tested and probably way more efficient than you could write. For example, I mentioned that you should use built-ins whenever possible rather than your own functions. This is because, while built-ins can potentially do very simple things (case in point: look how simply you can write your own version of the `pow()` function), they're usually written in lower-level languages that are much faster than Python. This increase in efficiency becomes instrumental once you start writing more intensive codes when doing, e.g., machine learning research or parallel computing.\n",
    "\n",
    "While base Python has a lot of built-in functions to get you started doing simple arithmetic and STEM problems (like those you've been doing in the problem sets), not everything you can do in Python comes pre-packaged. Instead, a huge majority of what you can do in Python is relegated to *libraries*, external sources containing functions that are too complex or specialized to include in base Python. There are hundreds of millions of libraries out there - so much that you could probably dedicate your whole life to learning libraries and still not get to them all. Over the summer, you'll encounter several of the most widely-used libraries in scientific programming, many of which will be instrumental to your success many years after this course.\n",
    "\n",
    "### Importing Libraries\n",
    "\n",
    "We'll start off by importing a simple yet powerful library called `math`. (You may recognize this from the problem sets and from our initial discussion on functions.) Generally, `math` comes pre-installed with most Python distributions, so you shouldn't have to worry about installation. To access a library, all you have to is use the `import` statement followed by the name of the library you want to access:"
   ]
  },
  {
   "cell_type": "code",
   "execution_count": 54,
   "id": "9eee478d",
   "metadata": {},
   "outputs": [],
   "source": [
    "import math"
   ]
  },
  {
   "cell_type": "markdown",
   "id": "b56e361d",
   "metadata": {},
   "source": [
    "This library contains some more advanced mathematical functions that aren't included in base Python. You've already encountered two of them. `math.ceil()` takes a `float` input and rounds it up to the next highest integer:"
   ]
  },
  {
   "cell_type": "code",
   "execution_count": 55,
   "id": "28ce2b40",
   "metadata": {},
   "outputs": [
    {
     "data": {
      "text/plain": [
       "7"
      ]
     },
     "execution_count": 55,
     "metadata": {},
     "output_type": "execute_result"
    }
   ],
   "source": [
    "math.ceil(6.1)"
   ]
  },
  {
   "cell_type": "code",
   "execution_count": 56,
   "id": "fbf4eb3d",
   "metadata": {},
   "outputs": [
    {
     "data": {
      "text/plain": [
       "9"
      ]
     },
     "execution_count": 56,
     "metadata": {},
     "output_type": "execute_result"
    }
   ],
   "source": [
    "math.ceil(8.9)"
   ]
  },
  {
   "cell_type": "markdown",
   "id": "96c2e6ff",
   "metadata": {},
   "source": [
    "Another function, `math.floor()`, does the opposite, taking a `float` and rounding it down to the last integer:"
   ]
  },
  {
   "cell_type": "code",
   "execution_count": 57,
   "id": "95ace383",
   "metadata": {},
   "outputs": [
    {
     "data": {
      "text/plain": [
       "6"
      ]
     },
     "execution_count": 57,
     "metadata": {},
     "output_type": "execute_result"
    }
   ],
   "source": [
    "math.floor(6.1)"
   ]
  },
  {
   "cell_type": "code",
   "execution_count": 58,
   "id": "e177a7e9",
   "metadata": {},
   "outputs": [
    {
     "data": {
      "text/plain": [
       "8"
      ]
     },
     "execution_count": 58,
     "metadata": {},
     "output_type": "execute_result"
    }
   ],
   "source": [
    "math.floor(8.9)"
   ]
  },
  {
   "cell_type": "markdown",
   "id": "8ea4bd48",
   "metadata": {},
   "source": [
    "As you can see, you can use any function from a library right after importing it. All you have to do is call `library.function()`, where `library` is the name of the library you're calling from and `function()` is the name of the function you want to use. However, some library names (e.g. `multiprocessing`, `matplotlib.pyplot`) can be cumbersome to write out every time you want to use a function. \n",
    "\n",
    "There are two ways to remedy this. The first is to use an abbreviation in place of the library name. We can do this by modifying the `import` statement as follows:"
   ]
  },
  {
   "cell_type": "code",
   "execution_count": 59,
   "id": "73f4c662",
   "metadata": {},
   "outputs": [],
   "source": [
    "import math as m"
   ]
  },
  {
   "cell_type": "markdown",
   "id": "716a81b1",
   "metadata": {},
   "source": [
    "Now, instead of writing out `math`, we can just write `m.function()` to use `math` functions:"
   ]
  },
  {
   "cell_type": "code",
   "execution_count": 60,
   "id": "baa2140f",
   "metadata": {},
   "outputs": [
    {
     "data": {
      "text/plain": [
       "6"
      ]
     },
     "execution_count": 60,
     "metadata": {},
     "output_type": "execute_result"
    }
   ],
   "source": [
    "m.floor(6.1)"
   ]
  },
  {
   "cell_type": "markdown",
   "id": "d25ed1ad",
   "metadata": {},
   "source": [
    "Keep in mind that, like built-in functions, whatever you use as an alias for a library should be considered off-limits for variable or function names.\n",
    "\n",
    "Another remedy is to instead call functions directly from the library. I did this above to call `floor` and `ceil`. You can use a `from`/`import` statement and list the specific functions you wish to import as follows:"
   ]
  },
  {
   "cell_type": "code",
   "execution_count": 61,
   "id": "48d7b6a7",
   "metadata": {},
   "outputs": [],
   "source": [
    "from math import ceil, floor"
   ]
  },
  {
   "cell_type": "markdown",
   "id": "21858949",
   "metadata": {},
   "source": [
    "This circumvents needing any placeholder for the `math` library; I can just call the functions directly:"
   ]
  },
  {
   "cell_type": "code",
   "execution_count": 62,
   "id": "fbad8d83",
   "metadata": {},
   "outputs": [
    {
     "data": {
      "text/plain": [
       "7"
      ]
     },
     "execution_count": 62,
     "metadata": {},
     "output_type": "execute_result"
    }
   ],
   "source": [
    "ceil(6.1)"
   ]
  },
  {
   "cell_type": "code",
   "execution_count": 63,
   "id": "eb681944",
   "metadata": {},
   "outputs": [
    {
     "data": {
      "text/plain": [
       "8"
      ]
     },
     "execution_count": 63,
     "metadata": {},
     "output_type": "execute_result"
    }
   ],
   "source": [
    "floor(8.9)"
   ]
  },
  {
   "cell_type": "markdown",
   "id": "6b4f73ff",
   "metadata": {},
   "source": [
    "This is useful, but be careful when doing this. Some libraries have duplicate function names, and importing libraries like this can make it hard to track down where a function comes from. A tempting yet dangerous way of importing functions is by using:"
   ]
  },
  {
   "cell_type": "code",
   "execution_count": 64,
   "id": "e48cc9c9",
   "metadata": {},
   "outputs": [],
   "source": [
    "from math import *"
   ]
  },
  {
   "cell_type": "markdown",
   "id": "7e36c72b",
   "metadata": {},
   "source": [
    "The asterisk `*` is standard in computer science as a *wildcard*, meaning the above statement will import all functions from the `math` library with the same pros and cons as when we individually imported `ceil` and `floor`. Again, be careful when using this, especially when importing from multiple libraries in this way.\n",
    "\n",
    "### More on `math`\n",
    "\n",
    "Let's dive a little more into what you can do with the `math` library. I'll import `math` with a keyword for clarity:"
   ]
  },
  {
   "cell_type": "code",
   "execution_count": 65,
   "id": "427ba7ce",
   "metadata": {},
   "outputs": [],
   "source": [
    "import math as m"
   ]
  },
  {
   "cell_type": "markdown",
   "id": "21980103",
   "metadata": {},
   "source": [
    "As stated previously, `math` expands upon the base mathematical functionality of Python. Some functions can be used to replace the rudimentary ways we've been calculating values thus far. For example, `math.sqrt()` can be used to take the square root of a value without raising to the 0.5 power:"
   ]
  },
  {
   "cell_type": "code",
   "execution_count": 66,
   "id": "a8c833e1",
   "metadata": {},
   "outputs": [
    {
     "data": {
      "text/plain": [
       "8.0"
      ]
     },
     "execution_count": 66,
     "metadata": {},
     "output_type": "execute_result"
    }
   ],
   "source": [
    "m.sqrt(64)"
   ]
  },
  {
   "cell_type": "code",
   "execution_count": 68,
   "id": "7e601004",
   "metadata": {},
   "outputs": [
    {
     "data": {
      "text/plain": [
       "1.4142135623730951"
      ]
     },
     "execution_count": 68,
     "metadata": {},
     "output_type": "execute_result"
    }
   ],
   "source": [
    "m.sqrt(2)"
   ]
  },
  {
   "cell_type": "markdown",
   "id": "722e2c37",
   "metadata": {},
   "source": [
    "Recall in Exercise Set 2, you were asked to calculate a factorial with a `for` loop. `math` has a solution for that: the `factorial()` function:"
   ]
  },
  {
   "cell_type": "code",
   "execution_count": 71,
   "id": "0d43ec30",
   "metadata": {},
   "outputs": [
    {
     "data": {
      "text/plain": [
       "6"
      ]
     },
     "execution_count": 71,
     "metadata": {},
     "output_type": "execute_result"
    }
   ],
   "source": [
    "m.factorial(3)"
   ]
  },
  {
   "cell_type": "code",
   "execution_count": 72,
   "id": "83693f65",
   "metadata": {},
   "outputs": [
    {
     "data": {
      "text/plain": [
       "120"
      ]
     },
     "execution_count": 72,
     "metadata": {},
     "output_type": "execute_result"
    }
   ],
   "source": [
    "m.factorial(5)"
   ]
  },
  {
   "cell_type": "markdown",
   "id": "7f787e6a",
   "metadata": {},
   "source": [
    "`math` also has its own absolute value function: `fabs()`:"
   ]
  },
  {
   "cell_type": "code",
   "execution_count": 73,
   "id": "90763580",
   "metadata": {},
   "outputs": [
    {
     "data": {
      "text/plain": [
       "2.0"
      ]
     },
     "execution_count": 73,
     "metadata": {},
     "output_type": "execute_result"
    }
   ],
   "source": [
    "m.fabs(2)"
   ]
  },
  {
   "cell_type": "code",
   "execution_count": 74,
   "id": "76bc40a8",
   "metadata": {},
   "outputs": [
    {
     "data": {
      "text/plain": [
       "5.4"
      ]
     },
     "execution_count": 74,
     "metadata": {},
     "output_type": "execute_result"
    }
   ],
   "source": [
    "m.fabs(-5.4)"
   ]
  },
  {
   "cell_type": "markdown",
   "id": "68439198",
   "metadata": {},
   "source": [
    "`math` also contains some important mathematical constants, such as Euler's number $e$ and $\\pi$. Generally, you should use these values (or constants from another reputable library) rather than estimates retrieved online."
   ]
  },
  {
   "cell_type": "code",
   "execution_count": 75,
   "id": "6797d12d",
   "metadata": {},
   "outputs": [
    {
     "data": {
      "text/plain": [
       "2.718281828459045"
      ]
     },
     "execution_count": 75,
     "metadata": {},
     "output_type": "execute_result"
    }
   ],
   "source": [
    "m.e"
   ]
  },
  {
   "cell_type": "code",
   "execution_count": 76,
   "id": "14bd3bc1",
   "metadata": {},
   "outputs": [
    {
     "data": {
      "text/plain": [
       "3.141592653589793"
      ]
     },
     "execution_count": 76,
     "metadata": {},
     "output_type": "execute_result"
    }
   ],
   "source": [
    "m.pi"
   ]
  },
  {
   "cell_type": "markdown",
   "id": "0e1b4e4d",
   "metadata": {},
   "source": [
    "Some `math` functions are irreplicable in base Python (outside of series approximations). Some of the most important are the trigonometric functions:"
   ]
  },
  {
   "cell_type": "code",
   "execution_count": 77,
   "id": "2bcfd924",
   "metadata": {},
   "outputs": [
    {
     "data": {
      "text/plain": [
       "0.8939966636005579"
      ]
     },
     "execution_count": 77,
     "metadata": {},
     "output_type": "execute_result"
    }
   ],
   "source": [
    "m.sin(90)"
   ]
  },
  {
   "cell_type": "markdown",
   "id": "ac94d638",
   "metadata": {},
   "source": [
    "Be careful when using them, though...the `math` trig functions assume that the input is in radians. Fortunately, `math` even has a function `radians()` to convert degree values to radian values."
   ]
  },
  {
   "cell_type": "code",
   "execution_count": 78,
   "id": "24322af8",
   "metadata": {},
   "outputs": [
    {
     "data": {
      "text/plain": [
       "1.5707963267948966"
      ]
     },
     "execution_count": 78,
     "metadata": {},
     "output_type": "execute_result"
    }
   ],
   "source": [
    "m.radians(90)"
   ]
  },
  {
   "cell_type": "code",
   "execution_count": 79,
   "id": "304c78a0",
   "metadata": {},
   "outputs": [
    {
     "data": {
      "text/plain": [
       "1.0"
      ]
     },
     "execution_count": 79,
     "metadata": {},
     "output_type": "execute_result"
    }
   ],
   "source": [
    "m.sin(m.radians(90)) # calculate the sine of 90 degrees"
   ]
  },
  {
   "cell_type": "markdown",
   "id": "daca10ab",
   "metadata": {},
   "source": [
    "We can also use the function `degrees()` to convert radian values to degrees. This can be useful when using the inverse trig functions present in `math`:"
   ]
  },
  {
   "cell_type": "code",
   "execution_count": 84,
   "id": "11c35923",
   "metadata": {},
   "outputs": [],
   "source": [
    "inv_cos = m.acos(1/m.sqrt(2)) # takes the inverse cosine of 1/sqrt(2)"
   ]
  },
  {
   "cell_type": "code",
   "execution_count": 85,
   "id": "a3d94981",
   "metadata": {},
   "outputs": [
    {
     "data": {
      "text/plain": [
       "45.00000000000001"
      ]
     },
     "execution_count": 85,
     "metadata": {},
     "output_type": "execute_result"
    }
   ],
   "source": [
    "m.degrees(inv_cos)"
   ]
  },
  {
   "cell_type": "markdown",
   "id": "927ed279",
   "metadata": {},
   "source": [
    "There's also functions for exponentiation and logarithms. As we've seen, `math` has its own `pow()` function:"
   ]
  },
  {
   "cell_type": "code",
   "execution_count": 86,
   "id": "7a54388a",
   "metadata": {},
   "outputs": [
    {
     "data": {
      "text/plain": [
       "8.0"
      ]
     },
     "execution_count": 86,
     "metadata": {},
     "output_type": "execute_result"
    }
   ],
   "source": [
    "m.pow(2, 3)"
   ]
  },
  {
   "cell_type": "markdown",
   "id": "2c9c39e4",
   "metadata": {},
   "source": [
    "There's also a function `exp()`, which raises $e$ to the power of the input:"
   ]
  },
  {
   "cell_type": "code",
   "execution_count": 87,
   "id": "b0dc9485",
   "metadata": {},
   "outputs": [
    {
     "data": {
      "text/plain": [
       "2.718281828459045"
      ]
     },
     "execution_count": 87,
     "metadata": {},
     "output_type": "execute_result"
    }
   ],
   "source": [
    "m.exp(1)"
   ]
  },
  {
   "cell_type": "markdown",
   "id": "7e583030",
   "metadata": {},
   "source": [
    "There's also a `log()` function. With one input, it takes the natural logarithm (i.e. log base $e$):"
   ]
  },
  {
   "cell_type": "code",
   "execution_count": 88,
   "id": "454400bf",
   "metadata": {},
   "outputs": [
    {
     "data": {
      "text/plain": [
       "1.0"
      ]
     },
     "execution_count": 88,
     "metadata": {},
     "output_type": "execute_result"
    }
   ],
   "source": [
    "m.log(m.e)"
   ]
  },
  {
   "cell_type": "code",
   "execution_count": 89,
   "id": "735bef27",
   "metadata": {},
   "outputs": [
    {
     "data": {
      "text/plain": [
       "2.0"
      ]
     },
     "execution_count": 89,
     "metadata": {},
     "output_type": "execute_result"
    }
   ],
   "source": [
    "m.log(m.exp(2))"
   ]
  },
  {
   "cell_type": "markdown",
   "id": "5315c028",
   "metadata": {},
   "source": [
    "However, you can add a second optional argument that changes the base of `log()` to whatever you'd like:"
   ]
  },
  {
   "cell_type": "code",
   "execution_count": 90,
   "id": "f88db034",
   "metadata": {},
   "outputs": [
    {
     "data": {
      "text/plain": [
       "3.0"
      ]
     },
     "execution_count": 90,
     "metadata": {},
     "output_type": "execute_result"
    }
   ],
   "source": [
    "m.log(8, 2)"
   ]
  },
  {
   "cell_type": "code",
   "execution_count": 93,
   "id": "af45184c",
   "metadata": {},
   "outputs": [
    {
     "data": {
      "text/plain": [
       "2.9999999999999996"
      ]
     },
     "execution_count": 93,
     "metadata": {},
     "output_type": "execute_result"
    }
   ],
   "source": [
    "m.log(1000, 10)"
   ]
  },
  {
   "cell_type": "markdown",
   "id": "0fcc0586",
   "metadata": {},
   "source": [
    "As you can see, these `log` functions can be subject to floating-point errors. There are some special functions that are generally more accurate: `log2()`, which takes the log base 2, and `log10`, which takes the log base 10:"
   ]
  },
  {
   "cell_type": "code",
   "execution_count": 94,
   "id": "a3cdc00f",
   "metadata": {},
   "outputs": [
    {
     "data": {
      "text/plain": [
       "3.0"
      ]
     },
     "execution_count": 94,
     "metadata": {},
     "output_type": "execute_result"
    }
   ],
   "source": [
    "m.log2(8)"
   ]
  },
  {
   "cell_type": "code",
   "execution_count": 95,
   "id": "5fe2afcc",
   "metadata": {},
   "outputs": [
    {
     "data": {
      "text/plain": [
       "3.0"
      ]
     },
     "execution_count": 95,
     "metadata": {},
     "output_type": "execute_result"
    }
   ],
   "source": [
    "m.log10(1000)"
   ]
  },
  {
   "cell_type": "markdown",
   "id": "2e75394a",
   "metadata": {},
   "source": [
    "Speaking of floating-point errors, `math` has some built-in solutions for floating-point errors. For example, let's try adding 0.1 ten times (a bit of a silly example since we could just do `0.1*10`, but bear with me):"
   ]
  },
  {
   "cell_type": "code",
   "execution_count": 96,
   "id": "2b8c53c7",
   "metadata": {},
   "outputs": [
    {
     "data": {
      "text/plain": [
       "0.9999999999999999"
      ]
     },
     "execution_count": 96,
     "metadata": {},
     "output_type": "execute_result"
    }
   ],
   "source": [
    "l = [0.1, 0.1, 0.1, 0.1, 0.1, 0.1, 0.1, 0.1, 0.1, 0.1]\n",
    "\n",
    "add = 0\n",
    "for i in l:\n",
    "    add += i\n",
    "\n",
    "add"
   ]
  },
  {
   "cell_type": "markdown",
   "id": "101cb58c",
   "metadata": {},
   "source": [
    "As you can see, the result is just a bit off from 1. To remedy this, we can use the `math` function `fsum()`, which saves us from writing a `for` loop as well as giving a more accurate answer:"
   ]
  },
  {
   "cell_type": "code",
   "execution_count": 97,
   "id": "f769c506",
   "metadata": {},
   "outputs": [
    {
     "data": {
      "text/plain": [
       "1.0"
      ]
     },
     "execution_count": 97,
     "metadata": {},
     "output_type": "execute_result"
    }
   ],
   "source": [
    "m.fsum(l)"
   ]
  },
  {
   "cell_type": "markdown",
   "id": "6880b0f2",
   "metadata": {},
   "source": [
    "There are plenty more functions that come with `math`, including those that can evaluate the error function, hyperbolic trig functions, the distance formula, and the Pythagorean theorem. The full documentation for the `math` library can be found at https://docs.python.org/3/library/math.html."
   ]
  }
 ],
 "metadata": {
  "kernelspec": {
   "display_name": "Python 3 (ipykernel)",
   "language": "python",
   "name": "python3"
  },
  "language_info": {
   "codemirror_mode": {
    "name": "ipython",
    "version": 3
   },
   "file_extension": ".py",
   "mimetype": "text/x-python",
   "name": "python",
   "nbconvert_exporter": "python",
   "pygments_lexer": "ipython3",
   "version": "3.9.16"
  }
 },
 "nbformat": 4,
 "nbformat_minor": 5
}
