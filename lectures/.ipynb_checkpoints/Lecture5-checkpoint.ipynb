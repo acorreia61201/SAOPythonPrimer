{
 "cells": [
  {
   "cell_type": "markdown",
   "id": "c4486ad6",
   "metadata": {},
   "source": [
    "# SAO/LIP Python Primer Course Lecture 5\n",
    "\n",
    "In this notebook, you will learn about:\n",
    "- Universal Functions\n",
    "- Manipulating Arrays\n",
    "- Array Operations\n",
    "- `numpy` I/O\n",
    "\n",
    "[![Open In Colab](https://colab.research.google.com/assets/colab-badge.svg)](https://colab.research.google.com/github/acorreia61201/SAOPythonPrimer/blob/main/lectures/Lecture5.ipynb)\n",
    "\n",
    "In the last lecture, we went over the basic beginnings of using `numpy` as part of a discussion on data structures. We'll continue talking about the `numpy` library and some of the powerful things you can do with it.\n",
    "\n",
    "## Universal Functions\n",
    "\n",
    "Recall that the `math` library has several functions for evaluating common functions:"
   ]
  },
  {
   "cell_type": "code",
   "execution_count": null,
   "id": "1704a441",
   "metadata": {},
   "outputs": [],
   "source": [
    "import math as m\n",
    "\n",
    "m.sin(m.pi/2)"
   ]
  },
  {
   "cell_type": "markdown",
   "id": "e2fc635e",
   "metadata": {},
   "source": [
    "If we want to apply an operation to a list of values, we can't just input the list into the function; we have to iterate over it using a loop:"
   ]
  },
  {
   "cell_type": "code",
   "execution_count": null,
   "id": "3655eed4",
   "metadata": {},
   "outputs": [],
   "source": [
    "import numpy as np\n",
    "\n",
    "test = np.linspace(-m.pi, m.pi, 11)\n",
    "results = np.empty(11)\n",
    "\n",
    "for i in range(test.shape[0]):\n",
    "    results[i] = m.sin(test[i])\n",
    "    \n",
    "results"
   ]
  },
  {
   "cell_type": "markdown",
   "id": "61e068ea",
   "metadata": {},
   "source": [
    "`numpy` provides a more memory- and time-efficient method of applying an operation to all elements in an array. We can instead use *universal functions* supplied by `numpy`. When applying them to one value, these functions are indistinguishable from their `math` counterparts:"
   ]
  },
  {
   "cell_type": "code",
   "execution_count": null,
   "id": "e737d675",
   "metadata": {},
   "outputs": [],
   "source": [
    "print(m.sin(m.pi))\n",
    "print(np.sin(m.pi))"
   ]
  },
  {
   "cell_type": "markdown",
   "id": "7155c2b0",
   "metadata": {},
   "source": [
    "However, look what happens when we input `test` in `numpy.sin()`:"
   ]
  },
  {
   "cell_type": "code",
   "execution_count": null,
   "id": "53834e1a",
   "metadata": {},
   "outputs": [],
   "source": [
    "np.sin(test)"
   ]
  },
  {
   "cell_type": "markdown",
   "id": "7fe5d179",
   "metadata": {},
   "source": [
    "It automatically takes the sine of all the values in `test`, with no extra effort on our part. `numpy` has a universal function counterpart for nearly every `math` function that works in the same way:"
   ]
  },
  {
   "cell_type": "code",
   "execution_count": null,
   "id": "9f7756fd",
   "metadata": {},
   "outputs": [],
   "source": [
    "np.ceil(test)"
   ]
  },
  {
   "cell_type": "code",
   "execution_count": null,
   "id": "198d7529",
   "metadata": {},
   "outputs": [],
   "source": [
    "np.rad2deg(test) # comparable to math.degrees()"
   ]
  },
  {
   "cell_type": "code",
   "execution_count": null,
   "id": "5fe16d70",
   "metadata": {},
   "outputs": [],
   "source": [
    "np.exp(test)"
   ]
  },
  {
   "cell_type": "markdown",
   "id": "06594fe3",
   "metadata": {},
   "source": [
    "There are even some equivalents to the fundamental constants found in `math` of the type `numpy.float64`:"
   ]
  },
  {
   "cell_type": "code",
   "execution_count": null,
   "id": "5d36a02d",
   "metadata": {},
   "outputs": [],
   "source": [
    "np.pi"
   ]
  },
  {
   "cell_type": "code",
   "execution_count": null,
   "id": "7e622c9e",
   "metadata": {},
   "outputs": [],
   "source": [
    "np.sin(np.pi)"
   ]
  },
  {
   "cell_type": "code",
   "execution_count": null,
   "id": "b3893bb1",
   "metadata": {},
   "outputs": [],
   "source": [
    "np.e"
   ]
  },
  {
   "cell_type": "code",
   "execution_count": null,
   "id": "c8c00665",
   "metadata": {},
   "outputs": [],
   "source": [
    "np.log(np.e)"
   ]
  },
  {
   "cell_type": "markdown",
   "id": "8a293cfd",
   "metadata": {},
   "source": [
    "Recall my warning about using import statements of the form `from library import function`. Here lies the reason; let's say I called `exp()` directly from `numpy` and `math`:"
   ]
  },
  {
   "cell_type": "code",
   "execution_count": null,
   "id": "1c60bc4d",
   "metadata": {},
   "outputs": [],
   "source": [
    "from numpy import exp\n",
    "from math import exp"
   ]
  },
  {
   "cell_type": "markdown",
   "id": "99edb887",
   "metadata": {},
   "source": [
    "Now, if I try to input an array into `exp()`, there's no way to tell which `exp()` I'm using until I get an error:"
   ]
  },
  {
   "cell_type": "code",
   "execution_count": null,
   "id": "5a09d072",
   "metadata": {},
   "outputs": [],
   "source": [
    "exp(test)"
   ]
  },
  {
   "cell_type": "markdown",
   "id": "ea783b1b",
   "metadata": {},
   "source": [
    "There are some instances when it's convenient to call functions directly from packages. In longer codes, however, it can get hard to track down where you may be importing functions. Use statements like this sparingly when writing your own codes.\n",
    "\n",
    "## Manipulating `numpy` Arrays\n",
    "\n",
    "Now that we know how to generate arrays, let's look into how we can modify them. Let's start with two arrays:"
   ]
  },
  {
   "cell_type": "code",
   "execution_count": null,
   "id": "c9c7618e",
   "metadata": {},
   "outputs": [],
   "source": [
    "x = np.array([1, 4, 6, 3, 5, 2])\n",
    "y = np.array([[7, 8]]) # The double bracket makes this a 2D array"
   ]
  },
  {
   "cell_type": "markdown",
   "id": "66b3050b",
   "metadata": {},
   "source": [
    "First, let's order the elements of `x` by using the `numpy.sort()` function:"
   ]
  },
  {
   "cell_type": "code",
   "execution_count": null,
   "id": "b22238fb",
   "metadata": {},
   "outputs": [],
   "source": [
    "np.sort(x)"
   ]
  },
  {
   "cell_type": "markdown",
   "id": "1d087543",
   "metadata": {},
   "source": [
    "Let's print `x` to check:"
   ]
  },
  {
   "cell_type": "code",
   "execution_count": null,
   "id": "8d028269",
   "metadata": {},
   "outputs": [],
   "source": [
    "x"
   ]
  },
  {
   "cell_type": "markdown",
   "id": "64f95c44",
   "metadata": {},
   "source": [
    "What happened? It turns out `numpy` functions that manipulate arrays don't do in-place modifications. If we want to overwrite the array with the sorted counterpart, we have to redefine `x` with the function above:"
   ]
  },
  {
   "cell_type": "code",
   "execution_count": null,
   "id": "4cbb55f4",
   "metadata": {},
   "outputs": [],
   "source": [
    "x = np.sort(x)\n",
    "x"
   ]
  },
  {
   "cell_type": "markdown",
   "id": "2549e255",
   "metadata": {},
   "source": [
    "We can also change the shape of an existing array using the `reshape()` method. Its input is a comma-separated list representing the shape you want the output to be. `numpy` will automatically distribute the elements to fit the new shape:"
   ]
  },
  {
   "cell_type": "code",
   "execution_count": null,
   "id": "4b2b7759",
   "metadata": {},
   "outputs": [],
   "source": [
    "x.reshape(2, 3)"
   ]
  },
  {
   "cell_type": "code",
   "execution_count": null,
   "id": "9708af3e",
   "metadata": {},
   "outputs": [],
   "source": [
    "x.reshape(6, 1)"
   ]
  },
  {
   "cell_type": "code",
   "execution_count": null,
   "id": "4c203249",
   "metadata": {},
   "outputs": [],
   "source": [
    "x.reshape(3, 1, 2)"
   ]
  },
  {
   "cell_type": "markdown",
   "id": "42e931e3",
   "metadata": {},
   "source": [
    "The shape input in `reshape` must contain the same number of elements as the original array. That is, `x.size` and `x.reshape().size` must be equal:"
   ]
  },
  {
   "cell_type": "code",
   "execution_count": null,
   "id": "b0be5953",
   "metadata": {},
   "outputs": [],
   "source": [
    "x.reshape(4, 2)"
   ]
  },
  {
   "cell_type": "markdown",
   "id": "ee2ae6d7",
   "metadata": {},
   "source": [
    "Let's use `x.reshape(3, 2)` so `x` and `y` will have the same number of columns:"
   ]
  },
  {
   "cell_type": "code",
   "execution_count": null,
   "id": "f9e0aa6e",
   "metadata": {},
   "outputs": [],
   "source": [
    "x = x.reshape(3,2)\n",
    "x"
   ]
  },
  {
   "cell_type": "markdown",
   "id": "094a1463",
   "metadata": {},
   "source": [
    "There are some unique manipulations with their own functions. The method `flatten()` reshapes the array to one dimension:"
   ]
  },
  {
   "cell_type": "code",
   "execution_count": null,
   "id": "b0808376",
   "metadata": {},
   "outputs": [],
   "source": [
    "x.flatten()"
   ]
  },
  {
   "cell_type": "markdown",
   "id": "fba6213e",
   "metadata": {},
   "source": [
    "The method `transpose()` takes the *transpose* of an array. In two dimensions, this equates to $x[a, b] \\rightarrow x[b, a]$ for all possible indices $a, b$."
   ]
  },
  {
   "cell_type": "code",
   "execution_count": null,
   "id": "0be1aabb",
   "metadata": {},
   "outputs": [],
   "source": [
    "x.transpose()"
   ]
  },
  {
   "cell_type": "markdown",
   "id": "eede8463",
   "metadata": {},
   "source": [
    "We can also use the attribute `T` to compactify the above statement:"
   ]
  },
  {
   "cell_type": "code",
   "execution_count": null,
   "id": "eb14ef7b",
   "metadata": {},
   "outputs": [],
   "source": [
    "x.T"
   ]
  },
  {
   "cell_type": "markdown",
   "id": "be086d16",
   "metadata": {},
   "source": [
    "We can combine two existing arrays using `numpy.concatenate()`. The only required input is a tuple containing the arrays you wish to combine. There's also a parameter `axis` that controls which axis to combine the arrays along. It defaults to 0, the highest-order axis. For example, using `axis = 0` to combine `x` and `y` will yield the following:"
   ]
  },
  {
   "cell_type": "code",
   "execution_count": null,
   "id": "decf5c3c",
   "metadata": {},
   "outputs": [],
   "source": [
    "np.concatenate((x, y))"
   ]
  },
  {
   "cell_type": "markdown",
   "id": "19579de9",
   "metadata": {},
   "source": [
    "There are some constraints to which arrays we can concatenate. All of the input arrays must have the same `ndim` value. Notice that when I defined `y`, I used a double bracket to denote it as a 2D array, even though it looks like a 1D array since it has one row. Let's see what happens if I redefine `y` as a 1D array:"
   ]
  },
  {
   "cell_type": "code",
   "execution_count": null,
   "id": "61c5f796",
   "metadata": {},
   "outputs": [],
   "source": [
    "y_eg = np.array([7, 8])\n",
    "np.concatenate((x, y_eg))"
   ]
  },
  {
   "cell_type": "markdown",
   "id": "e312126b",
   "metadata": {},
   "source": [
    "Fortunately, if you didn't initially define all your arrays to have the same number of dimensions, you can just use `reshape()`:"
   ]
  },
  {
   "cell_type": "code",
   "execution_count": null,
   "id": "e7fe6eda",
   "metadata": {},
   "outputs": [],
   "source": [
    "y_eg = y_eg.reshape(1, 2)\n",
    "y_eg"
   ]
  },
  {
   "cell_type": "code",
   "execution_count": null,
   "id": "04760f48",
   "metadata": {},
   "outputs": [],
   "source": [
    "np.concatenate((x, y_eg))"
   ]
  },
  {
   "cell_type": "markdown",
   "id": "5195106a",
   "metadata": {},
   "source": [
    "What will happen if I try to change the `axis` argument?"
   ]
  },
  {
   "cell_type": "code",
   "execution_count": null,
   "id": "97d801c1",
   "metadata": {},
   "outputs": [],
   "source": [
    "np.concatenate((x, y), axis=1)"
   ]
  },
  {
   "cell_type": "markdown",
   "id": "495004cc",
   "metadata": {},
   "source": [
    "This is another constraint: the sizes of the arrays along all axes except the axis of concatenation must be equivalent. That is, if we want to concatenate `x` and `y` along axis 1, then both arrays must have the same shape in axis 0. In this case, as the error above says, `x` has an axis 0 size of 3 and `y` has an axis 1 size of 1. If we want to add a new column to x as-is, we'd have to define a new array with an axis 0 with the correct size:"
   ]
  },
  {
   "cell_type": "code",
   "execution_count": null,
   "id": "90ac7ae6",
   "metadata": {},
   "outputs": [],
   "source": [
    "z = np.array([9, 10, 11])\n",
    "z = z.reshape(3, 1)\n",
    "z"
   ]
  },
  {
   "cell_type": "code",
   "execution_count": null,
   "id": "ff203757",
   "metadata": {},
   "outputs": [],
   "source": [
    "comb = np.concatenate((x, z), axis=1)\n",
    "comb"
   ]
  },
  {
   "cell_type": "markdown",
   "id": "49fd11e5",
   "metadata": {},
   "source": [
    "If we want to remove elements from an array, we can use `numpy.delete()`. The syntax is as follows:"
   ]
  },
  {
   "cell_type": "code",
   "execution_count": null,
   "id": "968dfae9",
   "metadata": {},
   "outputs": [],
   "source": [
    "np.delete(comb, 1, axis=0) # delete the second row"
   ]
  },
  {
   "cell_type": "code",
   "execution_count": null,
   "id": "5b57ae60",
   "metadata": {},
   "outputs": [],
   "source": [
    "np.delete(comb, 2, axis=1) # delete the last column"
   ]
  },
  {
   "cell_type": "markdown",
   "id": "e9557e71",
   "metadata": {},
   "source": [
    "The first argument is the array you wish to modify. The second argument is the index or indices you want to remove. The keyword argument `axis` again specifies on which axis you wish to apply the deletion. \n",
    "\n",
    "Note that slicing also works on the second argument, albeit with a slightly different syntax. We need to use the `slice()` built-in function, which has the same input syntax as `range()`:"
   ]
  },
  {
   "cell_type": "code",
   "execution_count": null,
   "id": "5cd36098",
   "metadata": {},
   "outputs": [],
   "source": [
    "np.delete(comb, slice(1, 3), axis=1) # delete the last two columns"
   ]
  },
  {
   "cell_type": "code",
   "execution_count": null,
   "id": "518046a2",
   "metadata": {},
   "outputs": [],
   "source": [
    "np.delete(comb, slice(0, 3, 2), axis=0) # delete the first and the last row"
   ]
  },
  {
   "cell_type": "markdown",
   "id": "4c5c33ba",
   "metadata": {},
   "source": [
    "## Array Operations\n",
    "\n",
    "One powerful use of arrays is to do linear algebra in Python. You can apply many common matrix operations to `numpy` arrays. The simplest of these is applying element-wise, which we can do with the basic arithmetic operators `+, -, *, /`."
   ]
  },
  {
   "cell_type": "code",
   "execution_count": null,
   "id": "e0291f8e",
   "metadata": {},
   "outputs": [],
   "source": [
    "vec_1 = np.array([1, 2, 3])\n",
    "vec_2 = np.copy(vec_1) # numpy.copy() is used to copy arrays similar to built-in list()\n",
    "ones = np.ones(3)"
   ]
  },
  {
   "cell_type": "code",
   "execution_count": null,
   "id": "b8ce5a45",
   "metadata": {},
   "outputs": [],
   "source": [
    "vec_1 + ones"
   ]
  },
  {
   "cell_type": "code",
   "execution_count": null,
   "id": "2e91c26c",
   "metadata": {},
   "outputs": [],
   "source": [
    "vec_1 - ones"
   ]
  },
  {
   "cell_type": "code",
   "execution_count": null,
   "id": "cf6b25bc",
   "metadata": {},
   "outputs": [],
   "source": [
    "vec_1 * vec_2"
   ]
  },
  {
   "cell_type": "code",
   "execution_count": null,
   "id": "334d935f",
   "metadata": {},
   "outputs": [],
   "source": [
    "ones / vec_1"
   ]
  },
  {
   "cell_type": "markdown",
   "id": "b2a1b913",
   "metadata": {},
   "source": [
    "`numpy` also supports *broadcasting* operations with scalars. That is, I can operate on an array with a scalar, and the operation will be applied to all elements in the array."
   ]
  },
  {
   "cell_type": "code",
   "execution_count": null,
   "id": "d93030bb",
   "metadata": {},
   "outputs": [],
   "source": [
    "vec_1 + 2.4"
   ]
  },
  {
   "cell_type": "code",
   "execution_count": null,
   "id": "3506b740",
   "metadata": {},
   "outputs": [],
   "source": [
    "vec_1 * np.pi"
   ]
  },
  {
   "cell_type": "markdown",
   "id": "51f2d994",
   "metadata": {},
   "source": [
    "Element-wise operations and broadcasting are useful in their own right, but as you probably know, there are many matrix operations that don't behave like this. `numpy` has built-ins for the most common vector and matrix operations. For example, we can take the *dot product* of two arrays, recalling that for two vectors $u$ and $v$ with $N$ elements each:\n",
    "\n",
    "\\begin{equation}\n",
    "u \\cdot v = \\sum_{i=0}^N u_iv_i\n",
    "\\end{equation}\n",
    "\n",
    "We can implement this with the function `numpy.dot()`:"
   ]
  },
  {
   "cell_type": "code",
   "execution_count": null,
   "id": "6781bba6",
   "metadata": {},
   "outputs": [],
   "source": [
    "np.dot(vec_1, vec_2)"
   ]
  },
  {
   "cell_type": "markdown",
   "id": "0ef328fe",
   "metadata": {},
   "source": [
    "We can also take a *cross product* of two arrays using `numpy.cross()`:"
   ]
  },
  {
   "cell_type": "code",
   "execution_count": null,
   "id": "9de086fd",
   "metadata": {},
   "outputs": [],
   "source": [
    "np.cross(vec_1, ones)"
   ]
  },
  {
   "cell_type": "markdown",
   "id": "f8adf2c5",
   "metadata": {},
   "source": [
    "Notice we've only dealt with 1D arrays, which stand in for vectors. We can do full matrix multiplication as well. If we define a matrix (i.e. a 2D array), we can use the above functions just as well as with vectors. `numpy.dot()` will return the result of regular matrix multiplication:"
   ]
  },
  {
   "cell_type": "code",
   "execution_count": null,
   "id": "15472456",
   "metadata": {},
   "outputs": [],
   "source": [
    "mat1 = np.array([[1, 2, 3], [4, 5, 6], [7, 8, 9]])\n",
    "mat2 = np.array([[7, 8, 9], [4, 5, 6], [1, 2, 3]])"
   ]
  },
  {
   "cell_type": "code",
   "execution_count": null,
   "id": "d8713333",
   "metadata": {},
   "outputs": [],
   "source": [
    "np.dot(mat1, mat2)"
   ]
  },
  {
   "cell_type": "markdown",
   "id": "5974c90a",
   "metadata": {},
   "source": [
    "This is fine to do matrix multiplication, but generally it's better to use the `numpy.matmul()` function for arrays with greater than 1 dimension:"
   ]
  },
  {
   "cell_type": "code",
   "execution_count": null,
   "id": "13f18e4b",
   "metadata": {},
   "outputs": [],
   "source": [
    "np.matmul(mat1, mat2)"
   ]
  },
  {
   "cell_type": "markdown",
   "id": "b6815a07",
   "metadata": {},
   "source": [
    "`numpy.cross()` has a special behavior. It treats each 2D array as a \"list\" of 1D arrays and calculates the cross product across each row of the matrices:"
   ]
  },
  {
   "cell_type": "code",
   "execution_count": null,
   "id": "316dd450",
   "metadata": {},
   "outputs": [],
   "source": [
    "np.cross(mat1, mat2)"
   ]
  },
  {
   "cell_type": "markdown",
   "id": "66412a3a",
   "metadata": {},
   "source": [
    "We can use keyword arguments to control across which axis the multiplication is done:"
   ]
  },
  {
   "cell_type": "code",
   "execution_count": null,
   "id": "8eb19b35",
   "metadata": {},
   "outputs": [],
   "source": [
    "np.cross(mat1, mat2, axisa=0, axisb=0)"
   ]
  },
  {
   "cell_type": "markdown",
   "id": "0b9b0238",
   "metadata": {},
   "source": [
    "In addition to these operations, `numpy` has a multitude of *aggregation functions*, which take in an array and output a singular value. Two examples of this are `numpy.max()` and `numpy.min()`, which respectively return the maximum or minimum value of an array:"
   ]
  },
  {
   "cell_type": "code",
   "execution_count": null,
   "id": "3aa6022d",
   "metadata": {},
   "outputs": [],
   "source": [
    "np.max(mat1)"
   ]
  },
  {
   "cell_type": "code",
   "execution_count": null,
   "id": "3948318d",
   "metadata": {},
   "outputs": [],
   "source": [
    "np.min(mat2)"
   ]
  },
  {
   "cell_type": "markdown",
   "id": "278fb3bf",
   "metadata": {},
   "source": [
    "All aggregation functions have optional keyword arguments that allow aggregation over one axis:"
   ]
  },
  {
   "cell_type": "code",
   "execution_count": null,
   "id": "2de36837",
   "metadata": {},
   "outputs": [],
   "source": [
    "np.max(mat1, axis=0)"
   ]
  },
  {
   "cell_type": "code",
   "execution_count": null,
   "id": "e57503b6",
   "metadata": {},
   "outputs": [],
   "source": [
    "np.min(mat1, axis=1)"
   ]
  },
  {
   "cell_type": "markdown",
   "id": "475673bc",
   "metadata": {},
   "source": [
    "Here are some examples of other aggregation functions:"
   ]
  },
  {
   "cell_type": "code",
   "execution_count": null,
   "id": "abadb991",
   "metadata": {},
   "outputs": [],
   "source": [
    "np.sum(mat1) # sum up all elements"
   ]
  },
  {
   "cell_type": "code",
   "execution_count": null,
   "id": "09642586",
   "metadata": {},
   "outputs": [],
   "source": [
    "np.prod(mat1) # multiply all elements together"
   ]
  },
  {
   "cell_type": "code",
   "execution_count": null,
   "id": "bf399dbc",
   "metadata": {},
   "outputs": [],
   "source": [
    "np.prod(mat1, axis=0) # to check this, let's only multiply the columns"
   ]
  },
  {
   "cell_type": "code",
   "execution_count": null,
   "id": "8c633f11",
   "metadata": {},
   "outputs": [],
   "source": [
    "np.mean(mat1) # take the arithmetic mean of all elements"
   ]
  },
  {
   "cell_type": "code",
   "execution_count": null,
   "id": "95d24eac",
   "metadata": {},
   "outputs": [],
   "source": [
    "np.std(mat1) # calculate the standard deviation of all elements"
   ]
  },
  {
   "cell_type": "markdown",
   "id": "d2eb8257",
   "metadata": {},
   "source": [
    "If you'd prefer, aggregation functions are also available as array methods:"
   ]
  },
  {
   "cell_type": "code",
   "execution_count": null,
   "id": "8bf6eba2",
   "metadata": {},
   "outputs": [],
   "source": [
    "mat1.max() # identical to np.max(mat1)"
   ]
  },
  {
   "cell_type": "markdown",
   "id": "5fb82c35",
   "metadata": {},
   "source": [
    "## I/O with `numpy`\n",
    "\n",
    "One important aspect of programming is *I/O*, short for *input/output*. As the name suggests, it deals with reading and writing files external to your program for saving results long-term. This is more common when dealing with lengthy codes that can produce several kilobytes or megabytes of data. I've dedicated an entire lecture to I/O in Python using base functions as well as another library `pandas`, but to finish our discussion of `numpy` (at least, the most essential bits) I'll introduce methods for saving and reading arrays.\n",
    "\n",
    "Let's generate an array below:"
   ]
  },
  {
   "cell_type": "code",
   "execution_count": null,
   "id": "0f0104b2",
   "metadata": {},
   "outputs": [],
   "source": [
    "a = np.array([1, 2, 3, 4, 5, 6])"
   ]
  },
  {
   "cell_type": "markdown",
   "id": "70664e96",
   "metadata": {},
   "source": [
    "If I want to save this array to an external file, I can use the function `numpy.save()`, with inputs `(filename, array)`."
   ]
  },
  {
   "cell_type": "code",
   "execution_count": null,
   "id": "3dfb6af7",
   "metadata": {},
   "outputs": [],
   "source": [
    "np.save('example', a)"
   ]
  },
  {
   "cell_type": "markdown",
   "id": "e95fabf5",
   "metadata": {},
   "source": [
    "This command created a new file, `example.npy`, in your current working directory (i.e. the directory from which you're currently running this notebook). If we want to load this array to a different variable, I can simply use `numpy.load()`, with the only required argument being the name of the file we're loading from:"
   ]
  },
  {
   "cell_type": "code",
   "execution_count": null,
   "id": "85c64e93",
   "metadata": {},
   "outputs": [],
   "source": [
    "b = np.load('example.npy')\n",
    "b"
   ]
  },
  {
   "cell_type": "markdown",
   "id": "629bda4f",
   "metadata": {},
   "source": [
    "That's the basics of it; as with most `numpy` functions there are some additional keyword arguments that give you more control over how they work. There are two additional functions `savetxt()` and `loadtxt()` that give you control over the file extensions for the external files (e.g. if we wanted to generate `txt` or `csv` files instead). For now, I'll leave the discussion on file types for when we discuss general I/O."
   ]
  }
 ],
 "metadata": {
  "kernelspec": {
   "display_name": "Python 3 (ipykernel)",
   "language": "python",
   "name": "python3"
  },
  "language_info": {
   "codemirror_mode": {
    "name": "ipython",
    "version": 3
   },
   "file_extension": ".py",
   "mimetype": "text/x-python",
   "name": "python",
   "nbconvert_exporter": "python",
   "pygments_lexer": "ipython3",
   "version": "3.9.16"
  }
 },
 "nbformat": 4,
 "nbformat_minor": 5
}
