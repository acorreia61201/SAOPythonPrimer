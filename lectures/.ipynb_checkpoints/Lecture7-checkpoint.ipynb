{
 "cells": [
  {
   "cell_type": "markdown",
   "id": "17c3aa68",
   "metadata": {},
   "source": [
    "# SAO/LIP Python Primer Course Lecture 7\n",
    "\n",
    "In this notebook, you will learn about:\n",
    "- File paths\n",
    "- I/O in base Python\n",
    "- The `pandas` library\n",
    "- Reading and viewing files in `pandas`\n",
    "- Manipulating datasets\n",
    "\n",
    "[![Open In Colab](https://colab.research.google.com/assets/colab-badge.svg)](https://colab.research.google.com/github/acorreia61201/SAOPythonPrimer/blob/main/lectures/Lecture7.ipynb)\n",
    "\n",
    "At the end of our discussion on `numpy`, we started covering the concept of *I/O*, or *input/output*. This is a useful feature that you can use to share or load large datasets. In this lecture, we'll cover two more methods to do this: using base Python, and using an external library `pandas`.\n",
    "\n",
    "## File Paths\n",
    "\n",
    "Before we get into that, it's important that we understand how files are stored on your computer. Understanding this is vital to opening files that may not be inside your current directory. We can use a library `os` to visualize how this works."
   ]
  },
  {
   "cell_type": "code",
   "execution_count": 1,
   "id": "4df6defe",
   "metadata": {},
   "outputs": [],
   "source": [
    "import os"
   ]
  },
  {
   "cell_type": "markdown",
   "id": "e013cfe6",
   "metadata": {},
   "source": [
    "Using this library requires basic knowledge of using Unix syntax. Most general-use computers use a *graphical user interface*, or *GUI*, to allow user interaction. This is the easiest way to use a computer, but when dealing with dozens or hundreds of files it becomes unwieldy quickly. An easy way to save time is with a *command-line interface*, or *CLI*, which allows for user interaction via text commands. The most widely-used CLI in scientific programming is the *Unix shell*, which is utilized by MacOS and most Linux distributions. Windows is the odd one out among popular operating systems; it uses a different CLI called Command Prompt. For this lecture, I'll be focusing exclusively on Unix syntax, which is standard in Python.\n",
    "\n",
    "When you open a terminal in a CLI, you won't have the same visual access to files as you do in a GUI. "
   ]
  }
 ],
 "metadata": {
  "kernelspec": {
   "display_name": "Python 3 (ipykernel)",
   "language": "python",
   "name": "python3"
  },
  "language_info": {
   "codemirror_mode": {
    "name": "ipython",
    "version": 3
   },
   "file_extension": ".py",
   "mimetype": "text/x-python",
   "name": "python",
   "nbconvert_exporter": "python",
   "pygments_lexer": "ipython3",
   "version": "3.9.16"
  }
 },
 "nbformat": 4,
 "nbformat_minor": 5
}
