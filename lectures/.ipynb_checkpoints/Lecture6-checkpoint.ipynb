{
 "cells": [
  {
   "cell_type": "markdown",
   "id": "f1ae7619",
   "metadata": {},
   "source": [
    "# SAO/LIP Python Primer Course Lecture 6\n",
    "\n",
    "In this notebook, you will learn about:\n",
    "- The `matplotlib` library\n",
    "- Implicit and explicit plotting syntax\n",
    "- Fine-tuning plot style\n",
    "- Basic plot types\n",
    "\n",
    "[![Open In Colab](https://colab.research.google.com/assets/colab-badge.svg)](https://colab.research.google.com/github/acorreia61201/SAOPythonPrimer/blob/main/lectures/Lecture6.ipynb)\n",
    "\n",
    "In scientific programming, the best way to present your results is a figure that summarizes trends in your data. Perhaps the most commonly used library for generating plots and figures in Python is `matplotlib`. In this lecture, we'll go over the basics of generating and customizing plots in Python using this library.\n",
    "\n",
    "## First Steps in `matplotlib`\n",
    "\n",
    "As per usual, we'll start by importing the proper libraries. For `matplotlib`, you'll almost always use a sublibrary called `pyplot` when generating plots, which we call using the following syntax. Before that, however, we should make sure it's installed:"
   ]
  },
  {
   "cell_type": "code",
   "execution_count": null,
   "id": "3a216c37",
   "metadata": {},
   "outputs": [],
   "source": [
    "!pip install matplotlib"
   ]
  },
  {
   "cell_type": "code",
   "execution_count": null,
   "id": "ad628d82",
   "metadata": {},
   "outputs": [],
   "source": [
    "import matplotlib.pyplot as plt"
   ]
  },
  {
   "cell_type": "markdown",
   "id": "3afea21d",
   "metadata": {},
   "source": [
    "From here, we can get right to plotting. We can use the function `plot()` to generate a simple line plot for any two lists. The basic syntax is as follows:"
   ]
  },
  {
   "cell_type": "code",
   "execution_count": null,
   "id": "f39c3f12",
   "metadata": {},
   "outputs": [],
   "source": [
    "plt.plot([1, 2, 3, 4], [8, 5, 7, 6])"
   ]
  },
  {
   "cell_type": "markdown",
   "id": "f51d0093",
   "metadata": {},
   "source": [
    "As you can see, the most basic `plot()` inputs require very little effort on our part. All we need is two lists or arrays - the first representing the $x$ coordinates and the second representing the $y$ coordinates. That being said, `plot()` does require that the inputs are the same length:"
   ]
  },
  {
   "cell_type": "code",
   "execution_count": null,
   "id": "798a84d6",
   "metadata": {},
   "outputs": [],
   "source": [
    "plt.plot([1, 2, 3, 4], [8, 5, 7, 6, 9])"
   ]
  },
  {
   "cell_type": "markdown",
   "id": "9f880ded",
   "metadata": {},
   "source": [
    "All plotting functions convert their inputs to `numpy` arrays if they aren't already. Consequently, we can also input arrays:"
   ]
  },
  {
   "cell_type": "code",
   "execution_count": null,
   "id": "775b5635",
   "metadata": {},
   "outputs": [],
   "source": [
    "import numpy as np\n",
    "x = np.linspace(0, 2*np.pi, 100)\n",
    "plt.plot(x, np.sin(x))"
   ]
  },
  {
   "cell_type": "markdown",
   "id": "942c3d4b",
   "metadata": {},
   "source": [
    "We can plot multiple lines on one plot by using another `plot` function with the desired inputs. `plot` will automatically recolor the different lines so that we can differentiate between them. The inputs to different `plot` commands don't necessarily have to be the same shape as each other."
   ]
  },
  {
   "cell_type": "code",
   "execution_count": null,
   "id": "d13d1987",
   "metadata": {},
   "outputs": [],
   "source": [
    "y = np.linspace(-2*np.pi, 2*np.pi, 200)\n",
    "plt.plot(x, np.sin(x))\n",
    "plt.plot(y, np.cos(y))"
   ]
  },
  {
   "cell_type": "markdown",
   "id": "3e6c1923",
   "metadata": {},
   "source": [
    "## Generating Plots using `subplots`\n",
    "\n",
    "Let's talk a little bit about the objects involved in generating a plot. Everything that's visible on a figure - including the axes, labels, lines, titles, and the figure itself - is an `Artist`. The entire figure generated, including the axes, labels, and lines, is a `Figure`. A `Figure` contains at least one `Axes` object, which is the region in which plotting takes place. This includes the title, x label, and y label for the plot (which we'll learn how to set later on). An `Axes` object also contains two or three `Axis` objects, which contain information on the how to set the ticks and tick labels on each axis. \n",
    "\n",
    "The method of plotting we used above automatically generates a `Figure` with one `Axes`, on which the inputs are then plotted. This is the *implicit* method of generating a plot, named so because generating each `Artist` is done for us. There's also an *explicit* method of generating a plot, in which we explicitly create the `Figure` and `Axes` objects. Let's recreate the first plot using this method, which employs the function `subplots()`:"
   ]
  },
  {
   "cell_type": "code",
   "execution_count": null,
   "id": "82e922fd",
   "metadata": {},
   "outputs": [],
   "source": [
    "fig, ax = plt.subplots()\n",
    "ax.plot([1, 2, 3, 4], [8, 5, 7, 6])"
   ]
  },
  {
   "cell_type": "markdown",
   "id": "7c6ae8b4",
   "metadata": {},
   "source": [
    "Now, instead of plotting using `plt.plot()`, we now have to specify the `Axes` we want to plot on. In this case, there's only one `Axes` that we called `ax`, so we just have to instead call `ax.plot()`. This may just sound like more work for no reason, but the power of this method shows itself when we want to generate multiple plots in the same `Figure`. We can pass two arguments into `subplots()` to specify the number of plots we want to generate. Now, `subplots` will return a tuple containing each `Axes` object:"
   ]
  },
  {
   "cell_type": "code",
   "execution_count": null,
   "id": "d53264f2",
   "metadata": {},
   "outputs": [],
   "source": [
    "fig, axs = plt.subplots(1, 2) # generate two Axes next to each other\n",
    "axs[0].plot(x, np.sin(x)) # plot sin(x) on the left axis\n",
    "axs[1].plot(x, np.cos(x)) # plot cos(x) on the right axis"
   ]
  },
  {
   "cell_type": "markdown",
   "id": "a3c2f9a6",
   "metadata": {},
   "source": [
    "The `Axes` objects generated by `subplots` will follow the same indexing syntax as an array:"
   ]
  },
  {
   "cell_type": "code",
   "execution_count": null,
   "id": "3bd7a960",
   "metadata": {},
   "outputs": [],
   "source": [
    "fig, axs = plt.subplots(2, 2) # generate a 2x2 grid of axes\n",
    "axs[0, 0].plot(x, np.sin(x)) # top left axis shows sin(x)\n",
    "axs[1, 0].plot(x, np.cos(x)) # bottom left axis shows cos(x)\n",
    "axs[1, 1].plot(x, np.exp(x)) # bottom right axis shows exp(x)"
   ]
  },
  {
   "cell_type": "markdown",
   "id": "dbc0e8f4",
   "metadata": {},
   "source": [
    "## Modifying Plots\n",
    "\n",
    "The plots we've generated above are very basic, and there's no information on the axes or plots telling the audience what these plots are. Luckily, `matplotlib` has plenty of options for modifying the looks of your plots and adding or changing information.\n",
    "\n",
    "### Size and Shape\n",
    "\n",
    "Let's start by modifying the `Axes` objects themselves. When creating a `Figure`, we can directly set its size. Using the explicit method, we do this by calling a keyword argument in `subplots()`:"
   ]
  },
  {
   "cell_type": "code",
   "execution_count": null,
   "id": "8163a886",
   "metadata": {},
   "outputs": [],
   "source": [
    "fig, ax = plt.subplots(figsize = (2, 6))\n",
    "ax.plot(x, np.sin(x))"
   ]
  },
  {
   "cell_type": "code",
   "execution_count": null,
   "id": "5b7c0505",
   "metadata": {},
   "outputs": [],
   "source": [
    "fig, ax = plt.subplots(figsize = (6, 2))\n",
    "ax.plot(x, np.sin(x))"
   ]
  },
  {
   "cell_type": "markdown",
   "id": "fe70275e",
   "metadata": {},
   "source": [
    "Using the implicit method, we need to use another function `figure()` that presets the `Figure` object."
   ]
  },
  {
   "cell_type": "code",
   "execution_count": null,
   "id": "ee6b1e78",
   "metadata": {},
   "outputs": [],
   "source": [
    "fig = plt.figure(figsize=(6, 2))\n",
    "plt.plot(x, np.sin(x))"
   ]
  },
  {
   "cell_type": "markdown",
   "id": "e4fa9a6e",
   "metadata": {},
   "source": [
    "Notice that these methods don't change the scales of the axes, just their length. That is, each plot above shows the range $[0, 2\\pi]$ on the x-axis and $[-1, 1]$ on the y-axis (with some extra white space). To change this with the explicit method, we use `set_xlim` and `set_ylim`:"
   ]
  },
  {
   "cell_type": "code",
   "execution_count": null,
   "id": "903290fd",
   "metadata": {},
   "outputs": [],
   "source": [
    "fig, ax = plt.subplots()\n",
    "ax.set_xlim(-1, 10)\n",
    "ax.set_ylim(-0.5, 0.5)\n",
    "ax.plot(x, np.sin(x))"
   ]
  },
  {
   "cell_type": "markdown",
   "id": "525b9d9e",
   "metadata": {},
   "source": [
    "Using the implicit method, we can use `xlim` and `ylim` to achieve the same effect:"
   ]
  },
  {
   "cell_type": "code",
   "execution_count": null,
   "id": "05d6b3da",
   "metadata": {},
   "outputs": [],
   "source": [
    "plt.xlim(-1, 10)\n",
    "plt.ylim(-0.5, 0.5)\n",
    "plt.plot(x, np.sin(x))"
   ]
  },
  {
   "cell_type": "markdown",
   "id": "bac455bd",
   "metadata": {},
   "source": [
    "### Setting Titles and Axis Labels\n",
    "\n",
    "To set a titles and axis labels with the implicit method, we can use `set_title`, `set_xlabel`, and `set_ylabel`: "
   ]
  },
  {
   "cell_type": "code",
   "execution_count": null,
   "id": "f5c9bf67",
   "metadata": {},
   "outputs": [],
   "source": [
    "a = np.linspace(0, 5, 100)\n",
    "plt.plot(a, -9.81*a*a/2)\n",
    "plt.title('Vertical position of an object in freefall')\n",
    "plt.xlabel('Time (seconds)')\n",
    "plt.ylabel('Position (meters)')"
   ]
  },
  {
   "cell_type": "markdown",
   "id": "01863833",
   "metadata": {},
   "source": [
    "The arguments of these commands are strings representing the labels themselves. `matplotlib` accepts LaTeX mathematical formatting in these strings:"
   ]
  },
  {
   "cell_type": "code",
   "execution_count": null,
   "id": "937862ea",
   "metadata": {},
   "outputs": [],
   "source": [
    "plt.plot(x, np.sin(x))\n",
    "plt.title('A Trig Function using LaTeX Formatting')\n",
    "plt.ylabel(r'$\\sin{\\theta}$') # the r before the string denotes a raw string; it bypasses Python standards like\n",
    "                              # \\t, which denotes a tab\n",
    "plt.xlabel(r'$\\theta$')"
   ]
  },
  {
   "cell_type": "markdown",
   "id": "83d0abf1",
   "metadata": {},
   "source": [
    "Using the explicit method, we instead have to use `set_title`, `set_xlabel`, and `set_ylabel`:"
   ]
  },
  {
   "cell_type": "code",
   "execution_count": null,
   "id": "0e02c48c",
   "metadata": {},
   "outputs": [],
   "source": [
    "fig, ax = plt.subplots()\n",
    "ax.plot(x, np.sin(x))\n",
    "ax.set_title('A Trig Function using LaTeX Formatting')\n",
    "ax.set_ylabel(r'$\\sin{\\theta}$')\n",
    "ax.set_xlabel(r'$\\theta$')"
   ]
  },
  {
   "cell_type": "markdown",
   "id": "309ef751",
   "metadata": {},
   "source": [
    "If we're using multiple axes, `set_title` will set a title for each individual `Axes`. If we want a title for the whole figure, we use `suptitle`:"
   ]
  },
  {
   "cell_type": "code",
   "execution_count": null,
   "id": "7f3b632b",
   "metadata": {},
   "outputs": [],
   "source": [
    "fig, axs = plt.subplots(1, 2, figsize=(10, 4))\n",
    "\n",
    "# On the left axis\n",
    "axs[0].plot(x, np.sin(x))\n",
    "axs[0].set_xlabel(r'$\\theta$')\n",
    "axs[0].set_title('The sine function')\n",
    "\n",
    "# On the right axis\n",
    "axs[1].plot(x, np.cos(x))\n",
    "axs[1].set_xlabel(r'$\\theta$')\n",
    "axs[1].set_title('The cosine function')\n",
    "\n",
    "# For the whole figure\n",
    "fig.suptitle('Some trig functions')"
   ]
  },
  {
   "cell_type": "markdown",
   "id": "86bc117a",
   "metadata": {},
   "source": [
    "### Legends\n",
    "\n",
    "When plotting multiple functions on the same figure, it's important to be able to discern between the two lines. We can set a legend that gives a label to each colored line on the figure. In each `plot` command, we can set a `label` keyword argument that assigns a label to that line. By subsequently calling `legend()`, a box with all of the labels and their corresponding lines will be generated in the \"best\" place on the figure."
   ]
  },
  {
   "cell_type": "code",
   "execution_count": null,
   "id": "9b14f145",
   "metadata": {},
   "outputs": [],
   "source": [
    "plt.plot(x, np.sin(x), label=r'$\\sin(\\theta)$')\n",
    "plt.plot(x, np.cos(x), label=r'$\\cos(\\theta)$')\n",
    "plt.legend()"
   ]
  },
  {
   "cell_type": "markdown",
   "id": "c888b99c",
   "metadata": {},
   "source": [
    "We can control where the legend is generated if its \"best\" position doesn't work for you. There are some predetermined strings that you can pass as keyword arguments to `legend()` to change the position:"
   ]
  },
  {
   "cell_type": "code",
   "execution_count": null,
   "id": "a30bc11d",
   "metadata": {},
   "outputs": [],
   "source": [
    "plt.plot(x, np.sin(x), label=r'$\\sin(\\theta)$')\n",
    "plt.plot(x, np.cos(x), label=r'$\\cos(\\theta)$')\n",
    "plt.legend(loc='lower right')"
   ]
  },
  {
   "cell_type": "code",
   "execution_count": null,
   "id": "0ed7a32a",
   "metadata": {},
   "outputs": [],
   "source": [
    "plt.plot(x, np.sin(x), label=r'$\\sin(\\theta)$')\n",
    "plt.plot(x, np.cos(x), label=r'$\\cos(\\theta)$')\n",
    "plt.legend(loc='center')"
   ]
  },
  {
   "cell_type": "markdown",
   "id": "a10d9e03",
   "metadata": {},
   "source": [
    "The syntax is the same for explicit generation, except you can generate a legend containing all of the labels from all axes:"
   ]
  },
  {
   "cell_type": "code",
   "execution_count": null,
   "id": "45b1a6a5",
   "metadata": {},
   "outputs": [],
   "source": [
    "fig, axs = plt.subplots(1, 2, figsize=(10, 6))\n",
    "axs[0].plot(a, np.sin(a), label=r'$\\sin(\\theta)$')\n",
    "axs[0].plot(a, np.cos(a), label=r'$\\cos(\\theta)$')\n",
    "axs[1].plot(a, np.exp(a), 'C2', label=r'$\\exp(\\theta)$') # we'll get into what 'C2' and 'C3' are in the next section\n",
    "axs[1].plot(a, np.log(a), 'C3', label=r'$\\ln(\\theta)$')\n",
    "fig.legend()"
   ]
  },
  {
   "cell_type": "markdown",
   "id": "7012a3a6",
   "metadata": {},
   "source": [
    "### Setting Line Styles and Colors\n",
    "\n",
    "Besides the automatic assignment by `matplotlib`, there are several options that allow you to change the style and colors of lines. All of these can be changed using keyword arguments for the `plot` functions, so the syntax will be the same for the implicit and explicit methods.\n",
    "\n",
    "If we want to change the color of a line, we can use the keyword `color`. The input for this can be a variety of things, all of which are detailed at https://matplotlib.org/stable/tutorials/colors/colors.html:"
   ]
  },
  {
   "cell_type": "code",
   "execution_count": null,
   "id": "d24e40cd",
   "metadata": {},
   "outputs": [],
   "source": [
    "# using hexcode\n",
    "plt.plot(x, np.sin(x), color='#19c674')"
   ]
  },
  {
   "cell_type": "code",
   "execution_count": null,
   "id": "114bfe48",
   "metadata": {},
   "outputs": [],
   "source": [
    "# using predefined strings\n",
    "plt.plot(x, np.sin(x), color='seagreen')"
   ]
  },
  {
   "cell_type": "code",
   "execution_count": null,
   "id": "795129bf",
   "metadata": {},
   "outputs": [],
   "source": [
    "# floats in the range [0, 1] represent grayscale, with 1 being white and 0 being black\n",
    "plt.plot(x, np.sin(x), color='0.65')"
   ]
  },
  {
   "cell_type": "code",
   "execution_count": null,
   "id": "d470bf5d",
   "metadata": {},
   "outputs": [],
   "source": [
    "# some colors have one-character shorthand; for example, 'b' stands for blue\n",
    "plt.plot(x, np.sin(x), color='b')"
   ]
  },
  {
   "cell_type": "markdown",
   "id": "d6cf2e9d",
   "metadata": {},
   "source": [
    "If we want to change how a line looks, we can use the keywords `linestyle` and `linewidth`. As you'd probably expect, `linewidth` determines the thickness of the line, and is measured in pts:"
   ]
  },
  {
   "cell_type": "code",
   "execution_count": null,
   "id": "dfbd56bb",
   "metadata": {},
   "outputs": [],
   "source": [
    "plt.plot(x, np.sin(x), linewidth=10)"
   ]
  },
  {
   "cell_type": "markdown",
   "id": "43c5bd67",
   "metadata": {},
   "source": [
    "`linestyle`, likewise, determines the style of the line. There are four predetermined strings (`solid`, `dotted`, `dashed`, `dashdot`) and a series of parameterized styles, all viewable at https://matplotlib.org/stable/gallery/lines_bars_and_markers/linestyles.html:"
   ]
  },
  {
   "cell_type": "code",
   "execution_count": null,
   "id": "d7214e9d",
   "metadata": {},
   "outputs": [],
   "source": [
    "plt.plot(x, np.sin(x), linestyle='dotted')"
   ]
  },
  {
   "cell_type": "code",
   "execution_count": null,
   "id": "8d63f2eb",
   "metadata": {},
   "outputs": [],
   "source": [
    "plt.plot(x, np.sin(x), linestyle='dashed')"
   ]
  },
  {
   "cell_type": "markdown",
   "id": "d7e0b45c",
   "metadata": {},
   "source": [
    "### Markers\n",
    "\n",
    "There are even several controls for changing the looks of the individual points on a line, otherwise known as *markers*. There are several keywords available to control the looks of these points, all of which are viewable at https://matplotlib.org/stable/gallery/lines_bars_and_markers/marker_reference.html."
   ]
  },
  {
   "cell_type": "code",
   "execution_count": null,
   "id": "da94dfb5",
   "metadata": {},
   "outputs": [],
   "source": [
    "# plot with small green squares\n",
    "plt.plot(x, np.sin(x), color='green', marker='s',  markersize=2.5)"
   ]
  },
  {
   "cell_type": "code",
   "execution_count": null,
   "id": "8ecff3d6",
   "metadata": {},
   "outputs": [],
   "source": [
    "# plot with red circles with a dashed line\n",
    "plt.plot(x, np.sin(x), linestyle='dashed', color='red', marker='o')"
   ]
  },
  {
   "cell_type": "code",
   "execution_count": null,
   "id": "a8135322",
   "metadata": {},
   "outputs": [],
   "source": [
    "# plot with big lowercase f's\n",
    "plt.plot(x, np.sin(x), marker='$f$', markersize=12)"
   ]
  },
  {
   "cell_type": "markdown",
   "id": "82c068eb",
   "metadata": {},
   "source": [
    "### Tick Marks\n",
    "\n",
    "We can also control the tick marks along the axes. Let's illustrate this with a grid, which we can generate with `grid()`. The gridlines are automatically positioned at the major tickmarks (i.e. the labelled lines along the axes)."
   ]
  },
  {
   "cell_type": "code",
   "execution_count": null,
   "id": "f2ebcfc7",
   "metadata": {},
   "outputs": [],
   "source": [
    "plt.plot(x, np.sin(x))\n",
    "plt.grid()"
   ]
  },
  {
   "cell_type": "markdown",
   "id": "2f6955a1",
   "metadata": {},
   "source": [
    "Since we're plotting from $0$ to $2\\pi$, it would be convenient if the x ticks were multiples of $\\pi$. We can do this with the implicit method using `xticks()` (or `set_xticks()` for the explicit method). The inputs are an iterable (i.e. a list, range, array, etc) that defines where the ticks are placed and an optional list of labels. "
   ]
  },
  {
   "cell_type": "code",
   "execution_count": null,
   "id": "6f15578f",
   "metadata": {},
   "outputs": [],
   "source": [
    "plt.plot(x, np.sin(x))\n",
    "plt.xticks(np.linspace(0, 2*np.pi, 5), [0, '$\\pi/2$', '$\\pi$', '$3\\pi/2$', '$2\\pi'])\n",
    "plt.grid()"
   ]
  },
  {
   "cell_type": "markdown",
   "id": "56acef6a",
   "metadata": {},
   "source": [
    "We can do the same for the y-axis with `yticks()` (or `set_yticks()`). Leaving out the second input in `xticks` or `yticks` will default to regular floats:"
   ]
  },
  {
   "cell_type": "code",
   "execution_count": null,
   "id": "e6b2fc5e",
   "metadata": {},
   "outputs": [],
   "source": [
    "plt.plot(x, np.sin(x))\n",
    "plt.xticks(np.linspace(0, 2*np.pi, 5), [0, '$\\pi/2$', '$\\pi$', '$3\\pi/2$', '$2\\pi'])\n",
    "plt.yticks(np.linspace(1, -1, 5))\n",
    "plt.grid()"
   ]
  },
  {
   "cell_type": "markdown",
   "id": "590640c7",
   "metadata": {},
   "source": [
    "### Horizontal and Vertical Lines\n",
    "\n",
    "We can plot horizontal or vertical lines using `plot` with list comprehension:"
   ]
  },
  {
   "cell_type": "code",
   "execution_count": null,
   "id": "55c58a5d",
   "metadata": {},
   "outputs": [],
   "source": [
    "plt.plot(x, [2 for i in x])"
   ]
  },
  {
   "cell_type": "code",
   "execution_count": null,
   "id": "c7950c2b",
   "metadata": {},
   "outputs": [],
   "source": [
    "plt.plot([4 for i in x], x)"
   ]
  },
  {
   "cell_type": "markdown",
   "id": "eca0ddc0",
   "metadata": {},
   "source": [
    "There are also two functions for doing this: `hlines` and `vlines`. The first input is a value or list where one or multiple lines will be plotted. The arguments `xmin` and `xmax` for `hlines` or `ymin` and `ymax` for `vlines` will determine the lengths of the lines"
   ]
  },
  {
   "cell_type": "code",
   "execution_count": null,
   "id": "fdb2ec03",
   "metadata": {},
   "outputs": [],
   "source": [
    "# plot horizontal lines at -1, 0, and 1\n",
    "plt.plot(x, np.sin(x))\n",
    "plt.hlines([-1, 0, 1], xmin=x[0], xmax=x[-1], linestyle='dashed', color='0.5')"
   ]
  },
  {
   "cell_type": "code",
   "execution_count": null,
   "id": "4eaf3359",
   "metadata": {},
   "outputs": [],
   "source": [
    "# plot vertical lines at 0, pi, and 2pi ranging from -.5 to .5\n",
    "plt.plot(x, np.sin(x))\n",
    "plt.vlines([0, np.pi, 2*np.pi], ymin=-0.5, ymax=0.5, linestyle='dashed', color='0.5')"
   ]
  },
  {
   "cell_type": "markdown",
   "id": "42299508",
   "metadata": {},
   "source": [
    "## Types of Plots\n",
    "\n",
    "There are many other functions for generating specialized plots. We'll look at some of the most common types here.\n",
    "\n",
    "Let's start with those most similar to `plot()`. Sometimes, a function will have some finer detail that gets compressed due to outliers. This happens most commonly when plotting exponentials or polynomials:"
   ]
  },
  {
   "cell_type": "code",
   "execution_count": null,
   "id": "77188845",
   "metadata": {},
   "outputs": [],
   "source": [
    "plt.plot(x, np.exp(x))"
   ]
  },
  {
   "cell_type": "markdown",
   "id": "77f21484",
   "metadata": {},
   "source": [
    "We can remedy this using the function `loglog`, which scales the values on each axis by taking the natural logarithm:"
   ]
  },
  {
   "cell_type": "code",
   "execution_count": null,
   "id": "b64861c6",
   "metadata": {},
   "outputs": [],
   "source": [
    "plt.loglog(x, np.exp(x))"
   ]
  },
  {
   "cell_type": "markdown",
   "id": "cdf6f0e8",
   "metadata": {},
   "source": [
    "In this case, it doesn't really make a difference. Furthermore, the plot seems to go off the left side, since $\\ln(0)$ is undefined. If we want to only scale the $y$ axis, we can use `semilogy()`:"
   ]
  },
  {
   "cell_type": "code",
   "execution_count": null,
   "id": "59feb349",
   "metadata": {},
   "outputs": [],
   "source": [
    "plt.semilogy(x, np.exp(x))"
   ]
  },
  {
   "cell_type": "markdown",
   "id": "e8279881",
   "metadata": {},
   "source": [
    "Since this plot is just of $e^x$, using `semilogy()` will make the function look like a straight line, since $\\ln(e^x)) = x$. Conversely, we can take the log of only the $x$ axis using `semilogx()`:"
   ]
  },
  {
   "cell_type": "code",
   "execution_count": null,
   "id": "f1ffcea5",
   "metadata": {},
   "outputs": [],
   "source": [
    "plt.semilogx(x, np.exp(x))"
   ]
  },
  {
   "cell_type": "markdown",
   "id": "c4aa0184",
   "metadata": {},
   "source": [
    "Branching off from `plot()`, we can use the function `scatter()` to plot only points without lines connecting them:"
   ]
  },
  {
   "cell_type": "code",
   "execution_count": null,
   "id": "db6f432f",
   "metadata": {},
   "outputs": [],
   "source": [
    "z = np.linspace(0, 2*np.pi, 20)\n",
    "plt.scatter(z, np.exp(z))"
   ]
  },
  {
   "cell_type": "markdown",
   "id": "8293a582",
   "metadata": {},
   "source": [
    "All of the marker modification arguments from above apply here:"
   ]
  },
  {
   "cell_type": "code",
   "execution_count": null,
   "id": "4799657f",
   "metadata": {},
   "outputs": [],
   "source": [
    "plt.scatter(z, np.exp(z), marker='v', color='orange')"
   ]
  },
  {
   "cell_type": "markdown",
   "id": "ebd3b588",
   "metadata": {},
   "source": [
    "To generate a scatterplot with errorbars, we can use `errorbar()`. This takes in two additional arguments `yerr` and `xerr`, which represent the errorbars along the y-axis and x-axis respectively."
   ]
  },
  {
   "cell_type": "code",
   "execution_count": null,
   "id": "e72b10f7",
   "metadata": {},
   "outputs": [],
   "source": [
    "yerr = 5*np.exp(z)/(z+1)**2\n",
    "plt.errorbar(z, np.exp(z), yerr=yerr, capsize=3, marker='o', markersize=5) # capsize sets the size of the horizontal\n",
    "                                                                           # bars on the errorbars"
   ]
  },
  {
   "cell_type": "markdown",
   "id": "d161b9c7",
   "metadata": {},
   "source": [
    "To generate a bar plot, we can use the function `bar()`. This inputs have a slightly different interpretation; the first argument can now be strings to represent each bar, and the second argument now controls the heights of the bars."
   ]
  },
  {
   "cell_type": "code",
   "execution_count": null,
   "id": "46408ac8",
   "metadata": {},
   "outputs": [],
   "source": [
    "fruits = ['apples', 'bananas', 'cherries', 'dates']\n",
    "counts = [40, 95, 35, 70]\n",
    "plt.bar(fruits, counts)"
   ]
  },
  {
   "cell_type": "markdown",
   "id": "e2d32587",
   "metadata": {},
   "source": [
    "The function `hist()` generates a histogram. It takes in one argument and automatically assigns the data within that argument to bins."
   ]
  },
  {
   "cell_type": "code",
   "execution_count": null,
   "id": "bd095c95",
   "metadata": {},
   "outputs": [],
   "source": [
    "data = np.random.uniform(-1, 1, 1000) # generate 1000 random points from a uniform distribution\n",
    "plt.hist(data)\n",
    "plt.ylabel('Frequency')\n",
    "plt.xlabel('Values')"
   ]
  },
  {
   "cell_type": "markdown",
   "id": "42530329",
   "metadata": {},
   "source": [
    "We can also control the number of bins with an optional second argument:"
   ]
  },
  {
   "cell_type": "code",
   "execution_count": null,
   "id": "d427e48b",
   "metadata": {},
   "outputs": [],
   "source": [
    "# use 5 bins\n",
    "plt.hist(data, 5)\n",
    "plt.ylabel('Frequency')\n",
    "plt.xlabel('Values')"
   ]
  },
  {
   "cell_type": "code",
   "execution_count": null,
   "id": "7eec702e",
   "metadata": {},
   "outputs": [],
   "source": [
    "# use 100 bins\n",
    "plt.hist(data, 100)\n",
    "plt.ylabel('Frequency')\n",
    "plt.xlabel('Values')"
   ]
  },
  {
   "cell_type": "markdown",
   "id": "0bdcd1fc",
   "metadata": {},
   "source": [
    "We can generate a 2D histogram with `hist2d`:"
   ]
  },
  {
   "cell_type": "code",
   "execution_count": null,
   "id": "dbfdb7b4",
   "metadata": {},
   "outputs": [],
   "source": [
    "data2 = 3*data + np.random.uniform(-1, 1, 1000)\n",
    "plt.hist2d(data, data2, bins=(30, 30)) # notice that we need to pass 2 bin values as a tuple\n",
    "plt.xlabel('data')\n",
    "plt.ylabel('data2')"
   ]
  },
  {
   "cell_type": "markdown",
   "id": "edc657da",
   "metadata": {},
   "source": [
    "These are only some of many plots that you can generate with `matplotlib`, and I've only shown some of the many options you can use to control the looks of your plots. If you'd like to know more, I encourage you to look through the official `matplotlib` documentation at https://matplotlib.org/stable/users/index.html.\n",
    "\n",
    "## Viewing and Saving Figures\n",
    "\n",
    "In Jupyter Notebook, figures produced with `matplotlib` are automatically printed below the cell, much like variables or function outputs. Each cell also produces its own `Figure` object that gets reset in the next cell. However, when using Python in an IDE or in the console, this same behavior may not occur. To show a plot, use the command `show()`:"
   ]
  },
  {
   "cell_type": "code",
   "execution_count": null,
   "id": "450a575a",
   "metadata": {},
   "outputs": [],
   "source": [
    "plt.plot(x, np.sin(x))\n",
    "plt.show()"
   ]
  },
  {
   "cell_type": "markdown",
   "id": "924aedb8",
   "metadata": {},
   "source": [
    "The figure gets reset after using `show()`, even within a cell. `show()` can also be used to display multiple plots from one cell."
   ]
  },
  {
   "cell_type": "code",
   "execution_count": null,
   "id": "856069ab",
   "metadata": {},
   "outputs": [],
   "source": [
    "plt.plot(x, np.sin(x))\n",
    "plt.show() # this should show only sin(x) and reset the axes\n",
    "plt.plot(x, np.cos(x))\n",
    "plt.show() # this should show only cos(x)"
   ]
  },
  {
   "cell_type": "markdown",
   "id": "5b0714f0",
   "metadata": {},
   "source": [
    "If you want to reset axes without showing the plot, you can use `clf()`:"
   ]
  },
  {
   "cell_type": "code",
   "execution_count": null,
   "id": "d82230f1",
   "metadata": {},
   "outputs": [],
   "source": [
    "plt.plot(x, np.sin(x))\n",
    "plt.clf() #clear the axes without showing sin(x)\n",
    "plt.plot(x, np.cos(x))\n",
    "plt.show() # this should only show cos(x)"
   ]
  },
  {
   "cell_type": "markdown",
   "id": "c5b49709",
   "metadata": {},
   "source": [
    "If you want to save a figure, use `savefig()`:"
   ]
  },
  {
   "cell_type": "code",
   "execution_count": null,
   "id": "23aec21f",
   "metadata": {},
   "outputs": [],
   "source": [
    "plt.plot(x, np.sin(x))\n",
    "plt.savefig('plt_sine_eg.png') # should create a new file called plt_sine_eg.png in current working directory"
   ]
  },
  {
   "cell_type": "markdown",
   "id": "be8164a2",
   "metadata": {},
   "source": [
    "All of these functions have some extra keyword arguments that control their behavior, which you can also read in the docs.\n",
    "\n",
    "Let's cover one final note on viewing plots in Jupyter Notebook. We can use a *magic function* to make our plots interactive. Let's do so below:"
   ]
  },
  {
   "cell_type": "code",
   "execution_count": null,
   "id": "0e69e596",
   "metadata": {},
   "outputs": [],
   "source": [
    "%matplotlib notebook"
   ]
  },
  {
   "cell_type": "markdown",
   "id": "2c74d48c",
   "metadata": {},
   "source": [
    "Now, there should be some extra controls that allow you to zoom into your plot. Try it below:"
   ]
  },
  {
   "cell_type": "code",
   "execution_count": null,
   "id": "54246dba",
   "metadata": {},
   "outputs": [],
   "source": [
    "plt.plot(x, np.sin(x))"
   ]
  },
  {
   "cell_type": "markdown",
   "id": "551b83fb",
   "metadata": {},
   "source": [
    "If you want to restore the original behavior, you can run the following:"
   ]
  },
  {
   "cell_type": "code",
   "execution_count": null,
   "id": "c2c7c848",
   "metadata": {},
   "outputs": [],
   "source": [
    "%matplotlib inline\n",
    "plt.plot(x, np.sin(x))"
   ]
  }
 ],
 "metadata": {
  "kernelspec": {
   "display_name": "Python 3 (ipykernel)",
   "language": "python",
   "name": "python3"
  },
  "language_info": {
   "codemirror_mode": {
    "name": "ipython",
    "version": 3
   },
   "file_extension": ".py",
   "mimetype": "text/x-python",
   "name": "python",
   "nbconvert_exporter": "python",
   "pygments_lexer": "ipython3",
   "version": "3.9.16"
  }
 },
 "nbformat": 4,
 "nbformat_minor": 5
}
