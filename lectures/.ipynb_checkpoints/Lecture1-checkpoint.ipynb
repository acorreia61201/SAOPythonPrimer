{
 "cells": [
  {
   "cell_type": "markdown",
   "id": "70899dd2",
   "metadata": {},
   "source": [
    "# SAO/LIP Python Primer Course Lecture 1\n",
    "\n",
    "In this notebook, you will learn about:\n",
    "- Jupyter Notebook basics\n",
    "- Data types\n",
    "- Basic arithmetic\n",
    "- Variables\n",
    "- Print statements\n",
    "\n",
    "[![Open In Colab](https://colab.research.google.com/assets/colab-badge.svg)](https://colab.research.google.com/github/acorreia61201/SAOPythonPrimer/blob/main/lectures/Lecture1.ipynb)"
   ]
  },
  {
   "cell_type": "markdown",
   "id": "ad17c565",
   "metadata": {},
   "source": [
    "## Intro to Jupyter Notebook\n",
    "\n",
    "Throughout this week, we will be using Jupyter Notebook during lectures and exercises. It's used throughout software development for visualization and short, modular codes like the ones you'll be seeing this week. There are several ways to download, edit, and run these notebooks:\n",
    "\n",
    "- For this week, I recommend using Colab (https://colab.research.google.com/). It's an online service that allows you to run notebooks on Google servers and requires no setup. Each notebook in Github should have a link that takes you directly to Colab.\n",
    "\n",
    "- If you'd prefer, you can also download the notebooks and open them using VSCode or Jupyter Notebook via Anaconda. It takes a bit of work to get these set up, but if you already have them installed it should be relatively easy to get the notebooks working once downloaded.\n",
    "\n",
    "However you decide to access these notebooks, you should now be able to run the code below. This is a *cell*. You can run the cell below using the play button (in Colab, it will show up to the left when you hover over it). \n",
    "\n",
    "Alternatively, you can click on the cell and use one of two keyboard shortcuts:\n",
    "- Shift + Enter will run the cell and automatically move you to the next cell\n",
    "- Ctrl/Cmd + Enter will run the cell without moving you forward\n",
    "\n",
    "For Colab users, you may get a warning on your first run. You can click \"Run Anyway\" if the notebook comes from a trusted source (which hopefully includes me)."
   ]
  },
  {
   "cell_type": "code",
   "execution_count": null,
   "id": "7982f85c",
   "metadata": {},
   "outputs": [],
   "source": [
    "answer = 1 + 3\n",
    "print(answer)"
   ]
  },
  {
   "cell_type": "markdown",
   "id": "21993493",
   "metadata": {},
   "source": [
    "When you ran the above cell, you should notice two things pop up. To the left of the cell, you should see a number in brackets (e.g. `[1]` or `[2]`). This counts the total number of code cells which have run in your notebook. For example, if you ran the above cell once, you should see `[1]`. If you run it again, you should see `[2]`.\n",
    "\n",
    "You should also see an output just below the cell (in this case, the number 4). Any outputs (including errors) from the cell will be shown below it upon execution. In this case, it prints the variable `answer`, which was defined in the first line as `1 + 3` (if you don't know what printing or variables are, don't worry; we'll cover them later on).\n",
    "\n",
    "Cells aren't exclusively for writing code. You may have noticed that the text I've written was also done in cells (if you didn't, you can see by double clicking one of the paragraphs above). These are *text cells*, and they're useful for including supplementary text, figures, etc. in your notebook. Text in these cells can be written using Markdown or basic LaTeX syntax, and cannot be run like normal code cells.\n",
    "\n",
    "Colab allows you to choose between text and code cells upon new cell creation. You can create a new cell after the currently selected cell by using the \"+ Code\" and \"+ Text\" options in the top left or when hovering over the line between cells.\n",
    "\n",
    "If you're using JupyterLab or VSCode, you can instead use the \"+\" button in the top left or press Esc + B to add a new cell after the one currently selected. There's a dropdown above that allows you to select between Code and Markdown cells, or you can use Esc + M to convert the current cell to Markdown and Esc + Y to convert the current cell to Code."
   ]
  },
  {
   "cell_type": "markdown",
   "id": "6de32b4f",
   "metadata": {},
   "source": [
    "## Python: First Steps\n",
    "\n",
    "Now that you have a basic grasp of Jupyter, let's dive into Python. For this week, I'll be using exclusively Python 3.x, the current and most widely-used version of Python. There are some minor differences between this and Python 2.x (mostly regarding print statements), but we can ignore them for now.\n",
    "\n",
    "### Data Types\n",
    "\n",
    "A key skill in Python is understanding what *data type* is being output by a code block. There are several data types both built-in to Python and included in separate packages, but there are some that are frequently used throughout all scientific computing.\n",
    "\n",
    "Nearly all numbers you see are one of two types: `int` or `float`. An `int` is an *integer*, more commonly known as a whole number or a number without decimal places. A `float` is a *floating-point number*, which may contain decimals. \n",
    "\n",
    "To check if a number is an `int` or a `float`, you can use the built-in function `type()`, as shown below:"
   ]
  },
  {
   "cell_type": "code",
   "execution_count": null,
   "id": "64a3b58e",
   "metadata": {},
   "outputs": [],
   "source": [
    "type(3)"
   ]
  },
  {
   "cell_type": "code",
   "execution_count": null,
   "id": "0d32a9ad",
   "metadata": {},
   "outputs": [],
   "source": [
    "type(3.14159)"
   ]
  },
  {
   "cell_type": "markdown",
   "id": "04b005de",
   "metadata": {},
   "source": [
    "The type is retrieved implicitly from the number (i.e. if the number has a decimal point, it's read as a `float`; else it's read as an `int`). Consequently, you can write integers as `float`s by including a decimal point at the end, like so:"
   ]
  },
  {
   "cell_type": "code",
   "execution_count": null,
   "id": "ede6b2c1",
   "metadata": {},
   "outputs": [],
   "source": [
    "type(3.)"
   ]
  },
  {
   "cell_type": "markdown",
   "id": "69e08e7d",
   "metadata": {},
   "source": [
    "Nearly all text outputted by Python programs will be a *string* of type `str`. These are denoted by quotation marks (`\"`) or asterisks (`'`) around some text. To check, you can again use the `type()` function:"
   ]
  },
  {
   "cell_type": "code",
   "execution_count": null,
   "id": "093c0ded",
   "metadata": {},
   "outputs": [],
   "source": [
    "type(\"Hello World!\")"
   ]
  },
  {
   "cell_type": "markdown",
   "id": "3144981c",
   "metadata": {},
   "source": [
    "You can even print numbers as strings by wrapping them in quotation marks or asterisks:"
   ]
  },
  {
   "cell_type": "code",
   "execution_count": null,
   "id": "790d7c39",
   "metadata": {},
   "outputs": [],
   "source": [
    "type(\"3.14159\")"
   ]
  },
  {
   "cell_type": "markdown",
   "id": "e70510e2",
   "metadata": {},
   "source": [
    "There is another type, `bool`, used for *Boolean operators*. These are used exclusively for logic, and primarily consist of `True` and `False`. These will become more significant once we get into loops."
   ]
  },
  {
   "cell_type": "code",
   "execution_count": null,
   "id": "e3404e1d",
   "metadata": {},
   "outputs": [],
   "source": [
    "type(True)"
   ]
  },
  {
   "cell_type": "markdown",
   "id": "5933887c",
   "metadata": {},
   "source": [
    "There's even a `NoneType`, used for when an object has no value assigned. You'll most often encounter this in errors."
   ]
  },
  {
   "cell_type": "code",
   "execution_count": null,
   "id": "feef1efd",
   "metadata": {},
   "outputs": [],
   "source": [
    "type(None)"
   ]
  },
  {
   "cell_type": "markdown",
   "id": "34d84911",
   "metadata": {},
   "source": [
    "Sometimes, you can force a value to be of a certain type. For example, if I want a number to be a string, I can use the function `str()` to convert it."
   ]
  },
  {
   "cell_type": "code",
   "execution_count": null,
   "id": "c99d744b",
   "metadata": {},
   "outputs": [],
   "source": [
    "str(3.14159)"
   ]
  },
  {
   "cell_type": "code",
   "execution_count": null,
   "id": "b3295608",
   "metadata": {},
   "outputs": [],
   "source": [
    "type(str(3.14159))"
   ]
  },
  {
   "cell_type": "markdown",
   "id": "8e1f2109",
   "metadata": {},
   "source": [
    "However, you generally can't do the inverse:"
   ]
  },
  {
   "cell_type": "code",
   "execution_count": null,
   "id": "9bf70718",
   "metadata": {},
   "outputs": [],
   "source": [
    "float(\"Hello World!\")"
   ]
  },
  {
   "cell_type": "markdown",
   "id": "f9d993cc",
   "metadata": {},
   "source": [
    "### Basic Arithmetic\n",
    "\n",
    "The simplest application of Python is as a regular calculator. You can type in any basic arithmetic problem, and you'll get an answer:"
   ]
  },
  {
   "cell_type": "code",
   "execution_count": null,
   "id": "c2ab8a8b",
   "metadata": {},
   "outputs": [],
   "source": [
    "3 + 5"
   ]
  },
  {
   "cell_type": "code",
   "execution_count": null,
   "id": "9ada2ebd",
   "metadata": {},
   "outputs": [],
   "source": [
    "5 - 3"
   ]
  },
  {
   "cell_type": "code",
   "execution_count": null,
   "id": "aae459a9",
   "metadata": {},
   "outputs": [],
   "source": [
    "5 * 3"
   ]
  },
  {
   "cell_type": "markdown",
   "id": "e8468884",
   "metadata": {},
   "source": [
    "It's important to be careful of the syntax for arithmetic operations. As you'd expect, `+`, `-`, `*`, and `/` are used for addition, subtraction, multiplication, and division respectively. You can only use curved parentheses (`()`); brackets (`[]`) and braces (`{}`) won't work. For exponents, use a double asterisk `**`:"
   ]
  },
  {
   "cell_type": "code",
   "execution_count": null,
   "id": "1cb9e12f",
   "metadata": {},
   "outputs": [],
   "source": [
    "2**3"
   ]
  },
  {
   "cell_type": "markdown",
   "id": "714121f1",
   "metadata": {},
   "source": [
    "You can also use the built-in function `pow()` if you'd prefer:"
   ]
  },
  {
   "cell_type": "code",
   "execution_count": null,
   "id": "53580ffa",
   "metadata": {},
   "outputs": [],
   "source": [
    "pow(2, 3)"
   ]
  },
  {
   "cell_type": "markdown",
   "id": "42918b64",
   "metadata": {},
   "source": [
    "As you'd probably expect, Python uses the standard order of operations (PEMDAS):"
   ]
  },
  {
   "cell_type": "code",
   "execution_count": null,
   "id": "43523d30",
   "metadata": {},
   "outputs": [],
   "source": [
    "2 + 3 * 5"
   ]
  },
  {
   "cell_type": "code",
   "execution_count": null,
   "id": "3303cadd",
   "metadata": {},
   "outputs": [],
   "source": [
    "3**(1+2)"
   ]
  },
  {
   "cell_type": "code",
   "execution_count": null,
   "id": "0e434876",
   "metadata": {},
   "outputs": [],
   "source": [
    "8 + 6 / (1 + 2)"
   ]
  },
  {
   "cell_type": "markdown",
   "id": "b5df1933",
   "metadata": {},
   "source": [
    "(Notice in the last example that Python can automatically convert the output of integer division to a `float` if necessary.)\n",
    "\n",
    "There are two additional operators built into Python, both of which relate to division. A double forward slash `//` performs *floor division*, which gives the largest possible integer value for dividing two numbers."
   ]
  },
  {
   "cell_type": "code",
   "execution_count": null,
   "id": "1e8de883",
   "metadata": {},
   "outputs": [],
   "source": [
    "7 // 3"
   ]
  },
  {
   "cell_type": "markdown",
   "id": "85d2f1a4",
   "metadata": {},
   "source": [
    "A percent sign `%` performs *modulo division*, which returns the remainder of the division of two numbers."
   ]
  },
  {
   "cell_type": "code",
   "execution_count": null,
   "id": "f6861038",
   "metadata": {},
   "outputs": [],
   "source": [
    "7 % 3"
   ]
  },
  {
   "cell_type": "markdown",
   "id": "4453dbf8",
   "metadata": {},
   "source": [
    "### Floating-Point Precision"
   ]
  },
  {
   "cell_type": "markdown",
   "id": "e638f837",
   "metadata": {},
   "source": [
    "Let's try another example, this time using `float`s:"
   ]
  },
  {
   "cell_type": "code",
   "execution_count": null,
   "id": "cf3b76e6",
   "metadata": {},
   "outputs": [],
   "source": [
    "5.1 - 3.1"
   ]
  },
  {
   "cell_type": "markdown",
   "id": "25b5b82a",
   "metadata": {},
   "source": [
    "Wait...that's not right. We should've gotten a value of 2 exactly, but Python gives something a little less than that. What happened?\n",
    "\n",
    "The answer lies in what's known as *floating-point precision*. When Python stores a number, it doesn't store the exact value. Instead, it stores the number using a certain amount of bits (a.k.a. some combination of powers of 2). Python defaults to using double-precision, which stores numbers on 53 bits. This means that the results from arithmetic can vary from the true value by $\\sim 2^{-53} \\sim 10^{-16}$, as seen here.\n",
    "\n",
    "Floating-point precision is unfortunately an annoying fact of Python programming and programming in general; we're sacrificing pinpoint accuracy for storage and performance efficiency. As a programmer, it's your job to spot floating-point errors and create methods to fix them. For example, we could recast the problem above in a few different ways:"
   ]
  },
  {
   "cell_type": "code",
   "execution_count": null,
   "id": "d6313620",
   "metadata": {},
   "outputs": [],
   "source": [
    "(51 - 31)/10"
   ]
  },
  {
   "cell_type": "code",
   "execution_count": null,
   "id": "c578f213",
   "metadata": {},
   "outputs": [],
   "source": [
    "round(5.1 - 3.1)"
   ]
  },
  {
   "cell_type": "markdown",
   "id": "edb2b0bd",
   "metadata": {},
   "source": [
    "You will most likely encounter floating-point errors many times this week and throughout the summer. We'll go into some more detail as to how to rectify these errors later on. For now, if you get a weird result that's just a *little bit* off of the expected value, it's probably not your fault.\n",
    "\n",
    "### Variables\n",
    "\n",
    "We now have a way to do basic operations. If we want to use a certain value multiple times, it can get pretty tiresome rewriting the same operation over and over or copying the same value to full machine precision. Therefore, we use *variables* to store data for later usage or modification. The syntax is very simple; if I wanted to save the result of `3 + 5, for example, I could write:"
   ]
  },
  {
   "cell_type": "code",
   "execution_count": null,
   "id": "6f93040a",
   "metadata": {},
   "outputs": [],
   "source": [
    "x = 3 + 5"
   ]
  },
  {
   "cell_type": "markdown",
   "id": "50376a50",
   "metadata": {},
   "source": [
    "The variable `x` has all the properties you'd expect of the result of `3 + 5`:"
   ]
  },
  {
   "cell_type": "code",
   "execution_count": null,
   "id": "168a2d47",
   "metadata": {},
   "outputs": [],
   "source": [
    "x"
   ]
  },
  {
   "cell_type": "code",
   "execution_count": null,
   "id": "fd7ed9f2",
   "metadata": {},
   "outputs": [],
   "source": [
    "type(x)"
   ]
  },
  {
   "cell_type": "markdown",
   "id": "5fb88520",
   "metadata": {},
   "source": [
    "Let's define another variable, `y`:"
   ]
  },
  {
   "cell_type": "code",
   "execution_count": null,
   "id": "7a90afab",
   "metadata": {},
   "outputs": [],
   "source": [
    "y = 5 * 4"
   ]
  },
  {
   "cell_type": "code",
   "execution_count": null,
   "id": "c28c2b09",
   "metadata": {},
   "outputs": [],
   "source": [
    "y"
   ]
  },
  {
   "cell_type": "markdown",
   "id": "a73bc405",
   "metadata": {},
   "source": [
    "These two variables now behave exactly like the numbers they represent:"
   ]
  },
  {
   "cell_type": "code",
   "execution_count": null,
   "id": "99086ce0",
   "metadata": {},
   "outputs": [],
   "source": [
    "x + y"
   ]
  },
  {
   "cell_type": "code",
   "execution_count": null,
   "id": "2adf9ca9",
   "metadata": {},
   "outputs": [],
   "source": [
    "y / x"
   ]
  },
  {
   "cell_type": "markdown",
   "id": "cf7a6bce",
   "metadata": {},
   "source": [
    "I can change the value of `x` by simply redefining the variable:"
   ]
  },
  {
   "cell_type": "code",
   "execution_count": null,
   "id": "cc247fab",
   "metadata": {},
   "outputs": [],
   "source": [
    "x = 9"
   ]
  },
  {
   "cell_type": "code",
   "execution_count": null,
   "id": "0ab55065",
   "metadata": {},
   "outputs": [],
   "source": [
    "x"
   ]
  },
  {
   "cell_type": "markdown",
   "id": "3ff76e67",
   "metadata": {},
   "source": [
    "Or I can do an *in-place modification* of `x` to change its value without redefining it. To do this, I can use the equals sign `=` preceded by one of the arithmetic operators `+, -, *, /`:"
   ]
  },
  {
   "cell_type": "code",
   "execution_count": null,
   "id": "72c0befe",
   "metadata": {},
   "outputs": [],
   "source": [
    "x += 2"
   ]
  },
  {
   "cell_type": "code",
   "execution_count": null,
   "id": "5b6c30eb",
   "metadata": {},
   "outputs": [],
   "source": [
    "x"
   ]
  },
  {
   "cell_type": "code",
   "execution_count": null,
   "id": "2f3f7fa3",
   "metadata": {},
   "outputs": [],
   "source": [
    "x *= 3"
   ]
  },
  {
   "cell_type": "code",
   "execution_count": null,
   "id": "1169a3ba",
   "metadata": {},
   "outputs": [],
   "source": [
    "x"
   ]
  },
  {
   "cell_type": "markdown",
   "id": "5366024f",
   "metadata": {},
   "source": [
    "You can name variables whatever you want, with two exceptions and two suggestions:\n",
    "- **Variable names cannot start with numbers, but may contain numbers.** That is, `x1` and `x2` are valid names, whereas `1x` is not.\n",
    "- **Never name a variable after a built-in function or value.** Doing so will break whatever else you try calling later on in your code. Jupyter Notebook and other IDEs (interactive development environments, e.g. VSCode, Spyder, etc) should automatically highlight these values so you know what names to avoid. An example:"
   ]
  },
  {
   "cell_type": "code",
   "execution_count": null,
   "id": "92b9ab72",
   "metadata": {},
   "outputs": [],
   "source": [
    "pow = 3**2"
   ]
  },
  {
   "cell_type": "code",
   "execution_count": null,
   "id": "199f4a83",
   "metadata": {},
   "outputs": [],
   "source": [
    "pow(5, 2)"
   ]
  },
  {
   "cell_type": "markdown",
   "id": "33de7d9e",
   "metadata": {},
   "source": [
    "- **Variable names are case-sensitive.** That is, `quotient` and `Quotient` are different values. For clarity, it may be best to avoid using both of these as variables in the same code.\n",
    "- **Try to make your variable names short but descriptive.** Some codes can have dozens of different variable names, so giving them short, unilluminating names like `x` and `y` can make it hard to trace back errors. On the other hand, giving overly verbose names like `three_squared` or `numerator_divided_by_denominator` can get cumbersome, especially when you have to use variables several times. Go for something short that you will remember or that someone else (i.e. you several months in the future) can easily decipher.\n",
    "\n",
    "### The `print` Statement\n",
    "\n",
    "You've probably noticed that when running a cell, the output is automatically printed out below the cell. This is alright if you have one-line cells, but what if you have multiple lines?"
   ]
  },
  {
   "cell_type": "code",
   "execution_count": null,
   "id": "ba4360b0",
   "metadata": {},
   "outputs": [],
   "source": [
    "4 + 3\n",
    "5 * 7"
   ]
  },
  {
   "cell_type": "markdown",
   "id": "dd5dab93",
   "metadata": {},
   "source": [
    "You see that only the last line gets printed. If we want to print out both lines, we can use a *`print` statement*. The function `print()` is all we need to implement this:"
   ]
  },
  {
   "cell_type": "code",
   "execution_count": null,
   "id": "456056db",
   "metadata": {},
   "outputs": [],
   "source": [
    "print(4 + 3)\n",
    "print(5 * 7)"
   ]
  },
  {
   "cell_type": "markdown",
   "id": "a5838f9f",
   "metadata": {},
   "source": [
    "You can print any data type using this method. You can even print multiple in one line using comma separation:"
   ]
  },
  {
   "cell_type": "code",
   "execution_count": null,
   "id": "604b39ae",
   "metadata": {},
   "outputs": [],
   "source": [
    "print(\"Hello world!\", 5 + 3, True)"
   ]
  },
  {
   "cell_type": "markdown",
   "id": "696e468b",
   "metadata": {},
   "source": [
    "Print statements are your best friend when writing and debugging code. Even if they feel redundant at times, they can be a great boon when trying to solve problems. Feel free to use them liberally throughout this week or the summer when you need them.\n",
    "\n",
    "If you want to format the value of a variable when printing a string, you can use *string formatting*. The general syntax is below:"
   ]
  },
  {
   "cell_type": "code",
   "execution_count": null,
   "id": "6cadaca4",
   "metadata": {},
   "outputs": [],
   "source": [
    "weight = 150\n",
    "print(\"Patient weight: {0} pounds\".format(weight))"
   ]
  },
  {
   "cell_type": "markdown",
   "id": "8e635525",
   "metadata": {},
   "source": [
    "Each value in the string is replaced with the index of the desired value in the list after the string. In this case, `weight` is the zeroth element in the list (that may seem weird; we'll get into it when we talk about lists) encased in `format()`, so we put `{0}` where we want its value to go. This can be done with multiple values by using a comma-separated list after the string:"
   ]
  },
  {
   "cell_type": "code",
   "execution_count": null,
   "id": "5b248f5e",
   "metadata": {},
   "outputs": [],
   "source": [
    "height = 71.5\n",
    "print(\"Patient is {0} inches tall and weighs {1} pounds\".format(height, weight))"
   ]
  },
  {
   "cell_type": "markdown",
   "id": "b8950c58",
   "metadata": {},
   "source": [
    "There are several options for string formatting, including if you want to print values as integers, percentages, or in scientific notation. There are several online resources that explain every option available to you (e.g. https://www.pythoncheatsheet.org/cheatsheet/string-formatting)."
   ]
  }
 ],
 "metadata": {
  "kernelspec": {
   "display_name": "Python 3 (ipykernel)",
   "language": "python",
   "name": "python3"
  },
  "language_info": {
   "codemirror_mode": {
    "name": "ipython",
    "version": 3
   },
   "file_extension": ".py",
   "mimetype": "text/x-python",
   "name": "python",
   "nbconvert_exporter": "python",
   "pygments_lexer": "ipython3",
   "version": "3.9.16"
  }
 },
 "nbformat": 4,
 "nbformat_minor": 5
}
