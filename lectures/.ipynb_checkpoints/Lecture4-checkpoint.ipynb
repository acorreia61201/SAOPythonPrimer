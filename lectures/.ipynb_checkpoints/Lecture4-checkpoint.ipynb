{
 "cells": [
  {
   "cell_type": "markdown",
   "id": "cc9e4654",
   "metadata": {},
   "source": [
    "# SAO/LIP Python Primer Course Lecture 4\n",
    "\n",
    "In this notebook, you will learn about:\n",
    "- List Comprehension\n",
    "- Generating Lists with `numpy`\n",
    "- Dictionaries\n",
    "\n",
    "[![Open In Colab](https://colab.research.google.com/assets/colab-badge.svg)](https://colab.research.google.com/github/acorreia61201/SAOPythonPrimer/blob/main/lectures/Lecture4.ipynb)\n",
    "\n",
    "By now, you've gotten a decent amount of experience with lists and iteration. Let's go over some more robust techniques for generating lists, including with the `numpy` library, another widely-used library throughout scientific computing. \n",
    "\n",
    "## List Comprehension\n",
    "\n",
    "First, let's go over *list comprehension*, an automated method of generating lists with iteration. "
   ]
  }
 ],
 "metadata": {
  "kernelspec": {
   "display_name": "Python 3 (ipykernel)",
   "language": "python",
   "name": "python3"
  },
  "language_info": {
   "codemirror_mode": {
    "name": "ipython",
    "version": 3
   },
   "file_extension": ".py",
   "mimetype": "text/x-python",
   "name": "python",
   "nbconvert_exporter": "python",
   "pygments_lexer": "ipython3",
   "version": "3.9.16"
  }
 },
 "nbformat": 4,
 "nbformat_minor": 5
}
