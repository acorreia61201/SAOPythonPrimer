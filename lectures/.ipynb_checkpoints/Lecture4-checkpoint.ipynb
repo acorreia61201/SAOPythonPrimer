{
 "cells": [
  {
   "cell_type": "markdown",
   "id": "cc9e4654",
   "metadata": {},
   "source": [
    "# SAO/LIP Python Primer Course Lecture 4\n",
    "\n",
    "In this notebook, you will learn about:\n",
    "- List Comprehension\n",
    "- Dictionaries\n",
    "- The `numpy` Library\n",
    "- `numpy` Array Generation\n",
    "- Properties of Arrays\n",
    "\n",
    "[![Open In Colab](https://colab.research.google.com/assets/colab-badge.svg)](https://colab.research.google.com/github/acorreia61201/SAOPythonPrimer/blob/main/lectures/Lecture4.ipynb)\n",
    "\n",
    "By now, you've gotten a decent amount of experience with lists and iteration. Let's go over some more robust techniques for generating sequences of data, including with the `numpy` library, another widely-used library throughout scientific computing. \n",
    "\n",
    "## List Comprehension\n",
    "\n",
    "First, let's go over *list comprehension*, an automated method of generating lists with iteration. In the last exercise set, you were asked to generate a list of numbers from $-\\pi$ to $\\pi$ using only what we've covered so far:"
   ]
  },
  {
   "cell_type": "code",
   "execution_count": 1,
   "id": "9020062c",
   "metadata": {},
   "outputs": [
    {
     "data": {
      "text/plain": [
       "[-3.141592653589793,\n",
       " -2.827433388230814,\n",
       " -2.5132741228718345,\n",
       " -2.199114857512855,\n",
       " -1.8849555921538759,\n",
       " -1.5707963267948966,\n",
       " -1.2566370614359172,\n",
       " -0.9424777960769379,\n",
       " -0.6283185307179586,\n",
       " -0.3141592653589793,\n",
       " 0.0,\n",
       " 0.3141592653589793,\n",
       " 0.6283185307179586,\n",
       " 0.9424777960769379,\n",
       " 1.2566370614359172,\n",
       " 1.5707963267948966,\n",
       " 1.8849555921538759,\n",
       " 2.199114857512855,\n",
       " 2.5132741228718345,\n",
       " 2.827433388230814,\n",
       " 3.141592653589793]"
      ]
     },
     "execution_count": 1,
     "metadata": {},
     "output_type": "execute_result"
    }
   ],
   "source": [
    "import math as m\n",
    "\n",
    "test = list(range(-10, 11)) # list of 20 integers from -10 to 10 (recall the stop arg is excluded)\n",
    "\n",
    "for i in range(len(test)):\n",
    "    test[i] *= m.pi/10 # scale [-10, 10] to [-pi, pi]\n",
    "    \n",
    "test"
   ]
  },
  {
   "cell_type": "markdown",
   "id": "051fe455",
   "metadata": {},
   "source": [
    "We can actually combine the list generation and iteration into one statement using list comprehension. In fact, we can rewrite the first line altogether using list comprehension; let's do so down below:"
   ]
  },
  {
   "cell_type": "code",
   "execution_count": 2,
   "id": "c98c8821",
   "metadata": {},
   "outputs": [
    {
     "data": {
      "text/plain": [
       "[-10, -9, -8, -7, -6, -5, -4, -3, -2, -1, 0, 1, 2, 3, 4, 5, 6, 7, 8, 9, 10]"
      ]
     },
     "execution_count": 2,
     "metadata": {},
     "output_type": "execute_result"
    }
   ],
   "source": [
    "test2 = [-10 + i for i in range(21)]\n",
    "test2"
   ]
  },
  {
   "cell_type": "markdown",
   "id": "9557d62f",
   "metadata": {},
   "source": [
    "You can see we get the same result as if we used the syntax above:"
   ]
  },
  {
   "cell_type": "code",
   "execution_count": 4,
   "id": "c554d982",
   "metadata": {},
   "outputs": [
    {
     "data": {
      "text/plain": [
       "[-10, -9, -8, -7, -6, -5, -4, -3, -2, -1, 0, 1, 2, 3, 4, 5, 6, 7, 8, 9, 10]"
      ]
     },
     "execution_count": 4,
     "metadata": {},
     "output_type": "execute_result"
    }
   ],
   "source": [
    "test = list(range(-10, 11))\n",
    "test"
   ]
  },
  {
   "cell_type": "markdown",
   "id": "0cbd2b21",
   "metadata": {},
   "source": [
    "Here, we can see the basic syntax for list comprehension. When defining a list, you use the format `list = [expression for item in iterable]`, where `expression` defines how to calculate each element and `item` represents whatever you're iterating over in your `iterable`. Essentially, the syntax can be rewritten as a `for` loop as follows:"
   ]
  },
  {
   "cell_type": "code",
   "execution_count": 6,
   "id": "70d20b98",
   "metadata": {},
   "outputs": [
    {
     "data": {
      "text/plain": [
       "[-10, -9, -8, -7, -6, -5, -4, -3, -2, -1, 0, 1, 2, 3, 4, 5, 6, 7, 8, 9, 10]"
      ]
     },
     "execution_count": 6,
     "metadata": {},
     "output_type": "execute_result"
    }
   ],
   "source": [
    "test2 = []\n",
    "for i in range(21):\n",
    "    test2.append(-10 + i)\n",
    "    \n",
    "test2"
   ]
  },
  {
   "cell_type": "markdown",
   "id": "71a29a4b",
   "metadata": {},
   "source": [
    "Let's rewrite all the code from above in one line using list comprehension:"
   ]
  },
  {
   "cell_type": "code",
   "execution_count": 8,
   "id": "97fd4b1f",
   "metadata": {},
   "outputs": [
    {
     "data": {
      "text/plain": [
       "[-3.141592653589793,\n",
       " -2.827433388230814,\n",
       " -2.5132741228718345,\n",
       " -2.199114857512855,\n",
       " -1.8849555921538759,\n",
       " -1.5707963267948966,\n",
       " -1.2566370614359172,\n",
       " -0.9424777960769379,\n",
       " -0.6283185307179586,\n",
       " -0.3141592653589793,\n",
       " 0.0,\n",
       " 0.3141592653589793,\n",
       " 0.6283185307179586,\n",
       " 0.9424777960769379,\n",
       " 1.2566370614359172,\n",
       " 1.5707963267948966,\n",
       " 1.8849555921538759,\n",
       " 2.199114857512855,\n",
       " 2.5132741228718345,\n",
       " 2.827433388230814,\n",
       " 3.141592653589793]"
      ]
     },
     "execution_count": 8,
     "metadata": {},
     "output_type": "execute_result"
    }
   ],
   "source": [
    "test2 = [i * m.pi/10 for i in range(-10, 11)]\n",
    "test2"
   ]
  },
  {
   "cell_type": "markdown",
   "id": "4d01c563",
   "metadata": {},
   "source": [
    "Here, we iterate over the range $[-10, 10]$, and we generate a list where each element is a value in that range multiplied by $\\pi/10$.\n",
    "\n",
    "We can also apply `if` conditions when using list comprehension. For example, let's say I have the following list:"
   ]
  },
  {
   "cell_type": "code",
   "execution_count": 10,
   "id": "d3ae04db",
   "metadata": {},
   "outputs": [],
   "source": [
    "fruits = ['apples', 'blueberries', 'cherries', 'dates', 'eggplants']"
   ]
  },
  {
   "cell_type": "markdown",
   "id": "3c4295c3",
   "metadata": {},
   "source": [
    "Let's say I wanted to filter this list so that it only contains fruits that contain the letter a. We can do this by iterating over this list and saving them to a new list only if they contain an a:"
   ]
  },
  {
   "cell_type": "code",
   "execution_count": 11,
   "id": "e21db081",
   "metadata": {},
   "outputs": [
    {
     "data": {
      "text/plain": [
       "['apples', 'dates', 'eggplants']"
      ]
     },
     "execution_count": 11,
     "metadata": {},
     "output_type": "execute_result"
    }
   ],
   "source": [
    "a_fruits = [x for x in fruits if 'a' in x]\n",
    "a_fruits"
   ]
  },
  {
   "cell_type": "markdown",
   "id": "72873d11",
   "metadata": {},
   "source": [
    "(Note the if statement; the syntax `'substring' in string` is another condition that returns `True` if the string contains `'substring'`.) Here, we've placed the filter after the `for` statement that iterates over `fruits`. We can also include an `if` statement within the condition at the start to control what gets output when certain conditions are met. For example, let's say I wanted to make all the values in `test2` non-negative. I can write:"
   ]
  },
  {
   "cell_type": "code",
   "execution_count": 14,
   "id": "d0cf1e66",
   "metadata": {},
   "outputs": [
    {
     "data": {
      "text/plain": [
       "[3.141592653589793,\n",
       " 2.827433388230814,\n",
       " 2.5132741228718345,\n",
       " 2.199114857512855,\n",
       " 1.8849555921538759,\n",
       " 1.5707963267948966,\n",
       " 1.2566370614359172,\n",
       " 0.9424777960769379,\n",
       " 0.6283185307179586,\n",
       " 0.3141592653589793,\n",
       " 0.0,\n",
       " 0.3141592653589793,\n",
       " 0.6283185307179586,\n",
       " 0.9424777960769379,\n",
       " 1.2566370614359172,\n",
       " 1.5707963267948966,\n",
       " 1.8849555921538759,\n",
       " 2.199114857512855,\n",
       " 2.5132741228718345,\n",
       " 2.827433388230814,\n",
       " 3.141592653589793]"
      ]
     },
     "execution_count": 14,
     "metadata": {},
     "output_type": "execute_result"
    }
   ],
   "source": [
    "test3 = [x if x >= 0. else -x for x in test2]\n",
    "test3"
   ]
  },
  {
   "cell_type": "markdown",
   "id": "e95492f3",
   "metadata": {},
   "source": [
    "Here, I generate a new list `test3` using `test2`. If the value in `test2` is non-negative (i.e. greater than or equal to zero), I simply append that value to `test3`. Otherwise, if the value is less than zero, I negate it and add it to `test3`. There are many other uses for list comprehension; knowing when and how to use them can greatly simplify generating lists when doing numerical analyses."
   ]
  },
  {
   "cell_type": "markdown",
   "id": "53841b8b",
   "metadata": {},
   "source": [
    "## Dictionaries\n",
    "\n",
    "So far, all of the data structures we've encountered have been indexed entirely by ordered integer values. Sometimes, it's convenient to store values based not on arbitrary integer values but by some more descriptive or otherwise related value. In Python, there's another data type used exactly for this purpose: the *dictionary*. Unlike lists, which store single data types indexed by integers, dictionaries store *values* that can be referred to by *keys*. \n",
    "\n",
    "Let's set up an analogy: Say I wanted to store the names of students in a class I'm teaching. I could easily do this using a list:"
   ]
  },
  {
   "cell_type": "code",
   "execution_count": 15,
   "id": "b3d2ea67",
   "metadata": {},
   "outputs": [],
   "source": [
    "student_list = ['Alice', 'Ben', 'Carlos']"
   ]
  },
  {
   "cell_type": "markdown",
   "id": "8a737b16",
   "metadata": {},
   "source": [
    "As you know, I can call the name of a student using their index in the list. Conversely, I could use `index()` to get what index the student's name takes up:"
   ]
  },
  {
   "cell_type": "code",
   "execution_count": 17,
   "id": "5ba3395d",
   "metadata": {},
   "outputs": [
    {
     "data": {
      "text/plain": [
       "'Ben'"
      ]
     },
     "execution_count": 17,
     "metadata": {},
     "output_type": "execute_result"
    }
   ],
   "source": [
    "student_list[1]"
   ]
  },
  {
   "cell_type": "code",
   "execution_count": 18,
   "id": "f86aedd1",
   "metadata": {},
   "outputs": [
    {
     "data": {
      "text/plain": [
       "2"
      ]
     },
     "execution_count": 18,
     "metadata": {},
     "output_type": "execute_result"
    }
   ],
   "source": [
    "student_list.index('Carlos')"
   ]
  },
  {
   "cell_type": "markdown",
   "id": "21ecf8bf",
   "metadata": {},
   "source": [
    "This is trivial for three students, but what if I had 50 students? It would get annoying if I had to run `index()` every time I wanted to pull up a new student. Furthermore, what if I wanted to simultaneously store information about their grades with their names? I could just use tuples, but recall that tuples are immutable; I'd have to redefine the elements every time their grade updated, and I'd have to remember both their name and their grade to use `index()`.\n",
    "\n",
    "We can simplify these problems using a dictionary:"
   ]
  },
  {
   "cell_type": "code",
   "execution_count": 19,
   "id": "2ebca4aa",
   "metadata": {},
   "outputs": [],
   "source": [
    "student_dict = {'Alice': 92, 'Ben': 74, 'Carlos': 83}"
   ]
  },
  {
   "cell_type": "markdown",
   "id": "4da74a5c",
   "metadata": {},
   "source": [
    "This shows the basic syntax of a dictionary; the elements form a comma-separated list encased in braces `{}` with entries of the format `key: value`. The keys serve the same role as indices in tuples or lists, and calling them will refer to the values assigned to them. For example, if I want to read a value (e.g. the student's grade), I can search the dictionary for the key (e.g. the student's name):"
   ]
  },
  {
   "cell_type": "code",
   "execution_count": 20,
   "id": "ecdac740",
   "metadata": {},
   "outputs": [
    {
     "data": {
      "text/plain": [
       "92"
      ]
     },
     "execution_count": 20,
     "metadata": {},
     "output_type": "execute_result"
    }
   ],
   "source": [
    "student_dict['Alice']"
   ]
  },
  {
   "cell_type": "markdown",
   "id": "01d4c6f4",
   "metadata": {},
   "source": [
    "I can add new elements to the dictionary by key:"
   ]
  },
  {
   "cell_type": "code",
   "execution_count": 21,
   "id": "fc3e8cd5",
   "metadata": {},
   "outputs": [
    {
     "data": {
      "text/plain": [
       "{'Alice': 92, 'Ben': 74, 'Carlos': 83, 'Emma': 79}"
      ]
     },
     "execution_count": 21,
     "metadata": {},
     "output_type": "execute_result"
    }
   ],
   "source": [
    "student_dict['Emma'] = 79\n",
    "student_dict"
   ]
  },
  {
   "cell_type": "markdown",
   "id": "ee7aa7e0",
   "metadata": {},
   "source": [
    "Be careful when using this, however. Duplicate keys aren't allowed in a `dict`; using the code above for an existing key will replace its value:"
   ]
  },
  {
   "cell_type": "code",
   "execution_count": 22,
   "id": "1428b2a2",
   "metadata": {},
   "outputs": [
    {
     "data": {
      "text/plain": [
       "{'Alice': 72, 'Ben': 74, 'Carlos': 83, 'Emma': 79}"
      ]
     },
     "execution_count": 22,
     "metadata": {},
     "output_type": "execute_result"
    }
   ],
   "source": [
    "student_dict['Alice'] = 72\n",
    "student_dict"
   ]
  },
  {
   "cell_type": "markdown",
   "id": "b203af73",
   "metadata": {},
   "source": [
    "There are a couple of techniques I can use to list the keys in a `dict`. Mapping a dictionary to a list will return a list of the keys:"
   ]
  },
  {
   "cell_type": "code",
   "execution_count": 23,
   "id": "c1715275",
   "metadata": {},
   "outputs": [
    {
     "data": {
      "text/plain": [
       "['Alice', 'Ben', 'Carlos', 'Emma']"
      ]
     },
     "execution_count": 23,
     "metadata": {},
     "output_type": "execute_result"
    }
   ],
   "source": [
    "dict_list = list(student_dict)\n",
    "dict_list"
   ]
  },
  {
   "cell_type": "markdown",
   "id": "d8d35e57",
   "metadata": {},
   "source": [
    "There's also a method `items()` that will return the `key: value` pairs as an iterable of tuples:"
   ]
  },
  {
   "cell_type": "code",
   "execution_count": 24,
   "id": "9341a992",
   "metadata": {},
   "outputs": [
    {
     "data": {
      "text/plain": [
       "dict_items([('Alice', 72), ('Ben', 74), ('Carlos', 83), ('Emma', 79)])"
      ]
     },
     "execution_count": 24,
     "metadata": {},
     "output_type": "execute_result"
    }
   ],
   "source": [
    "student_dict.items()"
   ]
  },
  {
   "cell_type": "markdown",
   "id": "83fbec29",
   "metadata": {},
   "source": [
    "We can use this to print out the `key: value` pairs in a loop:"
   ]
  },
  {
   "cell_type": "code",
   "execution_count": 27,
   "id": "0954bfb1",
   "metadata": {},
   "outputs": [
    {
     "name": "stdout",
     "output_type": "stream",
     "text": [
      "Alice got a 72 on the last assignment\n",
      "Ben got a 74 on the last assignment\n",
      "Carlos got a 83 on the last assignment\n",
      "Emma got a 79 on the last assignment\n"
     ]
    }
   ],
   "source": [
    "for name, grade in student_dict.items():\n",
    "    print('{0} got a {1} on the last assignment'.format(name, grade))"
   ]
  },
  {
   "cell_type": "markdown",
   "id": "dda508fa",
   "metadata": {},
   "source": [
    "If we want to delete an existing `key: value` pair from a dictionary, we can use the `del` keyword:"
   ]
  },
  {
   "cell_type": "code",
   "execution_count": 29,
   "id": "fdbea0fe",
   "metadata": {},
   "outputs": [
    {
     "data": {
      "text/plain": [
       "{'Alice': 72, 'Ben': 74, 'Carlos': 83}"
      ]
     },
     "execution_count": 29,
     "metadata": {},
     "output_type": "execute_result"
    }
   ],
   "source": [
    "del student_dict['Emma']\n",
    "student_dict"
   ]
  },
  {
   "cell_type": "markdown",
   "id": "97ba45e5",
   "metadata": {},
   "source": [
    "When generating `student_dict`, I wrote exactly what gets printed to screen. However, there are some other ways to generate dictionaries that will produce the same result. I can use the `dict()` function and input a list of tuples representing the `key: value` pairs:"
   ]
  },
  {
   "cell_type": "code",
   "execution_count": 30,
   "id": "0fbcf463",
   "metadata": {},
   "outputs": [
    {
     "data": {
      "text/plain": [
       "{'Alice': 92, 'Ben': 74, 'Carlos': 83}"
      ]
     },
     "execution_count": 30,
     "metadata": {},
     "output_type": "execute_result"
    }
   ],
   "source": [
    "student_dict2 = dict([('Alice', 92), ('Ben', 74), ('Carlos', 83)])\n",
    "student_dict2"
   ]
  },
  {
   "cell_type": "markdown",
   "id": "5796a363",
   "metadata": {},
   "source": [
    "We can also use `dict()` by inputting a comma-separated list of variable definitions. The variables will then be interpreted as string keys when the dictionary is created:"
   ]
  },
  {
   "cell_type": "code",
   "execution_count": 31,
   "id": "669daee9",
   "metadata": {},
   "outputs": [
    {
     "data": {
      "text/plain": [
       "{'Alice': 92, 'Ben': 74, 'Carlos': 83}"
      ]
     },
     "execution_count": 31,
     "metadata": {},
     "output_type": "execute_result"
    }
   ],
   "source": [
    "student_dict3 = dict(Alice=92, Ben=74, Carlos=83)\n",
    "student_dict3"
   ]
  },
  {
   "cell_type": "markdown",
   "id": "9714518f",
   "metadata": {},
   "source": [
    "We can even use a method similar to list comprehension to automatically generate dictionaries. For example, let's say I wanted to create a dictionary where the square roots of integers are keyed by the integers themselves. I can write:"
   ]
  },
  {
   "cell_type": "code",
   "execution_count": 28,
   "id": "832422e5",
   "metadata": {},
   "outputs": [
    {
     "data": {
      "text/plain": [
       "{0: 0.0,\n",
       " 1: 1.0,\n",
       " 2: 1.4142135623730951,\n",
       " 3: 1.7320508075688772,\n",
       " 4: 2.0,\n",
       " 5: 2.23606797749979,\n",
       " 6: 2.449489742783178,\n",
       " 7: 2.6457513110645907,\n",
       " 8: 2.8284271247461903,\n",
       " 9: 3.0,\n",
       " 10: 3.1622776601683795}"
      ]
     },
     "execution_count": 28,
     "metadata": {},
     "output_type": "execute_result"
    }
   ],
   "source": [
    "from math import sqrt\n",
    "\n",
    "sqrt_dict = {x: sqrt(x) for x in range(11)}\n",
    "sqrt_dict"
   ]
  },
  {
   "cell_type": "markdown",
   "id": "71f025bd",
   "metadata": {},
   "source": [
    "Using dictionaries is invaluable in scientific programming, such as when you need to keep track of multiple parameter values during a simulation. Deciding between using tuples, lists, and dictionaries is another of many skill you'll develop as you become more familiar with Python.\n",
    "\n",
    "## The `numpy` Library\n",
    "\n",
    "There are even more types for storing multiple data elements that we can retrieve from libraries. One of these libraries is `numpy`, used throughout scientific programming for doing numerical linear algebra and advanced mathematics.\n",
    "\n",
    "This library, along with many others, may not come prepackaged with all Python installations. To install packages, we can use `pip`, the default library installer for Python. We can install `numpy` with the cell below. We use an operator `!` at the start, which in Jupyter Notebook treats the statement as if we were running it on a Unix command line. If `numpy` is already installed, we'll get a line that says `Requirement already satisfied: numpy in <path>`."
   ]
  },
  {
   "cell_type": "code",
   "execution_count": 32,
   "id": "b737fd8d",
   "metadata": {},
   "outputs": [
    {
     "name": "stdout",
     "output_type": "stream",
     "text": [
      "Requirement already satisfied: numpy in /home/acorreia7/anaconda3/lib/python3.9/site-packages (1.23.5)\r\n"
     ]
    }
   ],
   "source": [
    "!pip install numpy"
   ]
  },
  {
   "cell_type": "markdown",
   "id": "986d3e13",
   "metadata": {},
   "source": [
    "Now that we're sure that `numpy` is installed, we can import it like any other library:"
   ]
  },
  {
   "cell_type": "code",
   "execution_count": 33,
   "id": "b603c076",
   "metadata": {},
   "outputs": [],
   "source": [
    "import numpy as np"
   ]
  },
  {
   "cell_type": "markdown",
   "id": "2970ff30",
   "metadata": {},
   "source": [
    "### The `ndarray` Type\n",
    "\n",
    "One of the main features of `numpy` is the introduction of a new data type: the *array*. The simplest way of creating an array is by using the function `numpy.array()` to convert a list to this new data type:"
   ]
  },
  {
   "cell_type": "code",
   "execution_count": 41,
   "id": "1456beb4",
   "metadata": {},
   "outputs": [
    {
     "data": {
      "text/plain": [
       "array([1, 2, 3])"
      ]
     },
     "execution_count": 41,
     "metadata": {},
     "output_type": "execute_result"
    }
   ],
   "source": [
    "vec = np.array([1, 2, 3])\n",
    "vec"
   ]
  },
  {
   "cell_type": "markdown",
   "id": "6543d94f",
   "metadata": {},
   "source": [
    "We can see that, when printing out `a`, we get the same list back, albeit encased in this new `array()` type. We can use `type` to see this further."
   ]
  },
  {
   "cell_type": "code",
   "execution_count": 42,
   "id": "acdeb921",
   "metadata": {},
   "outputs": [
    {
     "data": {
      "text/plain": [
       "numpy.ndarray"
      ]
     },
     "execution_count": 42,
     "metadata": {},
     "output_type": "execute_result"
    }
   ],
   "source": [
    "type(vec)"
   ]
  },
  {
   "cell_type": "markdown",
   "id": "d468a892",
   "metadata": {},
   "source": [
    "The internal type for `numpy` arrays is `numpy.ndarray`, which stands for *n-dimensional array*. This name implies an important difference over Python lists and dictionaries: we can generate multidimensional data structures. For example, all of the data types we've seen so far have been either zero-dimensional (i.e. single values like strings and numbers) or one-dimensional (i.e. lists, tuples, dictionaries). In `numpy`, we can generate a two-dimensional array using `numpy.array()`:"
   ]
  },
  {
   "cell_type": "code",
   "execution_count": 45,
   "id": "4a197624",
   "metadata": {},
   "outputs": [
    {
     "data": {
      "text/plain": [
       "array([[ 1,  2,  3,  4],\n",
       "       [ 5,  6,  7,  8],\n",
       "       [ 9, 10, 11, 12]])"
      ]
     },
     "execution_count": 45,
     "metadata": {},
     "output_type": "execute_result"
    }
   ],
   "source": [
    "mat = np.array([[1, 2, 3, 4], [5, 6, 7, 8], [9, 10, 11, 12]])\n",
    "mat"
   ]
  },
  {
   "cell_type": "markdown",
   "id": "6090be98",
   "metadata": {},
   "source": [
    "We can see that this is essentially what we'd consider a matrix. The syntax for generating this array is a list of lists, with each list representing a row in the matrix. The function requires that all of the nested lists are the same *shape*:"
   ]
  },
  {
   "cell_type": "code",
   "execution_count": 47,
   "id": "06cd8b3e",
   "metadata": {},
   "outputs": [
    {
     "ename": "ValueError",
     "evalue": "setting an array element with a sequence. The requested array has an inhomogeneous shape after 1 dimensions. The detected shape was (3,) + inhomogeneous part.",
     "output_type": "error",
     "traceback": [
      "\u001b[0;31m---------------------------------------------------------------------------\u001b[0m",
      "\u001b[0;31mValueError\u001b[0m                                Traceback (most recent call last)",
      "Cell \u001b[0;32mIn[47], line 1\u001b[0m\n\u001b[0;32m----> 1\u001b[0m mat2 \u001b[38;5;241m=\u001b[39m \u001b[43mnp\u001b[49m\u001b[38;5;241;43m.\u001b[39;49m\u001b[43marray\u001b[49m\u001b[43m(\u001b[49m\u001b[43m[\u001b[49m\u001b[43m[\u001b[49m\u001b[38;5;241;43m1\u001b[39;49m\u001b[43m,\u001b[49m\u001b[43m \u001b[49m\u001b[38;5;241;43m2\u001b[39;49m\u001b[43m,\u001b[49m\u001b[43m \u001b[49m\u001b[38;5;241;43m3\u001b[39;49m\u001b[43m,\u001b[49m\u001b[43m \u001b[49m\u001b[38;5;241;43m4\u001b[39;49m\u001b[43m]\u001b[49m\u001b[43m,\u001b[49m\u001b[43m \u001b[49m\u001b[43m[\u001b[49m\u001b[38;5;241;43m4\u001b[39;49m\u001b[43m,\u001b[49m\u001b[43m \u001b[49m\u001b[38;5;241;43m5\u001b[39;49m\u001b[43m]\u001b[49m\u001b[43m,\u001b[49m\u001b[43m \u001b[49m\u001b[43m[\u001b[49m\u001b[38;5;241;43m6\u001b[39;49m\u001b[43m,\u001b[49m\u001b[43m \u001b[49m\u001b[38;5;241;43m7\u001b[39;49m\u001b[43m,\u001b[49m\u001b[43m \u001b[49m\u001b[38;5;241;43m8\u001b[39;49m\u001b[43m,\u001b[49m\u001b[43m \u001b[49m\u001b[38;5;241;43m9\u001b[39;49m\u001b[43m]\u001b[49m\u001b[43m]\u001b[49m\u001b[43m)\u001b[49m\n\u001b[1;32m      2\u001b[0m mat2\n",
      "\u001b[0;31mValueError\u001b[0m: setting an array element with a sequence. The requested array has an inhomogeneous shape after 1 dimensions. The detected shape was (3,) + inhomogeneous part."
     ]
    }
   ],
   "source": [
    "mat2 = np.array([[1, 2, 3, 4], [4, 5], [6, 7, 8, 9]])\n",
    "mat2"
   ]
  },
  {
   "cell_type": "markdown",
   "id": "588512fc",
   "metadata": {},
   "source": [
    "Shape is a generalized term for the length of a list or 1D array. We can use `numpy.shape()` to look at the shapes of our arrays `vec` and `mat` from above:"
   ]
  },
  {
   "cell_type": "code",
   "execution_count": 48,
   "id": "4bc1417f",
   "metadata": {},
   "outputs": [
    {
     "data": {
      "text/plain": [
       "(3,)"
      ]
     },
     "execution_count": 48,
     "metadata": {},
     "output_type": "execute_result"
    }
   ],
   "source": [
    "np.shape(vec)"
   ]
  },
  {
   "cell_type": "code",
   "execution_count": 49,
   "id": "daf3e48b",
   "metadata": {},
   "outputs": [
    {
     "data": {
      "text/plain": [
       "(3, 4)"
      ]
     },
     "execution_count": 49,
     "metadata": {},
     "output_type": "execute_result"
    }
   ],
   "source": [
    "np.shape(mat)"
   ]
  },
  {
   "cell_type": "markdown",
   "id": "2346f1a3",
   "metadata": {},
   "source": [
    "In the case of `vec`, there's only one dimension to consider, called an *axis*. Since this axis has three elements, the array has a shape of `(3,)`. In the case of `mat`, there are two axes to consider. The first axis counts the number of rows in the array, while the second axis counts the number of columns. So, the 3 by 4 matrix above has a shape of `(3, 4)`, just as you'd expect from its matrix dimensions.\n",
    "\n",
    "Let's look at a three-dimensional array:"
   ]
  },
  {
   "cell_type": "code",
   "execution_count": 53,
   "id": "ff236986",
   "metadata": {},
   "outputs": [
    {
     "data": {
      "text/plain": [
       "array([[[ 1,  2,  3,  4],\n",
       "        [ 5,  6,  7,  8],\n",
       "        [ 9, 10, 11, 12]],\n",
       "\n",
       "       [[21, 22, 23, 24],\n",
       "        [25, 26, 27, 28],\n",
       "        [29, 30, 31, 32]]])"
      ]
     },
     "execution_count": 53,
     "metadata": {},
     "output_type": "execute_result"
    }
   ],
   "source": [
    "tensor = np.array([[[1, 2, 3, 4], [5, 6, 7, 8], [9, 10, 11, 12]], \n",
    "                  [[21, 22, 23, 24], [25, 26, 27, 28], [29, 30, 31, 32]]])\n",
    "tensor"
   ]
  },
  {
   "cell_type": "markdown",
   "id": "dfa67a41",
   "metadata": {},
   "source": [
    "This new object `tensor` can now be thought of as two 3x4 matrices stacked on top of each other. (In number theory, this is known as a *rank 3 tensor*, a generalization of vectors and matrices. On this note, vectors are rank 1 tensors and matrices are rank 2 tensors.) What do you think its shape will be?"
   ]
  },
  {
   "cell_type": "code",
   "execution_count": 54,
   "id": "f2977a88",
   "metadata": {},
   "outputs": [
    {
     "data": {
      "text/plain": [
       "(2, 3, 4)"
      ]
     },
     "execution_count": 54,
     "metadata": {},
     "output_type": "execute_result"
    }
   ],
   "source": [
    "np.shape(tensor)"
   ]
  },
  {
   "cell_type": "markdown",
   "id": "8c7298ff",
   "metadata": {},
   "source": [
    "You can think of the axes as \"counting down\" from the highest order. In this case, the shape of a 3-dimensional array will first measure how many 2D arrays there are, then how many 1D arrays there are per 2D array, then how many 0D arrays (aka elements) there are per 1D array.\n",
    "\n",
    "There are two other attributes for arrays that can tell you about their properties. The attribute `ndim` returns the number of dimensions in an array:"
   ]
  },
  {
   "cell_type": "code",
   "execution_count": 77,
   "id": "ab3aff80",
   "metadata": {},
   "outputs": [
    {
     "data": {
      "text/plain": [
       "3"
      ]
     },
     "execution_count": 77,
     "metadata": {},
     "output_type": "execute_result"
    }
   ],
   "source": [
    "tensor.ndim"
   ]
  },
  {
   "cell_type": "code",
   "execution_count": 78,
   "id": "5e179355",
   "metadata": {},
   "outputs": [
    {
     "data": {
      "text/plain": [
       "2"
      ]
     },
     "execution_count": 78,
     "metadata": {},
     "output_type": "execute_result"
    }
   ],
   "source": [
    "mat.ndim"
   ]
  },
  {
   "cell_type": "markdown",
   "id": "17d03a15",
   "metadata": {},
   "source": [
    "The attribute `size` returns how many elements there are in total in the array. This should be equivalent to the product of the axis shapes (i.e. `tensor.size` should equal `2*3*4 = 24`, which we can check below):"
   ]
  },
  {
   "cell_type": "code",
   "execution_count": 79,
   "id": "b697c9aa",
   "metadata": {},
   "outputs": [
    {
     "data": {
      "text/plain": [
       "24"
      ]
     },
     "execution_count": 79,
     "metadata": {},
     "output_type": "execute_result"
    }
   ],
   "source": [
    "tensor.size"
   ]
  },
  {
   "cell_type": "code",
   "execution_count": 80,
   "id": "e8e0892b",
   "metadata": {},
   "outputs": [
    {
     "data": {
      "text/plain": [
       "12"
      ]
     },
     "execution_count": 80,
     "metadata": {},
     "output_type": "execute_result"
    }
   ],
   "source": [
    "mat.size"
   ]
  },
  {
   "cell_type": "markdown",
   "id": "4c702ce5",
   "metadata": {},
   "source": [
    "If we want to call elements from arrays, we can use a syntax similar to Python lists. For simplicity, we'll look at the matrix `mat`, which I'll copy down below for reference:"
   ]
  },
  {
   "cell_type": "code",
   "execution_count": 85,
   "id": "1d7bf56e",
   "metadata": {},
   "outputs": [
    {
     "data": {
      "text/plain": [
       "array([[ 1,  2,  3,  4],\n",
       "       [ 5,  6,  7,  8],\n",
       "       [ 9, 10, 11, 12]])"
      ]
     },
     "execution_count": 85,
     "metadata": {},
     "output_type": "execute_result"
    }
   ],
   "source": [
    "mat"
   ]
  },
  {
   "cell_type": "markdown",
   "id": "1bd922ea",
   "metadata": {},
   "source": [
    "If I want to read off a single element, I need to specify its position in all axes. Keep in mind that indexing starts from zero, just like with all Python objects:"
   ]
  },
  {
   "cell_type": "code",
   "execution_count": 86,
   "id": "e623f4b3",
   "metadata": {},
   "outputs": [
    {
     "data": {
      "text/plain": [
       "12"
      ]
     },
     "execution_count": 86,
     "metadata": {},
     "output_type": "execute_result"
    }
   ],
   "source": [
    "mat[2, 3]"
   ]
  },
  {
   "cell_type": "code",
   "execution_count": 87,
   "id": "e56ef0bb",
   "metadata": {},
   "outputs": [
    {
     "data": {
      "text/plain": [
       "3"
      ]
     },
     "execution_count": 87,
     "metadata": {},
     "output_type": "execute_result"
    }
   ],
   "source": [
    "mat[0, 2]"
   ]
  },
  {
   "cell_type": "markdown",
   "id": "1483af59",
   "metadata": {},
   "source": [
    "If I want to call an entire subarray, I can simply use one index indicating its position along the axis:"
   ]
  },
  {
   "cell_type": "code",
   "execution_count": 88,
   "id": "d4aa4d0c",
   "metadata": {},
   "outputs": [
    {
     "data": {
      "text/plain": [
       "array([5, 6, 7, 8])"
      ]
     },
     "execution_count": 88,
     "metadata": {},
     "output_type": "execute_result"
    }
   ],
   "source": [
    "mat[1]"
   ]
  },
  {
   "cell_type": "markdown",
   "id": "286a2ceb",
   "metadata": {},
   "source": [
    "You can also use conditional statements to print off only certain values. For example, say I wanted only the even elements:"
   ]
  },
  {
   "cell_type": "code",
   "execution_count": 90,
   "id": "d295bed7",
   "metadata": {},
   "outputs": [
    {
     "data": {
      "text/plain": [
       "array([ 2,  4,  6,  8, 10, 12])"
      ]
     },
     "execution_count": 90,
     "metadata": {},
     "output_type": "execute_result"
    }
   ],
   "source": [
    "mat[mat%2 == 0]"
   ]
  },
  {
   "cell_type": "markdown",
   "id": "b558826e",
   "metadata": {},
   "source": [
    "Slicing also works similarly to lists, as long as you do so over the correct axes:"
   ]
  },
  {
   "cell_type": "code",
   "execution_count": 94,
   "id": "0890dba9",
   "metadata": {},
   "outputs": [
    {
     "data": {
      "text/plain": [
       "array([[5, 6, 7, 8]])"
      ]
     },
     "execution_count": 94,
     "metadata": {},
     "output_type": "execute_result"
    }
   ],
   "source": [
    "mat[1:2]"
   ]
  },
  {
   "cell_type": "code",
   "execution_count": 100,
   "id": "5f422021",
   "metadata": {},
   "outputs": [
    {
     "data": {
      "text/plain": [
       "array([[5, 6, 7]])"
      ]
     },
     "execution_count": 100,
     "metadata": {},
     "output_type": "execute_result"
    }
   ],
   "source": [
    "mat[1:2, :3]"
   ]
  },
  {
   "cell_type": "code",
   "execution_count": 102,
   "id": "38c17c64",
   "metadata": {},
   "outputs": [
    {
     "data": {
      "text/plain": [
       "array([[ 2],\n",
       "       [ 6],\n",
       "       [10]])"
      ]
     },
     "execution_count": 102,
     "metadata": {},
     "output_type": "execute_result"
    }
   ],
   "source": [
    "mat[:, 1:2]"
   ]
  },
  {
   "cell_type": "markdown",
   "id": "2ebff939",
   "metadata": {},
   "source": [
    "### Generating Arrays\n",
    "\n",
    "There are several functions in `numpy` that can be used to generate arrays automatically. We've already looked at `numpy.array()`, the \"by hand\" method of generating arrays using nested lists. We can also generate arrays full of zeroes or ones using the functions `numpy.zeros()` and `numpy.ones()`:"
   ]
  },
  {
   "cell_type": "code",
   "execution_count": 60,
   "id": "77cbe75b",
   "metadata": {},
   "outputs": [
    {
     "data": {
      "text/plain": [
       "array([0., 0., 0., 0.])"
      ]
     },
     "execution_count": 60,
     "metadata": {},
     "output_type": "execute_result"
    }
   ],
   "source": [
    "zero_mat = np.zeros(4)\n",
    "zero_mat"
   ]
  },
  {
   "cell_type": "code",
   "execution_count": 61,
   "id": "284ef1ad",
   "metadata": {},
   "outputs": [
    {
     "data": {
      "text/plain": [
       "array([[1., 1., 1.],\n",
       "       [1., 1., 1.],\n",
       "       [1., 1., 1.],\n",
       "       [1., 1., 1.]])"
      ]
     },
     "execution_count": 61,
     "metadata": {},
     "output_type": "execute_result"
    }
   ],
   "source": [
    "one_mat = np.ones((4, 3))\n",
    "one_mat"
   ]
  },
  {
   "cell_type": "markdown",
   "id": "2797c58d",
   "metadata": {},
   "source": [
    "From the examples above, each array generation function can take two types of inputs. Inputting an integer returns a 1D array with that number of elements. Inputting a tuple of n integers returns an n-dimensional array with the shape implied by the tuple.\n",
    "\n",
    "There's also a function `numpy.empty()` used for creating an \"empty\" array. Why is it \"empty\"? Let's see below:"
   ]
  },
  {
   "cell_type": "code",
   "execution_count": 62,
   "id": "48a03487",
   "metadata": {},
   "outputs": [
    {
     "data": {
      "text/plain": [
       "array([0., 0., 0., 0.])"
      ]
     },
     "execution_count": 62,
     "metadata": {},
     "output_type": "execute_result"
    }
   ],
   "source": [
    "empty_mat = np.empty(4)\n",
    "empty_mat"
   ]
  },
  {
   "cell_type": "markdown",
   "id": "80820919",
   "metadata": {},
   "source": [
    "It's not actually an empty array; `numpy` requires there to be some sort of placeholders to retain the shape of the matrix. We use `empty()` to generate arrays that are more memory-efficient than a `zeros()` or `ones()` array, which can become important when considering arrays with tens or thousands of elements. \n",
    "\n",
    "There are some functions that allow you to construct special matrices that are useful in linear algebra. One of these is `numpy.eye()`, which generates the *identity matrix* (i.e. a matrix whose only non-zero elements are ones along the diagonal) with the specified number of rows and columns."
   ]
  },
  {
   "cell_type": "code",
   "execution_count": 81,
   "id": "f312ca85",
   "metadata": {},
   "outputs": [
    {
     "data": {
      "text/plain": [
       "array([[1., 0., 0., 0.],\n",
       "       [0., 1., 0., 0.],\n",
       "       [0., 0., 1., 0.],\n",
       "       [0., 0., 0., 1.]])"
      ]
     },
     "execution_count": 81,
     "metadata": {},
     "output_type": "execute_result"
    }
   ],
   "source": [
    "np.eye(4)"
   ]
  },
  {
   "cell_type": "markdown",
   "id": "043683ef",
   "metadata": {},
   "source": [
    "This is a special case of a *diagonal matrix*, which also only has non-zero diagonal elements except they can have any value. We can generate a matrix like this using `numpy.diag()`:"
   ]
  },
  {
   "cell_type": "code",
   "execution_count": 82,
   "id": "c33dbdf6",
   "metadata": {},
   "outputs": [
    {
     "data": {
      "text/plain": [
       "array([[1, 0, 0],\n",
       "       [0, 2, 0],\n",
       "       [0, 0, 3]])"
      ]
     },
     "execution_count": 82,
     "metadata": {},
     "output_type": "execute_result"
    }
   ],
   "source": [
    "np.diag([1, 2, 3])"
   ]
  },
  {
   "cell_type": "markdown",
   "id": "7e8db9a0",
   "metadata": {},
   "source": [
    "The first argument (i.e. the only argument above) gives the diagonal elements, and the function automatically generates a matrix with a shape that fits the diagonal. We can offset the diagonal with an optional second integer argument:"
   ]
  },
  {
   "cell_type": "code",
   "execution_count": 83,
   "id": "683a6ab7",
   "metadata": {},
   "outputs": [
    {
     "data": {
      "text/plain": [
       "array([[0, 1, 0, 0],\n",
       "       [0, 0, 2, 0],\n",
       "       [0, 0, 0, 3],\n",
       "       [0, 0, 0, 0]])"
      ]
     },
     "execution_count": 83,
     "metadata": {},
     "output_type": "execute_result"
    }
   ],
   "source": [
    "np.diag([1, 2, 3], 1)"
   ]
  },
  {
   "cell_type": "code",
   "execution_count": 84,
   "id": "f4bd65d0",
   "metadata": {},
   "outputs": [
    {
     "data": {
      "text/plain": [
       "array([[0, 0, 0, 0, 0],\n",
       "       [0, 0, 0, 0, 0],\n",
       "       [1, 0, 0, 0, 0],\n",
       "       [0, 2, 0, 0, 0],\n",
       "       [0, 0, 3, 0, 0]])"
      ]
     },
     "execution_count": 84,
     "metadata": {},
     "output_type": "execute_result"
    }
   ],
   "source": [
    "np.diag([1, 2, 3], -2)"
   ]
  },
  {
   "cell_type": "markdown",
   "id": "78ec1cd9",
   "metadata": {},
   "source": [
    "There are even some functions that serve similar purposes to those we've seen in base Python. One of these is `numpy.arange()`; from the name you can probably guess that this generates an array of evenly spaced integers similar to how we can use `list(range())`. The syntax is exactly the same as that you've probably become familiar with for `range()`:"
   ]
  },
  {
   "cell_type": "code",
   "execution_count": 64,
   "id": "7731854b",
   "metadata": {},
   "outputs": [
    {
     "data": {
      "text/plain": [
       "array([ 0,  1,  2,  3,  4,  5,  6,  7,  8,  9, 10])"
      ]
     },
     "execution_count": 64,
     "metadata": {},
     "output_type": "execute_result"
    }
   ],
   "source": [
    "rng = np.arange(11)\n",
    "rng"
   ]
  },
  {
   "cell_type": "code",
   "execution_count": 65,
   "id": "d3a61760",
   "metadata": {},
   "outputs": [
    {
     "data": {
      "text/plain": [
       "array([2, 4, 6, 8])"
      ]
     },
     "execution_count": 65,
     "metadata": {},
     "output_type": "execute_result"
    }
   ],
   "source": [
    "rng2 = np.arange(2, 9, 2)\n",
    "rng2"
   ]
  },
  {
   "cell_type": "markdown",
   "id": "c423a7d3",
   "metadata": {},
   "source": [
    "One flaw of `range()` and `arange()` is that they only work with integers. This can be resolved with `numpy.linspace()`, which generates an array of evenly spaced `float`s. The syntax is slightly different from `range()` and `arange()`:"
   ]
  },
  {
   "cell_type": "code",
   "execution_count": 68,
   "id": "bdb52dcb",
   "metadata": {},
   "outputs": [
    {
     "data": {
      "text/plain": [
       "array([ 0. ,  2.5,  5. ,  7.5, 10. ])"
      ]
     },
     "execution_count": 68,
     "metadata": {},
     "output_type": "execute_result"
    }
   ],
   "source": [
    "lin_grid = np.linspace(0., 10., 5)\n",
    "lin_grid"
   ]
  },
  {
   "cell_type": "markdown",
   "id": "eeaeeaf7",
   "metadata": {},
   "source": [
    "The arguments are `linspace(start, stop, num)`, where `stop` is now included in the range and `num` represents the number of elements in the resultant array.\n",
    "\n",
    "For completeness, let me highlight one more point: the values in these arrays aren't of the type `float` or `int` as you'd expect. We can see this by selecting one of the elements from `lin_grid` and `rng`:"
   ]
  },
  {
   "cell_type": "code",
   "execution_count": 69,
   "id": "f57ad177",
   "metadata": {},
   "outputs": [
    {
     "data": {
      "text/plain": [
       "numpy.float64"
      ]
     },
     "execution_count": 69,
     "metadata": {},
     "output_type": "execute_result"
    }
   ],
   "source": [
    "type(lin_grid[1])"
   ]
  },
  {
   "cell_type": "code",
   "execution_count": 70,
   "id": "5d5c2e5a",
   "metadata": {},
   "outputs": [
    {
     "data": {
      "text/plain": [
       "numpy.int64"
      ]
     },
     "execution_count": 70,
     "metadata": {},
     "output_type": "execute_result"
    }
   ],
   "source": [
    "type(rng[2])"
   ]
  },
  {
   "cell_type": "markdown",
   "id": "fbf2b2c7",
   "metadata": {},
   "source": [
    "`numpy` has its own data types for regular numbers: `numpy.float64` for floating-point values and `numpy.int64` for integers. These behave exactly as you'd expect regular numbers to behave, except they're better suited for handling floating-point errors. Let's recreate an example we did in an earlier lecture, where we added 0.1 ten times:"
   ]
  },
  {
   "cell_type": "code",
   "execution_count": 74,
   "id": "b3e449c1",
   "metadata": {},
   "outputs": [
    {
     "data": {
      "text/plain": [
       "array([0.1, 0.1, 0.1, 0.1, 0.1, 0.1, 0.1, 0.1, 0.1, 0.1])"
      ]
     },
     "execution_count": 74,
     "metadata": {},
     "output_type": "execute_result"
    }
   ],
   "source": [
    "test = np.array([0.1 for i in range(10)])\n",
    "test"
   ]
  },
  {
   "cell_type": "markdown",
   "id": "d91e161f",
   "metadata": {},
   "source": [
    "There's a method `sum()` for arrays that adds up its elements:"
   ]
  },
  {
   "cell_type": "code",
   "execution_count": 75,
   "id": "e4ea77e5",
   "metadata": {},
   "outputs": [
    {
     "data": {
      "text/plain": [
       "1.0"
      ]
     },
     "execution_count": 75,
     "metadata": {},
     "output_type": "execute_result"
    }
   ],
   "source": [
    "test.sum()"
   ]
  },
  {
   "cell_type": "markdown",
   "id": "897fc148",
   "metadata": {},
   "source": [
    "As you can see, we don't get the same floating-point errors we got from base Python. When using `arange()` or `linspace()`, we can force the elements to be of a certain type by using the `dtype` keyword argument:"
   ]
  },
  {
   "cell_type": "code",
   "execution_count": 76,
   "id": "e8c97345",
   "metadata": {},
   "outputs": [
    {
     "data": {
      "text/plain": [
       "array([ 0,  2,  5,  7, 10])"
      ]
     },
     "execution_count": 76,
     "metadata": {},
     "output_type": "execute_result"
    }
   ],
   "source": [
    "np.linspace(0, 10, 5, dtype=np.int64)"
   ]
  },
  {
   "cell_type": "markdown",
   "id": "41be1680",
   "metadata": {},
   "source": [
    "There are many more ways to generate arrays for more specialized purposes. I encourage you to refer to the official `numpy` documentation at https://numpy.org/doc/stable/user/index.html#user if you're curious. We'll get into manipulating `numpy` arrays with transformations and arithmetic in the next lecture."
   ]
  }
 ],
 "metadata": {
  "kernelspec": {
   "display_name": "Python 3 (ipykernel)",
   "language": "python",
   "name": "python3"
  },
  "language_info": {
   "codemirror_mode": {
    "name": "ipython",
    "version": 3
   },
   "file_extension": ".py",
   "mimetype": "text/x-python",
   "name": "python",
   "nbconvert_exporter": "python",
   "pygments_lexer": "ipython3",
   "version": "3.9.16"
  }
 },
 "nbformat": 4,
 "nbformat_minor": 5
}
