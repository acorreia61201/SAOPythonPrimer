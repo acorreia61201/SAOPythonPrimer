{
 "cells": [
  {
   "cell_type": "markdown",
   "id": "ecef2be8",
   "metadata": {},
   "source": [
    "# SAO/LIP Python Primer Course Lecture 10\n",
    "\n",
    "In this notebook, you will learn about:\n",
    "- `lambda` functions\n",
    "- Writing your own libraries\n",
    "\n",
    "[![Open In Colab](https://colab.research.google.com/assets/colab-badge.svg)](https://colab.research.google.com/github/acorreia61201/SAOPythonPrimer/blob/main/lectures/Lecture10.ipynb)\n",
    "\n",
    "This notebook will wrap up our discussion on beginner and intermediate Python techniques. It follows the themes of functions and libraries, and we'll end up covering how you can write your own libraries to use thoughout your work.\n",
    "\n",
    "## The `lambda` Function\n",
    "\n",
    "Before we get into that, however, we'll discuss a simpler type of function you may use when developing code. Let's say I wanted to make a simple function that doubles a number and takes its square root. I could write the following:"
   ]
  },
  {
   "cell_type": "code",
   "execution_count": 1,
   "id": "2cac5819",
   "metadata": {},
   "outputs": [],
   "source": [
    "def double_sqrt(a):\n",
    "    return (2*a)**0.5"
   ]
  },
  {
   "cell_type": "markdown",
   "id": "dd46d7c4",
   "metadata": {},
   "source": [
    "It works exactly as advertised:"
   ]
  },
  {
   "cell_type": "code",
   "execution_count": 2,
   "id": "1664e9e5",
   "metadata": {},
   "outputs": [
    {
     "data": {
      "text/plain": [
       "2.0"
      ]
     },
     "execution_count": 2,
     "metadata": {},
     "output_type": "execute_result"
    }
   ],
   "source": [
    "double_sqrt(2)"
   ]
  },
  {
   "cell_type": "code",
   "execution_count": 3,
   "id": "cf54c2ce",
   "metadata": {},
   "outputs": [
    {
     "data": {
      "text/plain": [
       "8.0"
      ]
     },
     "execution_count": 3,
     "metadata": {},
     "output_type": "execute_result"
    }
   ],
   "source": [
    "double_sqrt(32)"
   ]
  },
  {
   "cell_type": "markdown",
   "id": "97a5b037",
   "metadata": {},
   "source": [
    "However, there's a simpler way that we could write a function. We could use the `lambda` keyword to define what's known as a *lambda function* or *anonymous function*. Let's see it below:"
   ]
  },
  {
   "cell_type": "code",
   "execution_count": 6,
   "id": "85d0133b",
   "metadata": {},
   "outputs": [],
   "source": [
    "a = lambda x: (2*x)**0.5"
   ]
  },
  {
   "cell_type": "markdown",
   "id": "c5f66467",
   "metadata": {},
   "source": [
    "Now, we can call `a` just as we would a regular function:"
   ]
  },
  {
   "cell_type": "code",
   "execution_count": 7,
   "id": "3b575ba6",
   "metadata": {},
   "outputs": [
    {
     "data": {
      "text/plain": [
       "2.0"
      ]
     },
     "execution_count": 7,
     "metadata": {},
     "output_type": "execute_result"
    }
   ],
   "source": [
    "a(2)"
   ]
  },
  {
   "cell_type": "code",
   "execution_count": 8,
   "id": "e95d0ba5",
   "metadata": {},
   "outputs": [
    {
     "data": {
      "text/plain": [
       "8.0"
      ]
     },
     "execution_count": 8,
     "metadata": {},
     "output_type": "execute_result"
    }
   ],
   "source": [
    "a(32)"
   ]
  },
  {
   "cell_type": "markdown",
   "id": "3f6c8a6e",
   "metadata": {},
   "source": [
    "So what's the difference between `lambda` and a regular function? One difference relates to why they're named anonymous functions. Notice that when I defined my lambda function above, I did so the same way I would define a variable. However, let's see what happens if I just start from `lambda`:"
   ]
  },
  {
   "cell_type": "code",
   "execution_count": 9,
   "id": "20d17043",
   "metadata": {},
   "outputs": [
    {
     "data": {
      "text/plain": [
       "<function __main__.<lambda>(x)>"
      ]
     },
     "execution_count": 9,
     "metadata": {},
     "output_type": "execute_result"
    }
   ],
   "source": [
    "lambda x: (2*x)**0.5"
   ]
  },
  {
   "cell_type": "markdown",
   "id": "9a60dae2",
   "metadata": {},
   "source": [
    "We can see that it creates a function, but now how can we call it? Remember that `lambda` isn't a name of a function; it's a keyword. There are two ways. The first is to use an interactive Python feature present in IDEs like Jupyter Notebook and VSCode. The symbol `_` refers to the last thing the kernel ran. So, if we wanted to use the function above, we could use `_` like we used `a` in the previous example:"
   ]
  },
  {
   "cell_type": "code",
   "execution_count": 10,
   "id": "d47956d8",
   "metadata": {},
   "outputs": [
    {
     "data": {
      "text/plain": [
       "2.0"
      ]
     },
     "execution_count": 10,
     "metadata": {},
     "output_type": "execute_result"
    }
   ],
   "source": [
    "_(2)"
   ]
  },
  {
   "cell_type": "markdown",
   "id": "063bb261",
   "metadata": {},
   "source": [
    "But if we try that again, we won't get the same result:"
   ]
  },
  {
   "cell_type": "code",
   "execution_count": 11,
   "id": "ddcc9d21",
   "metadata": {},
   "outputs": [
    {
     "ename": "TypeError",
     "evalue": "'float' object is not callable",
     "output_type": "error",
     "traceback": [
      "\u001b[0;31m---------------------------------------------------------------------------\u001b[0m",
      "\u001b[0;31mTypeError\u001b[0m                                 Traceback (most recent call last)",
      "Cell \u001b[0;32mIn[11], line 1\u001b[0m\n\u001b[0;32m----> 1\u001b[0m \u001b[43m_\u001b[49m\u001b[43m(\u001b[49m\u001b[38;5;241;43m32\u001b[39;49m\u001b[43m)\u001b[49m\n",
      "\u001b[0;31mTypeError\u001b[0m: 'float' object is not callable"
     ]
    }
   ],
   "source": [
    "_(32)"
   ]
  },
  {
   "cell_type": "markdown",
   "id": "009897f0",
   "metadata": {},
   "source": [
    "We could also enter the input directly next to the function declaration, just like if we were calling a function by name:"
   ]
  },
  {
   "cell_type": "code",
   "execution_count": 13,
   "id": "a4c20b6c",
   "metadata": {},
   "outputs": [
    {
     "data": {
      "text/plain": [
       "2.0"
      ]
     },
     "execution_count": 13,
     "metadata": {},
     "output_type": "execute_result"
    }
   ],
   "source": [
    "(lambda x: (2*x)**0.5)(2)"
   ]
  },
  {
   "cell_type": "code",
   "execution_count": 15,
   "id": "5fc925f4",
   "metadata": {},
   "outputs": [
    {
     "data": {
      "text/plain": [
       "8.0"
      ]
     },
     "execution_count": 15,
     "metadata": {},
     "output_type": "execute_result"
    }
   ],
   "source": [
    "(lambda x: (2*x)**0.5)(32)"
   ]
  },
  {
   "cell_type": "markdown",
   "id": "94500a04",
   "metadata": {},
   "source": [
    "But this seems to fly in the face of never copying code. So what's the big deal about lambda functions? They're mostly used for compactifying code when you have to short, repetitive calculations. This is forced by the design of the functions; they can only have one line and can't contain any sort of loop or statement. So the following won't work:"
   ]
  },
  {
   "cell_type": "code",
   "execution_count": 16,
   "id": "4cfce6f7",
   "metadata": {},
   "outputs": [
    {
     "ename": "SyntaxError",
     "evalue": "invalid syntax (3505987814.py, line 1)",
     "output_type": "error",
     "traceback": [
      "\u001b[0;36m  Cell \u001b[0;32mIn[16], line 1\u001b[0;36m\u001b[0m\n\u001b[0;31m    lambda x: assert x == 2\u001b[0m\n\u001b[0m              ^\u001b[0m\n\u001b[0;31mSyntaxError\u001b[0m\u001b[0;31m:\u001b[0m invalid syntax\n"
     ]
    }
   ],
   "source": [
    "lambda x: assert x == 2"
   ]
  },
  {
   "cell_type": "markdown",
   "id": "6412b2b9",
   "metadata": {},
   "source": [
    "For example, let's say I wanted to square and add 1 to every element in a list (i.e. not an array). We can use the `map()` function to apply another function to every element in a list. Rather than define a whole new function and call it for this one purpose, I can just use a lambda function within `map()` to apply my operation:"
   ]
  },
  {
   "cell_type": "code",
   "execution_count": 17,
   "id": "9b43f194",
   "metadata": {},
   "outputs": [
    {
     "data": {
      "text/plain": [
       "[2, 5, 10, 17, 26]"
      ]
     },
     "execution_count": 17,
     "metadata": {},
     "output_type": "execute_result"
    }
   ],
   "source": [
    "list1 = [1, 2, 3, 4, 5]\n",
    "list(map(lambda x: x**2 + 1, list1))"
   ]
  },
  {
   "cell_type": "markdown",
   "id": "5da8edfa",
   "metadata": {},
   "source": [
    "Another example is to write generalizable functions. Say I wanted to write a function that would multiply its input by any other number of my choosing. We could write the function below, returning a lambda function that does this:"
   ]
  },
  {
   "cell_type": "code",
   "execution_count": 18,
   "id": "8b3c1efe",
   "metadata": {},
   "outputs": [],
   "source": [
    "def my_func(a):\n",
    "    return lambda b: b*a"
   ]
  },
  {
   "cell_type": "markdown",
   "id": "13cfe912",
   "metadata": {},
   "source": [
    "Now, if I wanted to use this function to double my inputs, I can create a unique variable like so:"
   ]
  },
  {
   "cell_type": "code",
   "execution_count": 19,
   "id": "c9d90cb9",
   "metadata": {},
   "outputs": [],
   "source": [
    "my_doubler = my_func(2)"
   ]
  },
  {
   "cell_type": "markdown",
   "id": "8faa3092",
   "metadata": {},
   "source": [
    "If I want to double a number, I can then just call `my_doubler` with the number I want to double:"
   ]
  },
  {
   "cell_type": "code",
   "execution_count": 20,
   "id": "9bd5e054",
   "metadata": {},
   "outputs": [
    {
     "data": {
      "text/plain": [
       "10"
      ]
     },
     "execution_count": 20,
     "metadata": {},
     "output_type": "execute_result"
    }
   ],
   "source": [
    "my_doubler(5)"
   ]
  },
  {
   "cell_type": "code",
   "execution_count": 21,
   "id": "b078aebc",
   "metadata": {},
   "outputs": [
    {
     "data": {
      "text/plain": [
       "14"
      ]
     },
     "execution_count": 21,
     "metadata": {},
     "output_type": "execute_result"
    }
   ],
   "source": [
    "my_doubler(7)"
   ]
  },
  {
   "cell_type": "markdown",
   "id": "c110bb7a",
   "metadata": {},
   "source": [
    "If I instead want a function that triples my inputs, I can create another unique variable that acts like a function:"
   ]
  },
  {
   "cell_type": "code",
   "execution_count": 22,
   "id": "2fe04597",
   "metadata": {},
   "outputs": [],
   "source": [
    "my_tripler = my_func(3)"
   ]
  },
  {
   "cell_type": "code",
   "execution_count": 23,
   "id": "f6ac66bc",
   "metadata": {},
   "outputs": [
    {
     "data": {
      "text/plain": [
       "15"
      ]
     },
     "execution_count": 23,
     "metadata": {},
     "output_type": "execute_result"
    }
   ],
   "source": [
    "my_tripler(5)"
   ]
  },
  {
   "cell_type": "code",
   "execution_count": 25,
   "id": "944f55eb",
   "metadata": {},
   "outputs": [
    {
     "data": {
      "text/plain": [
       "21"
      ]
     },
     "execution_count": 25,
     "metadata": {},
     "output_type": "execute_result"
    }
   ],
   "source": [
    "my_tripler(7)"
   ]
  },
  {
   "cell_type": "markdown",
   "id": "14b3ad87",
   "metadata": {},
   "source": [
    "Notice that I've been able to define multiple functions using one parent function that returns a lambda function. As an alternative, I would've had to write two different functions to do very similar things. I could have also written a function that took in two inputs, but then if I wanted to multiply by the same value multiple times I'd have to specify it every time I call it. This is the main use case for lambda functions: they're useful if you want to compactify your code as much as possible.\n",
    "\n",
    "## Writing Your Own Libraries\n",
    "\n",
    "In the exercises, you've seen how powerful just a handful of libraries can be in scientific computing. You may be wondering how you can write your own libraries or add to existing ones. Perhaps there may even be a very niche thing you want to do multiple times when programming that isn't available in a library. In the spirit of never copying code, Python allows anyone to locally define their own local libraries for repetitive blocks of code. \n",
    "\n",
    "As a heads-up, we'll be using base Python techniques to create external `py` files, which form the bases of libraries. If you're running locally, it's probably easier to use an IDE or plain-text editor to write libraries (although Jupyter is still perfectly fine for prototyping code before saving it to a library; that's what it's made for, after all). Colab also gives you the option to upload files to the working directory of your currently open notebook by navigating to the folder icon on the left-hand side and selecting the leftmost option (the sheet of paper with the arrow).\n",
    "\n",
    "First, let's discuss writing scripts if you're unfamiliar. Basically, any code that we've discussed up until this point can be written in a text file and work just as well as in an IDE or notebook. Let's try with a simple example: I'll write a function `fib_num()` that takes in an input `n` and prints the Fibonacci sequence up to term `n` (you may recall this from an earlier exercise or from your math classes):"
   ]
  },
  {
   "cell_type": "code",
   "execution_count": 38,
   "id": "f4389388",
   "metadata": {},
   "outputs": [],
   "source": [
    "def fib_num(n):\n",
    "    a, b = 0, 1\n",
    "    counter = 0\n",
    "    while counter < n:\n",
    "        print(a)\n",
    "        a, b = b, a+b\n",
    "        counter += 1"
   ]
  },
  {
   "cell_type": "markdown",
   "id": "0c4d1c74",
   "metadata": {},
   "source": [
    "Let's check that this works:"
   ]
  },
  {
   "cell_type": "code",
   "execution_count": 39,
   "id": "3041cedb",
   "metadata": {},
   "outputs": [
    {
     "name": "stdout",
     "output_type": "stream",
     "text": [
      "0\n",
      "1\n"
     ]
    }
   ],
   "source": [
    "fib_num(2)"
   ]
  },
  {
   "cell_type": "code",
   "execution_count": 41,
   "id": "d42c36a0",
   "metadata": {},
   "outputs": [
    {
     "name": "stdout",
     "output_type": "stream",
     "text": [
      "0\n",
      "1\n",
      "1\n",
      "2\n",
      "3\n",
      "5\n",
      "8\n",
      "13\n",
      "21\n",
      "34\n"
     ]
    }
   ],
   "source": [
    "fib_num(10)"
   ]
  },
  {
   "cell_type": "markdown",
   "id": "cecf948e",
   "metadata": {},
   "source": [
    "We can just as easily write this in a file, which we'll call `fibonacci.py`:"
   ]
  },
  {
   "cell_type": "code",
   "execution_count": 70,
   "id": "f91790d5",
   "metadata": {},
   "outputs": [],
   "source": [
    "file = open('fibonacci.py', 'w+') # this will create a new file if it doesn't already exist"
   ]
  },
  {
   "cell_type": "code",
   "execution_count": 71,
   "id": "fdbe2138",
   "metadata": {},
   "outputs": [
    {
     "data": {
      "text/plain": [
       "124"
      ]
     },
     "execution_count": 71,
     "metadata": {},
     "output_type": "execute_result"
    }
   ],
   "source": [
    "file.write('def fib_num(n): \\n \\t a, b = 0, 1 \\n \\t counter = 0 \\n \\t while counter < n: \\n \\t \\t print(a) \\n \\t \\t a, b = b, a+b \\n \\t \\t counter += 1')\n",
    "# you really don't have to do this in practice; just copying and pasting the function into a file is much simpler"
   ]
  },
  {
   "cell_type": "code",
   "execution_count": 72,
   "id": "ba5b25a5",
   "metadata": {},
   "outputs": [
    {
     "name": "stdout",
     "output_type": "stream",
     "text": [
      "def fib_num(n): \n",
      " \t a, b = 0, 1 \n",
      " \t counter = 0 \n",
      " \t while counter < n: \n",
      " \t \t print(a) \n",
      " \t \t a, b = b, a+b \n",
      " \t \t counter += 1\n"
     ]
    }
   ],
   "source": [
    "# check the contents of the file\n",
    "file.close()\n",
    "file = open('fibonacci.py', 'r')\n",
    "print(file.read())\n",
    "file.close()"
   ]
  },
  {
   "cell_type": "markdown",
   "id": "7450883d",
   "metadata": {},
   "source": [
    "Now, if we want to use the function, we can just import `fibonacci` just as we would any other Python module:"
   ]
  },
  {
   "cell_type": "code",
   "execution_count": 73,
   "id": "0d1c61f9",
   "metadata": {},
   "outputs": [
    {
     "name": "stdout",
     "output_type": "stream",
     "text": [
      "0\n",
      "1\n",
      "1\n",
      "2\n",
      "3\n",
      "5\n",
      "8\n",
      "13\n",
      "21\n",
      "34\n"
     ]
    }
   ],
   "source": [
    "import fibonacci as fib\n",
    "fib.fib_num(10)"
   ]
  },
  {
   "cell_type": "markdown",
   "id": "4ab7e4fb",
   "metadata": {},
   "source": [
    "Note that if you want to creae a module, you should use the file extension `.py`. This goes for any Python scripts you want to create. This is because your operating system generally has an automatic interpreter that can detect file types from the file extensions (e.g. `png` files are interpreted as pictures, `mp4` files are interpreted as videos, etc). Using the `.py` extension isn't technically required, but it ensures that your OS interprets the file as a Python script.\n",
    "\n",
    "Let's add a function to `fibonacci.py` called `fib_list()` that returns a list containing the Fibonacci series up to term `n`. First, we'll use Jupyter to develop it:"
   ]
  },
  {
   "cell_type": "code",
   "execution_count": 74,
   "id": "06c7454b",
   "metadata": {},
   "outputs": [],
   "source": [
    "def fib_list(n):\n",
    "    series = []\n",
    "    a, b = 0, 1\n",
    "    counter = 0\n",
    "    while counter < n:\n",
    "        series.append(a)\n",
    "        a, b = b, a+b\n",
    "        counter += 1\n",
    "    return series"
   ]
  },
  {
   "cell_type": "code",
   "execution_count": 75,
   "id": "04b5230d",
   "metadata": {},
   "outputs": [
    {
     "data": {
      "text/plain": [
       "[0, 1, 1]"
      ]
     },
     "execution_count": 75,
     "metadata": {},
     "output_type": "execute_result"
    }
   ],
   "source": [
    "fib_list(3)"
   ]
  },
  {
   "cell_type": "code",
   "execution_count": 76,
   "id": "da92d14d",
   "metadata": {},
   "outputs": [
    {
     "data": {
      "text/plain": [
       "[0, 1, 1, 2, 3, 5, 8, 13, 21, 34]"
      ]
     },
     "execution_count": 76,
     "metadata": {},
     "output_type": "execute_result"
    }
   ],
   "source": [
    "fib_list(10)"
   ]
  },
  {
   "cell_type": "markdown",
   "id": "538451e5",
   "metadata": {},
   "source": [
    "Now, we'll add it to `fibonacci.py`:"
   ]
  },
  {
   "cell_type": "code",
   "execution_count": 77,
   "id": "eea73c4b",
   "metadata": {},
   "outputs": [
    {
     "data": {
      "text/plain": [
       "170"
      ]
     },
     "execution_count": 77,
     "metadata": {},
     "output_type": "execute_result"
    }
   ],
   "source": [
    "file = open('fibonacci.py', 'a')\n",
    "file.write('\\n \\ndef fib_list(n): \\n \\t series = [] \\n \\t a, b = 0, 1 \\n \\t counter = 0 \\n \\t while counter < n: \\n \\t \\t series.append(a) \\n \\t \\t a, b = b, a+b \\n \\t \\t counter += 1 \\n \\t return series')"
   ]
  },
  {
   "cell_type": "code",
   "execution_count": 78,
   "id": "eb00a692",
   "metadata": {},
   "outputs": [
    {
     "name": "stdout",
     "output_type": "stream",
     "text": [
      "def fib_num(n): \n",
      " \t a, b = 0, 1 \n",
      " \t counter = 0 \n",
      " \t while counter < n: \n",
      " \t \t print(a) \n",
      " \t \t a, b = b, a+b \n",
      " \t \t counter += 1\n",
      " \n",
      "def fib_list(n): \n",
      " \t series = [] \n",
      " \t a, b = 0, 1 \n",
      " \t counter = 0 \n",
      " \t while counter < n: \n",
      " \t \t series.append(a) \n",
      " \t \t a, b = b, a+b \n",
      " \t \t counter += 1 \n",
      " \t return series\n"
     ]
    }
   ],
   "source": [
    "file.close()\n",
    "file = open('fibonacci.py', 'r')\n",
    "print(file.read())"
   ]
  },
  {
   "cell_type": "markdown",
   "id": "37f9d711",
   "metadata": {},
   "source": [
    "Now, we can use both `fib_num` and `fib_list`:"
   ]
  },
  {
   "cell_type": "code",
   "execution_count": 82,
   "id": "491a2098",
   "metadata": {},
   "outputs": [
    {
     "name": "stdout",
     "output_type": "stream",
     "text": [
      "Current value: 0\n",
      "Current value: 1\n",
      "0\n",
      "Current value: 1\n",
      "0\n",
      "Current value: 2\n",
      "0\n",
      "1\n",
      "Current value: 3\n",
      "0\n",
      "1\n",
      "1\n",
      "Current value: 5\n",
      "0\n",
      "1\n",
      "1\n",
      "2\n",
      "3\n",
      "Current value: 8\n",
      "0\n",
      "1\n",
      "1\n",
      "2\n",
      "3\n",
      "5\n",
      "8\n",
      "13\n",
      "Current value: 13\n",
      "0\n",
      "1\n",
      "1\n",
      "2\n",
      "3\n",
      "5\n",
      "8\n",
      "13\n",
      "21\n",
      "34\n",
      "55\n",
      "89\n",
      "144\n"
     ]
    }
   ],
   "source": [
    "import fibonacci as fib\n",
    "\n",
    "vals = fib_list(8)\n",
    "for i in vals:\n",
    "    print('Current value: {0}'.format(i))\n",
    "    fib_num(i)"
   ]
  },
  {
   "cell_type": "markdown",
   "id": "e923ce58",
   "metadata": {},
   "source": [
    "Let's say we moved our new file to a directory called `modules` in our current working directory:"
   ]
  },
  {
   "cell_type": "code",
   "execution_count": 83,
   "id": "d81f9b92",
   "metadata": {},
   "outputs": [],
   "source": [
    "import os\n",
    "os.mkdir('modules')\n",
    "os.rename('fibonacci.py', 'modules/fibonacci.py') # we can use rename to move files like so"
   ]
  },
  {
   "cell_type": "code",
   "execution_count": 86,
   "id": "5c750cb9",
   "metadata": {},
   "outputs": [
    {
     "data": {
      "text/plain": [
       "['fibonacci.py']"
      ]
     },
     "execution_count": 86,
     "metadata": {},
     "output_type": "execute_result"
    }
   ],
   "source": [
    "os.listdir('modules')"
   ]
  },
  {
   "cell_type": "markdown",
   "id": "2713b51e",
   "metadata": {},
   "source": [
    "Now, if we want to call `fibonacci.py`, we have to add `modules` to our import statement. The syntax is similar to how we call modules like `scipy.linalg`, and we can use either of the methods below:"
   ]
  },
  {
   "cell_type": "code",
   "execution_count": 88,
   "id": "8a05d406",
   "metadata": {},
   "outputs": [
    {
     "data": {
      "text/plain": [
       "[0, 1, 1, 2, 3]"
      ]
     },
     "execution_count": 88,
     "metadata": {},
     "output_type": "execute_result"
    }
   ],
   "source": [
    "import modules.fibonacci as fib\n",
    "fib.fib_list(5)"
   ]
  },
  {
   "cell_type": "code",
   "execution_count": 89,
   "id": "9930f3e1",
   "metadata": {},
   "outputs": [
    {
     "data": {
      "text/plain": [
       "[0, 1, 1, 2, 3]"
      ]
     },
     "execution_count": 89,
     "metadata": {},
     "output_type": "execute_result"
    }
   ],
   "source": [
    "from modules import fibonacci\n",
    "fibonacci.fib_list(5)"
   ]
  },
  {
   "cell_type": "markdown",
   "id": "cf82baaf",
   "metadata": {},
   "source": [
    "Creating your own modules is a very powerful tool when developing your own code. Understanding how they work is also instrumental if you end up developing code in published libraries in the future."
   ]
  }
 ],
 "metadata": {
  "kernelspec": {
   "display_name": "Python 3 (ipykernel)",
   "language": "python",
   "name": "python3"
  },
  "language_info": {
   "codemirror_mode": {
    "name": "ipython",
    "version": 3
   },
   "file_extension": ".py",
   "mimetype": "text/x-python",
   "name": "python",
   "nbconvert_exporter": "python",
   "pygments_lexer": "ipython3",
   "version": "3.9.16"
  }
 },
 "nbformat": 4,
 "nbformat_minor": 5
}
