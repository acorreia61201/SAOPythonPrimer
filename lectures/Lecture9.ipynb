{
 "cells": [
  {
   "cell_type": "markdown",
   "id": "80078a8c",
   "metadata": {},
   "source": [
    "# SAO/LIP Python Primer Course Lecture 9\n",
    "\n",
    "In this notebook, you will learn about:\n",
    "- Error types\n",
    "- Assertions\n",
    "- `try`/`except` statements\n",
    "\n",
    "[![Open In Colab](https://colab.research.google.com/assets/colab-badge.svg)](https://colab.research.google.com/github/acorreia61201/SAOPythonPrimer/blob/main/lectures/Lecture9.ipynb)\n",
    "\n",
    "Over the course of this summer and your programming career, you're guaranteed to encounter a multitude of errors when developing and running code. This isn't a matter of experience; even the best programmers run into them all the time. What defines a good programmer is understanding how to quickly detect and fix errors when they show up. For the first half of this lecture, we'll go over some strategies to recognize and handle some common Python errors.\n",
    "\n",
    "## Common Errors\n",
    "\n",
    "Let's start simple; try running the cell below:"
   ]
  },
  {
   "cell_type": "code",
   "execution_count": 3,
   "id": "97ee135e",
   "metadata": {},
   "outputs": [
    {
     "ename": "SyntaxError",
     "evalue": "unexpected EOF while parsing (3371412170.py, line 1)",
     "output_type": "error",
     "traceback": [
      "\u001b[0;36m  Cell \u001b[0;32mIn[3], line 1\u001b[0;36m\u001b[0m\n\u001b[0;31m    print('hello world'\u001b[0m\n\u001b[0m                       ^\u001b[0m\n\u001b[0;31mSyntaxError\u001b[0m\u001b[0;31m:\u001b[0m unexpected EOF while parsing\n"
     ]
    }
   ],
   "source": [
    "print('hello world'"
   ]
  },
  {
   "cell_type": "markdown",
   "id": "e3464a98",
   "metadata": {},
   "source": [
    "You should've gotten a `SyntaxError`. You'll most commonly encounter these from simple typos when calling built-in functions or writing loops. This is basically Python's way of saying \"I don't understand you\". In this particular example, we can see the error name in red and a short description describing what went wrong. Here, we get `unexpected EOF while parsing`. *EOF* stands for end-of-file, and this message basically means that the Python interpreter reached the end of your code without seeing an ending parenthesis.\n",
    "\n",
    "You can also see that the error prints out the cell and line that the error took place at. For syntax errors, it even puts a carat where the error occurred. Let's see some other examples:"
   ]
  },
  {
   "cell_type": "code",
   "execution_count": 4,
   "id": "74e37676",
   "metadata": {},
   "outputs": [
    {
     "ename": "SyntaxError",
     "evalue": "Missing parentheses in call to 'print'. Did you mean print('hello world')? (2134528244.py, line 1)",
     "output_type": "error",
     "traceback": [
      "\u001b[0;36m  Cell \u001b[0;32mIn[4], line 1\u001b[0;36m\u001b[0m\n\u001b[0;31m    print 'hello world'\u001b[0m\n\u001b[0m          ^\u001b[0m\n\u001b[0;31mSyntaxError\u001b[0m\u001b[0;31m:\u001b[0m Missing parentheses in call to 'print'. Did you mean print('hello world')?\n"
     ]
    }
   ],
   "source": [
    "print 'hello world'"
   ]
  },
  {
   "cell_type": "code",
   "execution_count": 5,
   "id": "8a5b0792",
   "metadata": {},
   "outputs": [
    {
     "ename": "SyntaxError",
     "evalue": "invalid syntax (2515896095.py, line 1)",
     "output_type": "error",
     "traceback": [
      "\u001b[0;36m  Cell \u001b[0;32mIn[5], line 1\u001b[0;36m\u001b[0m\n\u001b[0;31m    def func(x)\u001b[0m\n\u001b[0m               ^\u001b[0m\n\u001b[0;31mSyntaxError\u001b[0m\u001b[0;31m:\u001b[0m invalid syntax\n"
     ]
    }
   ],
   "source": [
    "def func(x)\n",
    "    print(x)"
   ]
  },
  {
   "cell_type": "code",
   "execution_count": 13,
   "id": "ceac2069",
   "metadata": {},
   "outputs": [
    {
     "ename": "SyntaxError",
     "evalue": "invalid syntax (2793605282.py, line 2)",
     "output_type": "error",
     "traceback": [
      "\u001b[0;36m  Cell \u001b[0;32mIn[13], line 2\u001b[0;36m\u001b[0m\n\u001b[0;31m    print(i ?= 5)\u001b[0m\n\u001b[0m            ^\u001b[0m\n\u001b[0;31mSyntaxError\u001b[0m\u001b[0;31m:\u001b[0m invalid syntax\n"
     ]
    }
   ],
   "source": [
    "for i in range(5):\n",
    "    print(i ?= 5)"
   ]
  },
  {
   "cell_type": "markdown",
   "id": "5008acda",
   "metadata": {},
   "source": [
    "When dealing with iterables, you may encounter an `IndexError`. This shows up when you try to call an invalid index from an object. The message associated with this is usually `list index out of range`, which means exactly what it says - you tried to call an index outside of the range of your iterable."
   ]
  },
  {
   "cell_type": "code",
   "execution_count": 17,
   "id": "5dfc6647",
   "metadata": {},
   "outputs": [
    {
     "ename": "IndexError",
     "evalue": "list index out of range",
     "output_type": "error",
     "traceback": [
      "\u001b[0;31m---------------------------------------------------------------------------\u001b[0m",
      "\u001b[0;31mIndexError\u001b[0m                                Traceback (most recent call last)",
      "Cell \u001b[0;32mIn[17], line 2\u001b[0m\n\u001b[1;32m      1\u001b[0m list_eg \u001b[38;5;241m=\u001b[39m [\u001b[38;5;241m1\u001b[39m, \u001b[38;5;241m2\u001b[39m, \u001b[38;5;241m3\u001b[39m, \u001b[38;5;241m4\u001b[39m]\n\u001b[0;32m----> 2\u001b[0m \u001b[43mlist_eg\u001b[49m\u001b[43m[\u001b[49m\u001b[38;5;241;43m4\u001b[39;49m\u001b[43m]\u001b[49m\n",
      "\u001b[0;31mIndexError\u001b[0m: list index out of range"
     ]
    }
   ],
   "source": [
    "list_eg = [1, 2, 3, 4]\n",
    "list_eg[4]"
   ]
  },
  {
   "cell_type": "markdown",
   "id": "52f5c753",
   "metadata": {},
   "source": [
    "This error primarily happens when you try calling an index greater than the length of the list minus one. Recall that we can use negative indices to count backwards from the last element in a list. "
   ]
  },
  {
   "cell_type": "code",
   "execution_count": 19,
   "id": "e4e88afd",
   "metadata": {},
   "outputs": [
    {
     "data": {
      "text/plain": [
       "4"
      ]
     },
     "execution_count": 19,
     "metadata": {},
     "output_type": "execute_result"
    }
   ],
   "source": [
    "list_eg[-1]"
   ]
  },
  {
   "cell_type": "markdown",
   "id": "0ec23860",
   "metadata": {},
   "source": [
    "When iterating, we can also ensure that we're iterating over only the length of the list by using `range(len(list))`:"
   ]
  },
  {
   "cell_type": "code",
   "execution_count": 20,
   "id": "fae37f18",
   "metadata": {},
   "outputs": [
    {
     "name": "stdout",
     "output_type": "stream",
     "text": [
      "1\n",
      "2\n",
      "3\n",
      "4\n"
     ]
    },
    {
     "ename": "IndexError",
     "evalue": "list index out of range",
     "output_type": "error",
     "traceback": [
      "\u001b[0;31m---------------------------------------------------------------------------\u001b[0m",
      "\u001b[0;31mIndexError\u001b[0m                                Traceback (most recent call last)",
      "Cell \u001b[0;32mIn[20], line 3\u001b[0m\n\u001b[1;32m      1\u001b[0m \u001b[38;5;66;03m# this will throw an error\u001b[39;00m\n\u001b[1;32m      2\u001b[0m \u001b[38;5;28;01mfor\u001b[39;00m i \u001b[38;5;129;01min\u001b[39;00m \u001b[38;5;28mrange\u001b[39m(\u001b[38;5;241m5\u001b[39m):\n\u001b[0;32m----> 3\u001b[0m     \u001b[38;5;28mprint\u001b[39m(\u001b[43mlist_eg\u001b[49m\u001b[43m[\u001b[49m\u001b[43mi\u001b[49m\u001b[43m]\u001b[49m)\n",
      "\u001b[0;31mIndexError\u001b[0m: list index out of range"
     ]
    }
   ],
   "source": [
    "# this will throw an error\n",
    "for i in range(5):\n",
    "    print(list_eg[i])"
   ]
  },
  {
   "cell_type": "code",
   "execution_count": 21,
   "id": "5f83bace",
   "metadata": {},
   "outputs": [
    {
     "name": "stdout",
     "output_type": "stream",
     "text": [
      "1\n",
      "2\n",
      "3\n",
      "4\n"
     ]
    }
   ],
   "source": [
    "# this will not; in fact, we could substitute list_eg for any list and not get an error\n",
    "for i in range(len(list_eg)):\n",
    "    print(list_eg[i])"
   ]
  },
  {
   "cell_type": "markdown",
   "id": "23b18018",
   "metadata": {},
   "source": [
    "On the subject of iterables, dictionaries have a special error known as a `KeyError`. This occurs when you try to call a key that doesn't exist in a dictionary."
   ]
  },
  {
   "cell_type": "code",
   "execution_count": 15,
   "id": "10950586",
   "metadata": {},
   "outputs": [
    {
     "ename": "KeyError",
     "evalue": "'dates'",
     "output_type": "error",
     "traceback": [
      "\u001b[0;31m---------------------------------------------------------------------------\u001b[0m",
      "\u001b[0;31mKeyError\u001b[0m                                  Traceback (most recent call last)",
      "Cell \u001b[0;32mIn[15], line 2\u001b[0m\n\u001b[1;32m      1\u001b[0m dict_eg \u001b[38;5;241m=\u001b[39m {\u001b[38;5;124m'\u001b[39m\u001b[38;5;124mapples\u001b[39m\u001b[38;5;124m'\u001b[39m:\u001b[38;5;124m'\u001b[39m\u001b[38;5;124mzebra\u001b[39m\u001b[38;5;124m'\u001b[39m, \u001b[38;5;124m'\u001b[39m\u001b[38;5;124mbananas\u001b[39m\u001b[38;5;124m'\u001b[39m:\u001b[38;5;124m'\u001b[39m\u001b[38;5;124myak\u001b[39m\u001b[38;5;124m'\u001b[39m, \u001b[38;5;124m'\u001b[39m\u001b[38;5;124mcherries\u001b[39m\u001b[38;5;124m'\u001b[39m:\u001b[38;5;124m'\u001b[39m\u001b[38;5;124mwalrus\u001b[39m\u001b[38;5;124m'\u001b[39m}\n\u001b[0;32m----> 2\u001b[0m \u001b[43mdict_eg\u001b[49m\u001b[43m[\u001b[49m\u001b[38;5;124;43m'\u001b[39;49m\u001b[38;5;124;43mdates\u001b[39;49m\u001b[38;5;124;43m'\u001b[39;49m\u001b[43m]\u001b[49m\n",
      "\u001b[0;31mKeyError\u001b[0m: 'dates'"
     ]
    }
   ],
   "source": [
    "dict_eg = {'apples':'zebra', 'bananas':'yak', 'cherries':'walrus'}\n",
    "dict_eg['dates']"
   ]
  },
  {
   "cell_type": "markdown",
   "id": "d70cc321",
   "metadata": {},
   "source": [
    "To avoid this, we can just ensure that the key we want to access is in the dictionary's `items()`:"
   ]
  },
  {
   "cell_type": "code",
   "execution_count": 22,
   "id": "726eef61",
   "metadata": {},
   "outputs": [
    {
     "name": "stdout",
     "output_type": "stream",
     "text": [
      "apples\n",
      "bananas\n",
      "cherries\n"
     ]
    }
   ],
   "source": [
    "for key, val in dict_eg.items():\n",
    "    print(key)"
   ]
  },
  {
   "cell_type": "markdown",
   "id": "521bd345",
   "metadata": {},
   "source": [
    "We can also use `get()` if we want to get the value of a key. If the key doesn't exist, this function returns `None` rather than crashing the program:"
   ]
  },
  {
   "cell_type": "code",
   "execution_count": 23,
   "id": "08a14019",
   "metadata": {},
   "outputs": [
    {
     "data": {
      "text/plain": [
       "'zebra'"
      ]
     },
     "execution_count": 23,
     "metadata": {},
     "output_type": "execute_result"
    }
   ],
   "source": [
    "dict_eg.get('apples') # should return 'zebra'"
   ]
  },
  {
   "cell_type": "code",
   "execution_count": 24,
   "id": "41d60136",
   "metadata": {},
   "outputs": [],
   "source": [
    "dict_eg.get('dates') # should return nothing, not even an error"
   ]
  },
  {
   "cell_type": "markdown",
   "id": "15ffa3f7",
   "metadata": {},
   "source": [
    "The next two errors deal with importing modules. If you try calling a module that doesn't exist on your local machine, you'll get a `ModuleNotFoundError`. For example, let's say I wanted to use `scipy`, but I misspelled the module name:"
   ]
  },
  {
   "cell_type": "code",
   "execution_count": 27,
   "id": "3715fa0e",
   "metadata": {},
   "outputs": [
    {
     "ename": "ModuleNotFoundError",
     "evalue": "No module named 'scpiy'",
     "output_type": "error",
     "traceback": [
      "\u001b[0;31m---------------------------------------------------------------------------\u001b[0m",
      "\u001b[0;31mModuleNotFoundError\u001b[0m                       Traceback (most recent call last)",
      "Cell \u001b[0;32mIn[27], line 1\u001b[0m\n\u001b[0;32m----> 1\u001b[0m \u001b[38;5;28;01mimport\u001b[39;00m \u001b[38;5;21;01mscpiy\u001b[39;00m\n",
      "\u001b[0;31mModuleNotFoundError\u001b[0m: No module named 'scpiy'"
     ]
    }
   ],
   "source": [
    "import scpiy"
   ]
  },
  {
   "cell_type": "markdown",
   "id": "0b16cf23",
   "metadata": {},
   "source": [
    "This can happen if you try importing a module that you haven't installed properly on your machine. For example, I use a library called `pycbc` to do gravitational wave research. It definitely exists, but if you don't have it installed and built correctly you'll get the same error:"
   ]
  },
  {
   "cell_type": "code",
   "execution_count": 26,
   "id": "43c78cb7",
   "metadata": {},
   "outputs": [
    {
     "ename": "ModuleNotFoundError",
     "evalue": "No module named 'pycbc'",
     "output_type": "error",
     "traceback": [
      "\u001b[0;31m---------------------------------------------------------------------------\u001b[0m",
      "\u001b[0;31mModuleNotFoundError\u001b[0m                       Traceback (most recent call last)",
      "Cell \u001b[0;32mIn[26], line 1\u001b[0m\n\u001b[0;32m----> 1\u001b[0m \u001b[38;5;28;01mimport\u001b[39;00m \u001b[38;5;21;01mpycbc\u001b[39;00m\n",
      "\u001b[0;31mModuleNotFoundError\u001b[0m: No module named 'pycbc'"
     ]
    }
   ],
   "source": [
    "import pycbc"
   ]
  },
  {
   "cell_type": "markdown",
   "id": "f0143c08",
   "metadata": {},
   "source": [
    "If you're certain that you ran `pip install module`, there may be some issues with how you installed it. The solution may lie in `conda` and creating environments, which lies outside of the scope of this course.\n",
    "\n",
    "Another type of error we can get when importing libraries is an `ImportError`. This is similar to a `ModuleNotFoundError`, except one level down; it shows up when we try to call specific functions that don't exist in existing libraries:"
   ]
  },
  {
   "cell_type": "code",
   "execution_count": 28,
   "id": "d70a31eb",
   "metadata": {},
   "outputs": [
    {
     "ename": "ImportError",
     "evalue": "cannot import name 'cube' from 'math' (/home/acorreia7/anaconda3/envs/py39/lib/python3.9/lib-dynload/math.cpython-39-x86_64-linux-gnu.so)",
     "output_type": "error",
     "traceback": [
      "\u001b[0;31m---------------------------------------------------------------------------\u001b[0m",
      "\u001b[0;31mImportError\u001b[0m                               Traceback (most recent call last)",
      "Cell \u001b[0;32mIn[28], line 1\u001b[0m\n\u001b[0;32m----> 1\u001b[0m \u001b[38;5;28;01mfrom\u001b[39;00m \u001b[38;5;21;01mmath\u001b[39;00m \u001b[38;5;28;01mimport\u001b[39;00m cube\n",
      "\u001b[0;31mImportError\u001b[0m: cannot import name 'cube' from 'math' (/home/acorreia7/anaconda3/envs/py39/lib/python3.9/lib-dynload/math.cpython-39-x86_64-linux-gnu.so)"
     ]
    }
   ],
   "source": [
    "from math import cube"
   ]
  },
  {
   "cell_type": "markdown",
   "id": "0419ee42",
   "metadata": {},
   "source": [
    "Another very common error you'll run into is `TypeError`. This occurs when you input an incorrect data type into a function. For example, this error would show up if I tried indexing a list by a float:"
   ]
  },
  {
   "cell_type": "code",
   "execution_count": 29,
   "id": "c4ef74a4",
   "metadata": {},
   "outputs": [
    {
     "ename": "TypeError",
     "evalue": "list indices must be integers or slices, not float",
     "output_type": "error",
     "traceback": [
      "\u001b[0;31m---------------------------------------------------------------------------\u001b[0m",
      "\u001b[0;31mTypeError\u001b[0m                                 Traceback (most recent call last)",
      "Cell \u001b[0;32mIn[29], line 1\u001b[0m\n\u001b[0;32m----> 1\u001b[0m \u001b[43mlist_eg\u001b[49m\u001b[43m[\u001b[49m\u001b[38;5;241;43m0.5\u001b[39;49m\u001b[43m]\u001b[49m\n",
      "\u001b[0;31mTypeError\u001b[0m: list indices must be integers or slices, not float"
     ]
    }
   ],
   "source": [
    "list_eg[0.5]"
   ]
  },
  {
   "cell_type": "markdown",
   "id": "d5a1b46c",
   "metadata": {},
   "source": [
    "It also shows up when I try to add different types, like strings and integers. For reference, we can obviously do integer addition just fine, and Python allows us to add strings by appending them:"
   ]
  },
  {
   "cell_type": "code",
   "execution_count": 30,
   "id": "02b26e6c",
   "metadata": {},
   "outputs": [
    {
     "data": {
      "text/plain": [
       "3"
      ]
     },
     "execution_count": 30,
     "metadata": {},
     "output_type": "execute_result"
    }
   ],
   "source": [
    "1 + 2"
   ]
  },
  {
   "cell_type": "code",
   "execution_count": 31,
   "id": "8128f751",
   "metadata": {},
   "outputs": [
    {
     "data": {
      "text/plain": [
       "'onetwo'"
      ]
     },
     "execution_count": 31,
     "metadata": {},
     "output_type": "execute_result"
    }
   ],
   "source": [
    "'one' + 'two'"
   ]
  },
  {
   "cell_type": "markdown",
   "id": "f1a4858b",
   "metadata": {},
   "source": [
    "However, let's see what happens if we try to mix them:"
   ]
  },
  {
   "cell_type": "code",
   "execution_count": 32,
   "id": "93a3f6a3",
   "metadata": {},
   "outputs": [
    {
     "ename": "TypeError",
     "evalue": "unsupported operand type(s) for +: 'int' and 'str'",
     "output_type": "error",
     "traceback": [
      "\u001b[0;31m---------------------------------------------------------------------------\u001b[0m",
      "\u001b[0;31mTypeError\u001b[0m                                 Traceback (most recent call last)",
      "Cell \u001b[0;32mIn[32], line 1\u001b[0m\n\u001b[0;32m----> 1\u001b[0m \u001b[38;5;241;43m1\u001b[39;49m\u001b[43m \u001b[49m\u001b[38;5;241;43m+\u001b[39;49m\u001b[43m \u001b[49m\u001b[38;5;124;43m'\u001b[39;49m\u001b[38;5;124;43mtwo\u001b[39;49m\u001b[38;5;124;43m'\u001b[39;49m\n",
      "\u001b[0;31mTypeError\u001b[0m: unsupported operand type(s) for +: 'int' and 'str'"
     ]
    }
   ],
   "source": [
    "1 + 'two'"
   ]
  },
  {
   "cell_type": "markdown",
   "id": "4c6644f5",
   "metadata": {},
   "source": [
    "If we try passing an improper value as an input to a function, we'll get a `ValueError`."
   ]
  },
  {
   "cell_type": "code",
   "execution_count": 33,
   "id": "faf96a19",
   "metadata": {},
   "outputs": [
    {
     "ename": "ValueError",
     "evalue": "math domain error",
     "output_type": "error",
     "traceback": [
      "\u001b[0;31m---------------------------------------------------------------------------\u001b[0m",
      "\u001b[0;31mValueError\u001b[0m                                Traceback (most recent call last)",
      "Cell \u001b[0;32mIn[33], line 2\u001b[0m\n\u001b[1;32m      1\u001b[0m \u001b[38;5;28;01mimport\u001b[39;00m \u001b[38;5;21;01mmath\u001b[39;00m\n\u001b[0;32m----> 2\u001b[0m \u001b[43mmath\u001b[49m\u001b[38;5;241;43m.\u001b[39;49m\u001b[43msqrt\u001b[49m\u001b[43m(\u001b[49m\u001b[38;5;241;43m-\u001b[39;49m\u001b[38;5;241;43m100\u001b[39;49m\u001b[43m)\u001b[49m \u001b[38;5;66;03m# negative number sqrts are undefined in the real domain\u001b[39;00m\n",
      "\u001b[0;31mValueError\u001b[0m: math domain error"
     ]
    }
   ],
   "source": [
    "import math\n",
    "math.sqrt(-100) # negative number sqrts are undefined in the real domain"
   ]
  },
  {
   "cell_type": "code",
   "execution_count": 34,
   "id": "d161fbae",
   "metadata": {},
   "outputs": [
    {
     "ename": "ValueError",
     "evalue": "invalid literal for int() with base 10: 'xyz'",
     "output_type": "error",
     "traceback": [
      "\u001b[0;31m---------------------------------------------------------------------------\u001b[0m",
      "\u001b[0;31mValueError\u001b[0m                                Traceback (most recent call last)",
      "Cell \u001b[0;32mIn[34], line 1\u001b[0m\n\u001b[0;32m----> 1\u001b[0m \u001b[38;5;28;43mint\u001b[39;49m\u001b[43m(\u001b[49m\u001b[38;5;124;43m'\u001b[39;49m\u001b[38;5;124;43mxyz\u001b[39;49m\u001b[38;5;124;43m'\u001b[39;49m\u001b[43m)\u001b[49m \u001b[38;5;66;03m# we can't cast strings to integers\u001b[39;00m\n",
      "\u001b[0;31mValueError\u001b[0m: invalid literal for int() with base 10: 'xyz'"
     ]
    }
   ],
   "source": [
    "int('xyz') # we can't cast strings to integers"
   ]
  },
  {
   "cell_type": "markdown",
   "id": "f1500982",
   "metadata": {},
   "source": [
    "If we try calling an undefined variable, we'll get a `NameError`:"
   ]
  },
  {
   "cell_type": "code",
   "execution_count": 36,
   "id": "ea29525b",
   "metadata": {},
   "outputs": [
    {
     "ename": "NameError",
     "evalue": "name 'var' is not defined",
     "output_type": "error",
     "traceback": [
      "\u001b[0;31m---------------------------------------------------------------------------\u001b[0m",
      "\u001b[0;31mNameError\u001b[0m                                 Traceback (most recent call last)",
      "Cell \u001b[0;32mIn[36], line 1\u001b[0m\n\u001b[0;32m----> 1\u001b[0m \u001b[43mvar\u001b[49m \u001b[38;5;66;03m# we didn't define this anywhere\u001b[39;00m\n",
      "\u001b[0;31mNameError\u001b[0m: name 'var' is not defined"
     ]
    }
   ],
   "source": [
    "var # we didn't define this anywhere"
   ]
  },
  {
   "cell_type": "markdown",
   "id": "c2ae3d42",
   "metadata": {},
   "source": [
    "Division by zero has its own special error, the `ZeroDivisionError`:"
   ]
  },
  {
   "cell_type": "code",
   "execution_count": 37,
   "id": "c572d574",
   "metadata": {},
   "outputs": [
    {
     "ename": "ZeroDivisionError",
     "evalue": "division by zero",
     "output_type": "error",
     "traceback": [
      "\u001b[0;31m---------------------------------------------------------------------------\u001b[0m",
      "\u001b[0;31mZeroDivisionError\u001b[0m                         Traceback (most recent call last)",
      "Cell \u001b[0;32mIn[37], line 1\u001b[0m\n\u001b[0;32m----> 1\u001b[0m \u001b[38;5;241;43m100\u001b[39;49m\u001b[38;5;241;43m/\u001b[39;49m\u001b[38;5;241;43m0\u001b[39;49m\n",
      "\u001b[0;31mZeroDivisionError\u001b[0m: division by zero"
     ]
    }
   ],
   "source": [
    "100/0"
   ]
  },
  {
   "cell_type": "markdown",
   "id": "f84ff5db",
   "metadata": {},
   "source": [
    "If we're writing a function or loop and forget to indent a line, we'll get an `IndentationError`:"
   ]
  },
  {
   "cell_type": "code",
   "execution_count": 38,
   "id": "1659434d",
   "metadata": {},
   "outputs": [
    {
     "ename": "IndentationError",
     "evalue": "expected an indented block (1623740069.py, line 2)",
     "output_type": "error",
     "traceback": [
      "\u001b[0;36m  Cell \u001b[0;32mIn[38], line 2\u001b[0;36m\u001b[0m\n\u001b[0;31m    return x\u001b[0m\n\u001b[0m    ^\u001b[0m\n\u001b[0;31mIndentationError\u001b[0m\u001b[0;31m:\u001b[0m expected an indented block\n"
     ]
    }
   ],
   "source": [
    "def func(x):\n",
    "return x"
   ]
  },
  {
   "cell_type": "code",
   "execution_count": 39,
   "id": "46c4f930",
   "metadata": {},
   "outputs": [
    {
     "ename": "IndentationError",
     "evalue": "expected an indented block (3695896917.py, line 2)",
     "output_type": "error",
     "traceback": [
      "\u001b[0;36m  Cell \u001b[0;32mIn[39], line 2\u001b[0;36m\u001b[0m\n\u001b[0;31m    print(i)\u001b[0m\n\u001b[0m    ^\u001b[0m\n\u001b[0;31mIndentationError\u001b[0m\u001b[0;31m:\u001b[0m expected an indented block\n"
     ]
    }
   ],
   "source": [
    "for i in range(5):\n",
    "print(i)"
   ]
  },
  {
   "cell_type": "markdown",
   "id": "b74f5dcf",
   "metadata": {},
   "source": [
    "Fortunately, IDEs like Jupyter and VSCode tend to automatically generate tabs when writing functions (that is, if you remembered to put a colon in the first statement).\n",
    "\n",
    "These are just some of the many errors you can encounter. Some functions have their own errors that can be called from misusing the functions. An example:"
   ]
  },
  {
   "cell_type": "code",
   "execution_count": 42,
   "id": "681360c1",
   "metadata": {},
   "outputs": [
    {
     "ename": "LinAlgError",
     "evalue": "Singular matrix",
     "output_type": "error",
     "traceback": [
      "\u001b[0;31m---------------------------------------------------------------------------\u001b[0m",
      "\u001b[0;31mLinAlgError\u001b[0m                               Traceback (most recent call last)",
      "Cell \u001b[0;32mIn[42], line 5\u001b[0m\n\u001b[1;32m      2\u001b[0m \u001b[38;5;28;01mimport\u001b[39;00m \u001b[38;5;21;01mnumpy\u001b[39;00m \u001b[38;5;28;01mas\u001b[39;00m \u001b[38;5;21;01mnp\u001b[39;00m\n\u001b[1;32m      4\u001b[0m mat \u001b[38;5;241m=\u001b[39m np\u001b[38;5;241m.\u001b[39marray([[\u001b[38;5;241m2\u001b[39m, \u001b[38;5;241m5\u001b[39m], [\u001b[38;5;241m2\u001b[39m, \u001b[38;5;241m5\u001b[39m]])\n\u001b[0;32m----> 5\u001b[0m \u001b[43mnp\u001b[49m\u001b[38;5;241;43m.\u001b[39;49m\u001b[43mlinalg\u001b[49m\u001b[38;5;241;43m.\u001b[39;49m\u001b[43minv\u001b[49m\u001b[43m(\u001b[49m\u001b[43mmat\u001b[49m\u001b[43m)\u001b[49m\n",
      "File \u001b[0;32m<__array_function__ internals>:200\u001b[0m, in \u001b[0;36minv\u001b[0;34m(*args, **kwargs)\u001b[0m\n",
      "File \u001b[0;32m~/anaconda3/envs/py39/lib/python3.9/site-packages/numpy/linalg/linalg.py:538\u001b[0m, in \u001b[0;36minv\u001b[0;34m(a)\u001b[0m\n\u001b[1;32m    536\u001b[0m signature \u001b[38;5;241m=\u001b[39m \u001b[38;5;124m'\u001b[39m\u001b[38;5;124mD->D\u001b[39m\u001b[38;5;124m'\u001b[39m \u001b[38;5;28;01mif\u001b[39;00m isComplexType(t) \u001b[38;5;28;01melse\u001b[39;00m \u001b[38;5;124m'\u001b[39m\u001b[38;5;124md->d\u001b[39m\u001b[38;5;124m'\u001b[39m\n\u001b[1;32m    537\u001b[0m extobj \u001b[38;5;241m=\u001b[39m get_linalg_error_extobj(_raise_linalgerror_singular)\n\u001b[0;32m--> 538\u001b[0m ainv \u001b[38;5;241m=\u001b[39m \u001b[43m_umath_linalg\u001b[49m\u001b[38;5;241;43m.\u001b[39;49m\u001b[43minv\u001b[49m\u001b[43m(\u001b[49m\u001b[43ma\u001b[49m\u001b[43m,\u001b[49m\u001b[43m \u001b[49m\u001b[43msignature\u001b[49m\u001b[38;5;241;43m=\u001b[39;49m\u001b[43msignature\u001b[49m\u001b[43m,\u001b[49m\u001b[43m \u001b[49m\u001b[43mextobj\u001b[49m\u001b[38;5;241;43m=\u001b[39;49m\u001b[43mextobj\u001b[49m\u001b[43m)\u001b[49m\n\u001b[1;32m    539\u001b[0m \u001b[38;5;28;01mreturn\u001b[39;00m wrap(ainv\u001b[38;5;241m.\u001b[39mastype(result_t, copy\u001b[38;5;241m=\u001b[39m\u001b[38;5;28;01mFalse\u001b[39;00m))\n",
      "File \u001b[0;32m~/anaconda3/envs/py39/lib/python3.9/site-packages/numpy/linalg/linalg.py:89\u001b[0m, in \u001b[0;36m_raise_linalgerror_singular\u001b[0;34m(err, flag)\u001b[0m\n\u001b[1;32m     88\u001b[0m \u001b[38;5;28;01mdef\u001b[39;00m \u001b[38;5;21m_raise_linalgerror_singular\u001b[39m(err, flag):\n\u001b[0;32m---> 89\u001b[0m     \u001b[38;5;28;01mraise\u001b[39;00m LinAlgError(\u001b[38;5;124m\"\u001b[39m\u001b[38;5;124mSingular matrix\u001b[39m\u001b[38;5;124m\"\u001b[39m)\n",
      "\u001b[0;31mLinAlgError\u001b[0m: Singular matrix"
     ]
    }
   ],
   "source": [
    "# trying to invert an uninvertible matrix\n",
    "import numpy as np\n",
    "\n",
    "mat = np.array([[2, 5], [2, 5]])\n",
    "np.linalg.inv(mat)"
   ]
  },
  {
   "cell_type": "markdown",
   "id": "b26bd692",
   "metadata": {},
   "source": [
    "Generally, errors thrown by libraries have pretty verbose outputs. It may seem like a bit much, but usually the last line can give you a good idea of what the error is, and the first line can tell you where it is. \n",
    "\n",
    "## Assertions\n",
    "\n",
    "There are two types of statements that give greater control over how errors show up in your programs. The first is the `assert` statement, which generates a unique error type, the `AssertionError`. It's mostly used when developing code to check if the code is outputting the proper data types.\n",
    "\n",
    "Let's use a simple example. We'll define a variable as below:"
   ]
  },
  {
   "cell_type": "code",
   "execution_count": 43,
   "id": "a65bdc6e",
   "metadata": {},
   "outputs": [],
   "source": [
    "x = 'hello'"
   ]
  },
  {
   "cell_type": "markdown",
   "id": "871e9b46",
   "metadata": {},
   "source": [
    "If we want to ensure that `x` has the value `hello`, we can use an assertion with the following syntax:"
   ]
  },
  {
   "cell_type": "code",
   "execution_count": 44,
   "id": "428df931",
   "metadata": {},
   "outputs": [],
   "source": [
    "assert x == 'hello'"
   ]
  },
  {
   "cell_type": "markdown",
   "id": "3e37e03d",
   "metadata": {},
   "source": [
    "If the condition following `assert` is true, then nothing happens. However, let's see what happens when we change the condition:"
   ]
  },
  {
   "cell_type": "code",
   "execution_count": 45,
   "id": "38193586",
   "metadata": {},
   "outputs": [
    {
     "ename": "AssertionError",
     "evalue": "",
     "output_type": "error",
     "traceback": [
      "\u001b[0;31m---------------------------------------------------------------------------\u001b[0m",
      "\u001b[0;31mAssertionError\u001b[0m                            Traceback (most recent call last)",
      "Cell \u001b[0;32mIn[45], line 1\u001b[0m\n\u001b[0;32m----> 1\u001b[0m \u001b[38;5;28;01massert\u001b[39;00m x \u001b[38;5;241m==\u001b[39m \u001b[38;5;124m'\u001b[39m\u001b[38;5;124mgoodbye\u001b[39m\u001b[38;5;124m'\u001b[39m\n",
      "\u001b[0;31mAssertionError\u001b[0m: "
     ]
    }
   ],
   "source": [
    "assert x == 'goodbye'"
   ]
  },
  {
   "cell_type": "markdown",
   "id": "0e92d687",
   "metadata": {},
   "source": [
    "If the condition is false, then an `AssertionError` is raised. In this regard, `assert` statements work almost inversely to `if` statements, which carry out a code block only if the condition is true and do nothing otherwise.\n",
    "\n",
    "Let's use a more complicated example. Let's say I wanted to write a function that converts temperatures from Kelvin to Celsius. They share the same scale (i.e. an increase of one Kelvin corresponds to an increase of one degree Celsius); all we have to do is subtract 273 from the Kelvin measurement to get a Celsius measurement:"
   ]
  },
  {
   "cell_type": "code",
   "execution_count": 46,
   "id": "d2978982",
   "metadata": {},
   "outputs": [],
   "source": [
    "def KtoC(temp):\n",
    "    return temp - 273"
   ]
  },
  {
   "cell_type": "markdown",
   "id": "346dfefa",
   "metadata": {},
   "source": [
    "This is a completely fine function. As long as the input is an `int` or a `float`, it'll run without a hitch. There's just one conceptual problem: a temperature of zero Kelvin is defined to be absolute zero, the coldest temperature an object can be. Therefore, we physically can't have an input less than zero. Of course, there's nothing stopping this programmatically:"
   ]
  },
  {
   "cell_type": "code",
   "execution_count": 47,
   "id": "11ac033d",
   "metadata": {},
   "outputs": [
    {
     "data": {
      "text/plain": [
       "-278"
      ]
     },
     "execution_count": 47,
     "metadata": {},
     "output_type": "execute_result"
    }
   ],
   "source": [
    "KtoC(-5)"
   ]
  },
  {
   "cell_type": "markdown",
   "id": "9ffcd1d0",
   "metadata": {},
   "source": [
    "We can insert an `assert` statement in this function to raise an error whenever the input is less than zero as follows:"
   ]
  },
  {
   "cell_type": "code",
   "execution_count": 48,
   "id": "cd62bd8d",
   "metadata": {},
   "outputs": [],
   "source": [
    "def KtoC(temp):\n",
    "    assert temp >= 0\n",
    "    return temp - 273"
   ]
  },
  {
   "cell_type": "markdown",
   "id": "312800a5",
   "metadata": {},
   "source": [
    "The function now works just fine for values greater than 0:"
   ]
  },
  {
   "cell_type": "code",
   "execution_count": 49,
   "id": "059a8cf5",
   "metadata": {},
   "outputs": [
    {
     "data": {
      "text/plain": [
       "27"
      ]
     },
     "execution_count": 49,
     "metadata": {},
     "output_type": "execute_result"
    }
   ],
   "source": [
    "KtoC(300)"
   ]
  },
  {
   "cell_type": "markdown",
   "id": "ce72ef74",
   "metadata": {},
   "source": [
    "But if we try to input a negative value, we get an error:"
   ]
  },
  {
   "cell_type": "code",
   "execution_count": 50,
   "id": "edf51dd4",
   "metadata": {},
   "outputs": [
    {
     "ename": "AssertionError",
     "evalue": "",
     "output_type": "error",
     "traceback": [
      "\u001b[0;31m---------------------------------------------------------------------------\u001b[0m",
      "\u001b[0;31mAssertionError\u001b[0m                            Traceback (most recent call last)",
      "Cell \u001b[0;32mIn[50], line 1\u001b[0m\n\u001b[0;32m----> 1\u001b[0m \u001b[43mKtoC\u001b[49m\u001b[43m(\u001b[49m\u001b[38;5;241;43m-\u001b[39;49m\u001b[38;5;241;43m5\u001b[39;49m\u001b[43m)\u001b[49m\n",
      "Cell \u001b[0;32mIn[48], line 2\u001b[0m, in \u001b[0;36mKtoC\u001b[0;34m(temp)\u001b[0m\n\u001b[1;32m      1\u001b[0m \u001b[38;5;28;01mdef\u001b[39;00m \u001b[38;5;21mKtoC\u001b[39m(temp):\n\u001b[0;32m----> 2\u001b[0m     \u001b[38;5;28;01massert\u001b[39;00m temp \u001b[38;5;241m>\u001b[39m\u001b[38;5;241m=\u001b[39m \u001b[38;5;241m0\u001b[39m\n\u001b[1;32m      3\u001b[0m     \u001b[38;5;28;01mreturn\u001b[39;00m temp \u001b[38;5;241m-\u001b[39m \u001b[38;5;241m273\u001b[39m\n",
      "\u001b[0;31mAssertionError\u001b[0m: "
     ]
    }
   ],
   "source": [
    "KtoC(-5)"
   ]
  },
  {
   "cell_type": "markdown",
   "id": "c7e879ca",
   "metadata": {},
   "source": [
    "This ensures that our program makes physical sense. However, it would be nice if we could print a message with the error, as if it were a base Python error. We can do this as follows:"
   ]
  },
  {
   "cell_type": "code",
   "execution_count": 51,
   "id": "b6d2e1a6",
   "metadata": {},
   "outputs": [],
   "source": [
    "def KtoC(temp):\n",
    "    assert (temp >= 0), 'Kelvin input cannot be negative'\n",
    "    return temp - 273"
   ]
  },
  {
   "cell_type": "markdown",
   "id": "a1c56293",
   "metadata": {},
   "source": [
    "Now, when we input a negative value, we'll get an error with this message:"
   ]
  },
  {
   "cell_type": "code",
   "execution_count": 52,
   "id": "524fd2e1",
   "metadata": {},
   "outputs": [
    {
     "ename": "AssertionError",
     "evalue": "Kelvin input cannot be negative",
     "output_type": "error",
     "traceback": [
      "\u001b[0;31m---------------------------------------------------------------------------\u001b[0m",
      "\u001b[0;31mAssertionError\u001b[0m                            Traceback (most recent call last)",
      "Cell \u001b[0;32mIn[52], line 1\u001b[0m\n\u001b[0;32m----> 1\u001b[0m \u001b[43mKtoC\u001b[49m\u001b[43m(\u001b[49m\u001b[38;5;241;43m-\u001b[39;49m\u001b[38;5;241;43m5\u001b[39;49m\u001b[43m)\u001b[49m\n",
      "Cell \u001b[0;32mIn[51], line 2\u001b[0m, in \u001b[0;36mKtoC\u001b[0;34m(temp)\u001b[0m\n\u001b[1;32m      1\u001b[0m \u001b[38;5;28;01mdef\u001b[39;00m \u001b[38;5;21mKtoC\u001b[39m(temp):\n\u001b[0;32m----> 2\u001b[0m     \u001b[38;5;28;01massert\u001b[39;00m (temp \u001b[38;5;241m>\u001b[39m\u001b[38;5;241m=\u001b[39m \u001b[38;5;241m0\u001b[39m), \u001b[38;5;124m'\u001b[39m\u001b[38;5;124mKelvin input cannot be negative\u001b[39m\u001b[38;5;124m'\u001b[39m\n\u001b[1;32m      3\u001b[0m     \u001b[38;5;28;01mreturn\u001b[39;00m temp \u001b[38;5;241m-\u001b[39m \u001b[38;5;241m273\u001b[39m\n",
      "\u001b[0;31mAssertionError\u001b[0m: Kelvin input cannot be negative"
     ]
    }
   ],
   "source": [
    "KtoC(-5)"
   ]
  },
  {
   "cell_type": "markdown",
   "id": "5e46362a",
   "metadata": {},
   "source": [
    "Use assertions whenever you're trying to debug code, or when you want your code to only produce realistic results.\n",
    "\n",
    "## `try` and `except` statements\n",
    "\n",
    "We can also write programs so they don't outright terminate whenever we hit an error. We can do this using `try` and `except` statements. The code block in a `try` statement will attempt to run, just like any other code. If that code block runs into an error, the code in the `except` statement will run instead.\n",
    "\n",
    "For example, let's write a code that does a bunch of operations to an input number:"
   ]
  },
  {
   "cell_type": "code",
   "execution_count": 53,
   "id": "217b9a64",
   "metadata": {},
   "outputs": [],
   "source": [
    "def myfunc(x):\n",
    "    return (x + 1)**2/x"
   ]
  },
  {
   "cell_type": "markdown",
   "id": "2711fef9",
   "metadata": {},
   "source": [
    "Let's now iterate over the following list:"
   ]
  },
  {
   "cell_type": "code",
   "execution_count": 54,
   "id": "3a84a7c8",
   "metadata": {},
   "outputs": [],
   "source": [
    "mylist = [-4, -3, -2, -1, 0, 1, 2, 3, '4']"
   ]
  },
  {
   "cell_type": "code",
   "execution_count": 59,
   "id": "17af874f",
   "metadata": {},
   "outputs": [
    {
     "name": "stdout",
     "output_type": "stream",
     "text": [
      "-2.25\n",
      "-1.3333333333333333\n",
      "-0.5\n",
      "-0.0\n"
     ]
    },
    {
     "ename": "ZeroDivisionError",
     "evalue": "division by zero",
     "output_type": "error",
     "traceback": [
      "\u001b[0;31m---------------------------------------------------------------------------\u001b[0m",
      "\u001b[0;31mZeroDivisionError\u001b[0m                         Traceback (most recent call last)",
      "Cell \u001b[0;32mIn[59], line 2\u001b[0m\n\u001b[1;32m      1\u001b[0m \u001b[38;5;28;01mfor\u001b[39;00m i \u001b[38;5;129;01min\u001b[39;00m mylist:\n\u001b[0;32m----> 2\u001b[0m     val \u001b[38;5;241m=\u001b[39m \u001b[43mmyfunc\u001b[49m\u001b[43m(\u001b[49m\u001b[43mi\u001b[49m\u001b[43m)\u001b[49m\n\u001b[1;32m      3\u001b[0m     \u001b[38;5;28mprint\u001b[39m(val)\n",
      "Cell \u001b[0;32mIn[53], line 2\u001b[0m, in \u001b[0;36mmyfunc\u001b[0;34m(x)\u001b[0m\n\u001b[1;32m      1\u001b[0m \u001b[38;5;28;01mdef\u001b[39;00m \u001b[38;5;21mmyfunc\u001b[39m(x):\n\u001b[0;32m----> 2\u001b[0m     \u001b[38;5;28;01mreturn\u001b[39;00m \u001b[43m(\u001b[49m\u001b[43mx\u001b[49m\u001b[43m \u001b[49m\u001b[38;5;241;43m+\u001b[39;49m\u001b[43m \u001b[49m\u001b[38;5;241;43m1\u001b[39;49m\u001b[43m)\u001b[49m\u001b[38;5;241;43m*\u001b[39;49m\u001b[38;5;241;43m*\u001b[39;49m\u001b[38;5;241;43m2\u001b[39;49m\u001b[38;5;241;43m/\u001b[39;49m\u001b[43mx\u001b[49m\n",
      "\u001b[0;31mZeroDivisionError\u001b[0m: division by zero"
     ]
    }
   ],
   "source": [
    "for i in mylist:\n",
    "    val = myfunc(i)\n",
    "    print(val)"
   ]
  },
  {
   "cell_type": "markdown",
   "id": "8f9d848c",
   "metadata": {},
   "source": [
    "As you could probably guess, we ran into an error. If we didn't want the code to stop when iterating over a list like this, we can insert a `try` and `except` statement into the loop:"
   ]
  },
  {
   "cell_type": "code",
   "execution_count": 60,
   "id": "6f898ff8",
   "metadata": {},
   "outputs": [
    {
     "name": "stdout",
     "output_type": "stream",
     "text": [
      "-2.25\n",
      "-1.3333333333333333\n",
      "-0.5\n",
      "-0.0\n",
      "0 is not a valid input\n",
      "4.0\n",
      "4.5\n",
      "5.333333333333333\n",
      "4 is not a valid input\n"
     ]
    }
   ],
   "source": [
    "for i in mylist:\n",
    "    try:\n",
    "        val = myfunc(i)\n",
    "        print(val)\n",
    "    except:\n",
    "        print('{0} is not a valid input'.format(i))"
   ]
  },
  {
   "cell_type": "markdown",
   "id": "44c8d7b6",
   "metadata": {},
   "source": [
    "As we can see, the function iterates over the entire list without a hitch. For the elements that couldn't be passed as inputs, we printed an error message and continued on, as if we used a `continue` statement for those elements. \n",
    "\n",
    "Examining the list, we can see that there are two invalid inputs. Inputting 0 will cause a `ZeroDivisionError`, while inputting '4' will cause a `TypeError`. Perhaps this function is part of a larger code that will completely break if we pass strings but will work fine with 0. To do this, we can add extra controls to the `except` portion that specify which errors to handle. We can modify the code above as follows:"
   ]
  },
  {
   "cell_type": "code",
   "execution_count": 63,
   "id": "9aa3ba4d",
   "metadata": {},
   "outputs": [
    {
     "name": "stdout",
     "output_type": "stream",
     "text": [
      "-2.25\n",
      "-1.3333333333333333\n",
      "-0.5\n",
      "-0.0\n",
      "0 is not a valid input for this function\n",
      "4.0\n",
      "4.5\n",
      "5.333333333333333\n"
     ]
    },
    {
     "ename": "TypeError",
     "evalue": "can only concatenate str (not \"int\") to str",
     "output_type": "error",
     "traceback": [
      "\u001b[0;31m---------------------------------------------------------------------------\u001b[0m",
      "\u001b[0;31mTypeError\u001b[0m                                 Traceback (most recent call last)",
      "Cell \u001b[0;32mIn[63], line 3\u001b[0m\n\u001b[1;32m      1\u001b[0m \u001b[38;5;28;01mfor\u001b[39;00m i \u001b[38;5;129;01min\u001b[39;00m mylist:\n\u001b[1;32m      2\u001b[0m     \u001b[38;5;28;01mtry\u001b[39;00m:\n\u001b[0;32m----> 3\u001b[0m         val \u001b[38;5;241m=\u001b[39m \u001b[43mmyfunc\u001b[49m\u001b[43m(\u001b[49m\u001b[43mi\u001b[49m\u001b[43m)\u001b[49m\n\u001b[1;32m      4\u001b[0m         \u001b[38;5;28mprint\u001b[39m(val)\n\u001b[1;32m      5\u001b[0m     \u001b[38;5;28;01mexcept\u001b[39;00m \u001b[38;5;167;01mZeroDivisionError\u001b[39;00m:\n",
      "Cell \u001b[0;32mIn[53], line 2\u001b[0m, in \u001b[0;36mmyfunc\u001b[0;34m(x)\u001b[0m\n\u001b[1;32m      1\u001b[0m \u001b[38;5;28;01mdef\u001b[39;00m \u001b[38;5;21mmyfunc\u001b[39m(x):\n\u001b[0;32m----> 2\u001b[0m     \u001b[38;5;28;01mreturn\u001b[39;00m (\u001b[43mx\u001b[49m\u001b[43m \u001b[49m\u001b[38;5;241;43m+\u001b[39;49m\u001b[43m \u001b[49m\u001b[38;5;241;43m1\u001b[39;49m)\u001b[38;5;241m*\u001b[39m\u001b[38;5;241m*\u001b[39m\u001b[38;5;241m2\u001b[39m\u001b[38;5;241m/\u001b[39mx\n",
      "\u001b[0;31mTypeError\u001b[0m: can only concatenate str (not \"int\") to str"
     ]
    }
   ],
   "source": [
    "for i in mylist:\n",
    "    try:\n",
    "        val = myfunc(i)\n",
    "        print(val)\n",
    "    except ZeroDivisionError:\n",
    "        print('{0} is not a valid input for this function'.format(i))"
   ]
  },
  {
   "cell_type": "markdown",
   "id": "ac1711a2",
   "metadata": {},
   "source": [
    "Now, the `try`/`except` loop will only handle the `ZeroDivisionError` that shows up when passing 0 as an input. However, once we reach the string, the function will stop as it would otherwise. If we want to handle both strings and zeroes, we can add multiple corresponding error types to the `except` statement."
   ]
  },
  {
   "cell_type": "code",
   "execution_count": 64,
   "id": "5b1c6951",
   "metadata": {},
   "outputs": [
    {
     "name": "stdout",
     "output_type": "stream",
     "text": [
      "-2.25\n",
      "-1.3333333333333333\n",
      "-0.5\n",
      "-0.0\n",
      "0 is not a valid input for this function\n",
      "4.0\n",
      "4.5\n",
      "5.333333333333333\n",
      "4 is not a valid input for this function\n"
     ]
    }
   ],
   "source": [
    "for i in mylist:\n",
    "    try:\n",
    "        val = myfunc(i)\n",
    "        print(val)\n",
    "    except (ZeroDivisionError, TypeError):\n",
    "        print('{0} is not a valid input for this function'.format(i))"
   ]
  },
  {
   "cell_type": "markdown",
   "id": "a8f1ceab",
   "metadata": {},
   "source": [
    "We can also use multiple `except` statements like so:"
   ]
  },
  {
   "cell_type": "code",
   "execution_count": 76,
   "id": "a47283e1",
   "metadata": {},
   "outputs": [
    {
     "name": "stdout",
     "output_type": "stream",
     "text": [
      "-2.25\n",
      "-1.3333333333333333\n",
      "-0.5\n",
      "-0.0\n",
      "0 is not a valid input for this function\n",
      "4.0\n",
      "4.5\n",
      "5.333333333333333\n",
      "4 is not a valid input for this function\n"
     ]
    }
   ],
   "source": [
    "for i in mylist:\n",
    "    try:\n",
    "        val = myfunc(i)\n",
    "        print(val)\n",
    "    except ZeroDivisionError:\n",
    "        print('{0} is not a valid input for this function'.format(i))\n",
    "    except TypeError:\n",
    "        print('{0} is not a valid input for this function'.format(i))"
   ]
  },
  {
   "cell_type": "markdown",
   "id": "d66eda51",
   "metadata": {},
   "source": [
    "If someone doesn't know what the original list looks like, they may be slightly confused by this last statement. Why does the function not work for 4, but otherwise works perfectly fine for the other nonzero numbers? We can add some context to `except` statements to signal which type of error was thrown using the following syntax:"
   ]
  },
  {
   "cell_type": "code",
   "execution_count": 66,
   "id": "da16d834",
   "metadata": {},
   "outputs": [
    {
     "name": "stdout",
     "output_type": "stream",
     "text": [
      "-2.25\n",
      "-1.3333333333333333\n",
      "-0.5\n",
      "-0.0\n",
      "0 is not a valid input; reason: division by zero\n",
      "4.0\n",
      "4.5\n",
      "5.333333333333333\n",
      "4 is not a valid input; reason: can only concatenate str (not \"int\") to str\n"
     ]
    }
   ],
   "source": [
    "for i in mylist:\n",
    "    try:\n",
    "        val = myfunc(i)\n",
    "        print(val)\n",
    "    except (ZeroDivisionError, TypeError) as e:\n",
    "        print('{0} is not a valid input; reason: {1}'.format(i, e))"
   ]
  },
  {
   "cell_type": "markdown",
   "id": "dea863d3",
   "metadata": {},
   "source": [
    "The `except` statement now prints the message that would print if we let the error stop the program normally.\n",
    "\n",
    "We can also chain together `assert` and `try`/`except` statements. Let's use the function `KtoC()` from earlier to demonstrate. We'll iterate over the following Kelvin temperatures:"
   ]
  },
  {
   "cell_type": "code",
   "execution_count": 67,
   "id": "910b5d95",
   "metadata": {},
   "outputs": [],
   "source": [
    "temps = [300, 287, 256, -298, 272]"
   ]
  },
  {
   "cell_type": "markdown",
   "id": "74ae2af7",
   "metadata": {},
   "source": [
    "As you can see, there's an erroneous negative value. If we iterate over this list, we'll get an error:"
   ]
  },
  {
   "cell_type": "code",
   "execution_count": 68,
   "id": "52984494",
   "metadata": {},
   "outputs": [
    {
     "name": "stdout",
     "output_type": "stream",
     "text": [
      "27\n",
      "14\n",
      "-17\n"
     ]
    },
    {
     "ename": "AssertionError",
     "evalue": "Kelvin input cannot be negative",
     "output_type": "error",
     "traceback": [
      "\u001b[0;31m---------------------------------------------------------------------------\u001b[0m",
      "\u001b[0;31mAssertionError\u001b[0m                            Traceback (most recent call last)",
      "Cell \u001b[0;32mIn[68], line 2\u001b[0m\n\u001b[1;32m      1\u001b[0m \u001b[38;5;28;01mfor\u001b[39;00m i \u001b[38;5;129;01min\u001b[39;00m temps:\n\u001b[0;32m----> 2\u001b[0m     \u001b[38;5;28mprint\u001b[39m(\u001b[43mKtoC\u001b[49m\u001b[43m(\u001b[49m\u001b[43mi\u001b[49m\u001b[43m)\u001b[49m)\n",
      "Cell \u001b[0;32mIn[51], line 2\u001b[0m, in \u001b[0;36mKtoC\u001b[0;34m(temp)\u001b[0m\n\u001b[1;32m      1\u001b[0m \u001b[38;5;28;01mdef\u001b[39;00m \u001b[38;5;21mKtoC\u001b[39m(temp):\n\u001b[0;32m----> 2\u001b[0m     \u001b[38;5;28;01massert\u001b[39;00m (temp \u001b[38;5;241m>\u001b[39m\u001b[38;5;241m=\u001b[39m \u001b[38;5;241m0\u001b[39m), \u001b[38;5;124m'\u001b[39m\u001b[38;5;124mKelvin input cannot be negative\u001b[39m\u001b[38;5;124m'\u001b[39m\n\u001b[1;32m      3\u001b[0m     \u001b[38;5;28;01mreturn\u001b[39;00m temp \u001b[38;5;241m-\u001b[39m \u001b[38;5;241m273\u001b[39m\n",
      "\u001b[0;31mAssertionError\u001b[0m: Kelvin input cannot be negative"
     ]
    }
   ],
   "source": [
    "for i in temps:\n",
    "    print(KtoC(i))"
   ]
  },
  {
   "cell_type": "markdown",
   "id": "4c7314d0",
   "metadata": {},
   "source": [
    "However, say I didn't want the program to stop if there was an error. Let's write a `try`/`except` block into the above loop to return the index of the erroneous temperature instead:"
   ]
  },
  {
   "cell_type": "code",
   "execution_count": 70,
   "id": "70c8b19f",
   "metadata": {},
   "outputs": [
    {
     "name": "stdout",
     "output_type": "stream",
     "text": [
      "27\n",
      "14\n",
      "-17\n",
      "Error at index 3: Kelvin input cannot be negative\n",
      "-1\n"
     ]
    }
   ],
   "source": [
    "for i in range(len(temps)):\n",
    "    try:\n",
    "        print(KtoC(temps[i]))\n",
    "    except AssertionError as e:\n",
    "        print('Error at index {0}: {1}'.format(i, e))"
   ]
  },
  {
   "cell_type": "markdown",
   "id": "893a8d79",
   "metadata": {},
   "source": [
    "## A Note on Debugging\n",
    "\n",
    "In this lecture, we've gone over how to handle hard errors in Python programs. These are errors that completely break the code, stopping it from running any further. These are primarily programming errors, and occur due to purely code mistakes. However, there are more subtle issues that can occur in your code. For example, let's say I wanted to write a function that squares an input:"
   ]
  },
  {
   "cell_type": "code",
   "execution_count": 77,
   "id": "f324cef1",
   "metadata": {},
   "outputs": [],
   "source": [
    "def square(x):\n",
    "    return x*2"
   ]
  },
  {
   "cell_type": "markdown",
   "id": "73ed9926",
   "metadata": {},
   "source": [
    "Let's naively try to run it:"
   ]
  },
  {
   "cell_type": "code",
   "execution_count": 78,
   "id": "d9f57336",
   "metadata": {},
   "outputs": [
    {
     "data": {
      "text/plain": [
       "10"
      ]
     },
     "execution_count": 78,
     "metadata": {},
     "output_type": "execute_result"
    }
   ],
   "source": [
    "square(5)"
   ]
  },
  {
   "cell_type": "markdown",
   "id": "0f870077",
   "metadata": {},
   "source": [
    "Whoops...I forgot to use a double asterisk, so my function now only doubles the input. But there's nothing wrong with the function programmatically; I can put in any number I want and it will output *something*. This is known as a *bug* - a conceptual error in my code that doesn't break it outright.\n",
    "\n",
    "Everyone runs into bugs when programming. Unfortunately, they're often more difficult to detect than regular errors, and require careful consideration of what your code is supposed to be doing. How annoying bugs are generally scales with the size of the program you're writing; a module with dozens of different files will be harder to debug than a two-line function.\n",
    "\n",
    "There are some strategies you will develop over your programming career to deal with bugs. For example, we can use an assertion to ensure that my function above actually squares the input. We can do this by simply taking the square root of the output and seeing if it equals the input:"
   ]
  },
  {
   "cell_type": "code",
   "execution_count": 79,
   "id": "db0a8616",
   "metadata": {},
   "outputs": [
    {
     "ename": "AssertionError",
     "evalue": "Output is not the square",
     "output_type": "error",
     "traceback": [
      "\u001b[0;31m---------------------------------------------------------------------------\u001b[0m",
      "\u001b[0;31mAssertionError\u001b[0m                            Traceback (most recent call last)",
      "Cell \u001b[0;32mIn[79], line 3\u001b[0m\n\u001b[1;32m      1\u001b[0m test \u001b[38;5;241m=\u001b[39m [\u001b[38;5;241m0.\u001b[39m, \u001b[38;5;241m1.\u001b[39m, \u001b[38;5;241m2.\u001b[39m, \u001b[38;5;241m3.\u001b[39m, \u001b[38;5;241m4.\u001b[39m, \u001b[38;5;241m5.\u001b[39m]\n\u001b[1;32m      2\u001b[0m \u001b[38;5;28;01mfor\u001b[39;00m i \u001b[38;5;129;01min\u001b[39;00m test:\n\u001b[0;32m----> 3\u001b[0m     \u001b[38;5;28;01massert\u001b[39;00m (i \u001b[38;5;241m==\u001b[39m square(i)\u001b[38;5;241m*\u001b[39m\u001b[38;5;241m*\u001b[39m\u001b[38;5;241m0.5\u001b[39m), \u001b[38;5;124m'\u001b[39m\u001b[38;5;124mOutput is not the square\u001b[39m\u001b[38;5;124m'\u001b[39m\n",
      "\u001b[0;31mAssertionError\u001b[0m: Output is not the square"
     ]
    }
   ],
   "source": [
    "test = [0., 1., 2., 3., 4., 5.]\n",
    "for i in test:\n",
    "    assert (i == square(i)**0.5), 'Output is not the square'"
   ]
  },
  {
   "cell_type": "markdown",
   "id": "0586e4b1",
   "metadata": {},
   "source": [
    "If I fix my bug, the loop should return nothing:"
   ]
  },
  {
   "cell_type": "code",
   "execution_count": 80,
   "id": "b1f70bab",
   "metadata": {},
   "outputs": [],
   "source": [
    "def square(x):\n",
    "    return x**2\n",
    "\n",
    "for i in test:\n",
    "    assert (i == square(i)**0.5), 'Output is not the square'"
   ]
  },
  {
   "cell_type": "markdown",
   "id": "e219ab39",
   "metadata": {},
   "source": [
    "Most debugging won't be this easy, however. As you become more comfortable programming, you'll be able to fix bugs more easily. The most successful programmers are able to handle errors and bugs thoroughly as well as write code correctly and efficiently."
   ]
  }
 ],
 "metadata": {
  "kernelspec": {
   "display_name": "Python 3 (ipykernel)",
   "language": "python",
   "name": "python3"
  },
  "language_info": {
   "codemirror_mode": {
    "name": "ipython",
    "version": 3
   },
   "file_extension": ".py",
   "mimetype": "text/x-python",
   "name": "python",
   "nbconvert_exporter": "python",
   "pygments_lexer": "ipython3",
   "version": "3.9.16"
  }
 },
 "nbformat": 4,
 "nbformat_minor": 5
}
