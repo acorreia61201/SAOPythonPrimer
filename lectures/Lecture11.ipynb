{
 "cells": [
  {
   "cell_type": "markdown",
   "id": "f3c416d1",
   "metadata": {},
   "source": [
    "# SAO/LIP Python Primer Course Lecture 11\n",
    "\n",
    "In this notebook, you will learn about:\n",
    "- The `sympy` module\n",
    "- Symbolic math in Python\n",
    "\n",
    "[![Open In Colab](https://colab.research.google.com/assets/colab-badge.svg)](https://colab.research.google.com/github/acorreia61201/SAOPythonPrimer/blob/main/lectures/Lecture11.ipynb)\n",
    "\n",
    "A lot of the algorithms we've looked at over this week have solved problems using discrete values. Sometimes it's convenient to do out problems symbolically, such as finding the derivative of a function or solving an equation algebraically. However, some problems are incredibly tedious or even incalculable by hand. We can use a Python library called `sympy` to do symbolic math computationally, similarly to Mathematica or Symbolab.\n",
    "\n",
    "## The `sympy` Library\n",
    "\n",
    "As per usual, we'll install `sympy` using `pip`:"
   ]
  },
  {
   "cell_type": "code",
   "execution_count": 1,
   "id": "0eb8cdc3",
   "metadata": {},
   "outputs": [
    {
     "name": "stdout",
     "output_type": "stream",
     "text": [
      "Collecting sympy\n",
      "  Downloading sympy-1.12-py3-none-any.whl (5.7 MB)\n",
      "\u001b[2K     \u001b[90m━━━━━━━━━━━━━━━━━━━━━━━━━━━━━━━━━━━━━━━━\u001b[0m \u001b[32m5.7/5.7 MB\u001b[0m \u001b[31m19.7 MB/s\u001b[0m eta \u001b[36m0:00:00\u001b[0m00:01\u001b[0m00:01\u001b[0m\n",
      "\u001b[?25hCollecting mpmath>=0.19\n",
      "  Downloading mpmath-1.3.0-py3-none-any.whl (536 kB)\n",
      "\u001b[2K     \u001b[90m━━━━━━━━━━━━━━━━━━━━━━━━━━━━━━━━━━━━━━\u001b[0m \u001b[32m536.2/536.2 kB\u001b[0m \u001b[31m31.9 MB/s\u001b[0m eta \u001b[36m0:00:00\u001b[0m\n",
      "\u001b[?25hInstalling collected packages: mpmath, sympy\n",
      "Successfully installed mpmath-1.3.0 sympy-1.12\n"
     ]
    }
   ],
   "source": [
    "!pip install sympy"
   ]
  },
  {
   "cell_type": "markdown",
   "id": "89ea9b15",
   "metadata": {},
   "source": [
    "`sympy` is another library where it's more convenient to import individual sublibraries at a time. We'll do so as needed, but for now let's check that we've installed it properly:"
   ]
  },
  {
   "cell_type": "code",
   "execution_count": 2,
   "id": "f6883275",
   "metadata": {},
   "outputs": [
    {
     "ename": "ModuleNotFoundError",
     "evalue": "No module named 'sympy'",
     "output_type": "error",
     "traceback": [
      "\u001b[0;31m---------------------------------------------------------------------------\u001b[0m",
      "\u001b[0;31mModuleNotFoundError\u001b[0m                       Traceback (most recent call last)",
      "Cell \u001b[0;32mIn[2], line 1\u001b[0m\n\u001b[0;32m----> 1\u001b[0m \u001b[38;5;28;01mimport\u001b[39;00m \u001b[38;5;21;01msympy\u001b[39;00m\n",
      "\u001b[0;31mModuleNotFoundError\u001b[0m: No module named 'sympy'"
     ]
    }
   ],
   "source": [
    "import sympy"
   ]
  },
  {
   "cell_type": "markdown",
   "id": "cc5fc106",
   "metadata": {},
   "source": [
    "### Creating Symbols\n",
    "\n",
    "The basis of `sympy` is, as you might expect, symbols. "
   ]
  }
 ],
 "metadata": {
  "kernelspec": {
   "display_name": "Python 3 (ipykernel)",
   "language": "python",
   "name": "python3"
  },
  "language_info": {
   "codemirror_mode": {
    "name": "ipython",
    "version": 3
   },
   "file_extension": ".py",
   "mimetype": "text/x-python",
   "name": "python",
   "nbconvert_exporter": "python",
   "pygments_lexer": "ipython3",
   "version": "3.9.16"
  }
 },
 "nbformat": 4,
 "nbformat_minor": 5
}
