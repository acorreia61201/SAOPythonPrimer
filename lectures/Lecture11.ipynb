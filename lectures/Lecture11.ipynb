{
  "cells": [
    {
      "cell_type": "markdown",
      "id": "f3c416d1",
      "metadata": {
        "id": "f3c416d1"
      },
      "source": [
        "# SAO/LIP Python Primer Course Lecture 11\n",
        "\n",
        "In this notebook, you will learn about:\n",
        "- The `sympy` library\n",
        "- Symbolic math in Python\n",
        "\n",
        "[![Open In Colab](https://colab.research.google.com/assets/colab-badge.svg)](https://colab.research.google.com/github/acorreia61201/SAOPythonPrimer/blob/main/lectures/Lecture11.ipynb)\n",
        "\n",
        "A lot of the algorithms we've looked at over this week have solved problems using discrete values. Sometimes it's convenient to do out problems symbolically, such as finding the derivative of a function or solving an equation algebraically. However, some problems are incredibly tedious or even incalculable by hand. We can use a Python library called `sympy` to do symbolic math computationally, similarly to Mathematica or SymboLab.\n",
        "\n",
        "## The `sympy` Library\n",
        "\n",
        "As per usual, we'll install `sympy` using `pip`:"
      ]
    },
    {
      "cell_type": "code",
      "execution_count": 1,
      "id": "0eb8cdc3",
      "metadata": {
        "id": "0eb8cdc3",
        "outputId": "7b7614d8-dbac-4e4c-e96d-15169039d061",
        "colab": {
          "base_uri": "https://localhost:8080/"
        }
      },
      "outputs": [
        {
          "output_type": "stream",
          "name": "stdout",
          "text": [
            "Looking in indexes: https://pypi.org/simple, https://us-python.pkg.dev/colab-wheels/public/simple/\n",
            "Requirement already satisfied: sympy in /usr/local/lib/python3.10/dist-packages (1.11.1)\n",
            "Requirement already satisfied: mpmath>=0.19 in /usr/local/lib/python3.10/dist-packages (from sympy) (1.3.0)\n"
          ]
        }
      ],
      "source": [
        "!pip install sympy"
      ]
    },
    {
      "cell_type": "code",
      "execution_count": 3,
      "id": "f6883275",
      "metadata": {
        "id": "f6883275"
      },
      "outputs": [],
      "source": [
        "import sympy"
      ]
    },
    {
      "cell_type": "markdown",
      "id": "cc5fc106",
      "metadata": {
        "id": "cc5fc106"
      },
      "source": [
        "Straight out of the box, we can look at one use for symbolic math. Let's say I wanted to calculate $\\sqrt{8}$. By now, this should be trivial:"
      ]
    },
    {
      "cell_type": "code",
      "source": [
        "8**0.5"
      ],
      "metadata": {
        "id": "hvMFRESo104I",
        "outputId": "cc3dbe51-4005-4ae6-e211-851b54f105db",
        "colab": {
          "base_uri": "https://localhost:8080/"
        }
      },
      "id": "hvMFRESo104I",
      "execution_count": 4,
      "outputs": [
        {
          "output_type": "execute_result",
          "data": {
            "text/plain": [
              "2.8284271247461903"
            ]
          },
          "metadata": {},
          "execution_count": 4
        }
      ]
    },
    {
      "cell_type": "markdown",
      "source": [
        "It's not a square number, so the result is irrational. However, we can analytically simplify this to $\\sqrt{8} = \\sqrt{4 \\cdot 2} = 2\\sqrt{2}$. We'd never be able to see this from the result above unless you manually did out $2\\sqrt{2}$:"
      ],
      "metadata": {
        "id": "V6PJGhpF13aF"
      },
      "id": "V6PJGhpF13aF"
    },
    {
      "cell_type": "code",
      "source": [
        "8**0.5 == 2*2**0.5"
      ],
      "metadata": {
        "id": "V8XLB53212uR",
        "outputId": "7b6847c6-c9dc-42bd-d3c2-e4e466327002",
        "colab": {
          "base_uri": "https://localhost:8080/"
        }
      },
      "id": "V8XLB53212uR",
      "execution_count": 6,
      "outputs": [
        {
          "output_type": "execute_result",
          "data": {
            "text/plain": [
              "True"
            ]
          },
          "metadata": {},
          "execution_count": 6
        }
      ]
    },
    {
      "cell_type": "markdown",
      "source": [
        "Now, let's see what happens if we use `sympy.sqrt()`:"
      ],
      "metadata": {
        "id": "S8Qw7pQq2aFb"
      },
      "id": "S8Qw7pQq2aFb"
    },
    {
      "cell_type": "code",
      "source": [
        "root8 = sympy.sqrt(8)\n",
        "root8"
      ],
      "metadata": {
        "id": "mkDbp5MD2ZXV",
        "outputId": "85995ccf-ff77-463a-ce83-b1b8bc8aba40",
        "colab": {
          "base_uri": "https://localhost:8080/",
          "height": 38
        }
      },
      "id": "mkDbp5MD2ZXV",
      "execution_count": 7,
      "outputs": [
        {
          "output_type": "execute_result",
          "data": {
            "text/plain": [
              "2*sqrt(2)"
            ],
            "text/latex": "$\\displaystyle 2 \\sqrt{2}$"
          },
          "metadata": {},
          "execution_count": 7
        }
      ]
    },
    {
      "cell_type": "markdown",
      "source": [
        "We see now that `sympy` is able to automatically factor and simplify the result down to the analytic form. This is a powerful use of symbolic computation, as it allows us to quickly and easily simplify expressions that would be difficult or tedious to do otherwise:"
      ],
      "metadata": {
        "id": "pbhGbc5y2zui"
      },
      "id": "pbhGbc5y2zui"
    },
    {
      "cell_type": "code",
      "source": [
        "sympy.sqrt(638901432)"
      ],
      "metadata": {
        "id": "RICNYdRd2wbN",
        "outputId": "db3b7302-43bb-4ed3-fd44-419e4125c9ce",
        "colab": {
          "base_uri": "https://localhost:8080/",
          "height": 38
        }
      },
      "id": "RICNYdRd2wbN",
      "execution_count": 8,
      "outputs": [
        {
          "output_type": "execute_result",
          "data": {
            "text/plain": [
              "2862*sqrt(78)"
            ],
            "text/latex": "$\\displaystyle 2862 \\sqrt{78}$"
          },
          "metadata": {},
          "execution_count": 8
        }
      ]
    },
    {
      "cell_type": "markdown",
      "source": [
        "If you'd prefer, we can also emulate the base Python behavior by using the method `evalf()`, which fully calculates an expression:"
      ],
      "metadata": {
        "id": "8wTeG93fFkS4"
      },
      "id": "8wTeG93fFkS4"
    },
    {
      "cell_type": "code",
      "source": [
        "root8.evalf()"
      ],
      "metadata": {
        "id": "3m-_F6NtFzTQ",
        "outputId": "da63224f-04fa-48e3-a7a3-809512af2ebd",
        "colab": {
          "base_uri": "https://localhost:8080/",
          "height": 37
        }
      },
      "id": "3m-_F6NtFzTQ",
      "execution_count": 9,
      "outputs": [
        {
          "output_type": "execute_result",
          "data": {
            "text/plain": [
              "2.82842712474619"
            ],
            "text/latex": "$\\displaystyle 2.82842712474619$"
          },
          "metadata": {},
          "execution_count": 9
        }
      ]
    },
    {
      "cell_type": "markdown",
      "source": [
        "## Symbols\n",
        "\n",
        "We can do much more with `sympy`, mainly involving equations with multiple variables. To do this, we need to create *symbols*. There's a function in `sympy` just for this purpose:"
      ],
      "metadata": {
        "id": "-UKftTax3fht"
      },
      "id": "-UKftTax3fht"
    },
    {
      "cell_type": "code",
      "source": [
        "from sympy import symbols"
      ],
      "metadata": {
        "id": "-kHKRFv54JnB"
      },
      "id": "-kHKRFv54JnB",
      "execution_count": 10,
      "outputs": []
    },
    {
      "cell_type": "markdown",
      "source": [
        "Let's say I wanted to write an equation with the variable $x$. To do so, I have to call its symbol:"
      ],
      "metadata": {
        "id": "K_Al5IFi4MNI"
      },
      "id": "K_Al5IFi4MNI"
    },
    {
      "cell_type": "code",
      "source": [
        "x = symbols('x')\n",
        "x"
      ],
      "metadata": {
        "id": "624mYgSu4LhV",
        "outputId": "d87826e4-beb2-4dd9-c187-5baaab7f48ff",
        "colab": {
          "base_uri": "https://localhost:8080/",
          "height": 38
        }
      },
      "id": "624mYgSu4LhV",
      "execution_count": 11,
      "outputs": [
        {
          "output_type": "execute_result",
          "data": {
            "text/plain": [
              "x"
            ],
            "text/latex": "$\\displaystyle x$"
          },
          "metadata": {},
          "execution_count": 11
        }
      ]
    },
    {
      "cell_type": "markdown",
      "source": [
        "The name that we give the symbol doesn't necessarily have to coincide with the symbol itself, but it certainly helps if they do. We can now print any expression we want using this symbol:"
      ],
      "metadata": {
        "id": "-7Lo9Le64ZGJ"
      },
      "id": "-7Lo9Le64ZGJ"
    },
    {
      "cell_type": "code",
      "source": [
        "expr = x**2 + 2*x - 3\n",
        "expr"
      ],
      "metadata": {
        "id": "24RcqEAj4XwY",
        "outputId": "ffbf112b-1a31-44ec-c872-02228b53254c",
        "colab": {
          "base_uri": "https://localhost:8080/",
          "height": 38
        }
      },
      "id": "24RcqEAj4XwY",
      "execution_count": 12,
      "outputs": [
        {
          "output_type": "execute_result",
          "data": {
            "text/plain": [
              "x**2 + 2*x - 3"
            ],
            "text/latex": "$\\displaystyle x^{2} + 2 x - 3$"
          },
          "metadata": {},
          "execution_count": 12
        }
      ]
    },
    {
      "cell_type": "markdown",
      "source": [
        "`sympy` will automatically do basic simplifications for us. For example, say I subtracted $2x$ from `expr`:"
      ],
      "metadata": {
        "id": "3A493sjI4vvV"
      },
      "id": "3A493sjI4vvV"
    },
    {
      "cell_type": "code",
      "source": [
        "expr -= 2*x\n",
        "expr"
      ],
      "metadata": {
        "id": "9fTwcgoL4uy2",
        "outputId": "2f34af17-bed1-478b-c012-fcb68eb96b2a",
        "colab": {
          "base_uri": "https://localhost:8080/",
          "height": 38
        }
      },
      "id": "9fTwcgoL4uy2",
      "execution_count": 13,
      "outputs": [
        {
          "output_type": "execute_result",
          "data": {
            "text/plain": [
              "x**2 - 3"
            ],
            "text/latex": "$\\displaystyle x^{2} - 3$"
          },
          "metadata": {},
          "execution_count": 13
        }
      ]
    },
    {
      "cell_type": "markdown",
      "source": [
        "`sympy` automatically reduces the equation down by cancelling the $+2x$ and $-2x$ terms. We can add it back just as well:"
      ],
      "metadata": {
        "id": "fPsyzL_T5ANY"
      },
      "id": "fPsyzL_T5ANY"
    },
    {
      "cell_type": "code",
      "source": [
        "expr += 2*x\n",
        "expr"
      ],
      "metadata": {
        "id": "QkRtEi8K4_KR",
        "outputId": "abed1463-588e-479d-cf97-004a2e2b0d3a",
        "colab": {
          "base_uri": "https://localhost:8080/",
          "height": 38
        }
      },
      "id": "QkRtEi8K4_KR",
      "execution_count": 14,
      "outputs": [
        {
          "output_type": "execute_result",
          "data": {
            "text/plain": [
              "x**2 + 2*x - 3"
            ],
            "text/latex": "$\\displaystyle x^{2} + 2 x - 3$"
          },
          "metadata": {},
          "execution_count": 14
        }
      ]
    },
    {
      "cell_type": "markdown",
      "source": [
        "Let's try multiplying by $x$:"
      ],
      "metadata": {
        "id": "AH4QzMFJ5VRV"
      },
      "id": "AH4QzMFJ5VRV"
    },
    {
      "cell_type": "code",
      "source": [
        "expr *= x\n",
        "expr"
      ],
      "metadata": {
        "id": "TgmWxTnV5R3S",
        "outputId": "3d12212c-c8b7-4206-c28f-82fa9b6188e3",
        "colab": {
          "base_uri": "https://localhost:8080/",
          "height": 38
        }
      },
      "id": "TgmWxTnV5R3S",
      "execution_count": 15,
      "outputs": [
        {
          "output_type": "execute_result",
          "data": {
            "text/plain": [
              "x*(x**2 + 2*x - 3)"
            ],
            "text/latex": "$\\displaystyle x \\left(x^{2} + 2 x - 3\\right)$"
          },
          "metadata": {},
          "execution_count": 15
        }
      ]
    },
    {
      "cell_type": "markdown",
      "source": [
        "Weird...why didn't it simplify the expression? It turns out that `sympy` doesn't automatically combine factors. Sometimes we may want the expression to be factored, and sometimes we want it to be expanded. We can use `sympy.expand()` and `sympy.factor()` to control how `sympy` treats this expression."
      ],
      "metadata": {
        "id": "xDz5AyBW5dc6"
      },
      "id": "xDz5AyBW5dc6"
    },
    {
      "cell_type": "code",
      "source": [
        "sympy.expand(expr)"
      ],
      "metadata": {
        "id": "Tq1HgzAP5cv4",
        "outputId": "f525aef3-4d09-46d9-90cb-99166985e430",
        "colab": {
          "base_uri": "https://localhost:8080/",
          "height": 38
        }
      },
      "id": "Tq1HgzAP5cv4",
      "execution_count": 16,
      "outputs": [
        {
          "output_type": "execute_result",
          "data": {
            "text/plain": [
              "x**3 + 2*x**2 - 3*x"
            ],
            "text/latex": "$\\displaystyle x^{3} + 2 x^{2} - 3 x$"
          },
          "metadata": {},
          "execution_count": 16
        }
      ]
    },
    {
      "cell_type": "code",
      "source": [
        "sympy.factor(expr)"
      ],
      "metadata": {
        "id": "zojCpzF858y7",
        "outputId": "a8ba3166-4d31-4b45-d4b9-c1aabc61f3ff",
        "colab": {
          "base_uri": "https://localhost:8080/",
          "height": 38
        }
      },
      "id": "zojCpzF858y7",
      "execution_count": 17,
      "outputs": [
        {
          "output_type": "execute_result",
          "data": {
            "text/plain": [
              "x*(x - 1)*(x + 3)"
            ],
            "text/latex": "$\\displaystyle x \\left(x - 1\\right) \\left(x + 3\\right)$"
          },
          "metadata": {},
          "execution_count": 17
        }
      ]
    },
    {
      "cell_type": "markdown",
      "source": [
        "Let's say I wanted to substitute in a value for $x$. We can do this using the `subs()` method on our expression, with the inputs being the variable to replace and the value we're substituting. Let's try to evaluate the expression below at $x=2$:"
      ],
      "metadata": {
        "id": "kodjhYyi7CGJ"
      },
      "id": "kodjhYyi7CGJ"
    },
    {
      "cell_type": "code",
      "source": [
        "expr.subs(x, 2)"
      ],
      "metadata": {
        "id": "d__jC4BW5-4M",
        "outputId": "88860969-0cee-49e3-aa6b-a80a2bb0a81a",
        "colab": {
          "base_uri": "https://localhost:8080/",
          "height": 37
        }
      },
      "id": "d__jC4BW5-4M",
      "execution_count": 18,
      "outputs": [
        {
          "output_type": "execute_result",
          "data": {
            "text/plain": [
              "10"
            ],
            "text/latex": "$\\displaystyle 10$"
          },
          "metadata": {},
          "execution_count": 18
        }
      ]
    },
    {
      "cell_type": "markdown",
      "source": [
        "### Multivariate Expressions\n",
        "\n",
        "Many expressions we may want to simplify or evaluate will have multiple variables. We can use `sympy.symbols()` to call multiple variables at a time. We can do this as follows:"
      ],
      "metadata": {
        "id": "xTV1R2W_8iQe"
      },
      "id": "xTV1R2W_8iQe"
    },
    {
      "cell_type": "code",
      "source": [
        "x, y, z = symbols('x y z')\n",
        "x + y + z"
      ],
      "metadata": {
        "id": "mhF7654j8TSG",
        "outputId": "b39cd2a6-8335-4cdc-ba78-8b38b0c4ed14",
        "colab": {
          "base_uri": "https://localhost:8080/",
          "height": 38
        }
      },
      "id": "mhF7654j8TSG",
      "execution_count": 19,
      "outputs": [
        {
          "output_type": "execute_result",
          "data": {
            "text/plain": [
              "x + y + z"
            ],
            "text/latex": "$\\displaystyle x + y + z$"
          },
          "metadata": {},
          "execution_count": 19
        }
      ]
    },
    {
      "cell_type": "markdown",
      "source": [
        "The input to `symbols` is one string containing space-separated characters. This is an important distinction, since we can define symbols with multiple characters:"
      ],
      "metadata": {
        "id": "uHvtrxG19I_1"
      },
      "id": "uHvtrxG19I_1"
    },
    {
      "cell_type": "code",
      "source": [
        "word1, word2 = symbols('an example')\n",
        "word1 + word2"
      ],
      "metadata": {
        "id": "vujmJ-Va9H2c",
        "outputId": "5cac17e9-fffd-42b5-b8be-9922f1df37d1",
        "colab": {
          "base_uri": "https://localhost:8080/",
          "height": 38
        }
      },
      "id": "vujmJ-Va9H2c",
      "execution_count": 20,
      "outputs": [
        {
          "output_type": "execute_result",
          "data": {
            "text/plain": [
              "an + example"
            ],
            "text/latex": "$\\displaystyle an + example$"
          },
          "metadata": {},
          "execution_count": 20
        }
      ]
    },
    {
      "cell_type": "markdown",
      "source": [
        "There are some restrictions on what words you can use, however. Latin character names are reserved to represent the characters themselves:"
      ],
      "metadata": {
        "id": "AsEyqLF8bi0U"
      },
      "id": "AsEyqLF8bi0U"
    },
    {
      "cell_type": "code",
      "source": [
        "pi = symbols('pi')\n",
        "pi"
      ],
      "metadata": {
        "id": "iA1ilC7UbjnM",
        "outputId": "47f243c2-5aec-49b1-8047-c3d5554c2b64",
        "colab": {
          "base_uri": "https://localhost:8080/",
          "height": 38
        }
      },
      "id": "iA1ilC7UbjnM",
      "execution_count": 129,
      "outputs": [
        {
          "output_type": "execute_result",
          "data": {
            "text/plain": [
              "pi"
            ],
            "text/latex": "$\\displaystyle \\pi$"
          },
          "metadata": {},
          "execution_count": 129
        }
      ]
    },
    {
      "cell_type": "markdown",
      "source": [
        "To call a symbol with a subscript, we can add a number after the symbol in the string:"
      ],
      "metadata": {
        "id": "Wz5FyEBwb0a9"
      },
      "id": "Wz5FyEBwb0a9"
    },
    {
      "cell_type": "code",
      "source": [
        "x0 = symbols('x0')\n",
        "x0"
      ],
      "metadata": {
        "id": "jSu7vNShbzY2",
        "outputId": "871c21f2-424b-4a92-c856-10b72fd3d2f3",
        "colab": {
          "base_uri": "https://localhost:8080/",
          "height": 38
        }
      },
      "id": "jSu7vNShbzY2",
      "execution_count": 130,
      "outputs": [
        {
          "output_type": "execute_result",
          "data": {
            "text/plain": [
              "x0"
            ],
            "text/latex": "$\\displaystyle x_{0}$"
          },
          "metadata": {},
          "execution_count": 130
        }
      ]
    },
    {
      "cell_type": "markdown",
      "source": [
        "We can call multiple subscripted variables using a slice as below:"
      ],
      "metadata": {
        "id": "MoPxw4zIbzLh"
      },
      "id": "MoPxw4zIbzLh"
    },
    {
      "cell_type": "code",
      "source": [
        "x0, x1, x2, x3, x4 = symbols('x:5') # generate x_i for i in range(0, 5)\n",
        "x0 + x1 + x2 + x3 + x4"
      ],
      "metadata": {
        "id": "9zAw8dPOcQc7",
        "outputId": "92ba3e17-e273-4ad0-daf0-f94355a4d83e",
        "colab": {
          "base_uri": "https://localhost:8080/",
          "height": 38
        }
      },
      "id": "9zAw8dPOcQc7",
      "execution_count": 133,
      "outputs": [
        {
          "output_type": "execute_result",
          "data": {
            "text/plain": [
              "x0 + x1 + x2 + x3 + x4"
            ],
            "text/latex": "$\\displaystyle x_{0} + x_{1} + x_{2} + x_{3} + x_{4}$"
          },
          "metadata": {},
          "execution_count": 133
        }
      ]
    },
    {
      "cell_type": "code",
      "source": [
        "y1, y2, y3 = symbols('y1:4') # generate y_i for i in range(1, 4)\n",
        "y1 + y2 + y3"
      ],
      "metadata": {
        "id": "89ilcPiocm5y",
        "outputId": "4641c5f8-d351-44a3-be85-3ce7d4d2adb7",
        "colab": {
          "base_uri": "https://localhost:8080/",
          "height": 38
        }
      },
      "id": "89ilcPiocm5y",
      "execution_count": 135,
      "outputs": [
        {
          "output_type": "execute_result",
          "data": {
            "text/plain": [
              "y1 + y2 + y3"
            ],
            "text/latex": "$\\displaystyle y_{1} + y_{2} + y_{3}$"
          },
          "metadata": {},
          "execution_count": 135
        }
      ]
    },
    {
      "cell_type": "markdown",
      "source": [
        "An important note to make here regards setting restrictions on our variables. Some mathematical identities are only valid if the values hold certain properties, e.g. they're real, they're positive, they're integers, etc. `sympy` takes this into account, and it won't simplify or expand functions with variables that don't meet the requirements.\n",
        "\n",
        "To control this behavior, `symbols` has a series of keyword arguments that allow you to constrain the possible values that variables can take. For example, say I wanted a variable that is always positive:"
      ],
      "metadata": {
        "id": "lWqUkU-gQZvB"
      },
      "id": "lWqUkU-gQZvB"
    },
    {
      "cell_type": "code",
      "source": [
        "a = symbols('a', positive=True)"
      ],
      "metadata": {
        "id": "USTKmlwqSAhQ"
      },
      "id": "USTKmlwqSAhQ",
      "execution_count": 21,
      "outputs": []
    },
    {
      "cell_type": "markdown",
      "source": [
        "Or let's say I wanted a variable that is always real:"
      ],
      "metadata": {
        "id": "fjEB2J1NSBAP"
      },
      "id": "fjEB2J1NSBAP"
    },
    {
      "cell_type": "code",
      "source": [
        "r = symbols('r', real=True)"
      ],
      "metadata": {
        "id": "Z0K7sE9RSByi"
      },
      "id": "Z0K7sE9RSByi",
      "execution_count": 22,
      "outputs": []
    },
    {
      "cell_type": "markdown",
      "source": [
        "Using this is of greater importance when we're using operations like square roots or logarithms that have constraints on their inputs.\n",
        "\n",
        "Once we define multiple symbols, we can use them just as we would single symbols:"
      ],
      "metadata": {
        "id": "pEX2ibUDEQ7U"
      },
      "id": "pEX2ibUDEQ7U"
    },
    {
      "cell_type": "code",
      "source": [
        "dist = sympy.sqrt(x**2 + y**2 + z**2)\n",
        "dist"
      ],
      "metadata": {
        "id": "qow1rjrODwnm",
        "outputId": "7174de53-d1a8-44fa-cbeb-2da68316aa1c",
        "colab": {
          "base_uri": "https://localhost:8080/",
          "height": 39
        }
      },
      "id": "qow1rjrODwnm",
      "execution_count": 23,
      "outputs": [
        {
          "output_type": "execute_result",
          "data": {
            "text/plain": [
              "sqrt(x**2 + y**2 + z**2)"
            ],
            "text/latex": "$\\displaystyle \\sqrt{x^{2} + y^{2} + z^{2}}$"
          },
          "metadata": {},
          "execution_count": 23
        }
      ]
    },
    {
      "cell_type": "markdown",
      "source": [
        "If we want to substitute in multiple values at a time with `subs`, we must pass a list of tuples with the form `(variable, value)`:"
      ],
      "metadata": {
        "id": "WCLWUA-JEh3q"
      },
      "id": "WCLWUA-JEh3q"
    },
    {
      "cell_type": "code",
      "source": [
        "dist.subs([(x, 2), (y, 5), (z, -1)])"
      ],
      "metadata": {
        "id": "xlWGM3tOEd9N",
        "outputId": "39373b83-d5dd-4656-8fcc-0b37e9837d2e",
        "colab": {
          "base_uri": "https://localhost:8080/",
          "height": 38
        }
      },
      "id": "xlWGM3tOEd9N",
      "execution_count": 24,
      "outputs": [
        {
          "output_type": "execute_result",
          "data": {
            "text/plain": [
              "sqrt(30)"
            ],
            "text/latex": "$\\displaystyle \\sqrt{30}$"
          },
          "metadata": {},
          "execution_count": 24
        }
      ]
    },
    {
      "cell_type": "markdown",
      "source": [
        "If we wanted to exactly evaluate the expression, we could pass the above code to `evalf`. A more numerically stable solution would be to use the `subs` keyword argument for `evalf`, which takes in a dictionary of the form `{variable: value}`:"
      ],
      "metadata": {
        "id": "Onxez7rRJOtZ"
      },
      "id": "Onxez7rRJOtZ"
    },
    {
      "cell_type": "code",
      "source": [
        "dist.evalf(subs={x: 2, y: 5, z: -1})"
      ],
      "metadata": {
        "id": "LXJsB1vEJj3d",
        "outputId": "be01c418-1af5-48f8-e6f8-f8e95302eaa1",
        "colab": {
          "base_uri": "https://localhost:8080/",
          "height": 37
        }
      },
      "id": "LXJsB1vEJj3d",
      "execution_count": 25,
      "outputs": [
        {
          "output_type": "execute_result",
          "data": {
            "text/plain": [
              "5.47722557505166"
            ],
            "text/latex": "$\\displaystyle 5.47722557505166$"
          },
          "metadata": {},
          "execution_count": 25
        }
      ]
    },
    {
      "cell_type": "markdown",
      "source": [
        "We can also use `subs()` to replace symbols or expressions. For example, let's replace all instances of $x$ in `dist` with $y^2$:"
      ],
      "metadata": {
        "id": "0EVLjdXMExaz"
      },
      "id": "0EVLjdXMExaz"
    },
    {
      "cell_type": "code",
      "source": [
        "dist.subs(x, y**2)"
      ],
      "metadata": {
        "id": "iqLS8pINEuHs",
        "outputId": "32e10ae8-ef76-4faa-eda4-6eb72917b127",
        "colab": {
          "base_uri": "https://localhost:8080/",
          "height": 39
        }
      },
      "id": "iqLS8pINEuHs",
      "execution_count": 26,
      "outputs": [
        {
          "output_type": "execute_result",
          "data": {
            "text/plain": [
              "sqrt(y**4 + y**2 + z**2)"
            ],
            "text/latex": "$\\displaystyle \\sqrt{y^{4} + y^{2} + z^{2}}$"
          },
          "metadata": {},
          "execution_count": 26
        }
      ]
    },
    {
      "cell_type": "markdown",
      "source": [
        "## Simplification\n",
        "\n",
        "Let's go a little more into how we can simplify expressions with `sympy`. We've already discussed `factor()` and `expand()`, which we've seen can be used to factor and distribute polynomial expressions. There's also a general function `simplify()` that will simplify any expression. Let's do some examples with the trig functions available via `sympy`:"
      ],
      "metadata": {
        "id": "7M6MYesSKANC"
      },
      "id": "7M6MYesSKANC"
    },
    {
      "cell_type": "code",
      "source": [
        "from sympy import sin, cos"
      ],
      "metadata": {
        "id": "69ZZyAcDFWx_"
      },
      "id": "69ZZyAcDFWx_",
      "execution_count": 27,
      "outputs": []
    },
    {
      "cell_type": "code",
      "source": [
        "sympy.simplify(sin(x)**2 + cos(x)**2)"
      ],
      "metadata": {
        "id": "sdVhuOdcLNxj",
        "outputId": "169d14d4-fc60-4a94-c7b3-4296e8167da4",
        "colab": {
          "base_uri": "https://localhost:8080/",
          "height": 37
        }
      },
      "id": "sdVhuOdcLNxj",
      "execution_count": 28,
      "outputs": [
        {
          "output_type": "execute_result",
          "data": {
            "text/plain": [
              "1"
            ],
            "text/latex": "$\\displaystyle 1$"
          },
          "metadata": {},
          "execution_count": 28
        }
      ]
    },
    {
      "cell_type": "code",
      "source": [
        "sympy.simplify(sin(x)/cos(x))"
      ],
      "metadata": {
        "id": "mw0_1VcXLShR",
        "outputId": "bdffa8ae-f829-4919-a881-87eec5a12538",
        "colab": {
          "base_uri": "https://localhost:8080/",
          "height": 38
        }
      },
      "id": "mw0_1VcXLShR",
      "execution_count": 29,
      "outputs": [
        {
          "output_type": "execute_result",
          "data": {
            "text/plain": [
              "tan(x)"
            ],
            "text/latex": "$\\displaystyle \\tan{\\left(x \\right)}$"
          },
          "metadata": {},
          "execution_count": 29
        }
      ]
    },
    {
      "cell_type": "code",
      "source": [
        "sympy.simplify(2*sin(x)*cos(x))"
      ],
      "metadata": {
        "id": "amn92Q0ULXlD",
        "outputId": "2309246f-0aa6-4bf1-81c7-a688becfdc9d",
        "colab": {
          "base_uri": "https://localhost:8080/",
          "height": 38
        }
      },
      "id": "amn92Q0ULXlD",
      "execution_count": 30,
      "outputs": [
        {
          "output_type": "execute_result",
          "data": {
            "text/plain": [
              "sin(2*x)"
            ],
            "text/latex": "$\\displaystyle \\sin{\\left(2 x \\right)}$"
          },
          "metadata": {},
          "execution_count": 30
        }
      ]
    },
    {
      "cell_type": "markdown",
      "source": [
        "This function has some pitfalls, though. For one, it's comparatively slow compared to the other methods available, since it will try every method and look for the \"best\" one. Also, there's some ambiguity to what the \"simplest\" form of an expression is. Let's try to factor a perfect square quadratic (i.e. a quadratic whose factors are identical):"
      ],
      "metadata": {
        "id": "S8zvhxDmLexL"
      },
      "id": "S8zvhxDmLexL"
    },
    {
      "cell_type": "code",
      "source": [
        "sympy.simplify(x**2 + 2*x + 1)"
      ],
      "metadata": {
        "id": "ECOq-MXWLd5n",
        "outputId": "688e31eb-6877-42d7-bf30-2302c6e970ae",
        "colab": {
          "base_uri": "https://localhost:8080/",
          "height": 38
        }
      },
      "id": "ECOq-MXWLd5n",
      "execution_count": 31,
      "outputs": [
        {
          "output_type": "execute_result",
          "data": {
            "text/plain": [
              "x**2 + 2*x + 1"
            ],
            "text/latex": "$\\displaystyle x^{2} + 2 x + 1$"
          },
          "metadata": {},
          "execution_count": 31
        }
      ]
    },
    {
      "cell_type": "markdown",
      "source": [
        "As we can see, `simplify` doesn't do anything. If we want to factor the expression, we're forced to use `factor`:"
      ],
      "metadata": {
        "id": "G1HR9eI7L6Wp"
      },
      "id": "G1HR9eI7L6Wp"
    },
    {
      "cell_type": "code",
      "source": [
        "sympy.factor(x**2 + 2*x + 1)"
      ],
      "metadata": {
        "id": "jUsb0b7-L5YK",
        "outputId": "62b047a3-20bc-4beb-f9b1-6ebad827a8e1",
        "colab": {
          "base_uri": "https://localhost:8080/",
          "height": 39
        }
      },
      "id": "jUsb0b7-L5YK",
      "execution_count": 32,
      "outputs": [
        {
          "output_type": "execute_result",
          "data": {
            "text/plain": [
              "(x + 1)**2"
            ],
            "text/latex": "$\\displaystyle \\left(x + 1\\right)^{2}$"
          },
          "metadata": {},
          "execution_count": 32
        }
      ]
    },
    {
      "cell_type": "markdown",
      "source": [
        "When using `sympy`, it's therefore important to have a general idea of what sorts of simplification you want to do. If you have no idea, `simplify` can be used as an interactive starting point to see what you get before using specialized functions like `factor` and `expand`.\n",
        "\n",
        "Let's look at some more simplification functions. Recall that `sympy` will automatically combine terms with numerical coefficients:"
      ],
      "metadata": {
        "id": "zT6Tyl-IMEmH"
      },
      "id": "zT6Tyl-IMEmH"
    },
    {
      "cell_type": "code",
      "source": [
        "x**2 + 4*x + 3 + 5*x - 3*x**2 - 5"
      ],
      "metadata": {
        "id": "zOxPG8YsMD9A",
        "outputId": "53d9254a-2154-44a2-8612-7935eac2be02",
        "colab": {
          "base_uri": "https://localhost:8080/",
          "height": 38
        }
      },
      "id": "zOxPG8YsMD9A",
      "execution_count": 33,
      "outputs": [
        {
          "output_type": "execute_result",
          "data": {
            "text/plain": [
              "-2*x**2 + 9*x - 2"
            ],
            "text/latex": "$\\displaystyle - 2 x^{2} + 9 x - 2$"
          },
          "metadata": {},
          "execution_count": 33
        }
      ]
    },
    {
      "cell_type": "markdown",
      "source": [
        "But what if we have a multivariable expression?"
      ],
      "metadata": {
        "id": "ohIn02T6M1L1"
      },
      "id": "ohIn02T6M1L1"
    },
    {
      "cell_type": "code",
      "source": [
        "expr = x**2 + x*y + 3*z + 5*x*z - 3*x*y*z - 5*x**2 + 3*y\n",
        "expr"
      ],
      "metadata": {
        "id": "Fjd6HpUGM0ML",
        "outputId": "2d14b8db-3f1d-4eaa-b6d8-950e3a509d10",
        "colab": {
          "base_uri": "https://localhost:8080/",
          "height": 38
        }
      },
      "id": "Fjd6HpUGM0ML",
      "execution_count": 34,
      "outputs": [
        {
          "output_type": "execute_result",
          "data": {
            "text/plain": [
              "-4*x**2 - 3*x*y*z + x*y + 5*x*z + 3*y + 3*z"
            ],
            "text/latex": "$\\displaystyle - 4 x^{2} - 3 x y z + x y + 5 x z + 3 y + 3 z$"
          },
          "metadata": {},
          "execution_count": 34
        }
      ]
    },
    {
      "cell_type": "markdown",
      "source": [
        "If we wanted to combine all of the terms that contained $x$, for example, we can use `collect()`, inputting the expression and the desired variable to combine:"
      ],
      "metadata": {
        "id": "IQogIaqeNFyf"
      },
      "id": "IQogIaqeNFyf"
    },
    {
      "cell_type": "code",
      "source": [
        "expr_x = sympy.collect(expr, x)\n",
        "expr_x"
      ],
      "metadata": {
        "id": "Kua2jf8kNEmc",
        "outputId": "061f5f92-5381-420f-aacd-b8f716fbf495",
        "colab": {
          "base_uri": "https://localhost:8080/",
          "height": 38
        }
      },
      "id": "Kua2jf8kNEmc",
      "execution_count": 35,
      "outputs": [
        {
          "output_type": "execute_result",
          "data": {
            "text/plain": [
              "-4*x**2 + x*(-3*y*z + y + 5*z) + 3*y + 3*z"
            ],
            "text/latex": "$\\displaystyle - 4 x^{2} + x \\left(- 3 y z + y + 5 z\\right) + 3 y + 3 z$"
          },
          "metadata": {},
          "execution_count": 35
        }
      ]
    },
    {
      "cell_type": "markdown",
      "source": [
        "If we want to see the coefficients to a specific power of a variable, we can use the method `coeff()` which takes in the desired variable and power as arguments. For example, let's see the coefficient for $x$:"
      ],
      "metadata": {
        "id": "eDAe00YfNlD6"
      },
      "id": "eDAe00YfNlD6"
    },
    {
      "cell_type": "code",
      "source": [
        "expr_x.coeff(x, 1)"
      ],
      "metadata": {
        "id": "veCC0huuNa79",
        "outputId": "77384b42-264b-4dc4-a09d-78e2a187c3a5",
        "colab": {
          "base_uri": "https://localhost:8080/",
          "height": 38
        }
      },
      "id": "veCC0huuNa79",
      "execution_count": 36,
      "outputs": [
        {
          "output_type": "execute_result",
          "data": {
            "text/plain": [
              "-3*y*z + y + 5*z"
            ],
            "text/latex": "$\\displaystyle - 3 y z + y + 5 z$"
          },
          "metadata": {},
          "execution_count": 36
        }
      ]
    },
    {
      "cell_type": "markdown",
      "source": [
        "The function `cancel()` will reduce a rational function down to the *canonical form*, expressed as the quotient of two polynomials with integer leading coefficients:"
      ],
      "metadata": {
        "id": "YXdp5SisN6jL"
      },
      "id": "YXdp5SisN6jL"
    },
    {
      "cell_type": "code",
      "source": [
        "expr = 1/x + (3*x/2 - 2)/(x - 4)\n",
        "expr"
      ],
      "metadata": {
        "id": "0yOlnBoTN5DX",
        "outputId": "d10a3a0b-ac25-4a54-a068-39008e62ccc5",
        "colab": {
          "base_uri": "https://localhost:8080/",
          "height": 57
        }
      },
      "id": "0yOlnBoTN5DX",
      "execution_count": 37,
      "outputs": [
        {
          "output_type": "execute_result",
          "data": {
            "text/plain": [
              "(3*x/2 - 2)/(x - 4) + 1/x"
            ],
            "text/latex": "$\\displaystyle \\frac{\\frac{3 x}{2} - 2}{x - 4} + \\frac{1}{x}$"
          },
          "metadata": {},
          "execution_count": 37
        }
      ]
    },
    {
      "cell_type": "code",
      "source": [
        "expr_can = sympy.cancel(expr)\n",
        "expr_can"
      ],
      "metadata": {
        "id": "0moouz5DOXKM",
        "outputId": "abf8569c-83c8-4208-bd2b-29a0ed8b44a6",
        "colab": {
          "base_uri": "https://localhost:8080/",
          "height": 55
        }
      },
      "id": "0moouz5DOXKM",
      "execution_count": 38,
      "outputs": [
        {
          "output_type": "execute_result",
          "data": {
            "text/plain": [
              "(3*x**2 - 2*x - 8)/(2*x**2 - 8*x)"
            ],
            "text/latex": "$\\displaystyle \\frac{3 x^{2} - 2 x - 8}{2 x^{2} - 8 x}$"
          },
          "metadata": {},
          "execution_count": 38
        }
      ]
    },
    {
      "cell_type": "markdown",
      "source": [
        "By default, this leaves the numerator and denominator in their fully expanded forms. We can, of course, use `factor` to simplify this further:"
      ],
      "metadata": {
        "id": "1QvbZ7FDOg8-"
      },
      "id": "1QvbZ7FDOg8-"
    },
    {
      "cell_type": "code",
      "source": [
        "sympy.factor(expr_can)"
      ],
      "metadata": {
        "id": "wmmLHZkZObR8",
        "outputId": "ffcb3e2c-5a31-46ef-f82c-d706dc7194e4",
        "colab": {
          "base_uri": "https://localhost:8080/",
          "height": 57
        }
      },
      "id": "wmmLHZkZObR8",
      "execution_count": 39,
      "outputs": [
        {
          "output_type": "execute_result",
          "data": {
            "text/plain": [
              "(x - 2)*(3*x + 4)/(2*x*(x - 4))"
            ],
            "text/latex": "$\\displaystyle \\frac{\\left(x - 2\\right) \\left(3 x + 4\\right)}{2 x \\left(x - 4\\right)}$"
          },
          "metadata": {},
          "execution_count": 39
        }
      ]
    },
    {
      "cell_type": "markdown",
      "source": [
        "The inverse of this is `apart()`, which decomposes a rational function into a sum of multiple fracations:"
      ],
      "metadata": {
        "id": "QKHjecBAOx2L"
      },
      "id": "QKHjecBAOx2L"
    },
    {
      "cell_type": "code",
      "source": [
        "sympy.apart(expr_can)"
      ],
      "metadata": {
        "id": "KhEZou6SOt4l",
        "outputId": "c6346ff3-db92-4fbc-a511-ed812db803dc",
        "colab": {
          "base_uri": "https://localhost:8080/",
          "height": 52
        }
      },
      "id": "KhEZou6SOt4l",
      "execution_count": 40,
      "outputs": [
        {
          "output_type": "execute_result",
          "data": {
            "text/plain": [
              "3/2 + 4/(x - 4) + 1/x"
            ],
            "text/latex": "$\\displaystyle \\frac{3}{2} + \\frac{4}{x - 4} + \\frac{1}{x}$"
          },
          "metadata": {},
          "execution_count": 40
        }
      ]
    },
    {
      "cell_type": "markdown",
      "source": [
        "For trigonometric expressions, there are two simplification functions, `trigsimp()` and `expand_trig()`. They do as you might expect: the former simplifies trig expressions, while the latter expands them:"
      ],
      "metadata": {
        "id": "3FmsG55iPXhP"
      },
      "id": "3FmsG55iPXhP"
    },
    {
      "cell_type": "code",
      "source": [
        "sympy.trigsimp(sin(x)**2 + cos(x)**2)"
      ],
      "metadata": {
        "id": "eZWk4DjrPFBs",
        "outputId": "272176bd-8daa-472d-83ba-c4288e659c31",
        "colab": {
          "base_uri": "https://localhost:8080/",
          "height": 37
        }
      },
      "id": "eZWk4DjrPFBs",
      "execution_count": 41,
      "outputs": [
        {
          "output_type": "execute_result",
          "data": {
            "text/plain": [
              "1"
            ],
            "text/latex": "$\\displaystyle 1$"
          },
          "metadata": {},
          "execution_count": 41
        }
      ]
    },
    {
      "cell_type": "code",
      "source": [
        "from sympy import tan, sec\n",
        "sympy.trigsimp(sin(x)*tan(x)/sec(x))"
      ],
      "metadata": {
        "id": "NW2Am4zoPnTP",
        "outputId": "e2f2efe9-43ed-4f2c-ec23-194d82aa257e",
        "colab": {
          "base_uri": "https://localhost:8080/",
          "height": 38
        }
      },
      "id": "NW2Am4zoPnTP",
      "execution_count": 42,
      "outputs": [
        {
          "output_type": "execute_result",
          "data": {
            "text/plain": [
              "sin(x)**2"
            ],
            "text/latex": "$\\displaystyle \\sin^{2}{\\left(x \\right)}$"
          },
          "metadata": {},
          "execution_count": 42
        }
      ]
    },
    {
      "cell_type": "code",
      "source": [
        "sympy.expand_trig(sin(x+y))"
      ],
      "metadata": {
        "id": "vE_4LwmKPuXO",
        "outputId": "87d46d4b-121f-4083-bf2f-da7113cca977",
        "colab": {
          "base_uri": "https://localhost:8080/",
          "height": 38
        }
      },
      "id": "vE_4LwmKPuXO",
      "execution_count": 43,
      "outputs": [
        {
          "output_type": "execute_result",
          "data": {
            "text/plain": [
              "sin(x)*cos(y) + sin(y)*cos(x)"
            ],
            "text/latex": "$\\displaystyle \\sin{\\left(x \\right)} \\cos{\\left(y \\right)} + \\sin{\\left(y \\right)} \\cos{\\left(x \\right)}$"
          },
          "metadata": {},
          "execution_count": 43
        }
      ]
    },
    {
      "cell_type": "code",
      "source": [
        "sympy.expand_trig(sin(2*x))"
      ],
      "metadata": {
        "id": "cniAkphoPz-t",
        "outputId": "9900b108-0f35-4cf9-fca6-84830dcee06a",
        "colab": {
          "base_uri": "https://localhost:8080/",
          "height": 38
        }
      },
      "id": "cniAkphoPz-t",
      "execution_count": 44,
      "outputs": [
        {
          "output_type": "execute_result",
          "data": {
            "text/plain": [
              "2*sin(x)*cos(x)"
            ],
            "text/latex": "$\\displaystyle 2 \\sin{\\left(x \\right)} \\cos{\\left(x \\right)}$"
          },
          "metadata": {},
          "execution_count": 44
        }
      ]
    },
    {
      "cell_type": "markdown",
      "source": [
        "There are three functions that can be used to combine or expand exponents. `powsimp()` simplifies an expression, combining the bases and powers of an expression using $x^a*y^a = (xy)^a$ and $x^ax^b = x^{a+b}$."
      ],
      "metadata": {
        "id": "doqxcllcQWLt"
      },
      "id": "doqxcllcQWLt"
    },
    {
      "cell_type": "code",
      "source": [
        "a, b = symbols('a b')\n",
        "x, y = symbols('x y')\n",
        "sympy.powsimp(x**a*x**b)"
      ],
      "metadata": {
        "id": "Aw0_AUADP7RA",
        "outputId": "80eeda3f-df76-466f-ffa5-cfd94962e411",
        "colab": {
          "base_uri": "https://localhost:8080/",
          "height": 38
        }
      },
      "id": "Aw0_AUADP7RA",
      "execution_count": 45,
      "outputs": [
        {
          "output_type": "execute_result",
          "data": {
            "text/plain": [
              "x**(a + b)"
            ],
            "text/latex": "$\\displaystyle x^{a + b}$"
          },
          "metadata": {},
          "execution_count": 45
        }
      ]
    },
    {
      "cell_type": "markdown",
      "source": [
        "Here, it's important to consider the values that our variables can take. By default, `sympy` variables are assumed to be *complex* (i.e. they have real and imaginary components). However, the identity $x^a*y^a = (xy)^a$ requires that $x$ and $y$ are positive and $a$ is real (i.e. generally $\\sqrt{x}\\sqrt{y} \\neq \\sqrt{xy}$). Therefore, with general variables, `powsimp` won't do anything:"
      ],
      "metadata": {
        "id": "I2-QeE1MViQW"
      },
      "id": "I2-QeE1MViQW"
    },
    {
      "cell_type": "code",
      "source": [
        "sympy.powsimp(x**a*y**a)"
      ],
      "metadata": {
        "id": "LL4YKDSWVg80",
        "outputId": "f0ec32f6-d1af-43da-9517-8d7ebc7f6ea8",
        "colab": {
          "base_uri": "https://localhost:8080/",
          "height": 38
        }
      },
      "id": "LL4YKDSWVg80",
      "execution_count": 46,
      "outputs": [
        {
          "output_type": "execute_result",
          "data": {
            "text/plain": [
              "x**a*y**a"
            ],
            "text/latex": "$\\displaystyle x^{a} y^{a}$"
          },
          "metadata": {},
          "execution_count": 46
        }
      ]
    },
    {
      "cell_type": "markdown",
      "source": [
        "We need to use the keywords described earlier to use this function properly:"
      ],
      "metadata": {
        "id": "BjcOMRlzWCsW"
      },
      "id": "BjcOMRlzWCsW"
    },
    {
      "cell_type": "code",
      "source": [
        "x, y = symbols('x y', positive=True)\n",
        "a, b = symbols('a b', real=True)\n",
        "sympy.powsimp(x**a*y**a)"
      ],
      "metadata": {
        "id": "Wxm5IPyHWB4l",
        "outputId": "db81dc4d-a3e9-4e9b-e90f-def1f919c5a4",
        "colab": {
          "base_uri": "https://localhost:8080/",
          "height": 38
        }
      },
      "id": "Wxm5IPyHWB4l",
      "execution_count": 47,
      "outputs": [
        {
          "output_type": "execute_result",
          "data": {
            "text/plain": [
              "(x*y)**a"
            ],
            "text/latex": "$\\displaystyle \\left(x y\\right)^{a}$"
          },
          "metadata": {},
          "execution_count": 47
        }
      ]
    },
    {
      "cell_type": "markdown",
      "source": [
        "The inverses of `powsimp` are `expand_power_exp` and `expand_power_base`, which respectively expand functions by breaking apart the exponents or breaking apart the bases."
      ],
      "metadata": {
        "id": "M3BdX8vVWbZw"
      },
      "id": "M3BdX8vVWbZw"
    },
    {
      "cell_type": "code",
      "source": [
        "example = (x*y)**(a + b)\n",
        "example"
      ],
      "metadata": {
        "id": "f_NLwGJfWSly",
        "outputId": "d7b206d2-fb40-4896-bf0f-e7bad29ffc41",
        "colab": {
          "base_uri": "https://localhost:8080/",
          "height": 40
        }
      },
      "id": "f_NLwGJfWSly",
      "execution_count": 48,
      "outputs": [
        {
          "output_type": "execute_result",
          "data": {
            "text/plain": [
              "(x*y)**(a + b)"
            ],
            "text/latex": "$\\displaystyle \\left(x y\\right)^{a + b}$"
          },
          "metadata": {},
          "execution_count": 48
        }
      ]
    },
    {
      "cell_type": "code",
      "source": [
        "sympy.expand_power_exp(example)"
      ],
      "metadata": {
        "id": "963le0F4Wxb1",
        "outputId": "611642bd-6f99-4823-f4c4-3d97262e9c5d",
        "colab": {
          "base_uri": "https://localhost:8080/",
          "height": 40
        }
      },
      "id": "963le0F4Wxb1",
      "execution_count": 49,
      "outputs": [
        {
          "output_type": "execute_result",
          "data": {
            "text/plain": [
              "(x*y)**a*(x*y)**b"
            ],
            "text/latex": "$\\displaystyle \\left(x y\\right)^{a} \\left(x y\\right)^{b}$"
          },
          "metadata": {},
          "execution_count": 49
        }
      ]
    },
    {
      "cell_type": "code",
      "source": [
        "sympy.expand_power_base(example)"
      ],
      "metadata": {
        "id": "e2bDr36dW2Ct",
        "outputId": "b2326867-8903-4b9f-c5a9-0dac93a59086",
        "colab": {
          "base_uri": "https://localhost:8080/",
          "height": 38
        }
      },
      "id": "e2bDr36dW2Ct",
      "execution_count": 50,
      "outputs": [
        {
          "output_type": "execute_result",
          "data": {
            "text/plain": [
              "x**(a + b)*y**(a + b)"
            ],
            "text/latex": "$\\displaystyle x^{a + b} y^{a + b}$"
          },
          "metadata": {},
          "execution_count": 50
        }
      ]
    },
    {
      "cell_type": "markdown",
      "source": [
        "There's also a function `powdenest()`, which uses the identity $(x^a)^b = x^{ab}$ to simplify nested exponents. This identity requires that $b$ is an integer, however (i.e. generally $\\sqrt{x^2} \\neq x$)."
      ],
      "metadata": {
        "id": "vTSfdFyiW7du"
      },
      "id": "vTSfdFyiW7du"
    },
    {
      "cell_type": "code",
      "source": [
        "sympy.powdenest((x**a)**b)"
      ],
      "metadata": {
        "id": "iZ89xM_uW4EU",
        "outputId": "4b3444af-1570-4f1a-c6dd-92523312bf8d",
        "colab": {
          "base_uri": "https://localhost:8080/",
          "height": 38
        }
      },
      "id": "iZ89xM_uW4EU",
      "execution_count": 51,
      "outputs": [
        {
          "output_type": "execute_result",
          "data": {
            "text/plain": [
              "x**(a*b)"
            ],
            "text/latex": "$\\displaystyle x^{a b}$"
          },
          "metadata": {},
          "execution_count": 51
        }
      ]
    },
    {
      "cell_type": "markdown",
      "source": [
        "Keep in mind that all of these simplifications are done automatically if the exponents or bases are combinations of numbers:"
      ],
      "metadata": {
        "id": "7oMca4-gYmAU"
      },
      "id": "7oMca4-gYmAU"
    },
    {
      "cell_type": "code",
      "source": [
        "x**2*x**3"
      ],
      "metadata": {
        "id": "WYC2Pw2fX2_p",
        "outputId": "e7465351-bead-4b7f-e62b-ab5469c11d59",
        "colab": {
          "base_uri": "https://localhost:8080/",
          "height": 38
        }
      },
      "id": "WYC2Pw2fX2_p",
      "execution_count": 52,
      "outputs": [
        {
          "output_type": "execute_result",
          "data": {
            "text/plain": [
              "x**5"
            ],
            "text/latex": "$\\displaystyle x^{5}$"
          },
          "metadata": {},
          "execution_count": 52
        }
      ]
    },
    {
      "cell_type": "code",
      "source": [
        "2**a*5**a"
      ],
      "metadata": {
        "id": "ut_5uJJkYsiC",
        "outputId": "553b65dc-d509-4f52-fccf-6b924538b7ea",
        "colab": {
          "base_uri": "https://localhost:8080/",
          "height": 37
        }
      },
      "id": "ut_5uJJkYsiC",
      "execution_count": 53,
      "outputs": [
        {
          "output_type": "execute_result",
          "data": {
            "text/plain": [
              "10**a"
            ],
            "text/latex": "$\\displaystyle 10^{a}$"
          },
          "metadata": {},
          "execution_count": 53
        }
      ]
    },
    {
      "cell_type": "markdown",
      "source": [
        "There are two functions for simnplifying logarithmic functions. Both utilize the identities $\\log(xy) = \\log(x) + \\log(y)$ and $\\log(x^a) = a\\log(x)$. However, they again have the restriction that $x,y$ are positive and $a$ is real. \n",
        "\n",
        "The function `expand_log()` uses the above identities to expand logs as much as possible:"
      ],
      "metadata": {
        "id": "R2GLuL2aYxjP"
      },
      "id": "R2GLuL2aYxjP"
    },
    {
      "cell_type": "code",
      "source": [
        "from sympy import log\n",
        "sympy.expand_log(log(x*y))"
      ],
      "metadata": {
        "id": "v2Wk6c1ZZc4g",
        "outputId": "1241b4a2-2433-4b69-8e29-e70e721c256b",
        "colab": {
          "base_uri": "https://localhost:8080/",
          "height": 38
        }
      },
      "id": "v2Wk6c1ZZc4g",
      "execution_count": 54,
      "outputs": [
        {
          "output_type": "execute_result",
          "data": {
            "text/plain": [
              "log(x) + log(y)"
            ],
            "text/latex": "$\\displaystyle \\log{\\left(x \\right)} + \\log{\\left(y \\right)}$"
          },
          "metadata": {},
          "execution_count": 54
        }
      ]
    },
    {
      "cell_type": "code",
      "source": [
        "sympy.expand_log(log(x/y))"
      ],
      "metadata": {
        "id": "IW6Vvyd4Zhh3",
        "outputId": "73805d1f-8751-4602-dbb4-61f3454df5dc",
        "colab": {
          "base_uri": "https://localhost:8080/",
          "height": 38
        }
      },
      "id": "IW6Vvyd4Zhh3",
      "execution_count": 55,
      "outputs": [
        {
          "output_type": "execute_result",
          "data": {
            "text/plain": [
              "log(x) - log(y)"
            ],
            "text/latex": "$\\displaystyle \\log{\\left(x \\right)} - \\log{\\left(y \\right)}$"
          },
          "metadata": {},
          "execution_count": 55
        }
      ]
    },
    {
      "cell_type": "code",
      "source": [
        "sympy.expand_log(log(x**a))"
      ],
      "metadata": {
        "id": "jTVnndwbZj_s",
        "outputId": "c5e20119-6bc2-42de-84de-3635e392ff04",
        "colab": {
          "base_uri": "https://localhost:8080/",
          "height": 38
        }
      },
      "id": "jTVnndwbZj_s",
      "execution_count": 56,
      "outputs": [
        {
          "output_type": "execute_result",
          "data": {
            "text/plain": [
              "a*log(x)"
            ],
            "text/latex": "$\\displaystyle a \\log{\\left(x \\right)}$"
          },
          "metadata": {},
          "execution_count": 56
        }
      ]
    },
    {
      "cell_type": "markdown",
      "source": [
        "The function `logcombine()` does just the opposite: it uses the log rules to compress a logarithmic function as much as possible:"
      ],
      "metadata": {
        "id": "lXGCzp9YZqv1"
      },
      "id": "lXGCzp9YZqv1"
    },
    {
      "cell_type": "code",
      "source": [
        "sympy.logcombine(a*log(x)-b*log(y))"
      ],
      "metadata": {
        "id": "cRGq2vU-Z2NL",
        "outputId": "517a541f-ef14-4075-f107-bb69396d10a8",
        "colab": {
          "base_uri": "https://localhost:8080/",
          "height": 38
        }
      },
      "id": "cRGq2vU-Z2NL",
      "execution_count": 57,
      "outputs": [
        {
          "output_type": "execute_result",
          "data": {
            "text/plain": [
              "log(x**a/y**b)"
            ],
            "text/latex": "$\\displaystyle \\log{\\left(x^{a} y^{- b} \\right)}$"
          },
          "metadata": {},
          "execution_count": 57
        }
      ]
    },
    {
      "cell_type": "markdown",
      "source": [
        "## Symbolic Calculus\n",
        "\n",
        "Another powerful use of `sympy` is to get analytic solutions to common calculus problems. For example, we can use `sympy` to find the *derivative* of a function, which describes the instantaneous rate of change at each point in the function. All we need to do this is the `diff()` function, in which we pass the function to differentiate and the variable of differentiation."
      ],
      "metadata": {
        "id": "1WCwm3ACaAhp"
      },
      "id": "1WCwm3ACaAhp"
    },
    {
      "cell_type": "code",
      "source": [
        "x, y, z = symbols('x y z', real=True)\n",
        "sympy.diff(cos(x), x)"
      ],
      "metadata": {
        "id": "BZbfectcZ9Wz",
        "outputId": "f0336d20-8653-40c3-8d9a-c2f2273ff7d7",
        "colab": {
          "base_uri": "https://localhost:8080/",
          "height": 38
        }
      },
      "id": "BZbfectcZ9Wz",
      "execution_count": 58,
      "outputs": [
        {
          "output_type": "execute_result",
          "data": {
            "text/plain": [
              "-sin(x)"
            ],
            "text/latex": "$\\displaystyle - \\sin{\\left(x \\right)}$"
          },
          "metadata": {},
          "execution_count": 58
        }
      ]
    },
    {
      "cell_type": "code",
      "source": [
        "sympy.diff(5*x**3 + x**2 - 3*x + 4, x)"
      ],
      "metadata": {
        "id": "lDWqxucd8fyh",
        "outputId": "db0f8076-e9bc-4b32-df2f-6a9c0f02999b",
        "colab": {
          "base_uri": "https://localhost:8080/",
          "height": 38
        }
      },
      "id": "lDWqxucd8fyh",
      "execution_count": 62,
      "outputs": [
        {
          "output_type": "execute_result",
          "data": {
            "text/plain": [
              "15*x**2 + 2*x - 3"
            ],
            "text/latex": "$\\displaystyle 15 x^{2} + 2 x - 3$"
          },
          "metadata": {},
          "execution_count": 62
        }
      ]
    },
    {
      "cell_type": "markdown",
      "source": [
        "`diff()` utilizes *partial differentiation*, meaning that it only differentiates one variable at a time and treats all other variables as constants."
      ],
      "metadata": {
        "id": "G0HQJ25s8uUa"
      },
      "id": "G0HQJ25s8uUa"
    },
    {
      "cell_type": "code",
      "source": [
        "bivar = x**2 + x*y + y**2\n",
        "sympy.diff(bivar, x) # differentiate with respect to x"
      ],
      "metadata": {
        "id": "UlDZYaIh79Cp",
        "outputId": "ff26a581-0b67-4614-f666-e0944f6829d3",
        "colab": {
          "base_uri": "https://localhost:8080/",
          "height": 38
        }
      },
      "id": "UlDZYaIh79Cp",
      "execution_count": 64,
      "outputs": [
        {
          "output_type": "execute_result",
          "data": {
            "text/plain": [
              "2*x + y"
            ],
            "text/latex": "$\\displaystyle 2 x + y$"
          },
          "metadata": {},
          "execution_count": 64
        }
      ]
    },
    {
      "cell_type": "code",
      "source": [
        "sympy.diff(bivar, y) # diff wrt y"
      ],
      "metadata": {
        "id": "1LqOP6Fm8d-s",
        "outputId": "97f761d4-f4dd-40c5-8653-4b8e8eeef549",
        "colab": {
          "base_uri": "https://localhost:8080/",
          "height": 38
        }
      },
      "id": "1LqOP6Fm8d-s",
      "execution_count": 65,
      "outputs": [
        {
          "output_type": "execute_result",
          "data": {
            "text/plain": [
              "x + 2*y"
            ],
            "text/latex": "$\\displaystyle x + 2 y$"
          },
          "metadata": {},
          "execution_count": 65
        }
      ]
    },
    {
      "cell_type": "markdown",
      "source": [
        "If we wanted to differentiate with respect to multiple variables in a row, we can pass as many additional arguments as we'd like. Calculus states that the order of partial differentiation doesn't matter:"
      ],
      "metadata": {
        "id": "vch_kXMe9Pmz"
      },
      "id": "vch_kXMe9Pmz"
    },
    {
      "cell_type": "code",
      "source": [
        "sympy.diff(bivar, x, y) # diff wrt x then y"
      ],
      "metadata": {
        "id": "CWIehbGS9OdI",
        "outputId": "2de72037-466a-4ee4-95b7-39affefb7734",
        "colab": {
          "base_uri": "https://localhost:8080/",
          "height": 37
        }
      },
      "id": "CWIehbGS9OdI",
      "execution_count": 66,
      "outputs": [
        {
          "output_type": "execute_result",
          "data": {
            "text/plain": [
              "1"
            ],
            "text/latex": "$\\displaystyle 1$"
          },
          "metadata": {},
          "execution_count": 66
        }
      ]
    },
    {
      "cell_type": "code",
      "source": [
        "sympy.diff(bivar, x, y) # diff wrt y then x"
      ],
      "metadata": {
        "id": "vd7j4-NS9sEn",
        "outputId": "8ec910d7-d145-40b6-d1d2-809f7fdc10ac",
        "colab": {
          "base_uri": "https://localhost:8080/",
          "height": 37
        }
      },
      "id": "vd7j4-NS9sEn",
      "execution_count": 67,
      "outputs": [
        {
          "output_type": "execute_result",
          "data": {
            "text/plain": [
              "1"
            ],
            "text/latex": "$\\displaystyle 1$"
          },
          "metadata": {},
          "execution_count": 67
        }
      ]
    },
    {
      "cell_type": "code",
      "source": [
        "sympy.diff(bivar, y, y) # diff wrt y twice"
      ],
      "metadata": {
        "id": "wqNSnU3l9uG-",
        "outputId": "2a3bd735-c2c3-4940-9511-ff1560597cca",
        "colab": {
          "base_uri": "https://localhost:8080/",
          "height": 37
        }
      },
      "id": "wqNSnU3l9uG-",
      "execution_count": 68,
      "outputs": [
        {
          "output_type": "execute_result",
          "data": {
            "text/plain": [
              "2"
            ],
            "text/latex": "$\\displaystyle 2$"
          },
          "metadata": {},
          "execution_count": 68
        }
      ]
    },
    {
      "cell_type": "markdown",
      "source": [
        "Another useful function of `sympy` is *integration*, which calculates the area under a curve defined by a given function. We can use `sympy.integrate()` to do this.\n",
        "\n",
        "If we want to compute an indefinite integral, all we need is the function and the variable of integration:"
      ],
      "metadata": {
        "id": "WqXlaz9i93EI"
      },
      "id": "WqXlaz9i93EI"
    },
    {
      "cell_type": "code",
      "source": [
        "sympy.integrate(cos(x), x)"
      ],
      "metadata": {
        "id": "wQbk4L6J9wJJ",
        "outputId": "605e1bc2-604e-4e11-ec56-050d7a8c3aec",
        "colab": {
          "base_uri": "https://localhost:8080/",
          "height": 38
        }
      },
      "id": "wQbk4L6J9wJJ",
      "execution_count": 69,
      "outputs": [
        {
          "output_type": "execute_result",
          "data": {
            "text/plain": [
              "sin(x)"
            ],
            "text/latex": "$\\displaystyle \\sin{\\left(x \\right)}$"
          },
          "metadata": {},
          "execution_count": 69
        }
      ]
    },
    {
      "cell_type": "code",
      "source": [
        "sympy.integrate(x**3/3, x)"
      ],
      "metadata": {
        "id": "ivEajZro-aR_",
        "outputId": "8aec92b4-f6a7-409a-bb25-735f178b810b",
        "colab": {
          "base_uri": "https://localhost:8080/",
          "height": 54
        }
      },
      "id": "ivEajZro-aR_",
      "execution_count": 71,
      "outputs": [
        {
          "output_type": "execute_result",
          "data": {
            "text/plain": [
              "x**4/12"
            ],
            "text/latex": "$\\displaystyle \\frac{x^{4}}{12}$"
          },
          "metadata": {},
          "execution_count": 71
        }
      ]
    },
    {
      "cell_type": "markdown",
      "source": [
        "We can also compute definite integrals by passing the integration variable as a tuple containing the variable, lower bound, and upper bound of integration."
      ],
      "metadata": {
        "id": "PlRwIjaR-fUk"
      },
      "id": "PlRwIjaR-fUk"
    },
    {
      "cell_type": "code",
      "source": [
        "sympy.integrate(x**2, (x, 0, 1)) # integrate x**2 from 0 to 1"
      ],
      "metadata": {
        "id": "DhQ3SD71-cNF",
        "outputId": "e25fa98a-bd5b-4006-a9d2-80c6c4001539",
        "colab": {
          "base_uri": "https://localhost:8080/",
          "height": 51
        }
      },
      "id": "DhQ3SD71-cNF",
      "execution_count": 73,
      "outputs": [
        {
          "output_type": "execute_result",
          "data": {
            "text/plain": [
              "1/3"
            ],
            "text/latex": "$\\displaystyle \\frac{1}{3}$"
          },
          "metadata": {},
          "execution_count": 73
        }
      ]
    },
    {
      "cell_type": "code",
      "source": [
        "sympy.integrate(cos(x), (x, 0, sympy.pi/2)) # integrate cos(x) from 0 to pi/2 using built-in sympy.pi"
      ],
      "metadata": {
        "id": "MLaIe-KD-q1l",
        "outputId": "fc4e05e1-39f6-40fe-c62c-7deb6d8c059e",
        "colab": {
          "base_uri": "https://localhost:8080/",
          "height": 37
        }
      },
      "id": "MLaIe-KD-q1l",
      "execution_count": 76,
      "outputs": [
        {
          "output_type": "execute_result",
          "data": {
            "text/plain": [
              "1"
            ],
            "text/latex": "$\\displaystyle 1$"
          },
          "metadata": {},
          "execution_count": 76
        }
      ]
    },
    {
      "cell_type": "markdown",
      "source": [
        "For infinite bounds, `sympy` uses the syntax `oo` for infinity."
      ],
      "metadata": {
        "id": "ODAM3y_d_Eo3"
      },
      "id": "ODAM3y_d_Eo3"
    },
    {
      "cell_type": "code",
      "source": [
        "sympy.integrate(sympy.exp(-x), (x, 0, sympy.oo)) # integrate e**-x from 0 to infinity"
      ],
      "metadata": {
        "id": "x0LniGSZ-4kh",
        "outputId": "d0cad4b9-abd5-47a2-843b-ec54c12099c5",
        "colab": {
          "base_uri": "https://localhost:8080/",
          "height": 37
        }
      },
      "id": "x0LniGSZ-4kh",
      "execution_count": 78,
      "outputs": [
        {
          "output_type": "execute_result",
          "data": {
            "text/plain": [
              "1"
            ],
            "text/latex": "$\\displaystyle 1$"
          },
          "metadata": {},
          "execution_count": 78
        }
      ]
    },
    {
      "cell_type": "markdown",
      "source": [
        "We can also do multivariable integrals by passing multiple variables (or tuples for definite integrals)."
      ],
      "metadata": {
        "id": "Bb6ZKUye_bVT"
      },
      "id": "Bb6ZKUye_bVT"
    },
    {
      "cell_type": "code",
      "source": [
        "norm2d = sympy.exp(-x**2 - y**2) # 2-dimensional normal distribution\n",
        "norm2d"
      ],
      "metadata": {
        "id": "AsDeht6h_TxG",
        "outputId": "e111b70f-ba51-4537-c9a7-52fa39b2326b",
        "colab": {
          "base_uri": "https://localhost:8080/",
          "height": 41
        }
      },
      "id": "AsDeht6h_TxG",
      "execution_count": 82,
      "outputs": [
        {
          "output_type": "execute_result",
          "data": {
            "text/plain": [
              "exp(-x**2 - y**2)"
            ],
            "text/latex": "$\\displaystyle e^{- x^{2} - y^{2}}$"
          },
          "metadata": {},
          "execution_count": 82
        }
      ]
    },
    {
      "cell_type": "code",
      "source": [
        "sympy.integrate(norm2d, (x, -sympy.oo, sympy.oo), (y, -sympy.oo, sympy.oo)) # integrate over full x-y plane"
      ],
      "metadata": {
        "id": "OiPGl-DM_tYa",
        "outputId": "b449337a-d5e0-40c7-edfd-d9f838c3d452",
        "colab": {
          "base_uri": "https://localhost:8080/",
          "height": 38
        }
      },
      "id": "OiPGl-DM_tYa",
      "execution_count": 80,
      "outputs": [
        {
          "output_type": "execute_result",
          "data": {
            "text/plain": [
              "pi"
            ],
            "text/latex": "$\\displaystyle \\pi$"
          },
          "metadata": {},
          "execution_count": 80
        }
      ]
    },
    {
      "cell_type": "markdown",
      "source": [
        "`diff()` and `integrate()` aren't all-powerful, though. If a function is not differentiable or integrable, we'll just get back the unevaluated function:"
      ],
      "metadata": {
        "id": "YYH85IfoAHKy"
      },
      "id": "YYH85IfoAHKy"
    },
    {
      "cell_type": "code",
      "source": [
        "sympy.integrate(x**x, x) # the only way to evaluate this is with a series approximation"
      ],
      "metadata": {
        "id": "sp9CFNTd_9gc",
        "outputId": "a540dc88-bd69-4a85-c307-3923ea55f1a2",
        "colab": {
          "base_uri": "https://localhost:8080/",
          "height": 55
        }
      },
      "id": "sp9CFNTd_9gc",
      "execution_count": 81,
      "outputs": [
        {
          "output_type": "execute_result",
          "data": {
            "text/plain": [
              "Integral(x**x, x)"
            ],
            "text/latex": "$\\displaystyle \\int x^{x}\\, dx$"
          },
          "metadata": {},
          "execution_count": 81
        }
      ]
    },
    {
      "cell_type": "markdown",
      "source": [
        "We can also compute *limits* using `scipy.limit()`. The inputs are the expression, the variable we're considering, and the value to approach."
      ],
      "metadata": {
        "id": "LTToJUDUAunv"
      },
      "id": "LTToJUDUAunv"
    },
    {
      "cell_type": "code",
      "source": [
        "sympy.limit(sin(x)/x, x, 0)"
      ],
      "metadata": {
        "id": "SybDvS87Ar3m",
        "outputId": "4dbde8ec-c4e2-48a4-ab89-2534289c06f7",
        "colab": {
          "base_uri": "https://localhost:8080/",
          "height": 37
        }
      },
      "id": "SybDvS87Ar3m",
      "execution_count": 83,
      "outputs": [
        {
          "output_type": "execute_result",
          "data": {
            "text/plain": [
              "1"
            ],
            "text/latex": "$\\displaystyle 1$"
          },
          "metadata": {},
          "execution_count": 83
        }
      ]
    },
    {
      "cell_type": "code",
      "source": [
        "sympy.limit(x**2, x, sympy.oo)"
      ],
      "metadata": {
        "id": "LdoN1nurBNkB",
        "outputId": "0e85bdd3-a7ba-46ee-c51b-780b1a4226db",
        "colab": {
          "base_uri": "https://localhost:8080/",
          "height": 37
        }
      },
      "id": "LdoN1nurBNkB",
      "execution_count": 84,
      "outputs": [
        {
          "output_type": "execute_result",
          "data": {
            "text/plain": [
              "oo"
            ],
            "text/latex": "$\\displaystyle \\infty$"
          },
          "metadata": {},
          "execution_count": 84
        }
      ]
    },
    {
      "cell_type": "code",
      "source": [
        "sympy.limit(log(x), x, 0)"
      ],
      "metadata": {
        "id": "zPhIQRmuBQ2i",
        "outputId": "17f0251f-3fed-4b10-84b2-e3171d5d2514",
        "colab": {
          "base_uri": "https://localhost:8080/",
          "height": 37
        }
      },
      "id": "zPhIQRmuBQ2i",
      "execution_count": 85,
      "outputs": [
        {
          "output_type": "execute_result",
          "data": {
            "text/plain": [
              "-oo"
            ],
            "text/latex": "$\\displaystyle -\\infty$"
          },
          "metadata": {},
          "execution_count": 85
        }
      ]
    },
    {
      "cell_type": "markdown",
      "source": [
        "For one-sided limits, pass the additional argument `'+'` to evaluate from the right or `'-'` to evaluate from the left."
      ],
      "metadata": {
        "id": "OnBwXAOWBXYU"
      },
      "id": "OnBwXAOWBXYU"
    },
    {
      "cell_type": "code",
      "source": [
        "sympy.limit(1/x, x, 0, '+') # evaluate the limit at zero from the right"
      ],
      "metadata": {
        "id": "V2BKihUTBUcG",
        "outputId": "c94fa502-f1d1-4fa7-ad8a-71bdc50f6cc6",
        "colab": {
          "base_uri": "https://localhost:8080/",
          "height": 37
        }
      },
      "id": "V2BKihUTBUcG",
      "execution_count": 86,
      "outputs": [
        {
          "output_type": "execute_result",
          "data": {
            "text/plain": [
              "oo"
            ],
            "text/latex": "$\\displaystyle \\infty$"
          },
          "metadata": {},
          "execution_count": 86
        }
      ]
    },
    {
      "cell_type": "code",
      "source": [
        "sympy.limit(1/x, x, 0, '-') # evaluate the limit at zero from the left"
      ],
      "metadata": {
        "id": "Cpih_WChBmad",
        "outputId": "b34236d8-5515-4a61-e70a-b8e8dd7b8811",
        "colab": {
          "base_uri": "https://localhost:8080/",
          "height": 37
        }
      },
      "id": "Cpih_WChBmad",
      "execution_count": 87,
      "outputs": [
        {
          "output_type": "execute_result",
          "data": {
            "text/plain": [
              "-oo"
            ],
            "text/latex": "$\\displaystyle -\\infty$"
          },
          "metadata": {},
          "execution_count": 87
        }
      ]
    },
    {
      "cell_type": "markdown",
      "source": [
        "`sympy` can even compute series approximations to functions using the method `series()` on an expression. Most series approximations, such as *Taylor series*, are found by taking derivatives of a function at a particular reference point and multiplying by powers of $x$. We can use `series()` by passing the variable of interest, the reference point, and desired highest order term."
      ],
      "metadata": {
        "id": "bcGoR9SiBrdj"
      },
      "id": "bcGoR9SiBrdj"
    },
    {
      "cell_type": "code",
      "source": [
        "func = sympy.exp(x)\n",
        "func.series(x, 0, 6) # print the series approximation centered at 0 up to the x**6 term"
      ],
      "metadata": {
        "id": "Rdhs6meDBpGF",
        "outputId": "11a43ba4-46a8-4775-fb0a-f7001a966fde",
        "colab": {
          "base_uri": "https://localhost:8080/",
          "height": 54
        }
      },
      "id": "Rdhs6meDBpGF",
      "execution_count": 89,
      "outputs": [
        {
          "output_type": "execute_result",
          "data": {
            "text/plain": [
              "1 + x + x**2/2 + x**3/6 + x**4/24 + x**5/120 + O(x**6)"
            ],
            "text/latex": "$\\displaystyle 1 + x + \\frac{x^{2}}{2} + \\frac{x^{3}}{6} + \\frac{x^{4}}{24} + \\frac{x^{5}}{120} + O\\left(x^{6}\\right)$"
          },
          "metadata": {},
          "execution_count": 89
        }
      ]
    },
    {
      "cell_type": "markdown",
      "source": [
        "The last term, $O(x^6)$, represents higher-order terms. Since we passed $n=6$ into `series()`, all terms proportional to $x^6$ or some higher power of $x$ are lumped into this term. This serves to truncate the series; theoretically, there will be infinitely many terms, but we obviously can't see them all. Besides, higher-order terms tend to have a diminishing effect on the shape of the series approximation.\n",
        "\n",
        "Notice that we centered this series at $x=0$. This is known as the *Maclaurin series* expansion. We can choose different values to center the series at to see how the approximation changes:"
      ],
      "metadata": {
        "id": "uaFTENmqGtow"
      },
      "id": "uaFTENmqGtow"
    },
    {
      "cell_type": "code",
      "source": [
        "func.series(x, 2, 6) # centered at 2"
      ],
      "metadata": {
        "id": "J6iUSR__Ggl6",
        "outputId": "652960c1-f35a-4322-e62e-6e24afd557a0",
        "colab": {
          "base_uri": "https://localhost:8080/",
          "height": 56
        }
      },
      "id": "J6iUSR__Ggl6",
      "execution_count": 90,
      "outputs": [
        {
          "output_type": "execute_result",
          "data": {
            "text/plain": [
              "exp(2) + (x - 2)*exp(2) + (x - 2)**2*exp(2)/2 + (x - 2)**3*exp(2)/6 + (x - 2)**4*exp(2)/24 + (x - 2)**5*exp(2)/120 + O((x - 2)**6, (x, 2))"
            ],
            "text/latex": "$\\displaystyle e^{2} + \\left(x - 2\\right) e^{2} + \\frac{\\left(x - 2\\right)^{2} e^{2}}{2} + \\frac{\\left(x - 2\\right)^{3} e^{2}}{6} + \\frac{\\left(x - 2\\right)^{4} e^{2}}{24} + \\frac{\\left(x - 2\\right)^{5} e^{2}}{120} + O\\left(\\left(x - 2\\right)^{6}; x\\rightarrow 2\\right)$"
          },
          "metadata": {},
          "execution_count": 90
        }
      ]
    },
    {
      "cell_type": "code",
      "source": [
        "func.series(x, -4, 6) # centered at -4"
      ],
      "metadata": {
        "id": "H1qC9s4oJeUP",
        "outputId": "152904b8-d553-4168-8a7d-045e5e46fec9",
        "colab": {
          "base_uri": "https://localhost:8080/",
          "height": 56
        }
      },
      "id": "H1qC9s4oJeUP",
      "execution_count": 91,
      "outputs": [
        {
          "output_type": "execute_result",
          "data": {
            "text/plain": [
              "exp(-4) + (x + 4)*exp(-4) + (x + 4)**2*exp(-4)/2 + (x + 4)**3*exp(-4)/6 + (x + 4)**4*exp(-4)/24 + (x + 4)**5*exp(-4)/120 + O((x + 4)**6, (x, -4))"
            ],
            "text/latex": "$\\displaystyle e^{-4} + \\frac{x + 4}{e^{4}} + \\frac{\\left(x + 4\\right)^{2}}{2 e^{4}} + \\frac{\\left(x + 4\\right)^{3}}{6 e^{4}} + \\frac{\\left(x + 4\\right)^{4}}{24 e^{4}} + \\frac{\\left(x + 4\\right)^{5}}{120 e^{4}} + O\\left(\\left(x + 4\\right)^{6}; x\\rightarrow -4\\right)$"
          },
          "metadata": {},
          "execution_count": 91
        }
      ]
    },
    {
      "cell_type": "markdown",
      "source": [
        "## Matrices\n",
        "\n",
        "`sympy` also has support for matrix operations. To create a matrix, we can use the function `sympy.Matrix()`, which uses the same syntax as `numpy.array()`:"
      ],
      "metadata": {
        "id": "7EQtARjWJmX3"
      },
      "id": "7EQtARjWJmX3"
    },
    {
      "cell_type": "code",
      "source": [
        "A = sympy.Matrix([[1, -1, 3], [3, 4, 0], [0, 2, -3]])\n",
        "A"
      ],
      "metadata": {
        "id": "aruyJYJeKr-N",
        "outputId": "383502d6-1977-4606-93cb-53188d429196",
        "colab": {
          "base_uri": "https://localhost:8080/",
          "height": 78
        }
      },
      "id": "aruyJYJeKr-N",
      "execution_count": 95,
      "outputs": [
        {
          "output_type": "execute_result",
          "data": {
            "text/plain": [
              "Matrix([\n",
              "[1, -1,  3],\n",
              "[3,  4,  0],\n",
              "[0,  2, -3]])"
            ],
            "text/latex": "$\\displaystyle \\left[\\begin{matrix}1 & -1 & 3\\\\3 & 4 & 0\\\\0 & 2 & -3\\end{matrix}\\right]$"
          },
          "metadata": {},
          "execution_count": 95
        }
      ]
    },
    {
      "cell_type": "markdown",
      "source": [
        "There is one difference: a list of values is automatically interpreted as a column vector rather than a row vector:"
      ],
      "metadata": {
        "id": "KkKXEdpGK2iq"
      },
      "id": "KkKXEdpGK2iq"
    },
    {
      "cell_type": "code",
      "source": [
        "b = sympy.Matrix([1, 2, 3])\n",
        "b"
      ],
      "metadata": {
        "id": "qXjVCABPK042",
        "outputId": "114b85ae-f4ee-4306-9519-a0168e5ec94c",
        "colab": {
          "base_uri": "https://localhost:8080/",
          "height": 78
        }
      },
      "id": "qXjVCABPK042",
      "execution_count": 96,
      "outputs": [
        {
          "output_type": "execute_result",
          "data": {
            "text/plain": [
              "Matrix([\n",
              "[1],\n",
              "[2],\n",
              "[3]])"
            ],
            "text/latex": "$\\displaystyle \\left[\\begin{matrix}1\\\\2\\\\3\\end{matrix}\\right]$"
          },
          "metadata": {},
          "execution_count": 96
        }
      ]
    },
    {
      "cell_type": "markdown",
      "source": [
        "Many of the basic functions we've grown used to via `numpy` and `scipy` are available in `sympy`. We can call specific rows or columns of a matrix with the methods `row` and `col`. These use standard Python indexing, meaning that negative indices count backwards from the last element:"
      ],
      "metadata": {
        "id": "AhJyUTGdLKvi"
      },
      "id": "AhJyUTGdLKvi"
    },
    {
      "cell_type": "code",
      "source": [
        "A.row(0) # the first row"
      ],
      "metadata": {
        "id": "l8jX6PlcK95S",
        "outputId": "a943240b-9328-4dab-f502-17c7cf1b6d88",
        "colab": {
          "base_uri": "https://localhost:8080/",
          "height": 38
        }
      },
      "id": "l8jX6PlcK95S",
      "execution_count": 97,
      "outputs": [
        {
          "output_type": "execute_result",
          "data": {
            "text/plain": [
              "Matrix([[1, -1, 3]])"
            ],
            "text/latex": "$\\displaystyle \\left[\\begin{matrix}1 & -1 & 3\\end{matrix}\\right]$"
          },
          "metadata": {},
          "execution_count": 97
        }
      ]
    },
    {
      "cell_type": "code",
      "source": [
        "A.col(-1) # the last column"
      ],
      "metadata": {
        "id": "DFZxv08ZLf6z",
        "outputId": "3c84ba6a-d80e-4e74-e03d-910df721e841",
        "colab": {
          "base_uri": "https://localhost:8080/",
          "height": 78
        }
      },
      "id": "DFZxv08ZLf6z",
      "execution_count": 98,
      "outputs": [
        {
          "output_type": "execute_result",
          "data": {
            "text/plain": [
              "Matrix([\n",
              "[ 3],\n",
              "[ 0],\n",
              "[-3]])"
            ],
            "text/latex": "$\\displaystyle \\left[\\begin{matrix}3\\\\0\\\\-3\\end{matrix}\\right]$"
          },
          "metadata": {},
          "execution_count": 98
        }
      ]
    },
    {
      "cell_type": "markdown",
      "source": [
        "We can add, multiply, and even invert matrices using basic Python arithmetic:"
      ],
      "metadata": {
        "id": "3aMHCVOWLil_"
      },
      "id": "3aMHCVOWLil_"
    },
    {
      "cell_type": "code",
      "source": [
        "A*A # multiply A by itself"
      ],
      "metadata": {
        "id": "2Dgzbn4gLiA0",
        "outputId": "b10d6af4-987b-4a4b-bf7a-ad80f5607d16",
        "colab": {
          "base_uri": "https://localhost:8080/",
          "height": 78
        }
      },
      "id": "2Dgzbn4gLiA0",
      "execution_count": 99,
      "outputs": [
        {
          "output_type": "execute_result",
          "data": {
            "text/plain": [
              "Matrix([\n",
              "[-2,  1, -6],\n",
              "[15, 13,  9],\n",
              "[ 6,  2,  9]])"
            ],
            "text/latex": "$\\displaystyle \\left[\\begin{matrix}-2 & 1 & -6\\\\15 & 13 & 9\\\\6 & 2 & 9\\end{matrix}\\right]$"
          },
          "metadata": {},
          "execution_count": 99
        }
      ]
    },
    {
      "cell_type": "code",
      "source": [
        "A**2 # we can also use exponential notation"
      ],
      "metadata": {
        "id": "55crojUnLtak",
        "outputId": "9201e443-e2fb-4d08-fd22-a074a6b459e9",
        "colab": {
          "base_uri": "https://localhost:8080/",
          "height": 78
        }
      },
      "id": "55crojUnLtak",
      "execution_count": 100,
      "outputs": [
        {
          "output_type": "execute_result",
          "data": {
            "text/plain": [
              "Matrix([\n",
              "[-2,  1, -6],\n",
              "[15, 13,  9],\n",
              "[ 6,  2,  9]])"
            ],
            "text/latex": "$\\displaystyle \\left[\\begin{matrix}-2 & 1 & -6\\\\15 & 13 & 9\\\\6 & 2 & 9\\end{matrix}\\right]$"
          },
          "metadata": {},
          "execution_count": 100
        }
      ]
    },
    {
      "cell_type": "code",
      "source": [
        "A**-1 # take the inverse"
      ],
      "metadata": {
        "id": "LdfPKx3hLxnK",
        "outputId": "f039534d-4537-43ae-d89c-195c82af3cad",
        "colab": {
          "base_uri": "https://localhost:8080/",
          "height": 78
        }
      },
      "id": "LdfPKx3hLxnK",
      "execution_count": 101,
      "outputs": [
        {
          "output_type": "execute_result",
          "data": {
            "text/plain": [
              "Matrix([\n",
              "[ 4,  -1,    4],\n",
              "[-3,   1,   -3],\n",
              "[-2, 2/3, -7/3]])"
            ],
            "text/latex": "$\\displaystyle \\left[\\begin{matrix}4 & -1 & 4\\\\-3 & 1 & -3\\\\-2 & \\frac{2}{3} & - \\frac{7}{3}\\end{matrix}\\right]$"
          },
          "metadata": {},
          "execution_count": 101
        }
      ]
    },
    {
      "cell_type": "markdown",
      "source": [
        "As in `numpy`, we can use the attribute `T` to transpose the matrix:"
      ],
      "metadata": {
        "id": "qPI6SIW5L1tZ"
      },
      "id": "qPI6SIW5L1tZ"
    },
    {
      "cell_type": "code",
      "source": [
        "A.T"
      ],
      "metadata": {
        "id": "k8df99r3Lz8b",
        "outputId": "eba1df37-f44d-42cd-f996-677d7145ebd8",
        "colab": {
          "base_uri": "https://localhost:8080/",
          "height": 78
        }
      },
      "id": "k8df99r3Lz8b",
      "execution_count": 102,
      "outputs": [
        {
          "output_type": "execute_result",
          "data": {
            "text/plain": [
              "Matrix([\n",
              "[ 1, 3,  0],\n",
              "[-1, 4,  2],\n",
              "[ 3, 0, -3]])"
            ],
            "text/latex": "$\\displaystyle \\left[\\begin{matrix}1 & 3 & 0\\\\-1 & 4 & 2\\\\3 & 0 & -3\\end{matrix}\\right]$"
          },
          "metadata": {},
          "execution_count": 102
        }
      ]
    },
    {
      "cell_type": "markdown",
      "source": [
        "`sympy` also contains its own matrix constructors. `sympy.eye(n)` generates an $n \\times n$ identity matrix."
      ],
      "metadata": {
        "id": "mgG2J0TKL9L4"
      },
      "id": "mgG2J0TKL9L4"
    },
    {
      "cell_type": "code",
      "source": [
        "sympy.eye(3)"
      ],
      "metadata": {
        "id": "2czKm0waL6UL",
        "outputId": "830ffc9d-0b56-47f6-9dbc-9818ba83dae1",
        "colab": {
          "base_uri": "https://localhost:8080/",
          "height": 78
        }
      },
      "id": "2czKm0waL6UL",
      "execution_count": 103,
      "outputs": [
        {
          "output_type": "execute_result",
          "data": {
            "text/plain": [
              "Matrix([\n",
              "[1, 0, 0],\n",
              "[0, 1, 0],\n",
              "[0, 0, 1]])"
            ],
            "text/latex": "$\\displaystyle \\left[\\begin{matrix}1 & 0 & 0\\\\0 & 1 & 0\\\\0 & 0 & 1\\end{matrix}\\right]$"
          },
          "metadata": {},
          "execution_count": 103
        }
      ]
    },
    {
      "cell_type": "markdown",
      "source": [
        "`sympy.zeros(n, m)` and `sympy.ones(n, m)` respectively generate $n \\times m$ matrices full of zeros or ones:"
      ],
      "metadata": {
        "id": "ETz_ycfzMJOc"
      },
      "id": "ETz_ycfzMJOc"
    },
    {
      "cell_type": "code",
      "source": [
        "sympy.zeros(3, 4)"
      ],
      "metadata": {
        "id": "GnPnWNpjMH7u",
        "outputId": "0094a933-d028-494e-af4e-2297c585c185",
        "colab": {
          "base_uri": "https://localhost:8080/",
          "height": 78
        }
      },
      "id": "GnPnWNpjMH7u",
      "execution_count": 104,
      "outputs": [
        {
          "output_type": "execute_result",
          "data": {
            "text/plain": [
              "Matrix([\n",
              "[0, 0, 0, 0],\n",
              "[0, 0, 0, 0],\n",
              "[0, 0, 0, 0]])"
            ],
            "text/latex": "$\\displaystyle \\left[\\begin{matrix}0 & 0 & 0 & 0\\\\0 & 0 & 0 & 0\\\\0 & 0 & 0 & 0\\end{matrix}\\right]$"
          },
          "metadata": {},
          "execution_count": 104
        }
      ]
    },
    {
      "cell_type": "code",
      "source": [
        "sympy.ones(5, 2)"
      ],
      "metadata": {
        "id": "4zwiDimHMUcE",
        "outputId": "c647efdc-ea59-46e1-9891-7c1fd298eafb",
        "colab": {
          "base_uri": "https://localhost:8080/",
          "height": 119
        }
      },
      "id": "4zwiDimHMUcE",
      "execution_count": 105,
      "outputs": [
        {
          "output_type": "execute_result",
          "data": {
            "text/plain": [
              "Matrix([\n",
              "[1, 1],\n",
              "[1, 1],\n",
              "[1, 1],\n",
              "[1, 1],\n",
              "[1, 1]])"
            ],
            "text/latex": "$\\displaystyle \\left[\\begin{matrix}1 & 1\\\\1 & 1\\\\1 & 1\\\\1 & 1\\\\1 & 1\\end{matrix}\\right]$"
          },
          "metadata": {},
          "execution_count": 105
        }
      ]
    },
    {
      "cell_type": "markdown",
      "source": [
        "We can calculate the determinant of a matrix using the method `det()`:"
      ],
      "metadata": {
        "id": "g7tErnxQMhsF"
      },
      "id": "g7tErnxQMhsF"
    },
    {
      "cell_type": "code",
      "source": [
        "A.det()"
      ],
      "metadata": {
        "id": "qL9PQ9BHMWNr",
        "outputId": "c9cabca5-4857-4f2d-e479-5813e153d26a",
        "colab": {
          "base_uri": "https://localhost:8080/",
          "height": 37
        }
      },
      "id": "qL9PQ9BHMWNr",
      "execution_count": 106,
      "outputs": [
        {
          "output_type": "execute_result",
          "data": {
            "text/plain": [
              "-3"
            ],
            "text/latex": "$\\displaystyle -3$"
          },
          "metadata": {},
          "execution_count": 106
        }
      ]
    },
    {
      "cell_type": "markdown",
      "source": [
        "We can use the method `eigenvals()` to calculate the eigenvalues of the matrix."
      ],
      "metadata": {
        "id": "ZEF2T_HHMnCc"
      },
      "id": "ZEF2T_HHMnCc"
    },
    {
      "cell_type": "code",
      "source": [
        "C = sympy.Matrix([[3, -2, 4, -2], [5, 3, -3, -2], [5, -2, 2, -2], [5, -2, -3, 3]])\n",
        "C.eigenvals()"
      ],
      "metadata": {
        "id": "ii5zIxUTMmQO",
        "outputId": "29befabf-ca6a-4afe-937f-7f7718bf7531",
        "colab": {
          "base_uri": "https://localhost:8080/"
        }
      },
      "id": "ii5zIxUTMmQO",
      "execution_count": 111,
      "outputs": [
        {
          "output_type": "execute_result",
          "data": {
            "text/plain": [
              "{3: 1, -2: 1, 5: 2}"
            ]
          },
          "metadata": {},
          "execution_count": 111
        }
      ]
    },
    {
      "cell_type": "markdown",
      "source": [
        "This returns a dictionary keyed by the eigenvalues (in this case, $3, -2, 5$). The value to each key is the *multiplicity* of each eigenvalue, representing how many times the eigenvalue is duplicated when solving the characteristic equation.\n",
        "\n",
        "From here, we could solve manually for the eigenvectors, or we could just use the method `eigenvects()` to have `sympy` do it for us:"
      ],
      "metadata": {
        "id": "UzJJMW2MNLdC"
      },
      "id": "UzJJMW2MNLdC"
    },
    {
      "cell_type": "code",
      "source": [
        "sol = C.eigenvects()\n",
        "sol"
      ],
      "metadata": {
        "id": "O3sK9QaoMyg0",
        "outputId": "f2d6e86b-b7ad-474c-c403-4251be4a6fbb",
        "colab": {
          "base_uri": "https://localhost:8080/"
        }
      },
      "id": "O3sK9QaoMyg0",
      "execution_count": 113,
      "outputs": [
        {
          "output_type": "execute_result",
          "data": {
            "text/plain": [
              "[(-2,\n",
              "  1,\n",
              "  [Matrix([\n",
              "   [0],\n",
              "   [1],\n",
              "   [1],\n",
              "   [1]])]),\n",
              " (3,\n",
              "  1,\n",
              "  [Matrix([\n",
              "   [1],\n",
              "   [1],\n",
              "   [1],\n",
              "   [1]])]),\n",
              " (5,\n",
              "  2,\n",
              "  [Matrix([\n",
              "   [1],\n",
              "   [1],\n",
              "   [1],\n",
              "   [0]]),\n",
              "   Matrix([\n",
              "   [ 0],\n",
              "   [-1],\n",
              "   [ 0],\n",
              "   [ 1]])])]"
            ]
          },
          "metadata": {},
          "execution_count": 113
        }
      ]
    },
    {
      "cell_type": "markdown",
      "source": [
        "The output might be a little messy, but in general the function prints out a list of tuples with the form `(eigenvalue, multiplicity, eigenvector)`. In this case, we see that $-2$ and $3$ both have one eigenvector each, while $5$ has two distinct eigenvectors.\n",
        "\n",
        "## Solving Systems of Equations\n",
        "\n",
        "We'll end off by looking at some equation solvers in `sympy`. The simplest is `solveset`, which takes in an input expression and outputs the set of all points that satisfies $f(x) = 0$."
      ],
      "metadata": {
        "id": "v22EHvv7Ny3G"
      },
      "id": "v22EHvv7Ny3G"
    },
    {
      "cell_type": "code",
      "source": [
        "sympy.solveset(x**2-x, x) # you can verify this yourself"
      ],
      "metadata": {
        "id": "D9BD8xKHNlO6",
        "outputId": "e49f5deb-bbf1-4320-8aaf-461e41ad15d9",
        "colab": {
          "base_uri": "https://localhost:8080/",
          "height": 37
        }
      },
      "id": "D9BD8xKHNlO6",
      "execution_count": 117,
      "outputs": [
        {
          "output_type": "execute_result",
          "data": {
            "text/plain": [
              "{0, 1}"
            ],
            "text/latex": "$\\displaystyle \\left\\{0, 1\\right\\}$"
          },
          "metadata": {},
          "execution_count": 117
        }
      ]
    },
    {
      "cell_type": "markdown",
      "source": [
        "If a function doesn't have a root, it will return a null $\\emptyset$:"
      ],
      "metadata": {
        "id": "Qg7RnQ7jUVJf"
      },
      "id": "Qg7RnQ7jUVJf"
    },
    {
      "cell_type": "code",
      "source": [
        "sympy.solveset(sympy.exp(x), x) # you can also verify this; exponentials are always positive for all real x"
      ],
      "metadata": {
        "id": "7irdBYTlNv9K",
        "outputId": "d61558c0-a198-497d-fa56-8e2de2890428",
        "colab": {
          "base_uri": "https://localhost:8080/",
          "height": 37
        }
      },
      "id": "7irdBYTlNv9K",
      "execution_count": 119,
      "outputs": [
        {
          "output_type": "execute_result",
          "data": {
            "text/plain": [
              "EmptySet"
            ],
            "text/latex": "$\\displaystyle \\emptyset$"
          },
          "metadata": {},
          "execution_count": 119
        }
      ]
    },
    {
      "cell_type": "markdown",
      "source": [
        "If we input a transcendental function (i.e. a function with no analytic solution), we get back a weird-looking output; this is just the set representation of points that solve $f(x) = 0$."
      ],
      "metadata": {
        "id": "hAEGeAJiUUiM"
      },
      "id": "hAEGeAJiUUiM"
    },
    {
      "cell_type": "code",
      "source": [
        "sympy.solveset(x*sympy.exp(x) - 1, x) # the Lambert W function, which cannot be solved analytically"
      ],
      "metadata": {
        "id": "cC9-B-FJUJxt",
        "outputId": "29ea76dc-720a-4375-e2f9-b0d6d1d3bfef",
        "colab": {
          "base_uri": "https://localhost:8080/",
          "height": 38
        }
      },
      "id": "cC9-B-FJUJxt",
      "execution_count": 120,
      "outputs": [
        {
          "output_type": "execute_result",
          "data": {
            "text/plain": [
              "ConditionSet(x, Eq(x*exp(x) - 1, 0), Complexes)"
            ],
            "text/latex": "$\\displaystyle \\left\\{x\\; \\middle|\\; x \\in \\mathbb{C} \\wedge x e^{x} - 1 = 0 \\right\\}$"
          },
          "metadata": {},
          "execution_count": 120
        }
      ]
    },
    {
      "cell_type": "markdown",
      "source": [
        "If we want to solve a system of linear equations, we can use `sympy.linsolve()`. We pass a list of the equations we wish to solve and a tuple containing the variables we wish to solve for. \n",
        "\n",
        "Remember that we have to cast these as expressions such that the expression equates to zero. As an example, we'll solve the following set:\n",
        "\n",
        "\\begin{align}\n",
        "x + y + z &= 2 \\\\\n",
        "6x - 4y + 5z &= 31 \\\\\n",
        "5x + 2y + 2z &= 13 \\\\\n",
        "\\end{align}"
      ],
      "metadata": {
        "id": "E1My97WFVJ76"
      },
      "id": "E1My97WFVJ76"
    },
    {
      "cell_type": "code",
      "source": [
        "eq1 = x + y + z - 2\n",
        "eq2 = 6*x - 4*y + 5*z - 31\n",
        "eq3 = 5*x + 2*y + 2*z - 13\n",
        "sympy.linsolve([eq1, eq2, eq3], (x, y, z))"
      ],
      "metadata": {
        "id": "XbykRvyUU6V8",
        "outputId": "f6a1bf79-2205-4767-ce04-8ae5182cfe0c",
        "colab": {
          "base_uri": "https://localhost:8080/",
          "height": 37
        }
      },
      "id": "XbykRvyUU6V8",
      "execution_count": 121,
      "outputs": [
        {
          "output_type": "execute_result",
          "data": {
            "text/plain": [
              "{(3, -2, 1)}"
            ],
            "text/latex": "$\\displaystyle \\left\\{\\left( 3, \\  -2, \\  1\\right)\\right\\}$"
          },
          "metadata": {},
          "execution_count": 121
        }
      ]
    },
    {
      "cell_type": "markdown",
      "source": [
        "This again returns a set of tuples of the form $(x, y, z)$. If this system had multiple solutions, they would be displated in this set.\n",
        "\n",
        "You may recall from your math classes that solving for $n$ variables requires $n$ equations. If we don't have enough equations for a singular solution, we'll get back a solution in terms of the variables themselves."
      ],
      "metadata": {
        "id": "KBU9_x9HWQyE"
      },
      "id": "KBU9_x9HWQyE"
    },
    {
      "cell_type": "code",
      "source": [
        "sympy.linsolve([eq1, eq2], (x, y, z))"
      ],
      "metadata": {
        "id": "URJiIr90XGK1",
        "outputId": "76853209-50ca-4078-c3c9-9e731443c9e3",
        "colab": {
          "base_uri": "https://localhost:8080/",
          "height": 58
        }
      },
      "id": "URJiIr90XGK1",
      "execution_count": 122,
      "outputs": [
        {
          "output_type": "execute_result",
          "data": {
            "text/plain": [
              "{(39/10 - 9*z/10, -z/10 - 19/10, z)}"
            ],
            "text/latex": "$\\displaystyle \\left\\{\\left( \\frac{39}{10} - \\frac{9 z}{10}, \\  - \\frac{z}{10} - \\frac{19}{10}, \\  z\\right)\\right\\}$"
          },
          "metadata": {},
          "execution_count": 122
        }
      ]
    },
    {
      "cell_type": "markdown",
      "source": [
        "We can even solve differential equations using `sympy.dsolve()`. To do this, we'll need to make use of a unique symbol type, accessible with the keyword argument `cls=Function`:"
      ],
      "metadata": {
        "id": "YT23zELjWQm5"
      },
      "id": "YT23zELjWQm5"
    },
    {
      "cell_type": "code",
      "source": [
        "f = symbols('f', cls=sympy.Function)\n",
        "f(x)"
      ],
      "metadata": {
        "id": "VglWSZ9kWPhC",
        "outputId": "a8bf375c-1fd1-42cb-e1d2-bcdbaecccedd",
        "colab": {
          "base_uri": "https://localhost:8080/",
          "height": 38
        }
      },
      "id": "VglWSZ9kWPhC",
      "execution_count": 124,
      "outputs": [
        {
          "output_type": "execute_result",
          "data": {
            "text/plain": [
              "f(x)"
            ],
            "text/latex": "$\\displaystyle f{\\left(x \\right)}$"
          },
          "metadata": {},
          "execution_count": 124
        }
      ]
    },
    {
      "cell_type": "markdown",
      "source": [
        "This is an arbitrary function; applying operations to it will result in no simplifications, including taking derivatives:"
      ],
      "metadata": {
        "id": "5FzjthWJYHJP"
      },
      "id": "5FzjthWJYHJP"
    },
    {
      "cell_type": "code",
      "source": [
        "f(x).diff(x)"
      ],
      "metadata": {
        "id": "gmSG_iB5YBEf",
        "outputId": "669961a8-8141-44b7-c5da-c19cf32238e6",
        "colab": {
          "base_uri": "https://localhost:8080/",
          "height": 52
        }
      },
      "id": "gmSG_iB5YBEf",
      "execution_count": 125,
      "outputs": [
        {
          "output_type": "execute_result",
          "data": {
            "text/plain": [
              "Derivative(f(x), x)"
            ],
            "text/latex": "$\\displaystyle \\frac{d}{d x} f{\\left(x \\right)}$"
          },
          "metadata": {},
          "execution_count": 125
        }
      ]
    },
    {
      "cell_type": "markdown",
      "source": [
        "Let's solve for this arbitrary function using the following second-order differential equation:\n",
        "\n",
        "\\begin{equation}\n",
        "\\frac{d^2f(x)}{dx^2} - 2\\frac{df(x)}{dx} + f(x) = \\sin(x)\n",
        "\\end{equation}\n",
        "\n",
        "`dsolve()` takes in an `Equation` object, which we can generate using `sympy.Eq()`. The inputs are the left- and right-hand sides of the desired equation."
      ],
      "metadata": {
        "id": "eBIVsrSWYQ6a"
      },
      "id": "eBIVsrSWYQ6a"
    },
    {
      "cell_type": "code",
      "source": [
        "diffeq = sympy.Eq(f(x).diff(x,x) - 2*f(x).diff(x) + f(x), sin(x))\n",
        "diffeq"
      ],
      "metadata": {
        "id": "6SQU9iMqYQTV",
        "outputId": "93f987b8-2853-40c0-c7ab-b3cf7bb3eb4c",
        "colab": {
          "base_uri": "https://localhost:8080/",
          "height": 54
        }
      },
      "id": "6SQU9iMqYQTV",
      "execution_count": 126,
      "outputs": [
        {
          "output_type": "execute_result",
          "data": {
            "text/plain": [
              "Eq(f(x) - 2*Derivative(f(x), x) + Derivative(f(x), (x, 2)), sin(x))"
            ],
            "text/latex": "$\\displaystyle f{\\left(x \\right)} - 2 \\frac{d}{d x} f{\\left(x \\right)} + \\frac{d^{2}}{d x^{2}} f{\\left(x \\right)} = \\sin{\\left(x \\right)}$"
          },
          "metadata": {},
          "execution_count": 126
        }
      ]
    },
    {
      "cell_type": "markdown",
      "source": [
        "Now, we can just plug this into `dsolve()` along with the function we're trying to evaluate:"
      ],
      "metadata": {
        "id": "kw3dItdGZjvc"
      },
      "id": "kw3dItdGZjvc"
    },
    {
      "cell_type": "code",
      "source": [
        "sympy.dsolve(diffeq, f(x))"
      ],
      "metadata": {
        "id": "qQOBkzo6ZiYR",
        "outputId": "e40cab09-be2e-4cba-a20e-1385f65ac524",
        "colab": {
          "base_uri": "https://localhost:8080/",
          "height": 53
        }
      },
      "id": "qQOBkzo6ZiYR",
      "execution_count": 127,
      "outputs": [
        {
          "output_type": "execute_result",
          "data": {
            "text/plain": [
              "Eq(f(x), (C1 + C2*x)*exp(x) + cos(x)/2)"
            ],
            "text/latex": "$\\displaystyle f{\\left(x \\right)} = \\left(C_{1} + C_{2} x\\right) e^{x} + \\frac{\\cos{\\left(x \\right)}}{2}$"
          },
          "metadata": {},
          "execution_count": 127
        }
      ]
    },
    {
      "cell_type": "markdown",
      "source": [
        "The solution will include constants $C_1, C_2$, etc. to represent the integration constants, which are determined with initial conditions.\n",
        "\n",
        "For more on how to use `sympy`, see the official docs: https://docs.sympy.org/latest/reference/index.html#reference."
      ],
      "metadata": {
        "id": "PPJbh8R1ZwDa"
      },
      "id": "PPJbh8R1ZwDa"
    }
  ],
  "metadata": {
    "kernelspec": {
      "display_name": "Python 3 (ipykernel)",
      "language": "python",
      "name": "python3"
    },
    "language_info": {
      "codemirror_mode": {
        "name": "ipython",
        "version": 3
      },
      "file_extension": ".py",
      "mimetype": "text/x-python",
      "name": "python",
      "nbconvert_exporter": "python",
      "pygments_lexer": "ipython3",
      "version": "3.9.16"
    },
    "colab": {
      "provenance": []
    }
  },
  "nbformat": 4,
  "nbformat_minor": 5
}