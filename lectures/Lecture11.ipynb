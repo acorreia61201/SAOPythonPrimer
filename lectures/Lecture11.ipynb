{
 "cells": [
  {
   "cell_type": "markdown",
   "id": "f3c416d1",
   "metadata": {
    "id": "f3c416d1"
   },
   "source": [
    "# SAO/LIP Python Primer Course Lecture 11\n",
    "\n",
    "In this notebook, you will learn about:\n",
    "- The `sympy` library\n",
    "- Symbolic math in Python\n",
    "\n",
    "[![Open In Colab](https://colab.research.google.com/assets/colab-badge.svg)](https://colab.research.google.com/github/acorreia61201/SAOPythonPrimer/blob/main/lectures/Lecture11.ipynb)\n",
    "\n",
    "A lot of the algorithms we've looked at over this week have solved problems using discrete values. Sometimes it's convenient to do out problems symbolically, such as finding the derivative of a function or solving an equation algebraically. However, some problems are incredibly tedious or even incalculable by hand. We can use a Python library called `sympy` to do symbolic math computationally, similarly to Mathematica or SymboLab.\n",
    "\n",
    "## The `sympy` Library\n",
    "\n",
    "As per usual, we'll install `sympy` using `pip`:"
   ]
  },
  {
   "cell_type": "code",
   "execution_count": null,
   "id": "0eb8cdc3",
   "metadata": {
    "colab": {
     "base_uri": "https://localhost:8080/"
    },
    "id": "0eb8cdc3",
    "outputId": "7b7614d8-dbac-4e4c-e96d-15169039d061"
   },
   "outputs": [],
   "source": [
    "!pip install sympy"
   ]
  },
  {
   "cell_type": "code",
   "execution_count": null,
   "id": "f6883275",
   "metadata": {
    "id": "f6883275"
   },
   "outputs": [],
   "source": [
    "import sympy"
   ]
  },
  {
   "cell_type": "markdown",
   "id": "cc5fc106",
   "metadata": {
    "id": "cc5fc106"
   },
   "source": [
    "Straight out of the box, we can look at one use for symbolic math. Let's say I wanted to calculate $\\sqrt{8}$. By now, this should be trivial:"
   ]
  },
  {
   "cell_type": "code",
   "execution_count": null,
   "id": "hvMFRESo104I",
   "metadata": {
    "colab": {
     "base_uri": "https://localhost:8080/"
    },
    "id": "hvMFRESo104I",
    "outputId": "cc3dbe51-4005-4ae6-e211-851b54f105db"
   },
   "outputs": [],
   "source": [
    "8**0.5"
   ]
  },
  {
   "cell_type": "markdown",
   "id": "V6PJGhpF13aF",
   "metadata": {
    "id": "V6PJGhpF13aF"
   },
   "source": [
    "It's not a square number, so the result is irrational. However, we can analytically simplify this to $\\sqrt{8} = \\sqrt{4 \\cdot 2} = 2\\sqrt{2}$. We'd never be able to see this from the result above unless you manually did out $2\\sqrt{2}$:"
   ]
  },
  {
   "cell_type": "code",
   "execution_count": null,
   "id": "V8XLB53212uR",
   "metadata": {
    "colab": {
     "base_uri": "https://localhost:8080/"
    },
    "id": "V8XLB53212uR",
    "outputId": "7b6847c6-c9dc-42bd-d3c2-e4e466327002"
   },
   "outputs": [],
   "source": [
    "8**0.5 == 2*2**0.5"
   ]
  },
  {
   "cell_type": "markdown",
   "id": "S8Qw7pQq2aFb",
   "metadata": {
    "id": "S8Qw7pQq2aFb"
   },
   "source": [
    "Now, let's see what happens if we use `sympy.sqrt()`:"
   ]
  },
  {
   "cell_type": "code",
   "execution_count": null,
   "id": "mkDbp5MD2ZXV",
   "metadata": {
    "colab": {
     "base_uri": "https://localhost:8080/",
     "height": 38
    },
    "id": "mkDbp5MD2ZXV",
    "outputId": "85995ccf-ff77-463a-ce83-b1b8bc8aba40"
   },
   "outputs": [],
   "source": [
    "root8 = sympy.sqrt(8)\n",
    "root8"
   ]
  },
  {
   "cell_type": "markdown",
   "id": "pbhGbc5y2zui",
   "metadata": {
    "id": "pbhGbc5y2zui"
   },
   "source": [
    "We see now that `sympy` is able to automatically factor and simplify the result down to the analytic form. This is a powerful use of symbolic computation, as it allows us to quickly and easily simplify expressions that would be difficult or tedious to do otherwise:"
   ]
  },
  {
   "cell_type": "code",
   "execution_count": null,
   "id": "RICNYdRd2wbN",
   "metadata": {
    "colab": {
     "base_uri": "https://localhost:8080/",
     "height": 38
    },
    "id": "RICNYdRd2wbN",
    "outputId": "db3b7302-43bb-4ed3-fd44-419e4125c9ce"
   },
   "outputs": [],
   "source": [
    "sympy.sqrt(638901432)"
   ]
  },
  {
   "cell_type": "markdown",
   "id": "8wTeG93fFkS4",
   "metadata": {
    "id": "8wTeG93fFkS4"
   },
   "source": [
    "If you'd prefer, we can also emulate the base Python behavior by using the method `evalf()`, which fully calculates an expression:"
   ]
  },
  {
   "cell_type": "code",
   "execution_count": null,
   "id": "3m-_F6NtFzTQ",
   "metadata": {
    "colab": {
     "base_uri": "https://localhost:8080/",
     "height": 37
    },
    "id": "3m-_F6NtFzTQ",
    "outputId": "da63224f-04fa-48e3-a7a3-809512af2ebd"
   },
   "outputs": [],
   "source": [
    "root8.evalf()"
   ]
  },
  {
   "cell_type": "markdown",
   "id": "-UKftTax3fht",
   "metadata": {
    "id": "-UKftTax3fht"
   },
   "source": [
    "## Symbols\n",
    "\n",
    "We can do much more with `sympy`, mainly involving equations with multiple variables. To do this, we need to create *symbols*. There's a function in `sympy` just for this purpose:"
   ]
  },
  {
   "cell_type": "code",
   "execution_count": null,
   "id": "-kHKRFv54JnB",
   "metadata": {
    "id": "-kHKRFv54JnB"
   },
   "outputs": [],
   "source": [
    "from sympy import symbols"
   ]
  },
  {
   "cell_type": "markdown",
   "id": "K_Al5IFi4MNI",
   "metadata": {
    "id": "K_Al5IFi4MNI"
   },
   "source": [
    "Let's say I wanted to write an equation with the variable $x$. To do so, I have to call its symbol:"
   ]
  },
  {
   "cell_type": "code",
   "execution_count": null,
   "id": "624mYgSu4LhV",
   "metadata": {
    "colab": {
     "base_uri": "https://localhost:8080/",
     "height": 38
    },
    "id": "624mYgSu4LhV",
    "outputId": "d87826e4-beb2-4dd9-c187-5baaab7f48ff"
   },
   "outputs": [],
   "source": [
    "x = symbols('x')\n",
    "x"
   ]
  },
  {
   "cell_type": "markdown",
   "id": "-7Lo9Le64ZGJ",
   "metadata": {
    "id": "-7Lo9Le64ZGJ"
   },
   "source": [
    "The name that we give the symbol doesn't necessarily have to coincide with the symbol itself, but it certainly helps if they do. We can now print any expression we want using this symbol:"
   ]
  },
  {
   "cell_type": "code",
   "execution_count": null,
   "id": "24RcqEAj4XwY",
   "metadata": {
    "colab": {
     "base_uri": "https://localhost:8080/",
     "height": 38
    },
    "id": "24RcqEAj4XwY",
    "outputId": "ffbf112b-1a31-44ec-c872-02228b53254c"
   },
   "outputs": [],
   "source": [
    "expr = x**2 + 2*x - 3\n",
    "expr"
   ]
  },
  {
   "cell_type": "markdown",
   "id": "3A493sjI4vvV",
   "metadata": {
    "id": "3A493sjI4vvV"
   },
   "source": [
    "`sympy` will automatically do basic simplifications for us. For example, say I subtracted $2x$ from `expr`:"
   ]
  },
  {
   "cell_type": "code",
   "execution_count": null,
   "id": "9fTwcgoL4uy2",
   "metadata": {
    "colab": {
     "base_uri": "https://localhost:8080/",
     "height": 38
    },
    "id": "9fTwcgoL4uy2",
    "outputId": "2f34af17-bed1-478b-c012-fcb68eb96b2a"
   },
   "outputs": [],
   "source": [
    "expr -= 2*x\n",
    "expr"
   ]
  },
  {
   "cell_type": "markdown",
   "id": "fPsyzL_T5ANY",
   "metadata": {
    "id": "fPsyzL_T5ANY"
   },
   "source": [
    "`sympy` automatically reduces the equation down by cancelling the $+2x$ and $-2x$ terms. We can add it back just as well:"
   ]
  },
  {
   "cell_type": "code",
   "execution_count": null,
   "id": "QkRtEi8K4_KR",
   "metadata": {
    "colab": {
     "base_uri": "https://localhost:8080/",
     "height": 38
    },
    "id": "QkRtEi8K4_KR",
    "outputId": "abed1463-588e-479d-cf97-004a2e2b0d3a"
   },
   "outputs": [],
   "source": [
    "expr += 2*x\n",
    "expr"
   ]
  },
  {
   "cell_type": "markdown",
   "id": "AH4QzMFJ5VRV",
   "metadata": {
    "id": "AH4QzMFJ5VRV"
   },
   "source": [
    "Let's try multiplying by $x$:"
   ]
  },
  {
   "cell_type": "code",
   "execution_count": null,
   "id": "TgmWxTnV5R3S",
   "metadata": {
    "colab": {
     "base_uri": "https://localhost:8080/",
     "height": 38
    },
    "id": "TgmWxTnV5R3S",
    "outputId": "3d12212c-c8b7-4206-c28f-82fa9b6188e3"
   },
   "outputs": [],
   "source": [
    "expr *= x\n",
    "expr"
   ]
  },
  {
   "cell_type": "markdown",
   "id": "xDz5AyBW5dc6",
   "metadata": {
    "id": "xDz5AyBW5dc6"
   },
   "source": [
    "Weird...why didn't it simplify the expression? It turns out that `sympy` doesn't automatically combine factors. Sometimes we may want the expression to be factored, and sometimes we want it to be expanded. We can use `sympy.expand()` and `sympy.factor()` to control how `sympy` treats this expression."
   ]
  },
  {
   "cell_type": "code",
   "execution_count": null,
   "id": "Tq1HgzAP5cv4",
   "metadata": {
    "colab": {
     "base_uri": "https://localhost:8080/",
     "height": 38
    },
    "id": "Tq1HgzAP5cv4",
    "outputId": "f525aef3-4d09-46d9-90cb-99166985e430"
   },
   "outputs": [],
   "source": [
    "sympy.expand(expr)"
   ]
  },
  {
   "cell_type": "code",
   "execution_count": null,
   "id": "zojCpzF858y7",
   "metadata": {
    "colab": {
     "base_uri": "https://localhost:8080/",
     "height": 38
    },
    "id": "zojCpzF858y7",
    "outputId": "a8ba3166-4d31-4b45-d4b9-c1aabc61f3ff"
   },
   "outputs": [],
   "source": [
    "sympy.factor(expr)"
   ]
  },
  {
   "cell_type": "markdown",
   "id": "kodjhYyi7CGJ",
   "metadata": {
    "id": "kodjhYyi7CGJ"
   },
   "source": [
    "Let's say I wanted to substitute in a value for $x$. We can do this using the `subs()` method on our expression, with the inputs being the variable to replace and the value we're substituting. Let's try to evaluate the expression below at $x=2$:"
   ]
  },
  {
   "cell_type": "code",
   "execution_count": null,
   "id": "d__jC4BW5-4M",
   "metadata": {
    "colab": {
     "base_uri": "https://localhost:8080/",
     "height": 37
    },
    "id": "d__jC4BW5-4M",
    "outputId": "88860969-0cee-49e3-aa6b-a80a2bb0a81a"
   },
   "outputs": [],
   "source": [
    "expr.subs(x, 2)"
   ]
  },
  {
   "cell_type": "markdown",
   "id": "xTV1R2W_8iQe",
   "metadata": {
    "id": "xTV1R2W_8iQe"
   },
   "source": [
    "### Multivariate Expressions\n",
    "\n",
    "Many expressions we may want to simplify or evaluate will have multiple variables. We can use `sympy.symbols()` to call multiple variables at a time. We can do this as follows:"
   ]
  },
  {
   "cell_type": "code",
   "execution_count": null,
   "id": "mhF7654j8TSG",
   "metadata": {
    "colab": {
     "base_uri": "https://localhost:8080/",
     "height": 38
    },
    "id": "mhF7654j8TSG",
    "outputId": "b39cd2a6-8335-4cdc-ba78-8b38b0c4ed14"
   },
   "outputs": [],
   "source": [
    "x, y, z = symbols('x y z')\n",
    "x + y + z"
   ]
  },
  {
   "cell_type": "markdown",
   "id": "uHvtrxG19I_1",
   "metadata": {
    "id": "uHvtrxG19I_1"
   },
   "source": [
    "The input to `symbols` is one string containing space-separated characters. This is an important distinction, since we can define symbols with multiple characters:"
   ]
  },
  {
   "cell_type": "code",
   "execution_count": null,
   "id": "vujmJ-Va9H2c",
   "metadata": {
    "colab": {
     "base_uri": "https://localhost:8080/",
     "height": 38
    },
    "id": "vujmJ-Va9H2c",
    "outputId": "5cac17e9-fffd-42b5-b8be-9922f1df37d1"
   },
   "outputs": [],
   "source": [
    "word1, word2 = symbols('an example')\n",
    "word1 + word2"
   ]
  },
  {
   "cell_type": "markdown",
   "id": "AsEyqLF8bi0U",
   "metadata": {
    "id": "AsEyqLF8bi0U"
   },
   "source": [
    "There are some restrictions on what words you can use, however. Latin character names are reserved to represent the characters themselves:"
   ]
  },
  {
   "cell_type": "code",
   "execution_count": null,
   "id": "iA1ilC7UbjnM",
   "metadata": {
    "colab": {
     "base_uri": "https://localhost:8080/",
     "height": 38
    },
    "id": "iA1ilC7UbjnM",
    "outputId": "47f243c2-5aec-49b1-8047-c3d5554c2b64"
   },
   "outputs": [],
   "source": [
    "pi = symbols('pi')\n",
    "pi"
   ]
  },
  {
   "cell_type": "markdown",
   "id": "Wz5FyEBwb0a9",
   "metadata": {
    "id": "Wz5FyEBwb0a9"
   },
   "source": [
    "To call a symbol with a subscript, we can add a number after the symbol in the string:"
   ]
  },
  {
   "cell_type": "code",
   "execution_count": null,
   "id": "jSu7vNShbzY2",
   "metadata": {
    "colab": {
     "base_uri": "https://localhost:8080/",
     "height": 38
    },
    "id": "jSu7vNShbzY2",
    "outputId": "871c21f2-424b-4a92-c856-10b72fd3d2f3"
   },
   "outputs": [],
   "source": [
    "x0 = symbols('x0')\n",
    "x0"
   ]
  },
  {
   "cell_type": "markdown",
   "id": "MoPxw4zIbzLh",
   "metadata": {
    "id": "MoPxw4zIbzLh"
   },
   "source": [
    "We can call multiple subscripted variables using a slice as below:"
   ]
  },
  {
   "cell_type": "code",
   "execution_count": null,
   "id": "9zAw8dPOcQc7",
   "metadata": {
    "colab": {
     "base_uri": "https://localhost:8080/",
     "height": 38
    },
    "id": "9zAw8dPOcQc7",
    "outputId": "92ba3e17-e273-4ad0-daf0-f94355a4d83e"
   },
   "outputs": [],
   "source": [
    "x0, x1, x2, x3, x4 = symbols('x:5') # generate x_i for i in range(0, 5)\n",
    "x0 + x1 + x2 + x3 + x4"
   ]
  },
  {
   "cell_type": "code",
   "execution_count": null,
   "id": "89ilcPiocm5y",
   "metadata": {
    "colab": {
     "base_uri": "https://localhost:8080/",
     "height": 38
    },
    "id": "89ilcPiocm5y",
    "outputId": "4641c5f8-d351-44a3-be85-3ce7d4d2adb7"
   },
   "outputs": [],
   "source": [
    "y1, y2, y3 = symbols('y1:4') # generate y_i for i in range(1, 4)\n",
    "y1 + y2 + y3"
   ]
  },
  {
   "cell_type": "markdown",
   "id": "lWqUkU-gQZvB",
   "metadata": {
    "id": "lWqUkU-gQZvB"
   },
   "source": [
    "An important note to make here regards setting restrictions on our variables. Some mathematical identities are only valid if the values hold certain properties, e.g. they're real, they're positive, they're integers, etc. `sympy` takes this into account, and it won't simplify or expand functions with variables that don't meet the requirements.\n",
    "\n",
    "To control this behavior, `symbols` has a series of keyword arguments that allow you to constrain the possible values that variables can take. For example, say I wanted a variable that is always positive:"
   ]
  },
  {
   "cell_type": "code",
   "execution_count": null,
   "id": "USTKmlwqSAhQ",
   "metadata": {
    "id": "USTKmlwqSAhQ"
   },
   "outputs": [],
   "source": [
    "a = symbols('a', positive=True)"
   ]
  },
  {
   "cell_type": "markdown",
   "id": "fjEB2J1NSBAP",
   "metadata": {
    "id": "fjEB2J1NSBAP"
   },
   "source": [
    "Or let's say I wanted a variable that is always real:"
   ]
  },
  {
   "cell_type": "code",
   "execution_count": null,
   "id": "Z0K7sE9RSByi",
   "metadata": {
    "id": "Z0K7sE9RSByi"
   },
   "outputs": [],
   "source": [
    "r = symbols('r', real=True)"
   ]
  },
  {
   "cell_type": "markdown",
   "id": "pEX2ibUDEQ7U",
   "metadata": {
    "id": "pEX2ibUDEQ7U"
   },
   "source": [
    "Using this is of greater importance when we're using operations like square roots or logarithms that have constraints on their inputs.\n",
    "\n",
    "Once we define multiple symbols, we can use them just as we would single symbols:"
   ]
  },
  {
   "cell_type": "code",
   "execution_count": null,
   "id": "qow1rjrODwnm",
   "metadata": {
    "colab": {
     "base_uri": "https://localhost:8080/",
     "height": 39
    },
    "id": "qow1rjrODwnm",
    "outputId": "7174de53-d1a8-44fa-cbeb-2da68316aa1c"
   },
   "outputs": [],
   "source": [
    "dist = sympy.sqrt(x**2 + y**2 + z**2)\n",
    "dist"
   ]
  },
  {
   "cell_type": "markdown",
   "id": "WCLWUA-JEh3q",
   "metadata": {
    "id": "WCLWUA-JEh3q"
   },
   "source": [
    "If we want to substitute in multiple values at a time with `subs`, we must pass a list of tuples with the form `(variable, value)`:"
   ]
  },
  {
   "cell_type": "code",
   "execution_count": null,
   "id": "xlWGM3tOEd9N",
   "metadata": {
    "colab": {
     "base_uri": "https://localhost:8080/",
     "height": 38
    },
    "id": "xlWGM3tOEd9N",
    "outputId": "39373b83-d5dd-4656-8fcc-0b37e9837d2e"
   },
   "outputs": [],
   "source": [
    "dist.subs([(x, 2), (y, 5), (z, -1)])"
   ]
  },
  {
   "cell_type": "markdown",
   "id": "Onxez7rRJOtZ",
   "metadata": {
    "id": "Onxez7rRJOtZ"
   },
   "source": [
    "If we wanted to exactly evaluate the expression, we could pass the above code to `evalf`. A more numerically stable solution would be to use the `subs` keyword argument for `evalf`, which takes in a dictionary of the form `{variable: value}`:"
   ]
  },
  {
   "cell_type": "code",
   "execution_count": null,
   "id": "LXJsB1vEJj3d",
   "metadata": {
    "colab": {
     "base_uri": "https://localhost:8080/",
     "height": 37
    },
    "id": "LXJsB1vEJj3d",
    "outputId": "be01c418-1af5-48f8-e6f8-f8e95302eaa1"
   },
   "outputs": [],
   "source": [
    "dist.evalf(subs={x: 2, y: 5, z: -1})"
   ]
  },
  {
   "cell_type": "markdown",
   "id": "0EVLjdXMExaz",
   "metadata": {
    "id": "0EVLjdXMExaz"
   },
   "source": [
    "We can also use `subs()` to replace symbols or expressions. For example, let's replace all instances of $x$ in `dist` with $y^2$:"
   ]
  },
  {
   "cell_type": "code",
   "execution_count": null,
   "id": "iqLS8pINEuHs",
   "metadata": {
    "colab": {
     "base_uri": "https://localhost:8080/",
     "height": 39
    },
    "id": "iqLS8pINEuHs",
    "outputId": "32e10ae8-ef76-4faa-eda4-6eb72917b127"
   },
   "outputs": [],
   "source": [
    "dist.subs(x, y**2)"
   ]
  },
  {
   "cell_type": "markdown",
   "id": "7M6MYesSKANC",
   "metadata": {
    "id": "7M6MYesSKANC"
   },
   "source": [
    "## Simplification\n",
    "\n",
    "Let's go a little more into how we can simplify expressions with `sympy`. We've already discussed `factor()` and `expand()`, which we've seen can be used to factor and distribute polynomial expressions. There's also a general function `simplify()` that will simplify any expression. Let's do some examples with the trig functions available via `sympy`:"
   ]
  },
  {
   "cell_type": "code",
   "execution_count": null,
   "id": "69ZZyAcDFWx_",
   "metadata": {
    "id": "69ZZyAcDFWx_"
   },
   "outputs": [],
   "source": [
    "from sympy import sin, cos"
   ]
  },
  {
   "cell_type": "code",
   "execution_count": null,
   "id": "sdVhuOdcLNxj",
   "metadata": {
    "colab": {
     "base_uri": "https://localhost:8080/",
     "height": 37
    },
    "id": "sdVhuOdcLNxj",
    "outputId": "169d14d4-fc60-4a94-c7b3-4296e8167da4"
   },
   "outputs": [],
   "source": [
    "sympy.simplify(sin(x)**2 + cos(x)**2)"
   ]
  },
  {
   "cell_type": "code",
   "execution_count": null,
   "id": "mw0_1VcXLShR",
   "metadata": {
    "colab": {
     "base_uri": "https://localhost:8080/",
     "height": 38
    },
    "id": "mw0_1VcXLShR",
    "outputId": "bdffa8ae-f829-4919-a881-87eec5a12538"
   },
   "outputs": [],
   "source": [
    "sympy.simplify(sin(x)/cos(x))"
   ]
  },
  {
   "cell_type": "code",
   "execution_count": null,
   "id": "amn92Q0ULXlD",
   "metadata": {
    "colab": {
     "base_uri": "https://localhost:8080/",
     "height": 38
    },
    "id": "amn92Q0ULXlD",
    "outputId": "2309246f-0aa6-4bf1-81c7-a688becfdc9d"
   },
   "outputs": [],
   "source": [
    "sympy.simplify(2*sin(x)*cos(x))"
   ]
  },
  {
   "cell_type": "markdown",
   "id": "S8zvhxDmLexL",
   "metadata": {
    "id": "S8zvhxDmLexL"
   },
   "source": [
    "This function has some pitfalls, though. For one, it's comparatively slow compared to the other methods available, since it will try every method and look for the \"best\" one. Also, there's some ambiguity to what the \"simplest\" form of an expression is. Let's try to factor a perfect square quadratic (i.e. a quadratic whose factors are identical):"
   ]
  },
  {
   "cell_type": "code",
   "execution_count": null,
   "id": "ECOq-MXWLd5n",
   "metadata": {
    "colab": {
     "base_uri": "https://localhost:8080/",
     "height": 38
    },
    "id": "ECOq-MXWLd5n",
    "outputId": "688e31eb-6877-42d7-bf30-2302c6e970ae"
   },
   "outputs": [],
   "source": [
    "sympy.simplify(x**2 + 2*x + 1)"
   ]
  },
  {
   "cell_type": "markdown",
   "id": "G1HR9eI7L6Wp",
   "metadata": {
    "id": "G1HR9eI7L6Wp"
   },
   "source": [
    "As we can see, `simplify` doesn't do anything. If we want to factor the expression, we're forced to use `factor`:"
   ]
  },
  {
   "cell_type": "code",
   "execution_count": null,
   "id": "jUsb0b7-L5YK",
   "metadata": {
    "colab": {
     "base_uri": "https://localhost:8080/",
     "height": 39
    },
    "id": "jUsb0b7-L5YK",
    "outputId": "62b047a3-20bc-4beb-f9b1-6ebad827a8e1"
   },
   "outputs": [],
   "source": [
    "sympy.factor(x**2 + 2*x + 1)"
   ]
  },
  {
   "cell_type": "markdown",
   "id": "zT6Tyl-IMEmH",
   "metadata": {
    "id": "zT6Tyl-IMEmH"
   },
   "source": [
    "When using `sympy`, it's therefore important to have a general idea of what sorts of simplification you want to do. If you have no idea, `simplify` can be used as an interactive starting point to see what you get before using specialized functions like `factor` and `expand`.\n",
    "\n",
    "Let's look at some more simplification functions. Recall that `sympy` will automatically combine terms with numerical coefficients:"
   ]
  },
  {
   "cell_type": "code",
   "execution_count": null,
   "id": "zOxPG8YsMD9A",
   "metadata": {
    "colab": {
     "base_uri": "https://localhost:8080/",
     "height": 38
    },
    "id": "zOxPG8YsMD9A",
    "outputId": "53d9254a-2154-44a2-8612-7935eac2be02"
   },
   "outputs": [],
   "source": [
    "x**2 + 4*x + 3 + 5*x - 3*x**2 - 5"
   ]
  },
  {
   "cell_type": "markdown",
   "id": "ohIn02T6M1L1",
   "metadata": {
    "id": "ohIn02T6M1L1"
   },
   "source": [
    "But what if we have a multivariable expression?"
   ]
  },
  {
   "cell_type": "code",
   "execution_count": null,
   "id": "Fjd6HpUGM0ML",
   "metadata": {
    "colab": {
     "base_uri": "https://localhost:8080/",
     "height": 38
    },
    "id": "Fjd6HpUGM0ML",
    "outputId": "2d14b8db-3f1d-4eaa-b6d8-950e3a509d10"
   },
   "outputs": [],
   "source": [
    "expr = x**2 + x*y + 3*z + 5*x*z - 3*x*y*z - 5*x**2 + 3*y\n",
    "expr"
   ]
  },
  {
   "cell_type": "markdown",
   "id": "IQogIaqeNFyf",
   "metadata": {
    "id": "IQogIaqeNFyf"
   },
   "source": [
    "If we wanted to combine all of the terms that contained $x$, for example, we can use `collect()`, inputting the expression and the desired variable to combine:"
   ]
  },
  {
   "cell_type": "code",
   "execution_count": null,
   "id": "Kua2jf8kNEmc",
   "metadata": {
    "colab": {
     "base_uri": "https://localhost:8080/",
     "height": 38
    },
    "id": "Kua2jf8kNEmc",
    "outputId": "061f5f92-5381-420f-aacd-b8f716fbf495"
   },
   "outputs": [],
   "source": [
    "expr_x = sympy.collect(expr, x)\n",
    "expr_x"
   ]
  },
  {
   "cell_type": "markdown",
   "id": "eDAe00YfNlD6",
   "metadata": {
    "id": "eDAe00YfNlD6"
   },
   "source": [
    "If we want to see the coefficients to a specific power of a variable, we can use the method `coeff()` which takes in the desired variable and power as arguments. For example, let's see the coefficient for $x$:"
   ]
  },
  {
   "cell_type": "code",
   "execution_count": null,
   "id": "veCC0huuNa79",
   "metadata": {
    "colab": {
     "base_uri": "https://localhost:8080/",
     "height": 38
    },
    "id": "veCC0huuNa79",
    "outputId": "77384b42-264b-4dc4-a09d-78e2a187c3a5"
   },
   "outputs": [],
   "source": [
    "expr_x.coeff(x, 1)"
   ]
  },
  {
   "cell_type": "markdown",
   "id": "YXdp5SisN6jL",
   "metadata": {
    "id": "YXdp5SisN6jL"
   },
   "source": [
    "The function `cancel()` will reduce a rational function down to the *canonical form*, expressed as the quotient of two polynomials with integer leading coefficients:"
   ]
  },
  {
   "cell_type": "code",
   "execution_count": null,
   "id": "0yOlnBoTN5DX",
   "metadata": {
    "colab": {
     "base_uri": "https://localhost:8080/",
     "height": 57
    },
    "id": "0yOlnBoTN5DX",
    "outputId": "d10a3a0b-ac25-4a54-a068-39008e62ccc5"
   },
   "outputs": [],
   "source": [
    "expr = 1/x + (3*x/2 - 2)/(x - 4)\n",
    "expr"
   ]
  },
  {
   "cell_type": "code",
   "execution_count": null,
   "id": "0moouz5DOXKM",
   "metadata": {
    "colab": {
     "base_uri": "https://localhost:8080/",
     "height": 55
    },
    "id": "0moouz5DOXKM",
    "outputId": "abf8569c-83c8-4208-bd2b-29a0ed8b44a6"
   },
   "outputs": [],
   "source": [
    "expr_can = sympy.cancel(expr)\n",
    "expr_can"
   ]
  },
  {
   "cell_type": "markdown",
   "id": "1QvbZ7FDOg8-",
   "metadata": {
    "id": "1QvbZ7FDOg8-"
   },
   "source": [
    "By default, this leaves the numerator and denominator in their fully expanded forms. We can, of course, use `factor` to simplify this further:"
   ]
  },
  {
   "cell_type": "code",
   "execution_count": null,
   "id": "wmmLHZkZObR8",
   "metadata": {
    "colab": {
     "base_uri": "https://localhost:8080/",
     "height": 57
    },
    "id": "wmmLHZkZObR8",
    "outputId": "ffcb3e2c-5a31-46ef-f82c-d706dc7194e4"
   },
   "outputs": [],
   "source": [
    "sympy.factor(expr_can)"
   ]
  },
  {
   "cell_type": "markdown",
   "id": "QKHjecBAOx2L",
   "metadata": {
    "id": "QKHjecBAOx2L"
   },
   "source": [
    "The inverse of this is `apart()`, which decomposes a rational function into a sum of multiple fracations:"
   ]
  },
  {
   "cell_type": "code",
   "execution_count": null,
   "id": "KhEZou6SOt4l",
   "metadata": {
    "colab": {
     "base_uri": "https://localhost:8080/",
     "height": 52
    },
    "id": "KhEZou6SOt4l",
    "outputId": "c6346ff3-db92-4fbc-a511-ed812db803dc"
   },
   "outputs": [],
   "source": [
    "sympy.apart(expr_can)"
   ]
  },
  {
   "cell_type": "markdown",
   "id": "3FmsG55iPXhP",
   "metadata": {
    "id": "3FmsG55iPXhP"
   },
   "source": [
    "For trigonometric expressions, there are two simplification functions, `trigsimp()` and `expand_trig()`. They do as you might expect: the former simplifies trig expressions, while the latter expands them:"
   ]
  },
  {
   "cell_type": "code",
   "execution_count": null,
   "id": "eZWk4DjrPFBs",
   "metadata": {
    "colab": {
     "base_uri": "https://localhost:8080/",
     "height": 37
    },
    "id": "eZWk4DjrPFBs",
    "outputId": "272176bd-8daa-472d-83ba-c4288e659c31"
   },
   "outputs": [],
   "source": [
    "sympy.trigsimp(sin(x)**2 + cos(x)**2)"
   ]
  },
  {
   "cell_type": "code",
   "execution_count": null,
   "id": "NW2Am4zoPnTP",
   "metadata": {
    "colab": {
     "base_uri": "https://localhost:8080/",
     "height": 38
    },
    "id": "NW2Am4zoPnTP",
    "outputId": "e2f2efe9-43ed-4f2c-ec23-194d82aa257e"
   },
   "outputs": [],
   "source": [
    "from sympy import tan, sec\n",
    "sympy.trigsimp(sin(x)*tan(x)/sec(x))"
   ]
  },
  {
   "cell_type": "code",
   "execution_count": null,
   "id": "vE_4LwmKPuXO",
   "metadata": {
    "colab": {
     "base_uri": "https://localhost:8080/",
     "height": 38
    },
    "id": "vE_4LwmKPuXO",
    "outputId": "87d46d4b-121f-4083-bf2f-da7113cca977"
   },
   "outputs": [],
   "source": [
    "sympy.expand_trig(sin(x+y))"
   ]
  },
  {
   "cell_type": "code",
   "execution_count": null,
   "id": "cniAkphoPz-t",
   "metadata": {
    "colab": {
     "base_uri": "https://localhost:8080/",
     "height": 38
    },
    "id": "cniAkphoPz-t",
    "outputId": "9900b108-0f35-4cf9-fca6-84830dcee06a"
   },
   "outputs": [],
   "source": [
    "sympy.expand_trig(sin(2*x))"
   ]
  },
  {
   "cell_type": "markdown",
   "id": "doqxcllcQWLt",
   "metadata": {
    "id": "doqxcllcQWLt"
   },
   "source": [
    "There are three functions that can be used to combine or expand exponents. `powsimp()` simplifies an expression, combining the bases and powers of an expression using $x^a*y^a = (xy)^a$ and $x^ax^b = x^{a+b}$."
   ]
  },
  {
   "cell_type": "code",
   "execution_count": null,
   "id": "Aw0_AUADP7RA",
   "metadata": {
    "colab": {
     "base_uri": "https://localhost:8080/",
     "height": 38
    },
    "id": "Aw0_AUADP7RA",
    "outputId": "80eeda3f-df76-466f-ffa5-cfd94962e411"
   },
   "outputs": [],
   "source": [
    "a, b = symbols('a b')\n",
    "x, y = symbols('x y')\n",
    "sympy.powsimp(x**a*x**b)"
   ]
  },
  {
   "cell_type": "markdown",
   "id": "I2-QeE1MViQW",
   "metadata": {
    "id": "I2-QeE1MViQW"
   },
   "source": [
    "Here, it's important to consider the values that our variables can take. By default, `sympy` variables are assumed to be *complex* (i.e. they have real and imaginary components). However, the identity $x^a*y^a = (xy)^a$ requires that $x$ and $y$ are positive and $a$ is real (i.e. generally $\\sqrt{x}\\sqrt{y} \\neq \\sqrt{xy}$). Therefore, with general variables, `powsimp` won't do anything:"
   ]
  },
  {
   "cell_type": "code",
   "execution_count": null,
   "id": "LL4YKDSWVg80",
   "metadata": {
    "colab": {
     "base_uri": "https://localhost:8080/",
     "height": 38
    },
    "id": "LL4YKDSWVg80",
    "outputId": "f0ec32f6-d1af-43da-9517-8d7ebc7f6ea8"
   },
   "outputs": [],
   "source": [
    "sympy.powsimp(x**a*y**a)"
   ]
  },
  {
   "cell_type": "markdown",
   "id": "BjcOMRlzWCsW",
   "metadata": {
    "id": "BjcOMRlzWCsW"
   },
   "source": [
    "We need to use the keywords described earlier to use this function properly:"
   ]
  },
  {
   "cell_type": "code",
   "execution_count": null,
   "id": "Wxm5IPyHWB4l",
   "metadata": {
    "colab": {
     "base_uri": "https://localhost:8080/",
     "height": 38
    },
    "id": "Wxm5IPyHWB4l",
    "outputId": "db81dc4d-a3e9-4e9b-e90f-def1f919c5a4"
   },
   "outputs": [],
   "source": [
    "x, y = symbols('x y', positive=True)\n",
    "a, b = symbols('a b', real=True)\n",
    "sympy.powsimp(x**a*y**a)"
   ]
  },
  {
   "cell_type": "markdown",
   "id": "M3BdX8vVWbZw",
   "metadata": {
    "id": "M3BdX8vVWbZw"
   },
   "source": [
    "The inverses of `powsimp` are `expand_power_exp` and `expand_power_base`, which respectively expand functions by breaking apart the exponents or breaking apart the bases."
   ]
  },
  {
   "cell_type": "code",
   "execution_count": null,
   "id": "f_NLwGJfWSly",
   "metadata": {
    "colab": {
     "base_uri": "https://localhost:8080/",
     "height": 40
    },
    "id": "f_NLwGJfWSly",
    "outputId": "d7b206d2-fb40-4896-bf0f-e7bad29ffc41"
   },
   "outputs": [],
   "source": [
    "example = (x*y)**(a + b)\n",
    "example"
   ]
  },
  {
   "cell_type": "code",
   "execution_count": null,
   "id": "963le0F4Wxb1",
   "metadata": {
    "colab": {
     "base_uri": "https://localhost:8080/",
     "height": 40
    },
    "id": "963le0F4Wxb1",
    "outputId": "611642bd-6f99-4823-f4c4-3d97262e9c5d"
   },
   "outputs": [],
   "source": [
    "sympy.expand_power_exp(example)"
   ]
  },
  {
   "cell_type": "code",
   "execution_count": null,
   "id": "e2bDr36dW2Ct",
   "metadata": {
    "colab": {
     "base_uri": "https://localhost:8080/",
     "height": 38
    },
    "id": "e2bDr36dW2Ct",
    "outputId": "b2326867-8903-4b9f-c5a9-0dac93a59086"
   },
   "outputs": [],
   "source": [
    "sympy.expand_power_base(example)"
   ]
  },
  {
   "cell_type": "markdown",
   "id": "vTSfdFyiW7du",
   "metadata": {
    "id": "vTSfdFyiW7du"
   },
   "source": [
    "There's also a function `powdenest()`, which uses the identity $(x^a)^b = x^{ab}$ to simplify nested exponents. This identity requires that $b$ is an integer, however (i.e. generally $\\sqrt{x^2} \\neq x$)."
   ]
  },
  {
   "cell_type": "code",
   "execution_count": null,
   "id": "iZ89xM_uW4EU",
   "metadata": {
    "colab": {
     "base_uri": "https://localhost:8080/",
     "height": 38
    },
    "id": "iZ89xM_uW4EU",
    "outputId": "4b3444af-1570-4f1a-c6dd-92523312bf8d"
   },
   "outputs": [],
   "source": [
    "sympy.powdenest((x**a)**b)"
   ]
  },
  {
   "cell_type": "markdown",
   "id": "7oMca4-gYmAU",
   "metadata": {
    "id": "7oMca4-gYmAU"
   },
   "source": [
    "Keep in mind that all of these simplifications are done automatically if the exponents or bases are combinations of numbers:"
   ]
  },
  {
   "cell_type": "code",
   "execution_count": null,
   "id": "WYC2Pw2fX2_p",
   "metadata": {
    "colab": {
     "base_uri": "https://localhost:8080/",
     "height": 38
    },
    "id": "WYC2Pw2fX2_p",
    "outputId": "e7465351-bead-4b7f-e62b-ab5469c11d59"
   },
   "outputs": [],
   "source": [
    "x**2*x**3"
   ]
  },
  {
   "cell_type": "code",
   "execution_count": null,
   "id": "ut_5uJJkYsiC",
   "metadata": {
    "colab": {
     "base_uri": "https://localhost:8080/",
     "height": 37
    },
    "id": "ut_5uJJkYsiC",
    "outputId": "553b65dc-d509-4f52-fccf-6b924538b7ea"
   },
   "outputs": [],
   "source": [
    "2**a*5**a"
   ]
  },
  {
   "cell_type": "markdown",
   "id": "R2GLuL2aYxjP",
   "metadata": {
    "id": "R2GLuL2aYxjP"
   },
   "source": [
    "There are two functions for simnplifying logarithmic functions. Both utilize the identities $\\log(xy) = \\log(x) + \\log(y)$ and $\\log(x^a) = a\\log(x)$. However, they again have the restriction that $x,y$ are positive and $a$ is real. \n",
    "\n",
    "The function `expand_log()` uses the above identities to expand logs as much as possible:"
   ]
  },
  {
   "cell_type": "code",
   "execution_count": null,
   "id": "v2Wk6c1ZZc4g",
   "metadata": {
    "colab": {
     "base_uri": "https://localhost:8080/",
     "height": 38
    },
    "id": "v2Wk6c1ZZc4g",
    "outputId": "1241b4a2-2433-4b69-8e29-e70e721c256b"
   },
   "outputs": [],
   "source": [
    "from sympy import log\n",
    "sympy.expand_log(log(x*y))"
   ]
  },
  {
   "cell_type": "code",
   "execution_count": null,
   "id": "IW6Vvyd4Zhh3",
   "metadata": {
    "colab": {
     "base_uri": "https://localhost:8080/",
     "height": 38
    },
    "id": "IW6Vvyd4Zhh3",
    "outputId": "73805d1f-8751-4602-dbb4-61f3454df5dc"
   },
   "outputs": [],
   "source": [
    "sympy.expand_log(log(x/y))"
   ]
  },
  {
   "cell_type": "code",
   "execution_count": null,
   "id": "jTVnndwbZj_s",
   "metadata": {
    "colab": {
     "base_uri": "https://localhost:8080/",
     "height": 38
    },
    "id": "jTVnndwbZj_s",
    "outputId": "c5e20119-6bc2-42de-84de-3635e392ff04"
   },
   "outputs": [],
   "source": [
    "sympy.expand_log(log(x**a))"
   ]
  },
  {
   "cell_type": "markdown",
   "id": "lXGCzp9YZqv1",
   "metadata": {
    "id": "lXGCzp9YZqv1"
   },
   "source": [
    "The function `logcombine()` does just the opposite: it uses the log rules to compress a logarithmic function as much as possible:"
   ]
  },
  {
   "cell_type": "code",
   "execution_count": null,
   "id": "cRGq2vU-Z2NL",
   "metadata": {
    "colab": {
     "base_uri": "https://localhost:8080/",
     "height": 38
    },
    "id": "cRGq2vU-Z2NL",
    "outputId": "517a541f-ef14-4075-f107-bb69396d10a8"
   },
   "outputs": [],
   "source": [
    "sympy.logcombine(a*log(x)-b*log(y))"
   ]
  },
  {
   "cell_type": "markdown",
   "id": "1WCwm3ACaAhp",
   "metadata": {
    "id": "1WCwm3ACaAhp"
   },
   "source": [
    "## Symbolic Calculus\n",
    "\n",
    "Another powerful use of `sympy` is to get analytic solutions to common calculus problems. For example, we can use `sympy` to find the *derivative* of a function, which describes the instantaneous rate of change at each point in the function. All we need to do this is the `diff()` function, in which we pass the function to differentiate and the variable of differentiation."
   ]
  },
  {
   "cell_type": "code",
   "execution_count": null,
   "id": "BZbfectcZ9Wz",
   "metadata": {
    "colab": {
     "base_uri": "https://localhost:8080/",
     "height": 38
    },
    "id": "BZbfectcZ9Wz",
    "outputId": "f0336d20-8653-40c3-8d9a-c2f2273ff7d7"
   },
   "outputs": [],
   "source": [
    "x, y, z = symbols('x y z', real=True)\n",
    "sympy.diff(cos(x), x)"
   ]
  },
  {
   "cell_type": "code",
   "execution_count": null,
   "id": "lDWqxucd8fyh",
   "metadata": {
    "colab": {
     "base_uri": "https://localhost:8080/",
     "height": 38
    },
    "id": "lDWqxucd8fyh",
    "outputId": "db0f8076-e9bc-4b32-df2f-6a9c0f02999b"
   },
   "outputs": [],
   "source": [
    "sympy.diff(5*x**3 + x**2 - 3*x + 4, x)"
   ]
  },
  {
   "cell_type": "markdown",
   "id": "G0HQJ25s8uUa",
   "metadata": {
    "id": "G0HQJ25s8uUa"
   },
   "source": [
    "`diff()` utilizes *partial differentiation*, meaning that it only differentiates one variable at a time and treats all other variables as constants."
   ]
  },
  {
   "cell_type": "code",
   "execution_count": null,
   "id": "UlDZYaIh79Cp",
   "metadata": {
    "colab": {
     "base_uri": "https://localhost:8080/",
     "height": 38
    },
    "id": "UlDZYaIh79Cp",
    "outputId": "ff26a581-0b67-4614-f666-e0944f6829d3"
   },
   "outputs": [],
   "source": [
    "bivar = x**2 + x*y + y**2\n",
    "sympy.diff(bivar, x) # differentiate with respect to x"
   ]
  },
  {
   "cell_type": "code",
   "execution_count": null,
   "id": "1LqOP6Fm8d-s",
   "metadata": {
    "colab": {
     "base_uri": "https://localhost:8080/",
     "height": 38
    },
    "id": "1LqOP6Fm8d-s",
    "outputId": "97f761d4-f4dd-40c5-8653-4b8e8eeef549"
   },
   "outputs": [],
   "source": [
    "sympy.diff(bivar, y) # diff wrt y"
   ]
  },
  {
   "cell_type": "markdown",
   "id": "vch_kXMe9Pmz",
   "metadata": {
    "id": "vch_kXMe9Pmz"
   },
   "source": [
    "If we wanted to differentiate with respect to multiple variables in a row, we can pass as many additional arguments as we'd like. Calculus states that the order of partial differentiation doesn't matter:"
   ]
  },
  {
   "cell_type": "code",
   "execution_count": null,
   "id": "CWIehbGS9OdI",
   "metadata": {
    "colab": {
     "base_uri": "https://localhost:8080/",
     "height": 37
    },
    "id": "CWIehbGS9OdI",
    "outputId": "2de72037-466a-4ee4-95b7-39affefb7734"
   },
   "outputs": [],
   "source": [
    "sympy.diff(bivar, x, y) # diff wrt x then y"
   ]
  },
  {
   "cell_type": "code",
   "execution_count": null,
   "id": "vd7j4-NS9sEn",
   "metadata": {
    "colab": {
     "base_uri": "https://localhost:8080/",
     "height": 37
    },
    "id": "vd7j4-NS9sEn",
    "outputId": "8ec910d7-d145-40b6-d1d2-809f7fdc10ac"
   },
   "outputs": [],
   "source": [
    "sympy.diff(bivar, x, y) # diff wrt y then x"
   ]
  },
  {
   "cell_type": "code",
   "execution_count": null,
   "id": "wqNSnU3l9uG-",
   "metadata": {
    "colab": {
     "base_uri": "https://localhost:8080/",
     "height": 37
    },
    "id": "wqNSnU3l9uG-",
    "outputId": "2a3bd735-c2c3-4940-9511-ff1560597cca"
   },
   "outputs": [],
   "source": [
    "sympy.diff(bivar, y, y) # diff wrt y twice"
   ]
  },
  {
   "cell_type": "markdown",
   "id": "WqXlaz9i93EI",
   "metadata": {
    "id": "WqXlaz9i93EI"
   },
   "source": [
    "Another useful function of `sympy` is *integration*, which calculates the area under a curve defined by a given function. We can use `sympy.integrate()` to do this.\n",
    "\n",
    "If we want to compute an indefinite integral, all we need is the function and the variable of integration:"
   ]
  },
  {
   "cell_type": "code",
   "execution_count": null,
   "id": "wQbk4L6J9wJJ",
   "metadata": {
    "colab": {
     "base_uri": "https://localhost:8080/",
     "height": 38
    },
    "id": "wQbk4L6J9wJJ",
    "outputId": "605e1bc2-604e-4e11-ec56-050d7a8c3aec"
   },
   "outputs": [],
   "source": [
    "sympy.integrate(cos(x), x)"
   ]
  },
  {
   "cell_type": "code",
   "execution_count": null,
   "id": "ivEajZro-aR_",
   "metadata": {
    "colab": {
     "base_uri": "https://localhost:8080/",
     "height": 54
    },
    "id": "ivEajZro-aR_",
    "outputId": "8aec92b4-f6a7-409a-bb25-735f178b810b"
   },
   "outputs": [],
   "source": [
    "sympy.integrate(x**3/3, x)"
   ]
  },
  {
   "cell_type": "markdown",
   "id": "PlRwIjaR-fUk",
   "metadata": {
    "id": "PlRwIjaR-fUk"
   },
   "source": [
    "We can also compute definite integrals by passing the integration variable as a tuple containing the variable, lower bound, and upper bound of integration."
   ]
  },
  {
   "cell_type": "code",
   "execution_count": null,
   "id": "DhQ3SD71-cNF",
   "metadata": {
    "colab": {
     "base_uri": "https://localhost:8080/",
     "height": 51
    },
    "id": "DhQ3SD71-cNF",
    "outputId": "e25fa98a-bd5b-4006-a9d2-80c6c4001539"
   },
   "outputs": [],
   "source": [
    "sympy.integrate(x**2, (x, 0, 1)) # integrate x**2 from 0 to 1"
   ]
  },
  {
   "cell_type": "code",
   "execution_count": null,
   "id": "MLaIe-KD-q1l",
   "metadata": {
    "colab": {
     "base_uri": "https://localhost:8080/",
     "height": 37
    },
    "id": "MLaIe-KD-q1l",
    "outputId": "fc4e05e1-39f6-40fe-c62c-7deb6d8c059e"
   },
   "outputs": [],
   "source": [
    "sympy.integrate(cos(x), (x, 0, sympy.pi/2)) # integrate cos(x) from 0 to pi/2 using built-in sympy.pi"
   ]
  },
  {
   "cell_type": "markdown",
   "id": "ODAM3y_d_Eo3",
   "metadata": {
    "id": "ODAM3y_d_Eo3"
   },
   "source": [
    "For infinite bounds, `sympy` uses the syntax `oo` for infinity."
   ]
  },
  {
   "cell_type": "code",
   "execution_count": null,
   "id": "x0LniGSZ-4kh",
   "metadata": {
    "colab": {
     "base_uri": "https://localhost:8080/",
     "height": 37
    },
    "id": "x0LniGSZ-4kh",
    "outputId": "d0cad4b9-abd5-47a2-843b-ec54c12099c5"
   },
   "outputs": [],
   "source": [
    "sympy.integrate(sympy.exp(-x), (x, 0, sympy.oo)) # integrate e**-x from 0 to infinity"
   ]
  },
  {
   "cell_type": "markdown",
   "id": "Bb6ZKUye_bVT",
   "metadata": {
    "id": "Bb6ZKUye_bVT"
   },
   "source": [
    "We can also do multivariable integrals by passing multiple variables (or tuples for definite integrals)."
   ]
  },
  {
   "cell_type": "code",
   "execution_count": null,
   "id": "AsDeht6h_TxG",
   "metadata": {
    "colab": {
     "base_uri": "https://localhost:8080/",
     "height": 41
    },
    "id": "AsDeht6h_TxG",
    "outputId": "e111b70f-ba51-4537-c9a7-52fa39b2326b"
   },
   "outputs": [],
   "source": [
    "norm2d = sympy.exp(-x**2 - y**2) # 2-dimensional normal distribution\n",
    "norm2d"
   ]
  },
  {
   "cell_type": "code",
   "execution_count": null,
   "id": "OiPGl-DM_tYa",
   "metadata": {
    "colab": {
     "base_uri": "https://localhost:8080/",
     "height": 38
    },
    "id": "OiPGl-DM_tYa",
    "outputId": "b449337a-d5e0-40c7-edfd-d9f838c3d452"
   },
   "outputs": [],
   "source": [
    "sympy.integrate(norm2d, (x, -sympy.oo, sympy.oo), (y, -sympy.oo, sympy.oo)) # integrate over full x-y plane"
   ]
  },
  {
   "cell_type": "markdown",
   "id": "YYH85IfoAHKy",
   "metadata": {
    "id": "YYH85IfoAHKy"
   },
   "source": [
    "`diff()` and `integrate()` aren't all-powerful, though. If a function is not differentiable or integrable, we'll just get back the unevaluated function:"
   ]
  },
  {
   "cell_type": "code",
   "execution_count": null,
   "id": "sp9CFNTd_9gc",
   "metadata": {
    "colab": {
     "base_uri": "https://localhost:8080/",
     "height": 55
    },
    "id": "sp9CFNTd_9gc",
    "outputId": "a540dc88-bd69-4a85-c307-3923ea55f1a2"
   },
   "outputs": [],
   "source": [
    "sympy.integrate(x**x, x) # the only way to evaluate this is with a series approximation"
   ]
  },
  {
   "cell_type": "markdown",
   "id": "LTToJUDUAunv",
   "metadata": {
    "id": "LTToJUDUAunv"
   },
   "source": [
    "We can also compute *limits* using `scipy.limit()`. The inputs are the expression, the variable we're considering, and the value to approach."
   ]
  },
  {
   "cell_type": "code",
   "execution_count": null,
   "id": "SybDvS87Ar3m",
   "metadata": {
    "colab": {
     "base_uri": "https://localhost:8080/",
     "height": 37
    },
    "id": "SybDvS87Ar3m",
    "outputId": "4dbde8ec-c4e2-48a4-ab89-2534289c06f7"
   },
   "outputs": [],
   "source": [
    "sympy.limit(sin(x)/x, x, 0)"
   ]
  },
  {
   "cell_type": "code",
   "execution_count": null,
   "id": "LdoN1nurBNkB",
   "metadata": {
    "colab": {
     "base_uri": "https://localhost:8080/",
     "height": 37
    },
    "id": "LdoN1nurBNkB",
    "outputId": "0e85bdd3-a7ba-46ee-c51b-780b1a4226db"
   },
   "outputs": [],
   "source": [
    "sympy.limit(x**2, x, sympy.oo)"
   ]
  },
  {
   "cell_type": "code",
   "execution_count": null,
   "id": "zPhIQRmuBQ2i",
   "metadata": {
    "colab": {
     "base_uri": "https://localhost:8080/",
     "height": 37
    },
    "id": "zPhIQRmuBQ2i",
    "outputId": "17f0251f-3fed-4b10-84b2-e3171d5d2514"
   },
   "outputs": [],
   "source": [
    "sympy.limit(log(x), x, 0)"
   ]
  },
  {
   "cell_type": "markdown",
   "id": "OnBwXAOWBXYU",
   "metadata": {
    "id": "OnBwXAOWBXYU"
   },
   "source": [
    "For one-sided limits, pass the additional argument `'+'` to evaluate from the right or `'-'` to evaluate from the left."
   ]
  },
  {
   "cell_type": "code",
   "execution_count": null,
   "id": "V2BKihUTBUcG",
   "metadata": {
    "colab": {
     "base_uri": "https://localhost:8080/",
     "height": 37
    },
    "id": "V2BKihUTBUcG",
    "outputId": "c94fa502-f1d1-4fa7-ad8a-71bdc50f6cc6"
   },
   "outputs": [],
   "source": [
    "sympy.limit(1/x, x, 0, '+') # evaluate the limit at zero from the right"
   ]
  },
  {
   "cell_type": "code",
   "execution_count": null,
   "id": "Cpih_WChBmad",
   "metadata": {
    "colab": {
     "base_uri": "https://localhost:8080/",
     "height": 37
    },
    "id": "Cpih_WChBmad",
    "outputId": "b34236d8-5515-4a61-e70a-b8e8dd7b8811"
   },
   "outputs": [],
   "source": [
    "sympy.limit(1/x, x, 0, '-') # evaluate the limit at zero from the left"
   ]
  },
  {
   "cell_type": "markdown",
   "id": "bcGoR9SiBrdj",
   "metadata": {
    "id": "bcGoR9SiBrdj"
   },
   "source": [
    "`sympy` can even compute series approximations to functions using the method `series()` on an expression. Most series approximations, such as *Taylor series*, are found by taking derivatives of a function at a particular reference point and multiplying by powers of $x$. We can use `series()` by passing the variable of interest, the reference point, and desired highest order term."
   ]
  },
  {
   "cell_type": "code",
   "execution_count": null,
   "id": "Rdhs6meDBpGF",
   "metadata": {
    "colab": {
     "base_uri": "https://localhost:8080/",
     "height": 54
    },
    "id": "Rdhs6meDBpGF",
    "outputId": "11a43ba4-46a8-4775-fb0a-f7001a966fde"
   },
   "outputs": [],
   "source": [
    "func = sympy.exp(x)\n",
    "func.series(x, 0, 6) # print the series approximation centered at 0 up to the x**6 term"
   ]
  },
  {
   "cell_type": "markdown",
   "id": "uaFTENmqGtow",
   "metadata": {
    "id": "uaFTENmqGtow"
   },
   "source": [
    "The last term, $O(x^6)$, represents higher-order terms. Since we passed $n=6$ into `series()`, all terms proportional to $x^6$ or some higher power of $x$ are lumped into this term. This serves to truncate the series; theoretically, there will be infinitely many terms, but we obviously can't see them all. Besides, higher-order terms tend to have a diminishing effect on the shape of the series approximation.\n",
    "\n",
    "Notice that we centered this series at $x=0$. This is known as the *Maclaurin series* expansion. We can choose different values to center the series at to see how the approximation changes:"
   ]
  },
  {
   "cell_type": "code",
   "execution_count": null,
   "id": "J6iUSR__Ggl6",
   "metadata": {
    "colab": {
     "base_uri": "https://localhost:8080/",
     "height": 56
    },
    "id": "J6iUSR__Ggl6",
    "outputId": "652960c1-f35a-4322-e62e-6e24afd557a0"
   },
   "outputs": [],
   "source": [
    "func.series(x, 2, 6) # centered at 2"
   ]
  },
  {
   "cell_type": "code",
   "execution_count": null,
   "id": "H1qC9s4oJeUP",
   "metadata": {
    "colab": {
     "base_uri": "https://localhost:8080/",
     "height": 56
    },
    "id": "H1qC9s4oJeUP",
    "outputId": "152904b8-d553-4168-8a7d-045e5e46fec9"
   },
   "outputs": [],
   "source": [
    "func.series(x, -4, 6) # centered at -4"
   ]
  },
  {
   "cell_type": "markdown",
   "id": "7EQtARjWJmX3",
   "metadata": {
    "id": "7EQtARjWJmX3"
   },
   "source": [
    "## Matrices\n",
    "\n",
    "`sympy` also has support for matrix operations. To create a matrix, we can use the function `sympy.Matrix()`, which uses the same syntax as `numpy.array()`:"
   ]
  },
  {
   "cell_type": "code",
   "execution_count": null,
   "id": "aruyJYJeKr-N",
   "metadata": {
    "colab": {
     "base_uri": "https://localhost:8080/",
     "height": 78
    },
    "id": "aruyJYJeKr-N",
    "outputId": "383502d6-1977-4606-93cb-53188d429196"
   },
   "outputs": [],
   "source": [
    "A = sympy.Matrix([[1, -1, 3], [3, 4, 0], [0, 2, -3]])\n",
    "A"
   ]
  },
  {
   "cell_type": "markdown",
   "id": "KkKXEdpGK2iq",
   "metadata": {
    "id": "KkKXEdpGK2iq"
   },
   "source": [
    "There is one difference: a list of values is automatically interpreted as a column vector rather than a row vector:"
   ]
  },
  {
   "cell_type": "code",
   "execution_count": null,
   "id": "qXjVCABPK042",
   "metadata": {
    "colab": {
     "base_uri": "https://localhost:8080/",
     "height": 78
    },
    "id": "qXjVCABPK042",
    "outputId": "114b85ae-f4ee-4306-9519-a0168e5ec94c"
   },
   "outputs": [],
   "source": [
    "b = sympy.Matrix([1, 2, 3])\n",
    "b"
   ]
  },
  {
   "cell_type": "markdown",
   "id": "AhJyUTGdLKvi",
   "metadata": {
    "id": "AhJyUTGdLKvi"
   },
   "source": [
    "Many of the basic functions we've grown used to via `numpy` and `scipy` are available in `sympy`. We can call specific rows or columns of a matrix with the methods `row` and `col`. These use standard Python indexing, meaning that negative indices count backwards from the last element:"
   ]
  },
  {
   "cell_type": "code",
   "execution_count": null,
   "id": "l8jX6PlcK95S",
   "metadata": {
    "colab": {
     "base_uri": "https://localhost:8080/",
     "height": 38
    },
    "id": "l8jX6PlcK95S",
    "outputId": "a943240b-9328-4dab-f502-17c7cf1b6d88"
   },
   "outputs": [],
   "source": [
    "A.row(0) # the first row"
   ]
  },
  {
   "cell_type": "code",
   "execution_count": null,
   "id": "DFZxv08ZLf6z",
   "metadata": {
    "colab": {
     "base_uri": "https://localhost:8080/",
     "height": 78
    },
    "id": "DFZxv08ZLf6z",
    "outputId": "3c84ba6a-d80e-4e74-e03d-910df721e841"
   },
   "outputs": [],
   "source": [
    "A.col(-1) # the last column"
   ]
  },
  {
   "cell_type": "markdown",
   "id": "3aMHCVOWLil_",
   "metadata": {
    "id": "3aMHCVOWLil_"
   },
   "source": [
    "We can add, multiply, and even invert matrices using basic Python arithmetic:"
   ]
  },
  {
   "cell_type": "code",
   "execution_count": null,
   "id": "2Dgzbn4gLiA0",
   "metadata": {
    "colab": {
     "base_uri": "https://localhost:8080/",
     "height": 78
    },
    "id": "2Dgzbn4gLiA0",
    "outputId": "b10d6af4-987b-4a4b-bf7a-ad80f5607d16"
   },
   "outputs": [],
   "source": [
    "A*A # multiply A by itself"
   ]
  },
  {
   "cell_type": "code",
   "execution_count": null,
   "id": "55crojUnLtak",
   "metadata": {
    "colab": {
     "base_uri": "https://localhost:8080/",
     "height": 78
    },
    "id": "55crojUnLtak",
    "outputId": "9201e443-e2fb-4d08-fd22-a074a6b459e9"
   },
   "outputs": [],
   "source": [
    "A**2 # we can also use exponential notation"
   ]
  },
  {
   "cell_type": "code",
   "execution_count": null,
   "id": "LdfPKx3hLxnK",
   "metadata": {
    "colab": {
     "base_uri": "https://localhost:8080/",
     "height": 78
    },
    "id": "LdfPKx3hLxnK",
    "outputId": "f039534d-4537-43ae-d89c-195c82af3cad"
   },
   "outputs": [],
   "source": [
    "A**-1 # take the inverse"
   ]
  },
  {
   "cell_type": "markdown",
   "id": "qPI6SIW5L1tZ",
   "metadata": {
    "id": "qPI6SIW5L1tZ"
   },
   "source": [
    "As in `numpy`, we can use the attribute `T` to transpose the matrix:"
   ]
  },
  {
   "cell_type": "code",
   "execution_count": null,
   "id": "k8df99r3Lz8b",
   "metadata": {
    "colab": {
     "base_uri": "https://localhost:8080/",
     "height": 78
    },
    "id": "k8df99r3Lz8b",
    "outputId": "eba1df37-f44d-42cd-f996-677d7145ebd8"
   },
   "outputs": [],
   "source": [
    "A.T"
   ]
  },
  {
   "cell_type": "markdown",
   "id": "mgG2J0TKL9L4",
   "metadata": {
    "id": "mgG2J0TKL9L4"
   },
   "source": [
    "`sympy` also contains its own matrix constructors. `sympy.eye(n)` generates an $n \\times n$ identity matrix."
   ]
  },
  {
   "cell_type": "code",
   "execution_count": null,
   "id": "2czKm0waL6UL",
   "metadata": {
    "colab": {
     "base_uri": "https://localhost:8080/",
     "height": 78
    },
    "id": "2czKm0waL6UL",
    "outputId": "830ffc9d-0b56-47f6-9dbc-9818ba83dae1"
   },
   "outputs": [],
   "source": [
    "sympy.eye(3)"
   ]
  },
  {
   "cell_type": "markdown",
   "id": "ETz_ycfzMJOc",
   "metadata": {
    "id": "ETz_ycfzMJOc"
   },
   "source": [
    "`sympy.zeros(n, m)` and `sympy.ones(n, m)` respectively generate $n \\times m$ matrices full of zeros or ones:"
   ]
  },
  {
   "cell_type": "code",
   "execution_count": null,
   "id": "GnPnWNpjMH7u",
   "metadata": {
    "colab": {
     "base_uri": "https://localhost:8080/",
     "height": 78
    },
    "id": "GnPnWNpjMH7u",
    "outputId": "0094a933-d028-494e-af4e-2297c585c185"
   },
   "outputs": [],
   "source": [
    "sympy.zeros(3, 4)"
   ]
  },
  {
   "cell_type": "code",
   "execution_count": null,
   "id": "4zwiDimHMUcE",
   "metadata": {
    "colab": {
     "base_uri": "https://localhost:8080/",
     "height": 119
    },
    "id": "4zwiDimHMUcE",
    "outputId": "c647efdc-ea59-46e1-9891-7c1fd298eafb"
   },
   "outputs": [],
   "source": [
    "sympy.ones(5, 2)"
   ]
  },
  {
   "cell_type": "markdown",
   "id": "g7tErnxQMhsF",
   "metadata": {
    "id": "g7tErnxQMhsF"
   },
   "source": [
    "We can calculate the determinant of a matrix using the method `det()`:"
   ]
  },
  {
   "cell_type": "code",
   "execution_count": null,
   "id": "qL9PQ9BHMWNr",
   "metadata": {
    "colab": {
     "base_uri": "https://localhost:8080/",
     "height": 37
    },
    "id": "qL9PQ9BHMWNr",
    "outputId": "c9cabca5-4857-4f2d-e479-5813e153d26a"
   },
   "outputs": [],
   "source": [
    "A.det()"
   ]
  },
  {
   "cell_type": "markdown",
   "id": "ZEF2T_HHMnCc",
   "metadata": {
    "id": "ZEF2T_HHMnCc"
   },
   "source": [
    "We can use the method `eigenvals()` to calculate the eigenvalues of the matrix."
   ]
  },
  {
   "cell_type": "code",
   "execution_count": null,
   "id": "ii5zIxUTMmQO",
   "metadata": {
    "colab": {
     "base_uri": "https://localhost:8080/"
    },
    "id": "ii5zIxUTMmQO",
    "outputId": "29befabf-ca6a-4afe-937f-7f7718bf7531"
   },
   "outputs": [],
   "source": [
    "C = sympy.Matrix([[3, -2, 4, -2], [5, 3, -3, -2], [5, -2, 2, -2], [5, -2, -3, 3]])\n",
    "C.eigenvals()"
   ]
  },
  {
   "cell_type": "markdown",
   "id": "UzJJMW2MNLdC",
   "metadata": {
    "id": "UzJJMW2MNLdC"
   },
   "source": [
    "This returns a dictionary keyed by the eigenvalues (in this case, $3, -2, 5$). The value to each key is the *multiplicity* of each eigenvalue, representing how many times the eigenvalue is duplicated when solving the characteristic equation.\n",
    "\n",
    "From here, we could solve manually for the eigenvectors, or we could just use the method `eigenvects()` to have `sympy` do it for us:"
   ]
  },
  {
   "cell_type": "code",
   "execution_count": null,
   "id": "O3sK9QaoMyg0",
   "metadata": {
    "colab": {
     "base_uri": "https://localhost:8080/"
    },
    "id": "O3sK9QaoMyg0",
    "outputId": "f2d6e86b-b7ad-474c-c403-4251be4a6fbb"
   },
   "outputs": [],
   "source": [
    "sol = C.eigenvects()\n",
    "sol"
   ]
  },
  {
   "cell_type": "markdown",
   "id": "v22EHvv7Ny3G",
   "metadata": {
    "id": "v22EHvv7Ny3G"
   },
   "source": [
    "The output might be a little messy, but in general the function prints out a list of tuples with the form `(eigenvalue, multiplicity, eigenvector)`. In this case, we see that $-2$ and $3$ both have one eigenvector each, while $5$ has two distinct eigenvectors.\n",
    "\n",
    "## Solving Systems of Equations\n",
    "\n",
    "We'll end off by looking at some equation solvers in `sympy`. The simplest is `solveset`, which takes in an input expression and outputs the set of all points that satisfies $f(x) = 0$."
   ]
  },
  {
   "cell_type": "code",
   "execution_count": null,
   "id": "D9BD8xKHNlO6",
   "metadata": {
    "colab": {
     "base_uri": "https://localhost:8080/",
     "height": 37
    },
    "id": "D9BD8xKHNlO6",
    "outputId": "e49f5deb-bbf1-4320-8aaf-461e41ad15d9"
   },
   "outputs": [],
   "source": [
    "sympy.solveset(x**2-x, x) # you can verify this yourself"
   ]
  },
  {
   "cell_type": "markdown",
   "id": "Qg7RnQ7jUVJf",
   "metadata": {
    "id": "Qg7RnQ7jUVJf"
   },
   "source": [
    "If a function doesn't have a root, it will return a null $\\emptyset$:"
   ]
  },
  {
   "cell_type": "code",
   "execution_count": null,
   "id": "7irdBYTlNv9K",
   "metadata": {
    "colab": {
     "base_uri": "https://localhost:8080/",
     "height": 37
    },
    "id": "7irdBYTlNv9K",
    "outputId": "d61558c0-a198-497d-fa56-8e2de2890428"
   },
   "outputs": [],
   "source": [
    "sympy.solveset(sympy.exp(x), x) # you can also verify this; exponentials are always positive for all real x"
   ]
  },
  {
   "cell_type": "markdown",
   "id": "hAEGeAJiUUiM",
   "metadata": {
    "id": "hAEGeAJiUUiM"
   },
   "source": [
    "If we input a transcendental function (i.e. a function with no analytic solution), we get back a weird-looking output; this is just the set representation of points that solve $f(x) = 0$."
   ]
  },
  {
   "cell_type": "code",
   "execution_count": null,
   "id": "cC9-B-FJUJxt",
   "metadata": {
    "colab": {
     "base_uri": "https://localhost:8080/",
     "height": 38
    },
    "id": "cC9-B-FJUJxt",
    "outputId": "29ea76dc-720a-4375-e2f9-b0d6d1d3bfef"
   },
   "outputs": [],
   "source": [
    "sympy.solveset(x*sympy.exp(x) - 1, x) # the Lambert W function, which cannot be solved analytically"
   ]
  },
  {
   "cell_type": "markdown",
   "id": "E1My97WFVJ76",
   "metadata": {
    "id": "E1My97WFVJ76"
   },
   "source": [
    "If we want to solve a system of linear equations, we can use `sympy.linsolve()`. We pass a list of the equations we wish to solve and a tuple containing the variables we wish to solve for. \n",
    "\n",
    "Remember that we have to cast these as expressions such that the expression equates to zero. As an example, we'll solve the following set:\n",
    "\n",
    "\\begin{align}\n",
    "x + y + z &= 2 \\\\\n",
    "6x - 4y + 5z &= 31 \\\\\n",
    "5x + 2y + 2z &= 13 \\\\\n",
    "\\end{align}"
   ]
  },
  {
   "cell_type": "code",
   "execution_count": null,
   "id": "XbykRvyUU6V8",
   "metadata": {
    "colab": {
     "base_uri": "https://localhost:8080/",
     "height": 37
    },
    "id": "XbykRvyUU6V8",
    "outputId": "f6a1bf79-2205-4767-ce04-8ae5182cfe0c"
   },
   "outputs": [],
   "source": [
    "eq1 = x + y + z - 2\n",
    "eq2 = 6*x - 4*y + 5*z - 31\n",
    "eq3 = 5*x + 2*y + 2*z - 13\n",
    "sympy.linsolve([eq1, eq2, eq3], (x, y, z))"
   ]
  },
  {
   "cell_type": "markdown",
   "id": "KBU9_x9HWQyE",
   "metadata": {
    "id": "KBU9_x9HWQyE"
   },
   "source": [
    "This again returns a set of tuples of the form $(x, y, z)$. If this system had multiple solutions, they would be displated in this set.\n",
    "\n",
    "You may recall from your math classes that solving for $n$ variables requires $n$ equations. If we don't have enough equations for a singular solution, we'll get back a solution in terms of the variables themselves."
   ]
  },
  {
   "cell_type": "code",
   "execution_count": null,
   "id": "URJiIr90XGK1",
   "metadata": {
    "colab": {
     "base_uri": "https://localhost:8080/",
     "height": 58
    },
    "id": "URJiIr90XGK1",
    "outputId": "76853209-50ca-4078-c3c9-9e731443c9e3"
   },
   "outputs": [],
   "source": [
    "sympy.linsolve([eq1, eq2], (x, y, z))"
   ]
  },
  {
   "cell_type": "markdown",
   "id": "YT23zELjWQm5",
   "metadata": {
    "id": "YT23zELjWQm5"
   },
   "source": [
    "We can even solve differential equations using `sympy.dsolve()`. To do this, we'll need to make use of a unique symbol type, accessible with the keyword argument `cls=Function`:"
   ]
  },
  {
   "cell_type": "code",
   "execution_count": null,
   "id": "VglWSZ9kWPhC",
   "metadata": {
    "colab": {
     "base_uri": "https://localhost:8080/",
     "height": 38
    },
    "id": "VglWSZ9kWPhC",
    "outputId": "a8bf375c-1fd1-42cb-e1d2-bcdbaecccedd"
   },
   "outputs": [],
   "source": [
    "f = symbols('f', cls=sympy.Function)\n",
    "f(x)"
   ]
  },
  {
   "cell_type": "markdown",
   "id": "5FzjthWJYHJP",
   "metadata": {
    "id": "5FzjthWJYHJP"
   },
   "source": [
    "This is an arbitrary function; applying operations to it will result in no simplifications, including taking derivatives:"
   ]
  },
  {
   "cell_type": "code",
   "execution_count": null,
   "id": "gmSG_iB5YBEf",
   "metadata": {
    "colab": {
     "base_uri": "https://localhost:8080/",
     "height": 52
    },
    "id": "gmSG_iB5YBEf",
    "outputId": "669961a8-8141-44b7-c5da-c19cf32238e6"
   },
   "outputs": [],
   "source": [
    "f(x).diff(x)"
   ]
  },
  {
   "cell_type": "markdown",
   "id": "eBIVsrSWYQ6a",
   "metadata": {
    "id": "eBIVsrSWYQ6a"
   },
   "source": [
    "Let's solve for this arbitrary function using the following second-order differential equation:\n",
    "\n",
    "\\begin{equation}\n",
    "\\frac{d^2f(x)}{dx^2} - 2\\frac{df(x)}{dx} + f(x) = \\sin(x)\n",
    "\\end{equation}\n",
    "\n",
    "`dsolve()` takes in an `Equation` object, which we can generate using `sympy.Eq()`. The inputs are the left- and right-hand sides of the desired equation."
   ]
  },
  {
   "cell_type": "code",
   "execution_count": null,
   "id": "6SQU9iMqYQTV",
   "metadata": {
    "colab": {
     "base_uri": "https://localhost:8080/",
     "height": 54
    },
    "id": "6SQU9iMqYQTV",
    "outputId": "93f987b8-2853-40c0-c7ab-b3cf7bb3eb4c"
   },
   "outputs": [],
   "source": [
    "diffeq = sympy.Eq(f(x).diff(x,x) - 2*f(x).diff(x) + f(x), sin(x))\n",
    "diffeq"
   ]
  },
  {
   "cell_type": "markdown",
   "id": "kw3dItdGZjvc",
   "metadata": {
    "id": "kw3dItdGZjvc"
   },
   "source": [
    "Now, we can just plug this into `dsolve()` along with the function we're trying to evaluate:"
   ]
  },
  {
   "cell_type": "code",
   "execution_count": null,
   "id": "qQOBkzo6ZiYR",
   "metadata": {
    "colab": {
     "base_uri": "https://localhost:8080/",
     "height": 53
    },
    "id": "qQOBkzo6ZiYR",
    "outputId": "e40cab09-be2e-4cba-a20e-1385f65ac524"
   },
   "outputs": [],
   "source": [
    "sympy.dsolve(diffeq, f(x))"
   ]
  },
  {
   "cell_type": "markdown",
   "id": "PPJbh8R1ZwDa",
   "metadata": {
    "id": "PPJbh8R1ZwDa"
   },
   "source": [
    "The solution will include constants $C_1, C_2$, etc. to represent the integration constants, which are determined with initial conditions.\n",
    "\n",
    "For more on how to use `sympy`, see the official docs: https://docs.sympy.org/latest/reference/index.html#reference."
   ]
  }
 ],
 "metadata": {
  "colab": {
   "provenance": []
  },
  "kernelspec": {
   "display_name": "Python 3 (ipykernel)",
   "language": "python",
   "name": "python3"
  },
  "language_info": {
   "codemirror_mode": {
    "name": "ipython",
    "version": 3
   },
   "file_extension": ".py",
   "mimetype": "text/x-python",
   "name": "python",
   "nbconvert_exporter": "python",
   "pygments_lexer": "ipython3",
   "version": "3.9.16"
  }
 },
 "nbformat": 4,
 "nbformat_minor": 5
}
