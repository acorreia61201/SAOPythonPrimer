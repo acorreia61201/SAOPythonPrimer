{
 "cells": [
  {
   "cell_type": "markdown",
   "id": "9ae39bd5",
   "metadata": {},
   "source": [
    "# SAO/LIP Python Primer Course Lecture 7\n",
    "\n",
    "In this notebook, you will learn about:\n",
    "- File paths and the `os` library\n",
    "- I/O in base Python\n",
    "- The `pandas` library\n",
    "- Reading and viewing files in `pandas`\n",
    "- Manipulating datasets\n",
    "\n",
    "[![Open In Colab](https://colab.research.google.com/assets/colab-badge.svg)](https://colab.research.google.com/github/acorreia61201/SAOPythonPrimer/blob/main/lectures/Lecture7.ipynb)\n",
    "\n",
    "At the end of our discussion on `numpy`, we started covering the concept of *I/O*, or *input/output*. This is a useful feature that you can use to share or load large datasets. In this lecture, we'll cover two more methods to do this: using base Python, and using an external library `pandas`.\n",
    "\n",
    "## File Paths\n",
    "\n",
    "Before we get into that, it's important that we understand how files are stored on your computer. Understanding this is vital to opening files that may not be inside your current directory. We can use a library `os` to visualize how this works."
   ]
  },
  {
   "cell_type": "code",
   "execution_count": 1,
   "id": "3aa20982",
   "metadata": {},
   "outputs": [],
   "source": [
    "import os"
   ]
  },
  {
   "cell_type": "markdown",
   "id": "405e1a82",
   "metadata": {},
   "source": [
    "All files on an operating system are located in a *directory*, more commonly known as a folder. Directories can contain files or subdirectories, which themselves may have their own files and subdirectories. Each file has a sequence of directories describing where it is on your system known as a *path*.\n",
    "\n",
    "This notebook, for example, has a path. If you're currently viewing this notebook, its path will be the *current working directory*. In Python, we can view the current working directory with `os.getcwd()`:"
   ]
  },
  {
   "cell_type": "code",
   "execution_count": 2,
   "id": "54a33ceb",
   "metadata": {},
   "outputs": [
    {
     "data": {
      "text/plain": [
       "'/home/acorreia7/SAOPythonPrimer/lectures'"
      ]
     },
     "execution_count": 2,
     "metadata": {},
     "output_type": "execute_result"
    }
   ],
   "source": [
    "lecs = os.getcwd()\n",
    "lecs"
   ]
  },
  {
   "cell_type": "markdown",
   "id": "02584013",
   "metadata": {},
   "source": [
    "This current working directory is populated with all of the lectures for this week. To view them all, we use the *list* command which we call in Python with `os.listdir()`."
   ]
  },
  {
   "cell_type": "code",
   "execution_count": 3,
   "id": "beb7c0c4",
   "metadata": {},
   "outputs": [
    {
     "data": {
      "text/plain": [
       "['Lecture3.ipynb',\n",
       " '.ipynb_checkpoints',\n",
       " 'Lecture1.ipynb',\n",
       " 'Lecture5.ipynb',\n",
       " 'plt_sine_eg.png',\n",
       " 'Lecture7.ipynb',\n",
       " 'example_dir',\n",
       " 'Lecture4.ipynb',\n",
       " 'Lecture2.ipynb',\n",
       " 'Lecture6.ipynb']"
      ]
     },
     "execution_count": 3,
     "metadata": {},
     "output_type": "execute_result"
    }
   ],
   "source": [
    "os.listdir()"
   ]
  },
  {
   "cell_type": "markdown",
   "id": "53302c31",
   "metadata": {},
   "source": [
    "Each file within the same directory has a unique name with two parts. Each file has a *file name*, which itself contains the *file extension*. File extensions can tell your operating system how to interpret and open files. For example, extensions like `png` and `jpg` are interpreted as images, while extensions like `txt` are interpreted as plain-text files. Each lecture above has the extension `ipynb`, the standard for a Jupyter notebook. \n",
    "\n",
    "We can create a new directory in the current working directory using `os.mkdir()`:"
   ]
  },
  {
   "cell_type": "code",
   "execution_count": 4,
   "id": "fb904ba1",
   "metadata": {},
   "outputs": [
    {
     "ename": "FileExistsError",
     "evalue": "[Errno 17] File exists: 'example_dir'",
     "output_type": "error",
     "traceback": [
      "\u001b[0;31m---------------------------------------------------------------------------\u001b[0m",
      "\u001b[0;31mFileExistsError\u001b[0m                           Traceback (most recent call last)",
      "Cell \u001b[0;32mIn[4], line 1\u001b[0m\n\u001b[0;32m----> 1\u001b[0m \u001b[43mos\u001b[49m\u001b[38;5;241;43m.\u001b[39;49m\u001b[43mmkdir\u001b[49m\u001b[43m(\u001b[49m\u001b[38;5;124;43m'\u001b[39;49m\u001b[38;5;124;43mexample_dir\u001b[39;49m\u001b[38;5;124;43m'\u001b[39;49m\u001b[43m)\u001b[49m\n",
      "\u001b[0;31mFileExistsError\u001b[0m: [Errno 17] File exists: 'example_dir'"
     ]
    }
   ],
   "source": [
    "os.mkdir('example_dir')"
   ]
  },
  {
   "cell_type": "markdown",
   "id": "dbd97cf2",
   "metadata": {},
   "source": [
    "We can see the new directory using `os.listdir()`:"
   ]
  },
  {
   "cell_type": "code",
   "execution_count": 5,
   "id": "171bd4a9",
   "metadata": {},
   "outputs": [
    {
     "data": {
      "text/plain": [
       "['Lecture3.ipynb',\n",
       " '.ipynb_checkpoints',\n",
       " 'Lecture1.ipynb',\n",
       " 'Lecture5.ipynb',\n",
       " 'plt_sine_eg.png',\n",
       " 'Lecture7.ipynb',\n",
       " 'example_dir',\n",
       " 'Lecture4.ipynb',\n",
       " 'Lecture2.ipynb',\n",
       " 'Lecture6.ipynb']"
      ]
     },
     "execution_count": 5,
     "metadata": {},
     "output_type": "execute_result"
    }
   ],
   "source": [
    "os.listdir()"
   ]
  },
  {
   "cell_type": "markdown",
   "id": "39623978",
   "metadata": {},
   "source": [
    "Notice that if we try to add a new directory with the same name we get an error:"
   ]
  },
  {
   "cell_type": "code",
   "execution_count": 6,
   "id": "67d4444a",
   "metadata": {},
   "outputs": [
    {
     "ename": "FileExistsError",
     "evalue": "[Errno 17] File exists: 'example_dir'",
     "output_type": "error",
     "traceback": [
      "\u001b[0;31m---------------------------------------------------------------------------\u001b[0m",
      "\u001b[0;31mFileExistsError\u001b[0m                           Traceback (most recent call last)",
      "Cell \u001b[0;32mIn[6], line 1\u001b[0m\n\u001b[0;32m----> 1\u001b[0m \u001b[43mos\u001b[49m\u001b[38;5;241;43m.\u001b[39;49m\u001b[43mmkdir\u001b[49m\u001b[43m(\u001b[49m\u001b[38;5;124;43m'\u001b[39;49m\u001b[38;5;124;43mexample_dir\u001b[39;49m\u001b[38;5;124;43m'\u001b[39;49m\u001b[43m)\u001b[49m\n",
      "\u001b[0;31mFileExistsError\u001b[0m: [Errno 17] File exists: 'example_dir'"
     ]
    }
   ],
   "source": [
    "os.mkdir('example_dir')"
   ]
  },
  {
   "cell_type": "markdown",
   "id": "eddc0f97",
   "metadata": {},
   "source": [
    "We can move our current working directory to this new directory using `os.chdir()`:"
   ]
  },
  {
   "cell_type": "code",
   "execution_count": 7,
   "id": "2fa56819",
   "metadata": {},
   "outputs": [
    {
     "data": {
      "text/plain": [
       "'/home/acorreia7/SAOPythonPrimer/lectures/example_dir'"
      ]
     },
     "execution_count": 7,
     "metadata": {},
     "output_type": "execute_result"
    }
   ],
   "source": [
    "os.chdir('example_dir')\n",
    "os.getcwd()"
   ]
  },
  {
   "cell_type": "markdown",
   "id": "07daa368",
   "metadata": {},
   "source": [
    "Let's see what's in this new directory:"
   ]
  },
  {
   "cell_type": "code",
   "execution_count": 8,
   "id": "33503722",
   "metadata": {},
   "outputs": [
    {
     "data": {
      "text/plain": [
       "[]"
      ]
     },
     "execution_count": 8,
     "metadata": {},
     "output_type": "execute_result"
    }
   ],
   "source": [
    "os.listdir()"
   ]
  },
  {
   "cell_type": "markdown",
   "id": "b6e8e664",
   "metadata": {},
   "source": [
    "It returns an empty list. This makes sense; we haven't added anything to it yet. We can, however, view what's in the previous directory (or any directory on the system, for that matter) using an *absolute path*:"
   ]
  },
  {
   "cell_type": "code",
   "execution_count": 9,
   "id": "fde6b4a7",
   "metadata": {},
   "outputs": [
    {
     "data": {
      "text/plain": [
       "['Lecture3.ipynb',\n",
       " '.ipynb_checkpoints',\n",
       " 'Lecture1.ipynb',\n",
       " 'Lecture5.ipynb',\n",
       " 'plt_sine_eg.png',\n",
       " 'Lecture7.ipynb',\n",
       " 'example_dir',\n",
       " 'Lecture4.ipynb',\n",
       " 'Lecture2.ipynb',\n",
       " 'Lecture6.ipynb']"
      ]
     },
     "execution_count": 9,
     "metadata": {},
     "output_type": "execute_result"
    }
   ],
   "source": [
    "os.listdir(lecs)"
   ]
  },
  {
   "cell_type": "markdown",
   "id": "65845fa7",
   "metadata": {},
   "source": [
    "There are two special strings that represent `relative paths` to the current directory. The string `.` refers to the current working directory:"
   ]
  },
  {
   "cell_type": "code",
   "execution_count": 10,
   "id": "6da97f67",
   "metadata": {},
   "outputs": [
    {
     "data": {
      "text/plain": [
       "[]"
      ]
     },
     "execution_count": 10,
     "metadata": {},
     "output_type": "execute_result"
    }
   ],
   "source": [
    "os.listdir('.')"
   ]
  },
  {
   "cell_type": "markdown",
   "id": "9e7598ba",
   "metadata": {},
   "source": [
    "The string `..` refers to the directory above the current working directory:"
   ]
  },
  {
   "cell_type": "code",
   "execution_count": 11,
   "id": "340c3f21",
   "metadata": {},
   "outputs": [
    {
     "data": {
      "text/plain": [
       "['Lecture3.ipynb',\n",
       " '.ipynb_checkpoints',\n",
       " 'Lecture1.ipynb',\n",
       " 'Lecture5.ipynb',\n",
       " 'plt_sine_eg.png',\n",
       " 'Lecture7.ipynb',\n",
       " 'example_dir',\n",
       " 'Lecture4.ipynb',\n",
       " 'Lecture2.ipynb',\n",
       " 'Lecture6.ipynb']"
      ]
     },
     "execution_count": 11,
     "metadata": {},
     "output_type": "execute_result"
    }
   ],
   "source": [
    "os.listdir('..')"
   ]
  },
  {
   "cell_type": "markdown",
   "id": "4564efb6",
   "metadata": {},
   "source": [
    "We can use this to easily move up one directory in the path:"
   ]
  },
  {
   "cell_type": "code",
   "execution_count": 13,
   "id": "33cda32f",
   "metadata": {},
   "outputs": [
    {
     "data": {
      "text/plain": [
       "'/home/acorreia7/SAOPythonPrimer/lectures'"
      ]
     },
     "execution_count": 13,
     "metadata": {},
     "output_type": "execute_result"
    }
   ],
   "source": [
    "os.chdir('..')\n",
    "os.getcwd()"
   ]
  },
  {
   "cell_type": "code",
   "execution_count": null,
   "id": "22d46b04",
   "metadata": {},
   "outputs": [],
   "source": []
  }
 ],
 "metadata": {
  "kernelspec": {
   "display_name": "Python 3 (ipykernel)",
   "language": "python",
   "name": "python3"
  },
  "language_info": {
   "codemirror_mode": {
    "name": "ipython",
    "version": 3
   },
   "file_extension": ".py",
   "mimetype": "text/x-python",
   "name": "python",
   "nbconvert_exporter": "python",
   "pygments_lexer": "ipython3",
   "version": "3.9.16"
  }
 },
 "nbformat": 4,
 "nbformat_minor": 5
}
