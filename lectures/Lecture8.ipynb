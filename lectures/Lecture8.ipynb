{
 "cells": [
  {
   "cell_type": "markdown",
   "id": "19d38f29",
   "metadata": {
    "id": "19d38f29"
   },
   "source": [
    "# SAO/LIP Python Primer Course Lecture 8\n",
    "\n",
    "In this notebook, you will learn about:\n",
    "- The `scipy` library\n",
    "- Integration\n",
    "- Optimization\n",
    "- Advanced linear algebra\n",
    "\n",
    "[![Open In Colab](https://colab.research.google.com/assets/colab-badge.svg)](https://colab.research.google.com/github/acorreia61201/SAOPythonPrimer/blob/main/lectures/Lecture8.ipynb)\n",
    "\n",
    "## The `scipy` Library\n",
    "\n",
    "We've covered `numpy`, which is a powerful library in its own right. However, there are some common mathematical problems that would be convenient to have on-hand when doing scientific programming. The `scipy` library is designed specifically for this. It builds upon the functionality of `numpy` to include hundreds of functions that span the breadth of mathematics. Talking about every single thing that you can do with `scipy` would take a summer in itself, so for now we'll cover some of the most notable functionalities of the library.\n",
    "\n",
    "Of course, the first thing we have to do is make sure it's installed:"
   ]
  },
  {
   "cell_type": "code",
   "execution_count": 1,
   "id": "b586367e",
   "metadata": {
    "colab": {
     "base_uri": "https://localhost:8080/"
    },
    "id": "b586367e",
    "outputId": "4bef7c8f-e2c0-4bdb-8aa9-953699fffa6d"
   },
   "outputs": [
    {
     "name": "stdout",
     "output_type": "stream",
     "text": [
      "Looking in indexes: https://pypi.org/simple, https://us-python.pkg.dev/colab-wheels/public/simple/\n",
      "Requirement already satisfied: scipy in /usr/local/lib/python3.10/dist-packages (1.10.1)\n",
      "Requirement already satisfied: numpy<1.27.0,>=1.19.5 in /usr/local/lib/python3.10/dist-packages (from scipy) (1.22.4)\n"
     ]
    }
   ],
   "source": [
    "!pip install scipy"
   ]
  },
  {
   "cell_type": "code",
   "execution_count": 2,
   "id": "da2323c3",
   "metadata": {
    "id": "da2323c3"
   },
   "outputs": [],
   "source": [
    "import scipy"
   ]
  },
  {
   "cell_type": "markdown",
   "id": "69aea421",
   "metadata": {
    "id": "69aea421"
   },
   "source": [
    "There's so much you can do with `scipy` that it's often more convenient to import individual sublibraries. We'll do this at the start of each relevant section.\n",
    "\n",
    "## Integration\n",
    "\n",
    "Differential equations are used throughout STEM to model a variety of problems. The most common way to solve these are with integration, which can be tricky to implement programmatically (as you've probably seen in the exercises). `scipy` has an entire sublibrary `integrate` which provides various integration functions:"
   ]
  },
  {
   "cell_type": "code",
   "execution_count": 3,
   "id": "4fbd6013",
   "metadata": {
    "id": "4fbd6013"
   },
   "outputs": [],
   "source": [
    "from scipy import integrate"
   ]
  },
  {
   "cell_type": "markdown",
   "id": "MLuW9Es17nCz",
   "metadata": {
    "id": "MLuW9Es17nCz"
   },
   "source": [
    "To start, `scipy` has some basic numerical integrators for computing definite integrals. We've seen some examples of this in the trapezoidal rule and Monte-Carlo method from the exercise sets. To evaluate integrals, we can use the function `scipy.integrate.quad()`, which takes in a function and the bounds as three arguments.\n",
    "\n",
    "For example, let's evaluate the following using `integrate.quad()`:\n",
    "\n",
    "\\begin{equation}\n",
    "\\int_0^1 x^2 dx\n",
    "\\end{equation}\n",
    "\n",
    "Using basic calculus, we know that the above integral has an exact value of $[x^3/3]_0^1 = 1/3$. Let's use `scipy` to verify this:"
   ]
  },
  {
   "cell_type": "code",
   "execution_count": 5,
   "id": "gqxEN6VB8mJe",
   "metadata": {
    "colab": {
     "base_uri": "https://localhost:8080/"
    },
    "id": "gqxEN6VB8mJe",
    "outputId": "1e8b4c47-c0e6-43f3-bfb5-2232f36e98c6"
   },
   "outputs": [
    {
     "data": {
      "text/plain": [
       "(0.33333333333333337, 3.700743415417189e-15)"
      ]
     },
     "execution_count": 5,
     "metadata": {},
     "output_type": "execute_result"
    }
   ],
   "source": [
    "def func(x):\n",
    "    return x*x\n",
    "\n",
    "a, b = (0, 1) # bounds of integration\n",
    "result = integrate.quad(func, a, b)\n",
    "result"
   ]
  },
  {
   "cell_type": "markdown",
   "id": "5cVGucs081Em",
   "metadata": {
    "id": "5cVGucs081Em"
   },
   "source": [
    "We can see that `integrate.quad()` returns a tuple. The first element is the value of the integral, while the second element is an estimate of the absolute error.\n",
    "\n",
    "We can also input functions with parameters. For example, let's say I instead wanted to integrate:\n",
    "\n",
    "\\begin{equation}\n",
    "\\int_0^1 ax^2 dx\n",
    "\\end{equation}\n",
    "\n",
    "Here, $a$ is a parameter independent of $x$. Therefore, we can pull out the constant to get a result of $a/3$. To do this with `integrate.quad()`, we can pass the keyword argument `args` to give extra arguments to the function besides $x$. Let's try integrating with a variety of $a$ values:"
   ]
  },
  {
   "cell_type": "code",
   "execution_count": 15,
   "id": "MeXjJQxy904n",
   "metadata": {
    "colab": {
     "base_uri": "https://localhost:8080/"
    },
    "id": "MeXjJQxy904n",
    "outputId": "54f16d06-883d-428e-908f-9dfb4dca8989"
   },
   "outputs": [
    {
     "data": {
      "text/plain": [
       "(0.33333333333333337, 3.700743415417189e-15)"
      ]
     },
     "execution_count": 15,
     "metadata": {},
     "output_type": "execute_result"
    }
   ],
   "source": [
    "def afunc(x, a):\n",
    "    return a*x*x\n",
    "\n",
    "a, b = (0, 1)\n",
    "integrate.quad(afunc, a, b, args=(1,)) # a = 1"
   ]
  },
  {
   "cell_type": "code",
   "execution_count": 16,
   "id": "PJQ7gDWR-kcl",
   "metadata": {
    "colab": {
     "base_uri": "https://localhost:8080/"
    },
    "id": "PJQ7gDWR-kcl",
    "outputId": "eaed0b89-139c-45a7-b09b-a945b62d90f4"
   },
   "outputs": [
    {
     "data": {
      "text/plain": [
       "(1.0, 1.1102230246251565e-14)"
      ]
     },
     "execution_count": 16,
     "metadata": {},
     "output_type": "execute_result"
    }
   ],
   "source": [
    "integrate.quad(afunc, a, b, args=(3,)) # a = 3"
   ]
  },
  {
   "cell_type": "markdown",
   "id": "KsToBRT3_Qf0",
   "metadata": {
    "id": "KsToBRT3_Qf0"
   },
   "source": [
    "Notice that if we want to integrate in this way, we have to put the variable of integration first and all parameters afterward.\n",
    "\n",
    "If we want to integrate to $+ \\infty$ or $- \\infty$, we can use `numpy.inf` in place of one or both of the bounds. For example, let's take the following integral:\n",
    "\n",
    "\\begin{equation}\n",
    "\\int_{-\\infty}^{+\\infty} e^{-x^2} dx\n",
    "\\end{equation}\n",
    "\n",
    "Using non-elementary methods, we can evaluate this integral as $\\sqrt{\\pi}$. Let's verify this using `scipy`:"
   ]
  },
  {
   "cell_type": "code",
   "execution_count": 17,
   "id": "Zf5Av_DY_PbR",
   "metadata": {
    "colab": {
     "base_uri": "https://localhost:8080/"
    },
    "id": "Zf5Av_DY_PbR",
    "outputId": "0d3d903a-df80-4207-e2a8-0aa3a19b3e88"
   },
   "outputs": [
    {
     "data": {
      "text/plain": [
       "(1.7724538509055159, 1.4202636780944923e-08)"
      ]
     },
     "execution_count": 17,
     "metadata": {},
     "output_type": "execute_result"
    }
   ],
   "source": [
    "import numpy as np\n",
    "\n",
    "def norm(x):\n",
    "    return np.exp(-x*x)\n",
    "\n",
    "integrate.quad(norm, -np.inf, np.inf)"
   ]
  },
  {
   "cell_type": "code",
   "execution_count": 18,
   "id": "Z1G8BraOAbbr",
   "metadata": {
    "colab": {
     "base_uri": "https://localhost:8080/"
    },
    "id": "Z1G8BraOAbbr",
    "outputId": "51ecf57b-bd6b-4fe4-d702-35a8a39b6580"
   },
   "outputs": [
    {
     "data": {
      "text/plain": [
       "1.7724538509055159"
      ]
     },
     "execution_count": 18,
     "metadata": {},
     "output_type": "execute_result"
    }
   ],
   "source": [
    "np.sqrt(np.pi)"
   ]
  },
  {
   "cell_type": "markdown",
   "id": "m62UsOb2Ai9p",
   "metadata": {
    "id": "m62UsOb2Ai9p"
   },
   "source": [
    "As promised, we can also use this to solve systems of ordinary differential equations. Let's use the simple example of an object in freefall. In physics, we define the velocity and acceleration of an object as:\n",
    "\n",
    "\\begin{align}\n",
    "\\frac{dx}{dt} &= v \\\\\n",
    "\\frac{d^2x}{dt^2} &= g\n",
    "\\end{align}\n",
    "\n",
    "We'll use $g = -9.81 m/s^2$, the acceleration due to gravity on Earth, as our constant acceleration. We can rewrite the second equation into a system of two first-order equations by substituting the first equation:\n",
    "\n",
    "\\begin{align}\n",
    "\\frac{dx}{dt} &= v \\\\\n",
    "\\frac{dv}{dt} &= g\n",
    "\\end{align}\n",
    "\n",
    "If we know the constant value of $a$ along with the initial position and velocity, we have an *initial-value problem*, or *IVP*, that describes the one-dimensional motion of an object. We can rewrite this as a matrix equation as we would a regular linear system of equations to get:\n",
    "\n",
    "\\begin{equation}\n",
    "\\frac{d\\textbf{x}}{dt} =\n",
    "\\begin{bmatrix}\n",
    "dx/dt \\\\\n",
    "dv/dt \\\\\n",
    "\\end{bmatrix} =\n",
    "\\begin{bmatrix}\n",
    "v \\\\\n",
    "g \\\\\n",
    "\\end{bmatrix}\n",
    "\\end{equation}\n",
    "\n",
    "To input this into `scipy`, we need a function that takes in the vector $\\textbf{x} = [x, v]$ and outputs the results $[v, g]$. We can do so as follows:"
   ]
  },
  {
   "cell_type": "code",
   "execution_count": 19,
   "id": "GpPkf1Y3Ac_1",
   "metadata": {
    "id": "GpPkf1Y3Ac_1"
   },
   "outputs": [],
   "source": [
    "# initial conditions\n",
    "g = -9.81 # gravitational acceleration\n",
    "x0_0 = 0 # initial position\n",
    "x0_1 = 0 # initial velocity\n",
    "x0 = [x0_0, x0_1] # initial conditions vector\n",
    "\n",
    "def freefall(t, x): # x is a vector of the form [x, v]\n",
    "    return [x[1], g] # return vector [v, g]"
   ]
  },
  {
   "cell_type": "markdown",
   "id": "RILCXL6fQ5qo",
   "metadata": {
    "id": "RILCXL6fQ5qo"
   },
   "source": [
    "Now, we can use the function `integrate.solve_ivp()` to solve this equation over an array of $t$ values:"
   ]
  },
  {
   "cell_type": "code",
   "execution_count": 43,
   "id": "wFj-sWDpQ47K",
   "metadata": {
    "colab": {
     "base_uri": "https://localhost:8080/"
    },
    "id": "wFj-sWDpQ47K",
    "outputId": "84eefbe7-da2a-4d7d-84b0-3211123e30e8"
   },
   "outputs": [
    {
     "data": {
      "text/plain": [
       "  message: The solver successfully reached the end of the integration interval.\n",
       "  success: True\n",
       "   status: 0\n",
       "        t: [ 0.000e+00  1.000e-04  1.100e-03  1.110e-02  1.111e-01\n",
       "             1.111e+00  1.000e+01]\n",
       "        y: [[ 0.000e+00 -4.905e-08 ... -6.055e+00 -4.905e+02]\n",
       "            [ 0.000e+00 -9.810e-04 ... -1.090e+01 -9.810e+01]]\n",
       "      sol: None\n",
       " t_events: None\n",
       " y_events: None\n",
       "     nfev: 38\n",
       "     njev: 0\n",
       "      nlu: 0"
      ]
     },
     "execution_count": 43,
     "metadata": {},
     "output_type": "execute_result"
    }
   ],
   "source": [
    "t = [0, 10] # start and end points of integration\n",
    "soln = integrate.solve_ivp(freefall, t, x0)\n",
    "soln"
   ]
  },
  {
   "cell_type": "markdown",
   "id": "Fvc_p-LHR9B1",
   "metadata": {
    "id": "Fvc_p-LHR9B1"
   },
   "source": [
    "The output of produces two arrays representing the values of time and our $x$ vector. We can call these individually using the methods `soln.t` and `soln.y`"
   ]
  },
  {
   "cell_type": "code",
   "execution_count": 44,
   "id": "GO2nS7-nSkGv",
   "metadata": {
    "id": "GO2nS7-nSkGv"
   },
   "outputs": [],
   "source": [
    "times = soln.t\n",
    "positions = soln.y[0,:]\n",
    "velocities = soln.y[1,:]"
   ]
  },
  {
   "cell_type": "markdown",
   "id": "YgLcaTGFSz03",
   "metadata": {
    "id": "YgLcaTGFSz03"
   },
   "source": [
    "Let's plot them to see how it did. We'll compare against the analytic results:\n",
    "\n",
    "\\begin{align}\n",
    "x(t) &= x_0 + v_0t + \\frac{1}{2}gt^2 \\\\\n",
    "v(t) &= v_0 + gt\n",
    "\\end{align}"
   ]
  },
  {
   "cell_type": "code",
   "execution_count": 45,
   "id": "-W-oYqpPSxew",
   "metadata": {
    "colab": {
     "base_uri": "https://localhost:8080/",
     "height": 564
    },
    "id": "-W-oYqpPSxew",
    "outputId": "88158597-2c20-4467-9a3f-2862d3249541"
   },
   "outputs": [
    {
     "data": {
      "image/png": "[encoded data removed]",
      "text/plain": [
       "<Figure size 1200x600 with 2 Axes>"
      ]
     },
     "metadata": {},
     "output_type": "display_data"
    }
   ],
   "source": [
    "import matplotlib.pyplot as plt\n",
    "\n",
    "ana_pos = [0.5*g*i*i for i in times] # analytic positions\n",
    "ana_vel = [g*i for i in times] # analytic velocities\n",
    "\n",
    "def plotter():\n",
    "    '''\n",
    "    A function to plot the outputs so we don't have to copy later.\n",
    "\n",
    "    You can use functions with no input or output to run verbose sections of code\n",
    "    like this as much as you'd like.\n",
    "    '''\n",
    "    fig, ax = plt.subplots(1, 2, figsize=(12, 6))\n",
    "    ax[0].plot(times, positions, label='ivp_solve')\n",
    "    ax[0].plot(times, ana_pos, linestyle='--', label='analytic')\n",
    "    ax[0].set_title('Position')\n",
    "    ax[0].set_xlabel('Time (s)')\n",
    "    ax[0].set_ylabel('Position (m)')\n",
    "    ax[0].legend()\n",
    "\n",
    "    ax[1].plot(times, velocities, label='ivp_solve')\n",
    "    ax[1].plot(times, ana_vel, linestyle='--', label='analytic')\n",
    "    ax[1].set_title('Velocity')\n",
    "    ax[1].set_xlabel('Time (s)')\n",
    "    ax[1].set_ylabel('Velocity (m/s)')\n",
    "    ax[1].legend()\n",
    "\n",
    "plotter()"
   ]
  },
  {
   "cell_type": "markdown",
   "id": "lscoxNk8Upke",
   "metadata": {
    "id": "lscoxNk8Upke"
   },
   "source": [
    "We can see that the plots are very coarse-grained; the left plot looks nothing like the parabolic behavior we'd expect. `solve_ivp` automatically determines the *step size* over which to integrate. This is an optimization protocol that skips over low-detail areas to minimize runtime, but comes with the downside of potentially obscuring the shape of the function as we see here. We can control this with the keyword argument `max_step`, which determinines the maximum step size allowed by the solver. We can set it to something small to capture as much detail as possible, like 0.05 seconds:"
   ]
  },
  {
   "cell_type": "code",
   "execution_count": 46,
   "id": "i-F0GPiJULDX",
   "metadata": {
    "colab": {
     "base_uri": "https://localhost:8080/",
     "height": 564
    },
    "id": "i-F0GPiJULDX",
    "outputId": "4324c8bc-275c-4313-a3a2-9642962f893c"
   },
   "outputs": [
    {
     "data": {
      "image/png": "[encoded data removed]",
      "text/plain": [
       "<Figure size 1200x600 with 2 Axes>"
      ]
     },
     "metadata": {},
     "output_type": "display_data"
    }
   ],
   "source": [
    "soln = integrate.solve_ivp(freefall, t, x0, max_step = 0.05) # integrate every 0.05 seconds\n",
    "times = soln.t\n",
    "positions = soln.y[0,:]\n",
    "velocities = soln.y[1,:]\n",
    "ana_pos = [0.5*g*i*i for i in times] # analytic positions\n",
    "ana_vel = [g*i for i in times] # analytic velocities\n",
    "plotter()"
   ]
  },
  {
   "cell_type": "markdown",
   "id": "NO7e3o68VRoE",
   "metadata": {
    "id": "NO7e3o68VRoE"
   },
   "source": [
    "That's more like it. We can see that the solver does a pretty good job at matching our expectations. If you're curious, `ivp_solve` uses an integration algorithm called *RK45*, one of the best algorithms for balancing performance and accuracy. You can use a keyword `method` to use a different solver of your choice.\n",
    "\n",
    "## Optimization\n",
    "\n",
    "Another common problem in data analysis is *optimization*, which revolves around finding the maxima, minima, and zeroes of various functions. In `scipy`, these functions are grouped under the `optimize` sublibrary, which we'll call below:"
   ]
  },
  {
   "cell_type": "code",
   "execution_count": 47,
   "id": "qrfcWtbMgGqe",
   "metadata": {
    "id": "qrfcWtbMgGqe"
   },
   "outputs": [],
   "source": [
    "from scipy import optimize"
   ]
  },
  {
   "cell_type": "markdown",
   "id": "5g22w10ogDe5",
   "metadata": {
    "id": "5g22w10ogDe5"
   },
   "source": [
    "Let's start with finding zeroes, also known as *root-finding*. The function `scipy.optimize.root()` can be used for this. Let's use it to estimate the root of the following equation:\n",
    "\n",
    "\\begin{equation}\n",
    "5xe^x - 5 = 0\n",
    "\\end{equation}\n",
    "\n",
    "(This is related to the *Lambert W function*, an important function in statistics.) This is a *transcendental function*, meaning it cannot be expressed in terms of elementary functions and there's no analytic way to find its root. We can, however, use `scipy` to do it for us. All we need is the function representation of this equation and an initial guess to where the zero is:"
   ]
  },
  {
   "cell_type": "code",
   "execution_count": 49,
   "id": "18Mr3RDdVQJx",
   "metadata": {
    "colab": {
     "base_uri": "https://localhost:8080/"
    },
    "id": "18Mr3RDdVQJx",
    "outputId": "44a08e20-486d-4667-b74e-fd980755460c"
   },
   "outputs": [
    {
     "data": {
      "text/plain": [
       " message: The solution converged.\n",
       " success: True\n",
       "  status: 1\n",
       "     fun: [-1.776e-15]\n",
       "       x: [ 5.671e-01]\n",
       "    nfev: 7\n",
       "    fjac: [[-1.000e+00]]\n",
       "       r: [-1.382e+01]\n",
       "     qtf: [-1.707e-09]"
      ]
     },
     "execution_count": 49,
     "metadata": {},
     "output_type": "execute_result"
    }
   ],
   "source": [
    "def lambw(x):\n",
    "    return 5*x*np.exp(x) - 5\n",
    "\n",
    "zero = optimize.root(lambw, 0.5) # guess that the zero is at 0.5\n",
    "zero"
   ]
  },
  {
   "cell_type": "markdown",
   "id": "B3nWR51hgacW",
   "metadata": {
    "id": "B3nWR51hgacW"
   },
   "source": [
    "We can see from the output that the convergence was a success. From this, we can see the `x` value at which the root is located as well as the value of the function `fun` at that `x` value. We can call these with attributes, just as before:"
   ]
  },
  {
   "cell_type": "code",
   "execution_count": 50,
   "id": "Kih_0TFkgZeU",
   "metadata": {
    "colab": {
     "base_uri": "https://localhost:8080/"
    },
    "id": "Kih_0TFkgZeU",
    "outputId": "292a95f8-bce1-4746-c648-2474b0257004"
   },
   "outputs": [
    {
     "data": {
      "text/plain": [
       "array([-1.77635684e-15])"
      ]
     },
     "execution_count": 50,
     "metadata": {},
     "output_type": "execute_result"
    }
   ],
   "source": [
    "zero.fun"
   ]
  },
  {
   "cell_type": "code",
   "execution_count": 51,
   "id": "EnkQiO_vgXA9",
   "metadata": {
    "colab": {
     "base_uri": "https://localhost:8080/"
    },
    "id": "EnkQiO_vgXA9",
    "outputId": "1ec226c3-32df-49f6-d104-28035d4cdbfc"
   },
   "outputs": [
    {
     "data": {
      "text/plain": [
       "array([0.56714329])"
      ]
     },
     "execution_count": 51,
     "metadata": {},
     "output_type": "execute_result"
    }
   ],
   "source": [
    "zero.x"
   ]
  },
  {
   "cell_type": "markdown",
   "id": "YlxzBb7KguCL",
   "metadata": {
    "id": "YlxzBb7KguCL"
   },
   "source": [
    "To check that it worked, we can plot the function as well as the calculated zero point:"
   ]
  },
  {
   "cell_type": "code",
   "execution_count": 54,
   "id": "-2IB-NXOgtTG",
   "metadata": {
    "colab": {
     "base_uri": "https://localhost:8080/",
     "height": 448
    },
    "id": "-2IB-NXOgtTG",
    "outputId": "5e1b9015-e52a-458b-c6bc-547bf20faca6"
   },
   "outputs": [
    {
     "data": {
      "text/plain": [
       "[<matplotlib.lines.Line2D at 0x7fecff1976d0>]"
      ]
     },
     "execution_count": 54,
     "metadata": {},
     "output_type": "execute_result"
    },
    {
     "data": {
      "image/png": "[encoded data removed]",
      "text/plain": [
       "<Figure size 640x480 with 1 Axes>"
      ]
     },
     "metadata": {},
     "output_type": "display_data"
    }
   ],
   "source": [
    "x_vals = np.linspace(0, 1, 500)\n",
    "plt.plot(x_vals, lambw(x_vals)) # function\n",
    "plt.plot(x_vals, [0 for i in x_vals], linestyle='--', color='grey') # x-axis\n",
    "plt.plot(zero.x, zero.fun, 'ro') # zero of the function, as a red circle"
   ]
  },
  {
   "cell_type": "markdown",
   "id": "qBjN6JylkW2J",
   "metadata": {
    "id": "qBjN6JylkW2J"
   },
   "source": [
    "For functions with multiple roots, the solver will attempt to find the root closest to your guess. Let's try with a function with multiple roots:\n",
    "\n",
    "\\begin{equation}\n",
    "6x^2 - x - 35 = 0\n",
    "\\end{equation}\n",
    "\n",
    "Using the quadratic formula, we can calculate the analytic zeroes $x=(5/2, -7/3)$. Let's try a guess closer to the smaller root:"
   ]
  },
  {
   "cell_type": "code",
   "execution_count": 56,
   "id": "-SU6xU7GkNj_",
   "metadata": {
    "colab": {
     "base_uri": "https://localhost:8080/"
    },
    "id": "-SU6xU7GkNj_",
    "outputId": "4e9eeca5-d3f7-44c1-c625-ce2f9e92fea2"
   },
   "outputs": [
    {
     "data": {
      "text/plain": [
       " message: The solution converged.\n",
       " success: True\n",
       "  status: 1\n",
       "     fun: [-2.771e-13]\n",
       "       x: [-2.333e+00]\n",
       "    nfev: 7\n",
       "    fjac: [[-1.000e+00]]\n",
       "       r: [ 2.900e+01]\n",
       "     qtf: [-1.271e-07]"
      ]
     },
     "execution_count": 56,
     "metadata": {},
     "output_type": "execute_result"
    }
   ],
   "source": [
    "def func(x):\n",
    "    return 6*x*x - x - 35\n",
    "\n",
    "root1 = optimize.root(func, -2)\n",
    "root1"
   ]
  },
  {
   "cell_type": "markdown",
   "id": "1XCYNO5hmMWA",
   "metadata": {
    "id": "1XCYNO5hmMWA"
   },
   "source": [
    "And now a guess closer to the other root:"
   ]
  },
  {
   "cell_type": "code",
   "execution_count": 57,
   "id": "p0B0BIY4mKZm",
   "metadata": {
    "colab": {
     "base_uri": "https://localhost:8080/"
    },
    "id": "p0B0BIY4mKZm",
    "outputId": "14b0cb22-b020-4931-92c9-7a923ceb13cc"
   },
   "outputs": [
    {
     "data": {
      "text/plain": [
       " message: The solution converged.\n",
       " success: True\n",
       "  status: 1\n",
       "     fun: [ 0.000e+00]\n",
       "       x: [ 2.500e+00]\n",
       "    nfev: 8\n",
       "    fjac: [[-1.000e+00]]\n",
       "       r: [-2.900e+01]\n",
       "     qtf: [ 9.008e-11]"
      ]
     },
     "execution_count": 57,
     "metadata": {},
     "output_type": "execute_result"
    }
   ],
   "source": [
    "root2 = optimize.root(func, 2)\n",
    "root2"
   ]
  },
  {
   "cell_type": "markdown",
   "id": "r1mzLwYjmVmI",
   "metadata": {
    "id": "r1mzLwYjmVmI"
   },
   "source": [
    "Being ludicrously off shouldn't cause too much trouble for well behaved functions like a quadratic; it will just take longer. However, you do run the risk of the solver taking so long that it can't converge."
   ]
  },
  {
   "cell_type": "code",
   "execution_count": 60,
   "id": "JQ86QY8emTU4",
   "metadata": {
    "colab": {
     "base_uri": "https://localhost:8080/"
    },
    "id": "JQ86QY8emTU4",
    "outputId": "1c804015-c06e-4739-9da5-f5a40ca06a64"
   },
   "outputs": [
    {
     "data": {
      "text/plain": [
       " message: The solution converged.\n",
       " success: True\n",
       "  status: 1\n",
       "     fun: [ 8.811e-13]\n",
       "       x: [ 2.500e+00]\n",
       "    nfev: 20\n",
       "    fjac: [[-1.000e+00]]\n",
       "       r: [-2.900e+01]\n",
       "     qtf: [-2.342e-07]"
      ]
     },
     "execution_count": 60,
     "metadata": {},
     "output_type": "execute_result"
    }
   ],
   "source": [
    "root3 = optimize.root(func, 1000)\n",
    "root3"
   ]
  },
  {
   "cell_type": "code",
   "execution_count": 61,
   "id": "Zt0WxPWFmknP",
   "metadata": {
    "colab": {
     "base_uri": "https://localhost:8080/"
    },
    "id": "Zt0WxPWFmknP",
    "outputId": "34a162e4-6fc7-48ca-baf5-93e500e85018"
   },
   "outputs": [
    {
     "data": {
      "text/plain": [
       " message: The solution converged.\n",
       " success: True\n",
       "  status: 1\n",
       "     fun: [ 0.000e+00]\n",
       "       x: [ 2.500e+00]\n",
       "    nfev: 54\n",
       "    fjac: [[-1.000e+00]]\n",
       "       r: [-2.900e+01]\n",
       "     qtf: [-9.017e-10]"
      ]
     },
     "execution_count": 61,
     "metadata": {},
     "output_type": "execute_result"
    }
   ],
   "source": [
    "root4 = optimize.root(func, 10**10)\n",
    "root4"
   ]
  },
  {
   "cell_type": "markdown",
   "id": "UoOWaH3pmwjN",
   "metadata": {
    "id": "UoOWaH3pmwjN"
   },
   "source": [
    "There's also a method of minimizing functions in `scipy` using `optimize.minimize()`. Let's try to find the vertex of the parabola from the last example. Again, we need a guess as to where the vertex is, which doesn't have to be that accurate:"
   ]
  },
  {
   "cell_type": "code",
   "execution_count": 62,
   "id": "Lcts_VHGmouj",
   "metadata": {
    "colab": {
     "base_uri": "https://localhost:8080/"
    },
    "id": "Lcts_VHGmouj",
    "outputId": "f9856a84-508a-4a26-ce17-a98ae9f5f01d"
   },
   "outputs": [
    {
     "data": {
      "text/plain": [
       "  message: Optimization terminated successfully.\n",
       "  success: True\n",
       "   status: 0\n",
       "      fun: -35.041666666666664\n",
       "        x: [ 8.333e-02]\n",
       "      nit: 1\n",
       "      jac: [ 0.000e+00]\n",
       " hess_inv: [[1]]\n",
       "     nfev: 6\n",
       "     njev: 3"
      ]
     },
     "execution_count": 62,
     "metadata": {},
     "output_type": "execute_result"
    }
   ],
   "source": [
    "vertex = optimize.minimize(func, 0)\n",
    "vertex"
   ]
  },
  {
   "cell_type": "markdown",
   "id": "uo7QN3IXnv2e",
   "metadata": {
    "id": "uo7QN3IXnv2e"
   },
   "source": [
    "This output shows the value `x` at which the minimum occurs as well as the y-value `func` at that `x` value. Again, we can verify this visually by plotting:"
   ]
  },
  {
   "cell_type": "code",
   "execution_count": 64,
   "id": "cw34nLgPnlEC",
   "metadata": {
    "colab": {
     "base_uri": "https://localhost:8080/",
     "height": 448
    },
    "id": "cw34nLgPnlEC",
    "outputId": "459fbf2d-3985-42c3-bd3f-8720e796afe2"
   },
   "outputs": [
    {
     "data": {
      "text/plain": [
       "[<matplotlib.lines.Line2D at 0x7fecff3df7f0>]"
      ]
     },
     "execution_count": 64,
     "metadata": {},
     "output_type": "execute_result"
    },
    {
     "data": {
      "image/png": "[encoded data removed]",
      "text/plain": [
       "<Figure size 640x480 with 1 Axes>"
      ]
     },
     "metadata": {},
     "output_type": "display_data"
    }
   ],
   "source": [
    "x_vals = np.linspace(-4, 4, 500)\n",
    "plt.plot(x_vals, func(x_vals)) # the parabola\n",
    "plt.plot(vertex.x, vertex.fun, 'ro') # the minimum value, "
   ]
  },
  {
   "cell_type": "markdown",
   "id": "cq5fBqi-oeKi",
   "metadata": {
    "id": "cq5fBqi-oeKi"
   },
   "source": [
    "Both `root` and `minimize` have additional methods of solving accessible with the `method` keyword, viewable in each function's respective docs.\n",
    "\n",
    "## Linear Algebra\n",
    "\n",
    "`scipy` also has a robust linear algebra library that builds upon the functionality of `numpy`. We can import it down below:"
   ]
  },
  {
   "cell_type": "code",
   "execution_count": 65,
   "id": "bUN9JDK4oW5I",
   "metadata": {
    "id": "bUN9JDK4oW5I"
   },
   "outputs": [],
   "source": [
    "from scipy import linalg"
   ]
  },
  {
   "cell_type": "markdown",
   "id": "uECtd7xvpDjV",
   "metadata": {
    "id": "uECtd7xvpDjV"
   },
   "source": [
    "This library contains a lot of more specialized operations that are nonetheless widely-used throughout linear algebra and data science. One of these operations is *inversion*, which we've seen a little bit in the exercises. There, we only considered the inverses of 2x2 matrices; for larger matrices exact formulas become exponentially less tractible. Fortunately, we can use `scipy.linalg.inv()` to easily compute the inverse of any matrix:"
   ]
  },
  {
   "cell_type": "code",
   "execution_count": 66,
   "id": "_wNmcbyApC28",
   "metadata": {
    "colab": {
     "base_uri": "https://localhost:8080/"
    },
    "id": "_wNmcbyApC28",
    "outputId": "c335c8e4-94bb-41fd-c7ce-fa15da7b1eb1"
   },
   "outputs": [
    {
     "data": {
      "text/plain": [
       "array([[1, 3, 5],\n",
       "       [2, 5, 1],\n",
       "       [2, 3, 8]])"
      ]
     },
     "execution_count": 66,
     "metadata": {},
     "output_type": "execute_result"
    }
   ],
   "source": [
    "import numpy as np\n",
    "\n",
    "A = np.array([[1, 3, 5], [2, 5, 1], [2, 3, 8]])\n",
    "A"
   ]
  },
  {
   "cell_type": "code",
   "execution_count": 67,
   "id": "yMVaac3j2NL9",
   "metadata": {
    "colab": {
     "base_uri": "https://localhost:8080/"
    },
    "id": "yMVaac3j2NL9",
    "outputId": "a7831ced-4ddb-49e4-bc16-132a6be53a1c"
   },
   "outputs": [
    {
     "data": {
      "text/plain": [
       "array([[-1.48,  0.36,  0.88],\n",
       "       [ 0.56,  0.08, -0.36],\n",
       "       [ 0.16, -0.12,  0.04]])"
      ]
     },
     "execution_count": 67,
     "metadata": {},
     "output_type": "execute_result"
    }
   ],
   "source": [
    "Ainv = linalg.inv(A)\n",
    "Ainv"
   ]
  },
  {
   "cell_type": "markdown",
   "id": "WlmRN8TU2SJY",
   "metadata": {
    "id": "WlmRN8TU2SJY"
   },
   "source": [
    "We can check that this is correct using `numpy.matmul`; we should get back the identity matrix:"
   ]
  },
  {
   "cell_type": "code",
   "execution_count": 72,
   "id": "UDowVhJy2Q-w",
   "metadata": {
    "colab": {
     "base_uri": "https://localhost:8080/"
    },
    "id": "UDowVhJy2Q-w",
    "outputId": "9a8c5b8f-03f6-433e-a526-6fa627a43a2c"
   },
   "outputs": [
    {
     "data": {
      "text/plain": [
       "array([[ 1.00000000e+00, -1.11022302e-16,  4.85722573e-17],\n",
       "       [ 3.05311332e-16,  1.00000000e+00,  7.63278329e-17],\n",
       "       [ 2.22044605e-16, -1.11022302e-16,  1.00000000e+00]])"
      ]
     },
     "execution_count": 72,
     "metadata": {},
     "output_type": "execute_result"
    }
   ],
   "source": [
    "np.matmul(A, Ainv)"
   ]
  },
  {
   "cell_type": "markdown",
   "id": "Ym9pMtpm2dpj",
   "metadata": {
    "id": "Ym9pMtpm2dpj"
   },
   "source": [
    "It's a bit harder to see with the floating-point errors, but we get the identity matrix as expected. (You can also check by hand if you're still not convinced.)\n",
    "\n",
    "One application that we saw for matrix inverses is for solving linear equations. `scipy` actually has a function `linalg.solve()` designed just for this. Let's now say I wanted to solve the following system using `A` as defined above:\n",
    "\n",
    "\\begin{align}\n",
    "x + 3y + 5z &= 10 \\\\\n",
    "2x + 5y + z &= 8 \\\\\n",
    "2x + 3y + 8z &= 3\n",
    "\\end{align}\n",
    "\n",
    "We can write this as a matrix equation by casting the right-hand side of each equation in a column vector:"
   ]
  },
  {
   "cell_type": "code",
   "execution_count": 73,
   "id": "WvFmLJ3J2a5J",
   "metadata": {
    "colab": {
     "base_uri": "https://localhost:8080/"
    },
    "id": "WvFmLJ3J2a5J",
    "outputId": "82dde7a1-1c7c-47b8-944d-774378ff0bd4"
   },
   "outputs": [
    {
     "data": {
      "text/plain": [
       "array([[10],\n",
       "       [ 8],\n",
       "       [ 3]])"
      ]
     },
     "execution_count": 73,
     "metadata": {},
     "output_type": "execute_result"
    }
   ],
   "source": [
    "b = np.array([[10], [8], [3]])\n",
    "b"
   ]
  },
  {
   "cell_type": "code",
   "execution_count": 74,
   "id": "hWUI_umT4Can",
   "metadata": {
    "colab": {
     "base_uri": "https://localhost:8080/"
    },
    "id": "hWUI_umT4Can",
    "outputId": "0f0892d3-4bd6-4721-d0c7-de28b784bf20"
   },
   "outputs": [
    {
     "data": {
      "text/plain": [
       "array([[-9.28],\n",
       "       [ 5.16],\n",
       "       [ 0.76]])"
      ]
     },
     "execution_count": 74,
     "metadata": {},
     "output_type": "execute_result"
    }
   ],
   "source": [
    "linalg.solve(A, b)"
   ]
  },
  {
   "cell_type": "markdown",
   "id": "zXfXO6K64GMv",
   "metadata": {
    "id": "zXfXO6K64GMv"
   },
   "source": [
    "This is the exact same result we'd get if we used the matrix inverse method (i.e. multiplying both sides of the equation by the matrix inverse), except the code under the hood of `solve()` is faster more numerically stable:"
   ]
  },
  {
   "cell_type": "code",
   "execution_count": 75,
   "id": "El2_GOPV4GDt",
   "metadata": {
    "colab": {
     "base_uri": "https://localhost:8080/"
    },
    "id": "El2_GOPV4GDt",
    "outputId": "e13b9a3d-538a-4251-de01-cf291ff256b1"
   },
   "outputs": [
    {
     "data": {
      "text/plain": [
       "array([[-9.28],\n",
       "       [ 5.16],\n",
       "       [ 0.76]])"
      ]
     },
     "execution_count": 75,
     "metadata": {},
     "output_type": "execute_result"
    }
   ],
   "source": [
    "np.dot(Ainv, b)"
   ]
  },
  {
   "cell_type": "markdown",
   "id": "5qT7svMg4fYL",
   "metadata": {
    "id": "5qT7svMg4fYL"
   },
   "source": [
    "Another widely-used linear algebra quantity is the *determinant* of a matrix, which we saw when manually computing matrix inverses. We can use `scipy.linalg.det()` to compute determinants quickly and easily:"
   ]
  },
  {
   "cell_type": "code",
   "execution_count": 76,
   "id": "BFhJNojP4y-G",
   "metadata": {
    "colab": {
     "base_uri": "https://localhost:8080/"
    },
    "id": "BFhJNojP4y-G",
    "outputId": "eb2c7a0a-ccde-4626-9aa1-ed8367c4cbfc"
   },
   "outputs": [
    {
     "data": {
      "text/plain": [
       "-25.000000000000004"
      ]
     },
     "execution_count": 76,
     "metadata": {},
     "output_type": "execute_result"
    }
   ],
   "source": [
    "linalg.det(A)"
   ]
  },
  {
   "cell_type": "markdown",
   "id": "lS8TW8JG438_",
   "metadata": {
    "id": "lS8TW8JG438_"
   },
   "source": [
    "(Again, you may work this out analytically if you're not convinced.)\n",
    "\n",
    "A concept more useful to applied sciences like physics is the calculation of *eigenvalues* and *eigenvectors*. These are values that satisfy the following equation:\n",
    "\n",
    "\\begin{equation}\n",
    "Av = \\lambda v\n",
    "\\end{equation}\n",
    "\n",
    "Here, $\\lambda$ is an eigenvalue of $A$, and $v$ is an eigenvector of $A$. In other words, the eigenvectors $v$ of a matrix are vectors that, when multiplied by that matrix, are proportional to themselves up to a factor of their respective eigenvalue. To solve the above equation by-hand, we could move all terms to the left side, multiply by the identity matrix $I$, and recognize that $v$ is a general non-zero vector to get:\n",
    "\n",
    "\\begin{equation}\n",
    "\\det(A - \\lambda I) = 0\n",
    "\\end{equation}\n",
    "\n",
    "We can then solve a polynomial of order $N$ for an $N \\times N$ matrix to get the eigenvalues. Then, we can plug these values into the first equation and solve for the eigenvectors $v$. Alternatively, a much faster approach would be to use `scipy.linalg.eig()` to calculate the eigenvalues and eigenvectors of $A$:"
   ]
  },
  {
   "cell_type": "code",
   "execution_count": 77,
   "id": "RzyB1bM96RIq",
   "metadata": {
    "colab": {
     "base_uri": "https://localhost:8080/"
    },
    "id": "RzyB1bM96RIq",
    "outputId": "17520092-4f87-485a-c122-53c11ecaedad"
   },
   "outputs": [
    {
     "data": {
      "text/plain": [
       "(array([10.5540456 +0.j, -0.5873064 +0.j,  4.03326081+0.j]),\n",
       " array([[-0.51686204, -0.94195144,  0.11527992],\n",
       "        [-0.32845853,  0.31778071, -0.81936883],\n",
       "        [-0.79054957,  0.10836468,  0.56155611]]))"
      ]
     },
     "execution_count": 77,
     "metadata": {},
     "output_type": "execute_result"
    }
   ],
   "source": [
    "linalg.eig(A)"
   ]
  },
  {
   "cell_type": "markdown",
   "id": "u-Obbg5R7FvF",
   "metadata": {
    "id": "u-Obbg5R7FvF"
   },
   "source": [
    "This gives us a tuple of two arrays. The first array contains the eigenvalues, and the second contains the eigenvectors. We can parse through them individually by indexing as we would any other array:"
   ]
  },
  {
   "cell_type": "code",
   "execution_count": 79,
   "id": "S2xGNQw17R5d",
   "metadata": {
    "colab": {
     "base_uri": "https://localhost:8080/"
    },
    "id": "S2xGNQw17R5d",
    "outputId": "d6020a4b-d546-4736-938f-ac421c7faaea"
   },
   "outputs": [
    {
     "name": "stdout",
     "output_type": "stream",
     "text": [
      "(10.5540455960959+0j)\n",
      "[-0.51686204 -0.94195144  0.11527992]\n"
     ]
    }
   ],
   "source": [
    "vals, vecs = linalg.eig(A)\n",
    "print(vals[0])\n",
    "print(vals[1])\n",
    "print(vals[2])"
   ]
  },
  {
   "cell_type": "markdown",
   "id": "9GsPy7za8Wk0",
   "metadata": {
    "id": "9GsPy7za8Wk0"
   },
   "source": [
    "(The `j` term in each eigenvalue represents the imaginary part of the results. If you're unfamiliar with complex numbers, don't worry; everything we'll be doing here should only involve real numbers.)\n",
    "\n",
    "Take care when calling the eigenvectors, though; they're saved as column vectors, so we'll have to call them as we would columns from a matrix:"
   ]
  },
  {
   "cell_type": "code",
   "execution_count": 88,
   "id": "3P8Xc0RM7aLK",
   "metadata": {
    "colab": {
     "base_uri": "https://localhost:8080/"
    },
    "id": "3P8Xc0RM7aLK",
    "outputId": "886daf74-4eec-4491-c41c-5f8fa91e71fc"
   },
   "outputs": [
    {
     "name": "stdout",
     "output_type": "stream",
     "text": [
      "[-0.51686204 -0.32845853 -0.79054957]\n",
      "[-0.94195144  0.31778071  0.10836468]\n",
      "[ 0.11527992 -0.81936883  0.56155611]\n"
     ]
    }
   ],
   "source": [
    "print(vecs[:,0])\n",
    "print(vecs[:,1])\n",
    "print(vecs[:,2])"
   ]
  },
  {
   "cell_type": "markdown",
   "id": "wfaeX_hG7hDR",
   "metadata": {
    "id": "wfaeX_hG7hDR"
   },
   "source": [
    "\n",
    "We can verify these results by checking the above two equations:"
   ]
  },
  {
   "cell_type": "code",
   "execution_count": 82,
   "id": "h0VzuA687dYr",
   "metadata": {
    "colab": {
     "base_uri": "https://localhost:8080/"
    },
    "id": "h0VzuA687dYr",
    "outputId": "23908d7e-351d-4543-fecd-c9043f8a8baf"
   },
   "outputs": [
    {
     "data": {
      "text/plain": [
       "(-2.926061473787121e-13+0j)"
      ]
     },
     "execution_count": 82,
     "metadata": {},
     "output_type": "execute_result"
    }
   ],
   "source": [
    "linalg.det(A - np.eye(3,3)*vals[0])"
   ]
  },
  {
   "cell_type": "code",
   "execution_count": 90,
   "id": "Zj2pu1_S745c",
   "metadata": {
    "colab": {
     "base_uri": "https://localhost:8080/"
    },
    "id": "Zj2pu1_S745c",
    "outputId": "5cdd6bf0-2f0f-4aee-a107-0d8d258996c6"
   },
   "outputs": [
    {
     "name": "stdout",
     "output_type": "stream",
     "text": [
      "[-5.4549855  -3.46656629 -8.34349626]\n",
      "[-5.4549855 +0.j -3.46656629+0.j -8.34349626+0.j]\n"
     ]
    }
   ],
   "source": [
    "print(np.matmul(A, vecs[:,0]))\n",
    "print(vals[0]*vecs[:,0])"
   ]
  },
  {
   "cell_type": "markdown",
   "id": "NciUfnss8yq4",
   "metadata": {
    "id": "NciUfnss8yq4"
   },
   "source": [
    "As always, this is only an introduction to what can be done in `scipy`; I can say so from experience. This library has functionality for doing advanced statistics, interpolation in datasets, least-squares fitting to scatterplots, Fourier transforms, and even basic stochastic sampling such as Monte-Carlo. You can see everything you can do with `scipy`, including with the small sampling of functions I've shown here, at https://docs.scipy.org/doc/scipy/reference/index.html."
   ]
  }
 ],
 "metadata": {
  "colab": {
   "provenance": []
  },
  "kernelspec": {
   "display_name": "Python 3 (ipykernel)",
   "language": "python",
   "name": "python3"
  },
  "language_info": {
   "codemirror_mode": {
    "name": "ipython",
    "version": 3
   },
   "file_extension": ".py",
   "mimetype": "text/x-python",
   "name": "python",
   "nbconvert_exporter": "python",
   "pygments_lexer": "ipython3",
   "version": "3.9.16"
  }
 },
 "nbformat": 4,
 "nbformat_minor": 5
}
