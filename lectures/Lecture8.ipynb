{
 "cells": [
  {
   "cell_type": "markdown",
   "id": "960cbd32",
   "metadata": {},
   "source": [
    "# SAO/LIP Python Primer Course Lecture 8\n",
    "\n",
    "In this notebook, you will learn about:\n",
    "- The `scipy` library\n",
    "- Integration\n",
    "- Optimization\n",
    "- Linear algebra\n",
    "- Statistical distibutions\n",
    "\n",
    "[![Open In Colab](https://colab.research.google.com/assets/colab-badge.svg)](https://colab.research.google.com/github/acorreia61201/SAOPythonPrimer/blob/main/lectures/Lecture7.ipynb)\n",
    "\n",
    "## The `scipy` Library\n",
    "\n",
    "We've covered `numpy`, which is a powerful library in its own right. However, there are some common mathematical problems that would be convenient to have on-hand when doing scientific programming. The `scipy` library is designed specifically for this. It builds upon the functionality of `numpy` to include hundreds of functions that span the breadth of mathematics. Talking about every single thing that you can do with `scipy` would take a summer in itself, so for now we'll cover some of the most notable functionalities of the library.\n",
    "\n",
    "Of course, the first thing we have to do is make sure it's installed:"
   ]
  },
  {
   "cell_type": "code",
   "execution_count": 1,
   "id": "51fde672",
   "metadata": {},
   "outputs": [
    {
     "name": "stdout",
     "output_type": "stream",
     "text": [
      "Requirement already satisfied: scipy in /home/acorreia7/anaconda3/lib/python3.9/site-packages (1.9.1)\r\n",
      "Requirement already satisfied: numpy<1.25.0,>=1.18.5 in /home/acorreia7/anaconda3/lib/python3.9/site-packages (from scipy) (1.23.5)\r\n"
     ]
    }
   ],
   "source": [
    "!pip install scipy"
   ]
  },
  {
   "cell_type": "code",
   "execution_count": 2,
   "id": "29eb133c",
   "metadata": {},
   "outputs": [
    {
     "ename": "ModuleNotFoundError",
     "evalue": "No module named 'scipy'",
     "output_type": "error",
     "traceback": [
      "\u001b[0;31m---------------------------------------------------------------------------\u001b[0m",
      "\u001b[0;31mModuleNotFoundError\u001b[0m                       Traceback (most recent call last)",
      "Cell \u001b[0;32mIn[2], line 1\u001b[0m\n\u001b[0;32m----> 1\u001b[0m \u001b[38;5;28;01mimport\u001b[39;00m \u001b[38;5;21;01mscipy\u001b[39;00m\n",
      "\u001b[0;31mModuleNotFoundError\u001b[0m: No module named 'scipy'"
     ]
    }
   ],
   "source": [
    "import scipy"
   ]
  },
  {
   "cell_type": "markdown",
   "id": "f3f92308",
   "metadata": {},
   "source": [
    "There's so much you can do with `scipy` that it's often more convenient to import individual sublibraries. We'll do this at the start of each relevant section.\n",
    "\n",
    "## Integration\n",
    "\n",
    "Differential equations are used throughout STEM to model a variety of problems. The most common way to solve these are with integration, which can be tricky to implement programmatically (as you've probably seen in the exercises). `scipy` has an entire sublibrary `integrate` which provides various integration functions:"
   ]
  },
  {
   "cell_type": "code",
   "execution_count": null,
   "id": "5dacfc3d",
   "metadata": {},
   "outputs": [],
   "source": [
    "from scipy import integrate"
   ]
  }
 ],
 "metadata": {
  "kernelspec": {
   "display_name": "Python 3 (ipykernel)",
   "language": "python",
   "name": "python3"
  },
  "language_info": {
   "codemirror_mode": {
    "name": "ipython",
    "version": 3
   },
   "file_extension": ".py",
   "mimetype": "text/x-python",
   "name": "python",
   "nbconvert_exporter": "python",
   "pygments_lexer": "ipython3",
   "version": "3.9.16"
  }
 },
 "nbformat": 4,
 "nbformat_minor": 5
}
