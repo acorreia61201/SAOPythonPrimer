{
 "cells": [
  {
   "cell_type": "markdown",
   "id": "f9f67f41",
   "metadata": {},
   "source": [
    "# SAO/LIP Python Primer Course Lecture 3\n",
    "\n",
    "In this notebook, you will learn about:\n",
    "- Libraries\n",
    "- Arithmetic cont'd\n",
    "- Functions\n",
    "\n",
    "[![Open In Colab](https://colab.research.google.com/assets/colab-badge.svg)](https://colab.research.google.com/github/acorreia61201/SAOPythonPrimer/blob/main/lectures/Lecture3.ipynb)"
   ]
  }
 ],
 "metadata": {
  "kernelspec": {
   "display_name": "Python 3 (ipykernel)",
   "language": "python",
   "name": "python3"
  },
  "language_info": {
   "codemirror_mode": {
    "name": "ipython",
    "version": 3
   },
   "file_extension": ".py",
   "mimetype": "text/x-python",
   "name": "python",
   "nbconvert_exporter": "python",
   "pygments_lexer": "ipython3",
   "version": "3.9.16"
  }
 },
 "nbformat": 4,
 "nbformat_minor": 5
}
