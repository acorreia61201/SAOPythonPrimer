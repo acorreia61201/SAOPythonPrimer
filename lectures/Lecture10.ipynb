{
 "cells": [
  {
   "cell_type": "markdown",
   "id": "dbb7579c",
   "metadata": {},
   "source": [
    "# SAO/LIP Python Primer Course Lecture 10\n",
    "\n",
    "In this notebook, you will learn about:\n",
    "- `lambda` functions\n",
    "- Writing your own libraries\n",
    "\n",
    "[![Open In Colab](https://colab.research.google.com/assets/colab-badge.svg)](https://colab.research.google.com/github/acorreia61201/SAOPythonPrimer/blob/main/lectures/Lecture10.ipynb)\n",
    "\n",
    "This notebook will wrap up our discussion on beginner and intermediate Python techniques. It follows the themes of functions and libraries, and we'll end up covering how you can write your own libraries to use thoughout your work.\n",
    "\n",
    "## The `lambda` Function\n",
    "\n",
    "Before we get into that, however, we'll discuss a simpler type of function you may use when developing code. Let's say I wanted to make a simple function that doubles a number and takes its square root. I could write the following:"
   ]
  },
  {
   "cell_type": "code",
   "execution_count": 1,
   "id": "e3511530",
   "metadata": {},
   "outputs": [],
   "source": [
    "def double_sqrt(a):\n",
    "    return (2*a)**0.5"
   ]
  },
  {
   "cell_type": "markdown",
   "id": "18a98cbd",
   "metadata": {},
   "source": [
    "It works exactly as advertised:"
   ]
  },
  {
   "cell_type": "code",
   "execution_count": 2,
   "id": "fe6d62c5",
   "metadata": {},
   "outputs": [
    {
     "data": {
      "text/plain": [
       "2.0"
      ]
     },
     "execution_count": 2,
     "metadata": {},
     "output_type": "execute_result"
    }
   ],
   "source": [
    "double_sqrt(2)"
   ]
  },
  {
   "cell_type": "code",
   "execution_count": 3,
   "id": "9ab912f7",
   "metadata": {},
   "outputs": [
    {
     "data": {
      "text/plain": [
       "8.0"
      ]
     },
     "execution_count": 3,
     "metadata": {},
     "output_type": "execute_result"
    }
   ],
   "source": [
    "double_sqrt(32)"
   ]
  },
  {
   "cell_type": "markdown",
   "id": "f450dbc8",
   "metadata": {},
   "source": [
    "However, there's a simpler way that we could write a function. We could use the `lambda` keyword to define what's known as a *lambda function* or *anonymous function*. Let's see it below:"
   ]
  },
  {
   "cell_type": "code",
   "execution_count": 6,
   "id": "f6d8b76e",
   "metadata": {},
   "outputs": [],
   "source": [
    "a = lambda x: (2*x)**0.5"
   ]
  },
  {
   "cell_type": "markdown",
   "id": "f458b87e",
   "metadata": {},
   "source": [
    "Now, we can call `a` just as we would a regular function:"
   ]
  },
  {
   "cell_type": "code",
   "execution_count": 7,
   "id": "97384a30",
   "metadata": {},
   "outputs": [
    {
     "data": {
      "text/plain": [
       "2.0"
      ]
     },
     "execution_count": 7,
     "metadata": {},
     "output_type": "execute_result"
    }
   ],
   "source": [
    "a(2)"
   ]
  },
  {
   "cell_type": "code",
   "execution_count": 8,
   "id": "34b77892",
   "metadata": {},
   "outputs": [
    {
     "data": {
      "text/plain": [
       "8.0"
      ]
     },
     "execution_count": 8,
     "metadata": {},
     "output_type": "execute_result"
    }
   ],
   "source": [
    "a(32)"
   ]
  },
  {
   "cell_type": "markdown",
   "id": "3482aaf1",
   "metadata": {},
   "source": [
    "So what's the difference between `lambda` and a regular function? One difference relates to why they're named anonymous functions. Notice that when I defined my lambda function above, I did so the same way I would define a variable. However, let's see what happens if I just start from `lambda`:"
   ]
  },
  {
   "cell_type": "code",
   "execution_count": 9,
   "id": "f653b054",
   "metadata": {},
   "outputs": [
    {
     "data": {
      "text/plain": [
       "<function __main__.<lambda>(x)>"
      ]
     },
     "execution_count": 9,
     "metadata": {},
     "output_type": "execute_result"
    }
   ],
   "source": [
    "lambda x: (2*x)**0.5"
   ]
  },
  {
   "cell_type": "markdown",
   "id": "c563c366",
   "metadata": {},
   "source": [
    "We can see that it creates a function, but now how can we call it? Remember that `lambda` isn't a name of a function; it's a keyword. There are two ways. The first is to use an interactive Python feature present in IDEs like Jupyter Notebook and VSCode. The symbol `_` refers to the last thing the kernel ran. So, if we wanted to use the function above, we could use `_` like we used `a` in the previous example:"
   ]
  },
  {
   "cell_type": "code",
   "execution_count": 10,
   "id": "7256a9ec",
   "metadata": {},
   "outputs": [
    {
     "data": {
      "text/plain": [
       "2.0"
      ]
     },
     "execution_count": 10,
     "metadata": {},
     "output_type": "execute_result"
    }
   ],
   "source": [
    "_(2)"
   ]
  },
  {
   "cell_type": "markdown",
   "id": "bd31e8bf",
   "metadata": {},
   "source": [
    "But if we try that again, we won't get the same result:"
   ]
  },
  {
   "cell_type": "code",
   "execution_count": 11,
   "id": "c8a9c967",
   "metadata": {},
   "outputs": [
    {
     "ename": "TypeError",
     "evalue": "'float' object is not callable",
     "output_type": "error",
     "traceback": [
      "\u001b[0;31m---------------------------------------------------------------------------\u001b[0m",
      "\u001b[0;31mTypeError\u001b[0m                                 Traceback (most recent call last)",
      "Cell \u001b[0;32mIn[11], line 1\u001b[0m\n\u001b[0;32m----> 1\u001b[0m \u001b[43m_\u001b[49m\u001b[43m(\u001b[49m\u001b[38;5;241;43m32\u001b[39;49m\u001b[43m)\u001b[49m\n",
      "\u001b[0;31mTypeError\u001b[0m: 'float' object is not callable"
     ]
    }
   ],
   "source": [
    "_(32)"
   ]
  },
  {
   "cell_type": "markdown",
   "id": "b9567ce4",
   "metadata": {},
   "source": [
    "We could also enter the input directly next to the function declaration, just like if we were calling a function by name:"
   ]
  },
  {
   "cell_type": "code",
   "execution_count": 13,
   "id": "542deb4c",
   "metadata": {},
   "outputs": [
    {
     "data": {
      "text/plain": [
       "2.0"
      ]
     },
     "execution_count": 13,
     "metadata": {},
     "output_type": "execute_result"
    }
   ],
   "source": [
    "(lambda x: (2*x)**0.5)(2)"
   ]
  },
  {
   "cell_type": "code",
   "execution_count": 15,
   "id": "8f24c083",
   "metadata": {},
   "outputs": [
    {
     "data": {
      "text/plain": [
       "8.0"
      ]
     },
     "execution_count": 15,
     "metadata": {},
     "output_type": "execute_result"
    }
   ],
   "source": [
    "(lambda x: (2*x)**0.5)(32)"
   ]
  },
  {
   "cell_type": "markdown",
   "id": "5448326e",
   "metadata": {},
   "source": [
    "But this seems to fly in the face of never copying code. So what's the big deal about lambda functions? They're mostly used for compactifying code when you have to short, repetitive calculations. This is forced by the design of the functions; they can only have one line and can't contain any sort of loop or statement. So the following won't work:"
   ]
  },
  {
   "cell_type": "code",
   "execution_count": 16,
   "id": "93d83343",
   "metadata": {},
   "outputs": [
    {
     "ename": "SyntaxError",
     "evalue": "invalid syntax (3505987814.py, line 1)",
     "output_type": "error",
     "traceback": [
      "\u001b[0;36m  Cell \u001b[0;32mIn[16], line 1\u001b[0;36m\u001b[0m\n\u001b[0;31m    lambda x: assert x == 2\u001b[0m\n\u001b[0m              ^\u001b[0m\n\u001b[0;31mSyntaxError\u001b[0m\u001b[0;31m:\u001b[0m invalid syntax\n"
     ]
    }
   ],
   "source": [
    "lambda x: assert x == 2"
   ]
  },
  {
   "cell_type": "markdown",
   "id": "d7b1bf76",
   "metadata": {},
   "source": [
    "For example, let's say I wanted to square and add 1 to every element in a list (i.e. not an array). We can use the `map()` function to apply another function to every element in a list. Rather than define a whole new function and call it for this one purpose, I can just use a lambda function within `map()` to apply my operation:"
   ]
  },
  {
   "cell_type": "code",
   "execution_count": 17,
   "id": "ac190fb2",
   "metadata": {},
   "outputs": [
    {
     "data": {
      "text/plain": [
       "[2, 5, 10, 17, 26]"
      ]
     },
     "execution_count": 17,
     "metadata": {},
     "output_type": "execute_result"
    }
   ],
   "source": [
    "list1 = [1, 2, 3, 4, 5]\n",
    "list(map(lambda x: x**2 + 1, list1))"
   ]
  },
  {
   "cell_type": "markdown",
   "id": "6e6c8445",
   "metadata": {},
   "source": [
    "Another example is to write generalizable functions. Say I wanted to write a function that would multiply its input by any other number of my choosing. We could write the function below, returning a lambda function that does this:"
   ]
  },
  {
   "cell_type": "code",
   "execution_count": 18,
   "id": "7c40dbf6",
   "metadata": {},
   "outputs": [],
   "source": [
    "def my_func(a):\n",
    "    return lambda b: b*a"
   ]
  },
  {
   "cell_type": "markdown",
   "id": "12d5bf63",
   "metadata": {},
   "source": [
    "Now, if I wanted to use this function to double my inputs, I can create a unique variable like so:"
   ]
  },
  {
   "cell_type": "code",
   "execution_count": 19,
   "id": "9e4ff4dd",
   "metadata": {},
   "outputs": [],
   "source": [
    "my_doubler = my_func(2)"
   ]
  },
  {
   "cell_type": "markdown",
   "id": "7c7b338e",
   "metadata": {},
   "source": [
    "If I want to double a number, I can then just call `my_doubler` with the number I want to double:"
   ]
  },
  {
   "cell_type": "code",
   "execution_count": 20,
   "id": "2ab752aa",
   "metadata": {},
   "outputs": [
    {
     "data": {
      "text/plain": [
       "10"
      ]
     },
     "execution_count": 20,
     "metadata": {},
     "output_type": "execute_result"
    }
   ],
   "source": [
    "my_doubler(5)"
   ]
  },
  {
   "cell_type": "code",
   "execution_count": 21,
   "id": "e1939694",
   "metadata": {},
   "outputs": [
    {
     "data": {
      "text/plain": [
       "14"
      ]
     },
     "execution_count": 21,
     "metadata": {},
     "output_type": "execute_result"
    }
   ],
   "source": [
    "my_doubler(7)"
   ]
  },
  {
   "cell_type": "markdown",
   "id": "eb457b27",
   "metadata": {},
   "source": [
    "If I instead want a function that triples my inputs, I can create another unique variable that acts like a function:"
   ]
  },
  {
   "cell_type": "code",
   "execution_count": 22,
   "id": "601ead7a",
   "metadata": {},
   "outputs": [],
   "source": [
    "my_tripler = my_func(3)"
   ]
  },
  {
   "cell_type": "code",
   "execution_count": 23,
   "id": "f8dd1f0f",
   "metadata": {},
   "outputs": [
    {
     "data": {
      "text/plain": [
       "15"
      ]
     },
     "execution_count": 23,
     "metadata": {},
     "output_type": "execute_result"
    }
   ],
   "source": [
    "my_tripler(5)"
   ]
  },
  {
   "cell_type": "code",
   "execution_count": 25,
   "id": "20b10412",
   "metadata": {},
   "outputs": [
    {
     "data": {
      "text/plain": [
       "21"
      ]
     },
     "execution_count": 25,
     "metadata": {},
     "output_type": "execute_result"
    }
   ],
   "source": [
    "my_tripler(7)"
   ]
  },
  {
   "cell_type": "markdown",
   "id": "60be3328",
   "metadata": {},
   "source": [
    "Notice that I've been able to define multiple functions using one parent function that returns a lambda function. As an alternative, I would've had to write two different functions to do very similar things. I could have also written a function that took in two inputs, but then if I wanted to multiply by the same value multiple times I'd have to specify it every time I call it. This is the main use case for lambda functions: they're useful if you want to compactify your code as much as possible.\n",
    "\n",
    "## Writing Your Own Libraries\n",
    "\n",
    "In the exercises, you've seen how powerful just a handful of libraries can be in scientific computing. You may be wondering how you can write your own libraries or add to existing ones. Perhaps there may even be a very niche thing you want to do multiple times when programming that isn't available in a library. In the spirit of never copying code, Python allows anyone to locally define their own local libraries for repetitive blocks of code. \n",
    "\n",
    "As a heads-up, we'll be using base Python techniques to create external `py` files, which form the bases of libraries. If you're running locally, it's probably easier to use an IDE or plain-text editor to write libraries (although Jupyter is still perfectly fine for prototyping code before saving it to a library; that's what it's made for, after all)."
   ]
  },
  {
   "cell_type": "code",
   "execution_count": null,
   "id": "cfe70b2d",
   "metadata": {},
   "outputs": [],
   "source": []
  }
 ],
 "metadata": {
  "kernelspec": {
   "display_name": "Python 3 (ipykernel)",
   "language": "python",
   "name": "python3"
  },
  "language_info": {
   "codemirror_mode": {
    "name": "ipython",
    "version": 3
   },
   "file_extension": ".py",
   "mimetype": "text/x-python",
   "name": "python",
   "nbconvert_exporter": "python",
   "pygments_lexer": "ipython3",
   "version": "3.9.16"
  }
 },
 "nbformat": 4,
 "nbformat_minor": 5
}
