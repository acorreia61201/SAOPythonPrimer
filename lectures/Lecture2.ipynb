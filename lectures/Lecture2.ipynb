{
 "cells": [
  {
   "cell_type": "markdown",
   "id": "f058052f",
   "metadata": {},
   "source": [
    "# SAO/LIP Python Primer Course Lecture 2\n",
    "\n",
    "In this notebook, you will learn about:\n",
    "- Tuples\n",
    "- Lists\n",
    "- Loops\n",
    "- Boolean logic\n",
    "\n",
    "[![Open In Colab](https://colab.research.google.com/assets/colab-badge.svg)](https://colab.research.google.com/github/acorreia61201/SAOPythonPrimer/blob/main/lectures/Lecture2.ipynb)\n",
    "\n",
    "## Tuples\n",
    "\n",
    "So far, all of the data types we've looked at involve singular values, like numbers or single strings. Oftentimes, especially in scientific programming, you'll want to store or modify multiple values at a time. Python has several data types beyond those we've discussed designed especially for this. \n",
    "\n",
    "The simplest of these is the *tuple*, which can be thought of as ordered sequences of objects. They are denoted by comma-separated lists of items encased in parentheses `()`, as shown below."
   ]
  },
  {
   "cell_type": "code",
   "execution_count": 3,
   "id": "90686a0e",
   "metadata": {},
   "outputs": [
    {
     "data": {
      "text/plain": [
       "tuple"
      ]
     },
     "execution_count": 3,
     "metadata": {},
     "output_type": "execute_result"
    }
   ],
   "source": [
    "tuple_eg1 = (1, 2, 3)\n",
    "type(tuple_eg1)"
   ]
  },
  {
   "cell_type": "markdown",
   "id": "f6a80cf0",
   "metadata": {},
   "source": [
    "The elements can be of any type (even `tuple`), and the elements in a tuple need not be of the same type. For example:"
   ]
  },
  {
   "cell_type": "code",
   "execution_count": 4,
   "id": "be9bd85d",
   "metadata": {},
   "outputs": [
    {
     "data": {
      "text/plain": [
       "tuple"
      ]
     },
     "execution_count": 4,
     "metadata": {},
     "output_type": "execute_result"
    }
   ],
   "source": [
    "tuple_eg2 = (2, 3.14159, \"Hello world\", tuple_eg1, True)\n",
    "type(tuple_eg2)"
   ]
  },
  {
   "cell_type": "markdown",
   "id": "9f279a72",
   "metadata": {},
   "source": [
    "Let's say we only want a certain element or series of elements in a tuple. We can do this using *indexing*. In Python, the first element in a tuple is defined to have index 0. If we want to access the first element of the tuple above, we can use the following syntax:"
   ]
  },
  {
   "cell_type": "code",
   "execution_count": 5,
   "id": "cb253165",
   "metadata": {},
   "outputs": [
    {
     "data": {
      "text/plain": [
       "2"
      ]
     },
     "execution_count": 5,
     "metadata": {},
     "output_type": "execute_result"
    }
   ],
   "source": [
    "tuple_eg2[0]"
   ]
  },
  {
   "cell_type": "markdown",
   "id": "e0d8b760",
   "metadata": {},
   "source": [
    "In general, if we want to access the *n*th element, we use the syntax `tuple[n-1]` to access it. If we want to access the element `tuple_eg1` from above, we would use:"
   ]
  },
  {
   "cell_type": "code",
   "execution_count": 6,
   "id": "5f4a4603",
   "metadata": {},
   "outputs": [
    {
     "data": {
      "text/plain": [
       "(1, 2, 3)"
      ]
     },
     "execution_count": 6,
     "metadata": {},
     "output_type": "execute_result"
    }
   ],
   "source": [
    "tuple_eg2[3]"
   ]
  },
  {
   "cell_type": "markdown",
   "id": "c4dd4032",
   "metadata": {},
   "source": [
    "Consequently, trying to call `tuple[n]` in a tuple of length `n` will throw an error:"
   ]
  },
  {
   "cell_type": "code",
   "execution_count": 7,
   "id": "99a50b2c",
   "metadata": {},
   "outputs": [
    {
     "ename": "IndexError",
     "evalue": "tuple index out of range",
     "output_type": "error",
     "traceback": [
      "\u001b[0;31m---------------------------------------------------------------------------\u001b[0m",
      "\u001b[0;31mIndexError\u001b[0m                                Traceback (most recent call last)",
      "Cell \u001b[0;32mIn[7], line 1\u001b[0m\n\u001b[0;32m----> 1\u001b[0m \u001b[43mtuple_eg2\u001b[49m\u001b[43m[\u001b[49m\u001b[38;5;241;43m5\u001b[39;49m\u001b[43m]\u001b[49m\n",
      "\u001b[0;31mIndexError\u001b[0m: tuple index out of range"
     ]
    }
   ],
   "source": [
    "tuple_eg2[5]"
   ]
  },
  {
   "cell_type": "markdown",
   "id": "55742e9c",
   "metadata": {},
   "source": [
    "The inverse is not true, however. A negative number index will count backwards from the last element. For example, to access the last element, we can use:"
   ]
  },
  {
   "cell_type": "code",
   "execution_count": 8,
   "id": "54529ebe",
   "metadata": {},
   "outputs": [
    {
     "data": {
      "text/plain": [
       "True"
      ]
     },
     "execution_count": 8,
     "metadata": {},
     "output_type": "execute_result"
    }
   ],
   "source": [
    "tuple_eg2[-1]"
   ]
  },
  {
   "cell_type": "markdown",
   "id": "5d2b2e8b",
   "metadata": {},
   "source": [
    "If we want to call multiple values at once, we can use *slicing*. Slices have the syntax `start:stop:step`, where `start` is the first index listed, `stop` is the index after the last index shown, and `step` is the *step size*, which indicates the spacing between elements. If only one colon `:` is included, the step size defaults to 1. All three options must be integers. For example, to get the second through fourth elements in the above tuple, we can use:"
   ]
  },
  {
   "cell_type": "code",
   "execution_count": 13,
   "id": "07e36055",
   "metadata": {},
   "outputs": [
    {
     "data": {
      "text/plain": [
       "(3.14159, 'Hello world', (1, 2, 3))"
      ]
     },
     "execution_count": 13,
     "metadata": {},
     "output_type": "execute_result"
    }
   ],
   "source": [
    "tuple_eg2[1:4]"
   ]
  },
  {
   "cell_type": "markdown",
   "id": "68b337cc",
   "metadata": {},
   "source": [
    "If we want to show every other element from start to end, we can use the following, recalling that index -1 represents the last element:"
   ]
  },
  {
   "cell_type": "code",
   "execution_count": 20,
   "id": "fdbeecb5",
   "metadata": {},
   "outputs": [
    {
     "data": {
      "text/plain": [
       "(2, 'Hello world', True)"
      ]
     },
     "execution_count": 20,
     "metadata": {},
     "output_type": "execute_result"
    }
   ],
   "source": [
    "tuple_eg2[0:-1:2]"
   ]
  },
  {
   "cell_type": "markdown",
   "id": "6c74ff75",
   "metadata": {},
   "source": [
    "There are two options to view the first three elements. Using the above syntax:"
   ]
  },
  {
   "cell_type": "code",
   "execution_count": 14,
   "id": "7a84e551",
   "metadata": {},
   "outputs": [
    {
     "data": {
      "text/plain": [
       "(2, 3.14159, 'Hello world')"
      ]
     },
     "execution_count": 14,
     "metadata": {},
     "output_type": "execute_result"
    }
   ],
   "source": [
    "tuple_eg2[0:3]"
   ]
  },
  {
   "cell_type": "markdown",
   "id": "0122eb1e",
   "metadata": {},
   "source": [
    "We can also leave the first index empty, again noting that the last index is excluded:"
   ]
  },
  {
   "cell_type": "code",
   "execution_count": 16,
   "id": "494b6ffe",
   "metadata": {},
   "outputs": [
    {
     "data": {
      "text/plain": [
       "(2, 3.14159, 'Hello world')"
      ]
     },
     "execution_count": 16,
     "metadata": {},
     "output_type": "execute_result"
    }
   ],
   "source": [
    "tuple_eg2[:3]"
   ]
  },
  {
   "cell_type": "markdown",
   "id": "2c42bbd6",
   "metadata": {},
   "source": [
    "The same applies for listing the last three elements, except this time the slice includes the first index:"
   ]
  },
  {
   "cell_type": "code",
   "execution_count": 18,
   "id": "95f27fe7",
   "metadata": {},
   "outputs": [
    {
     "data": {
      "text/plain": [
       "('Hello world', (1, 2, 3), True)"
      ]
     },
     "execution_count": 18,
     "metadata": {},
     "output_type": "execute_result"
    }
   ],
   "source": [
    "tuple_eg2[2:]"
   ]
  },
  {
   "cell_type": "markdown",
   "id": "7d5e6f79",
   "metadata": {},
   "source": [
    "If we wanted to list the elements in reverse order, we can use the following syntax:"
   ]
  },
  {
   "cell_type": "code",
   "execution_count": 19,
   "id": "fbac2feb",
   "metadata": {},
   "outputs": [
    {
     "data": {
      "text/plain": [
       "(True, (1, 2, 3), 'Hello world', 3.14159, 2)"
      ]
     },
     "execution_count": 19,
     "metadata": {},
     "output_type": "execute_result"
    }
   ],
   "source": [
    "tuple_eg2[::-1]"
   ]
  },
  {
   "cell_type": "markdown",
   "id": "2e77d9a0",
   "metadata": {},
   "source": [
    "If we want to get the total number of elements in a tuple, we can use the built-in function `len`:"
   ]
  },
  {
   "cell_type": "code",
   "execution_count": 9,
   "id": "84ac9ef0",
   "metadata": {},
   "outputs": [
    {
     "data": {
      "text/plain": [
       "5"
      ]
     },
     "execution_count": 9,
     "metadata": {},
     "output_type": "execute_result"
    }
   ],
   "source": [
    "len(tuple_eg2)"
   ]
  },
  {
   "cell_type": "markdown",
   "id": "c8e0799b",
   "metadata": {},
   "source": [
    "You can also map values from a tuple to a series of variables as follows:"
   ]
  },
  {
   "cell_type": "code",
   "execution_count": 10,
   "id": "41f796e3",
   "metadata": {},
   "outputs": [
    {
     "name": "stdout",
     "output_type": "stream",
     "text": [
      "1 2 3\n"
     ]
    }
   ],
   "source": [
    "a, b, c = tuple_eg1\n",
    "print(a, b, c)"
   ]
  },
  {
   "cell_type": "markdown",
   "id": "14233544",
   "metadata": {},
   "source": [
    "However, you need to make sure that the number of variables you're mapping to equals the number of elements in the tuple, or else you'll get an error. (Use `len` to check if you have the right number of variables.)"
   ]
  },
  {
   "cell_type": "code",
   "execution_count": 11,
   "id": "71eaf684",
   "metadata": {},
   "outputs": [
    {
     "ename": "ValueError",
     "evalue": "too many values to unpack (expected 2)",
     "output_type": "error",
     "traceback": [
      "\u001b[0;31m---------------------------------------------------------------------------\u001b[0m",
      "\u001b[0;31mValueError\u001b[0m                                Traceback (most recent call last)",
      "Cell \u001b[0;32mIn[11], line 1\u001b[0m\n\u001b[0;32m----> 1\u001b[0m d, f \u001b[38;5;241m=\u001b[39m tuple_eg1\n",
      "\u001b[0;31mValueError\u001b[0m: too many values to unpack (expected 2)"
     ]
    }
   ],
   "source": [
    "d, f = tuple_eg1"
   ]
  },
  {
   "cell_type": "markdown",
   "id": "e233c388",
   "metadata": {},
   "source": [
    "## Lists\n",
    "\n",
    "Another type that allows for storing multiple values is a `list`. These are also ordered sequences of elements of various types, this time encased in brackets `[]`. You can call elements and get the length in the same way as tuples.\n",
    "\n",
    "So why do we have two different data types that are so similar? The answer lies in what's called *mutability*. Tuples are *immutable*, which means that its elements cannot be modified without redefining the tuple. Lists, meanwhile, are *mutable*, meaning its elements may be modified in-place. This may make lists seem superior, but there is a tradeoff: tuples take up less memory than lists. This tradeoff becomes more noticeable when considering datasets with hundreds or thousands of elements.\n",
    "\n",
    "All of the above notes on indices and slices hold for lists:"
   ]
  },
  {
   "cell_type": "code",
   "execution_count": 21,
   "id": "f7e91625",
   "metadata": {},
   "outputs": [],
   "source": [
    "list_eg = [1, 4, 9, 16]"
   ]
  },
  {
   "cell_type": "code",
   "execution_count": 23,
   "id": "58da6fd1",
   "metadata": {},
   "outputs": [
    {
     "data": {
      "text/plain": [
       "4"
      ]
     },
     "execution_count": 23,
     "metadata": {},
     "output_type": "execute_result"
    }
   ],
   "source": [
    "len(list_eg)"
   ]
  },
  {
   "cell_type": "code",
   "execution_count": 24,
   "id": "236993ff",
   "metadata": {},
   "outputs": [
    {
     "data": {
      "text/plain": [
       "4"
      ]
     },
     "execution_count": 24,
     "metadata": {},
     "output_type": "execute_result"
    }
   ],
   "source": [
    "list_eg[1]"
   ]
  },
  {
   "cell_type": "code",
   "execution_count": 25,
   "id": "592e6f93",
   "metadata": {},
   "outputs": [
    {
     "data": {
      "text/plain": [
       "[1, 4, 9]"
      ]
     },
     "execution_count": 25,
     "metadata": {},
     "output_type": "execute_result"
    }
   ],
   "source": [
    "list_eg[0:3]"
   ]
  },
  {
   "cell_type": "code",
   "execution_count": 26,
   "id": "84d99927",
   "metadata": {},
   "outputs": [
    {
     "data": {
      "text/plain": [
       "[1, 9]"
      ]
     },
     "execution_count": 26,
     "metadata": {},
     "output_type": "execute_result"
    }
   ],
   "source": [
    "list_eg[0:-1:2]"
   ]
  },
  {
   "cell_type": "code",
   "execution_count": 28,
   "id": "6b185f85",
   "metadata": {},
   "outputs": [
    {
     "data": {
      "text/plain": [
       "[9, 16]"
      ]
     },
     "execution_count": 28,
     "metadata": {},
     "output_type": "execute_result"
    }
   ],
   "source": [
    "list_eg[2:]"
   ]
  },
  {
   "cell_type": "code",
   "execution_count": 29,
   "id": "57c0dc9e",
   "metadata": {},
   "outputs": [
    {
     "data": {
      "text/plain": [
       "[16, 9, 4, 1]"
      ]
     },
     "execution_count": 29,
     "metadata": {},
     "output_type": "execute_result"
    }
   ],
   "source": [
    "list_eg[::-1]"
   ]
  },
  {
   "cell_type": "markdown",
   "id": "f947a493",
   "metadata": {},
   "source": [
    "As promised, there's additional functions that allow you to modify the elements of a list. The simplest way to do this is to reassign individual elements by index:"
   ]
  },
  {
   "cell_type": "code",
   "execution_count": 30,
   "id": "335246a5",
   "metadata": {},
   "outputs": [
    {
     "data": {
      "text/plain": [
       "[3, 4, 9, 16]"
      ]
     },
     "execution_count": 30,
     "metadata": {},
     "output_type": "execute_result"
    }
   ],
   "source": [
    "list_eg[0] = 3\n",
    "list_eg"
   ]
  },
  {
   "cell_type": "markdown",
   "id": "6bfff9e3",
   "metadata": {},
   "source": [
    "There's some nuance to this, however. If you define a list with another list, modifying one will modify the other."
   ]
  },
  {
   "cell_type": "code",
   "execution_count": 31,
   "id": "6a0f5c18",
   "metadata": {},
   "outputs": [
    {
     "name": "stdout",
     "output_type": "stream",
     "text": [
      "[1, 4, 9, 16] [1, 4, 9, 16]\n"
     ]
    }
   ],
   "source": [
    "list_mod = list_eg\n",
    "list_mod[0] = 1\n",
    "print(list_mod, list_eg)"
   ]
  },
  {
   "cell_type": "markdown",
   "id": "ffc0efa6",
   "metadata": {},
   "source": [
    "However, making a copy by using the `list` function will modify only the new list."
   ]
  },
  {
   "cell_type": "code",
   "execution_count": 133,
   "id": "c7f22677",
   "metadata": {},
   "outputs": [
    {
     "name": "stdout",
     "output_type": "stream",
     "text": [
      "[3, 4, 9, 16] [1, 4, 9, 16]\n"
     ]
    }
   ],
   "source": [
    "list_mod = list(list_eg)\n",
    "list_mod[0] = 3\n",
    "print(list_mod, list_eg)"
   ]
  },
  {
   "cell_type": "markdown",
   "id": "44463951",
   "metadata": {},
   "source": [
    "We can use some other commands known as *methods* to add or remove items from a list. If we wanted to add an item to the end of a list, we can use the `append()` method:"
   ]
  },
  {
   "cell_type": "code",
   "execution_count": 134,
   "id": "9f5aebcb",
   "metadata": {},
   "outputs": [
    {
     "data": {
      "text/plain": [
       "[3, 4, 9, 16, 25]"
      ]
     },
     "execution_count": 134,
     "metadata": {},
     "output_type": "execute_result"
    }
   ],
   "source": [
    "list_mod.append(25)\n",
    "list_mod"
   ]
  },
  {
   "cell_type": "markdown",
   "id": "14c47dc3",
   "metadata": {},
   "source": [
    "If we wanted to add an item to a specific place somewhere in the list, we can use the `insert()` method. This takes two arguments; the first is the index where you would like to place the element, and the second is the element you wish to place."
   ]
  },
  {
   "cell_type": "code",
   "execution_count": 135,
   "id": "9f2e3666",
   "metadata": {},
   "outputs": [
    {
     "data": {
      "text/plain": [
       "[3, 4, 9, 12, 16, 25]"
      ]
     },
     "execution_count": 135,
     "metadata": {},
     "output_type": "execute_result"
    }
   ],
   "source": [
    "list_mod.insert(3, 12)\n",
    "list_mod"
   ]
  },
  {
   "cell_type": "markdown",
   "id": "30f006a2",
   "metadata": {},
   "source": [
    "If we wanted to remove the last element from the list, we can use `pop()`. This will also print the element to screen:"
   ]
  },
  {
   "cell_type": "code",
   "execution_count": 136,
   "id": "9b34b170",
   "metadata": {},
   "outputs": [
    {
     "data": {
      "text/plain": [
       "25"
      ]
     },
     "execution_count": 136,
     "metadata": {},
     "output_type": "execute_result"
    }
   ],
   "source": [
    "list_mod.pop()"
   ]
  },
  {
   "cell_type": "code",
   "execution_count": 137,
   "id": "6edbe053",
   "metadata": {},
   "outputs": [
    {
     "data": {
      "text/plain": [
       "[3, 4, 9, 12, 16]"
      ]
     },
     "execution_count": 137,
     "metadata": {},
     "output_type": "execute_result"
    }
   ],
   "source": [
    "list_mod"
   ]
  },
  {
   "cell_type": "markdown",
   "id": "45f2fe70",
   "metadata": {},
   "source": [
    "If we want to remove any element, there are three options. If we want to remove an element by index, we can use `del()`, which has a different syntax from the methods above:"
   ]
  },
  {
   "cell_type": "code",
   "execution_count": 138,
   "id": "5f0ce438",
   "metadata": {},
   "outputs": [
    {
     "data": {
      "text/plain": [
       "[3, 4, 9, 16]"
      ]
     },
     "execution_count": 138,
     "metadata": {},
     "output_type": "execute_result"
    }
   ],
   "source": [
    "del list_mod[3]\n",
    "list_mod"
   ]
  },
  {
   "cell_type": "markdown",
   "id": "9b44b022",
   "metadata": {},
   "source": [
    "If we want to remove an element by its value, we can use `remove()`:"
   ]
  },
  {
   "cell_type": "code",
   "execution_count": 139,
   "id": "efcd7858",
   "metadata": {},
   "outputs": [
    {
     "data": {
      "text/plain": [
       "[4, 9, 16]"
      ]
     },
     "execution_count": 139,
     "metadata": {},
     "output_type": "execute_result"
    }
   ],
   "source": [
    "list_mod.remove(3)\n",
    "list_mod"
   ]
  },
  {
   "cell_type": "markdown",
   "id": "39118fcf",
   "metadata": {},
   "source": [
    "We can also remove elements at specific indices by passing an argument into `pop()`. This will again print the element to screen, or save its value to a variable as shown here:"
   ]
  },
  {
   "cell_type": "code",
   "execution_count": 140,
   "id": "ca55018c",
   "metadata": {},
   "outputs": [
    {
     "data": {
      "text/plain": [
       "9"
      ]
     },
     "execution_count": 140,
     "metadata": {},
     "output_type": "execute_result"
    }
   ],
   "source": [
    "rem = list_mod.pop(1)\n",
    "rem"
   ]
  },
  {
   "cell_type": "markdown",
   "id": "0f20d9e7",
   "metadata": {},
   "source": [
    "Let's append it to the list again for demonstration purposes:"
   ]
  },
  {
   "cell_type": "code",
   "execution_count": 141,
   "id": "f61db96b",
   "metadata": {},
   "outputs": [
    {
     "data": {
      "text/plain": [
       "[4, 16, 9]"
      ]
     },
     "execution_count": 141,
     "metadata": {},
     "output_type": "execute_result"
    }
   ],
   "source": [
    "list_mod.append(rem)\n",
    "list_mod"
   ]
  },
  {
   "cell_type": "markdown",
   "id": "59e53b3d",
   "metadata": {},
   "source": [
    "If we want the index of a certain value, we can use the method `index()`:"
   ]
  },
  {
   "cell_type": "code",
   "execution_count": 142,
   "id": "f15416fe",
   "metadata": {},
   "outputs": [
    {
     "data": {
      "text/plain": [
       "1"
      ]
     },
     "execution_count": 142,
     "metadata": {},
     "output_type": "execute_result"
    }
   ],
   "source": [
    "list_mod.index(16)"
   ]
  },
  {
   "cell_type": "markdown",
   "id": "263a598a",
   "metadata": {},
   "source": [
    "If we wanted to reverse the order of elements in a list, we can use `reverse()`:"
   ]
  },
  {
   "cell_type": "code",
   "execution_count": 143,
   "id": "1f19fb87",
   "metadata": {},
   "outputs": [
    {
     "data": {
      "text/plain": [
       "[9, 16, 4]"
      ]
     },
     "execution_count": 143,
     "metadata": {},
     "output_type": "execute_result"
    }
   ],
   "source": [
    "list_mod.reverse()\n",
    "list_mod"
   ]
  },
  {
   "cell_type": "markdown",
   "id": "8394a079",
   "metadata": {},
   "source": [
    "If we want to organize a list, we can use the method `sort()`. This will default to ascending order for `int`s and `float`s, or alphabetical order for `str`s:"
   ]
  },
  {
   "cell_type": "code",
   "execution_count": 144,
   "id": "68c173a5",
   "metadata": {},
   "outputs": [
    {
     "data": {
      "text/plain": [
       "[9, 16, 4, 1]"
      ]
     },
     "execution_count": 144,
     "metadata": {},
     "output_type": "execute_result"
    }
   ],
   "source": [
    "list_mod.append(1)\n",
    "list_mod"
   ]
  },
  {
   "cell_type": "code",
   "execution_count": 145,
   "id": "6a230169",
   "metadata": {},
   "outputs": [
    {
     "data": {
      "text/plain": [
       "[1, 4, 9, 16]"
      ]
     },
     "execution_count": 145,
     "metadata": {},
     "output_type": "execute_result"
    }
   ],
   "source": [
    "list_mod.sort()\n",
    "list_mod"
   ]
  },
  {
   "cell_type": "code",
   "execution_count": 152,
   "id": "d6d21324",
   "metadata": {},
   "outputs": [
    {
     "data": {
      "text/plain": [
       "['apples', 'bananas', 'blueberries', 'pears', 'strawberries']"
      ]
     },
     "execution_count": 152,
     "metadata": {},
     "output_type": "execute_result"
    }
   ],
   "source": [
    "str_list = ['apples', 'pears', 'bananas', 'blueberries', 'strawberries']\n",
    "str_list.sort()\n",
    "str_list"
   ]
  },
  {
   "cell_type": "markdown",
   "id": "a3c074da",
   "metadata": {},
   "source": [
    "Oftentimes, lists will have duplicate values. There are some additional functionalities for handling this."
   ]
  },
  {
   "cell_type": "code",
   "execution_count": 146,
   "id": "4642b8b5",
   "metadata": {},
   "outputs": [
    {
     "data": {
      "text/plain": [
       "[1, 4, 9, 16, 1]"
      ]
     },
     "execution_count": 146,
     "metadata": {},
     "output_type": "execute_result"
    }
   ],
   "source": [
    "list_mod.append(1)\n",
    "list_mod"
   ]
  },
  {
   "cell_type": "markdown",
   "id": "e50a1708",
   "metadata": {},
   "source": [
    "If we want the number of occurrences of an element, we can use `count()`:"
   ]
  },
  {
   "cell_type": "code",
   "execution_count": 147,
   "id": "d63be43c",
   "metadata": {},
   "outputs": [
    {
     "data": {
      "text/plain": [
       "2"
      ]
     },
     "execution_count": 147,
     "metadata": {},
     "output_type": "execute_result"
    }
   ],
   "source": [
    "list_mod.count(1)"
   ]
  },
  {
   "cell_type": "markdown",
   "id": "d8bbbc97",
   "metadata": {},
   "source": [
    "What will happen if we pass a duplicate element to `index()`?"
   ]
  },
  {
   "cell_type": "code",
   "execution_count": 148,
   "id": "72c15fe7",
   "metadata": {},
   "outputs": [
    {
     "data": {
      "text/plain": [
       "0"
      ]
     },
     "execution_count": 148,
     "metadata": {},
     "output_type": "execute_result"
    }
   ],
   "source": [
    "list_mod.index(1)"
   ]
  },
  {
   "cell_type": "markdown",
   "id": "57a96e72",
   "metadata": {},
   "source": [
    "What will happen if we pass a duplicate element to `remove()`?"
   ]
  },
  {
   "cell_type": "code",
   "execution_count": 149,
   "id": "1262ebe2",
   "metadata": {},
   "outputs": [
    {
     "data": {
      "text/plain": [
       "[4, 9, 16, 1]"
      ]
     },
     "execution_count": 149,
     "metadata": {},
     "output_type": "execute_result"
    }
   ],
   "source": [
    "list_mod.remove(1)\n",
    "list_mod"
   ]
  },
  {
   "cell_type": "markdown",
   "id": "07b1ebd9",
   "metadata": {},
   "source": [
    "Finally, if we want to remove all elements from a list, we can use `clear()`:"
   ]
  },
  {
   "cell_type": "code",
   "execution_count": 150,
   "id": "02e5cd50",
   "metadata": {},
   "outputs": [
    {
     "data": {
      "text/plain": [
       "[]"
      ]
     },
     "execution_count": 150,
     "metadata": {},
     "output_type": "execute_result"
    }
   ],
   "source": [
    "list_mod.clear()\n",
    "list_mod"
   ]
  },
  {
   "cell_type": "markdown",
   "id": "d1534caa",
   "metadata": {},
   "source": [
    "## Loops\n",
    "\n",
    "### `for` Loops\n",
    "\n",
    "We now know how to store and manipulate multiple values in a list. However, oftentimes in scientific computing we want to apply operations to each element more complicated than the simple methods explained above. This is known as *iteration*, and to do this in Python we can use what are called *loops*.\n",
    "\n",
    "One important built-in function used frequently in loops is `range()`, which automatically creates a sequence of integers. The syntax is very similar to slices, with the general inputs being `range(start, stop, step)`. `start` represents the first value in the list, `stop` represents the integer after the last element, and `step` represents the increment.\n",
    "\n",
    "By inputting one value, this defaults to a sequence of integers starting at 0 and ending one before the input. You can think `range(i)` as a sequence of length `i` starting at 0:"
   ]
  },
  {
   "cell_type": "code",
   "execution_count": 156,
   "id": "74d06cf3",
   "metadata": {},
   "outputs": [
    {
     "data": {
      "text/plain": [
       "range(0, 6)"
      ]
     },
     "execution_count": 156,
     "metadata": {},
     "output_type": "execute_result"
    }
   ],
   "source": [
    "rng = range(6)\n",
    "rng"
   ]
  },
  {
   "cell_type": "markdown",
   "id": "917456ef",
   "metadata": {},
   "source": [
    "There's one problem: `range()` doesn't create a list or tuple; it creates its own data type. If we want to view its contents, we'll have to make use of one of the three most common loops: the `for` loop. Let's write a simple `for` loop that will print the elements of `rng` sequentially to screen:"
   ]
  },
  {
   "cell_type": "code",
   "execution_count": 157,
   "id": "e009ced4",
   "metadata": {},
   "outputs": [
    {
     "name": "stdout",
     "output_type": "stream",
     "text": [
      "0\n",
      "1\n",
      "2\n",
      "3\n",
      "4\n",
      "5\n"
     ]
    }
   ],
   "source": [
    "for i in rng:\n",
    "    print(i)"
   ]
  },
  {
   "cell_type": "markdown",
   "id": "ca3b21d5",
   "metadata": {},
   "source": [
    "This is one of the simplest `for` loops you can write, but the basic syntax is all here. We define a variable `i` used to represent an arbitrary element in our collection of values `rng`. Then, starting from the first element in `rng`, the indented action (the `print` statement) will be carried out one at a time for each element until reaching the end of `rng`. \n",
    "\n",
    "Note the indentation on the `print` statement. **Indentation is required for any loop to work**. Unlike other languages like C or Fortran, Python is very particular about indentation in loops or functions (which we'll cover later on). You can use Tab or a couple spaces to create indents, but make sure this is consistent throughout your code.\n",
    "\n",
    "Let's try another example. Let's say I didn't know about the `len()` function and wanted to count up how many elements are in the list below: "
   ]
  },
  {
   "cell_type": "code",
   "execution_count": 209,
   "id": "b20ecdeb",
   "metadata": {},
   "outputs": [],
   "source": [
    "test = [4, 234, 563, 123, 809, 8, 67, 90, 67, 5, 345, 789, 56, 98, 90, 56, 45, 90, 30, 768, 97, 45, 78, 51]"
   ]
  },
  {
   "cell_type": "markdown",
   "id": "5fc573a3",
   "metadata": {},
   "source": [
    "I could just count each element by hand, but we can use a `for` loop for that. First, we can define a variable `counter`, which we set to zero:"
   ]
  },
  {
   "cell_type": "code",
   "execution_count": 159,
   "id": "e4e50b8a",
   "metadata": {},
   "outputs": [],
   "source": [
    "counter = 0"
   ]
  },
  {
   "cell_type": "markdown",
   "id": "5dc010f6",
   "metadata": {},
   "source": [
    "Then, we can write a loop that iterates over the list `test`. For each element in `test`, we can add 1 to `counter` in-place:"
   ]
  },
  {
   "cell_type": "code",
   "execution_count": 160,
   "id": "13c442ee",
   "metadata": {},
   "outputs": [],
   "source": [
    "for i in test:\n",
    "    counter += 1"
   ]
  },
  {
   "cell_type": "markdown",
   "id": "3494b4ec",
   "metadata": {},
   "source": [
    "Once the `for` loop is finished, we can print the value of `counter` to get the length of the list:"
   ]
  },
  {
   "cell_type": "code",
   "execution_count": 161,
   "id": "4f6d6557",
   "metadata": {},
   "outputs": [
    {
     "name": "stdout",
     "output_type": "stream",
     "text": [
      "24\n"
     ]
    }
   ],
   "source": [
    "print(counter)"
   ]
  },
  {
   "cell_type": "markdown",
   "id": "70d0a0e7",
   "metadata": {},
   "source": [
    "Of course, we know that `len()` exists, so we can check this easily."
   ]
  },
  {
   "cell_type": "code",
   "execution_count": 162,
   "id": "eb951fb9",
   "metadata": {},
   "outputs": [
    {
     "data": {
      "text/plain": [
       "24"
      ]
     },
     "execution_count": 162,
     "metadata": {},
     "output_type": "execute_result"
    }
   ],
   "source": [
    "len(test)"
   ]
  },
  {
   "cell_type": "markdown",
   "id": "7038e01e",
   "metadata": {},
   "source": [
    "(Note: You should usually stick to built-ins whenever possible. As you've seen, it's pretty easy to code up built-ins by hand, but they usually take up much more time and memory. Built-ins are usually built in lower-level languages like C and Fortran, which are generally much faster than anything you could code in Python.)\n",
    "\n",
    "Notice that I defined `counter` outside of the loop. If I defined it inside of the loop, its value would be reset to 0 at every iteration. Let's see it in action, this time moving `counter = 0` inside the loop:"
   ]
  },
  {
   "cell_type": "code",
   "execution_count": 192,
   "id": "64e3e8c1",
   "metadata": {},
   "outputs": [
    {
     "name": "stdout",
     "output_type": "stream",
     "text": [
      "1\n"
     ]
    }
   ],
   "source": [
    "for i in test:\n",
    "    counter = 0\n",
    "    counter += 1\n",
    "    \n",
    "print(counter)"
   ]
  },
  {
   "cell_type": "markdown",
   "id": "aa8c6086",
   "metadata": {},
   "source": [
    "The value here is now 1, and in fact will always be 1 regardless of the length of list. That's because at each iteration, the value of `counter` is being reset to 0 no matter what the value of `i` is. Remember to be careful of where you're defining variables; it will become more important when we go over functions later on.\n",
    "\n",
    "Any code we've described thus far works in loops. Let's say I wanted to do a bunch of operations to each element in `test` and save the output to a new list, `test_out`. Rather than individually call all 24 elements in the list and write separate lines of code for each one, I can just use a `for` loop:"
   ]
  },
  {
   "cell_type": "code",
   "execution_count": 165,
   "id": "8df007cb",
   "metadata": {},
   "outputs": [
    {
     "data": {
      "text/plain": [
       "[1, 5, 2, 4, 0, 0, 4, 4, 4, 4, 6, 3, 4, 2, 4, 4, 0, 4, 1, 5, 6, 0, 6, 6]"
      ]
     },
     "execution_count": 165,
     "metadata": {},
     "output_type": "execute_result"
    }
   ],
   "source": [
    "test_out = [] # define an empty list for storing values\n",
    "for i in test:\n",
    "    i += 5\n",
    "    i *= 9\n",
    "    i /= 23\n",
    "    i *= i\n",
    "    i -= 432\n",
    "    i = int(i)\n",
    "    i = i % 7\n",
    "    test_out.append(i) # add element to the list when done\n",
    "    \n",
    "test_out"
   ]
  },
  {
   "cell_type": "markdown",
   "id": "41afa629",
   "metadata": {},
   "source": [
    "That's the benefit of loops: it makes your code more flexible and less redundant. I could use this loop to act on any list of numbers; I haven't hard-coded anything about the length or elements of `test` anywhere.\n",
    "\n",
    "### Boolean Logic\n",
    "\n",
    "There are two other types of loops, but using them effectively requires in-depth knowledge of *Boolean logic*. I briefly mentioned the `bool` data type in Lecture 1, which consists of `True` and `False`. These have exactly the meanings you'd expect: a statement that is true returns `True`, whereas a statement that is false returns `False`.\n",
    "\n",
    "We can illustrate this by comparing numbers. The operators `>` and `<` determine whether the value to the left is greater than or less than the value on the right, respectively:"
   ]
  },
  {
   "cell_type": "code",
   "execution_count": 166,
   "id": "3643f060",
   "metadata": {},
   "outputs": [
    {
     "data": {
      "text/plain": [
       "False"
      ]
     },
     "execution_count": 166,
     "metadata": {},
     "output_type": "execute_result"
    }
   ],
   "source": [
    "3 > 9"
   ]
  },
  {
   "cell_type": "code",
   "execution_count": 167,
   "id": "3c656521",
   "metadata": {},
   "outputs": [
    {
     "data": {
      "text/plain": [
       "True"
      ]
     },
     "execution_count": 167,
     "metadata": {},
     "output_type": "execute_result"
    }
   ],
   "source": [
    "3 < 9"
   ]
  },
  {
   "cell_type": "markdown",
   "id": "5c407668",
   "metadata": {},
   "source": [
    "To determine whether two values are equivalent or not, we can use `==` and `!=` respectively:"
   ]
  },
  {
   "cell_type": "code",
   "execution_count": 168,
   "id": "7e5c5cf9",
   "metadata": {},
   "outputs": [
    {
     "data": {
      "text/plain": [
       "True"
      ]
     },
     "execution_count": 168,
     "metadata": {},
     "output_type": "execute_result"
    }
   ],
   "source": [
    "3 + 5 == 8"
   ]
  },
  {
   "cell_type": "code",
   "execution_count": 169,
   "id": "b28304c0",
   "metadata": {},
   "outputs": [
    {
     "data": {
      "text/plain": [
       "False"
      ]
     },
     "execution_count": 169,
     "metadata": {},
     "output_type": "execute_result"
    }
   ],
   "source": [
    "3 + 5 == 9"
   ]
  },
  {
   "cell_type": "code",
   "execution_count": 170,
   "id": "e456e8ec",
   "metadata": {},
   "outputs": [
    {
     "data": {
      "text/plain": [
       "True"
      ]
     },
     "execution_count": 170,
     "metadata": {},
     "output_type": "execute_result"
    }
   ],
   "source": [
    "4 * 7 != 21"
   ]
  },
  {
   "cell_type": "code",
   "execution_count": 171,
   "id": "45227089",
   "metadata": {},
   "outputs": [
    {
     "data": {
      "text/plain": [
       "False"
      ]
     },
     "execution_count": 171,
     "metadata": {},
     "output_type": "execute_result"
    }
   ],
   "source": [
    "4 * 7 != 28"
   ]
  },
  {
   "cell_type": "markdown",
   "id": "9574c5e9",
   "metadata": {},
   "source": [
    "There are also three *Boolean operators* that can conditionally modify the truth values of statements. These follow the same logic as standard truth tables if you're familiar with those.\n",
    "\n",
    "The simplest of these is `not`, which flips the truth value of the statement after it:"
   ]
  },
  {
   "cell_type": "code",
   "execution_count": 172,
   "id": "5d9e45f4",
   "metadata": {},
   "outputs": [
    {
     "data": {
      "text/plain": [
       "False"
      ]
     },
     "execution_count": 172,
     "metadata": {},
     "output_type": "execute_result"
    }
   ],
   "source": [
    "not 3 + 5 == 8"
   ]
  },
  {
   "cell_type": "code",
   "execution_count": 177,
   "id": "9165efed",
   "metadata": {},
   "outputs": [
    {
     "data": {
      "text/plain": [
       "True"
      ]
     },
     "execution_count": 177,
     "metadata": {},
     "output_type": "execute_result"
    }
   ],
   "source": [
    "not 3 > 9"
   ]
  },
  {
   "cell_type": "markdown",
   "id": "5c4b3acf",
   "metadata": {},
   "source": [
    "Another operator is `and`, which returns `True` if all statements are true, or `False` otherwise:"
   ]
  },
  {
   "cell_type": "code",
   "execution_count": 178,
   "id": "b5d9b313",
   "metadata": {},
   "outputs": [
    {
     "data": {
      "text/plain": [
       "True"
      ]
     },
     "execution_count": 178,
     "metadata": {},
     "output_type": "execute_result"
    }
   ],
   "source": [
    "3 + 5 == 8 and 3 < 9"
   ]
  },
  {
   "cell_type": "code",
   "execution_count": 179,
   "id": "bfca8746",
   "metadata": {},
   "outputs": [
    {
     "data": {
      "text/plain": [
       "False"
      ]
     },
     "execution_count": 179,
     "metadata": {},
     "output_type": "execute_result"
    }
   ],
   "source": [
    "3 + 5 > 8 and 3 < 9"
   ]
  },
  {
   "cell_type": "markdown",
   "id": "50bd4014",
   "metadata": {},
   "source": [
    "The last operator is `or`, which returns `True` if at least one statement is true, or `False` if all statements are false:"
   ]
  },
  {
   "cell_type": "code",
   "execution_count": 181,
   "id": "f74acc61",
   "metadata": {},
   "outputs": [
    {
     "data": {
      "text/plain": [
       "True"
      ]
     },
     "execution_count": 181,
     "metadata": {},
     "output_type": "execute_result"
    }
   ],
   "source": [
    "3 + 5 == 8 or 3 < 9"
   ]
  },
  {
   "cell_type": "code",
   "execution_count": 182,
   "id": "d52b4dab",
   "metadata": {},
   "outputs": [
    {
     "data": {
      "text/plain": [
       "True"
      ]
     },
     "execution_count": 182,
     "metadata": {},
     "output_type": "execute_result"
    }
   ],
   "source": [
    "3 + 5 > 8 or 3 < 9"
   ]
  },
  {
   "cell_type": "code",
   "execution_count": 183,
   "id": "5ad8c39e",
   "metadata": {},
   "outputs": [
    {
     "data": {
      "text/plain": [
       "False"
      ]
     },
     "execution_count": 183,
     "metadata": {},
     "output_type": "execute_result"
    }
   ],
   "source": [
    "3 + 5 > 8 or 3 == 9"
   ]
  },
  {
   "cell_type": "markdown",
   "id": "353c850d",
   "metadata": {},
   "source": [
    "These can be combined to create more robust statements. Can you guess the truth value of the statement below?"
   ]
  },
  {
   "cell_type": "code",
   "execution_count": 185,
   "id": "c754495a",
   "metadata": {},
   "outputs": [
    {
     "data": {
      "text/plain": [
       "True"
      ]
     },
     "execution_count": 185,
     "metadata": {},
     "output_type": "execute_result"
    }
   ],
   "source": [
    "(3 + 5 > 9 and not 3 != 9) or (3 * 5 > 10 or not (9/3 == 3 and 4 + 3 != 6))"
   ]
  },
  {
   "cell_type": "markdown",
   "id": "0cb55bde",
   "metadata": {},
   "source": [
    "### `while` Loops\n",
    "\n",
    "With knowledge of Boolean logic in Python, we can now cover the other two loop types. The simpler of these is the `while` loop, which does the operation inside of the loop as long as the *condition* (the statement following `while`) returns `True`. \n",
    "\n",
    "Recall the examples above where we counted the elements in a list `test`. Let's say we wanted to print the first ten elements of `test` to the screen. We can do this with a `while` loop by again defining `counter = 0` outside of the loop. We'll then print the element corresponding to the index `counter` in `test`, and add 1 to `counter` afterwards. Since we want the counter to stop after 10 elements (i.e. after printing `test[9]`), we'll set the condition `while counter < 10`. That way, the loop will run until `counter` is equal to 10, when the statement will become false and the loop will exit."
   ]
  },
  {
   "cell_type": "code",
   "execution_count": 188,
   "id": "29a9bd89",
   "metadata": {},
   "outputs": [
    {
     "name": "stdout",
     "output_type": "stream",
     "text": [
      "0 4\n",
      "1 234\n",
      "2 563\n",
      "3 123\n",
      "4 809\n",
      "5 8\n",
      "6 67\n",
      "7 90\n",
      "8 67\n",
      "9 5\n",
      "Loop finished\n"
     ]
    }
   ],
   "source": [
    "counter = 0\n",
    "while counter < 10:\n",
    "    print(counter, test[counter])\n",
    "    counter += 1\n",
    "print('Loop finished')"
   ]
  },
  {
   "cell_type": "markdown",
   "id": "f13c2fe3",
   "metadata": {},
   "source": [
    "`while` loops are very simple, but you should be very careful when implementing them. One of the most dangerous things you can do when writing a loop is using the statement `while True`. Because a statement like this is hard-coded to never be false, the loop will attempt to run infinitely, with the only way to stop it being a keyboard interrupt or a force close of the program. This is an arbitrary example, but similar statements like `while variable > 0` when `variable` is always negative or `while x > 0 or x <= 0` will cause similar runaway loops. It's up to you as the programmer to catch issues like this before running code.\n",
    "\n",
    "### `if` Loops\n",
    "\n",
    "The final type of loop we'll cover and the one that gives you the most control over conditional statements is the `if` loop. These types of loops will only run if the condition attached to the `if` statement is true. These `if` statements are commonly used within other loops to control when the code should run.\n",
    "\n",
    "For example, let's say I wanted to count how many elements in `test` are even. We can use a `for` loop as before to iterate over each element and define a counter outside the loop to count the instances of these numbers. Inside this loop, we can write an `if` statement that prints the current value to the screen and increments the counter if the value is even (i.e. the value *modulo* 2 is zero, or the remainder of the value divided by 2 is zero)."
   ]
  },
  {
   "cell_type": "code",
   "execution_count": 190,
   "id": "0e8c80d6",
   "metadata": {},
   "outputs": [
    {
     "name": "stdout",
     "output_type": "stream",
     "text": [
      "4\n",
      "234\n",
      "8\n",
      "90\n",
      "56\n",
      "98\n",
      "90\n",
      "56\n",
      "90\n",
      "30\n",
      "768\n",
      "78\n",
      "There are 12 even elements in the list\n"
     ]
    }
   ],
   "source": [
    "counter = 0\n",
    "for i in test:\n",
    "    if i % 2 == 0:\n",
    "        print(i)\n",
    "        counter += 1\n",
    "\n",
    "print('There are {0} even elements in the list'.format(counter))"
   ]
  },
  {
   "cell_type": "markdown",
   "id": "5d024293",
   "metadata": {},
   "source": [
    "The `if` statement above is not a proper loop; it's just an extra condition in the `for` loop that runs code when the condition is true. We can construct a full loop out of `if` statements by implementing the `else` and `elif` keywords. Using these, you can iterate over all of the elements in a sequence even if the initial `if` statement isn't always satisfied. \n",
    "\n",
    "In the example above, we can add an `else` statement that will handle all of the values that don't fulfill the initial `if` statement condition. In this case, we'll have two counters that count the number of even and odd elements respectively. If an element is even, we'll use the `if` statement above to increment the even counter. Otherwise, we'll use an `else` statement to increment the odd counter (since we know an integer that isn't even must be odd)."
   ]
  },
  {
   "cell_type": "code",
   "execution_count": 194,
   "id": "ba65c392",
   "metadata": {},
   "outputs": [
    {
     "name": "stdout",
     "output_type": "stream",
     "text": [
      "There are 12 even elements and 12 odd elements in the list\n"
     ]
    }
   ],
   "source": [
    "even_counter = 0\n",
    "odd_counter = 0\n",
    "for i in test:\n",
    "    if i % 2 == 0: # the code after this statement will only run if the number is even\n",
    "        even_counter += 1\n",
    "    else: # the code after this statement will only run if the number is not even (i.e. odd)\n",
    "        odd_counter += 1\n",
    "\n",
    "print('There are {0} even elements and {1} odd elements in the list'.format(even_counter, odd_counter))"
   ]
  },
  {
   "cell_type": "markdown",
   "id": "3a7be718",
   "metadata": {},
   "source": [
    "Since integers must be either even or odd, we can check that this is working correctly by checking that `even_counter` and `odd_counter` add up to the length of the list, since the list only has integers in it:"
   ]
  },
  {
   "cell_type": "code",
   "execution_count": 195,
   "id": "9ff0790a",
   "metadata": {},
   "outputs": [
    {
     "data": {
      "text/plain": [
       "True"
      ]
     },
     "execution_count": 195,
     "metadata": {},
     "output_type": "execute_result"
    }
   ],
   "source": [
    "even_counter + odd_counter == len(test)"
   ]
  },
  {
   "cell_type": "markdown",
   "id": "50361ae2",
   "metadata": {},
   "source": [
    "Let's add some `float`s to the list and organize it a little bit:"
   ]
  },
  {
   "cell_type": "code",
   "execution_count": 210,
   "id": "419c1b4f",
   "metadata": {},
   "outputs": [],
   "source": [
    "test.append(235.18)\n",
    "test.append(342.89)\n",
    "test.append(789.35)\n",
    "test.append(452.82)\n",
    "test.append(12.47)\n",
    "test.append(75.93)\n",
    "test.sort()"
   ]
  },
  {
   "cell_type": "markdown",
   "id": "1084872a",
   "metadata": {},
   "source": [
    "In general, decimal values have no well-defined definition of parity (i.e. \"even-ness\" or \"odd-ness\"), so our code above will be bugged. That is, the code won't return an error, but it will return the wrong result, since it will erroneously say that all of the new entries are odd. How can we fix this?\n",
    "\n",
    "We can rewrite our code above to cover the three conditions:\n",
    "- the value *modulo* 2 is zero (and, by definition, is an integer)\n",
    "- the value *modulo* 2 is not zero and it is an integer\n",
    "- the value *modulo* 2 is not zero and it is not an integer\n",
    "\n",
    "One way to do this is with an `elif` statement. These are statements placed before the `else` statement and after the `if` statement, so that if the initial if statement fails, we can pass another condition before diverting automatically to all other cases. Here, we can use our initial `if` statement to increment the even counter, then an `elif` statement to increment the odd counter, and finally an `else` statement to cover all other values (i.e. the `float` values that can neither be even nor odd)."
   ]
  },
  {
   "cell_type": "code",
   "execution_count": 201,
   "id": "55e364a8",
   "metadata": {},
   "outputs": [
    {
     "name": "stdout",
     "output_type": "stream",
     "text": [
      "There are 12 even integers, 12 odd integers in the list, and 6 floats\n"
     ]
    }
   ],
   "source": [
    "even_counter = 0\n",
    "odd_counter = 0\n",
    "float_counter = 0\n",
    "for i in test:\n",
    "    if i % 2 == 0: # this code runs if the value is even\n",
    "        even_counter += 1\n",
    "    elif i % 2 != 0 and type(i) == int: # this code runs if the value is odd\n",
    "        odd_counter += 1\n",
    "    else: # this code runs if the value is neither even nor odd\n",
    "        float_counter += 1\n",
    "\n",
    "print('There are {0} even integers, {1} odd integers in the list, and {2} floats'.format(even_counter, odd_counter, float_counter))"
   ]
  },
  {
   "cell_type": "markdown",
   "id": "6a303b43",
   "metadata": {},
   "source": [
    "Again, we can check that we got all the values by comparing to `len(test)`:"
   ]
  },
  {
   "cell_type": "code",
   "execution_count": 202,
   "id": "b7dafe74",
   "metadata": {},
   "outputs": [
    {
     "data": {
      "text/plain": [
       "True"
      ]
     },
     "execution_count": 202,
     "metadata": {},
     "output_type": "execute_result"
    }
   ],
   "source": [
    "even_counter + odd_counter + float_counter == len(test)"
   ]
  },
  {
   "cell_type": "markdown",
   "id": "3ca857c6",
   "metadata": {},
   "source": [
    "This is the simplest structure of a multiconditional `if` statement. You can have as many `elif` statements as you'd like, as long as they're all before the `else` statement.\n",
    "\n",
    "Alternatively, we could use a *nested `if` statement*. Notice that the even and odd counters only increment if the value is an integer. Therefore, we can have one `if` statement that determines whether a value is an `int` or a `float`. Then, if a value satisfies the `int` condition, we can write another `if` statement inside that condition that determines whether a value is even or odd, just as above:"
   ]
  },
  {
   "cell_type": "code",
   "execution_count": 205,
   "id": "a00c81cc",
   "metadata": {},
   "outputs": [
    {
     "name": "stdout",
     "output_type": "stream",
     "text": [
      "There are 12 even integers, 12 odd integers in the list, and 6 floats\n"
     ]
    }
   ],
   "source": [
    "even_counter = 0\n",
    "odd_counter = 0\n",
    "float_counter = 0\n",
    "for i in test:\n",
    "    if type(i) == int: # this code runs if the value is is an integer\n",
    "        if i % 2 == 0: # this code runs if the value is even\n",
    "            even_counter += 1\n",
    "        else: # this code runs if the value is odd\n",
    "            odd_counter += 1\n",
    "    else: # this code runs if the value is the value is not an integer (i.e. a float)\n",
    "        float_counter += 1\n",
    "\n",
    "print('There are {0} even integers, {1} odd integers in the list, and {2} floats'.format(even_counter, odd_counter, float_counter))"
   ]
  }
 ],
 "metadata": {
  "kernelspec": {
   "display_name": "Python 3 (ipykernel)",
   "language": "python",
   "name": "python3"
  },
  "language_info": {
   "codemirror_mode": {
    "name": "ipython",
    "version": 3
   },
   "file_extension": ".py",
   "mimetype": "text/x-python",
   "name": "python",
   "nbconvert_exporter": "python",
   "pygments_lexer": "ipython3",
   "version": "3.9.16"
  }
 },
 "nbformat": 4,
 "nbformat_minor": 5
}
