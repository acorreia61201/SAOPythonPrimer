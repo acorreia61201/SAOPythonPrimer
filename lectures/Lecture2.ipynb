{
 "cells": [
  {
   "cell_type": "markdown",
   "id": "ec71feb2",
   "metadata": {},
   "source": [
    "# SAO/LIP Python Primer Course Lecture 2\n",
    "\n",
    "In this notebook, you will learn about:\n",
    "- Tuples\n",
    "- Lists\n",
    "- Loops\n",
    "- Functions\n",
    "- Dictionaries\n",
    "\n",
    "[![Open In Colab](https://colab.research.google.com/assets/colab-badge.svg)](https://colab.research.google.com/github/acorreia61201/SAOPythonPrimer/blob/main/lectures/Lecture2.ipynb)\n",
    "\n",
    "## Tuples\n",
    "\n",
    "So far, all of the data types we've looked at involve singular values, like numbers or single strings. Oftentimes, especially in scientific programming, you'll want to store or modify multiple values at a time. Python has several data types beyond those we've discussed designed especially for this. \n",
    "\n",
    "The simplest of these is the *tuple*, which can be thought of as ordered sequences of objects. They are denoted by comma-separated lists of items encased in parentheses `()`, as shown below."
   ]
  },
  {
   "cell_type": "code",
   "execution_count": 3,
   "id": "bcc89be2",
   "metadata": {},
   "outputs": [
    {
     "data": {
      "text/plain": [
       "tuple"
      ]
     },
     "execution_count": 3,
     "metadata": {},
     "output_type": "execute_result"
    }
   ],
   "source": [
    "tuple_eg1 = (1, 2, 3)\n",
    "type(tuple_eg1)"
   ]
  },
  {
   "cell_type": "markdown",
   "id": "e05bd4e9",
   "metadata": {},
   "source": [
    "The elements can be of any type (even `tuple`), and the elements in a tuple need not be of the same type. For example:"
   ]
  },
  {
   "cell_type": "code",
   "execution_count": 4,
   "id": "8624b135",
   "metadata": {},
   "outputs": [
    {
     "data": {
      "text/plain": [
       "tuple"
      ]
     },
     "execution_count": 4,
     "metadata": {},
     "output_type": "execute_result"
    }
   ],
   "source": [
    "tuple_eg2 = (2, 3.14159, \"Hello world\", tuple_eg1, True)\n",
    "type(tuple_eg2)"
   ]
  },
  {
   "cell_type": "markdown",
   "id": "ba880788",
   "metadata": {},
   "source": [
    "Let's say we only want a certain element or series of elements in a tuple. We can do this using *indexing*. In Python, the first element in a tuple is defined to have index 0. If we want to access the first element of the tuple above, we can use the following syntax:"
   ]
  },
  {
   "cell_type": "code",
   "execution_count": 5,
   "id": "3ba0ce12",
   "metadata": {},
   "outputs": [
    {
     "data": {
      "text/plain": [
       "2"
      ]
     },
     "execution_count": 5,
     "metadata": {},
     "output_type": "execute_result"
    }
   ],
   "source": [
    "tuple_eg2[0]"
   ]
  },
  {
   "cell_type": "markdown",
   "id": "ecc7ca3d",
   "metadata": {},
   "source": [
    "In general, if we want to access the *n*th element, we use the syntax `tuple[n-1]` to access it. If we want to access the element `tuple_eg1` from above, we would use:"
   ]
  },
  {
   "cell_type": "code",
   "execution_count": 6,
   "id": "76d809f7",
   "metadata": {},
   "outputs": [
    {
     "data": {
      "text/plain": [
       "(1, 2, 3)"
      ]
     },
     "execution_count": 6,
     "metadata": {},
     "output_type": "execute_result"
    }
   ],
   "source": [
    "tuple_eg2[3]"
   ]
  },
  {
   "cell_type": "markdown",
   "id": "d29dfe9c",
   "metadata": {},
   "source": [
    "Consequently, trying to call `tuple[n]` in a tuple of length `n` will throw an error:"
   ]
  },
  {
   "cell_type": "code",
   "execution_count": 7,
   "id": "c52ea5b4",
   "metadata": {},
   "outputs": [
    {
     "ename": "IndexError",
     "evalue": "tuple index out of range",
     "output_type": "error",
     "traceback": [
      "\u001b[0;31m---------------------------------------------------------------------------\u001b[0m",
      "\u001b[0;31mIndexError\u001b[0m                                Traceback (most recent call last)",
      "Cell \u001b[0;32mIn[7], line 1\u001b[0m\n\u001b[0;32m----> 1\u001b[0m \u001b[43mtuple_eg2\u001b[49m\u001b[43m[\u001b[49m\u001b[38;5;241;43m5\u001b[39;49m\u001b[43m]\u001b[49m\n",
      "\u001b[0;31mIndexError\u001b[0m: tuple index out of range"
     ]
    }
   ],
   "source": [
    "tuple_eg2[5]"
   ]
  },
  {
   "cell_type": "markdown",
   "id": "e293afac",
   "metadata": {},
   "source": [
    "The inverse is not true, however. A negative number index will count backwards from the last element. For example, to access the last element, we can use:"
   ]
  },
  {
   "cell_type": "code",
   "execution_count": 8,
   "id": "a9bca4f5",
   "metadata": {},
   "outputs": [
    {
     "data": {
      "text/plain": [
       "True"
      ]
     },
     "execution_count": 8,
     "metadata": {},
     "output_type": "execute_result"
    }
   ],
   "source": [
    "tuple_eg2[-1]"
   ]
  },
  {
   "cell_type": "markdown",
   "id": "6a58a2a2",
   "metadata": {},
   "source": [
    "If we want to call multiple values at once, we can use *slicing*. Slices have the syntax `start:stop:step`, where `start` is the first index listed, `stop` is the index after the last index shown, and `step` is the *step size*, which indicates the spacing between elements. If only one colon `:` is included, the step size defaults to 1. All three options must be integers. For example, to get the second through fourth elements in the above tuple, we can use:"
   ]
  },
  {
   "cell_type": "code",
   "execution_count": 13,
   "id": "42da5e37",
   "metadata": {},
   "outputs": [
    {
     "data": {
      "text/plain": [
       "(3.14159, 'Hello world', (1, 2, 3))"
      ]
     },
     "execution_count": 13,
     "metadata": {},
     "output_type": "execute_result"
    }
   ],
   "source": [
    "tuple_eg2[1:4]"
   ]
  },
  {
   "cell_type": "markdown",
   "id": "27b2bc88",
   "metadata": {},
   "source": [
    "If we want to show every other element from start to end, we can use the following, recalling that index -1 represents the last element:"
   ]
  },
  {
   "cell_type": "code",
   "execution_count": 20,
   "id": "59b16266",
   "metadata": {},
   "outputs": [
    {
     "data": {
      "text/plain": [
       "(2, 'Hello world', True)"
      ]
     },
     "execution_count": 20,
     "metadata": {},
     "output_type": "execute_result"
    }
   ],
   "source": [
    "tuple_eg2[0:-1:2]"
   ]
  },
  {
   "cell_type": "markdown",
   "id": "417e25a6",
   "metadata": {},
   "source": [
    "There are two options to view the first three elements. Using the above syntax:"
   ]
  },
  {
   "cell_type": "code",
   "execution_count": 14,
   "id": "2ada9069",
   "metadata": {},
   "outputs": [
    {
     "data": {
      "text/plain": [
       "(2, 3.14159, 'Hello world')"
      ]
     },
     "execution_count": 14,
     "metadata": {},
     "output_type": "execute_result"
    }
   ],
   "source": [
    "tuple_eg2[0:3]"
   ]
  },
  {
   "cell_type": "markdown",
   "id": "16966c22",
   "metadata": {},
   "source": [
    "We can also leave the first index empty, again noting that the last index is excluded:"
   ]
  },
  {
   "cell_type": "code",
   "execution_count": 16,
   "id": "9c3f630e",
   "metadata": {},
   "outputs": [
    {
     "data": {
      "text/plain": [
       "(2, 3.14159, 'Hello world')"
      ]
     },
     "execution_count": 16,
     "metadata": {},
     "output_type": "execute_result"
    }
   ],
   "source": [
    "tuple_eg2[:3]"
   ]
  },
  {
   "cell_type": "markdown",
   "id": "0b58e000",
   "metadata": {},
   "source": [
    "The same applies for listing the last three elements, except this time the slice includes the first index:"
   ]
  },
  {
   "cell_type": "code",
   "execution_count": 18,
   "id": "53643aeb",
   "metadata": {},
   "outputs": [
    {
     "data": {
      "text/plain": [
       "('Hello world', (1, 2, 3), True)"
      ]
     },
     "execution_count": 18,
     "metadata": {},
     "output_type": "execute_result"
    }
   ],
   "source": [
    "tuple_eg2[2:]"
   ]
  },
  {
   "cell_type": "markdown",
   "id": "9e05b6c1",
   "metadata": {},
   "source": [
    "If we wanted to list the elements in reverse order, we can use the following syntax:"
   ]
  },
  {
   "cell_type": "code",
   "execution_count": 19,
   "id": "721209b6",
   "metadata": {},
   "outputs": [
    {
     "data": {
      "text/plain": [
       "(True, (1, 2, 3), 'Hello world', 3.14159, 2)"
      ]
     },
     "execution_count": 19,
     "metadata": {},
     "output_type": "execute_result"
    }
   ],
   "source": [
    "tuple_eg2[::-1]"
   ]
  },
  {
   "cell_type": "markdown",
   "id": "a2ceab12",
   "metadata": {},
   "source": [
    "If we want to get the total number of elements in a tuple, we can use the built-in function `len`:"
   ]
  },
  {
   "cell_type": "code",
   "execution_count": 9,
   "id": "1e8c0b50",
   "metadata": {},
   "outputs": [
    {
     "data": {
      "text/plain": [
       "5"
      ]
     },
     "execution_count": 9,
     "metadata": {},
     "output_type": "execute_result"
    }
   ],
   "source": [
    "len(tuple_eg2)"
   ]
  },
  {
   "cell_type": "markdown",
   "id": "14c898b4",
   "metadata": {},
   "source": [
    "You can also map values from a tuple to a series of variables as follows:"
   ]
  },
  {
   "cell_type": "code",
   "execution_count": 10,
   "id": "4d636b74",
   "metadata": {},
   "outputs": [
    {
     "name": "stdout",
     "output_type": "stream",
     "text": [
      "1 2 3\n"
     ]
    }
   ],
   "source": [
    "a, b, c = tuple_eg1\n",
    "print(a, b, c)"
   ]
  },
  {
   "cell_type": "markdown",
   "id": "694846ba",
   "metadata": {},
   "source": [
    "However, you need to make sure that the number of variables you're mapping to equals the number of elements in the tuple, or else you'll get an error. (Use `len` to check if you have the right number of variables.)"
   ]
  },
  {
   "cell_type": "code",
   "execution_count": 11,
   "id": "b7e831e5",
   "metadata": {},
   "outputs": [
    {
     "ename": "ValueError",
     "evalue": "too many values to unpack (expected 2)",
     "output_type": "error",
     "traceback": [
      "\u001b[0;31m---------------------------------------------------------------------------\u001b[0m",
      "\u001b[0;31mValueError\u001b[0m                                Traceback (most recent call last)",
      "Cell \u001b[0;32mIn[11], line 1\u001b[0m\n\u001b[0;32m----> 1\u001b[0m d, f \u001b[38;5;241m=\u001b[39m tuple_eg1\n",
      "\u001b[0;31mValueError\u001b[0m: too many values to unpack (expected 2)"
     ]
    }
   ],
   "source": [
    "d, f = tuple_eg1"
   ]
  },
  {
   "cell_type": "markdown",
   "id": "88fd8af8",
   "metadata": {},
   "source": [
    "## Lists\n",
    "\n",
    "Another type that allows for storing multiple values is a `list`. These are also ordered sequences of elements of various types, this time encased in brackets `[]`. You can call elements and get the length in the same way as tuples.\n",
    "\n",
    "So why do we have two different data types that are so similar? The answer lies in what's called *mutability*. Tuples are *immutable*, which means that its elements cannot be modified without redefining the tuple. Lists, meanwhile, are *mutable*, meaning its elements may be modified in-place. This may make lists seem superior, but there is a tradeoff: tuples take up less memory than lists. This tradeoff becomes more noticeable when considering datasets with hundreds or thousands of elements.\n",
    "\n",
    "All of the above notes on indices and slices hold for lists:"
   ]
  },
  {
   "cell_type": "code",
   "execution_count": 21,
   "id": "470d7a27",
   "metadata": {},
   "outputs": [],
   "source": [
    "list_eg = [1, 4, 9, 16]"
   ]
  },
  {
   "cell_type": "code",
   "execution_count": 23,
   "id": "f29523d3",
   "metadata": {},
   "outputs": [
    {
     "data": {
      "text/plain": [
       "4"
      ]
     },
     "execution_count": 23,
     "metadata": {},
     "output_type": "execute_result"
    }
   ],
   "source": [
    "len(list_eg)"
   ]
  },
  {
   "cell_type": "code",
   "execution_count": 24,
   "id": "5470b468",
   "metadata": {},
   "outputs": [
    {
     "data": {
      "text/plain": [
       "4"
      ]
     },
     "execution_count": 24,
     "metadata": {},
     "output_type": "execute_result"
    }
   ],
   "source": [
    "list_eg[1]"
   ]
  },
  {
   "cell_type": "code",
   "execution_count": 25,
   "id": "05095d9f",
   "metadata": {},
   "outputs": [
    {
     "data": {
      "text/plain": [
       "[1, 4, 9]"
      ]
     },
     "execution_count": 25,
     "metadata": {},
     "output_type": "execute_result"
    }
   ],
   "source": [
    "list_eg[0:3]"
   ]
  },
  {
   "cell_type": "code",
   "execution_count": 26,
   "id": "03b66293",
   "metadata": {},
   "outputs": [
    {
     "data": {
      "text/plain": [
       "[1, 9]"
      ]
     },
     "execution_count": 26,
     "metadata": {},
     "output_type": "execute_result"
    }
   ],
   "source": [
    "list_eg[0:-1:2]"
   ]
  },
  {
   "cell_type": "code",
   "execution_count": 28,
   "id": "6b719666",
   "metadata": {},
   "outputs": [
    {
     "data": {
      "text/plain": [
       "[9, 16]"
      ]
     },
     "execution_count": 28,
     "metadata": {},
     "output_type": "execute_result"
    }
   ],
   "source": [
    "list_eg[2:]"
   ]
  },
  {
   "cell_type": "code",
   "execution_count": 29,
   "id": "fb2e787e",
   "metadata": {},
   "outputs": [
    {
     "data": {
      "text/plain": [
       "[16, 9, 4, 1]"
      ]
     },
     "execution_count": 29,
     "metadata": {},
     "output_type": "execute_result"
    }
   ],
   "source": [
    "list_eg[::-1]"
   ]
  },
  {
   "cell_type": "markdown",
   "id": "905e67a2",
   "metadata": {},
   "source": [
    "As promised, there's additional functions that allow you to modify the elements of a list. The simplest way to do this is to reassign individual elements by index:"
   ]
  },
  {
   "cell_type": "code",
   "execution_count": 30,
   "id": "579449b4",
   "metadata": {},
   "outputs": [
    {
     "data": {
      "text/plain": [
       "[3, 4, 9, 16]"
      ]
     },
     "execution_count": 30,
     "metadata": {},
     "output_type": "execute_result"
    }
   ],
   "source": [
    "list_eg[0] = 3\n",
    "list_eg"
   ]
  },
  {
   "cell_type": "markdown",
   "id": "1a38e643",
   "metadata": {},
   "source": [
    "There's some nuance to this, however. If you define a list with another list, modifying one will modify the other."
   ]
  },
  {
   "cell_type": "code",
   "execution_count": 31,
   "id": "77b7312c",
   "metadata": {},
   "outputs": [
    {
     "name": "stdout",
     "output_type": "stream",
     "text": [
      "[1, 4, 9, 16] [1, 4, 9, 16]\n"
     ]
    }
   ],
   "source": [
    "list_mod = list_eg\n",
    "list_mod[0] = 1\n",
    "print(list_mod, list_eg)"
   ]
  },
  {
   "cell_type": "markdown",
   "id": "280af6e1",
   "metadata": {},
   "source": [
    "However, making a copy by using the `list` function will modify only the new list."
   ]
  },
  {
   "cell_type": "code",
   "execution_count": 32,
   "id": "680e7345",
   "metadata": {},
   "outputs": [
    {
     "name": "stdout",
     "output_type": "stream",
     "text": [
      "[3, 4, 9, 16] [1, 4, 9, 16]\n"
     ]
    }
   ],
   "source": [
    "list_mod = list(list_eg)\n",
    "list_mod[0] = 3\n",
    "print(list_mod, list_eg)"
   ]
  },
  {
   "cell_type": "code",
   "execution_count": null,
   "id": "725e8cec",
   "metadata": {},
   "outputs": [],
   "source": []
  }
 ],
 "metadata": {
  "kernelspec": {
   "display_name": "Python 3 (ipykernel)",
   "language": "python",
   "name": "python3"
  },
  "language_info": {
   "codemirror_mode": {
    "name": "ipython",
    "version": 3
   },
   "file_extension": ".py",
   "mimetype": "text/x-python",
   "name": "python",
   "nbconvert_exporter": "python",
   "pygments_lexer": "ipython3",
   "version": "3.9.16"
  }
 },
 "nbformat": 4,
 "nbformat_minor": 5
}
