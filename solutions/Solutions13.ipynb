{
  "nbformat": 4,
  "nbformat_minor": 0,
  "metadata": {
    "colab": {
      "provenance": [],
      "authorship_tag": "ABX9TyPiMrasQnOxdOz0PAUBv1D+",
      "include_colab_link": true
    },
    "kernelspec": {
      "name": "python3",
      "display_name": "Python 3"
    },
    "language_info": {
      "name": "python"
    }
  },
  "cells": [
    {
      "cell_type": "markdown",
      "metadata": {
        "id": "view-in-github",
        "colab_type": "text"
      },
      "source": [
        "<a href=\"https://colab.research.google.com/github/acorreia61201/SAOPythonPrimer/blob/main/solutions/Solutions13.ipynb\" target=\"_parent\"><img src=\"https://colab.research.google.com/assets/colab-badge.svg\" alt=\"Open In Colab\"/></a>"
      ]
    },
    {
      "cell_type": "markdown",
      "source": [
        "# SAO/LIP Python Primer Course Exercise Set 13\n",
        "\n",
        "[![Open In Colab](https://colab.research.google.com/assets/colab-badge.svg)](https://colab.research.google.com/github/acorreia61201/SAOPythonPrimer/blob/main/exercises/Exercises13.ipynb)\n",
        "\n",
        "This is an additional exercise set containing simpler and more modular problems for practicing basic programming skills in Python.\n",
        "\n",
        "Additionally, I've linked extra resources on Python and programming below. This includes general Python lessons as well as the user guides for certain libraries, which I used to help create these lectures.\n",
        "\n",
        "- [Software Carpentry](https://software-carpentry.org/lessons/), a series of lessons covering the basics of scientific programming. There are two sites focused entirely on Python, but there are also links to lessons on Unix, Git, and other languages that may be helpful if you continue on in computer science. I used this personally when learning how to use Python and Unix, so I'd highly recommend it.\n",
        "- There are a lot of other websites like [W3Schools](https://www.w3schools.com/python/) and [TutorialsPoint](https://www.tutorialspoint.com/python/index.htm) that provide some pretty good beginner and intermediate tutorials on Python. They'll also pop up often if you ever look up general questions on Python.\n",
        "- [NumPy user guide](https://numpy.org/doc/stable/user/)\n",
        "- [Matplotlib tutorials](https://matplotlib.org/stable/tutorials/index.html)\n",
        "- [Pandas user guide](https://pandas.pydata.org/docs/user_guide/index.html)\n",
        "- [SciPy user guide](https://docs.scipy.org/doc/scipy/)\n",
        "\n",
        "## Exercise 1: Basic List Calculations\n",
        "\n",
        "We'll start by doing some simple statistical calculations on a list to practice indexing and iteration.\n",
        "\n",
        "**Your task:** Calculate the range of the list below. The *range* is the difference between the highest and lowest values in the list. You can do this either by sorting the list and indexing or using `max()` and `min()`."
      ],
      "metadata": {
        "id": "O76pMabf5G_u"
      }
    },
    {
      "cell_type": "code",
      "execution_count": 2,
      "metadata": {
        "id": "1Wf4-VjK5ET1",
        "colab": {
          "base_uri": "https://localhost:8080/"
        },
        "outputId": "6ddd9706-9de6-4f52-e9ea-00d173ea5990"
      },
      "outputs": [
        {
          "output_type": "execute_result",
          "data": {
            "text/plain": [
              "28"
            ]
          },
          "metadata": {},
          "execution_count": 2
        }
      ],
      "source": [
        "data = [22,15,6,29,10,4,27,11,2,6,19,21,20,17,22,22,1,9,17,22,6,24,7,12,19,4,19,1,9,22]\n",
        "\n",
        "high = max(data) # the maximum value\n",
        "low = min(data) # the minimum value\n",
        "rng = high - low # calculate the range\n",
        "rng"
      ]
    },
    {
      "cell_type": "markdown",
      "source": [
        "**Your task:** Now, find the *midrange* of the list by taking the mean of the highest and lowest values."
      ],
      "metadata": {
        "id": "U-MabTPBA0Pd"
      }
    },
    {
      "cell_type": "code",
      "source": [
        "midrange = (high + low)/2 # calculate as written\n",
        "midrange"
      ],
      "metadata": {
        "id": "gSw5gxyIB44-",
        "colab": {
          "base_uri": "https://localhost:8080/"
        },
        "outputId": "ef3ed7d8-8cf0-4825-b0f6-f3b49cf66582"
      },
      "execution_count": 3,
      "outputs": [
        {
          "output_type": "execute_result",
          "data": {
            "text/plain": [
              "15.0"
            ]
          },
          "metadata": {},
          "execution_count": 3
        }
      ]
    },
    {
      "cell_type": "markdown",
      "source": [
        "**Your task:** Now, take the *mean* of the list. The best way to do this is by using a loop to sum up all the list values, then dividing by the length of the list."
      ],
      "metadata": {
        "id": "OR1TttGrB6Dd"
      }
    },
    {
      "cell_type": "code",
      "source": [
        "datasum = sum(data) # take the sum of the elements\n",
        "avg = datasum/len(data) # divide by number of elements\n",
        "avg"
      ],
      "metadata": {
        "id": "hkc2PBJfCZDr",
        "colab": {
          "base_uri": "https://localhost:8080/"
        },
        "outputId": "976cf6b9-dbac-4c7b-9697-183a20c69ba7"
      },
      "execution_count": 4,
      "outputs": [
        {
          "output_type": "execute_result",
          "data": {
            "text/plain": [
              "14.166666666666666"
            ]
          },
          "metadata": {},
          "execution_count": 4
        }
      ]
    },
    {
      "cell_type": "markdown",
      "source": [
        "**Your task:** Now, find the *standard deviation* of the list. Recall that the standard deviation is defined as follows using the mean $\\mu$:\n",
        "\n",
        "\\begin{equation}\n",
        "\\sigma = \\sqrt{\\frac{\\sum_i (x_i - \\mu)^2}{N}}\n",
        "\\end{equation}\n",
        "\n",
        "We can split this problem up. First, we'll calculate the summation in the numerator. We'll do the following:\n",
        "- Define a placeholder variable (i.e. `sum`) and start a loop that iterates over each element in `data`. The simplest way to do this is with a `for` loop, with which we can loop for each value in `data`.\n",
        "  - At each step of the loop, take the difference between the current step's list value $x_i$ and $\\mu$, and square the result.\n",
        "  - Add this squared result to `sum` at the end of every step."
      ],
      "metadata": {
        "id": "nrELBrm2CcUz"
      }
    },
    {
      "cell_type": "code",
      "source": [
        "sum = 0 # placeholder variable for summation\n",
        "for i in data: # iterate over each element in data\n",
        "    term = i - avg # the current element minus mean\n",
        "    term *= term # square the term\n",
        "    sum += term # add the term to the running total\n",
        "\n",
        "sum"
      ],
      "metadata": {
        "id": "JwshpZ3XCb5C",
        "colab": {
          "base_uri": "https://localhost:8080/"
        },
        "outputId": "2d37d1a8-dd77-42bb-c9a8-c4b8b5dabe19"
      },
      "execution_count": 6,
      "outputs": [
        {
          "output_type": "execute_result",
          "data": {
            "text/plain": [
              "1994.166666666666"
            ]
          },
          "metadata": {},
          "execution_count": 6
        }
      ]
    },
    {
      "cell_type": "markdown",
      "source": [
        "**Your task:** Using the summation you calculated in the previous step, divide by the length of the list. Take the square root of this result (using either an external library or raising to the 0.5 power) to get the standard deviation."
      ],
      "metadata": {
        "id": "c4xS1l2XEfdE"
      }
    },
    {
      "cell_type": "code",
      "source": [
        "stdev = sum / len(data) # divide sum by number of elements\n",
        "stdev = stdev**0.5 # take square root of fraction to get the standard deviation\n",
        "stdev"
      ],
      "metadata": {
        "id": "OQQAMR3TEfx9",
        "colab": {
          "base_uri": "https://localhost:8080/"
        },
        "outputId": "9f589f5b-579d-4d17-ea72-d38d35ec3fbd"
      },
      "execution_count": 8,
      "outputs": [
        {
          "output_type": "execute_result",
          "data": {
            "text/plain": [
              "8.153049872423338"
            ]
          },
          "metadata": {},
          "execution_count": 8
        }
      ]
    },
    {
      "cell_type": "markdown",
      "source": [
        "Now, we'll find the *median* of the list in a series of steps. Recall that there are two conditions we need to consider for whether the list has an even or odd number of values.\n",
        "\n",
        "**Your task:** We'll start with the simpler one: Find the median of the list below, which has an odd number of elements. Take the following steps:\n",
        "\n",
        "- First sort the list numerically.\n",
        "- Then, we have to find the central index, which we can do by taking the integer division of the length of the list by 2.\n",
        "- Once we have that, the median will be the list element with that central index."
      ],
      "metadata": {
        "id": "LDxM8zzvGWA6"
      }
    },
    {
      "cell_type": "code",
      "source": [
        "odd_data = [3, 9, 24, 18, 5, 21, 15]\n",
        "\n",
        "odd_data.sort() # sort the list\n",
        "mid_idx = len(odd_data) // 2 # take integer division of length of list to get index of central value\n",
        "median = odd_data[mid_idx] # get the value at index mid_idx\n",
        "median"
      ],
      "metadata": {
        "id": "mhILqy1zGWYa",
        "colab": {
          "base_uri": "https://localhost:8080/"
        },
        "outputId": "b56baaf9-2c1b-4ac8-a0b3-6dde9d0a94c5"
      },
      "execution_count": 11,
      "outputs": [
        {
          "output_type": "execute_result",
          "data": {
            "text/plain": [
              "15"
            ]
          },
          "metadata": {},
          "execution_count": 11
        }
      ]
    },
    {
      "cell_type": "markdown",
      "source": [
        "**Your task:** Now, we'll look at a list with an even number of elements. The setup is as follows:\n",
        "\n",
        "- Again, sort the list.\n",
        "- We now want two indices in the center. Dividing the length of the list by 2 will give us the upper index, and subtracting one from this will give the lower index.\n",
        "- Once we have those indices, we need to get the elements corresponding to those indices. The median will then be the average (i.e. half the sum) of these elements."
      ],
      "metadata": {
        "id": "dS8wMJ0AH7N4"
      }
    },
    {
      "cell_type": "code",
      "source": [
        "even_data = [5, 24, 14, 7, 9, 13, 10, 4]\n",
        "\n",
        "even_data.sort() # sort the list\n",
        "ridx = len(even_data) // 2 # get the upper middle index\n",
        "lidx = ridx - 1 # get the lower middle index\n",
        "median = (even_data[ridx] + even_data[lidx])/2 # take average of both central values\n",
        "median"
      ],
      "metadata": {
        "id": "kT62RnRRIg0h",
        "colab": {
          "base_uri": "https://localhost:8080/"
        },
        "outputId": "9e36430c-ba02-4b9f-f1a3-dab382805e89"
      },
      "execution_count": 12,
      "outputs": [
        {
          "output_type": "execute_result",
          "data": {
            "text/plain": [
              "9.5"
            ]
          },
          "metadata": {},
          "execution_count": 12
        }
      ]
    },
    {
      "cell_type": "markdown",
      "source": [
        "**Your task:** We'll write these even and odd median finders into a single `if-else` block. Specifically:\n",
        "\n",
        "- If the list has an even number of elements, we find the median using the latter method (i.e. taking the average of the two central values). Recall that we can check if the length of the list is even by taking its *modulo* 2; if the modulus of the length with 2 is zero, the list has an even number of elements.\n",
        "- Otherwise, the list has to have an odd number of elements, and we can use the former method to find the median.\n",
        "\n",
        "Write this as code below to find the median of `data`. All you have to do is make sure the condition on your `if` statement is correct, then you can copy your code from the two cells above into the correct conditions (remember, we want the even method when the `if` statement is satisfied)."
      ],
      "metadata": {
        "id": "HqpEec9vIhHE"
      }
    },
    {
      "cell_type": "code",
      "source": [
        "data.sort() # for convenience, we'll sort the data first; we'll have to do it in both cases anyways\n",
        "\n",
        "if len(data) % 2 == 0: # if data has an even number of elements\n",
        "    # repeat the procedure we carried out for even_data\n",
        "    ridx = len(data) // 2 # get the upper middle index\n",
        "    lidx = ridx - 1 # get the lower middle index\n",
        "    median = (data[ridx] + data[lidx])/2 # take average of both central values\n",
        "else: # if data has an odd number of elements\n",
        "    # repeat the procedure we carried out for odd_data\n",
        "    mid_idx = len(data) // 2 # take integer division of length of list to get index of central value\n",
        "    median = data[mid_idx] # get the value at index mid_idx\n",
        "\n",
        "median"
      ],
      "metadata": {
        "id": "PB1fDQG9KViD",
        "colab": {
          "base_uri": "https://localhost:8080/"
        },
        "outputId": "7e453505-4745-4f51-a9e2-efc60d57e68b"
      },
      "execution_count": 14,
      "outputs": [
        {
          "output_type": "execute_result",
          "data": {
            "text/plain": [
              "16.0"
            ]
          },
          "metadata": {},
          "execution_count": 14
        }
      ]
    },
    {
      "cell_type": "markdown",
      "source": [
        "**Your task:** Finally, *normalize* the list. That is, divide each element by the maximum value such that the maximum value becomes 1. One way to do this is by first picking out the maximum value using `max(data)`. We can then use a loop over the indices of the list `range(len(data))` and modify each element in place by dividing over the max."
      ],
      "metadata": {
        "id": "HP1qoQbnMMgP"
      }
    },
    {
      "cell_type": "code",
      "source": [
        "denom = max(data) # get the maximum value of the list\n",
        "for i in range(len(data)): # iterate over the indices in data\n",
        "    data[i] = data[i] / denom # divide each element by the max value and replace it\n",
        "\n",
        "data"
      ],
      "metadata": {
        "id": "9eRQVZo0MM1b",
        "colab": {
          "base_uri": "https://localhost:8080/"
        },
        "outputId": "48ade2a2-fd67-479b-c55e-70fcb1fa5739"
      },
      "execution_count": 16,
      "outputs": [
        {
          "output_type": "execute_result",
          "data": {
            "text/plain": [
              "[0.034482758620689655,\n",
              " 0.034482758620689655,\n",
              " 0.06896551724137931,\n",
              " 0.13793103448275862,\n",
              " 0.13793103448275862,\n",
              " 0.20689655172413793,\n",
              " 0.20689655172413793,\n",
              " 0.20689655172413793,\n",
              " 0.2413793103448276,\n",
              " 0.3103448275862069,\n",
              " 0.3103448275862069,\n",
              " 0.3448275862068966,\n",
              " 0.3793103448275862,\n",
              " 0.41379310344827586,\n",
              " 0.5172413793103449,\n",
              " 0.5862068965517241,\n",
              " 0.5862068965517241,\n",
              " 0.6551724137931034,\n",
              " 0.6551724137931034,\n",
              " 0.6551724137931034,\n",
              " 0.6896551724137931,\n",
              " 0.7241379310344828,\n",
              " 0.7586206896551724,\n",
              " 0.7586206896551724,\n",
              " 0.7586206896551724,\n",
              " 0.7586206896551724,\n",
              " 0.7586206896551724,\n",
              " 0.8275862068965517,\n",
              " 0.9310344827586207,\n",
              " 1.0]"
            ]
          },
          "metadata": {},
          "execution_count": 16
        }
      ]
    },
    {
      "cell_type": "markdown",
      "source": [
        "## Exercise 2: Indexing and Slicing\n",
        "\n",
        "We'll now practice using various indexing methods to call elements and reorder lists.\n",
        "\n",
        "**Your task:** I've generated a list below. Print out the first two elements using a slice (i.e. `lst[...]`). It may be convenient to also print out `lst` in this cell to see if you're doing it correctly."
      ],
      "metadata": {
        "id": "9ETpd_e09-t1"
      }
    },
    {
      "cell_type": "code",
      "source": [
        "import numpy as np\n",
        "lst = list(np.random.randint(10, size=10))\n",
        "\n",
        "print(lst)\n",
        "lst[0:2] # 0:2 prints elements 0 and 1; the end index is excluded"
      ],
      "metadata": {
        "colab": {
          "base_uri": "https://localhost:8080/"
        },
        "id": "rtCdBayL-BKe",
        "outputId": "74223c46-7463-4839-fe85-af527055df84"
      },
      "execution_count": 21,
      "outputs": [
        {
          "output_type": "stream",
          "name": "stdout",
          "text": [
            "[8, 6, 4, 5, 3, 5, 5, 7, 7, 6]\n"
          ]
        },
        {
          "output_type": "execute_result",
          "data": {
            "text/plain": [
              "[8, 6]"
            ]
          },
          "metadata": {},
          "execution_count": 21
        }
      ]
    },
    {
      "cell_type": "code",
      "source": [
        "# we can also exclude the 0\n",
        "lst[:2]"
      ],
      "metadata": {
        "colab": {
          "base_uri": "https://localhost:8080/"
        },
        "id": "fvYEOVkN6ZrW",
        "outputId": "7367bf91-2050-4a5d-b62b-9fafc8d36a8c"
      },
      "execution_count": 22,
      "outputs": [
        {
          "output_type": "execute_result",
          "data": {
            "text/plain": [
              "[8, 6]"
            ]
          },
          "metadata": {},
          "execution_count": 22
        }
      ]
    },
    {
      "cell_type": "markdown",
      "source": [
        "**Your task:** Print out the third through sixth elements."
      ],
      "metadata": {
        "id": "KnBeM9_GaU39"
      }
    },
    {
      "cell_type": "code",
      "source": [
        "lst[2:6] # 2:6 prints elements 2, 3, 4, 5; recall that the third element has index 2 and the sixth has index 5"
      ],
      "metadata": {
        "id": "DH366HQSaVHT",
        "colab": {
          "base_uri": "https://localhost:8080/"
        },
        "outputId": "cc4ae418-4793-4e20-f5b9-1a0862267529"
      },
      "execution_count": 24,
      "outputs": [
        {
          "output_type": "execute_result",
          "data": {
            "text/plain": [
              "[4, 5, 3, 5]"
            ]
          },
          "metadata": {},
          "execution_count": 24
        }
      ]
    },
    {
      "cell_type": "markdown",
      "source": [
        "**Your task:** Print out the last four elements."
      ],
      "metadata": {
        "id": "SKJoqb1MbXHB"
      }
    },
    {
      "cell_type": "code",
      "source": [
        "lst[-4:] # -4 is the fourth to last element; the empty stop condition takes us to the end"
      ],
      "metadata": {
        "id": "NiVoUH-kbW0N",
        "colab": {
          "base_uri": "https://localhost:8080/"
        },
        "outputId": "a7bf86d0-2be0-430d-eb8c-e255cae166e5"
      },
      "execution_count": 28,
      "outputs": [
        {
          "output_type": "execute_result",
          "data": {
            "text/plain": [
              "[5, 7, 7, 6]"
            ]
          },
          "metadata": {},
          "execution_count": 28
        }
      ]
    },
    {
      "cell_type": "markdown",
      "source": [
        "**Your task:** Print out all but the last three elements."
      ],
      "metadata": {
        "id": "FOr42ofoamSV"
      }
    },
    {
      "cell_type": "code",
      "source": [
        "lst[:-3] # start from 0 and go to the third to last element at -3"
      ],
      "metadata": {
        "id": "0YGujwnrau64",
        "colab": {
          "base_uri": "https://localhost:8080/"
        },
        "outputId": "4a303aee-3264-49ab-b465-84b860b5b6ed"
      },
      "execution_count": 30,
      "outputs": [
        {
          "output_type": "execute_result",
          "data": {
            "text/plain": [
              "[8, 6, 4, 5, 3, 5, 5]"
            ]
          },
          "metadata": {},
          "execution_count": 30
        }
      ]
    },
    {
      "cell_type": "markdown",
      "source": [
        "**Your task:** Print out every even-indexed element (i.e. `lst[0]`, `lst[2]`, etc.) (Hint: this entails every other element starting from index zero)"
      ],
      "metadata": {
        "id": "LhcoA2aJawvS"
      }
    },
    {
      "cell_type": "code",
      "source": [
        "lst[::2] # start from 0, stop at the end, and skip over every other element"
      ],
      "metadata": {
        "id": "m2AYdSm_axCT",
        "colab": {
          "base_uri": "https://localhost:8080/"
        },
        "outputId": "9b3d81ae-d576-4533-89be-c426a657b7fe"
      },
      "execution_count": 31,
      "outputs": [
        {
          "output_type": "execute_result",
          "data": {
            "text/plain": [
              "[8, 4, 3, 5, 7]"
            ]
          },
          "metadata": {},
          "execution_count": 31
        }
      ]
    },
    {
      "cell_type": "markdown",
      "source": [
        "**Your task:** Print out every odd-indexed element (i.e. `lst[1]`, `lst[3]`, ...)."
      ],
      "metadata": {
        "id": "uq-kg-gma6Mv"
      }
    },
    {
      "cell_type": "code",
      "source": [
        "lst[1::2] # start from 1, stop at the end, and skip over every other element"
      ],
      "metadata": {
        "id": "dk4r1t2JbHmM",
        "colab": {
          "base_uri": "https://localhost:8080/"
        },
        "outputId": "7bed2938-af04-43ff-b26c-6ff14aba5258"
      },
      "execution_count": 32,
      "outputs": [
        {
          "output_type": "execute_result",
          "data": {
            "text/plain": [
              "[6, 5, 5, 7, 6]"
            ]
          },
          "metadata": {},
          "execution_count": 32
        }
      ]
    },
    {
      "cell_type": "markdown",
      "source": [
        "**Your task:** Print out every third element in reverse order (i.e. `[lst[9], lst[6], lst[3], lst[0]]`)."
      ],
      "metadata": {
        "id": "jkjpZrf4bIuE"
      }
    },
    {
      "cell_type": "code",
      "source": [
        "lst[::-3] # negative steps count backwards from the end; leave start and stop empty to go over the entire list"
      ],
      "metadata": {
        "id": "E_BvlqyibJQ9",
        "colab": {
          "base_uri": "https://localhost:8080/"
        },
        "outputId": "fcbfef70-3881-4ede-cb2f-03b198d1db8b"
      },
      "execution_count": 33,
      "outputs": [
        {
          "output_type": "execute_result",
          "data": {
            "text/plain": [
              "[6, 5, 5, 8]"
            ]
          },
          "metadata": {},
          "execution_count": 33
        }
      ]
    },
    {
      "cell_type": "markdown",
      "source": [
        "**Your task:** Print out the first, fourth, and seventh elements. (Hint: This is the same as starting from index 0 and incrementing by 3, except we have to modify the end argument to exclude the last element.)"
      ],
      "metadata": {
        "id": "RQKBjut4cIc6"
      }
    },
    {
      "cell_type": "code",
      "source": [
        "lst[0:7:3] # start at 0 and print every third element; the seventh element has index 6, so if we set the stop to 7 we'll stop after printing that element"
      ],
      "metadata": {
        "id": "gChFoelNcI5K",
        "colab": {
          "base_uri": "https://localhost:8080/"
        },
        "outputId": "b8b30b0f-0234-442e-e0fc-72319d98d98d"
      },
      "execution_count": 34,
      "outputs": [
        {
          "output_type": "execute_result",
          "data": {
            "text/plain": [
              "[8, 5, 5]"
            ]
          },
          "metadata": {},
          "execution_count": 34
        }
      ]
    },
    {
      "cell_type": "markdown",
      "source": [
        "**Your task:** Print out the first and last element. (Hint: the step size between the first and last element is equal to the length of the list minus 1)"
      ],
      "metadata": {
        "id": "ESZCr2jCcihe"
      }
    },
    {
      "cell_type": "code",
      "source": [
        "lst[::len(lst)-1] # starting at zero and stepping by len(lst) would take us past the end; using len(lst-1) ensures we stop one before that at the last element"
      ],
      "metadata": {
        "id": "Z1apFnPrci2Z",
        "colab": {
          "base_uri": "https://localhost:8080/"
        },
        "outputId": "05ce1c01-102f-4bd6-f849-4f15d803eb82"
      },
      "execution_count": 36,
      "outputs": [
        {
          "output_type": "execute_result",
          "data": {
            "text/plain": [
              "[8, 6]"
            ]
          },
          "metadata": {},
          "execution_count": 36
        }
      ]
    },
    {
      "cell_type": "markdown",
      "source": [
        "## Exercise 3: Basic Looping\n",
        "\n",
        "We'll do some practice problems to gain some intuition on how we can use loops when programming.\n",
        "\n",
        "**Your task:** Write a `while` loop that prints out the first ten natural numbers. A simple way to do this is to set a variable equal to 1 outside the loop. Then, at each iteration, print the variable out and add 1 to it. The loop should only run as long as the placeholder variable is at most 10, the tenth natural number."
      ],
      "metadata": {
        "id": "b_Fm-sSpqmEw"
      }
    },
    {
      "cell_type": "code",
      "source": [
        "num = 1 # placeholder\n",
        "while num <= 10: # iterate while num is at most 10\n",
        "    print(num) # print the current value\n",
        "    num += 1 # increment the value by 1"
      ],
      "metadata": {
        "id": "Fr2Uxyf4ql0Q",
        "colab": {
          "base_uri": "https://localhost:8080/"
        },
        "outputId": "6a5ed922-929f-46c6-8dd9-9cbda50ffebc"
      },
      "execution_count": 38,
      "outputs": [
        {
          "output_type": "stream",
          "name": "stdout",
          "text": [
            "1\n",
            "2\n",
            "3\n",
            "4\n",
            "5\n",
            "6\n",
            "7\n",
            "8\n",
            "9\n",
            "10\n"
          ]
        }
      ]
    },
    {
      "cell_type": "markdown",
      "source": [
        "**Your task:** Write a `for` loop that counts how many letters are in a word. We can do this by defining a counter as zero to stand in for the number of letters. Iterating over a word will loop over each letter, so for each letter in our string all we have to do is add 1 to the counter. Once the loop is finished, we can print out the counter.\n",
        "\n",
        "Test this with some short words. You may also use longer words like `'civilization'`, which has 12 letters."
      ],
      "metadata": {
        "id": "bqwTdk5nqln5"
      }
    },
    {
      "cell_type": "code",
      "source": [
        "counter = 0 # placeholder for num of letters\n",
        "word = 'civilization' # word to count\n",
        "\n",
        "for i in word: # iterate over each character in word\n",
        "    counter += 1 # add 1 to the counter at each letter\n",
        "\n",
        "counter"
      ],
      "metadata": {
        "id": "eO10wKaTqmo7",
        "colab": {
          "base_uri": "https://localhost:8080/"
        },
        "outputId": "1288cba4-8ff4-44e3-ca57-4afd6a133973"
      },
      "execution_count": 39,
      "outputs": [
        {
          "output_type": "execute_result",
          "data": {
            "text/plain": [
              "12"
            ]
          },
          "metadata": {},
          "execution_count": 39
        }
      ]
    },
    {
      "cell_type": "markdown",
      "source": [
        "**Your task:** Write a `for` loop that populates `lst2` with the types of each element in `lst1`. Recall that we can use `type(a)` to get the datatype of `a`. It will be most useful here to iterate over the elements of `lst1` and append the type of the element to `lst2` at each step.\n",
        "\n"
      ],
      "metadata": {
        "id": "xZ_lNcH7uepE"
      }
    },
    {
      "cell_type": "code",
      "source": [
        "lst1 = [3.14, 66, \"Teddy Bear\", True, [], {}]\n",
        "lst2 = []\n",
        "\n",
        "for i in lst1: # iterate over the populated list\n",
        "    dt = type(i) # get the type of the current element\n",
        "    lst2.append(dt) # append the type to the empty list\n",
        "\n",
        "lst2"
      ],
      "metadata": {
        "id": "UGa745SQue5-",
        "colab": {
          "base_uri": "https://localhost:8080/"
        },
        "outputId": "e3da07a7-1f8f-40c9-ba91-f0cc90fa3f36"
      },
      "execution_count": 40,
      "outputs": [
        {
          "output_type": "execute_result",
          "data": {
            "text/plain": [
              "[float, int, str, bool, list, dict]"
            ]
          },
          "metadata": {},
          "execution_count": 40
        }
      ]
    },
    {
      "cell_type": "markdown",
      "source": [
        "**Your task:** Write a `for` loop that prints out the first 10 multiples of a given value of `n`. For example, if we set `n = 2`, we should get out `2, 4, 6, 8..., 20`. To do this, we can set `n` outside of the loop and iterate over the values from 1 to 10. At each step, we'd then simply take n times the current value and print to screen."
      ],
      "metadata": {
        "id": "jLz8ddV0vJUL"
      }
    },
    {
      "cell_type": "code",
      "source": [
        "n = 2 # value to multiply by\n",
        "\n",
        "for i in range(1, 11): # iterate from 1 to 10\n",
        "    print(n*i) # print the product of the current iteration times the outside value"
      ],
      "metadata": {
        "id": "XjL250ItvJlH",
        "colab": {
          "base_uri": "https://localhost:8080/"
        },
        "outputId": "c99d56ad-87bf-4fa6-c5e0-fc03a4e9c40c"
      },
      "execution_count": 41,
      "outputs": [
        {
          "output_type": "stream",
          "name": "stdout",
          "text": [
            "2\n",
            "4\n",
            "6\n",
            "8\n",
            "10\n",
            "12\n",
            "14\n",
            "16\n",
            "18\n",
            "20\n"
          ]
        }
      ]
    },
    {
      "cell_type": "markdown",
      "source": [
        "**Your task:** Write a `for` loop that iterates over a list of numbers (you can generate one manually) and applies the following operations:\n",
        "\n",
        "- Multiply the value by 4\n",
        "- Add 12\n",
        "- Multiply by 2\n",
        "- Add 16\n",
        "- Divide by 8\n",
        "- Subtract the original number\n",
        "\n",
        "After applying this series of operations, print out the value. To check, every value should return 5."
      ],
      "metadata": {
        "id": "0YlmqQGnv82s"
      }
    },
    {
      "cell_type": "code",
      "source": [
        "lst = list(range(1, 100, 5)) # generating a list of values\n",
        "\n",
        "for i in lst: # iterate over the list\n",
        "    original = i # save the original value\n",
        "    i *= 4 # multiply by 4\n",
        "    i += 12 # add 12\n",
        "    i *= 2 # multiply by 2\n",
        "    i += 16 # add 16\n",
        "    i /= 8 # divide by 8\n",
        "    i -= original # subtract original number\n",
        "    print(i) # print the value"
      ],
      "metadata": {
        "id": "9_oztTVtv9Jf",
        "colab": {
          "base_uri": "https://localhost:8080/"
        },
        "outputId": "238c2457-f69e-4792-fb84-7bee6f90d284"
      },
      "execution_count": 42,
      "outputs": [
        {
          "output_type": "stream",
          "name": "stdout",
          "text": [
            "5.0\n",
            "5.0\n",
            "5.0\n",
            "5.0\n",
            "5.0\n",
            "5.0\n",
            "5.0\n",
            "5.0\n",
            "5.0\n",
            "5.0\n",
            "5.0\n",
            "5.0\n",
            "5.0\n",
            "5.0\n",
            "5.0\n",
            "5.0\n",
            "5.0\n",
            "5.0\n",
            "5.0\n",
            "5.0\n"
          ]
        }
      ]
    },
    {
      "cell_type": "markdown",
      "source": [
        "**Your task:** Write a `for` loop that calculates the factorial of a natural number (i.e. integer greater than zero). We can do so with the following:\n",
        "\n",
        "- Define the number you want to take the factorial of as well as a placeholder variable set to 1, meant to represent the factorial.\n",
        "- Iterate from 1 to the number.\n",
        "  - At each step, multiply the current number to the placeholder variable.\n",
        "- When we're done, print the placeholder variable; this is the factorial.\n",
        "\n",
        "To check, the first few factorials are $1!=1, 2!=2, 3!=6, 4!=24, 5!=120$. Only worry about integers greater than zero."
      ],
      "metadata": {
        "id": "bFcxlfmfxTOS"
      }
    },
    {
      "cell_type": "code",
      "source": [
        "fact = 1 # placeholder for factorial\n",
        "n = 5 # value to take factorial of\n",
        "\n",
        "for i in range(1, n+1): # iterate from 1 to n\n",
        "    fact *= i # multiply placeholder by current iteration value\n",
        "\n",
        "fact"
      ],
      "metadata": {
        "id": "VzTcFbb_xT-b",
        "colab": {
          "base_uri": "https://localhost:8080/"
        },
        "outputId": "6f49f25b-6fc7-4c7b-9809-b9c2d87b0264"
      },
      "execution_count": 44,
      "outputs": [
        {
          "output_type": "execute_result",
          "data": {
            "text/plain": [
              "120"
            ]
          },
          "metadata": {},
          "execution_count": 44
        }
      ]
    },
    {
      "cell_type": "markdown",
      "source": [
        "## Exercise 4: Recreating Builtin Functions\n",
        "\n",
        "We'll get in some practice with writing functions by replicating some builtins we've used throughout the course.\n",
        "\n",
        "**Your task:** We'll start by writing a function that replicates `pow()`. Recall that `pow(a, b)` raises `a` to the power of `b`. Write a function `my_pow(a, b)` that returns `a` raised to the power `b`.\n",
        "\n",
        "Test it with some known values. For example, `pow(2, 3)` returns 8, `pow(3, 3)` returns 27, and `pow(5, 2)` returns 25."
      ],
      "metadata": {
        "id": "fBOtfDws-DNZ"
      }
    },
    {
      "cell_type": "code",
      "source": [
        "def my_pow(a, b):\n",
        "    return a**b # raise a to the power of b\n",
        "\n",
        "# testing\n",
        "my_pow(5, 2)"
      ],
      "metadata": {
        "id": "bbQe_fI_-E6f",
        "colab": {
          "base_uri": "https://localhost:8080/"
        },
        "outputId": "b18a9bbb-9317-4f09-9aa0-c4e99299d7f8"
      },
      "execution_count": 45,
      "outputs": [
        {
          "output_type": "execute_result",
          "data": {
            "text/plain": [
              "25"
            ]
          },
          "metadata": {},
          "execution_count": 45
        }
      ]
    },
    {
      "cell_type": "markdown",
      "source": [
        "**Your task:** Now, let's write a function `my_len(l)` that returns the length of an input list `l`. To do this:\n",
        "\n",
        "- We can define a placeholder variable inside the function along with a `for` loop that iterates over each element in `l`.\n",
        "  - At each step of the `for` loop, all we have to do is add 1 to the placeholder to signify an additional element.\n",
        "- After exiting the loop (i.e. after reaching the end of the list), we'll end the funciton with a `return` statement that returns the value of the placeholder.\n",
        "\n",
        "Test this with some short lists (you can generate them yourself manually) to see if you get back the correct number of elements."
      ],
      "metadata": {
        "id": "_KUIX-aHehio"
      }
    },
    {
      "cell_type": "code",
      "source": [
        "def my_len(l):\n",
        "    count = 0 # placeholder for length\n",
        "    for i in l: # iterate over each element in l\n",
        "        count += 1 # add 1 to the counter for each element\n",
        "    return count\n",
        "\n",
        "my_len([1, 2, 3, 4, 5])"
      ],
      "metadata": {
        "id": "AUyqOl9TegnO",
        "colab": {
          "base_uri": "https://localhost:8080/"
        },
        "outputId": "14bc2be9-a08c-437e-939e-dfea44cc77b4"
      },
      "execution_count": 46,
      "outputs": [
        {
          "output_type": "execute_result",
          "data": {
            "text/plain": [
              "5"
            ]
          },
          "metadata": {},
          "execution_count": 46
        }
      ]
    },
    {
      "cell_type": "markdown",
      "source": [
        "**Your task:** Now, let's write a function `my_abs(a)` that takes the absolute value of an input number `a`. We can do this with two conditions that encompass all real numbers:\n",
        "\n",
        "- If `a` is greater than or equal to zero, we'll just return `a`.\n",
        "- If `a` is less than zero, we'll return negative `a`.\n",
        "\n",
        "Test this with some positive and negative numbers; the output should always be greater than or equal to zero."
      ],
      "metadata": {
        "id": "m3HoHCgxegWf"
      }
    },
    {
      "cell_type": "code",
      "source": [
        "def my_abs(a):\n",
        "    if a >= 0: # a is a positive number or zero\n",
        "        return a # a and its abs val are equal, so just return it\n",
        "    else: # otherwise, a is a negative number (can also be explicit and use 'if a < 0:' here)\n",
        "        return -a # make a positive to get its abs val\n",
        "\n",
        "print(my_abs(-5.2))\n",
        "print(my_abs(5.2))"
      ],
      "metadata": {
        "id": "Z-5LdyqBgTKF",
        "colab": {
          "base_uri": "https://localhost:8080/"
        },
        "outputId": "3ee01cb1-0fbd-446a-a318-a0550a13366d"
      },
      "execution_count": 47,
      "outputs": [
        {
          "output_type": "stream",
          "name": "stdout",
          "text": [
            "5.2\n",
            "5.2\n"
          ]
        }
      ]
    },
    {
      "cell_type": "markdown",
      "source": [
        "**Your task:** Now, let's write a function `my_max(l)` that returns the maximum value of an input list `l`. We can do this in the following way:\n",
        "\n",
        "- At the start of the function, define a variable `m = l[0]`, the first element of `l`.\n",
        "- Start a `for` loop that iterates over every element in `l`.\n",
        "  - At each step, check if the current element is strictly greater than `m`.\n",
        "    - If the current value is greater than `m`, replace the value of `m` with that value.\n",
        "    - Otherwise, `pass` so that `m` remains the same\n",
        "- Once the loop exits, return `m`.\n",
        "\n",
        "Test this with some manually generated lists. You should get the maximum value every time."
      ],
      "metadata": {
        "id": "5LFP2IxogUGs"
      }
    },
    {
      "cell_type": "code",
      "source": [
        "def my_max(l):\n",
        "    m = l[0] # placeholder for max element; initially define it as the first element\n",
        "    for i in l: # iterate over each element in l\n",
        "        if i > m: # check if current element is greater than m\n",
        "            m = i # if so, set m to this element\n",
        "        else:\n",
        "            pass # otherwise, just move on to the next element\n",
        "    return m # after the loop, return the value of m\n",
        "\n",
        "test = [4, 10, 3, 7, 15, 9, 1]\n",
        "my_max(test)"
      ],
      "metadata": {
        "id": "6I4_GmB3gUcj",
        "colab": {
          "base_uri": "https://localhost:8080/"
        },
        "outputId": "cd082e58-4e60-4b4a-8a25-b6088a7378fc"
      },
      "execution_count": 48,
      "outputs": [
        {
          "output_type": "execute_result",
          "data": {
            "text/plain": [
              "15"
            ]
          },
          "metadata": {},
          "execution_count": 48
        }
      ]
    },
    {
      "cell_type": "markdown",
      "source": [
        "**Your task:** We'll do a similar task as above by writing a function `my_min(l)` that returns the minimum value in an input list `l`. The logic is mostly the same:\n",
        "\n",
        "- At the start of the function, define a variable `m = l[0]` and start a loop that iterates over every element in `l`.\n",
        "  - Now at each step, check if the current element is strictly less than `m`.\n",
        "    - If so, redefine `m` as the current element\n",
        "    - Otherwise, `pass`\n",
        "- Return `m` outside of the `for` loop.\n",
        "\n",
        "Test this with some manually generated lists or the ones you may have used above. You should get the minimum value every time."
      ],
      "metadata": {
        "id": "wxQfURcQhQa4"
      }
    },
    {
      "cell_type": "code",
      "source": [
        "def my_min(l):\n",
        "    m = l[0] # placeholder for min element; initially define it as the first element\n",
        "    for i in l: # iterate over each element in l\n",
        "        if i < m: # check if current element is less than m\n",
        "            m = i # if so, set m to this element\n",
        "        else:\n",
        "            pass # otherwise, just move on to the next element\n",
        "    return m # after the loop, return the value of m\n",
        "\n",
        "test = [4, 10, 3, 7, 15, 9, 1]\n",
        "my_min(test)"
      ],
      "metadata": {
        "id": "kHfHdMuLhQtl",
        "colab": {
          "base_uri": "https://localhost:8080/"
        },
        "outputId": "0f9d65ff-1d73-4474-cf87-aba1e8d71c59"
      },
      "execution_count": 50,
      "outputs": [
        {
          "output_type": "execute_result",
          "data": {
            "text/plain": [
              "1"
            ]
          },
          "metadata": {},
          "execution_count": 50
        }
      ]
    },
    {
      "cell_type": "markdown",
      "source": [
        "**Your task:** Finally, we'll write a function `my_range(stop, start = 0, step = 1)` that returns a list of integers from `start` to `stop - 1` with step size `step`. We can do this in the following way:\n",
        "\n",
        "- Define a placeholder empty list.\n",
        "- Start a `while` loop that iterates while `start` is strictly less than `stop`.\n",
        "  - At each step, append the current value of `start` to the placeholder list.\n",
        "  - After this, add `step` to `start`.\n",
        "- Once the loop finishes, return the placeholder list.\n",
        "\n",
        "Test this with some inputs:\n",
        "- `my_range(5)` should return `[0, 1, 2, 3, 4]`.\n",
        "- `my_range(start=2, stop=7)` should return `[2, 3, 4, 5, 6]`.\n",
        "- `my_range(start=4, stop=12, step=3)` should return `[4, 7, 10]`."
      ],
      "metadata": {
        "id": "0ST4ry1wh3fG"
      }
    },
    {
      "cell_type": "code",
      "source": [
        "def my_range(stop, start=0, step=1): # the inputs are a little different from range(), but remember we have to put defaults after arbitrary inputs\n",
        "    rng = [] # placeholder list\n",
        "    while start < stop: # iterate until start is equal to or greater than stop; we'll be updating start on each step\n",
        "        rng.append(start) # append the current value of start to the placeholder list\n",
        "        start += step # increment start by the step value\n",
        "    return rng # return the list after the loop\n",
        "\n",
        "my_range(5)"
      ],
      "metadata": {
        "id": "twfh12g3h3x9",
        "colab": {
          "base_uri": "https://localhost:8080/"
        },
        "outputId": "6a46fe2f-2ea0-4e0f-b1dd-f8e177be71d3"
      },
      "execution_count": 51,
      "outputs": [
        {
          "output_type": "execute_result",
          "data": {
            "text/plain": [
              "[0, 1, 2, 3, 4]"
            ]
          },
          "metadata": {},
          "execution_count": 51
        }
      ]
    },
    {
      "cell_type": "code",
      "source": [
        "my_range(start=2, stop = 7)"
      ],
      "metadata": {
        "colab": {
          "base_uri": "https://localhost:8080/"
        },
        "id": "TwnSZsGKRz34",
        "outputId": "72b86251-692f-426f-8862-fd2e4ba8e606"
      },
      "execution_count": 52,
      "outputs": [
        {
          "output_type": "execute_result",
          "data": {
            "text/plain": [
              "[2, 3, 4, 5, 6]"
            ]
          },
          "metadata": {},
          "execution_count": 52
        }
      ]
    },
    {
      "cell_type": "code",
      "source": [
        "my_range(start=4, stop=12, step=3)"
      ],
      "metadata": {
        "colab": {
          "base_uri": "https://localhost:8080/"
        },
        "id": "N2kiMGEKRzuJ",
        "outputId": "a5f52152-e350-4d6d-b83e-a44a4ac6a4d2"
      },
      "execution_count": 53,
      "outputs": [
        {
          "output_type": "execute_result",
          "data": {
            "text/plain": [
              "[4, 7, 10]"
            ]
          },
          "metadata": {},
          "execution_count": 53
        }
      ]
    },
    {
      "cell_type": "markdown",
      "source": [
        "## Exercise 5: Triangular Numbers, deconstructed\n",
        "\n",
        "We'll revisit the problem on square triangular numbers from an earlier exercise set. This time, we'll go through it step-by-step to get a better understanding of how to think through a problem like this. We'll also get more practice with loops and functions.\n",
        "\n",
        "**Your task:** A triangular number is defined as follows:\n",
        "\n",
        "\\begin{equation}\n",
        "T_n = \\sum_{i=1}^n i = 1 + 2 + 3 + \\cdots + n\n",
        "\\end{equation}\n",
        "\n",
        "In simpler terms, each triangular number $T_n$ is defined as the sum of all positive integers from 1 to $n$.\n",
        "\n",
        "Write a loop that computes and returns the first 10 triangular numbers. A good way to write this would be to define two placeholder variables: one which acts as the running total, and one which acts as a counter. Then, on each iteration:\n",
        "\n",
        "- Increment the counter by one\n",
        "- Add the counter to the running total\n",
        "- Print the running total value\n",
        "\n",
        "This will continue until the counter is greater than or equal to 10, after which the loop should stop."
      ],
      "metadata": {
        "id": "Nf-kVOpO-HE7"
      }
    },
    {
      "cell_type": "code",
      "source": [
        "trinum = 0 # placeholder for triangular number\n",
        "counter = 0 # placeholder for increment\n",
        "\n",
        "while counter < 10: # iterate until counter is at least 10\n",
        "    counter += 1 # increment the counter by one\n",
        "    trinum += counter # increment the running total by counter\n",
        "    print(trinum) # print its value"
      ],
      "metadata": {
        "id": "PuocxAlTKrxD",
        "colab": {
          "base_uri": "https://localhost:8080/"
        },
        "outputId": "d504c98d-ce39-4dec-d726-02e5a9fb988c"
      },
      "execution_count": 59,
      "outputs": [
        {
          "output_type": "stream",
          "name": "stdout",
          "text": [
            "1\n",
            "3\n",
            "6\n",
            "10\n",
            "15\n",
            "21\n",
            "28\n",
            "36\n",
            "45\n",
            "55\n"
          ]
        }
      ]
    },
    {
      "cell_type": "markdown",
      "source": [
        "**Your task:** A square number is defined as an integer that is the product of some other integer with itself. That is, if we take the square root of a perfect square, we will get an integer.\n",
        "\n",
        "Write a function `is_square(n)` that returns a Boolean based on whether or not the input is a perfect square (i.e. return `True` if the number is a perfect square and `False` otherwise).\n",
        "\n",
        "One property we should take advantage of is the fact that no matter the datatype of the number, an integer's `floor()` and `ceil()` values (accessible via `math` or `numpy`) will be equivalent. So, we could:\n",
        "\n",
        "- take the floor and ceiling of the square root of the input\n",
        "- compare them using a Boolean operator\n",
        "- return the truth value of that Boolean operator"
      ],
      "metadata": {
        "id": "LL9pZiygMgCr"
      }
    },
    {
      "cell_type": "code",
      "source": [
        "import math as m\n",
        "\n",
        "def is_square(n):\n",
        "    root = m.sqrt(n) # take square root of the value\n",
        "    up = m.ceil(root) # round sqrt up to nearest int\n",
        "    down = m.floor(root) # round sqrt down to nearest int\n",
        "    return up == down # return the truth value of whether the ceil and floor are equal\n",
        "\n",
        "# testing\n",
        "print(is_square(35))\n",
        "print(is_square(36))"
      ],
      "metadata": {
        "id": "4LaG8AFOMff0",
        "colab": {
          "base_uri": "https://localhost:8080/"
        },
        "outputId": "60c6a2cd-0efd-405f-c864-4efa5c73e7bc"
      },
      "execution_count": 58,
      "outputs": [
        {
          "output_type": "stream",
          "name": "stdout",
          "text": [
            "False\n",
            "True\n"
          ]
        }
      ]
    },
    {
      "cell_type": "markdown",
      "source": [
        "**Your task:** Now, let's populate a list with the first eleven numbers that are both perfect squares and triangular numbers. We'll take the following steps:\n",
        "\n",
        "- Create an empty list `square_tri` for storing the values.\n",
        "- Copy in our loop from above that printed out the first 10 triangular numbers, this time getting rid of the print statement. We'll also have to modify the stop condition so that the loop stops when the placeholder list has at least eleven values in it. This way, the loop will keep generating triangular numbers in order until it finds 11 perfect squares.\n",
        "  - After calculating the triangular number on each step, test if the number is square using `is_square()`\n",
        "    - If it is, we'll print its value and append it to the placeholder list.\n",
        "    - If not, we'll just `pass` the value.\n",
        "\n",
        "For reference, the triangular numbers 1, 36, and 1225 are perfect squares."
      ],
      "metadata": {
        "id": "uIHwBd_HOC33"
      }
    },
    {
      "cell_type": "code",
      "source": [
        "square_tri = [] # placeholder list\n",
        "\n",
        "# copied from above:\n",
        "trinum = 0 # placeholder for triangular number\n",
        "counter = 0 # placeholder for increment\n",
        "\n",
        "while len(square_tri) < 11: # modified condition: iterate until list has 11 elements\n",
        "    counter += 1 # increment the counter by one\n",
        "    trinum += counter # increment the running total by counter\n",
        "\n",
        "    # instead of printing, we'll now do the test for perfect squares\n",
        "    if is_square(trinum): # test if the running total is a perfect square\n",
        "        square_tri.append(trinum) # add the value to the list if so\n",
        "    else:\n",
        "        pass # otherwise do nothing (note: this isn't required, but it may be useful to write it out explicitly)\n",
        "\n",
        "square_tri"
      ],
      "metadata": {
        "id": "PNhAtH2NOCYd",
        "colab": {
          "base_uri": "https://localhost:8080/"
        },
        "outputId": "54cab4cb-b313-46d9-ed28-233cedf09f09"
      },
      "execution_count": 60,
      "outputs": [
        {
          "output_type": "execute_result",
          "data": {
            "text/plain": [
              "[1,\n",
              " 36,\n",
              " 1225,\n",
              " 41616,\n",
              " 1413721,\n",
              " 48024900,\n",
              " 1631432881,\n",
              " 55420693056,\n",
              " 1882672131025,\n",
              " 63955431761796,\n",
              " 2172602007770041]"
            ]
          },
          "metadata": {},
          "execution_count": 60
        }
      ]
    },
    {
      "cell_type": "markdown",
      "source": [
        "**Your task:** We now want to find the ratios between each square triangular number in `square_tri` and its previous neighbor. To do this, we'll define a new empty list `ratios` and write a loop that iterates over every index in the list we generated above. A convenient way to do this is to iterate for each number in `range(len(square_tri))`. We can then find the ratios in one of two ways:\n",
        "\n",
        "1. At each step, we can divide the current element by its previous neighbor. This is equivalent to `square_tri[i] / square_tri[i-1]`. Notice that if `i = 0`, the denominator would be the last element `square_tri[-1]`, so we'll need to include an `if` statement that passes over this first element.\n",
        "\n",
        "2. We can also divide the next value by the current value. This is equivalent to `square_tri[i+1] / square_tri[i]`. Notice that if `i = len(square_tri) - 1`, the next element won't exist, so we'll need to include an `if` statement that passes over the last element.\n",
        "\n",
        "Use one of the two strategies above to find the ratios of the square triangular elements. For reference, the first two ratios will be $36/1$ and $1225/36$, based on the first three elements above."
      ],
      "metadata": {
        "id": "F979CXInG03c"
      }
    },
    {
      "cell_type": "code",
      "source": [
        "# omitting the first element\n",
        "ratios = [] # placeholder list\n",
        "\n",
        "for i in range(len(square_tri)):\n",
        "    if i == 0:\n",
        "        pass # omit the first element\n",
        "    else:\n",
        "        ratios.append(square_tri[i]/square_tri[i-1]) # append ratio of current element divided by previous element\n",
        "\n",
        "ratios"
      ],
      "metadata": {
        "id": "ZPHudXxvIPgT",
        "colab": {
          "base_uri": "https://localhost:8080/"
        },
        "outputId": "6c346659-4eb3-4221-bf92-1569ce345140"
      },
      "execution_count": 62,
      "outputs": [
        {
          "output_type": "execute_result",
          "data": {
            "text/plain": [
              "[36.0,\n",
              " 34.02777777777778,\n",
              " 33.972244897959186,\n",
              " 33.97061226451365,\n",
              " 33.97056420609158,\n",
              " 33.970562791385305,\n",
              " 33.97056274974024,\n",
              " 33.970562748514325,\n",
              " 33.97056274847824,\n",
              " 33.97056274847717]"
            ]
          },
          "metadata": {},
          "execution_count": 62
        }
      ]
    },
    {
      "cell_type": "code",
      "source": [
        "# omitting the last element\n",
        "ratios = [] # placeholder list\n",
        "\n",
        "for i in range(len(square_tri)):\n",
        "    if i == len(square_tri) - 1:\n",
        "        pass # omit the last element (remember this has index len - 1)\n",
        "    else:\n",
        "        ratios.append(square_tri[i+1]/square_tri[i]) # append ratio of next element divided by current element\n",
        "\n",
        "ratios"
      ],
      "metadata": {
        "colab": {
          "base_uri": "https://localhost:8080/"
        },
        "id": "KmaIn4A8VyQ3",
        "outputId": "80944cd6-78e2-4c28-87ab-c71f5e0c1eb7"
      },
      "execution_count": 63,
      "outputs": [
        {
          "output_type": "execute_result",
          "data": {
            "text/plain": [
              "[36.0,\n",
              " 34.02777777777778,\n",
              " 33.972244897959186,\n",
              " 33.97061226451365,\n",
              " 33.97056420609158,\n",
              " 33.970562791385305,\n",
              " 33.97056274974024,\n",
              " 33.970562748514325,\n",
              " 33.97056274847824,\n",
              " 33.97056274847717]"
            ]
          },
          "metadata": {},
          "execution_count": 63
        }
      ]
    },
    {
      "cell_type": "markdown",
      "source": [
        "**Your task:** Number theory states that the ratios above tend to a specific value:\n",
        "\n",
        "\\begin{equation}\n",
        "\\lim_{i \\rightarrow \\infty} \\frac{N_{i+1}}{N_i} = (1 + \\sqrt{2})^4\n",
        "\\end{equation}\n",
        "\n",
        "To verify this, we can calculate the absolute error between this value and the ratios we calculated above:\n",
        "\n",
        "\\begin{equation}\n",
        "\\bigg| \\frac{N_{i+1}}{N_i} - (1 + \\sqrt{2})^4 \\bigg|\n",
        "\\end{equation}\n",
        "\n",
        "Create a new empty list `abs_errs`. To populate this list, write a loop that will take every element of `ratios`, calculates the absolute error using the second expression, and appends the value to `abs_errs`. It may be convenient to define the right-hand side of the limit equation as its own variable outside the loop and call it at each step."
      ],
      "metadata": {
        "id": "lffDqSnLIRLx"
      }
    },
    {
      "cell_type": "code",
      "source": [
        "abs_errs = [] # placeholder list\n",
        "lim = (1 + m.sqrt(2))**4 # limit from first equation, defined outside the loop for convenience\n",
        "\n",
        "for i in ratios:\n",
        "    ae = abs(i - lim) # calculate second expression\n",
        "    abs_errs.append(ae)\n",
        "\n",
        "abs_errs"
      ],
      "metadata": {
        "id": "0KbGnfFYIQtJ",
        "colab": {
          "base_uri": "https://localhost:8080/"
        },
        "outputId": "3039b47a-a3f7-485d-e435-80af370bec38"
      },
      "execution_count": 64,
      "outputs": [
        {
          "output_type": "execute_result",
          "data": {
            "text/plain": [
              "[2.0294372515228645,\n",
              " 0.05721502930064304,\n",
              " 0.0016821494820504768,\n",
              " 4.9516036511931816e-05,\n",
              " 1.4576144451439177e-06,\n",
              " 4.290816946195264e-08,\n",
              " 1.2631033996512997e-09,\n",
              " 3.7189806789683644e-11,\n",
              " 1.1013412404281553e-12,\n",
              " 3.552713678800501e-14]"
            ]
          },
          "metadata": {},
          "execution_count": 64
        }
      ]
    }
  ]
}