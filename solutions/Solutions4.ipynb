{
  "cells": [
    {
      "cell_type": "markdown",
      "metadata": {
        "id": "view-in-github",
        "colab_type": "text"
      },
      "source": [
        "<a href=\"https://colab.research.google.com/github/acorreia61201/SAOPythonPrimer/blob/main/Solutions4.ipynb\" target=\"_parent\"><img src=\"https://colab.research.google.com/assets/colab-badge.svg\" alt=\"Open In Colab\"/></a>"
      ]
    },
    {
      "cell_type": "markdown",
      "id": "9f5e8456",
      "metadata": {
        "id": "9f5e8456"
      },
      "source": [
        "# SAO/LIP Python Primer Course Exercise Set 4\n",
        "\n",
        "[![Open In Colab](https://colab.research.google.com/assets/colab-badge.svg)](https://colab.research.google.com/github/acorreia61201/SAOPythonPrimer/blob/main/exercises/Exercises4.ipynb)\n",
        "\n",
        "## Exercise 1: Wind Chill\n",
        "\n",
        "*Wind chill* is a perceived decrease in air temperature due to wind, applicable to when the temperature is particularly cold. There's a fitted formula for calculating the apparent air temperature given a wind speed $v$ in miles per hour and air temperature $T$ in Fahrenheit:\n",
        "\n",
        "\\begin{equation}\n",
        "T_{WC} = 35.74 + 0.6215T - 35.75v^{0.16} + 0.4275Tv^{0.16}\n",
        "\\end{equation}\n",
        "\n",
        "**Your task:** Define a function that takes in $T, v$ as inputs and outputs the perceived temperature when accounting for wind chill. For now, fix $T$ to some value between -50 and 50, either with a global declaration or a default parameter. \n",
        "\n",
        "Then, generate an array of 15 $v$ values ranging from 0 to 60 mph. Iterate over this array and calculate the perceived temperatures for each wind speed for your chosen temperature value. Try changing $T$ and seeing how your values change."
      ]
    },
    {
      "cell_type": "code",
      "execution_count": 8,
      "id": "54f6b221",
      "metadata": {
        "id": "54f6b221",
        "colab": {
          "base_uri": "https://localhost:8080/"
        },
        "outputId": "f67ba85f-bacb-4765-eae2-9ced2df921bb"
      },
      "outputs": [
        {
          "output_type": "stream",
          "name": "stdout",
          "text": [
            "55.628\n",
            "27.771532169596373\n",
            "24.50432678096747\n",
            "22.41826208285481\n",
            "20.85392022281215\n",
            "19.589952928194137\n",
            "18.52318696642436\n",
            "17.59665069469402\n",
            "16.775367926650723\n",
            "16.036236276038633\n",
            "15.363153525430079\n",
            "14.744423855859587\n",
            "14.17126963701147\n",
            "13.636925882755623\n",
            "13.136062577649774\n"
          ]
        }
      ],
      "source": [
        "import numpy as np\n",
        "\n",
        "def windchill(T, v):\n",
        "    return 35.74 + 0.6215*T - 35.75*v**0.16 + 0.4275*T*v**0.16\n",
        "\n",
        "vels = np.linspace(0, 60, 15) # list of 15 velocities between 0 and 60\n",
        "\n",
        "for i in vels: # iterate over each velocity we defined above\n",
        "    print(windchill(32, i)) # print the value at 32 degrees F"
      ]
    },
    {
      "cell_type": "markdown",
      "id": "148cd660",
      "metadata": {
        "id": "148cd660"
      },
      "source": [
        "The above formula is only valid for Fahrenheit temperature values and mph velocity values. Rather than write a whole new function, it would be convenient if our existing function could take in different units for $T$ and $v$.\n",
        "\n",
        "**Your task:** Add three default parameters to your function above: `input_temp = 'F'`, `output_temp = 'F'`, and `input_speed = 'miles'`. Add additional logic to the function to do the following:\n",
        "\n",
        "- If `input_temp == 'C'`, convert the input temperature to Fahrenheit:\n",
        "\n",
        "\\begin{equation}\n",
        "T_F = (9T_C/5) + 32\n",
        "\\end{equation}\n",
        "\n",
        "- If `input_speed == 'meters'`, convert the input wind speed to miles per hour:\n",
        "\n",
        "\\begin{equation}\n",
        "v_{mph} = v_{m/s} * 3600 / 1609\n",
        "\\end{equation}\n",
        "\n",
        "- If `output_temp == 'C'`, convert the output temperature to Celsius:\n",
        "\n",
        "\\begin{equation}\n",
        "T_C = 5(T_F - 32)/9\n",
        "\\end{equation}\n",
        "\n",
        "- If the parameters are set to default, your code should work the same as before. That is, if I set `input temp = C` and `input_speed = 'meters'` but keep `output_temp = 'F'`, the function should convert the inputs and output a Fahrenheit value as before. \n",
        "\n",
        "If you'd like, you can add additional logic to print an error message if the default inputs don't have the above values (e.g. if I input `input_temp = 'L'`).\n",
        "\n",
        "To test this, select a Celsius temperature value between -40 and 10. Generate an array of 15 speed values between 0 and 100 meters per second and iterate over it, calculating the perceived temperatures in Celsius at your chosen temperature using your modified function."
      ]
    },
    {
      "cell_type": "code",
      "execution_count": 11,
      "id": "5a234365",
      "metadata": {
        "id": "5a234365",
        "colab": {
          "base_uri": "https://localhost:8080/"
        },
        "outputId": "b5395371-345b-427f-d10d-c1759a5c524d"
      },
      "outputs": [
        {
          "output_type": "stream",
          "name": "stdout",
          "text": [
            "13.126666666666667\n",
            "-5.9766500254342265\n",
            "-8.217223367938011\n",
            "-9.647797940812008\n",
            "-10.720587145424968\n",
            "-11.587386470614073\n",
            "-12.318949715750245\n",
            "-12.954346706256878\n",
            "-13.517563295927031\n",
            "-14.024442563060354\n",
            "-14.486027033250501\n",
            "-14.91033742667746\n",
            "-15.303393237727526\n",
            "-15.669833736291176\n",
            "-16.013314122790373\n"
          ]
        }
      ],
      "source": [
        "def windchill(T, v, input_temp='F', output_temp='F', input_speed='miles'):\n",
        "    if input_temp == 'C':\n",
        "        T = 9*T/5 + 32 # convert input temperature to C\n",
        "    if input_speed == 'meters':\n",
        "        v = v*3600/1609 # convert input speed to mph\n",
        "    feel = 35.74 + 0.6215*T - 35.75*v**0.16 + 0.4275*T*v**0.16 # calculate feel temp\n",
        "    if output_temp == 'C':\n",
        "        feel = 5*(feel - 32)/9 # convert output temperature to C\n",
        "    return feel\n",
        "\n",
        "vels = np.linspace(0, 100, 15) # 15 values between 0 and 100 m/s\n",
        "\n",
        "for i in vels: # iterate over vels\n",
        "    print(windchill(0, i, input_temp='C', input_speed='meters', output_temp='C')) # default params specify input of C and m/s, output of C"
      ]
    },
    {
      "cell_type": "markdown",
      "id": "78490f45",
      "metadata": {
        "id": "78490f45"
      },
      "source": [
        "## Exercise 2: Grading a Class\n",
        "\n",
        "Let's pretend I recently proctored a test and have to submit grades. The students' grades are below:"
      ]
    },
    {
      "cell_type": "code",
      "execution_count": 2,
      "id": "13645956",
      "metadata": {
        "id": "13645956"
      },
      "outputs": [],
      "source": [
        "grades = {'Alice': 51, 'Ben': 90, 'Carlos': 47, 'Tim': 87, 'Eddy': 72, 'Rita': 83, 'Emma': 95,\n",
        "          'Alex': 44, 'Sydney': 74, 'May': 42, 'Greg': 76, 'Maya': 71, 'Laura': 81, 'Matthew': 45, \n",
        "          'Madison': 54, 'Eric': 46, 'Zach': 60, 'Sam': 85, 'Cole': 65, 'Natalie': 57}"
      ]
    },
    {
      "cell_type": "markdown",
      "id": "ce0e87ca",
      "metadata": {
        "id": "ce0e87ca"
      },
      "source": [
        "A lot of them didn't do too well, so I want to scale their grades so they have a better chance of passing the class.\n",
        "\n",
        "**Your task:** To start, I want to try adding a flat amount to everyone's grades. Write a loop that adds 15 points to everyone's grade. Do this in a new dictionary so we can use the original values later. Print out the student and their grade on each iteration."
      ]
    },
    {
      "cell_type": "code",
      "execution_count": 16,
      "id": "ee3eef9d",
      "metadata": {
        "id": "ee3eef9d",
        "colab": {
          "base_uri": "https://localhost:8080/"
        },
        "outputId": "d25b5ed4-9584-4ba5-8586-6682a2e0e984"
      },
      "outputs": [
        {
          "output_type": "stream",
          "name": "stdout",
          "text": [
            "Alice got a 66 on the test\n",
            "Ben got a 105 on the test\n",
            "Carlos got a 62 on the test\n",
            "Tim got a 102 on the test\n",
            "Eddy got a 87 on the test\n",
            "Rita got a 98 on the test\n",
            "Emma got a 110 on the test\n",
            "Alex got a 59 on the test\n",
            "Sydney got a 89 on the test\n",
            "May got a 57 on the test\n",
            "Greg got a 91 on the test\n",
            "Maya got a 86 on the test\n",
            "Laura got a 96 on the test\n",
            "Matthew got a 60 on the test\n",
            "Madison got a 69 on the test\n",
            "Eric got a 61 on the test\n",
            "Zach got a 75 on the test\n",
            "Sam got a 100 on the test\n",
            "Cole got a 80 on the test\n",
            "Natalie got a 72 on the test\n"
          ]
        }
      ],
      "source": [
        "add_grades = {} # empty dict to populate\n",
        "for student, grade in grades.items(): # iterate over each key, value pair\n",
        "    new_grade = grade + 15 # add 15 to current grade\n",
        "    add_grades[student] = new_grade # append new grade to placeholder dict keyed by student name\n",
        "    print(f'{student} got a {new_grade} on the test') # print student and their new grade"
      ]
    },
    {
      "cell_type": "markdown",
      "id": "40c1eed2",
      "metadata": {
        "id": "40c1eed2"
      },
      "source": [
        "Turns out that's not a very good strategy. It definitely helps out the lower-performing students, but now the students that got mid to high B's now get a better than perfect score.\n",
        "\n",
        "**Your task:** Let's try a different strategy. Write a loop that adds 15 percent of the points the students lost back to their grade. Again, print out the students and their grade on each iteration."
      ]
    },
    {
      "cell_type": "code",
      "execution_count": 4,
      "id": "f360da7c",
      "metadata": {
        "id": "f360da7c",
        "colab": {
          "base_uri": "https://localhost:8080/"
        },
        "outputId": "357034df-a081-4dd1-ad91-acca2e6155eb"
      },
      "outputs": [
        {
          "output_type": "stream",
          "name": "stdout",
          "text": [
            "Alice got a 58.35 on the test\n",
            "Ben got a 91.5 on the test\n",
            "Carlos got a 54.95 on the test\n",
            "Tim got a 88.95 on the test\n",
            "Eddy got a 76.2 on the test\n",
            "Rita got a 85.55 on the test\n",
            "Emma got a 95.75 on the test\n",
            "Alex got a 52.4 on the test\n",
            "Sydney got a 77.9 on the test\n",
            "May got a 50.7 on the test\n",
            "Greg got a 79.6 on the test\n",
            "Maya got a 75.35 on the test\n",
            "Laura got a 83.85 on the test\n",
            "Matthew got a 53.25 on the test\n",
            "Madison got a 60.9 on the test\n",
            "Eric got a 54.1 on the test\n",
            "Zach got a 66.0 on the test\n",
            "Sam got a 87.25 on the test\n",
            "Cole got a 70.25 on the test\n",
            "Natalie got a 63.45 on the test\n"
          ]
        }
      ],
      "source": [
        "percent_grades = {} # empty dict to populate\n",
        "for student, grade in grades.items(): # iterate over each key, value pair\n",
        "    new_grade = grade + (0.15*(100-grade)) # add 15% of lost points\n",
        "    percent_grades[student] = new_grade # add grade to placeholder dict keyed by student\n",
        "    print(f'{student} got a {new_grade} on the test') # print student and their new grade"
      ]
    },
    {
      "cell_type": "markdown",
      "id": "59a1927f",
      "metadata": {
        "id": "59a1927f"
      },
      "source": [
        "This one's a little better since it ensures no student can get more than 100, but it doesn't help out the worst-performing students that much.\n",
        "\n",
        "**Your task:** Let's try a hybrid approach. I'll add back either 20\\% of the points a student lost or 10 flat points; whichever is lesser. If a student got at least a 90, I'll keep their grade as-is; chances are they won't notice the extra boost anyways. Write a loop that will apply these changes to the students' grades and print the results as before."
      ]
    },
    {
      "cell_type": "code",
      "execution_count": 6,
      "id": "3f71e30b",
      "metadata": {
        "id": "3f71e30b",
        "colab": {
          "base_uri": "https://localhost:8080/"
        },
        "outputId": "63eb620f-f25b-4d46-c7dc-cba5d6819bac"
      },
      "outputs": [
        {
          "output_type": "stream",
          "name": "stdout",
          "text": [
            "Alice got a 60.8 on the test\n",
            "Ben got a 90 on the test\n",
            "Carlos got a 57 on the test\n",
            "Tim got a 89.6 on the test\n",
            "Eddy got a 77.6 on the test\n",
            "Rita got a 86.4 on the test\n",
            "Emma got a 95 on the test\n",
            "Alex got a 54 on the test\n",
            "Sydney got a 79.2 on the test\n",
            "May got a 52 on the test\n",
            "Greg got a 80.8 on the test\n",
            "Maya got a 76.8 on the test\n",
            "Laura got a 84.8 on the test\n",
            "Matthew got a 55 on the test\n",
            "Madison got a 63.2 on the test\n",
            "Eric got a 56 on the test\n",
            "Zach got a 68.0 on the test\n",
            "Sam got a 88.0 on the test\n",
            "Cole got a 72.0 on the test\n",
            "Natalie got a 65.6 on the test\n"
          ]
        }
      ],
      "source": [
        "hybrid_grades = {} # placeholder dict\n",
        "for student, grade in grades.items():\n",
        "    flat = 10 # flat 10 points\n",
        "    percent = (100 - grade)*.20 # 20% of missing score\n",
        "    if grade >= 90:\n",
        "        new_grade = grade # if student got more than 90, no change to grade\n",
        "    else:\n",
        "        if flat >= percent:\n",
        "            new_grade = grade + percent # scale by percent if it's less than flat\n",
        "        else:\n",
        "            new_grade = grade + flat # scale by flat if it's less than percent\n",
        "    hybrid_grades[student] = new_grade # add new grade to placeholder keyed by student\n",
        "    print(f'{student} got a {new_grade} on the test') # print out student and grade"
      ]
    },
    {
      "cell_type": "markdown",
      "id": "12552977",
      "metadata": {
        "id": "12552977"
      },
      "source": [
        "This strategy works out pretty well, so I think I'll stick with these new grades. When handing back the tests, I want to attach a letter grade so the students can get a rough idea of how they did at a glance. The class has the following grading policy:\n",
        "\n",
        "- A student gets an A if their grade is between 90 and 100\n",
        "- A student gets a B if their grade is between 80 and 89\n",
        "- A student gets a C if their grade is between 70 and 79\n",
        "- A student gets a D if their grade is between 60 and 69\n",
        "- A student gets an F if their grade is less than a 60\n",
        "\n",
        "**Your task:** Create a new dictionary by converting the students' scaled number grades to letter grades. Use a loop to iterate over the scaled grade dictionary."
      ]
    },
    {
      "cell_type": "code",
      "execution_count": 31,
      "id": "3938efe5",
      "metadata": {
        "id": "3938efe5",
        "colab": {
          "base_uri": "https://localhost:8080/"
        },
        "outputId": "1dfa4e53-b6cd-4f24-8690-7b61a905d3a5"
      },
      "outputs": [
        {
          "output_type": "stream",
          "name": "stdout",
          "text": [
            "Alice's score is a D\n",
            "Ben's score is a A\n",
            "Carlos's score is a F\n",
            "Tim's score is a B\n",
            "Eddy's score is a C\n",
            "Rita's score is a B\n",
            "Emma's score is a A\n",
            "Alex's score is a F\n",
            "Sydney's score is a C\n",
            "May's score is a F\n",
            "Greg's score is a B\n",
            "Maya's score is a C\n",
            "Laura's score is a B\n",
            "Matthew's score is a F\n",
            "Madison's score is a D\n",
            "Eric's score is a F\n",
            "Zach's score is a D\n",
            "Sam's score is a B\n",
            "Cole's score is a C\n",
            "Natalie's score is a D\n"
          ]
        }
      ],
      "source": [
        "letter_grades = {} # placeholder\n",
        "for name, grade in hybrid_grades.items(): # iterate over each key, value\n",
        "    if grade >= 90 and grade <= 100: # A range\n",
        "        let = 'A'\n",
        "    elif grade >= 80 and grade < 90: # B range\n",
        "        let = 'B'\n",
        "    elif grade >= 70 and grade < 80: # C range\n",
        "        let = 'C'\n",
        "    elif grade >= 60 and grade < 70: # D range\n",
        "        let = 'D'\n",
        "    else: # F range\n",
        "        let = 'F'\n",
        "    letter_grades[name] = let # append letter to placeholder keyed by name\n",
        "    print(f\"{name}'s score is a {let}\") # print the students' grades"
      ]
    },
    {
      "cell_type": "markdown",
      "id": "3838c967",
      "metadata": {
        "id": "3838c967"
      },
      "source": [
        "## Exercise 3: Numerical Integration, Part 1\n",
        "\n",
        "Another common problem that require an algorithmic treatment on computers is *integration*, which most basically is the method of computing the areas under arbitrary curves. While integration can be relatively simple to do by-hand, computational integration requires a bit more thought to implement. \n",
        "\n",
        "Fortunately, there are several tried-and-true methods to approximate integrals algorithmically. One of these methods is the *trapezoidal method*, which calculates the area under a curve using trapezoids that approximate the true function. (If you're unfamiliar, see https://en.wikipedia.org/wiki/Trapezoidal_rule for some pictoral examples.) \n",
        "\n",
        "If we want to integrate a function $f(x)$ on an interval $(a, b)$, we can instead divide the interval into a series of $N$ trapezoids of equal width $\\Delta x$. The \"tilted\" side of the trapezoid is a linear fit to the left and right bounds of the trapezoid. Using this concept, we can write an algorithm to approximate an integral as:\n",
        "\n",
        "\\begin{equation}\n",
        "\\int_a^b f(x) dx \\approx \\frac{\\Delta x}{2} \\big(f(x_0) + 2f(x_1) + 2f(x_2) + 2f(x_3) + ... + f(x_N) \\big)\n",
        "\\end{equation}\n",
        "\n",
        "For this exercise, you can take:\n",
        "\n",
        "\\begin{equation}\n",
        "\\Delta x = \\frac{b-a}{N-1}\n",
        "\\end{equation}\n",
        "\n",
        "**Your task:** We'll construct a function to apply the trapezoidal rule piecewise. In the function `trapezoidal()` below, write some code that will return a grid of $N$ evenly spaced values over the interval $[a, b]$. Test it with a simple example; if you run `trapezoidal(0, 10, 11)`, you should get a grid of integers from 0 to 10 (albeit represented as floats; don't worry about type casting with `dtype`)."
      ]
    },
    {
      "cell_type": "code",
      "execution_count": 9,
      "id": "35edaf95",
      "metadata": {
        "id": "35edaf95",
        "colab": {
          "base_uri": "https://localhost:8080/"
        },
        "outputId": "acf4eead-14f1-4d38-a4e1-0cb5995ac269"
      },
      "outputs": [
        {
          "output_type": "execute_result",
          "data": {
            "text/plain": [
              "array([ 0.,  1.,  2.,  3.,  4.,  5.,  6.,  7.,  8.,  9., 10.])"
            ]
          },
          "metadata": {},
          "execution_count": 9
        }
      ],
      "source": [
        "# in my original version, I interpreted N as the number of points. If you wanted to do that, you would just\n",
        "# use N-1 in place of N to get the number of trapezoids.\n",
        "\n",
        "import numpy as np\n",
        "\n",
        "def trapezoidal(a, b, N, f=None):\n",
        "    grid = np.linspace(a, b, N+1) # grid of N numbers from a to b\n",
        "    return grid\n",
        "\n",
        "trapezoidal(0, 10, 10)"
      ]
    },
    {
      "cell_type": "markdown",
      "id": "db277201",
      "metadata": {
        "id": "db277201"
      },
      "source": [
        "You'll notice that I set a default parameter `f`; this will be the function we want to integrate. To start simple, we'll use a relatively simple function:\n",
        "\n",
        "\\begin{equation}\n",
        "f(x) = x^2\n",
        "\\end{equation}\n",
        "\n",
        "**Your task:** Write a function that simply returns the value of $f(x)$ below."
      ]
    },
    {
      "cell_type": "code",
      "execution_count": 11,
      "id": "1b21b2d8",
      "metadata": {
        "id": "1b21b2d8"
      },
      "outputs": [],
      "source": [
        "def square(x):\n",
        "    return x**2"
      ]
    },
    {
      "cell_type": "markdown",
      "id": "46e721c2",
      "metadata": {
        "id": "46e721c2"
      },
      "source": [
        "**Your task:** Now, modify `trapezoidal` to include a `for` loop iterating over your grid from above that applies the trapezoidal rule. (Hint: It will be useful to calculate the first and last terms outside of the loop; perhaps you could define a variable `integral` representing the full sum whose initial value is `f(a) + f(b)`). The function should return the value of the integral.\n",
        "\n",
        "Test your function by approximating the following integral:\n",
        "\n",
        "\\begin{equation}\n",
        "\\int_0^1 x^2 dx\n",
        "\\end{equation}\n",
        "\n",
        "We know that the exact value of the above expression is $1/3$; does your code above come close to this? Try increasing $N$ to see if the result improves."
      ]
    },
    {
      "cell_type": "code",
      "execution_count": 17,
      "id": "f270e0ce",
      "metadata": {
        "id": "f270e0ce",
        "colab": {
          "base_uri": "https://localhost:8080/"
        },
        "outputId": "76a89a69-aa1f-41e2-9657-dcd2e1f00d32"
      },
      "outputs": [
        {
          "output_type": "execute_result",
          "data": {
            "text/plain": [
              "0.33333349999999995"
            ]
          },
          "metadata": {},
          "execution_count": 17
        }
      ],
      "source": [
        "# disregard the second hint; it would be better to iterate over the indices in np.linspace().\n",
        "# if we didn't have a grid, we would use that strategy to iterate\n",
        "\n",
        "def trapezoidal(a, b, N, f):\n",
        "    grid = np.linspace(a, b, N+1) # grid of numbers\n",
        "    dx = (b-a)/N # spacing\n",
        "    integral = f(a) + f(b) # initial value of counter\n",
        "    for i in range(1, N): # iterate from 1 to N-1\n",
        "        integral += 2*f(grid[i]) # increment x by dx and add the contribution to the integral\n",
        "    return integral*dx/2 # multiply by prefactor\n",
        "\n",
        "trapezoidal(0, 1, 1000, square) # use 1000 trapezoids from 0 to 1\n",
        "\n",
        "'''\n",
        "A good way to check this would be to use a small N value and evaluate by-hand. Let's try with N=2.\n",
        "This will produce 3 points, [0, 0.5, 1], which each have a spacing (1-0)/2 = 0.5. Then, plugging into the\n",
        "above formula:\n",
        "\n",
        "0.5/2*(0**2 + 2*0.5**2 + 1**2) = 0.375\n",
        "\n",
        "So, if you use trapezoidal(0, 1, 2, square), you should get out 0.375. You should use this strategy whenever\n",
        "writing an algorithm as a sanity check to make sure you're coding it right.\n",
        "'''"
      ]
    },
    {
      "cell_type": "markdown",
      "id": "a4d22a10",
      "metadata": {
        "id": "a4d22a10"
      },
      "source": [
        "**Your task:** Write another function that returns the value of the *normal distribution*:\n",
        "\n",
        "\\begin{equation}\n",
        "f(x) = \\frac{1}{\\sqrt{2\\pi}}e^{-\\frac{x^2}{2}}\n",
        "\\end{equation}\n",
        "\n",
        "Use `trapezoidal()` to estimate the integral of this function on the interval $[a, b] = [-1, 1]$. Since this is a normal distribution with a standard deviation of 1, this integral should work out to $\\sim 0.6827$. Does your estimate come close? Try increasing $N$ and see what happens."
      ]
    },
    {
      "cell_type": "code",
      "execution_count": 22,
      "id": "039c14c6",
      "metadata": {
        "id": "039c14c6",
        "colab": {
          "base_uri": "https://localhost:8080/"
        },
        "outputId": "96d61c50-7305-47ae-deb2-9c775ebd8031"
      },
      "outputs": [
        {
          "output_type": "execute_result",
          "data": {
            "text/plain": [
              "0.6826893308232487"
            ]
          },
          "metadata": {},
          "execution_count": 22
        }
      ],
      "source": [
        "import numpy as np\n",
        "pi = np.pi\n",
        "\n",
        "def norm(x):\n",
        "    return np.exp(-x*x/2)/np.sqrt(2*pi)\n",
        "\n",
        "trapezoidal(-1, 1, 1000, norm) # evaluate integral with 1000 trapezoids from -1 to 1\n",
        "\n",
        "'''\n",
        "Again, you can scale down the problem to make sure you got it right. Using N=2 will give an array [-1, 0, 1]\n",
        "with dx = 1, and computing the trapezoidal rule should give:\n",
        "\n",
        "1/2*(exp(-1/2) + 2*exp(0) + exp(-1/2))/sqrt(2pi) = 0.64091300492...\n",
        "\n",
        "Inputting trapezoidal(-1, 1, 2, norm) should give the above value.\n",
        "'''"
      ]
    },
    {
      "cell_type": "markdown",
      "id": "b95a0f49",
      "metadata": {
        "id": "b95a0f49"
      },
      "source": [
        "## Exercise 4: Numerical Integration, Part 2\n",
        "\n",
        "Another numerical integration algorithm is *Monte-Carlo integration* (https://en.wikipedia.org/wiki/Monte_Carlo_integration). This method essentially counts the number of points in a uniform random distribution that lie inside the area we want to calculate. As the number of points approaches infinity, the integral estimate should approach the true value.\n",
        "\n",
        "This strategy is most useful when calculating multivariate integrals, such as the areas of shapes. Consequently, one popular use for the Monte-Carlo method is estimating the value of $\\pi$ by estimating the area of a circle. We'll estimate $\\pi$ using a Monte-Carlo integrator by developing a function piecewise.\n",
        "\n",
        "**Your task:** Write a function `monte_carlo()` that generates two random arrays of $N$ numbers ranging from -1 to 1. These will represent the $x$ and $y$ values in the formula below. You'll need a random number generator for this; see the docs for `numpy.random.uniform()` here: https://numpy.org/doc/stable/reference/random/generated/numpy.random.uniform.html."
      ]
    },
    {
      "cell_type": "code",
      "execution_count": 44,
      "id": "eb88d861",
      "metadata": {
        "id": "eb88d861"
      },
      "outputs": [],
      "source": [
        "def monte_carlo(N):\n",
        "    x = np.random.uniform(-1, 1, N) # randomized x values\n",
        "    y = np.random.uniform(-1, 1, N) # randomized y values"
      ]
    },
    {
      "cell_type": "markdown",
      "id": "f56951a3",
      "metadata": {
        "id": "f56951a3"
      },
      "source": [
        "The algorithm for general 2D Monte-Carlo integration is as follows:\n",
        "\n",
        "\\begin{equation}\n",
        "\\int_c^d \\int_a^b f(x, y)dxdy = \\lim_{N \\rightarrow \\infty} \\frac{V}{N}\\sum_{i=1}^N f(x_i, y_i)\n",
        "\\end{equation}\n",
        "\n",
        "Here, $V$ is the volume of the sample space $(b-a) \\times (d-c)$. The arrays above will stand in for our values of $x$ and $y$, and since they both vary over $[-1, 1]$, the value of $V$ will be $(1+1) \\times (1+1) = 4$. \n",
        "\n",
        "**Your task:** Modify `monte_carlo()` so that it computes the integral of a function using the Monte-Carlo method. Your algorithm should use the array of random points you generated above."
      ]
    },
    {
      "cell_type": "code",
      "execution_count": 47,
      "id": "04a7c1c4",
      "metadata": {
        "id": "04a7c1c4"
      },
      "outputs": [],
      "source": [
        "def monte_carlo(N, f):\n",
        "    x = np.random.uniform(-1, 1, N) # randomized x values\n",
        "    y = np.random.uniform(-1, 1, N) # randomized y values\n",
        "    integral = 0 # placeholder for integral\n",
        "    for i in range(N): # iterate over indices [0, N-1]\n",
        "        integral += f(x[i], y[i]) # add the contribution each (x,y) pair\n",
        "    return integral*4/N # multiply by prefactor"
      ]
    },
    {
      "cell_type": "markdown",
      "id": "ed9e96dd",
      "metadata": {
        "id": "ed9e96dd"
      },
      "source": [
        "For this example, we'll set $f(x, y)$ to be the *Heaviside function*, which will measure whether a point lies in the unit circle:\n",
        "\n",
        "\\begin{equation}\n",
        "f(x, y) = \n",
        "\\begin{cases}\n",
        "1, &\\sqrt{x^2 + y^2} \\leq 1 \\\\\n",
        "0, &otherwise\n",
        "\\end{cases}\n",
        "\\end{equation}\n",
        "\n",
        "**Your task:** Modify the function above to calculate the Heaviside function above using the two random arrays being generated. Then, output the expression in the limit on the right hand side."
      ]
    },
    {
      "cell_type": "code",
      "execution_count": 53,
      "id": "854c4b3b",
      "metadata": {
        "id": "854c4b3b",
        "colab": {
          "base_uri": "https://localhost:8080/"
        },
        "outputId": "6dfc5853-ea7c-41a6-9c04-3ff6521ccfa5"
      },
      "outputs": [
        {
          "output_type": "execute_result",
          "data": {
            "text/plain": [
              "3.32"
            ]
          },
          "metadata": {},
          "execution_count": 53
        }
      ],
      "source": [
        "def step(x, y):\n",
        "    if np.sqrt(x**2 + y**2) <= 1: # point is inside circle\n",
        "        val = 1\n",
        "    else: # point is outside of circle\n",
        "        val = 0\n",
        "    return val\n",
        "\n",
        "# example of how to use the functions; rerunning this cell should change the value\n",
        "monte_carlo(100, step)"
      ]
    },
    {
      "cell_type": "markdown",
      "id": "f55c24e2",
      "metadata": {
        "id": "f55c24e2"
      },
      "source": [
        "**Your task:** Test this integral for several values of $N$ using several (10-20) values. If you'd like, you can use `numpy.geomspace()` (https://numpy.org/doc/stable/reference/generated/numpy.geomspace.html) to test over a large range of values. We know that the area of a unit circle should be exactly $\\pi$; does you result converge to this?"
      ]
    },
    {
      "cell_type": "code",
      "execution_count": 61,
      "id": "719aacd8",
      "metadata": {
        "id": "719aacd8",
        "colab": {
          "base_uri": "https://localhost:8080/"
        },
        "outputId": "1bd1934f-3ae8-48b8-f259-9779399f40b2"
      },
      "outputs": [
        {
          "output_type": "stream",
          "name": "stdout",
          "text": [
            "4.0\n",
            "3.111111111111111\n",
            "3.020979020979021\n",
            "3.181395348837209\n",
            "3.076923076923077\n",
            "3.1820728291316525\n",
            "2.9463869463869465\n",
            "3.2\n",
            "3.0683012259194395\n",
            "3.0793157076205286\n",
            "3.1372549019607843\n",
            "3.118471337579618\n",
            "3.1831971995332555\n",
            "3.0775862068965516\n",
            "3.192\n"
          ]
        }
      ],
      "source": [
        "# using linspace; make sure to cast as ints for input into np.random.uniform()\n",
        "for i in np.linspace(1, 1000, 15, dtype=int):\n",
        "    print(monte_carlo(i, step))"
      ]
    },
    {
      "cell_type": "code",
      "source": [
        "# using np.geomspace (make sure the n vals are cast as ints)\n",
        "for i in np.geomspace(1, 10**6, 15, dtype=np.int64):\n",
        "    print(monte_carlo(i, step))\n",
        "\n",
        "# the integral may not converge exactly to 3.14... as you increase n due to rng"
      ],
      "metadata": {
        "colab": {
          "base_uri": "https://localhost:8080/"
        },
        "id": "eNx1z_hWS5SC",
        "outputId": "91393fd4-996a-4be1-f3c2-a31fd8458d46"
      },
      "id": "eNx1z_hWS5SC",
      "execution_count": 62,
      "outputs": [
        {
          "output_type": "stream",
          "name": "stdout",
          "text": [
            "4.0\n",
            "2.0\n",
            "2.857142857142857\n",
            "3.3684210526315788\n",
            "3.2941176470588234\n",
            "3.2753623188405796\n",
            "3.182795698924731\n",
            "3.188\n",
            "3.1469052945563014\n",
            "3.1439688715953307\n",
            "3.1382989744120997\n",
            "3.1495540023940998\n",
            "3.1513145110796046\n",
            "3.143317800509176\n",
            "3.137876\n"
          ]
        }
      ]
    }
  ],
  "metadata": {
    "kernelspec": {
      "display_name": "Python 3 (ipykernel)",
      "language": "python",
      "name": "python3"
    },
    "language_info": {
      "codemirror_mode": {
        "name": "ipython",
        "version": 3
      },
      "file_extension": ".py",
      "mimetype": "text/x-python",
      "name": "python",
      "nbconvert_exporter": "python",
      "pygments_lexer": "ipython3",
      "version": "3.9.16"
    },
    "colab": {
      "provenance": [],
      "include_colab_link": true
    }
  },
  "nbformat": 4,
  "nbformat_minor": 5
}
