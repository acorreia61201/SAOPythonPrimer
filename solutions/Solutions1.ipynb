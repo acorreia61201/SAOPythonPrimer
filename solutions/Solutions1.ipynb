{
  "cells": [
    {
      "cell_type": "markdown",
      "metadata": {
        "id": "view-in-github",
        "colab_type": "text"
      },
      "source": [
        "<a href=\"https://colab.research.google.com/github/acorreia61201/SAOPythonPrimer/blob/main/solutions/Solutions1.ipynb\" target=\"_parent\"><img src=\"https://colab.research.google.com/assets/colab-badge.svg\" alt=\"Open In Colab\"/></a>"
      ]
    },
    {
      "cell_type": "markdown",
      "id": "639c414a",
      "metadata": {
        "id": "639c414a"
      },
      "source": [
        "# SAO/LIP Python Primer Course Exercise Set 1\n",
        "\n",
        "[![Open In Colab](https://colab.research.google.com/assets/colab-badge.svg)](https://colab.research.google.com/github/acorreia61201/SAOPythonPrimer/blob/main/exercises/Exercises1.ipynb)\n",
        "\n",
        "## Exercise 1: More on Print Statements\n",
        "\n",
        "Let's start off with printing some simple statements. We'll use the (approximately) exact value of pi, which we can get from a Python library called NumPy (we'll be using this library more in-depth later on). Run the cell below:"
      ]
    },
    {
      "cell_type": "code",
      "execution_count": null,
      "id": "14d049e5",
      "metadata": {
        "id": "14d049e5"
      },
      "outputs": [],
      "source": [
        "from numpy import pi"
      ]
    },
    {
      "cell_type": "markdown",
      "id": "af85514c",
      "metadata": {
        "id": "af85514c"
      },
      "source": [
        "**Your task:** Print the value of pi up to 6 decimal places. (Hint: refer to https://www.pythoncheatsheet.org/cheatsheet/string-formatting for help on how to do this.)"
      ]
    },
    {
      "cell_type": "code",
      "execution_count": null,
      "id": "b855a293",
      "metadata": {
        "id": "b855a293",
        "outputId": "717541e4-0903-4802-f495-7d5b37f6df57",
        "colab": {
          "base_uri": "https://localhost:8080/"
        }
      },
      "outputs": [
        {
          "output_type": "stream",
          "name": "stdout",
          "text": [
            "3.141593\n"
          ]
        }
      ],
      "source": [
        "print('{0:.6f}'.format(pi)) # the argument :.6 prints 6 decimal places, f keeps it in decimal notation"
      ]
    },
    {
      "cell_type": "markdown",
      "id": "92dafb2d",
      "metadata": {
        "id": "92dafb2d"
      },
      "source": [
        "**Your task:** Now, print the value of pi in scientific notation with 3 decimal places. (Hint: refer to https://www.pythoncheatsheet.org/cheatsheet/string-formatting for help on how to do this.)"
      ]
    },
    {
      "cell_type": "code",
      "execution_count": null,
      "id": "b88c89dd",
      "metadata": {
        "id": "b88c89dd",
        "outputId": "e3a8a7a2-d8be-41b1-9042-d139f3f94431",
        "colab": {
          "base_uri": "https://localhost:8080/"
        }
      },
      "outputs": [
        {
          "output_type": "stream",
          "name": "stdout",
          "text": [
            "3.142e+00\n"
          ]
        }
      ],
      "source": [
        "print('{0:.3e}'.format(pi)) # the argument :.3 prints 3 decimal places, e puts it in exponential notation"
      ]
    },
    {
      "cell_type": "markdown",
      "id": "7b065751",
      "metadata": {
        "id": "7b065751"
      },
      "source": [
        "**Your task:** Calculate the area of a circle with a radius of 3 cm. Print out the statement, \"The area of the circle is [area] cm^2\", where [area] is the answer you get up to 2 decimal places."
      ]
    },
    {
      "cell_type": "code",
      "execution_count": null,
      "id": "e1b7455c",
      "metadata": {
        "id": "e1b7455c",
        "outputId": "937a109c-4f38-4970-8650-ce21b4fa20bf",
        "colab": {
          "base_uri": "https://localhost:8080/"
        }
      },
      "outputs": [
        {
          "output_type": "stream",
          "name": "stdout",
          "text": [
            "The area of the circle is 28.27 cm^2\n"
          ]
        }
      ],
      "source": [
        "r = 3\n",
        "area = pi*r*r # use pi*r^2\n",
        "print('The area of the circle is {0:.2f} cm^2'.format(area)) # .2f for 2 decimal places in decimal notation"
      ]
    },
    {
      "cell_type": "markdown",
      "id": "88b678fe",
      "metadata": {
        "id": "88b678fe"
      },
      "source": [
        "**Your task:** Calculate the circumference of the circle with a radius of 3 cm. Print out the statement: \"The circle has a radius of [radius] cm, an area of [area] cm^2, and a circumference of [circumference] cm.\", where the values in brackets are replaced with your answers from above with two decimal places each."
      ]
    },
    {
      "cell_type": "code",
      "execution_count": null,
      "id": "0b1f48ba",
      "metadata": {
        "id": "0b1f48ba",
        "outputId": "9b3b6a27-a3f0-49b3-bd29-e9921f258956",
        "colab": {
          "base_uri": "https://localhost:8080/"
        }
      },
      "outputs": [
        {
          "output_type": "stream",
          "name": "stdout",
          "text": [
            "The circle has a radius of 3.00 cm, an area of 28.27 cm^2, and a circumference of 18.85 cm\n"
          ]
        }
      ],
      "source": [
        "circumference = 2*pi*r # use 2r*pi\n",
        "print(f'The circle has a radius of {r:.2f} cm, an area of {area:.2f} cm^2, and a circumference of {circumference:.2f} cm') # an alternate way of formatting; equivalent to using .format() at end"
      ]
    },
    {
      "cell_type": "markdown",
      "id": "c5355277",
      "metadata": {
        "id": "c5355277"
      },
      "source": [
        "## Exercise 2: Practice with Basic Operations\n",
        "\n",
        "**Your task:** Calculate the value of $2^x$, where $x$ has each of the following values:\n",
        "- `0.5`\n",
        "- `1./2.`\n",
        "- `1/2`\n",
        "- `1//2`\n",
        "- `1 % 2`\n",
        "\n",
        "The nominal value for $\\sqrt 2$ is $\\sim 1.414...$. Which expressions give the nominal result? Which ones don't? Do you know why?"
      ]
    },
    {
      "cell_type": "code",
      "execution_count": null,
      "id": "c41ef772",
      "metadata": {
        "id": "c41ef772",
        "outputId": "c3c99d24-f1de-4637-a27f-7df5b01bd9a1",
        "colab": {
          "base_uri": "https://localhost:8080/"
        }
      },
      "outputs": [
        {
          "output_type": "stream",
          "name": "stdout",
          "text": [
            "1.4142135623730951\n",
            "1.4142135623730951\n",
            "1.4142135623730951\n",
            "1\n",
            "2\n"
          ]
        }
      ],
      "source": [
        "print(2**0.5)\n",
        "print(2**(1./2.))\n",
        "print(2**(1/2))\n",
        "print(2**(1//2))\n",
        "print(2**(1%2))\n",
        "\n",
        "'''\n",
        "The first three should give sqrt(2), since 0.5 = 1./2. = 1/2 (in Python 3.x; Python 2.x treats integer division a bit differently).\n",
        "The fourth expression does integer division of 1/2, which returns zero, so we get 2**0 = 1.\n",
        "The firth expression returns 1 modulo 2 = 1, so we get 2**1 = 2.\n",
        "'''"
      ]
    },
    {
      "cell_type": "markdown",
      "id": "1cf11c61",
      "metadata": {
        "id": "1cf11c61"
      },
      "source": [
        "## Exercise 3: Quadratic Formula\n",
        "\n",
        "The quadratic formula is a universal way of solving for the roots (a.k.a. \"zeroes\") of a quadratic expression. For an equation of the form:\n",
        "\n",
        "\\begin{equation}\n",
        "ax^2 + bx + c = 0,\n",
        "\\end{equation}\n",
        "\n",
        "its roots are:\n",
        "\n",
        "\\begin{equation}\n",
        "x = \\frac{-b \\pm \\sqrt{b^2 - 4ac}}{2a}\n",
        "\\end{equation}\n",
        "\n",
        "**Your task:** Find the roots of the following equation:\n",
        "\n",
        "\\begin{equation}\n",
        "x^2 + 2x - 3 = 0\n",
        "\\end{equation}\n",
        "\n",
        "(Hint: For the square root, you can raise the expression to the 0.5 power; there are more convenient ways of taking square roots that we'll cover later (if you know them, feel free to use them). You should also find two separate values for the two roots.) This expression is pretty easy to factor by hand; you can do this to check your answers."
      ]
    },
    {
      "cell_type": "code",
      "execution_count": null,
      "id": "4e96b2b7",
      "metadata": {
        "id": "4e96b2b7",
        "outputId": "97b00464-e620-4153-8e30-4f9edaabccce",
        "colab": {
          "base_uri": "https://localhost:8080/"
        }
      },
      "outputs": [
        {
          "output_type": "stream",
          "name": "stdout",
          "text": [
            "1.0 -3.0\n"
          ]
        }
      ],
      "source": [
        "# define the coefficients\n",
        "a = 1\n",
        "b = 2\n",
        "c = -3\n",
        "\n",
        "# solve the plus root\n",
        "proot = (-b + (b*b - 4*a*c)**0.5)/(2*a)\n",
        "\n",
        "# solve the minus root\n",
        "mroot = (-b - (b*b - 4*a*c)**0.5)/(2*a)\n",
        "\n",
        "# print both roots\n",
        "print(proot, mroot)"
      ]
    },
    {
      "cell_type": "markdown",
      "id": "ed39a482",
      "metadata": {
        "id": "ed39a482"
      },
      "source": [
        "**Your task:** Find the roots of the following equation:\n",
        "\n",
        "\\begin{equation}\n",
        "x^2 + 8x + 16 = 0\n",
        "\\end{equation}\n",
        "\n",
        "This is also a pretty easy expression to factor by hand if you want to check your answers."
      ]
    },
    {
      "cell_type": "code",
      "execution_count": null,
      "id": "d0a30be9",
      "metadata": {
        "id": "d0a30be9",
        "outputId": "098b1b18-84a3-4fd1-ad9d-3fa3233ffddd",
        "colab": {
          "base_uri": "https://localhost:8080/"
        }
      },
      "outputs": [
        {
          "output_type": "stream",
          "name": "stdout",
          "text": [
            "-4.0 -4.0\n"
          ]
        }
      ],
      "source": [
        "# define the coefficients\n",
        "a = 1\n",
        "b = 8\n",
        "c = 16\n",
        "\n",
        "# solve the plus root\n",
        "proot = (-b + (b*b - 4*a*c)**0.5)/(2*a)\n",
        "\n",
        "# solve the minus root\n",
        "mroot = (-b - (b*b - 4*a*c)**0.5)/(2*a)\n",
        "\n",
        "# print both roots\n",
        "print(proot, mroot)"
      ]
    },
    {
      "cell_type": "markdown",
      "id": "76d0975e",
      "metadata": {
        "id": "76d0975e"
      },
      "source": [
        "**Your task:** Find the roots of the following equation:\n",
        "\n",
        "\\begin{equation}\n",
        "4x^2 + 5x - 32 = 15\n",
        "\\end{equation}"
      ]
    },
    {
      "cell_type": "code",
      "execution_count": null,
      "id": "f93945ad",
      "metadata": {
        "id": "f93945ad",
        "outputId": "548886b0-caea-4f2b-cb1b-741e550677f1",
        "colab": {
          "base_uri": "https://localhost:8080/"
        }
      },
      "outputs": [
        {
          "output_type": "stream",
          "name": "stdout",
          "text": [
            "2.8593399661915884 -4.109339966191588\n"
          ]
        }
      ],
      "source": [
        "# define the coefficients\n",
        "a = 4\n",
        "b = 5\n",
        "c = -32 - 15 # remember the rhs has to be zero\n",
        "\n",
        "# solve the plus root\n",
        "proot = (-b + (b*b - 4*a*c)**0.5)/(2*a)\n",
        "\n",
        "# solve the minus root\n",
        "mroot = (-b - (b*b - 4*a*c)**0.5)/(2*a)\n",
        "\n",
        "# print both roots\n",
        "print(proot, mroot)"
      ]
    },
    {
      "cell_type": "markdown",
      "id": "72dae164",
      "metadata": {
        "id": "72dae164"
      },
      "source": [
        "## Exercise 4: Kinematic Motion\n",
        "\n",
        "The full kinematic equation of motion in one dimension is:\n",
        "\n",
        "\\begin{equation}\n",
        "x(t) = x_0 + v_0t + \\frac{1}{2}at^2\n",
        "\\end{equation}\n",
        "\n",
        "Here, $x(t)$ is the position of the object at time $t$, $x_0$ and $v_0$ are the initial position and velocity of the object (defined at time $t=0$), and $a$ is the acceleration of the object, which here we have assumed is a constant. \n",
        "\n",
        "Near the surface of the Earth, we can assume that all objects accelerate due to the force of gravity at a constant rate $g = -9.8~m/s^2$ (ignoring air resistance).\n",
        "\n",
        "**Your task:** If I drop a ball from the top of a 200 meter tall building, how far will it have fallen in 2 seconds? Define your constants and the time $t$, and write up the equation above to get the correct answer. (Hint: Assume the ball started at rest. Also, don't worry about units here; assume everything is in standard SI units (i.e. meters, seconds, kilograms).) Play around with the values; what happens when you change $v_0$? $x_0$? $a$?"
      ]
    },
    {
      "cell_type": "code",
      "execution_count": null,
      "id": "29d47944",
      "metadata": {
        "id": "29d47944",
        "outputId": "904038af-3489-4add-da0a-777905eca7db",
        "colab": {
          "base_uri": "https://localhost:8080/"
        }
      },
      "outputs": [
        {
          "output_type": "stream",
          "name": "stdout",
          "text": [
            "180.38\n"
          ]
        }
      ],
      "source": [
        "# define constants\n",
        "a = -9.81 # grav acceleration\n",
        "x0 = 200 # initial position\n",
        "v0 = 0 # initial position; dropping means starting at rest\n",
        "t = 2 # time we want to consider\n",
        "\n",
        "print(x0 + v0*t + 0.5*a*t*t)\n",
        "# No matter what, your result should be less than 200 for a negative acceleration."
      ]
    },
    {
      "cell_type": "markdown",
      "id": "cc29f997",
      "metadata": {
        "id": "cc29f997"
      },
      "source": [
        "If we want to know the velocity of an object at a certain time $t$, we can differentiate the above equation with respect to time to get:\n",
        "\n",
        "\\begin{equation}\n",
        "v(t) = v_0 + at\n",
        "\\end{equation}\n",
        "\n",
        "**Your task:** If I drop a ball from the top of a 200 meter tall building, how fast will it be moving in 2 seconds? You already have the constants above; all you have to do is write up an expression that gives the correct result."
      ]
    },
    {
      "cell_type": "code",
      "execution_count": null,
      "id": "77fc759f",
      "metadata": {
        "id": "77fc759f",
        "outputId": "896573c7-4aa7-4839-d544-eb16e319900b",
        "colab": {
          "base_uri": "https://localhost:8080/"
        }
      },
      "outputs": [
        {
          "output_type": "stream",
          "name": "stdout",
          "text": [
            "-19.62\n"
          ]
        }
      ],
      "source": [
        "# no need to redefine the constants since we already did above\n",
        "print(v0 + a*t)\n",
        "\n",
        "# You'll get a negative result; recall that a negative velocity indicated downward motion, which we should expect"
      ]
    },
    {
      "cell_type": "markdown",
      "id": "b42557a0",
      "metadata": {
        "id": "b42557a0"
      },
      "source": [
        "**Your task:** If I drop a ball from the top of a 200 meter tall building, when will it hit the ground? To answer this, solve the given equations for $t$ and write up your results here. (Hint: The quadratic formula will be useful here; which root should you choose?) Check your answers by plugging the $t$ value into the first code block; you should get $x = 0$. Try out different initial values to see how the time changes."
      ]
    },
    {
      "cell_type": "code",
      "execution_count": null,
      "id": "fb7db160",
      "metadata": {
        "id": "fb7db160",
        "outputId": "3246df13-c695-42a9-cad5-1714b1dc466d",
        "colab": {
          "base_uri": "https://localhost:8080/"
        }
      },
      "outputs": [
        {
          "output_type": "stream",
          "name": "stdout",
          "text": [
            "-6.385508568141009 6.385508568141009\n"
          ]
        }
      ],
      "source": [
        "'''\n",
        "We can rewrite the above equation to get:\n",
        "\n",
        "0.5at^2 + v0t + x0 - x = 0\n",
        "\n",
        "We want to find the time for which x = 0, so we set that here. Now, all we need to do is plug this into the quadratic formula.\n",
        "\n",
        "We'll get two solutions. We should take whichever one is positive, since t > 0 corresponds to the time after I release the ball.\n",
        "'''\n",
        "\n",
        "A = 0.5*a\n",
        "B = v0\n",
        "C = x0\n",
        "\n",
        "proot = (-B + (B*B - 4*A*C)**0.5)/(2*A)\n",
        "mroot = (-B - (B*B - 4*A*C)**0.5)/(2*A)\n",
        "print(proot, mroot)\n",
        "\n",
        "# The true solution is the minus root"
      ]
    },
    {
      "cell_type": "markdown",
      "id": "bb9bf1a4",
      "metadata": {
        "id": "bb9bf1a4"
      },
      "source": [
        "## Exercise 5: Interest\n",
        "\n",
        "When you take out a loan from a bank, the amount that you eventually have to pay back is not equal to the amount you took out. The bank will apply an additional sum, known as interest, that is based on how long you've had the loan and how much you've taken out.\n",
        "\n",
        "First, let's look at *simple interest*, which applies a flat interest rate based on the amount you initially took out. If you take out an initial value $P$ for $t$ years at a simple interest rate of $r$, the total amount $A$ you end up paying back is:\n",
        "\n",
        "\\begin{equation}\n",
        "A = P(1 + rt)\n",
        "\\end{equation}\n",
        "\n",
        "**Your task:** If I take out a \\\\$1000 loan for 7 years at a simple interest rate of 4\\%, how much money will I owe the bank? Define the variables $P$, $r$, and $t$ from above, and write up an expression that will give the correct value of $A$. (Hint: you will have to convert $r$ from a percentage to a decimal.) Play around with the values and see how the final value changes."
      ]
    },
    {
      "cell_type": "code",
      "execution_count": null,
      "id": "627d75e1",
      "metadata": {
        "id": "627d75e1",
        "outputId": "362d5a1b-9eb3-42f3-f2ff-541063b31ed2",
        "colab": {
          "base_uri": "https://localhost:8080/"
        }
      },
      "outputs": [
        {
          "output_type": "stream",
          "name": "stdout",
          "text": [
            "1280.0\n"
          ]
        }
      ],
      "source": [
        "# define constants\n",
        "P = 1000 # initial loan value\n",
        "r = 0.04 # percent interest rate, expressed as a decimal\n",
        "t = 7 # length of time\n",
        "\n",
        "A = P*(1 + r*t) # simple interest total\n",
        "print(A)"
      ]
    },
    {
      "cell_type": "markdown",
      "id": "7ac94997",
      "metadata": {
        "id": "7ac94997"
      },
      "source": [
        "Now, let's look at *compound interest*, which applies interest based on the current value you have to pay back. That is, the interest applied changes as the value of the loan increases. If you take out an initial value $P$ for $t$ years at a compound rate $r$ applied $n$ times per year, the total amound $A$ you end up paying back is:\n",
        "\n",
        "\\begin{equation}\n",
        "A = P\\bigg(1 + \\frac{r}{n}\\bigg)^{nt}\n",
        "\\end{equation}\n",
        "\n",
        "**Your task:** If I take out a \\\\$1000 loan for 7 years at a compount interest rate of 4\\% applied monthly, how much money will I owe the bank? If you haven't changed the values of $P$, $r$, and $t$ above, you should be able to just define $n$. Write up an expression that will give the correct value of $A$. (Hint: there are 12 months in a year.) How does this compare with the simple interest value?"
      ]
    },
    {
      "cell_type": "code",
      "execution_count": null,
      "id": "3706d0e1",
      "metadata": {
        "id": "3706d0e1",
        "outputId": "5d6be114-f4e7-455d-81c3-e41f398fa4d8",
        "colab": {
          "base_uri": "https://localhost:8080/"
        }
      },
      "outputs": [
        {
          "output_type": "stream",
          "name": "stdout",
          "text": [
            "1322.5138638856104\n"
          ]
        }
      ],
      "source": [
        "# we already defined P, r, t above\n",
        "n = 12 # number of months in a year\n",
        "\n",
        "A = P*(1 + r/n)**(n*t) # monthly compound interest total\n",
        "print(A)"
      ]
    },
    {
      "cell_type": "markdown",
      "id": "cf7287df",
      "metadata": {
        "id": "cf7287df"
      },
      "source": [
        "**Your task:** I take out the same loan for the same amount of time with the same interest rate, this time applied weekly. How much money will I owe the bank? (Hint: There are 52 weeks in a year.) How does this compare with the previous two values?"
      ]
    },
    {
      "cell_type": "code",
      "execution_count": null,
      "id": "15aa88b0",
      "metadata": {
        "id": "15aa88b0",
        "outputId": "c3471916-3fc0-4fc3-e2ca-f0e8646ea461",
        "colab": {
          "base_uri": "https://localhost:8080/"
        }
      },
      "outputs": [
        {
          "output_type": "stream",
          "name": "stdout",
          "text": [
            "1322.987402129187\n"
          ]
        }
      ],
      "source": [
        "# we only have to redefine n\n",
        "n = 52 # number of weeks in a year\n",
        "\n",
        "A = P*(1 + r/n)**(n*t) # weekly compound interest total\n",
        "print(A)"
      ]
    }
  ],
  "metadata": {
    "kernelspec": {
      "display_name": "Python 3 (ipykernel)",
      "language": "python",
      "name": "python3"
    },
    "language_info": {
      "codemirror_mode": {
        "name": "ipython",
        "version": 3
      },
      "file_extension": ".py",
      "mimetype": "text/x-python",
      "name": "python",
      "nbconvert_exporter": "python",
      "pygments_lexer": "ipython3",
      "version": "3.9.16"
    },
    "colab": {
      "provenance": [],
      "include_colab_link": true
    }
  },
  "nbformat": 4,
  "nbformat_minor": 5
}