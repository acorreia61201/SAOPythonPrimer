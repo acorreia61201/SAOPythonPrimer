{
  "cells": [
    {
      "cell_type": "markdown",
      "metadata": {
        "id": "view-in-github",
        "colab_type": "text"
      },
      "source": [
        "<a href=\"https://colab.research.google.com/github/acorreia61201/SAOPythonPrimer/blob/main/solutions/Solutions3.ipynb\" target=\"_parent\"><img src=\"https://colab.research.google.com/assets/colab-badge.svg\" alt=\"Open In Colab\"/></a>"
      ]
    },
    {
      "cell_type": "markdown",
      "id": "de9d76c0",
      "metadata": {
        "id": "de9d76c0"
      },
      "source": [
        "# SAO/LIP Python Primer Course Exercise Set 3\n",
        "\n",
        "[![Open In Colab](https://colab.research.google.com/assets/colab-badge.svg)](https://colab.research.google.com/github/acorreia61201/SAOPythonPrimer/blob/main/exercises/Exercises3.ipynb)\n",
        "\n",
        "## Exercise 1: Detecting Palindromes\n",
        "\n",
        "A *palindrome* is a word (or number) that reads the same when spelled backwards (e.g. \"racecar\", \"wow\", \"kayak\").\n",
        "\n",
        "**Your task:** Write a function `is_palindrome()` that takes a string as an input and determines whether it is a palindrome. (Hint: if you need inspiration, take another look through Lecture 2.) The function should print a statement that tells me whether or not the input is a palindrome. Test it with some words to see if it works (numbers expressed as strings should work too)."
      ]
    },
    {
      "cell_type": "code",
      "execution_count": null,
      "id": "2189b2a2",
      "metadata": {
        "id": "2189b2a2",
        "outputId": "658ffcdb-b81c-4d1e-b4db-e119aa68bc87",
        "colab": {
          "base_uri": "https://localhost:8080/"
        }
      },
      "outputs": [
        {
          "output_type": "stream",
          "name": "stdout",
          "text": [
            "racecar is a palindrome\n",
            "kayak is a palindrome\n",
            "astronomy is not a palindrome\n"
          ]
        }
      ],
      "source": [
        "def is_palindrome(word):\n",
        "    test = word[::-1] # reverse the word\n",
        "    if word == test: # check if the word is the same as its reverse\n",
        "        print(f'{word} is a palindrome') # if so, print that it is\n",
        "    else:\n",
        "        print(f'{word} is not a palindrome') # else, print that it isn't\n",
        "\n",
        "# test cases\n",
        "is_palindrome('racecar')\n",
        "is_palindrome('kayak')\n",
        "is_palindrome('astronomy')"
      ]
    },
    {
      "cell_type": "markdown",
      "id": "760778ea",
      "metadata": {
        "id": "760778ea"
      },
      "source": [
        "Palindromes can also include phrases or sentences that include extra punctuation or capitalization. Some examples are \"Madam, I'm Adam\" or \"Step on no pets\".\n",
        "\n",
        "**Your task:** Modify `is_palindrome()` (you can copy it below or modify it above) to make all letters in your string one case (i.e. uppercase or lowercase) and remove punctuation. Save the original string so you can print it out as part of your output. Try it below; the function should work with single words as well as full phrases.\n",
        "\n",
        "(Hint: for the former, you can use the Python built-ins `lower()` or `upper()`, which respectively makes all letters in the string lowercase or uppercase. For the latter, see https://datagy.io/python-remove-punctuation-from-string/ and https://www.geeksforgeeks.org/python-remove-spaces-from-a-string/#.)"
      ]
    },
    {
      "cell_type": "code",
      "execution_count": null,
      "id": "7e761f9c",
      "metadata": {
        "id": "7e761f9c",
        "outputId": "9f2e62a5-66f9-4b71-d553-802c0c2877e4",
        "colab": {
          "base_uri": "https://localhost:8080/"
        }
      },
      "outputs": [
        {
          "output_type": "stream",
          "name": "stdout",
          "text": [
            "racecar is a palindrome\n",
            "astronomy is not a palindrome\n",
            "Madam, I'm Adam is a palindrome\n",
            "Today we will be learning astronomy is not a palindrome\n"
          ]
        }
      ],
      "source": [
        "import string # one method involves an external library\n",
        "\n",
        "def is_palindrome(word):\n",
        "    # processing for phrases with punctuation/spaces\n",
        "    test = word[::-1] # reverse the word\n",
        "\n",
        "    test = test.lower() # make all letters lowercase in test\n",
        "    new_word = word.lower() # make all letters lowercase in word without modifying word\n",
        "\n",
        "    for i in string.punctuation: # iterate over punctuation list given by string library\n",
        "        test = test.replace(i, '') # remove punctuation from test\n",
        "        new_word = new_word.replace(i, '') # remove punctuation from new_word\n",
        "\n",
        "    test = test.replace(' ', '') # remove spaces from test\n",
        "    new_word = new_word.replace(' ', '') # remove spaces from new_word\n",
        "    \n",
        "    # check if word is palindrome\n",
        "    if new_word == test: # check if the word is the same as its reverse\n",
        "        print(f'{word} is a palindrome') # if so, print that it is\n",
        "    else:\n",
        "        print(f'{word} is not a palindrome') # else, print that it isn't\n",
        "\n",
        "# test cases\n",
        "is_palindrome('racecar')\n",
        "is_palindrome('astronomy')\n",
        "is_palindrome(\"Madam, I'm Adam\")\n",
        "is_palindrome('Today we will be learning astronomy')"
      ]
    },
    {
      "cell_type": "markdown",
      "id": "bb9714e4",
      "metadata": {
        "id": "bb9714e4"
      },
      "source": [
        "## Exercise 2: Verifying Trig Identities\n",
        "\n",
        "We can verify some common trigonometric identities by plugging some values into them.\n",
        "\n",
        "**Your task:** Generate a list of 20 numbers between $-\\pi$ and $\\pi$. One way you can do this is by generating a range of 20 integers and using a `for` loop to scale each value. (Hint: `range()` may not produce a list, but `list(range())` will.) To practice with iteration and using `range()`, try to refrain from using more convenient methods (e.g. from other libraries); we'll cover them in the next lecture."
      ]
    },
    {
      "cell_type": "code",
      "execution_count": null,
      "id": "4fe05665",
      "metadata": {
        "id": "4fe05665",
        "outputId": "89d7fc77-dc36-423b-9e05-364d6c6e4523",
        "colab": {
          "base_uri": "https://localhost:8080/"
        }
      },
      "outputs": [
        {
          "output_type": "execute_result",
          "data": {
            "text/plain": [
              "[-3.141592653589793,\n",
              " -2.827433388230814,\n",
              " -2.5132741228718345,\n",
              " -2.199114857512855,\n",
              " -1.8849555921538759,\n",
              " -1.5707963267948966,\n",
              " -1.2566370614359172,\n",
              " -0.9424777960769379,\n",
              " -0.6283185307179586,\n",
              " -0.3141592653589793,\n",
              " 0.0,\n",
              " 0.3141592653589793,\n",
              " 0.6283185307179586,\n",
              " 0.9424777960769379,\n",
              " 1.2566370614359172,\n",
              " 1.5707963267948966,\n",
              " 1.8849555921538759,\n",
              " 2.199114857512855,\n",
              " 2.5132741228718345,\n",
              " 2.827433388230814,\n",
              " 3.141592653589793]"
            ]
          },
          "metadata": {},
          "execution_count": 4
        }
      ],
      "source": [
        "import math as m\n",
        "\n",
        "pi = m.pi # for convenience, I rename m.pi to pi\n",
        "iter_list = list(range(21)) # we can do any range as long as we scale it properly\n",
        "\n",
        "# we can iterate over the indices of iter_list\n",
        "for i in range(len(iter_list)):\n",
        "    iter_list[i] = (iter_list[i] - 10) * pi / 10 # first convert [0, 20] to [-10, 10], then [-pi, pi]\n",
        "\n",
        "iter_list"
      ]
    },
    {
      "cell_type": "code",
      "source": [
        "iter_list = list(range(21))\n",
        "pi_list = []\n",
        "\n",
        "# or, alternatively, we could iterate over each element of iter_list to populate a new list\n",
        "for i in iter_list:\n",
        "    pi_list.append((i - 10)*pi/10)\n",
        "\n",
        "pi_list"
      ],
      "metadata": {
        "colab": {
          "base_uri": "https://localhost:8080/"
        },
        "id": "Udmeijy9XXpx",
        "outputId": "250bbd6f-df4a-4e89-924b-330125c7eada"
      },
      "id": "Udmeijy9XXpx",
      "execution_count": null,
      "outputs": [
        {
          "output_type": "execute_result",
          "data": {
            "text/plain": [
              "[-3.141592653589793,\n",
              " -2.827433388230814,\n",
              " -2.5132741228718345,\n",
              " -2.199114857512855,\n",
              " -1.8849555921538759,\n",
              " -1.5707963267948966,\n",
              " -1.2566370614359172,\n",
              " -0.9424777960769379,\n",
              " -0.6283185307179586,\n",
              " -0.3141592653589793,\n",
              " 0.0,\n",
              " 0.3141592653589793,\n",
              " 0.6283185307179586,\n",
              " 0.9424777960769379,\n",
              " 1.2566370614359172,\n",
              " 1.5707963267948966,\n",
              " 1.8849555921538759,\n",
              " 2.199114857512855,\n",
              " 2.5132741228718345,\n",
              " 2.827433388230814,\n",
              " 3.141592653589793]"
            ]
          },
          "metadata": {},
          "execution_count": 5
        }
      ]
    },
    {
      "cell_type": "markdown",
      "id": "d536d265",
      "metadata": {
        "id": "d536d265"
      },
      "source": [
        "**Your task:** For each trigonometric identity below, write a function that prints \"True\" if the identity is satisfied and \"False\" if not. Then, use a loop to iterate over your list above to check each value. \n",
        "\n",
        "(Hint: Print out your values. You may get some values that look something like `0.999999...` and return `False`. This isn't exactly wrong; this happens due to how computers approximate trig functions, which we'll look at later in this exercise set. Look up `math.isclose()` in the docs at the end of Lecture 3 if you encounter errors like this. If you're looking for a relative tolerance to use, recall that floating point precision is $\\sim 10^{-16}$.)\n",
        "\n",
        "\\begin{equation}\n",
        "\\sin^2{x} + \\cos^2{x} = 1\n",
        "\\end{equation}"
      ]
    },
    {
      "cell_type": "code",
      "execution_count": null,
      "id": "707606a8",
      "metadata": {
        "id": "707606a8",
        "outputId": "480e7ce7-0738-40fe-a2d3-2febaf64117c",
        "colab": {
          "base_uri": "https://localhost:8080/"
        }
      },
      "outputs": [
        {
          "output_type": "stream",
          "name": "stdout",
          "text": [
            "True\n",
            "True\n",
            "True\n",
            "True\n",
            "True\n",
            "True\n",
            "True\n",
            "True\n",
            "True\n",
            "True\n",
            "True\n",
            "True\n",
            "True\n",
            "True\n",
            "True\n",
            "True\n",
            "True\n",
            "True\n",
            "True\n",
            "True\n",
            "True\n"
          ]
        }
      ],
      "source": [
        "def sincos(x):\n",
        "    return m.isclose(m.sin(x)**2 + m.cos(x)**2, 1) # just return the truth value\n",
        "\n",
        "for i in iter_list:\n",
        "    print(sincos(i))\n",
        "\n",
        "# we could print the value at each iteration; we'll likely get something ~0.9999999..."
      ]
    },
    {
      "cell_type": "markdown",
      "id": "b3254590",
      "metadata": {
        "id": "b3254590"
      },
      "source": [
        "\\begin{equation}\n",
        "1 + \\cot^2{x} = \\csc^2{x}\n",
        "\\end{equation}"
      ]
    },
    {
      "cell_type": "code",
      "execution_count": null,
      "id": "c27f42e3",
      "metadata": {
        "id": "c27f42e3",
        "outputId": "ac6d50a9-21e3-42c0-9058-9a1e9f17a4e2",
        "colab": {
          "base_uri": "https://localhost:8080/"
        }
      },
      "outputs": [
        {
          "output_type": "stream",
          "name": "stdout",
          "text": [
            "True\n",
            "True\n",
            "True\n",
            "True\n",
            "True\n",
            "True\n",
            "True\n",
            "True\n",
            "True\n",
            "True\n",
            "None\n",
            "True\n",
            "True\n",
            "True\n",
            "True\n",
            "True\n",
            "True\n",
            "True\n",
            "True\n",
            "True\n",
            "True\n"
          ]
        }
      ],
      "source": [
        "def cotcsc(x):\n",
        "    # skip values that will cause div by 0 errors\n",
        "    if m.tan(x) == 0 or m.sin(x) == 0:\n",
        "        return # just skip these values; we'll get None when this happens\n",
        "    cot = 1/m.tan(x) # define cotangent manually\n",
        "    csc = 1/m.sin(x) # define cosecant manually\n",
        "    return m.isclose(1 + cot**2, csc**2) # just return the truth value\n",
        "\n",
        "for i in iter_list:\n",
        "    print(cotcsc(i))"
      ]
    },
    {
      "cell_type": "markdown",
      "id": "26279e4c",
      "metadata": {
        "id": "26279e4c"
      },
      "source": [
        "\\begin{equation}\n",
        "1 + \\tan^2{x} = \\sec^2{x}\n",
        "\\end{equation}"
      ]
    },
    {
      "cell_type": "code",
      "execution_count": null,
      "id": "f542be25",
      "metadata": {
        "id": "f542be25",
        "outputId": "7283dc22-0a83-4855-dd5a-01586fd6daad",
        "colab": {
          "base_uri": "https://localhost:8080/"
        }
      },
      "outputs": [
        {
          "output_type": "stream",
          "name": "stdout",
          "text": [
            "True\n",
            "True\n",
            "True\n",
            "True\n",
            "True\n",
            "True\n",
            "True\n",
            "True\n",
            "True\n",
            "True\n",
            "True\n",
            "True\n",
            "True\n",
            "True\n",
            "True\n",
            "True\n",
            "True\n",
            "True\n",
            "True\n",
            "True\n",
            "True\n"
          ]
        }
      ],
      "source": [
        "def tansec(x):\n",
        "    # skip values that will cause div by 0 errors\n",
        "    if m.cos(x) == 0:\n",
        "        return # skip these values; we'll also get None when this runs\n",
        "    sec = 1/m.cos(x) # define secant manually\n",
        "    return m.isclose(1 + m.tan(x)**2, sec**2) # just return the truth value\n",
        "\n",
        "for i in iter_list:\n",
        "    print(tansec(i))"
      ]
    },
    {
      "cell_type": "markdown",
      "id": "b295298a",
      "metadata": {
        "id": "b295298a"
      },
      "source": [
        "## Exercise 3: More on Compound Interest\n",
        "\n",
        "Let's return to compound interest. Recall that if you take out a loan of value $P$ for $t$ years at a compound rate $r$ applied $n$ times per year, the total amound $A$ you will owe to the bank is:\n",
        "\n",
        "\\begin{equation}\n",
        "A = P\\bigg(1 + \\frac{r}{n}\\bigg)^{nt}\n",
        "\\end{equation}\n",
        "\n",
        "**Your task:** Write a function that takes $P, n, r, t$ as inputs and returns the owed value $A$. Test this with values from Exercise Set 1: If I take out a \\\\$1000 loan for 7 years at a compount interest rate of 4\\% applied monthly, how much money will I owe the bank?"
      ]
    },
    {
      "cell_type": "code",
      "execution_count": null,
      "id": "e60fb1e7",
      "metadata": {
        "id": "e60fb1e7",
        "outputId": "734ae0ec-5161-48e1-b7d0-858167df9587",
        "colab": {
          "base_uri": "https://localhost:8080/"
        }
      },
      "outputs": [
        {
          "output_type": "execute_result",
          "data": {
            "text/plain": [
              "1322.5138638856104"
            ]
          },
          "metadata": {},
          "execution_count": 43
        }
      ],
      "source": [
        "def comp_int(P, n, r, t):\n",
        "    A = P*(1 + r/n)**(n*t) # evaluate the equation given\n",
        "    return A\n",
        "\n",
        "# test case; should match the result from Exercise Set 1\n",
        "comp_int(1000, 12, 0.04, 7)"
      ]
    },
    {
      "cell_type": "markdown",
      "id": "b1d0fb7f",
      "metadata": {
        "id": "b1d0fb7f"
      },
      "source": [
        "Compound interest is actually one of the many placed where $e$ shows up. Specifically, as $n$ increases to infinity, the compound interest formula approaches:\n",
        "\n",
        "\\begin{equation}\n",
        "A_{lim} = Pe^{rt}\n",
        "\\end{equation}\n",
        "\n",
        "**Your task:** Modify your function (either copy it below or modify it above) to also calculate the above equation. Have your function return $|A - A_{lim}|$. Use the values of $P, r, t$ from above, but iterate over a range of ten $n$ values from 1 to 100 and print out the function outputs. Do your printed values approach zero as expected?"
      ]
    },
    {
      "cell_type": "code",
      "execution_count": null,
      "id": "aab7ba1e",
      "metadata": {
        "id": "aab7ba1e",
        "outputId": "e6f785a6-fef6-4913-fb38-a65a0a412793",
        "colab": {
          "base_uri": "https://localhost:8080/"
        }
      },
      "outputs": [
        {
          "output_type": "execute_result",
          "data": {
            "text/plain": [
              "[7.198033101596593,\n",
              " 0.07334025662157728,\n",
              " 0.03685791486054768,\n",
              " 0.024613959029011312,\n",
              " 0.01847626534322444,\n",
              " 0.01478860472911947,\n",
              " 0.01232805897916478,\n",
              " 0.010569494953188041,\n",
              " 0.00925000593247205,\n",
              " 0.008223401216582715]"
            ]
          },
          "metadata": {},
          "execution_count": 6
        }
      ],
      "source": [
        "def comp_int(P, n, r, t):\n",
        "    A = P*(1 + r/n)**(n*t) # evaluate the equation given\n",
        "    Alim = P*m.exp(r*t) # limit\n",
        "    return abs(A - Alim) # return the absolute error\n",
        "\n",
        "abs_errs = [] # list to append values\n",
        "for i in range(1, 1001, 100):\n",
        "    ae = comp_int(1000, i, 0.04, 7) # evaluate errors for n = i\n",
        "    abs_errs.append(ae) # add to the list\n",
        "\n",
        "abs_errs # the final difference should be a couple cents"
      ]
    },
    {
      "cell_type": "markdown",
      "id": "dda18525",
      "metadata": {
        "id": "dda18525"
      },
      "source": [
        "## Exercise 4: More Series Approximations\n",
        "\n",
        "Let's look at some more series approximations of more advanced functions. Let's first look at the natural logarithm, which can be approximated as follows:\n",
        "\n",
        "\\begin{equation}\n",
        "\\ln(1+x) = \\sum_{n=1}^{\\infty} (-1)^{n+1} \\frac{x^n}{n}\n",
        "\\end{equation}\n",
        "\n",
        "**Your task:** Write a function that takes $x$ and $n$ as inputs and returns the value of the series to the $n$th term."
      ]
    },
    {
      "cell_type": "code",
      "execution_count": null,
      "id": "cfb21465",
      "metadata": {
        "id": "cfb21465"
      },
      "outputs": [],
      "source": [
        "def log_approx(x, n):\n",
        "    series = 0 # counter\n",
        "    for i in range(1, n+1): # iterate from 1 to n\n",
        "        term = (-1)**(i+1)*(x**i)/i # term on rhs\n",
        "        series += term # add nth term\n",
        "    return series # return the value"
      ]
    },
    {
      "cell_type": "markdown",
      "id": "c948278c",
      "metadata": {
        "id": "c948278c"
      },
      "source": [
        "The series approximation above is not valid for all values of $x$. The easiest one to see is the case where $x <= -1$, for which the left hand side is undefined. Inputting $x > 1$ will also make the infinite sum on the right unbounded for large $n$ values. As implied by the summation notation, we also require that $n$ is an integer.\n",
        "\n",
        "**Your task:** Modify your function so that it only runs for $x$ inputs in the range $-1 < x \\leq 1$ and integer $n$ inputs. You can print an error message when encountering a case like this to ensure your function is working."
      ]
    },
    {
      "cell_type": "code",
      "execution_count": null,
      "id": "d7e367a7",
      "metadata": {
        "id": "d7e367a7",
        "outputId": "52c3b30f-7d55-4dbe-9311-07688e32b57f",
        "colab": {
          "base_uri": "https://localhost:8080/"
        }
      },
      "outputs": [
        {
          "output_type": "execute_result",
          "data": {
            "text/plain": [
              "0.4054651081081643"
            ]
          },
          "metadata": {},
          "execution_count": 8
        }
      ],
      "source": [
        "def log_approx(x, n):\n",
        "    if x <= -1 or x > 1:\n",
        "        print('Bad x value; ensure -1 < x <= 1') # stop function if bad x input\n",
        "        return # stop the function\n",
        "    series = 0 # counter\n",
        "    for i in range(1, n+1): # iterate from 1 to n\n",
        "        term = (-1)**(i+1)*(x**i)/i # term on rhs\n",
        "        series += term # add nth term\n",
        "    return series # return the value\n",
        "\n",
        "# test\n",
        "log_approx(.5, 100)"
      ]
    },
    {
      "cell_type": "markdown",
      "id": "3ecf71b1",
      "metadata": {
        "id": "3ecf71b1"
      },
      "source": [
        "**Your task:** Instead of modifying this function to calculate the error directly, we'll write two new functions to do this for us. First, write a function that simply returns the value of $\\ln(1 + x)$ for a given $x$ value."
      ]
    },
    {
      "cell_type": "code",
      "execution_count": null,
      "id": "80bd61e6",
      "metadata": {
        "id": "80bd61e6",
        "outputId": "39067af9-2556-45b6-f07b-a627ca23c72e",
        "colab": {
          "base_uri": "https://localhost:8080/"
        }
      },
      "outputs": [
        {
          "output_type": "execute_result",
          "data": {
            "text/plain": [
              "0.4054651081081644"
            ]
          },
          "metadata": {},
          "execution_count": 75
        }
      ],
      "source": [
        "def log_real(x):\n",
        "    return m.log(x + 1)\n",
        "\n",
        "# test\n",
        "log_real(0.5)"
      ]
    },
    {
      "cell_type": "markdown",
      "id": "44e5bad9",
      "metadata": {
        "id": "44e5bad9"
      },
      "source": [
        "**Your task:** I've started a function below with four inputs: $x$ and $n$ from above, as well as `real` and `approx`, inputs representing the real and approximate functions you wrote above. (If you'd like, you can set these as default parameters for now.) In this function, write code that will compute and return the absolute error $|f(x, n) - \\ln(1 + x)|$, where $f(x, n)$ is your series approximation function. For a valid $x$ value, compute this function for ten $n$ values between 1 and 20. Does the absolute error go to zero as expected?"
      ]
    },
    {
      "cell_type": "code",
      "execution_count": null,
      "id": "9d2a39ff",
      "metadata": {
        "id": "9d2a39ff",
        "outputId": "a37a21c9-b443-43b6-990a-bea64e857f49",
        "colab": {
          "base_uri": "https://localhost:8080/"
        }
      },
      "outputs": [
        {
          "output_type": "stream",
          "name": "stdout",
          "text": [
            "0.09453489189183562\n",
            "0.0112015585585023\n",
            "0.001826558558502278\n",
            "0.0003384633204070453\n",
            "6.719595929594036e-05\n",
            "1.3928913841387836e-05\n",
            "2.973885796508924e-06\n",
            "6.487369870189497e-07\n",
            "1.4385058422217156e-07\n",
            "3.2309728503765456e-08\n"
          ]
        }
      ],
      "source": [
        "# we can input functions into functions just as we can regular variables\n",
        "# then use these names as you would a regular function\n",
        "def abs_error(n, x, real, approx):\n",
        "    return abs(real(x) - approx(x, n)) # abs err = |real(x) - approx(x)|\n",
        "\n",
        "for i in range(1, 21, 2):\n",
        "    print(abs_error(i, 0.5, log_real, log_approx))\n",
        "\n",
        "# should converge pretty quickly to zero"
      ]
    },
    {
      "cell_type": "markdown",
      "id": "c3b7e017",
      "metadata": {
        "id": "c3b7e017"
      },
      "source": [
        "Let's use the `abs_error` function above to examine another series approximation:\n",
        "\n",
        "\\begin{equation}\n",
        "\\sin x = \\sum_{n=0}^{\\infty} (-1)^{n} \\frac{x^{2n+1}}{(2n + 1)!}\n",
        "\\end{equation}\n",
        "\n",
        "Unlike above, $x$ can take on any real value. $n$ is still required to be an integer.\n",
        "\n",
        "**Your task:** Write two functions: one that evaluates $\\sin x$ for a given $x$ value, and one that evaluates the series above to $n$ terms."
      ]
    },
    {
      "cell_type": "code",
      "execution_count": null,
      "id": "7c6035e5",
      "metadata": {
        "id": "7c6035e5",
        "outputId": "9139f004-1b2e-4f6f-8130-855dc23142b2",
        "colab": {
          "base_uri": "https://localhost:8080/"
        }
      },
      "outputs": [
        {
          "output_type": "stream",
          "name": "stdout",
          "text": [
            "1.0000000000000002 1.0\n"
          ]
        }
      ],
      "source": [
        "def sin_approx(x, n):\n",
        "    series = 0 # counter\n",
        "    for i in range(0, n+1): # iterate from 0 to n\n",
        "        term = (-1)**i*x**(2*i+1)/m.factorial(2*i + 1) # we can (and should) use m.factorial to compute factorials instead of loops\n",
        "        series += term # add the term to the series\n",
        "    return series\n",
        "\n",
        "def sin_real(x):\n",
        "    return m.sin(x)\n",
        "\n",
        "# testing\n",
        "print(sin_approx(pi/2, 10), sin_real(pi/2))"
      ]
    },
    {
      "cell_type": "markdown",
      "id": "b254a1e6",
      "metadata": {
        "id": "b254a1e6"
      },
      "source": [
        "**Your task:** As above, iterate over ten $n$ values between 1 and 20 to evaluate `abs_error`. This time, make sure to change the `approx` argument to your approximation of sine and the `real` argument to your exact sine value. You shouldn't have to make any changes to `abs_error`; just change the arguments when you call it. Does the absolute error go to zero as expected? Try some different $x$ values; does the approximation get better or worse with larger absolute values of $x$?"
      ]
    },
    {
      "cell_type": "code",
      "execution_count": null,
      "id": "bdfb8a08",
      "metadata": {
        "id": "bdfb8a08",
        "outputId": "b1b03ca2-b753-43aa-90ca-c2a40749e00e",
        "colab": {
          "base_uri": "https://localhost:8080/"
        }
      },
      "outputs": [
        {
          "output_type": "stream",
          "name": "stdout",
          "text": [
            "0.07516777071134961\n",
            "0.00015689860050127624\n",
            "5.625894905492146e-08\n",
            "6.023181953196399e-12\n",
            "0.0\n",
            "2.220446049250313e-16\n",
            "2.220446049250313e-16\n",
            "2.220446049250313e-16\n",
            "2.220446049250313e-16\n",
            "2.220446049250313e-16\n"
          ]
        }
      ],
      "source": [
        "for i in range(1, 21, 2):\n",
        "    print(abs_error(i, pi/2, sin_real, sin_approx)) \n",
        "    \n",
        "# this should converge pretty quickly; at the fifth iteration we're already getting zeroes"
      ]
    },
    {
      "cell_type": "code",
      "source": [
        "# trying a value farther out\n",
        "for i in range(1, 21, 2):\n",
        "    print(abs_error(i, 4*pi, sin_real, sin_approx)) \n",
        "\n",
        "# It takes much longer to reach zero the farther out we go. This is a property of the series approximation method we're using, which works best at x=0 and gets worse the father away we go"
      ],
      "metadata": {
        "id": "m3cPJKgyW5VA",
        "outputId": "c8cdcdcc-4093-4fd1-d4c6-f9ecf5f656ff",
        "colab": {
          "base_uri": "https://localhost:8080/"
        }
      },
      "id": "m3cPJKgyW5VA",
      "execution_count": null,
      "outputs": [
        {
          "output_type": "stream",
          "name": "stdout",
          "text": [
            "318.16724730883885\n",
            "7525.149318866292\n",
            "16904.926016412173\n",
            "9143.306026012953\n",
            "1789.7974074901904\n",
            "158.25005238522704\n",
            "7.2658101099046055\n",
            "0.19074972507584492\n",
            "0.0030736596302700534\n",
            "3.210099138744155e-05\n"
          ]
        }
      ]
    }
  ],
  "metadata": {
    "kernelspec": {
      "display_name": "Python 3 (ipykernel)",
      "language": "python",
      "name": "python3"
    },
    "language_info": {
      "codemirror_mode": {
        "name": "ipython",
        "version": 3
      },
      "file_extension": ".py",
      "mimetype": "text/x-python",
      "name": "python",
      "nbconvert_exporter": "python",
      "pygments_lexer": "ipython3",
      "version": "3.9.16"
    },
    "colab": {
      "provenance": [],
      "include_colab_link": true
    }
  },
  "nbformat": 4,
  "nbformat_minor": 5
}