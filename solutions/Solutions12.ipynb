{
  "cells": [
    {
      "cell_type": "markdown",
      "id": "a1bcaecf",
      "metadata": {
        "id": "a1bcaecf"
      },
      "source": [
        "# SAO/LIP Python Primer Course Exercise Set 12\n",
        "\n",
        "[![Open In Colab](https://colab.research.google.com/assets/colab-badge.svg)](https://colab.research.google.com/github/acorreia61201/SAOPythonPrimer/blob/main/exercises/Exercises12.ipynb)"
      ]
    },
    {
      "cell_type": "markdown",
      "id": "43ca2512",
      "metadata": {
        "id": "43ca2512"
      },
      "source": [
        "## Exercise: Writing an Integration Module\n",
        "\n",
        "This exercise has been adapted from the original version of lecture 12. You'll be using the trapezoidal and Monte-Carlo methods of integration that we've been using throughout the exercises thus far.\n",
        "\n",
        "1. Write a class called `Trapezoidal1D` that:\n",
        "    a. Takes two argument upon initialization: a function and the number of samples to use.\n",
        "    b. Defines an `integrate` method that takes as input the limits to integrate between and calculates the integral of the function using the [trapezoidal rule](https://en.wikipedia.org/wiki/Trapezoidal_rule).\n",
        "\n",
        "For example, if you define the function:\n",
        "\n",
        "```python\n",
        "def f(x):\n",
        "    return 1/(1+x*x)\n",
        "```\n",
        "\n",
        "Then you should be able initialize your class and integrate between -1 and 1 with:\n",
        "\n",
        "```python\n",
        "numerical_integrator = Trapezoidal1D(f, 100000)\n",
        "numerical_integrator.integrate(-1, 1)\n",
        "```"
      ]
    },
    {
      "cell_type": "code",
      "execution_count": 3,
      "id": "3c67fad1",
      "metadata": {
        "id": "3c67fad1"
      },
      "outputs": [],
      "source": [
        "import numpy as np\n",
        "\n",
        "class Trapezoidal1D:\n",
        "    '''Evaluates an integral using the trapezoidal rule'''\n",
        "\n",
        "    def __init__(self, f, n):\n",
        "        '''Initialize function and n points'''\n",
        "        self.f = f # define the function\n",
        "        self.n = n # define the number of points\n",
        "\n",
        "    def integrate(self, a, b):\n",
        "        '''Integrate using trapezoidal rule on interval [a, b]'''\n",
        "        grid = np.linspace(a, b, self.n) # grid with n points and bounds [a, b]\n",
        "        dx = (b-a)/(self.n-1) # separation between points\n",
        "        sum = self.f(a) + self.f(b) # placeholder containing endpoints\n",
        "        for i in range(1, self.n-1): # iterate over all points except first and last\n",
        "            sum += 2*self.f(grid[i]) # add each contribution\n",
        "        return sum*dx/2 # multiply prefactor\n",
        "\n",
        "# remember that we have to use self.variable if we refer to a variable defined in __init__"
      ]
    },
    {
      "cell_type": "code",
      "source": [
        "# testing with known values\n",
        "def f(x):\n",
        "    return x**2\n",
        "\n",
        "sqint = Trapezoidal1D(f, 100000)\n",
        "sqint.integrate(0, 1) # should get ~1/3"
      ],
      "metadata": {
        "id": "nejiGIC1YOl0",
        "outputId": "84bed004-d0ed-469f-c559-eb8f1e4b1eec",
        "colab": {
          "base_uri": "https://localhost:8080/"
        }
      },
      "id": "nejiGIC1YOl0",
      "execution_count": 5,
      "outputs": [
        {
          "output_type": "execute_result",
          "data": {
            "text/plain": [
              "0.33333333335000087"
            ]
          },
          "metadata": {},
          "execution_count": 5
        }
      ]
    },
    {
      "cell_type": "code",
      "source": [
        "def g(x):\n",
        "    return np.exp(x)\n",
        "\n",
        "expint = Trapezoidal1D(g, 100000)\n",
        "expint.integrate(0, 1) # should be e - 1 ~ 1.718"
      ],
      "metadata": {
        "id": "b33OFlWBZEpx",
        "outputId": "0e4e4a54-5676-4662-d3f4-b0ee8e37a8bd",
        "colab": {
          "base_uri": "https://localhost:8080/"
        }
      },
      "id": "b33OFlWBZEpx",
      "execution_count": 6,
      "outputs": [
        {
          "output_type": "execute_result",
          "data": {
            "text/plain": [
              "1.7182818284733599"
            ]
          },
          "metadata": {},
          "execution_count": 6
        }
      ]
    },
    {
      "cell_type": "markdown",
      "id": "4e40a137",
      "metadata": {
        "id": "4e40a137"
      },
      "source": [
        "2. Write an abstract base class called `Integral1D` that defines a common API for all 1D integral classes. This class should:\n",
        "\n",
        " * Have the same `__init__` as the `Trapezoidal1D` you defined in (1).\n",
        " * Define an abstract method called `integrate` that takes in the limits."
      ]
    },
    {
      "cell_type": "code",
      "execution_count": 8,
      "id": "3f6cfcba",
      "metadata": {
        "id": "3f6cfcba"
      },
      "outputs": [],
      "source": [
        "from abc import ABC, abstractmethod\n",
        "\n",
        "class Integral1D:\n",
        "    '''Abstract base class for generalizing integrator API'''\n",
        "\n",
        "    def __init__(self, f, n):\n",
        "        '''Initialize function and n points'''\n",
        "        self.f = f # define the function\n",
        "        self.n = n # define the number of points\n",
        "\n",
        "    @abstractmethod\n",
        "    def integrate(self, a, b):\n",
        "        '''Initializes the bounds [a, b] of integration'''\n",
        "        pass # remember, this function doesn't actually do anything; we need a child class to inherit here"
      ]
    },
    {
      "cell_type": "markdown",
      "id": "467d74ee",
      "metadata": {
        "id": "467d74ee"
      },
      "source": [
        "3. Modify `Trapezoidal1D` so that it inherits from `Integral1D`. You should be able to drop `Trapezoidal`'s `__init__` method since it will use the one in `Integral1D`."
      ]
    },
    {
      "cell_type": "code",
      "execution_count": 9,
      "id": "e302b77b",
      "metadata": {
        "id": "e302b77b"
      },
      "outputs": [],
      "source": [
        "# copying from above:\n",
        "class Trapezoidal1D(Integral1D): # add Integral1D as an \"argument\" for inheritance\n",
        "    '''Evaluates an integral using the trapezoidal rule'''\n",
        "\n",
        "    # we don't need an __init__ here; Integral1D handles this for us\n",
        "\n",
        "    def integrate(self, a, b):\n",
        "        '''Integrate using trapezoidal rule on interval [a, b]'''\n",
        "        grid = np.linspace(a, b, self.n) # grid with n points and bounds [a, b]\n",
        "        dx = (b-a)/(self.n-1) # separation between points\n",
        "        sum = self.f(a) + self.f(b) # placeholder containing endpoints\n",
        "        for i in range(1, self.n-1): # iterate over all points except first and last\n",
        "            sum += 2*self.f(grid[i]) # add each contribution\n",
        "        return sum*dx/2 # multiply prefactor"
      ]
    },
    {
      "cell_type": "code",
      "source": [
        "# testing\n",
        "sqint = Trapezoidal1D(f, 100000)\n",
        "sqint.integrate(0, 1) # should get ~1/3"
      ],
      "metadata": {
        "id": "uL4T81a7ancW",
        "outputId": "d33067d3-5c30-488c-842b-670d3687bce6",
        "colab": {
          "base_uri": "https://localhost:8080/"
        }
      },
      "id": "uL4T81a7ancW",
      "execution_count": 10,
      "outputs": [
        {
          "output_type": "execute_result",
          "data": {
            "text/plain": [
              "0.33333333335000087"
            ]
          },
          "metadata": {},
          "execution_count": 10
        }
      ]
    },
    {
      "cell_type": "markdown",
      "id": "1bbe5ee8",
      "metadata": {
        "id": "1bbe5ee8"
      },
      "source": [
        "4. Write a class called `MonteCarlo1D` that:\n",
        "  * Inherits from `Integral1D`.\n",
        "  * Implements [Monte Carlo integration](https://en.wikipedia.org/wiki/Monte_Carlo_integration) in it's `integral` method using the `N` samples instead of the trapezoidal rule.\n",
        "\n",
        "In other words, using the function `f` above, you should be able to integrate between -1 and 1 with:\n",
        "\n",
        "```python\n",
        "numerical_integrator = MoneCarlo1D(f, 100000)\n",
        "numerical_integrator.integrate(-1, 1)\n",
        "```"
      ]
    },
    {
      "cell_type": "code",
      "execution_count": 13,
      "id": "4d016bc2",
      "metadata": {
        "id": "4d016bc2"
      },
      "outputs": [],
      "source": [
        "class MonteCarlo1D(Integral1D): # inherit from Integral1D\n",
        "    '''Integrate using the Monte Carlo method'''\n",
        "\n",
        "    # again, we don't need an __init__ function; Integral1D handles it for us\n",
        "\n",
        "    def integrate(self, a, b):\n",
        "        '''Integrate using Monte-Carlo integration on interval [a, b]'''\n",
        "        grid = np.random.uniform(a, b, self.n) # generate random grid\n",
        "        V = b - a # 1D volume element\n",
        "        sum = 0 # placeholder\n",
        "        for i in grid:\n",
        "            sum += self.f(i) # add each term\n",
        "        return sum*V/self.n # multiply prefactor"
      ]
    },
    {
      "cell_type": "code",
      "source": [
        "# testing\n",
        "sqint = MonteCarlo1D(f, 100000)\n",
        "sqint.integrate(0, 1) # should get ~1/3"
      ],
      "metadata": {
        "id": "tpt8IAeQbdba",
        "outputId": "a0e3d46a-877b-44db-841e-10ab6d8ad657",
        "colab": {
          "base_uri": "https://localhost:8080/"
        }
      },
      "id": "tpt8IAeQbdba",
      "execution_count": 17,
      "outputs": [
        {
          "output_type": "execute_result",
          "data": {
            "text/plain": [
              "0.33403360996188886"
            ]
          },
          "metadata": {},
          "execution_count": 17
        }
      ]
    },
    {
      "cell_type": "code",
      "source": [
        "expint = MonteCarlo1D(g, 100000)\n",
        "expint.integrate(0, 1) # should be e - 1 ~ 1.718"
      ],
      "metadata": {
        "id": "ip3ByV_Ybh6F",
        "outputId": "2aed95a9-9730-4125-9bd3-546a7cf56359",
        "colab": {
          "base_uri": "https://localhost:8080/"
        }
      },
      "id": "ip3ByV_Ybh6F",
      "execution_count": 18,
      "outputs": [
        {
          "output_type": "execute_result",
          "data": {
            "text/plain": [
              "1.7211881769787736"
            ]
          },
          "metadata": {},
          "execution_count": 18
        }
      ]
    }
  ],
  "metadata": {
    "kernelspec": {
      "display_name": "Python 3 (ipykernel)",
      "language": "python",
      "name": "python3"
    },
    "language_info": {
      "codemirror_mode": {
        "name": "ipython",
        "version": 3
      },
      "file_extension": ".py",
      "mimetype": "text/x-python",
      "name": "python",
      "nbconvert_exporter": "python",
      "pygments_lexer": "ipython3",
      "version": "3.9.16"
    },
    "colab": {
      "provenance": []
    }
  },
  "nbformat": 4,
  "nbformat_minor": 5
}