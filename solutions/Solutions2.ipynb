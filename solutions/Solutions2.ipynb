{
  "cells": [
    {
      "cell_type": "markdown",
      "metadata": {
        "id": "view-in-github",
        "colab_type": "text"
      },
      "source": [
        "<a href=\"https://colab.research.google.com/github/acorreia61201/SAOPythonPrimer/blob/main/solutions/Solutions2.ipynb\" target=\"_parent\"><img src=\"https://colab.research.google.com/assets/colab-badge.svg\" alt=\"Open In Colab\"/></a>"
      ]
    },
    {
      "cell_type": "markdown",
      "id": "6f117297",
      "metadata": {
        "id": "6f117297"
      },
      "source": [
        "# SAO/LIP Python Primer Course Exercise Set 2\n",
        "\n",
        "[![Open In Colab](https://colab.research.google.com/assets/colab-badge.svg)](https://colab.research.google.com/github/acorreia61201/SAOPythonPrimer/blob/main/exercises/Exercises2.ipynb)\n",
        "\n",
        "## Exercise 1: Working with Lists\n",
        "\n",
        "Let's start by using lists and iteration to do some simple calculations.\n",
        "\n",
        "**Your task:** Use a loop to multiply together all the elements of the list `test` below. Print out the value of the product afterwards."
      ]
    },
    {
      "cell_type": "code",
      "execution_count": null,
      "id": "0a40260f",
      "metadata": {
        "id": "0a40260f",
        "outputId": "dfc76aca-6e21-4e62-88f9-9c1158181f36",
        "colab": {
          "base_uri": "https://localhost:8080/"
        }
      },
      "outputs": [
        {
          "output_type": "stream",
          "name": "stdout",
          "text": [
            "747242496000\n"
          ]
        }
      ],
      "source": [
        "test = [3,12,4,15,10,8,6,14,4,11,9,5,2,13]\n",
        "\n",
        "prod = 1 # define a counter outside of the loop\n",
        "for i in test: # iterate over each value in the list\n",
        "    prod *= i # multiply the element to the running total\n",
        "\n",
        "print(prod)"
      ]
    },
    {
      "cell_type": "markdown",
      "id": "f70814ed",
      "metadata": {
        "id": "f70814ed"
      },
      "source": [
        "**Your task:** Now, use a loop to find the arithmetic mean of `test`. Recall the *arithmetic mean* of a sequence is the sum of all of the elements divided by the number of elements. Save the value of the mean; it will be useful in the next task."
      ]
    },
    {
      "cell_type": "code",
      "execution_count": null,
      "id": "b8cc7869",
      "metadata": {
        "id": "b8cc7869",
        "outputId": "f267098f-4d27-4528-9500-648b008b12c0",
        "colab": {
          "base_uri": "https://localhost:8080/"
        }
      },
      "outputs": [
        {
          "output_type": "stream",
          "name": "stdout",
          "text": [
            "8.285714285714286\n"
          ]
        }
      ],
      "source": [
        "mean = 0 # counter variable\n",
        "for i in test:\n",
        "    mean += i # add all values together\n",
        "\n",
        "mean /= len(test) # divide sum of all values by length of list\n",
        "print(mean)"
      ]
    },
    {
      "cell_type": "markdown",
      "id": "d51f8740",
      "metadata": {
        "id": "d51f8740"
      },
      "source": [
        "**Your task:** Finally, use a loop to determine the *standard deviation* of `test`. The formula for standard deviation is:\n",
        "\n",
        "\\begin{equation}\n",
        "\\sigma = \\sqrt{\\frac{\\sum_i(x_i - \\mu)^2}{N}}\n",
        "\\end{equation}\n",
        "\n",
        "If you're unfamiliar with the notation, the expression in parentheses on the right (the *sigma*) represents a summation over all $x_i$, the elements of `test`. $\\mu$ is the mean you calculated above; you don't have to recalculate it here. $N$ is the total number of elements. As an example, if `test` had 3 elements, your code should output:\n",
        "\n",
        "\\begin{equation}\n",
        "\\sigma = \\sqrt{\\frac{(x_0 - \\mu)^2 + (x_1 - \\mu)^2 + (x_2 - \\mu)^2}{3}} \\\\\n",
        "\\mu = \\frac{x_0 + x_1 + x_2}{3}\n",
        "\\end{equation}"
      ]
    },
    {
      "cell_type": "code",
      "execution_count": null,
      "id": "050da597",
      "metadata": {
        "id": "050da597",
        "outputId": "e4c66a35-52e2-4459-fbd1-e15f32fab8b7",
        "colab": {
          "base_uri": "https://localhost:8080/"
        }
      },
      "outputs": [
        {
          "output_type": "stream",
          "name": "stdout",
          "text": [
            "4.182080333801271\n"
          ]
        }
      ],
      "source": [
        "stdev = 0 # counter variable\n",
        "for i in test:\n",
        "    stdev += (i - mean)**2 # evaluate the sum in the demominator\n",
        "\n",
        "stdev /= len(test) # divide sum by length of list\n",
        "stdev = stdev**0.5 # take the sqrt\n",
        "print(stdev)"
      ]
    },
    {
      "cell_type": "markdown",
      "id": "f9e8c7f2",
      "metadata": {
        "id": "f9e8c7f2"
      },
      "source": [
        "## Exercise 2: Logic gates\n",
        "\n",
        "Let's get a little practice with Boolean logic by constructing the basic logic gates.\n",
        "\n",
        "**Your task:** Using the `not`, `and`, and `or` operators, construct the logic gates indicated in the comments I've written. Check your answers by changing the values of `a` and `b` to different combinations of `True` and `False` (you can check with the truth tables at https://en.wikipedia.org/wiki/Logic_gate#Symbols; a \"0\" means `False` and a \"1\" means `True`."
      ]
    },
    {
      "cell_type": "code",
      "execution_count": null,
      "id": "a807ea4c",
      "metadata": {
        "id": "a807ea4c",
        "outputId": "156f9084-0817-45fb-e723-490c14056215",
        "colab": {
          "base_uri": "https://localhost:8080/"
        }
      },
      "outputs": [
        {
          "output_type": "execute_result",
          "data": {
            "text/plain": [
              "True"
            ]
          },
          "metadata": {},
          "execution_count": 12
        }
      ],
      "source": [
        "#NAND, The \"not and\" gate: it returns False if both inputs are true and True otherwise.\n",
        "a = True\n",
        "b = False\n",
        "\n",
        "not (a and b)"
      ]
    },
    {
      "cell_type": "code",
      "source": [
        "# Alternatively, we could use de Morgan's Law\n",
        "(not a) or (not b)"
      ],
      "metadata": {
        "id": "hNR1L5To7qRJ",
        "outputId": "dab9162a-caae-43b7-b351-312376821172",
        "colab": {
          "base_uri": "https://localhost:8080/"
        }
      },
      "id": "hNR1L5To7qRJ",
      "execution_count": null,
      "outputs": [
        {
          "output_type": "execute_result",
          "data": {
            "text/plain": [
              "True"
            ]
          },
          "metadata": {},
          "execution_count": 13
        }
      ]
    },
    {
      "cell_type": "code",
      "execution_count": null,
      "id": "eb811594",
      "metadata": {
        "id": "eb811594",
        "outputId": "71f22fe2-1746-4fed-8d96-55ef642ab3f6",
        "colab": {
          "base_uri": "https://localhost:8080/"
        }
      },
      "outputs": [
        {
          "output_type": "execute_result",
          "data": {
            "text/plain": [
              "False"
            ]
          },
          "metadata": {},
          "execution_count": 7
        }
      ],
      "source": [
        "#NOR, The \"not or\" gate: it returns True if both inputs are false and False otherwise.\n",
        "a = True\n",
        "b = True\n",
        "\n",
        "not (a or b)"
      ]
    },
    {
      "cell_type": "code",
      "source": [
        "# Alternatively, we could use de Morgan's Law\n",
        "(not a) and (not b)"
      ],
      "metadata": {
        "id": "nluOoaif71yn",
        "outputId": "f258711d-a352-47e1-cc6a-afbe39b9f536",
        "colab": {
          "base_uri": "https://localhost:8080/"
        }
      },
      "id": "nluOoaif71yn",
      "execution_count": null,
      "outputs": [
        {
          "output_type": "execute_result",
          "data": {
            "text/plain": [
              "False"
            ]
          },
          "metadata": {},
          "execution_count": 8
        }
      ]
    },
    {
      "cell_type": "code",
      "execution_count": null,
      "id": "8c17dee3",
      "metadata": {
        "id": "8c17dee3",
        "outputId": "f6e13543-ba85-4cf3-d2ac-e0ed333f6248",
        "colab": {
          "base_uri": "https://localhost:8080/"
        }
      },
      "outputs": [
        {
          "output_type": "execute_result",
          "data": {
            "text/plain": [
              "False"
            ]
          },
          "metadata": {},
          "execution_count": 9
        }
      ],
      "source": [
        "# XOR, the exclusive or gate. This gate returns True if the inputs are opposite (i.e. a is True and b is False) \n",
        "# and False otherwise.\n",
        "    \n",
        "# Hint: Start by writing an and statement that's false when the inputs are the same. Negating the inputs will give\n",
        "# the same truth values if the inputs are the same, but will invert the truth values if they're different. \n",
        "a = True\n",
        "b = True\n",
        "\n",
        "(a and not b) or (b and not a)"
      ]
    },
    {
      "cell_type": "code",
      "execution_count": null,
      "id": "919e5c13",
      "metadata": {
        "id": "919e5c13",
        "outputId": "7216140c-2ed9-4b76-cdfe-af9ddc5cbb0d",
        "colab": {
          "base_uri": "https://localhost:8080/"
        }
      },
      "outputs": [
        {
          "output_type": "execute_result",
          "data": {
            "text/plain": [
              "True"
            ]
          },
          "metadata": {},
          "execution_count": 10
        }
      ],
      "source": [
        "#XNOR, the exclusive nor gate. This gate returns True if the inputs are the same and False otherwise\n",
        "    \n",
        "# Hint: Think of this as the \"not xor\" gate.\n",
        "a = True\n",
        "b = True\n",
        "\n",
        "not ((a and not b) or (b and not a))"
      ]
    },
    {
      "cell_type": "code",
      "source": [
        "# Or we could use de Morgan's Law\n",
        "not (a and not b) and not (b and not a)"
      ],
      "metadata": {
        "id": "-y7OSYUG8Ilb",
        "outputId": "0f011bd3-3f63-4a84-addf-82015fd83c3f",
        "colab": {
          "base_uri": "https://localhost:8080/"
        }
      },
      "id": "-y7OSYUG8Ilb",
      "execution_count": null,
      "outputs": [
        {
          "output_type": "execute_result",
          "data": {
            "text/plain": [
              "True"
            ]
          },
          "metadata": {},
          "execution_count": 11
        }
      ]
    },
    {
      "cell_type": "code",
      "source": [
        "(not a or b) and (not b or a)"
      ],
      "metadata": {
        "id": "diRJtzlP8Sqb",
        "outputId": "1a338c3b-ee54-4422-e7bc-9b279ad8e836",
        "colab": {
          "base_uri": "https://localhost:8080/"
        }
      },
      "id": "diRJtzlP8Sqb",
      "execution_count": null,
      "outputs": [
        {
          "output_type": "execute_result",
          "data": {
            "text/plain": [
              "True"
            ]
          },
          "metadata": {},
          "execution_count": 12
        }
      ]
    },
    {
      "cell_type": "markdown",
      "id": "c20f7e45",
      "metadata": {
        "id": "c20f7e45"
      },
      "source": [
        "## Exercise 3: Evaluating a Series\n",
        "\n",
        "One common problem in programming is calculating the exact value of a function. As we've seen with floating-point errors, computers generally don't calculate exact values for functions when possible to maximize performance. One method to evaluate functions is by using their *series approximations*, which approximate the function to a summation of terms.\n",
        "\n",
        "We'll start by approximating the value of $\\pi$, one of the most well-recognized mathematical constants. Specifically, we'll use a famous series that converges to a value related to $\\pi$:\n",
        "\n",
        "\\begin{equation}\n",
        "\\frac{\\pi^2}{6} = \\sum_{n=1}^\\infty \\frac{1}{n^2}\n",
        "\\end{equation}\n",
        "\n",
        "If you're unfamiliar with the notation, the large symbol on the left (the *sigma*) represents a summation from $n=1$ to infinity. The above formula can be rewritten as:\n",
        "\n",
        "\\begin{equation}\n",
        "\\frac{\\pi^2}{6} = \\frac{1}{1} + \\frac{1}{4} + \\frac{1}{9} + \\cdots\n",
        "\\end{equation}\n",
        "\n",
        "**Your task:** Use a `for` loop to approximate the value of $\\pi^2/6$ to 10 terms. The exact value is $\\pi^2/6 = 1.6449340668...$ How does your result compare?"
      ]
    },
    {
      "cell_type": "code",
      "execution_count": null,
      "id": "7a1c5822",
      "metadata": {
        "id": "7a1c5822",
        "outputId": "3971e1c8-6b62-47c6-eb9b-026cfeb605bc",
        "colab": {
          "base_uri": "https://localhost:8080/"
        }
      },
      "outputs": [
        {
          "output_type": "stream",
          "name": "stdout",
          "text": [
            "1.5497677311665408\n"
          ]
        }
      ],
      "source": [
        "pi_sum = 0 # counter\n",
        "\n",
        "for n in range(1, 11): # iterate over 10 terms starting from 1 (i.e. from 1 to 10)\n",
        "    pi_sum += 1/(n*n) # add the ith term\n",
        "\n",
        "print(pi_sum)\n",
        "# Note: this sum converges very slowly; including n = 1000 is still only accurate to two decimals"
      ]
    },
    {
      "cell_type": "markdown",
      "id": "86f0d74d",
      "metadata": {
        "id": "86f0d74d"
      },
      "source": [
        "We can use a slightly more complicated, less well-known series to approximate $\\pi$ directly:\n",
        "\n",
        "\\begin{equation}\n",
        "\\pi = \\sum_{n=1}^\\infty (-1)^{n+1} \\frac{4}{2n+1}\n",
        "\\end{equation}\n",
        "\n",
        "**Your task:** Use a `for` loop to approximate the value of $\\pi$ to 10 terms. The exact value is $\\pi = 3.1415926535...$ How does your result compare?"
      ]
    },
    {
      "cell_type": "code",
      "execution_count": null,
      "id": "486cd01d",
      "metadata": {
        "id": "486cd01d",
        "outputId": "e04e09c8-1483-4bbb-8464-280faffd6334",
        "colab": {
          "base_uri": "https://localhost:8080/"
        }
      },
      "outputs": [
        {
          "output_type": "stream",
          "name": "stdout",
          "text": [
            "3.0418396189294032\n"
          ]
        }
      ],
      "source": [
        "pi_sum2 = 0 # counter\n",
        "\n",
        "for n in range(1, 11):\n",
        "    pi_sum2 += (-1)**(n+1)*4/(2*n - 1) # add the ith term\n",
        "\n",
        "print(pi_sum2)\n",
        "# Note: this sum also converges relatively slowly; you should still get something ~3"
      ]
    },
    {
      "cell_type": "markdown",
      "id": "b29babdd",
      "metadata": {
        "id": "b29babdd"
      },
      "source": [
        "Next, let's try approximating the value of *Euler's constant $e$*, another one of the most widely-used values in statistics and mathematics. Its value can be approximated using the following formula:\n",
        "\n",
        "\\begin{equation}\n",
        "e = \\sum_{n=0}^\\infty \\frac{1}{n!}\n",
        "\\end{equation}\n",
        "\n",
        "The exclamation mark is a *factorial*, where $n!$ is the product of all integers from 1 to $n$ and $0!$ is defined as 1. Therefore, the above formula can be rewritten as:\n",
        "\n",
        "\\begin{equation}\n",
        "e = 1 + \\frac{1}{1} + \\frac{1}{1 \\times 2} + \\frac{1}{1 \\times 2 \\times 3} + \\cdots\n",
        "\\end{equation}\n",
        "\n",
        "**Your task:** Use a `for` loop to approximate the value of $e$ to 10 terms. For the sake of practice, use a nested `for` loop to evaluate the factorial rather than a builtin.\n",
        "\n",
        "The exact value of Euler's number is $e = 2.7182818284...$ How does your result compare?"
      ]
    },
    {
      "cell_type": "code",
      "execution_count": null,
      "id": "90c5ac5f",
      "metadata": {
        "id": "90c5ac5f",
        "outputId": "2626c171-2b44-4262-ae39-5c7b68fea5c6",
        "colab": {
          "base_uri": "https://localhost:8080/"
        }
      },
      "outputs": [
        {
          "output_type": "stream",
          "name": "stdout",
          "text": [
            "2.7182815255731922\n"
          ]
        }
      ],
      "source": [
        "e_sum = 0 # counter\n",
        "\n",
        "for n in range(0, 10): # take care of the bounds; we're starting at zero now\n",
        "    fact = 1 # counter for factorial\n",
        "    for j in range(1, n+1): # iterate from 1 to i\n",
        "        fact *= j # multiply all integers from 1 to i together\n",
        "    e_sum += 1/fact # add inverse factorial to sum\n",
        "\n",
        "print(e_sum)\n",
        "# This sum sould converge relatively quickly. You should get something pretty close to e"
      ]
    },
    {
      "cell_type": "code",
      "source": [
        "e_sum = 1 # counter (including n=0 term)\n",
        "fact = 1 # counter for factorial\n",
        "\n",
        "for n in range(1, 10): # take care of the bounds; we're starting at zero now\n",
        "    fact *= n # increment factorial\n",
        "    e_sum += 1/fact # add inverse factorial to sum\n",
        "\n",
        "print(e_sum)\n",
        "# This sum sould converge relatively quickly. You should get something pretty close to e"
      ],
      "metadata": {
        "colab": {
          "base_uri": "https://localhost:8080/"
        },
        "id": "O8BWE1XVJu8n",
        "outputId": "99f594cc-3c25-40e2-8cd2-87aa7d988937"
      },
      "id": "O8BWE1XVJu8n",
      "execution_count": null,
      "outputs": [
        {
          "output_type": "stream",
          "name": "stdout",
          "text": [
            "2.7182815255731922\n"
          ]
        }
      ]
    },
    {
      "cell_type": "markdown",
      "id": "8d493c71",
      "metadata": {
        "id": "8d493c71"
      },
      "source": [
        "## Exercise 4: Verifying the Golden Ratio\n",
        "\n",
        "One of the most well-known numerical sequences is the *Fibonacci sequence*. We can evaluate the first few terms in the sequence using loops and the following formula:\n",
        "\n",
        "\\begin{equation}\n",
        "F_{n} = F_{n-1} + F_{n-2}\n",
        "\\end{equation}\n",
        "\n",
        "In other words, the *n*th Fibonacci number is equal to the sum of the two Fibonacci numbers before it. The first two Fibonacci numbers are defined as $F_1 = 1$ and $F_2 = 1$ (we'll omit the actual first element, $F_0 = 0$, to avoid divide by zero errors later on). \n",
        "\n",
        "**Your task:** Write a loop that calculates the first 11 Fibonacci numbers. Save them to a list for later."
      ]
    },
    {
      "cell_type": "code",
      "execution_count": null,
      "id": "e1f70f1c",
      "metadata": {
        "id": "e1f70f1c",
        "outputId": "f7edc713-45c0-40e5-d0d3-885253f7f9f0",
        "colab": {
          "base_uri": "https://localhost:8080/"
        }
      },
      "outputs": [
        {
          "output_type": "stream",
          "name": "stdout",
          "text": [
            "[1, 1, 2, 3, 5, 8, 13, 21, 34, 55, 89]\n"
          ]
        }
      ],
      "source": [
        "fib_nums = [1, 1] # empty list for saving values, including F_1 and F_2\n",
        "\n",
        "while len(fib_nums) < 11: # compute until the list has eleven values \n",
        "    F1 = fib_nums[-2] # the second to last list element\n",
        "    F2 = fib_nums[-1] # the last list element\n",
        "    fib_nums.append(F1 + F2) # append the sum of the last two elements\n",
        "\n",
        "print(fib_nums)"
      ]
    },
    {
      "cell_type": "markdown",
      "id": "83d92223",
      "metadata": {
        "id": "83d92223"
      },
      "source": [
        "One result of number theory predicts a limiting behavior for the Fibonacci sequence, known as the *golden ratio*:\n",
        "\n",
        "\\begin{equation}\n",
        "\\lim_{i \\rightarrow \\infty} \\frac{F_{i+1}}{F_i} = \\frac{1 + \\sqrt{5}}{2}\n",
        "\\end{equation}\n",
        "\n",
        "The right-hand expression is a *limit*, and more specifically reads as \"the limit as $i$ goes to infinity\". This means that as $i$ gets larger and larger, the expression on the left will get closer and closer to the expression on the right. The ratio on the left indicates an element in your list divided by its previous neighbor. For example, if $i = 0$, the ratio would be $F_1/F_0$, the second element divided by the first.\n",
        "\n",
        "**Your task:** Calculate the ratios between your Fibonacci numbers using a loop and save them to a list. Your list should have ten elements. (Hint: You'll need to add some logic to exclude the first or last element from the calculation depending on how you've written your code.)"
      ]
    },
    {
      "cell_type": "code",
      "execution_count": null,
      "id": "f0c64ef6",
      "metadata": {
        "id": "f0c64ef6",
        "outputId": "7b73e647-04eb-43c1-abed-3f8129e00221",
        "colab": {
          "base_uri": "https://localhost:8080/"
        }
      },
      "outputs": [
        {
          "output_type": "stream",
          "name": "stdout",
          "text": [
            "[1.0, 2.0, 1.5, 1.6666666666666667, 1.6, 1.625, 1.6153846153846154, 1.619047619047619, 1.6176470588235294, 1.6181818181818182]\n"
          ]
        }
      ],
      "source": [
        "ratios = [] # empty list for saving ratios\n",
        "\n",
        "for i in range(11): # repeat loop 10 times for 10 ratios\n",
        "    if i == 0: # handle the first element by skipping it\n",
        "        pass\n",
        "    else:\n",
        "        r = fib_nums[i]/fib_nums[i-1] # calculate ratio of current element divided by previous element\n",
        "        ratios.append(r)\n",
        "\n",
        "print(ratios)"
      ]
    },
    {
      "cell_type": "code",
      "source": [
        "# alternatively, omitting the last element\n",
        "ratios = [] # empty list for saving ratios\n",
        "\n",
        "for i in range(11): # repeat loop 10 times for 10 ratios\n",
        "    if i+1 > len(fib_nums)-1: # if the next element index lies outside of the list (i.e. is greater than len - 1) skip it\n",
        "        pass\n",
        "    else:\n",
        "        r = fib_nums[i+1]/fib_nums[i] # calculate ratio of next element divided by current element\n",
        "        ratios.append(r)\n",
        "\n",
        "print(ratios)"
      ],
      "metadata": {
        "id": "RSlIA1wHDm4s",
        "outputId": "2952d4f0-848d-4501-ddca-8f7829d277cc",
        "colab": {
          "base_uri": "https://localhost:8080/"
        }
      },
      "id": "RSlIA1wHDm4s",
      "execution_count": null,
      "outputs": [
        {
          "output_type": "stream",
          "name": "stdout",
          "text": [
            "[1.0, 2.0, 1.5, 1.6666666666666667, 1.6, 1.625, 1.6153846153846154, 1.619047619047619, 1.6176470588235294, 1.6181818181818182]\n"
          ]
        }
      ]
    },
    {
      "cell_type": "markdown",
      "id": "98c4dea3",
      "metadata": {
        "id": "98c4dea3"
      },
      "source": [
        "**Your task:** Now, use a loop to create a new list that stores the values:\n",
        "\n",
        "\\begin{equation}\n",
        "\\bigg| \\frac{F_{i+1}}{F_i} - \\frac{1 + \\sqrt{5}}{2} \\bigg|\n",
        "\\end{equation}\n",
        "\n",
        "The fraction represents the ratios you calculated in the previous task. The bars represent the *absolute value*, which you can take in Python using the built-in function `abs()`. From the limit equation above, this expression should approach 0 as $i$ increases. Is that the case here?"
      ]
    },
    {
      "cell_type": "code",
      "execution_count": null,
      "id": "311aa987",
      "metadata": {
        "id": "311aa987",
        "outputId": "82a689ca-f82e-4c43-d83d-47df5abcc386",
        "colab": {
          "base_uri": "https://localhost:8080/"
        }
      },
      "outputs": [
        {
          "output_type": "stream",
          "name": "stdout",
          "text": [
            "[0.6180339887498949, 0.3819660112501051, 0.1180339887498949, 0.04863267791677184, 0.018033988749894814, 0.0069660112501050975, 0.0026493733652794837, 0.0010136302977241662, 0.00038692992636546464, 0.00014782943192326314]\n"
          ]
        }
      ],
      "source": [
        "abs_errs = [] # empty list for saving absolute errors\n",
        "\n",
        "for i in ratios:\n",
        "    gold = (1 + 5**0.5)/2 # the golden ratio\n",
        "    ae = abs(i - gold) # absolute error between ratio and golden ratio\n",
        "    abs_errs.append(ae) # append the value\n",
        "\n",
        "print(abs_errs)\n",
        "# you should get something ~10^-3; not zero, but it definitely looks like it's on its way there"
      ]
    },
    {
      "cell_type": "markdown",
      "id": "3998581c",
      "metadata": {
        "id": "3998581c"
      },
      "source": [
        "## Exercise 5: Triangular Numbers\n",
        "\n",
        "In number theory, a *triangular number* is defined as follows:\n",
        "\n",
        "\\begin{equation}\n",
        "T_n = \\sum_{k=1}^n k = 1 + 2 + 3 + \\cdots + n\n",
        "\\end{equation}\n",
        "\n",
        "Some of these triangular numbers happen to be *perfect squares*, integers that are equal to some other integer times itself. The two smallest square triangular numbers are $T_1 = 1$ and $T_8 = 36 = 6^2$.\n",
        "\n",
        "**Your task:** Write a loop that calculates the first eleven square triangular numbers $N_k$. The easiest way to do this is by using a `while` loop, and on each iteration calculating the triangular number and then checking if it's a perfect square. Save these values to a list. \n",
        "\n",
        "(Hint: You may find two functions useful: `math.floor()`, which rounds down a float to the previous integer, and `math.ceil()` which rounds up a float to the next integer. I've imported them for you in the cell below. If you input a float representation of an integer (e.g. 6.0), these functions will return the same value of 6. Try taking the square root of some square numbers you know to see how this could be useful.)"
      ]
    },
    {
      "cell_type": "code",
      "execution_count": null,
      "id": "6ad2c563",
      "metadata": {
        "id": "6ad2c563",
        "outputId": "11b0edef-f52d-43e3-a6d0-e833e7ca6935",
        "colab": {
          "base_uri": "https://localhost:8080/",
          "height": 256
        }
      },
      "outputs": [
        {
          "output_type": "error",
          "ename": "KeyboardInterrupt",
          "evalue": "ignored",
          "traceback": [
            "\u001b[0;31m---------------------------------------------------------------------------\u001b[0m",
            "\u001b[0;31mKeyboardInterrupt\u001b[0m                         Traceback (most recent call last)",
            "\u001b[0;32m<ipython-input-24-ce5594d62f3b>\u001b[0m in \u001b[0;36m<cell line: 7>\u001b[0;34m()\u001b[0m\n\u001b[1;32m      8\u001b[0m     \u001b[0mtnum\u001b[0m \u001b[0;34m+=\u001b[0m \u001b[0mcounter\u001b[0m \u001b[0;31m# add the counter to the triangular number\u001b[0m\u001b[0;34m\u001b[0m\u001b[0;34m\u001b[0m\u001b[0m\n\u001b[1;32m      9\u001b[0m     \u001b[0msqrt_check\u001b[0m \u001b[0;34m=\u001b[0m \u001b[0mtnum\u001b[0m\u001b[0;34m**\u001b[0m\u001b[0;36m0.5\u001b[0m \u001b[0;31m# take square root\u001b[0m\u001b[0;34m\u001b[0m\u001b[0;34m\u001b[0m\u001b[0m\n\u001b[0;32m---> 10\u001b[0;31m     \u001b[0;32mif\u001b[0m \u001b[0mfloor\u001b[0m\u001b[0;34m(\u001b[0m\u001b[0msqrt_check\u001b[0m\u001b[0;34m)\u001b[0m \u001b[0;34m==\u001b[0m \u001b[0mceil\u001b[0m\u001b[0;34m(\u001b[0m\u001b[0msqrt_check\u001b[0m\u001b[0;34m)\u001b[0m\u001b[0;34m:\u001b[0m \u001b[0;31m# check if the square root is an integer (i.e. its floor and ceil values are equal)\u001b[0m\u001b[0;34m\u001b[0m\u001b[0;34m\u001b[0m\u001b[0m\n\u001b[0m\u001b[1;32m     11\u001b[0m         \u001b[0mst_nums\u001b[0m\u001b[0;34m.\u001b[0m\u001b[0mappend\u001b[0m\u001b[0;34m(\u001b[0m\u001b[0mtnum\u001b[0m\u001b[0;34m)\u001b[0m \u001b[0;31m# add the triangular number to the list\u001b[0m\u001b[0;34m\u001b[0m\u001b[0;34m\u001b[0m\u001b[0m\n\u001b[1;32m     12\u001b[0m     \u001b[0mcounter\u001b[0m \u001b[0;34m+=\u001b[0m \u001b[0;36m1\u001b[0m \u001b[0;31m# add 1 to the counter for next iteration\u001b[0m\u001b[0;34m\u001b[0m\u001b[0;34m\u001b[0m\u001b[0m\n",
            "\u001b[0;31mKeyboardInterrupt\u001b[0m: "
          ]
        }
      ],
      "source": [
        "from math import floor, ceil\n",
        "\n",
        "st_nums = [] # list for saving square triangle nums\n",
        "tnum = 0 # counter for triangular numbers\n",
        "counter = 1 # counter that increases by 1 at each step\n",
        "\n",
        "while len(st_nums) < 11: # iterate until list has eleven elements\n",
        "    tnum += counter # add the counter to the triangular number\n",
        "    sqrt_check = tnum**0.5 # take square root\n",
        "    if floor(sqrt_check) == ceil(sqrt_check): # check if the square root is an integer (i.e. its floor and ceil values are equal)\n",
        "        st_nums.append(tnum) # add the triangular number to the list\n",
        "    counter += 1 # add 1 to the counter for next iteration\n",
        "\n",
        "# this may take a few seconds to run\n",
        "print(st_nums)\n",
        "\n"
      ]
    },
    {
      "cell_type": "code",
      "source": [
        "floor(36.**0.5) == ceil(36.**0.5)"
      ],
      "metadata": {
        "colab": {
          "base_uri": "https://localhost:8080/"
        },
        "id": "RWDk1VU9Ni_4",
        "outputId": "99aea8ba-a0a8-47b3-8fea-a5442c1ba395"
      },
      "id": "RWDk1VU9Ni_4",
      "execution_count": null,
      "outputs": [
        {
          "output_type": "execute_result",
          "data": {
            "text/plain": [
              "True"
            ]
          },
          "metadata": {},
          "execution_count": 26
        }
      ]
    },
    {
      "cell_type": "markdown",
      "id": "f84a27fd",
      "metadata": {
        "id": "f84a27fd"
      },
      "source": [
        "One result of number theory predicts a limiting behavior for square triangular numbers:\n",
        "\n",
        "\\begin{equation}\n",
        "\\lim_{i \\rightarrow \\infty} \\frac{N_{i+1}}{N_i} = (1 + \\sqrt{2})^4\n",
        "\\end{equation}\n",
        "\n",
        "**Your task:** Repeat the error analysis that you conducted in Exercise 4 to evaluate the golden ratio. That is, generate a list of ratios of values that will represent the left hand side, and use them to calculate\n",
        "\n",
        "\\begin{equation}\n",
        "\\bigg| \\frac{N_{i+1}}{N_i} - (1 + \\sqrt{2})^4 \\bigg|\n",
        "\\end{equation}\n",
        "\n",
        "Do your values approach the limit?"
      ]
    },
    {
      "cell_type": "code",
      "execution_count": null,
      "id": "c8310a1c",
      "metadata": {
        "id": "c8310a1c",
        "outputId": "c4c34350-5741-4c77-966b-8d33b8a7ecdc",
        "colab": {
          "base_uri": "https://localhost:8080/"
        }
      },
      "outputs": [
        {
          "output_type": "stream",
          "name": "stdout",
          "text": [
            "[2.0294372515228645, 0.05721502930064304, 0.0016821494820504768, 4.9516036511931816e-05, 1.4576144451439177e-06, 4.290816946195264e-08, 1.2631033996512997e-09, 3.7189806789683644e-11, 1.1013412404281553e-12, 3.552713678800501e-14]\n"
          ]
        }
      ],
      "source": [
        "ratios = [] # empty list for saving ratios\n",
        "abs_errs = [] # empty list for saving absolute errors\n",
        "\n",
        "# first, populate the ratios list\n",
        "for i in range(11): # repeat loop 10 times for 10 ratios\n",
        "    if i == 0: # handle the first element by skipping it\n",
        "        pass\n",
        "    else:\n",
        "        r = st_nums[i]/st_nums[i-1] # calculate ratio of current element divided by previous element\n",
        "        ratios.append(r)\n",
        "\n",
        "# then, populate the abs err list\n",
        "for i in ratios:\n",
        "    lim = (1 + 2**0.5)**4 # the limit\n",
        "    ae = abs(i - lim) # absolute error between ratio and limit\n",
        "    abs_errs.append(ae) # append the value\n",
        "\n",
        "print(abs_errs)\n",
        "# this converges much faster to zero; by the tenth element you should hit ~ machine precision"
      ]
    }
  ],
  "metadata": {
    "kernelspec": {
      "display_name": "Python 3 (ipykernel)",
      "language": "python",
      "name": "python3"
    },
    "language_info": {
      "codemirror_mode": {
        "name": "ipython",
        "version": 3
      },
      "file_extension": ".py",
      "mimetype": "text/x-python",
      "name": "python",
      "nbconvert_exporter": "python",
      "pygments_lexer": "ipython3",
      "version": "3.9.16"
    },
    "colab": {
      "provenance": [],
      "include_colab_link": true
    }
  },
  "nbformat": 4,
  "nbformat_minor": 5
}