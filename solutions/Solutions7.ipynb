{
  "cells": [
    {
      "cell_type": "markdown",
      "metadata": {
        "id": "view-in-github",
        "colab_type": "text"
      },
      "source": [
        "<a href=\"https://colab.research.google.com/github/acorreia61201/SAOPythonPrimer/blob/main/solutions/Solutions7.ipynb\" target=\"_parent\"><img src=\"https://colab.research.google.com/assets/colab-badge.svg\" alt=\"Open In Colab\"/></a>"
      ]
    },
    {
      "cell_type": "markdown",
      "id": "ed8c11cb",
      "metadata": {
        "id": "ed8c11cb"
      },
      "source": [
        "# SAO/LIP Python Primer Course Exercise Set 7\n",
        "\n",
        "[![Open In Colab](https://colab.research.google.com/assets/colab-badge.svg)](https://colab.research.google.com/github/acorreia61201/SAOPythonPrimer/blob/main/exercises/Exercises7.ipynb)\n",
        "\n",
        "This exercise set is split between two parts. The first part deals with basic Python I/O, while the second does some more robust numerical analyses using `pandas`.\n",
        "\n",
        "## Exercise 1.1: Simple File Manipulation\n",
        "\n",
        "Let's get some practice reading and writing files using Python builtins, as well as navigating directories. Each file that you generate below should have one word per line.\n",
        "\n",
        "**Your task:** Create a directory called `my_files`. Move to this directory and create two new directories inside it, `dogs` and `fruits`. Check by using `os.listdir()`."
      ]
    },
    {
      "cell_type": "code",
      "execution_count": null,
      "id": "29ccd26b",
      "metadata": {
        "id": "29ccd26b",
        "colab": {
          "base_uri": "https://localhost:8080/"
        },
        "outputId": "3c4e8b93-d765-4587-cd99-64acb4be27d9"
      },
      "outputs": [
        {
          "output_type": "execute_result",
          "data": {
            "text/plain": [
              "['fruits', 'dogs']"
            ]
          },
          "metadata": {},
          "execution_count": 2
        }
      ],
      "source": [
        "import os\n",
        "os.mkdir('my_files') # make my_files directory\n",
        "os.chdir('my_files') # cd to my_files\n",
        "os.mkdir('dogs') # make directory my_files/dogs\n",
        "os.mkdir('fruits') # make directory my_files/fruits\n",
        "os.listdir() # list contents of my_files; should be the dogs and fruits directories"
      ]
    },
    {
      "cell_type": "code",
      "source": [
        "os.getcwd() # also check current working directory"
      ],
      "metadata": {
        "id": "JnaJPSd1wyO5",
        "outputId": "5e6f78f4-872f-4efb-fb89-f6c287e72e4a",
        "colab": {
          "base_uri": "https://localhost:8080/",
          "height": 35
        }
      },
      "id": "JnaJPSd1wyO5",
      "execution_count": null,
      "outputs": [
        {
          "output_type": "execute_result",
          "data": {
            "text/plain": [
              "'/content/my_files'"
            ],
            "application/vnd.google.colaboratory.intrinsic+json": {
              "type": "string"
            }
          },
          "metadata": {},
          "execution_count": 3
        }
      ]
    },
    {
      "cell_type": "markdown",
      "id": "dca84212",
      "metadata": {
        "id": "dca84212"
      },
      "source": [
        "**Your task:** Generate two files:\n",
        "- Create a file `dog_list.txt` using the list `dog_breeds` below, and place it in `dogs`.\n",
        "- Create a file `fruit_list.txt` using the list `fruit_types` below, and place it in `fruits`."
      ]
    },
    {
      "cell_type": "code",
      "execution_count": null,
      "id": "314e4577",
      "metadata": {
        "id": "314e4577",
        "colab": {
          "base_uri": "https://localhost:8080/"
        },
        "outputId": "75a4d794-0780-47ca-8a46-d611be83f82b"
      },
      "outputs": [
        {
          "output_type": "stream",
          "name": "stdout",
          "text": [
            "['dog_list.txt']\n",
            "['fruit_list.txt']\n"
          ]
        }
      ],
      "source": [
        "dog_breeds = ['pug\\n', 'schnauzer\\n', 'shiba inu\\n', 'poodle\\n', 'greyhound\\n', 'chihuahua\\n', 'great dane\\n']\n",
        "fruit_types = ['apple\\n', 'banana\\n', 'blueberry\\n', 'strawberry\\n', 'grape\\n', 'pineapple\\n', 'cantaloupe\\n']\n",
        "\n",
        "# to print to separate lines, you needed to add \\n to the end of each entry above\n",
        "\n",
        "# create files using 'x' mode and 'r+' mode to create then open file\n",
        "open('dog_list.txt', 'x')\n",
        "open('fruit_list.txt', 'x')\n",
        "df = open('dog_list.txt', 'r+')\n",
        "ff = open('fruit_list.txt', 'r+')\n",
        "# alternatively, we could use 'a+' in one open command to create if it doesn't exist and open in r/w mode\n",
        "# write lists to files\n",
        "df.writelines(dog_breeds)\n",
        "ff.writelines(fruit_types)\n",
        "# close files\n",
        "df.close()\n",
        "ff.close()\n",
        "# move files to respective directories\n",
        "os.rename('dog_list.txt', 'dogs/dog_list.txt')\n",
        "os.rename('fruit_list.txt', 'fruits/fruit_list.txt')\n",
        "# check\n",
        "print(os.listdir('dogs'))\n",
        "print(os.listdir('fruits'))\n"
      ]
    },
    {
      "cell_type": "markdown",
      "id": "29e7ab21",
      "metadata": {
        "id": "29e7ab21"
      },
      "source": [
        "**Your task:** Create a new file `reversed_dogs.txt`. Read in the contents of `dog_list.txt` and write them in reverse order in this new file. Move this file to the `dogs` directory. (Don't just use the lists above; you should use `open()` to get the contents.)"
      ]
    },
    {
      "cell_type": "code",
      "execution_count": null,
      "id": "bc73f33f",
      "metadata": {
        "id": "bc73f33f"
      },
      "outputs": [],
      "source": [
        "df = open('dogs/dog_list.txt', 'r+') # open dog_list.txt in r/w mode\n",
        "open('reversed_dogs.txt', 'x') # create new file\n",
        "rf = open('reversed_dogs.txt', 'r+') # open new file in r/w mode\n",
        "init = df.readlines() # read in lines of dog_list.txt as a list\n",
        "init.reverse() # reverse the list of entries\n",
        "rf.writelines(init) # write the new list to new file\n",
        "# close both files\n",
        "df.close()\n",
        "rf.close()\n",
        "# move the new file to the correct directory (alternatively, you could've cd'ed to dogs and done it all there)\n",
        "os.rename('reversed_dogs.txt', 'dogs/reversed_dogs.txt')"
      ]
    },
    {
      "cell_type": "markdown",
      "id": "958bcb2d",
      "metadata": {
        "id": "958bcb2d"
      },
      "source": [
        "**Your task:** Create a new file `alphabet_fruits.txt`. Read in the contents of `fruit_list.txt` and write them in alphabetical order in this new file. Move this file to the `fruits` directory."
      ]
    },
    {
      "cell_type": "code",
      "execution_count": null,
      "id": "0829ed0e",
      "metadata": {
        "id": "0829ed0e"
      },
      "outputs": [],
      "source": [
        "ff = open('fruits/fruit_list.txt', 'r+') # open fruit_list.txt in r/w mode\n",
        "open('alphabet_fruits.txt', 'x') # create new file\n",
        "af = open('alphabet_fruits.txt', 'r+') # open new file in r/w mode\n",
        "init = ff.readlines() # read in lines of fruit_list.txt as a list\n",
        "init.sort() # sort the list of entries alphabetically\n",
        "af.writelines(init) # write the new list to new file\n",
        "# close both files\n",
        "ff.close()\n",
        "af.close()\n",
        "# move the new file to the correct directory (alternatively, you could've cd'ed to fruits and done it all there)\n",
        "os.rename('alphabet_fruits.txt', 'fruits/alphabet_fruits.txt')"
      ]
    },
    {
      "cell_type": "markdown",
      "id": "0f6b7bb5",
      "metadata": {
        "id": "0f6b7bb5"
      },
      "source": [
        "**Your task:** Write a loop below that reads in `dogs/dogs_list.txt` and prints out the names of dogs that contain the letter `a`. Write these names to a new file, `dog_count.txt`, in the current working directory (i.e. `my_files`)."
      ]
    },
    {
      "cell_type": "code",
      "execution_count": null,
      "id": "4b9b91b9",
      "metadata": {
        "id": "4b9b91b9",
        "colab": {
          "base_uri": "https://localhost:8080/"
        },
        "outputId": "688b16a2-c372-41bb-92b5-26c72838935d"
      },
      "outputs": [
        {
          "output_type": "stream",
          "name": "stdout",
          "text": [
            "schnauzer\n",
            "\n",
            "shiba inu\n",
            "\n",
            "chihuahua\n",
            "\n",
            "great dane\n",
            "\n"
          ]
        }
      ],
      "source": [
        "df = open('dogs/dog_list.txt') # open dog_list.txt in read mode (default)\n",
        "open('dog_count.txt', 'x') # create new file\n",
        "dc = open('dog_count.txt', 'r+') # open new file in r/w mode\n",
        "line = df.readline() # get the first line of dog_list.txt\n",
        "while line != '': # iterate until reaching empty line (i.e. EOF)\n",
        "    if 'a' in line: # if a is in the current line\n",
        "        print(line) # print the line out\n",
        "        dc.write(line) # write the line to the new file\n",
        "    line = df.readline() # update the variable line with the next line down\n",
        "# close the files\n",
        "dc.close()\n",
        "df.close()"
      ]
    },
    {
      "cell_type": "markdown",
      "id": "e81996ec",
      "metadata": {
        "id": "e81996ec"
      },
      "source": [
        "**Your task:** Write a loop that reads in `fruits/fruit_list.txt` and prints out the names of fruits with more than 7 letters. Write these names to a new file, `fruit_count.txt`, in the current working directory (i.e. `my_files`)."
      ]
    },
    {
      "cell_type": "code",
      "execution_count": null,
      "id": "a96dd0a9",
      "metadata": {
        "id": "a96dd0a9",
        "colab": {
          "base_uri": "https://localhost:8080/"
        },
        "outputId": "4a1c58da-25f4-4a29-998b-474e17fb5f11"
      },
      "outputs": [
        {
          "output_type": "stream",
          "name": "stdout",
          "text": [
            "blueberry\n",
            "\n",
            "strawberry\n",
            "\n",
            "pineapple\n",
            "\n",
            "cantaloupe\n",
            "\n"
          ]
        }
      ],
      "source": [
        "ff = open('fruits/fruit_list.txt') # open fruit_list.txt in read mode (default)\n",
        "open('fruit_count.txt', 'x') # create new file\n",
        "fc = open('fruit_count.txt', 'r+') # open new file in r/w mode\n",
        "line = ff.readline() # get the first line of fruit_list txt\n",
        "while line != '': # iterate until reaching empty line (i.e. EOF)\n",
        "    if len(line) > 8: # \\n is its own character, so we want 7 letters plus one\n",
        "        print(line) # print the line out\n",
        "        fc.write(line) # write the line to the new file\n",
        "    line = ff.readline() # update the variable line with the next line down\n",
        "# close the files\n",
        "fc.close()\n",
        "ff.close()"
      ]
    },
    {
      "cell_type": "markdown",
      "id": "de5b0bf8",
      "metadata": {
        "id": "de5b0bf8"
      },
      "source": [
        "## Exercise 1.2: Find and Replace Substrings in Files\n",
        "\n",
        "In this exercise, we'll be using the Gettysburg Address file that was downloaded in the lecture. If you need to download or re-download the file, run the cell below (be sure to rename it if necessary)."
      ]
    },
    {
      "cell_type": "code",
      "execution_count": null,
      "id": "83e02069",
      "metadata": {
        "id": "83e02069",
        "colab": {
          "base_uri": "https://localhost:8080/"
        },
        "outputId": "3a76dab6-8d50-41eb-8c63-97357bb6157f"
      },
      "outputs": [
        {
          "output_type": "stream",
          "name": "stdout",
          "text": [
            "--2023-06-12 14:28:36--  https://collincapano.com/wp-content/uploads/2023/01/gettysburg_address-bliss_copy.txt\n",
            "Resolving collincapano.com (collincapano.com)... 162.241.225.81\n",
            "Connecting to collincapano.com (collincapano.com)|162.241.225.81|:443... connected.\n",
            "HTTP request sent, awaiting response... 200 OK\n",
            "Length: 1477 (1.4K) [text/plain]\n",
            "Saving to: ‘gettysburg_address-bliss_copy.txt’\n",
            "\n",
            "\r          gettysbur   0%[                    ]       0  --.-KB/s               \rgettysburg_address- 100%[===================>]   1.44K  --.-KB/s    in 0s      \n",
            "\n",
            "2023-06-12 14:28:36 (140 MB/s) - ‘gettysburg_address-bliss_copy.txt’ saved [1477/1477]\n",
            "\n"
          ]
        }
      ],
      "source": [
        "!wget https://collincapano.com/wp-content/uploads/2023/01/gettysburg_address-bliss_copy.txt"
      ]
    },
    {
      "cell_type": "markdown",
      "id": "13b17555",
      "metadata": {
        "id": "13b17555"
      },
      "source": [
        "**Your task:** Write a loop below that searches the file for the string 'here' (don't worry about caps; none of the occurrences of 'here' are capitalized anyways). If a line contains 'here', print that line to screen along with its line number. Treat the first line as line 1. At the end, print out the number of occurrences of 'here' in the file."
      ]
    },
    {
      "cell_type": "code",
      "execution_count": null,
      "id": "432ef016",
      "metadata": {
        "id": "432ef016",
        "colab": {
          "base_uri": "https://localhost:8080/"
        },
        "outputId": "066f9862-b219-4092-de64-f60345c5caf7"
      },
      "outputs": [
        {
          "output_type": "stream",
          "name": "stdout",
          "text": [
            "8: a final resting place for those who here gave their lives that that nation\n",
            "\n",
            "12: not hallow -- this ground. The brave men, living and dead, who struggled here,\n",
            "\n",
            "14: little note, nor long remember what we say here, but it can never forget what\n",
            "\n",
            "15: they did here.\n",
            "\n",
            "17: It is for us the living, rather, to be dedicated here to the unfinished work\n",
            "\n",
            "18: which they who fought here have thus far so nobly advanced. It is rather for us\n",
            "\n",
            "19: to be here dedicated to the great task remaining before us -- that from these\n",
            "\n",
            "21: last full measure of devotion -- that we here highly resolve that these dead\n",
            "\n",
            "Total occurrences: 8\n"
          ]
        }
      ],
      "source": [
        "gb = open('gettysburg_address-bliss_copy.txt', 'r+') # open in read/write mode\n",
        "lines = gb.readlines() # read in lines as a list\n",
        "count = 0 # placeholder for num occurrences\n",
        "for i in range(len(lines)): # iterate over indices in list of lines\n",
        "    if ' here' in lines[i]: # check if here is in current line\n",
        "        print(f'{i+1}: {lines[i]}') # print the line number (index + 1) and the line\n",
        "        count += 1 # add 1 to the counter\n",
        "\n",
        "gb.close() # close the document outside the loop\n",
        "print(f'Total occurrences: {count}') # print total num occurrences\n",
        "\n",
        "# notice that I used ' here' instead of 'here'. This ensures that I only get instances of 'here' and not 'there' or 'where'.\n",
        "# I didn't put a space at the end since that would exclude 'here.' (i.e. word at the end of a sentence)\n",
        "# this has the disadvantage of possibly picking up words like 'hereby'; for this, it's okay if we're not using the most sophisticated technique possible"
      ]
    },
    {
      "cell_type": "markdown",
      "id": "062d9ae9",
      "metadata": {
        "id": "062d9ae9"
      },
      "source": [
        "**Your task:** Now, write a loop that replaces every occurrence of 'here' with 'there'. You will need to make use of the method `readobj.replace()`, where `readobj` is a placeholder for `file.read()` for a given `file`. The first input for `replace()` is the string you wish to replace, and the second is the string you want to replace it with. (If you need help, see the examples at https://linuxhint.com/python-replaces-string-file/.) Write the changes to the same file, and use `read()` to check if the changes were correct."
      ]
    },
    {
      "cell_type": "code",
      "execution_count": null,
      "id": "3c03094a",
      "metadata": {
        "id": "3c03094a",
        "colab": {
          "base_uri": "https://localhost:8080/"
        },
        "outputId": "3598d476-b676-4f13-90c2-4a9289a20027"
      },
      "outputs": [
        {
          "output_type": "stream",
          "name": "stdout",
          "text": [
            "Four score and seven years ago our fathers brought forth on this continent, a\n",
            "new nation, conceived in Liberty, and dedicated to the proposition that all men\n",
            "are created equal.\n",
            "\n",
            "Now we are engaged in a great civil war, testing whether that nation, or any\n",
            "nation so conceived and so dedicated, can long endure. We are met on a great\n",
            "battle-field of that war. We have come to dedicate a portion of that field, as\n",
            "a final resting place for those who there gave their lives that that nation\n",
            "might live. It is altogether fitting and proper that we should do this.\n",
            "\n",
            "But, in a larger sense, we can not dedicate -- we can not consecrate -- we can\n",
            "not hallow -- this ground. The brave men, living and dead, who struggled there,\n",
            "have consecrated it, far above our poor power to add or detract. The world will\n",
            "little note, nor long remember what we say there, but it can never forget what\n",
            "they did there.\n",
            "\n",
            "It is for us the living, rather, to be dedicated there to the unfinished work\n",
            "which they who fought there have thus far so nobly advanced. It is rather for us\n",
            "to be there dedicated to the great task remaining before us -- that from these\n",
            "honored dead we take increased devotion to that cause for which they gave the\n",
            "last full measure of devotion -- that we there highly resolve that these dead\n",
            "shall not have died in vain -- that this nation, under God, shall have a new\n",
            "birth of freedom -- and that government of the people, by the people, for the\n",
            "people, shall not perish from the earth.\n",
            "\n"
          ]
        }
      ],
      "source": [
        "# contrary to what I said in the directions, you don't need to do this over a loop\n",
        "\n",
        "# first, read in the lines, replacing here with there\n",
        "gb = open('gettysburg_address-bliss_copy.txt', 'r') # open in read only mode\n",
        "lines = gb.read() # save the entire document to a variable\n",
        "lines = lines.replace(' here', ' there') # change all instances of here to there inplace\n",
        "gb.close() # close\n",
        "\n",
        "# then, modify the document in-place\n",
        "gb = open('gettysburg_address-bliss_copy.txt', 'w') # open in write mode; 'w' overwrites file contents\n",
        "gb.write(lines) # overwrite text with modified text from above\n",
        "gb.close() # close again\n",
        "\n",
        "# check by-eye; you may also use the loop above to find 'there'\n",
        "reading = open('gettysburg_address-bliss_copy.txt', 'r') # open in read only mode\n",
        "print(reading.read()) # print the contents\n",
        "\n",
        "# I'll reiterate a distinction I made here:\n",
        "# 'w' opens a file in write mode. Any additions will overwrite anything already in the file\n",
        "# 'r+' opens a file in read/write mode. Any additions are appended to the end of the existing file without overwriting anything"
      ]
    },
    {
      "cell_type": "markdown",
      "id": "5aa6db60",
      "metadata": {
        "id": "5aa6db60"
      },
      "source": [
        "## Exercise 2.1: Gravitational Waves\n",
        "\n",
        "We'll do a couple simple examples with plotting and analyzing data using *gravitational wave* data. Gravitational waves are ripples in spacetime casued by the orbit and merger of two objects. With current technology, we have so far only been able to detect gravitational waves from systems involving black holes and neutron stars, the two densest astrophysical objects.\n",
        "\n",
        "Download the following data:"
      ]
    },
    {
      "cell_type": "code",
      "execution_count": null,
      "id": "4db62ec8",
      "metadata": {
        "id": "4db62ec8",
        "colab": {
          "base_uri": "https://localhost:8080/"
        },
        "outputId": "568693e6-a021-43ce-9cf6-0569e8c259ac"
      },
      "outputs": [
        {
          "output_type": "stream",
          "name": "stdout",
          "text": [
            "--2023-06-12 14:49:53--  https://raw.githubusercontent.com/acorreia61201/SAOPythonPrimer/main/files/GW150914.csv\n",
            "Resolving raw.githubusercontent.com (raw.githubusercontent.com)... 185.199.108.133, 185.199.109.133, 185.199.110.133, ...\n",
            "Connecting to raw.githubusercontent.com (raw.githubusercontent.com)|185.199.108.133|:443... connected.\n",
            "HTTP request sent, awaiting response... 200 OK\n",
            "Length: 124617 (122K) [text/plain]\n",
            "Saving to: ‘GW150914.csv’\n",
            "\n",
            "\rGW150914.csv          0%[                    ]       0  --.-KB/s               \rGW150914.csv        100%[===================>] 121.70K  --.-KB/s    in 0.02s   \n",
            "\n",
            "2023-06-12 14:49:53 (5.17 MB/s) - ‘GW150914.csv’ saved [124617/124617]\n",
            "\n"
          ]
        }
      ],
      "source": [
        "!wget https://raw.githubusercontent.com/acorreia61201/SAOPythonPrimer/main/files/GW150914.csv"
      ]
    },
    {
      "cell_type": "markdown",
      "id": "03e9edf6",
      "metadata": {
        "id": "03e9edf6"
      },
      "source": [
        "This is the initial data release for GW150914, the first direct detection of a gravitational wave from a binary black hole merger. The first column t lists the times in seconds of the analysis, and the second column h lists the *strain* in units of $10^{-21}$, a technical term for the wave amplitude.\n",
        "\n",
        "**Your task:** Load the data from above using `pandas`. Assign the name 'Times' to column t and 'Strains' to column h. Check that you read in the data correctly. The data should run from 0.25 to a little less than 0.46 seconds."
      ]
    },
    {
      "cell_type": "code",
      "execution_count": null,
      "id": "d37ea800",
      "metadata": {
        "id": "d37ea800",
        "colab": {
          "base_uri": "https://localhost:8080/",
          "height": 424
        },
        "outputId": "5778f01d-7b4c-4856-ef1e-4b78ddcc475b"
      },
      "outputs": [
        {
          "output_type": "execute_result",
          "data": {
            "text/plain": [
              "         Times   Strains\n",
              "0     0.250000  0.024548\n",
              "1     0.250061  0.015293\n",
              "2     0.250122  0.006372\n",
              "3     0.250183 -0.002075\n",
              "4     0.250244 -0.009889\n",
              "...        ...       ...\n",
              "3436  0.459717  0.177196\n",
              "3437  0.459778  0.180618\n",
              "3438  0.459839  0.183392\n",
              "3439  0.459900  0.185412\n",
              "3440  0.459961  0.186591\n",
              "\n",
              "[3441 rows x 2 columns]"
            ],
            "text/html": [
              "\n",
              "  <div id=\"df-3fc83d3c-4678-4561-b600-fce7ac6f2968\">\n",
              "    <div class=\"colab-df-container\">\n",
              "      <div>\n",
              "<style scoped>\n",
              "    .dataframe tbody tr th:only-of-type {\n",
              "        vertical-align: middle;\n",
              "    }\n",
              "\n",
              "    .dataframe tbody tr th {\n",
              "        vertical-align: top;\n",
              "    }\n",
              "\n",
              "    .dataframe thead th {\n",
              "        text-align: right;\n",
              "    }\n",
              "</style>\n",
              "<table border=\"1\" class=\"dataframe\">\n",
              "  <thead>\n",
              "    <tr style=\"text-align: right;\">\n",
              "      <th></th>\n",
              "      <th>Times</th>\n",
              "      <th>Strains</th>\n",
              "    </tr>\n",
              "  </thead>\n",
              "  <tbody>\n",
              "    <tr>\n",
              "      <th>0</th>\n",
              "      <td>0.250000</td>\n",
              "      <td>0.024548</td>\n",
              "    </tr>\n",
              "    <tr>\n",
              "      <th>1</th>\n",
              "      <td>0.250061</td>\n",
              "      <td>0.015293</td>\n",
              "    </tr>\n",
              "    <tr>\n",
              "      <th>2</th>\n",
              "      <td>0.250122</td>\n",
              "      <td>0.006372</td>\n",
              "    </tr>\n",
              "    <tr>\n",
              "      <th>3</th>\n",
              "      <td>0.250183</td>\n",
              "      <td>-0.002075</td>\n",
              "    </tr>\n",
              "    <tr>\n",
              "      <th>4</th>\n",
              "      <td>0.250244</td>\n",
              "      <td>-0.009889</td>\n",
              "    </tr>\n",
              "    <tr>\n",
              "      <th>...</th>\n",
              "      <td>...</td>\n",
              "      <td>...</td>\n",
              "    </tr>\n",
              "    <tr>\n",
              "      <th>3436</th>\n",
              "      <td>0.459717</td>\n",
              "      <td>0.177196</td>\n",
              "    </tr>\n",
              "    <tr>\n",
              "      <th>3437</th>\n",
              "      <td>0.459778</td>\n",
              "      <td>0.180618</td>\n",
              "    </tr>\n",
              "    <tr>\n",
              "      <th>3438</th>\n",
              "      <td>0.459839</td>\n",
              "      <td>0.183392</td>\n",
              "    </tr>\n",
              "    <tr>\n",
              "      <th>3439</th>\n",
              "      <td>0.459900</td>\n",
              "      <td>0.185412</td>\n",
              "    </tr>\n",
              "    <tr>\n",
              "      <th>3440</th>\n",
              "      <td>0.459961</td>\n",
              "      <td>0.186591</td>\n",
              "    </tr>\n",
              "  </tbody>\n",
              "</table>\n",
              "<p>3441 rows × 2 columns</p>\n",
              "</div>\n",
              "      <button class=\"colab-df-convert\" onclick=\"convertToInteractive('df-3fc83d3c-4678-4561-b600-fce7ac6f2968')\"\n",
              "              title=\"Convert this dataframe to an interactive table.\"\n",
              "              style=\"display:none;\">\n",
              "        \n",
              "  <svg xmlns=\"http://www.w3.org/2000/svg\" height=\"24px\"viewBox=\"0 0 24 24\"\n",
              "       width=\"24px\">\n",
              "    <path d=\"M0 0h24v24H0V0z\" fill=\"none\"/>\n",
              "    <path d=\"M18.56 5.44l.94 2.06.94-2.06 2.06-.94-2.06-.94-.94-2.06-.94 2.06-2.06.94zm-11 1L8.5 8.5l.94-2.06 2.06-.94-2.06-.94L8.5 2.5l-.94 2.06-2.06.94zm10 10l.94 2.06.94-2.06 2.06-.94-2.06-.94-.94-2.06-.94 2.06-2.06.94z\"/><path d=\"M17.41 7.96l-1.37-1.37c-.4-.4-.92-.59-1.43-.59-.52 0-1.04.2-1.43.59L10.3 9.45l-7.72 7.72c-.78.78-.78 2.05 0 2.83L4 21.41c.39.39.9.59 1.41.59.51 0 1.02-.2 1.41-.59l7.78-7.78 2.81-2.81c.8-.78.8-2.07 0-2.86zM5.41 20L4 18.59l7.72-7.72 1.47 1.35L5.41 20z\"/>\n",
              "  </svg>\n",
              "      </button>\n",
              "      \n",
              "  <style>\n",
              "    .colab-df-container {\n",
              "      display:flex;\n",
              "      flex-wrap:wrap;\n",
              "      gap: 12px;\n",
              "    }\n",
              "\n",
              "    .colab-df-convert {\n",
              "      background-color: #E8F0FE;\n",
              "      border: none;\n",
              "      border-radius: 50%;\n",
              "      cursor: pointer;\n",
              "      display: none;\n",
              "      fill: #1967D2;\n",
              "      height: 32px;\n",
              "      padding: 0 0 0 0;\n",
              "      width: 32px;\n",
              "    }\n",
              "\n",
              "    .colab-df-convert:hover {\n",
              "      background-color: #E2EBFA;\n",
              "      box-shadow: 0px 1px 2px rgba(60, 64, 67, 0.3), 0px 1px 3px 1px rgba(60, 64, 67, 0.15);\n",
              "      fill: #174EA6;\n",
              "    }\n",
              "\n",
              "    [theme=dark] .colab-df-convert {\n",
              "      background-color: #3B4455;\n",
              "      fill: #D2E3FC;\n",
              "    }\n",
              "\n",
              "    [theme=dark] .colab-df-convert:hover {\n",
              "      background-color: #434B5C;\n",
              "      box-shadow: 0px 1px 3px 1px rgba(0, 0, 0, 0.15);\n",
              "      filter: drop-shadow(0px 1px 2px rgba(0, 0, 0, 0.3));\n",
              "      fill: #FFFFFF;\n",
              "    }\n",
              "  </style>\n",
              "\n",
              "      <script>\n",
              "        const buttonEl =\n",
              "          document.querySelector('#df-3fc83d3c-4678-4561-b600-fce7ac6f2968 button.colab-df-convert');\n",
              "        buttonEl.style.display =\n",
              "          google.colab.kernel.accessAllowed ? 'block' : 'none';\n",
              "\n",
              "        async function convertToInteractive(key) {\n",
              "          const element = document.querySelector('#df-3fc83d3c-4678-4561-b600-fce7ac6f2968');\n",
              "          const dataTable =\n",
              "            await google.colab.kernel.invokeFunction('convertToInteractive',\n",
              "                                                     [key], {});\n",
              "          if (!dataTable) return;\n",
              "\n",
              "          const docLinkHtml = 'Like what you see? Visit the ' +\n",
              "            '<a target=\"_blank\" href=https://colab.research.google.com/notebooks/data_table.ipynb>data table notebook</a>'\n",
              "            + ' to learn more about interactive tables.';\n",
              "          element.innerHTML = '';\n",
              "          dataTable['output_type'] = 'display_data';\n",
              "          await google.colab.output.renderOutput(dataTable, element);\n",
              "          const docLink = document.createElement('div');\n",
              "          docLink.innerHTML = docLinkHtml;\n",
              "          element.appendChild(docLink);\n",
              "        }\n",
              "      </script>\n",
              "    </div>\n",
              "  </div>\n",
              "  "
            ]
          },
          "metadata": {},
          "execution_count": 23
        }
      ],
      "source": [
        "import pandas as pd\n",
        "gw = pd.read_csv('GW150914.csv', names=['Times', 'Strains'], skiprows=1) # read the csv\n",
        "# note on the options:\n",
        "# names takes in a list of titles you want to assign the columns\n",
        "# skiprows defines how many rows from the start you want to omit from the file.\n",
        "gw"
      ]
    },
    {
      "cell_type": "markdown",
      "id": "d0c6b49a",
      "metadata": {
        "id": "d0c6b49a"
      },
      "source": [
        "**Your task:** Let's plot the data to see what a typical GW event looks like. Plot strain vs. time, and label the x-axis 'time (s)' and the y-axis 'strain ($Hz^{-1/2}$)' using Latex notation (these units are the inverse square root of Hertz, or square root of seconds)."
      ]
    },
    {
      "cell_type": "code",
      "execution_count": null,
      "id": "c9af8980",
      "metadata": {
        "id": "c9af8980",
        "colab": {
          "base_uri": "https://localhost:8080/",
          "height": 559
        },
        "outputId": "b1ba1d92-82ee-45ae-a81e-9d150da95633"
      },
      "outputs": [
        {
          "output_type": "execute_result",
          "data": {
            "text/plain": [
              "Text(0, 0.5, 'strain ($Hz^{-1/2}$)')"
            ]
          },
          "metadata": {},
          "execution_count": 24
        },
        {
          "output_type": "display_data",
          "data": {
            "text/plain": [
              "<Figure size 1000x600 with 1 Axes>"
            ],
            "image/png": "[encoded data removed]"
          },
          "metadata": {}
        }
      ],
      "source": [
        "import matplotlib.pyplot as plt\n",
        "\n",
        "t = gw['Times'] # get the times column\n",
        "h = gw['Strains'] # get the strains column\n",
        "plt.figure(figsize=(10, 6)) # changing the size of the figure for readability\n",
        "plt.plot(t, h) # you can plot directly with Series objects\n",
        "plt.xlabel('time (s)') # label x axis\n",
        "plt.ylabel('strain ($Hz^{-1/2}$)') # label y axis (using LaTeX notation for units; it's fine if you don't recognize it)"
      ]
    },
    {
      "cell_type": "markdown",
      "id": "a626f92a",
      "metadata": {
        "id": "a626f92a"
      },
      "source": [
        "One parameter of importance to GW research is the maximum amplitude of an event. We call the point at which a GW reaches this max amplitude the *merger*. The detectors current available to LIGO (the Laser Interferometer Gravitational-Wave Observatory) can detect strains of order $\\sim 10^{-22}$. This means that a detector several kilometers long can detect length changes due to gravitational waves around the size of an atomic nucleus.\n",
        "\n",
        "We'll do a rudimentary sanity check to see if this is a detectable gravitational wave by finding the maximum amplitude point and calling it the merger. This isn't a great assumption, since noise in the detectors will bias these points. A more robust test would involve cleaning the noise in the data and finding the maximum frequency point, but that requires more advanced techniques we won't get into.\n",
        "\n",
        "**Your task:** Print out the maximum and minimum strain values from the data. We'll take the largest absolute value to be the merger. Is this larger than the maximum sensitivity of LIGO?\n",
        "\n",
        "Also, get the time at which this maximum amplitude occurs."
      ]
    },
    {
      "cell_type": "code",
      "execution_count": null,
      "id": "2e429eb8",
      "metadata": {
        "id": "2e429eb8",
        "colab": {
          "base_uri": "https://localhost:8080/"
        },
        "outputId": "a203969b-faed-40ab-f713-b02314c8a9d2"
      },
      "outputs": [
        {
          "output_type": "stream",
          "name": "stdout",
          "text": [
            "Maxmimum amplitude: 1.1278493200502389*10^-21\n"
          ]
        },
        {
          "output_type": "execute_result",
          "data": {
            "text/plain": [
              "2492    0.4021\n",
              "Name: Times, dtype: float64"
            ]
          },
          "metadata": {},
          "execution_count": 25
        }
      ],
      "source": [
        "high = h.max() # max point\n",
        "low = h.min() # min point\n",
        "if abs(high) > abs(low):\n",
        "    amp = (high) # set max amp to high point if abs val is greatest\n",
        "else:\n",
        "    amp = (low) # set min amp to low point if abs val is greatest\n",
        "print(f'Maxmimum amplitude: {amp}*10^-21') # print max amp\n",
        "\n",
        "conditions = (gw['Strains'] == amp) # set a condition that prints out the rows with the max amp\n",
        "maxt = t.loc[conditions] # locate the row in the time Series that fulfills this condition\n",
        "maxt # print out the row to get the index"
      ]
    },
    {
      "cell_type": "code",
      "source": [
        "max_time = t[2492] # get the value of time at this index\n",
        "max_time"
      ],
      "metadata": {
        "colab": {
          "base_uri": "https://localhost:8080/"
        },
        "id": "8WaHOmgBcGN4",
        "outputId": "2c9effb8-bed8-46bf-9e32-c307e5992314"
      },
      "id": "8WaHOmgBcGN4",
      "execution_count": null,
      "outputs": [
        {
          "output_type": "execute_result",
          "data": {
            "text/plain": [
              "0.402099609375"
            ]
          },
          "metadata": {},
          "execution_count": 26
        }
      ]
    },
    {
      "cell_type": "markdown",
      "id": "78d5cfc1",
      "metadata": {
        "id": "78d5cfc1"
      },
      "source": [
        "Gravitational wave events often occur over very short timespans. In the case of black hole mergers like GW150914, the objects can end up moving so fast that they are *relativistic*, meaning our classical mechanical models can no longer accurately describe them.\n",
        "\n",
        "**Your task:** Calculate the amount of time that passed from the start of data to the merger. As a sanity check, this should be shorter than the full length of the dataset, ~0.21 seconds."
      ]
    },
    {
      "cell_type": "code",
      "execution_count": null,
      "id": "84e81d42",
      "metadata": {
        "id": "84e81d42",
        "colab": {
          "base_uri": "https://localhost:8080/"
        },
        "outputId": "aed9374a-5a29-4a5b-eb57-d5c27d06fa52"
      },
      "outputs": [
        {
          "output_type": "execute_result",
          "data": {
            "text/plain": [
              "0.152099609375"
            ]
          },
          "metadata": {},
          "execution_count": 27
        }
      ],
      "source": [
        "max_time - t[0] # subtract initial time from max amp time"
      ]
    },
    {
      "cell_type": "markdown",
      "id": "73f3548a",
      "metadata": {
        "id": "73f3548a"
      },
      "source": [
        "We can use numerical simulations to attempt to clean up the noise in the data for more accurate analyses. We won't get into this analysis since it requires robust knowledge of general relativity, but I will provide the result from the initial observation paper. You can download the data below:"
      ]
    },
    {
      "cell_type": "code",
      "execution_count": null,
      "id": "9fcaf403",
      "metadata": {
        "id": "9fcaf403",
        "colab": {
          "base_uri": "https://localhost:8080/"
        },
        "outputId": "35ccacbe-e8c8-4c53-a1b3-202ad972154b"
      },
      "outputs": [
        {
          "output_type": "stream",
          "name": "stdout",
          "text": [
            "--2023-06-12 14:50:02--  https://raw.githubusercontent.com/acorreia61201/SAOPythonPrimer/main/files/GW150914_model.csv\n",
            "Resolving raw.githubusercontent.com (raw.githubusercontent.com)... 185.199.108.133, 185.199.109.133, 185.199.110.133, ...\n",
            "Connecting to raw.githubusercontent.com (raw.githubusercontent.com)|185.199.108.133|:443... connected.\n",
            "HTTP request sent, awaiting response... 200 OK\n",
            "Length: 131261 (128K) [text/plain]\n",
            "Saving to: ‘GW150914_model.csv’\n",
            "\n",
            "GW150914_model.csv  100%[===================>] 128.18K  --.-KB/s    in 0.02s   \n",
            "\n",
            "2023-06-12 14:50:02 (5.72 MB/s) - ‘GW150914_model.csv’ saved [131261/131261]\n",
            "\n"
          ]
        }
      ],
      "source": [
        "!wget https://raw.githubusercontent.com/acorreia61201/SAOPythonPrimer/main/files/GW150914_model.csv"
      ]
    },
    {
      "cell_type": "markdown",
      "id": "efef308f",
      "metadata": {
        "id": "efef308f"
      },
      "source": [
        "The columns have the same meanings as the raw data.\n",
        "\n",
        "**Your task:** Read in the above dataset using `pandas`. Check that this data set has the same first and last times as the raw data."
      ]
    },
    {
      "cell_type": "code",
      "execution_count": null,
      "id": "91880946",
      "metadata": {
        "id": "91880946",
        "colab": {
          "base_uri": "https://localhost:8080/",
          "height": 424
        },
        "outputId": "26f16a3b-8b37-4cc9-a8cc-145195d9ccdd"
      },
      "outputs": [
        {
          "output_type": "execute_result",
          "data": {
            "text/plain": [
              "             t         h\n",
              "0     0.250050  0.435578\n",
              "1     0.250111  0.433388\n",
              "2     0.250172  0.431139\n",
              "3     0.250233  0.428833\n",
              "4     0.250294  0.426469\n",
              "...        ...       ...\n",
              "3435  0.459706 -0.000549\n",
              "3436  0.459767 -0.000527\n",
              "3437  0.459828 -0.000501\n",
              "3438  0.459889 -0.000472\n",
              "3439  0.459950 -0.000439\n",
              "\n",
              "[3440 rows x 2 columns]"
            ],
            "text/html": [
              "\n",
              "  <div id=\"df-0c769826-3fa3-4016-a4e6-3d31fbe9f2d7\">\n",
              "    <div class=\"colab-df-container\">\n",
              "      <div>\n",
              "<style scoped>\n",
              "    .dataframe tbody tr th:only-of-type {\n",
              "        vertical-align: middle;\n",
              "    }\n",
              "\n",
              "    .dataframe tbody tr th {\n",
              "        vertical-align: top;\n",
              "    }\n",
              "\n",
              "    .dataframe thead th {\n",
              "        text-align: right;\n",
              "    }\n",
              "</style>\n",
              "<table border=\"1\" class=\"dataframe\">\n",
              "  <thead>\n",
              "    <tr style=\"text-align: right;\">\n",
              "      <th></th>\n",
              "      <th>t</th>\n",
              "      <th>h</th>\n",
              "    </tr>\n",
              "  </thead>\n",
              "  <tbody>\n",
              "    <tr>\n",
              "      <th>0</th>\n",
              "      <td>0.250050</td>\n",
              "      <td>0.435578</td>\n",
              "    </tr>\n",
              "    <tr>\n",
              "      <th>1</th>\n",
              "      <td>0.250111</td>\n",
              "      <td>0.433388</td>\n",
              "    </tr>\n",
              "    <tr>\n",
              "      <th>2</th>\n",
              "      <td>0.250172</td>\n",
              "      <td>0.431139</td>\n",
              "    </tr>\n",
              "    <tr>\n",
              "      <th>3</th>\n",
              "      <td>0.250233</td>\n",
              "      <td>0.428833</td>\n",
              "    </tr>\n",
              "    <tr>\n",
              "      <th>4</th>\n",
              "      <td>0.250294</td>\n",
              "      <td>0.426469</td>\n",
              "    </tr>\n",
              "    <tr>\n",
              "      <th>...</th>\n",
              "      <td>...</td>\n",
              "      <td>...</td>\n",
              "    </tr>\n",
              "    <tr>\n",
              "      <th>3435</th>\n",
              "      <td>0.459706</td>\n",
              "      <td>-0.000549</td>\n",
              "    </tr>\n",
              "    <tr>\n",
              "      <th>3436</th>\n",
              "      <td>0.459767</td>\n",
              "      <td>-0.000527</td>\n",
              "    </tr>\n",
              "    <tr>\n",
              "      <th>3437</th>\n",
              "      <td>0.459828</td>\n",
              "      <td>-0.000501</td>\n",
              "    </tr>\n",
              "    <tr>\n",
              "      <th>3438</th>\n",
              "      <td>0.459889</td>\n",
              "      <td>-0.000472</td>\n",
              "    </tr>\n",
              "    <tr>\n",
              "      <th>3439</th>\n",
              "      <td>0.459950</td>\n",
              "      <td>-0.000439</td>\n",
              "    </tr>\n",
              "  </tbody>\n",
              "</table>\n",
              "<p>3440 rows × 2 columns</p>\n",
              "</div>\n",
              "      <button class=\"colab-df-convert\" onclick=\"convertToInteractive('df-0c769826-3fa3-4016-a4e6-3d31fbe9f2d7')\"\n",
              "              title=\"Convert this dataframe to an interactive table.\"\n",
              "              style=\"display:none;\">\n",
              "        \n",
              "  <svg xmlns=\"http://www.w3.org/2000/svg\" height=\"24px\"viewBox=\"0 0 24 24\"\n",
              "       width=\"24px\">\n",
              "    <path d=\"M0 0h24v24H0V0z\" fill=\"none\"/>\n",
              "    <path d=\"M18.56 5.44l.94 2.06.94-2.06 2.06-.94-2.06-.94-.94-2.06-.94 2.06-2.06.94zm-11 1L8.5 8.5l.94-2.06 2.06-.94-2.06-.94L8.5 2.5l-.94 2.06-2.06.94zm10 10l.94 2.06.94-2.06 2.06-.94-2.06-.94-.94-2.06-.94 2.06-2.06.94z\"/><path d=\"M17.41 7.96l-1.37-1.37c-.4-.4-.92-.59-1.43-.59-.52 0-1.04.2-1.43.59L10.3 9.45l-7.72 7.72c-.78.78-.78 2.05 0 2.83L4 21.41c.39.39.9.59 1.41.59.51 0 1.02-.2 1.41-.59l7.78-7.78 2.81-2.81c.8-.78.8-2.07 0-2.86zM5.41 20L4 18.59l7.72-7.72 1.47 1.35L5.41 20z\"/>\n",
              "  </svg>\n",
              "      </button>\n",
              "      \n",
              "  <style>\n",
              "    .colab-df-container {\n",
              "      display:flex;\n",
              "      flex-wrap:wrap;\n",
              "      gap: 12px;\n",
              "    }\n",
              "\n",
              "    .colab-df-convert {\n",
              "      background-color: #E8F0FE;\n",
              "      border: none;\n",
              "      border-radius: 50%;\n",
              "      cursor: pointer;\n",
              "      display: none;\n",
              "      fill: #1967D2;\n",
              "      height: 32px;\n",
              "      padding: 0 0 0 0;\n",
              "      width: 32px;\n",
              "    }\n",
              "\n",
              "    .colab-df-convert:hover {\n",
              "      background-color: #E2EBFA;\n",
              "      box-shadow: 0px 1px 2px rgba(60, 64, 67, 0.3), 0px 1px 3px 1px rgba(60, 64, 67, 0.15);\n",
              "      fill: #174EA6;\n",
              "    }\n",
              "\n",
              "    [theme=dark] .colab-df-convert {\n",
              "      background-color: #3B4455;\n",
              "      fill: #D2E3FC;\n",
              "    }\n",
              "\n",
              "    [theme=dark] .colab-df-convert:hover {\n",
              "      background-color: #434B5C;\n",
              "      box-shadow: 0px 1px 3px 1px rgba(0, 0, 0, 0.15);\n",
              "      filter: drop-shadow(0px 1px 2px rgba(0, 0, 0, 0.3));\n",
              "      fill: #FFFFFF;\n",
              "    }\n",
              "  </style>\n",
              "\n",
              "      <script>\n",
              "        const buttonEl =\n",
              "          document.querySelector('#df-0c769826-3fa3-4016-a4e6-3d31fbe9f2d7 button.colab-df-convert');\n",
              "        buttonEl.style.display =\n",
              "          google.colab.kernel.accessAllowed ? 'block' : 'none';\n",
              "\n",
              "        async function convertToInteractive(key) {\n",
              "          const element = document.querySelector('#df-0c769826-3fa3-4016-a4e6-3d31fbe9f2d7');\n",
              "          const dataTable =\n",
              "            await google.colab.kernel.invokeFunction('convertToInteractive',\n",
              "                                                     [key], {});\n",
              "          if (!dataTable) return;\n",
              "\n",
              "          const docLinkHtml = 'Like what you see? Visit the ' +\n",
              "            '<a target=\"_blank\" href=https://colab.research.google.com/notebooks/data_table.ipynb>data table notebook</a>'\n",
              "            + ' to learn more about interactive tables.';\n",
              "          element.innerHTML = '';\n",
              "          dataTable['output_type'] = 'display_data';\n",
              "          await google.colab.output.renderOutput(dataTable, element);\n",
              "          const docLink = document.createElement('div');\n",
              "          docLink.innerHTML = docLinkHtml;\n",
              "          element.appendChild(docLink);\n",
              "        }\n",
              "      </script>\n",
              "    </div>\n",
              "  </div>\n",
              "  "
            ]
          },
          "metadata": {},
          "execution_count": 29
        }
      ],
      "source": [
        "gw_model = pd.read_csv('GW150914_model.csv') # read in model data\n",
        "gw_model"
      ]
    },
    {
      "cell_type": "markdown",
      "id": "b512e0d8",
      "metadata": {
        "id": "b512e0d8"
      },
      "source": [
        "**Your task:** Now, on one set of axes, plot the raw data in solid blue and the model data in solid black. Label them accordingly, and give this plot the same axis titles as the previous plot. How well does the model match the raw data? Are there points where the model seems to be a better fit than others?"
      ]
    },
    {
      "cell_type": "code",
      "execution_count": null,
      "id": "2cc9b146",
      "metadata": {
        "id": "2cc9b146",
        "colab": {
          "base_uri": "https://localhost:8080/",
          "height": 559
        },
        "outputId": "a24e9bcd-355e-44e1-d0a4-c93eb27da66a"
      },
      "outputs": [
        {
          "output_type": "execute_result",
          "data": {
            "text/plain": [
              "<matplotlib.legend.Legend at 0x7f5c569f6f50>"
            ]
          },
          "metadata": {},
          "execution_count": 30
        },
        {
          "output_type": "display_data",
          "data": {
            "text/plain": [
              "<Figure size 1000x600 with 1 Axes>"
            ],
            "image/png": "[encoded data removed]"
          },
          "metadata": {}
        }
      ],
      "source": [
        "tmod = gw_model['t'] # times in model data\n",
        "hmod = gw_model['h'] # strains in model data\n",
        "plt.figure(figsize=(10, 6)) # resize figure\n",
        "plt.plot(t, h, color='blue', label='raw') # raw data from above\n",
        "plt.plot(tmod, hmod, color='black', label='model') # model data\n",
        "plt.xlabel('time (s)') # x label\n",
        "plt.ylabel('strain ($Hz^{-1/2}$)') # y label\n",
        "plt.legend() # generate legend"
      ]
    },
    {
      "cell_type": "markdown",
      "id": "508ad22b",
      "metadata": {
        "id": "508ad22b"
      },
      "source": [
        "## Exercise 2.2: Analyzing Solar System Orbits\n",
        "\n",
        "Download the following dataset:"
      ]
    },
    {
      "cell_type": "code",
      "execution_count": null,
      "id": "e749a6d8",
      "metadata": {
        "id": "e749a6d8",
        "colab": {
          "base_uri": "https://localhost:8080/"
        },
        "outputId": "27c4d880-6993-4c37-8375-02c7fe41d791"
      },
      "outputs": [
        {
          "output_type": "stream",
          "name": "stdout",
          "text": [
            "--2023-06-12 14:50:10--  https://raw.githubusercontent.com/acorreia61201/SAOPythonPrimer/main/files/planets.csv\n",
            "Resolving raw.githubusercontent.com (raw.githubusercontent.com)... 185.199.108.133, 185.199.111.133, 185.199.110.133, ...\n",
            "Connecting to raw.githubusercontent.com (raw.githubusercontent.com)|185.199.108.133|:443... connected.\n",
            "HTTP request sent, awaiting response... 200 OK\n",
            "Length: 490 [text/plain]\n",
            "Saving to: ‘planets.csv.1’\n",
            "\n",
            "\rplanets.csv.1         0%[                    ]       0  --.-KB/s               \rplanets.csv.1       100%[===================>]     490  --.-KB/s    in 0s      \n",
            "\n",
            "2023-06-12 14:50:10 (31.7 MB/s) - ‘planets.csv.1’ saved [490/490]\n",
            "\n"
          ]
        }
      ],
      "source": [
        "!wget https://raw.githubusercontent.com/acorreia61201/SAOPythonPrimer/main/files/planets.csv"
      ]
    },
    {
      "cell_type": "markdown",
      "id": "a935ed44",
      "metadata": {
        "id": "a935ed44"
      },
      "source": [
        "**Your task:** Use `pandas` to load in and view the data in this csv file."
      ]
    },
    {
      "cell_type": "code",
      "execution_count": null,
      "id": "26f5562e",
      "metadata": {
        "id": "26f5562e",
        "colab": {
          "base_uri": "https://localhost:8080/",
          "height": 331
        },
        "outputId": "01e27012-a58d-4045-b902-1184f3239042"
      },
      "outputs": [
        {
          "output_type": "execute_result",
          "data": {
            "text/plain": [
              "    'planet'  'distance'  'period_rot'  'period_orb'  'eccentricity'\n",
              "0  'Mercury'    57909227      58.64600      0.240847        0.205636\n",
              "1    'Venus'   108209475    -243.01800      0.615197        0.006777\n",
              "2    'Earth'   149598262       0.99727      1.000017        0.016711\n",
              "3     'Mars'   227943824       1.02600      1.880848        0.093394\n",
              "4  'Jupiter'   778340821       0.41354     11.862615        0.048386\n",
              "5   'Saturn'  1426666422       0.44400     29.447498        0.053862\n",
              "6   'Uranus'  2870658186      -0.71800     84.016846        0.047257\n",
              "7  'Neptune'  4498396441       0.67100    164.791320        0.008590\n",
              "8    'Pluto'  5906440628     153.29350    247.740660        0.248827"
            ],
            "text/html": [
              "\n",
              "  <div id=\"df-92ec0399-d18f-403a-8b71-991cdf1f8f76\">\n",
              "    <div class=\"colab-df-container\">\n",
              "      <div>\n",
              "<style scoped>\n",
              "    .dataframe tbody tr th:only-of-type {\n",
              "        vertical-align: middle;\n",
              "    }\n",
              "\n",
              "    .dataframe tbody tr th {\n",
              "        vertical-align: top;\n",
              "    }\n",
              "\n",
              "    .dataframe thead th {\n",
              "        text-align: right;\n",
              "    }\n",
              "</style>\n",
              "<table border=\"1\" class=\"dataframe\">\n",
              "  <thead>\n",
              "    <tr style=\"text-align: right;\">\n",
              "      <th></th>\n",
              "      <th>'planet'</th>\n",
              "      <th>'distance'</th>\n",
              "      <th>'period_rot'</th>\n",
              "      <th>'period_orb'</th>\n",
              "      <th>'eccentricity'</th>\n",
              "    </tr>\n",
              "  </thead>\n",
              "  <tbody>\n",
              "    <tr>\n",
              "      <th>0</th>\n",
              "      <td>'Mercury'</td>\n",
              "      <td>57909227</td>\n",
              "      <td>58.64600</td>\n",
              "      <td>0.240847</td>\n",
              "      <td>0.205636</td>\n",
              "    </tr>\n",
              "    <tr>\n",
              "      <th>1</th>\n",
              "      <td>'Venus'</td>\n",
              "      <td>108209475</td>\n",
              "      <td>-243.01800</td>\n",
              "      <td>0.615197</td>\n",
              "      <td>0.006777</td>\n",
              "    </tr>\n",
              "    <tr>\n",
              "      <th>2</th>\n",
              "      <td>'Earth'</td>\n",
              "      <td>149598262</td>\n",
              "      <td>0.99727</td>\n",
              "      <td>1.000017</td>\n",
              "      <td>0.016711</td>\n",
              "    </tr>\n",
              "    <tr>\n",
              "      <th>3</th>\n",
              "      <td>'Mars'</td>\n",
              "      <td>227943824</td>\n",
              "      <td>1.02600</td>\n",
              "      <td>1.880848</td>\n",
              "      <td>0.093394</td>\n",
              "    </tr>\n",
              "    <tr>\n",
              "      <th>4</th>\n",
              "      <td>'Jupiter'</td>\n",
              "      <td>778340821</td>\n",
              "      <td>0.41354</td>\n",
              "      <td>11.862615</td>\n",
              "      <td>0.048386</td>\n",
              "    </tr>\n",
              "    <tr>\n",
              "      <th>5</th>\n",
              "      <td>'Saturn'</td>\n",
              "      <td>1426666422</td>\n",
              "      <td>0.44400</td>\n",
              "      <td>29.447498</td>\n",
              "      <td>0.053862</td>\n",
              "    </tr>\n",
              "    <tr>\n",
              "      <th>6</th>\n",
              "      <td>'Uranus'</td>\n",
              "      <td>2870658186</td>\n",
              "      <td>-0.71800</td>\n",
              "      <td>84.016846</td>\n",
              "      <td>0.047257</td>\n",
              "    </tr>\n",
              "    <tr>\n",
              "      <th>7</th>\n",
              "      <td>'Neptune'</td>\n",
              "      <td>4498396441</td>\n",
              "      <td>0.67100</td>\n",
              "      <td>164.791320</td>\n",
              "      <td>0.008590</td>\n",
              "    </tr>\n",
              "    <tr>\n",
              "      <th>8</th>\n",
              "      <td>'Pluto'</td>\n",
              "      <td>5906440628</td>\n",
              "      <td>153.29350</td>\n",
              "      <td>247.740660</td>\n",
              "      <td>0.248827</td>\n",
              "    </tr>\n",
              "  </tbody>\n",
              "</table>\n",
              "</div>\n",
              "      <button class=\"colab-df-convert\" onclick=\"convertToInteractive('df-92ec0399-d18f-403a-8b71-991cdf1f8f76')\"\n",
              "              title=\"Convert this dataframe to an interactive table.\"\n",
              "              style=\"display:none;\">\n",
              "        \n",
              "  <svg xmlns=\"http://www.w3.org/2000/svg\" height=\"24px\"viewBox=\"0 0 24 24\"\n",
              "       width=\"24px\">\n",
              "    <path d=\"M0 0h24v24H0V0z\" fill=\"none\"/>\n",
              "    <path d=\"M18.56 5.44l.94 2.06.94-2.06 2.06-.94-2.06-.94-.94-2.06-.94 2.06-2.06.94zm-11 1L8.5 8.5l.94-2.06 2.06-.94-2.06-.94L8.5 2.5l-.94 2.06-2.06.94zm10 10l.94 2.06.94-2.06 2.06-.94-2.06-.94-.94-2.06-.94 2.06-2.06.94z\"/><path d=\"M17.41 7.96l-1.37-1.37c-.4-.4-.92-.59-1.43-.59-.52 0-1.04.2-1.43.59L10.3 9.45l-7.72 7.72c-.78.78-.78 2.05 0 2.83L4 21.41c.39.39.9.59 1.41.59.51 0 1.02-.2 1.41-.59l7.78-7.78 2.81-2.81c.8-.78.8-2.07 0-2.86zM5.41 20L4 18.59l7.72-7.72 1.47 1.35L5.41 20z\"/>\n",
              "  </svg>\n",
              "      </button>\n",
              "      \n",
              "  <style>\n",
              "    .colab-df-container {\n",
              "      display:flex;\n",
              "      flex-wrap:wrap;\n",
              "      gap: 12px;\n",
              "    }\n",
              "\n",
              "    .colab-df-convert {\n",
              "      background-color: #E8F0FE;\n",
              "      border: none;\n",
              "      border-radius: 50%;\n",
              "      cursor: pointer;\n",
              "      display: none;\n",
              "      fill: #1967D2;\n",
              "      height: 32px;\n",
              "      padding: 0 0 0 0;\n",
              "      width: 32px;\n",
              "    }\n",
              "\n",
              "    .colab-df-convert:hover {\n",
              "      background-color: #E2EBFA;\n",
              "      box-shadow: 0px 1px 2px rgba(60, 64, 67, 0.3), 0px 1px 3px 1px rgba(60, 64, 67, 0.15);\n",
              "      fill: #174EA6;\n",
              "    }\n",
              "\n",
              "    [theme=dark] .colab-df-convert {\n",
              "      background-color: #3B4455;\n",
              "      fill: #D2E3FC;\n",
              "    }\n",
              "\n",
              "    [theme=dark] .colab-df-convert:hover {\n",
              "      background-color: #434B5C;\n",
              "      box-shadow: 0px 1px 3px 1px rgba(0, 0, 0, 0.15);\n",
              "      filter: drop-shadow(0px 1px 2px rgba(0, 0, 0, 0.3));\n",
              "      fill: #FFFFFF;\n",
              "    }\n",
              "  </style>\n",
              "\n",
              "      <script>\n",
              "        const buttonEl =\n",
              "          document.querySelector('#df-92ec0399-d18f-403a-8b71-991cdf1f8f76 button.colab-df-convert');\n",
              "        buttonEl.style.display =\n",
              "          google.colab.kernel.accessAllowed ? 'block' : 'none';\n",
              "\n",
              "        async function convertToInteractive(key) {\n",
              "          const element = document.querySelector('#df-92ec0399-d18f-403a-8b71-991cdf1f8f76');\n",
              "          const dataTable =\n",
              "            await google.colab.kernel.invokeFunction('convertToInteractive',\n",
              "                                                     [key], {});\n",
              "          if (!dataTable) return;\n",
              "\n",
              "          const docLinkHtml = 'Like what you see? Visit the ' +\n",
              "            '<a target=\"_blank\" href=https://colab.research.google.com/notebooks/data_table.ipynb>data table notebook</a>'\n",
              "            + ' to learn more about interactive tables.';\n",
              "          element.innerHTML = '';\n",
              "          dataTable['output_type'] = 'display_data';\n",
              "          await google.colab.output.renderOutput(dataTable, element);\n",
              "          const docLink = document.createElement('div');\n",
              "          docLink.innerHTML = docLinkHtml;\n",
              "          element.appendChild(docLink);\n",
              "        }\n",
              "      </script>\n",
              "    </div>\n",
              "  </div>\n",
              "  "
            ]
          },
          "metadata": {},
          "execution_count": 32
        }
      ],
      "source": [
        "data = pd.read_csv('planets.csv') # read in data\n",
        "data\n",
        "# note: the column names have asterisks; you have to use quotation marks to call them"
      ]
    },
    {
      "cell_type": "markdown",
      "id": "573d2cc7",
      "metadata": {
        "id": "573d2cc7"
      },
      "source": [
        "This dataset contains some orbital parameters for the planets in the solar system (and Pluto). The distance column gives the average distance to the Sun in kilometers, period_rot gives the rotational period in Earth days, and period_orb gives the orbital period in Earth years. The last column gives the *eccentricity* of each planet, a parameter that describes how elliptical the planets' orbits are. For bound orbits, this value ranges between 0 and 1, with 0 representing a perfect circle, and increasing values representing a more \"stretched-out\" orbit.\n",
        "\n",
        "As you may expect, the distance measurements are very large, into the billions for the farthest planets. In solar system astronomy, it's convenient to use *astronomical units*, or *AU*, to measure distances. We can use the conversion $1 AU = 1.496 \\times 10^8 km$ to convert the values in our dataset.\n",
        "\n",
        "**Your task:** Modify the `DataFrame` above so that the distance column is in units of AU. As a sanity check, 1 AU is defined as the average distance from the Earth to the Sun, so the Earth's distance should be something close to 1."
      ]
    },
    {
      "cell_type": "code",
      "execution_count": null,
      "id": "e2636ddf",
      "metadata": {
        "id": "e2636ddf",
        "colab": {
          "base_uri": "https://localhost:8080/",
          "height": 331
        },
        "outputId": "a547c543-d74d-451d-e6fc-4e3dcb15417e"
      },
      "outputs": [
        {
          "output_type": "execute_result",
          "data": {
            "text/plain": [
              "    'planet'  'distance'  'period_rot'  'period_orb'  'eccentricity'\n",
              "0  'Mercury'    0.387094      58.64600      0.240847        0.205636\n",
              "1    'Venus'    0.723325    -243.01800      0.615197        0.006777\n",
              "2    'Earth'    0.999988       0.99727      1.000017        0.016711\n",
              "3     'Mars'    1.523689       1.02600      1.880848        0.093394\n",
              "4  'Jupiter'    5.202813       0.41354     11.862615        0.048386\n",
              "5   'Saturn'    9.536540       0.44400     29.447498        0.053862\n",
              "6   'Uranus'   19.188892      -0.71800     84.016846        0.047257\n",
              "7  'Neptune'   30.069495       0.67100    164.791320        0.008590\n",
              "8    'Pluto'   39.481555     153.29350    247.740660        0.248827"
            ],
            "text/html": [
              "\n",
              "  <div id=\"df-cab86058-59f1-4f2c-8d9c-b55f630cd603\">\n",
              "    <div class=\"colab-df-container\">\n",
              "      <div>\n",
              "<style scoped>\n",
              "    .dataframe tbody tr th:only-of-type {\n",
              "        vertical-align: middle;\n",
              "    }\n",
              "\n",
              "    .dataframe tbody tr th {\n",
              "        vertical-align: top;\n",
              "    }\n",
              "\n",
              "    .dataframe thead th {\n",
              "        text-align: right;\n",
              "    }\n",
              "</style>\n",
              "<table border=\"1\" class=\"dataframe\">\n",
              "  <thead>\n",
              "    <tr style=\"text-align: right;\">\n",
              "      <th></th>\n",
              "      <th>'planet'</th>\n",
              "      <th>'distance'</th>\n",
              "      <th>'period_rot'</th>\n",
              "      <th>'period_orb'</th>\n",
              "      <th>'eccentricity'</th>\n",
              "    </tr>\n",
              "  </thead>\n",
              "  <tbody>\n",
              "    <tr>\n",
              "      <th>0</th>\n",
              "      <td>'Mercury'</td>\n",
              "      <td>0.387094</td>\n",
              "      <td>58.64600</td>\n",
              "      <td>0.240847</td>\n",
              "      <td>0.205636</td>\n",
              "    </tr>\n",
              "    <tr>\n",
              "      <th>1</th>\n",
              "      <td>'Venus'</td>\n",
              "      <td>0.723325</td>\n",
              "      <td>-243.01800</td>\n",
              "      <td>0.615197</td>\n",
              "      <td>0.006777</td>\n",
              "    </tr>\n",
              "    <tr>\n",
              "      <th>2</th>\n",
              "      <td>'Earth'</td>\n",
              "      <td>0.999988</td>\n",
              "      <td>0.99727</td>\n",
              "      <td>1.000017</td>\n",
              "      <td>0.016711</td>\n",
              "    </tr>\n",
              "    <tr>\n",
              "      <th>3</th>\n",
              "      <td>'Mars'</td>\n",
              "      <td>1.523689</td>\n",
              "      <td>1.02600</td>\n",
              "      <td>1.880848</td>\n",
              "      <td>0.093394</td>\n",
              "    </tr>\n",
              "    <tr>\n",
              "      <th>4</th>\n",
              "      <td>'Jupiter'</td>\n",
              "      <td>5.202813</td>\n",
              "      <td>0.41354</td>\n",
              "      <td>11.862615</td>\n",
              "      <td>0.048386</td>\n",
              "    </tr>\n",
              "    <tr>\n",
              "      <th>5</th>\n",
              "      <td>'Saturn'</td>\n",
              "      <td>9.536540</td>\n",
              "      <td>0.44400</td>\n",
              "      <td>29.447498</td>\n",
              "      <td>0.053862</td>\n",
              "    </tr>\n",
              "    <tr>\n",
              "      <th>6</th>\n",
              "      <td>'Uranus'</td>\n",
              "      <td>19.188892</td>\n",
              "      <td>-0.71800</td>\n",
              "      <td>84.016846</td>\n",
              "      <td>0.047257</td>\n",
              "    </tr>\n",
              "    <tr>\n",
              "      <th>7</th>\n",
              "      <td>'Neptune'</td>\n",
              "      <td>30.069495</td>\n",
              "      <td>0.67100</td>\n",
              "      <td>164.791320</td>\n",
              "      <td>0.008590</td>\n",
              "    </tr>\n",
              "    <tr>\n",
              "      <th>8</th>\n",
              "      <td>'Pluto'</td>\n",
              "      <td>39.481555</td>\n",
              "      <td>153.29350</td>\n",
              "      <td>247.740660</td>\n",
              "      <td>0.248827</td>\n",
              "    </tr>\n",
              "  </tbody>\n",
              "</table>\n",
              "</div>\n",
              "      <button class=\"colab-df-convert\" onclick=\"convertToInteractive('df-cab86058-59f1-4f2c-8d9c-b55f630cd603')\"\n",
              "              title=\"Convert this dataframe to an interactive table.\"\n",
              "              style=\"display:none;\">\n",
              "        \n",
              "  <svg xmlns=\"http://www.w3.org/2000/svg\" height=\"24px\"viewBox=\"0 0 24 24\"\n",
              "       width=\"24px\">\n",
              "    <path d=\"M0 0h24v24H0V0z\" fill=\"none\"/>\n",
              "    <path d=\"M18.56 5.44l.94 2.06.94-2.06 2.06-.94-2.06-.94-.94-2.06-.94 2.06-2.06.94zm-11 1L8.5 8.5l.94-2.06 2.06-.94-2.06-.94L8.5 2.5l-.94 2.06-2.06.94zm10 10l.94 2.06.94-2.06 2.06-.94-2.06-.94-.94-2.06-.94 2.06-2.06.94z\"/><path d=\"M17.41 7.96l-1.37-1.37c-.4-.4-.92-.59-1.43-.59-.52 0-1.04.2-1.43.59L10.3 9.45l-7.72 7.72c-.78.78-.78 2.05 0 2.83L4 21.41c.39.39.9.59 1.41.59.51 0 1.02-.2 1.41-.59l7.78-7.78 2.81-2.81c.8-.78.8-2.07 0-2.86zM5.41 20L4 18.59l7.72-7.72 1.47 1.35L5.41 20z\"/>\n",
              "  </svg>\n",
              "      </button>\n",
              "      \n",
              "  <style>\n",
              "    .colab-df-container {\n",
              "      display:flex;\n",
              "      flex-wrap:wrap;\n",
              "      gap: 12px;\n",
              "    }\n",
              "\n",
              "    .colab-df-convert {\n",
              "      background-color: #E8F0FE;\n",
              "      border: none;\n",
              "      border-radius: 50%;\n",
              "      cursor: pointer;\n",
              "      display: none;\n",
              "      fill: #1967D2;\n",
              "      height: 32px;\n",
              "      padding: 0 0 0 0;\n",
              "      width: 32px;\n",
              "    }\n",
              "\n",
              "    .colab-df-convert:hover {\n",
              "      background-color: #E2EBFA;\n",
              "      box-shadow: 0px 1px 2px rgba(60, 64, 67, 0.3), 0px 1px 3px 1px rgba(60, 64, 67, 0.15);\n",
              "      fill: #174EA6;\n",
              "    }\n",
              "\n",
              "    [theme=dark] .colab-df-convert {\n",
              "      background-color: #3B4455;\n",
              "      fill: #D2E3FC;\n",
              "    }\n",
              "\n",
              "    [theme=dark] .colab-df-convert:hover {\n",
              "      background-color: #434B5C;\n",
              "      box-shadow: 0px 1px 3px 1px rgba(0, 0, 0, 0.15);\n",
              "      filter: drop-shadow(0px 1px 2px rgba(0, 0, 0, 0.3));\n",
              "      fill: #FFFFFF;\n",
              "    }\n",
              "  </style>\n",
              "\n",
              "      <script>\n",
              "        const buttonEl =\n",
              "          document.querySelector('#df-cab86058-59f1-4f2c-8d9c-b55f630cd603 button.colab-df-convert');\n",
              "        buttonEl.style.display =\n",
              "          google.colab.kernel.accessAllowed ? 'block' : 'none';\n",
              "\n",
              "        async function convertToInteractive(key) {\n",
              "          const element = document.querySelector('#df-cab86058-59f1-4f2c-8d9c-b55f630cd603');\n",
              "          const dataTable =\n",
              "            await google.colab.kernel.invokeFunction('convertToInteractive',\n",
              "                                                     [key], {});\n",
              "          if (!dataTable) return;\n",
              "\n",
              "          const docLinkHtml = 'Like what you see? Visit the ' +\n",
              "            '<a target=\"_blank\" href=https://colab.research.google.com/notebooks/data_table.ipynb>data table notebook</a>'\n",
              "            + ' to learn more about interactive tables.';\n",
              "          element.innerHTML = '';\n",
              "          dataTable['output_type'] = 'display_data';\n",
              "          await google.colab.output.renderOutput(dataTable, element);\n",
              "          const docLink = document.createElement('div');\n",
              "          docLink.innerHTML = docLinkHtml;\n",
              "          element.appendChild(docLink);\n",
              "        }\n",
              "      </script>\n",
              "    </div>\n",
              "  </div>\n",
              "  "
            ]
          },
          "metadata": {},
          "execution_count": 33
        }
      ],
      "source": [
        "data[\"'distance'\"] = data[\"'distance'\"]/(1.496*10**8) # do conversion in-place\n",
        "data"
      ]
    },
    {
      "cell_type": "markdown",
      "id": "7ab9ac59",
      "metadata": {
        "id": "7ab9ac59"
      },
      "source": [
        "Using this data, we can do a simple verification of *Kepler's third law*. In its simplest form, it reads:\n",
        "\n",
        "\\begin{equation}\n",
        "P \\propto a^{3/2}\n",
        "\\end{equation}\n",
        "\n",
        "This means that the period $P$ of a planet's orbit is proportional to the *semimajor axis* $a$ raised to the power of $3/2$. We define the semimajor axis as the average between the maximum and minimum distances of a planet from the Sun.\n",
        "\n",
        "**Your task:** Generate a scatterplot of $P$ versus $a^{3/2}$ using your dataset. Plot this on a loglog scale and label your axes 'Period (Earth yrs)' and 'Semimajor axis (AU)'.\n",
        "\n",
        "On a loglog scale, the above proportionality will produce a straight line. Does your plot match this?"
      ]
    },
    {
      "cell_type": "code",
      "execution_count": null,
      "id": "5d2922a5",
      "metadata": {
        "id": "5d2922a5",
        "colab": {
          "base_uri": "https://localhost:8080/",
          "height": 451
        },
        "outputId": "efd44686-bab3-43b1-9ce2-e06076d7c73d"
      },
      "outputs": [
        {
          "output_type": "execute_result",
          "data": {
            "text/plain": [
              "[<matplotlib.lines.Line2D at 0x7f5c54b84910>]"
            ]
          },
          "metadata": {},
          "execution_count": 34
        },
        {
          "output_type": "display_data",
          "data": {
            "text/plain": [
              "<Figure size 640x480 with 1 Axes>"
            ],
            "image/png": "[encoded data removed]"
          },
          "metadata": {}
        }
      ],
      "source": [
        "p = data[\"'period_orb'\"] # call in orbital periods\n",
        "a = data[\"'distance'\"] # cal in distances\n",
        "plt.loglog(p, a**(3/2), 'bo') # plot on loglog"
      ]
    },
    {
      "cell_type": "markdown",
      "id": "fabe3a6c",
      "metadata": {
        "id": "fabe3a6c"
      },
      "source": [
        "The *mean orbital velocity* is the average speed at which an object orbits the Sun. There are two ways we can calculate this. By using Newton's law of universal gravitation and assuming the mass of the planet is much less than that of the Sun, we can calculate velocity of an object with distance $a$ as:\n",
        "\n",
        "\\begin{equation}\n",
        "v = \\sqrt{\\frac{GM}{a}}\n",
        "\\end{equation}\n",
        "\n",
        "$G = 6.6743 \\times 10^{-11} m^3kg^{-1}s^{-2}$ is *Newton's gravitational constant*, and $M = 2 \\times 10^{30} kg$ is the mass of the Sun.\n",
        "\n",
        "We can also approximate the velocity using $a$, $P$, and eccentricity $e$ with the following (this comes from evaluating an *elliptic integral*, an advanced calculus concept we won't get into):\n",
        "\n",
        "\\begin{equation}\n",
        "v \\approx \\frac{2\\pi a}{P}\\bigg[ 1 - \\frac{e^2}{4} \\bigg]\n",
        "\\end{equation}\n",
        "\n",
        "**Your task:** For each planet, calculate its approximate mean orbital velocity using the second equation. Convert your velocities to $m/s$, i.e. convert $a$ to meters ($1 AU = 1.496 \\times 10^{11} m, 1 km = 1000 m$) and $P$ to seconds ($1 year = 3.154 \\times 10^7 s$). You may reload the dataset if you'd prefer to convert from kilometers rather than AUs."
      ]
    },
    {
      "cell_type": "code",
      "execution_count": null,
      "id": "c181cd25",
      "metadata": {
        "id": "c181cd25"
      },
      "outputs": [],
      "source": [
        "import numpy as np\n",
        "\n",
        "a = a.to_numpy()*1.496*10**11 # convert distance series to numpy array, then apply element-wise conversion\n",
        "p = p.to_numpy()*3.154*10**7 # convert period series to numpy array, then apply element-wise conversion\n",
        "e = data[\"'eccentricity'\"].to_numpy() # convert eccentricity series to numpy array\n",
        "\n",
        "approx = 2*np.pi*a/p*(1 - e**2/4) # calculate approximations for all a, p, e elements"
      ]
    },
    {
      "cell_type": "markdown",
      "id": "b2ec969a",
      "metadata": {
        "id": "b2ec969a"
      },
      "source": [
        "**Your task:** Plot your points above as a scatterplot of velocity versus $a$. On the same axes, plot the first equation along a range of 500 points on $a = [10^7, 10^{10}] km$. Label the axes accordingly. How well do the data points match the Newtonian model?"
      ]
    },
    {
      "cell_type": "code",
      "execution_count": null,
      "id": "42d45fbe",
      "metadata": {
        "id": "42d45fbe",
        "colab": {
          "base_uri": "https://localhost:8080/",
          "height": 468
        },
        "outputId": "b0eff09b-f657-4712-858a-950245721b36"
      },
      "outputs": [
        {
          "output_type": "execute_result",
          "data": {
            "text/plain": [
              "<matplotlib.legend.Legend at 0x7f5c54e0a8c0>"
            ]
          },
          "metadata": {},
          "execution_count": 41
        },
        {
          "output_type": "display_data",
          "data": {
            "text/plain": [
              "<Figure size 640x480 with 1 Axes>"
            ],
            "image/png": "[encoded data removed]"
          },
          "metadata": {}
        }
      ],
      "source": [
        "# note: the original problem said to generate an array of [10^7, 10^10] m; this should have been km to match the orders of magnitude in the data\n",
        "a_vals = np.linspace(10**10, 10**13, 500) # generate list of a values in meters (1 km = 10**3 m)\n",
        "v_vals = np.sqrt(6.6743*10**-11*2*10**30/a_vals) # calculate Newtonian velocities using generated grid\n",
        "plt.scatter(a, approx, color='black', marker='o', label='Data values') # plot velocity approximations versus data distances\n",
        "plt.plot(a_vals, v_vals, label='Newtonian model') # plot modeled distances and velocities\n",
        "plt.xlabel('Distance (m)') # x label\n",
        "plt.ylabel('Avg. orbital velocity (m/s)') # y label\n",
        "plt.legend() # generate legend"
      ]
    }
  ],
  "metadata": {
    "kernelspec": {
      "display_name": "Python 3 (ipykernel)",
      "language": "python",
      "name": "python3"
    },
    "language_info": {
      "codemirror_mode": {
        "name": "ipython",
        "version": 3
      },
      "file_extension": ".py",
      "mimetype": "text/x-python",
      "name": "python",
      "nbconvert_exporter": "python",
      "pygments_lexer": "ipython3",
      "version": "3.9.16"
    },
    "colab": {
      "provenance": [],
      "include_colab_link": true
    }
  },
  "nbformat": 4,
  "nbformat_minor": 5
}