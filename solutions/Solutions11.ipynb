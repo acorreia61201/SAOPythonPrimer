{
  "cells": [
    {
      "cell_type": "markdown",
      "id": "9512f1d2",
      "metadata": {
        "id": "9512f1d2"
      },
      "source": [
        "# SAO/LIP Python Primer Course Exercise Set 11\n",
        "\n",
        "[![Open In Colab](https://colab.research.google.com/assets/colab-badge.svg)](https://colab.research.google.com/github/acorreia61201/SAOPythonPrimer/blob/main/exercises/Exercises11.ipynb)\n",
        "\n",
        "## Exercise: Harmonic Motion, revisited\n",
        "\n",
        "Let's take another look at simple harmonic motion, which we've looked at in a previous exercise. Recall that the equation of motion for a frictionless pendulum of mass $m$ and string length $l$ is:\n",
        "\n",
        "\\begin{equation}\n",
        "m\\frac{d^2\\theta}{dt^2} + \\frac{mg}{l}\\sin \\theta = 0\n",
        "\\end{equation}\n",
        "\n",
        "Recall that we're taking the angular position $\\theta$ into consideration, with $\\theta = 0$ corresponding to the equilibrium state of the pendulum (i.e. hanging straight down).\n",
        "\n",
        "**Your task:** As practice, use `sympy` to write this equation. $\\theta$ will be a function of $t$, so make sure you define it accordingly. The result should look just like the equation above (or at least very close). There are no restrictions on the variables above, but you may define the parameters $m, l, g$ to be positive if you wish."
      ]
    },
    {
      "cell_type": "code",
      "execution_count": 3,
      "id": "c8539faf",
      "metadata": {
        "id": "c8539faf",
        "outputId": "39adac02-2ff5-487c-eb50-10ffd559259d",
        "colab": {
          "base_uri": "https://localhost:8080/",
          "height": 54
        }
      },
      "outputs": [
        {
          "output_type": "execute_result",
          "data": {
            "text/plain": [
              "Eq(g*m*sin(theta(t))/l + m*Derivative(theta(t), (t, 2)), 0)"
            ],
            "text/latex": "$\\displaystyle \\frac{g m \\sin{\\left(\\theta{\\left(t \\right)} \\right)}}{l} + m \\frac{d^{2}}{d t^{2}} \\theta{\\left(t \\right)} = 0$"
          },
          "metadata": {},
          "execution_count": 3
        }
      ],
      "source": [
        "import sympy\n",
        "\n",
        "# define symbols\n",
        "m, g, l = sympy.symbols('m g l', positive=True) # positive constants\n",
        "t = sympy.symbols('t', real=True) # time\n",
        "theta = sympy.symbols('theta', cls=sympy.Function) # function for theta\n",
        "\n",
        "pend = sympy.Eq(m*theta(t).diff(t,t) + m*g/l*sympy.sin(theta(t)), 0) # define the equation with sympy.Eq(lhs, rhs)\n",
        "pend # the output will look a little different; sympy automatically puts variables in alphabetical order"
      ]
    },
    {
      "cell_type": "markdown",
      "id": "02744c84",
      "metadata": {
        "id": "02744c84"
      },
      "source": [
        "There are many ways to derive this equation. One way is by using the *Euler-Lagrange equations*, an alternative physics formulation to the Newton's laws you're probably familiar with. This formulation uses *generalized coordinates* as an analogue to the $x$ and $y$ coordinates more commonly used throughout physics. Since a pendulum moves along an arc of a circle, it's much more convenient to use *polar coordinates* to model the system:\n",
        "\n",
        "\\begin{equation}\n",
        "x = r \\sin \\theta \\\\\n",
        "y = r \\cos \\theta\n",
        "\\end{equation}\n",
        "\n",
        "(We've seemingly swapped the definitions from what you may be used to, but recall that we're defining the negative $y$-axis to be $\\theta = 0$.) In this situation, $r = l$ is a constant, so we only need to consider the equation of motion for $\\theta$. For Lagrangian mechanics, we need to consider the two sources of energy in the system. The first is the *kinetic energy* $T$, defined for any system as:\n",
        "\n",
        "\\begin{equation}\n",
        "T = \\frac{1}{2}mv^2\n",
        "\\end{equation}\n",
        "\n",
        "It's important to note that this only takes into consideration linear velocity. The linear velocity of an object moving in a circle is $v = r\\omega$, where $\\omega = d\\theta/dt$ is the angular velocity of the object.\n",
        "\n",
        "**Your task:** Use `sympy` to write the kinetic energy of the pendulum in terms of its mass $m$, length $l$, and angular velocity $\\omega$."
      ]
    },
    {
      "cell_type": "code",
      "execution_count": 6,
      "id": "d8006c51",
      "metadata": {
        "id": "d8006c51",
        "outputId": "e994baf0-ee71-4663-ca1a-bab8159c592a",
        "colab": {
          "base_uri": "https://localhost:8080/",
          "height": 38
        }
      },
      "outputs": [
        {
          "output_type": "execute_result",
          "data": {
            "text/plain": [
              "0.5*l**2*m*omega(t)**2"
            ],
            "text/latex": "$\\displaystyle 0.5 l^{2} m \\omega^{2}{\\left(t \\right)}$"
          },
          "metadata": {},
          "execution_count": 6
        }
      ],
      "source": [
        "# define another symbol\n",
        "omega = sympy.symbols('omega', cls=sympy.Function) # also a function of t\n",
        "\n",
        "v = l*omega(t) # l is the radius r in this system\n",
        "kin = 1/2*m*v**2 # def above; save for later\n",
        "kin"
      ]
    },
    {
      "cell_type": "markdown",
      "id": "290910c3",
      "metadata": {
        "id": "290910c3"
      },
      "source": [
        "We also have to consider the *potential energy* $V$ of the system. The only contribution to this term is due to gravitation, which we define as:\n",
        "\n",
        "\\begin{equation}\n",
        "V = mgh\n",
        "\\end{equation}\n",
        "\n",
        "$h$ is the height of the pendulum. We can define any vertical position as the point at which $h=0$; we'll use the ceiling so that the potential can be written as:\n",
        "\n",
        "\\begin{equation}\n",
        "V = -mgy\n",
        "\\end{equation}\n",
        "\n",
        "**Your task:** Use `sympy` to write the potential energy in terms of $m$, $l$, and $\\theta$."
      ]
    },
    {
      "cell_type": "code",
      "execution_count": 8,
      "id": "9d201c96",
      "metadata": {
        "id": "9d201c96",
        "outputId": "f3719ea5-2806-4dcc-b007-a1bd09b229d1",
        "colab": {
          "base_uri": "https://localhost:8080/",
          "height": 38
        }
      },
      "outputs": [
        {
          "output_type": "execute_result",
          "data": {
            "text/plain": [
              "-g*l*m*cos(theta(t))"
            ],
            "text/latex": "$\\displaystyle - g l m \\cos{\\left(\\theta{\\left(t \\right)} \\right)}$"
          },
          "metadata": {},
          "execution_count": 8
        }
      ],
      "source": [
        "y = l*sympy.cos(theta(t)) # use def of y above\n",
        "pot = -m*g*y # def above; save for later\n",
        "pot"
      ]
    },
    {
      "cell_type": "markdown",
      "id": "83f82a2c",
      "metadata": {
        "id": "83f82a2c"
      },
      "source": [
        "With these two quantities, we can define the *Lagrangian* $L$ of the system:\n",
        "\n",
        "\\begin{equation}\n",
        "L = T - V\n",
        "\\end{equation}\n",
        "\n",
        "**Your task:** Use `sympy` to write the Lagrangian of the pendulum system using the energies you defined above."
      ]
    },
    {
      "cell_type": "code",
      "execution_count": 9,
      "id": "7f5fc93f",
      "metadata": {
        "id": "7f5fc93f",
        "outputId": "cfff3e53-8f4a-473a-8074-b27b574e676f",
        "colab": {
          "base_uri": "https://localhost:8080/",
          "height": 38
        }
      },
      "outputs": [
        {
          "output_type": "execute_result",
          "data": {
            "text/plain": [
              "g*l*m*cos(theta(t)) + 0.5*l**2*m*omega(t)**2"
            ],
            "text/latex": "$\\displaystyle g l m \\cos{\\left(\\theta{\\left(t \\right)} \\right)} + 0.5 l^{2} m \\omega^{2}{\\left(t \\right)}$"
          },
          "metadata": {},
          "execution_count": 9
        }
      ],
      "source": [
        "lag = kin - pot # use defs from above\n",
        "lag"
      ]
    },
    {
      "cell_type": "markdown",
      "id": "d11fb919",
      "metadata": {
        "id": "d11fb919"
      },
      "source": [
        "We can then plug this into the Euler-Lagrange equation:\n",
        "\n",
        "\\begin{equation}\n",
        "\\frac{\\partial L}{\\partial \\theta} - \\frac{d}{dt} \\frac{\\partial L}{\\partial \\omega} = 0\n",
        "\\end{equation}\n",
        "\n",
        "We'll solve this equation using `sympy` in a few steps:\n",
        "\n",
        "**Your task:** First, evaluate the first term of the above equation. Save it as something like `term1`."
      ]
    },
    {
      "cell_type": "code",
      "execution_count": 12,
      "id": "2e43a054",
      "metadata": {
        "id": "2e43a054",
        "outputId": "19508f5b-e442-4389-e8a3-8404912ef35c",
        "colab": {
          "base_uri": "https://localhost:8080/",
          "height": 38
        }
      },
      "outputs": [
        {
          "output_type": "execute_result",
          "data": {
            "text/plain": [
              "-g*l*m*sin(theta(t))"
            ],
            "text/latex": "$\\displaystyle - g l m \\sin{\\left(\\theta{\\left(t \\right)} \\right)}$"
          },
          "metadata": {},
          "execution_count": 12
        }
      ],
      "source": [
        "term1 = lag.diff(theta(t)) # take derivative wrt theta\n",
        "term1"
      ]
    },
    {
      "cell_type": "markdown",
      "id": "a196a057",
      "metadata": {
        "id": "a196a057"
      },
      "source": [
        "Next, we'll use the chain rule to evaluate the above total derivative with respect to $t$:\n",
        "\n",
        "\\begin{equation}\n",
        "\\frac{d}{dt} \\frac{\\partial L}{\\partial \\omega} = \\frac{d\\omega}{dt} \\frac{\\partial}{\\partial\\omega} \\frac{\\partial L}{\\partial \\omega}\n",
        "\\end{equation}\n",
        "\n",
        "**Your task:** Take the derivative of $L$ with respect to $\\omega$ twice. Substitute $\\omega = d\\theta/dt$ and multiply the result by $d^2\\theta/dt^2$ ($=d\\omega/dt$). Save this term as something like `term2`."
      ]
    },
    {
      "cell_type": "code",
      "execution_count": 13,
      "id": "00cf0941",
      "metadata": {
        "id": "00cf0941",
        "outputId": "3c3f4236-1d3c-4c92-93c4-31851ae6a547",
        "colab": {
          "base_uri": "https://localhost:8080/",
          "height": 38
        }
      },
      "outputs": [
        {
          "output_type": "execute_result",
          "data": {
            "text/plain": [
              "1.0*l**2*m"
            ],
            "text/latex": "$\\displaystyle 1.0 l^{2} m$"
          },
          "metadata": {},
          "execution_count": 13
        }
      ],
      "source": [
        "term2 = lag.diff(omega(t), omega(t)) # differentiate wrt omega twice\n",
        "term2\n",
        "# substitution isn't necessary; the omega term gets differentiated out completely"
      ]
    },
    {
      "cell_type": "code",
      "source": [
        "term2 *= theta(t).diff(t, t) # multiply by second derivative of theta\n",
        "term2"
      ],
      "metadata": {
        "id": "iPZb122gSmfO",
        "outputId": "d96675a8-dbf8-4d46-e782-030ce2a9e6a0",
        "colab": {
          "base_uri": "https://localhost:8080/",
          "height": 54
        }
      },
      "id": "iPZb122gSmfO",
      "execution_count": 14,
      "outputs": [
        {
          "output_type": "execute_result",
          "data": {
            "text/plain": [
              "1.0*l**2*m*Derivative(theta(t), (t, 2))"
            ],
            "text/latex": "$\\displaystyle 1.0 l^{2} m \\frac{d^{2}}{d t^{2}} \\theta{\\left(t \\right)}$"
          },
          "metadata": {},
          "execution_count": 14
        }
      ]
    },
    {
      "cell_type": "markdown",
      "id": "6ba22fba",
      "metadata": {
        "id": "6ba22fba"
      },
      "source": [
        "**Your task:** Finally, write the expression `term1 - term2`. How does this compare to the actual equation of motion?"
      ]
    },
    {
      "cell_type": "code",
      "execution_count": 27,
      "id": "19e9695d",
      "metadata": {
        "id": "19e9695d",
        "outputId": "3994c515-007e-4cba-f6d5-9eccc5faec74",
        "colab": {
          "base_uri": "https://localhost:8080/",
          "height": 54
        }
      },
      "outputs": [
        {
          "output_type": "execute_result",
          "data": {
            "text/plain": [
              "-g*l*m*sin(theta(t)) - 1.0*l**2*m*Derivative(theta(t), (t, 2))"
            ],
            "text/latex": "$\\displaystyle - g l m \\sin{\\left(\\theta{\\left(t \\right)} \\right)} - 1.0 l^{2} m \\frac{d^{2}}{d t^{2}} \\theta{\\left(t \\right)}$"
          },
          "metadata": {},
          "execution_count": 27
        }
      ],
      "source": [
        "lhs = term1 - term2 # put together the lagrangian\n",
        "lhs"
      ]
    },
    {
      "cell_type": "code",
      "source": [
        "# the output is a little different; let's try equating it to zero\n",
        "eqn = sympy.Eq(lhs, 0)\n",
        "eqn\n",
        "# by looking at it this way, we can divide by -l**2 and get the initial result\n",
        "# sympy can be finicky with exactly reducing equations down to what you want\n",
        "# here, it's a matter of simple algebra, but you can try using sympy to get exactly what we started with"
      ],
      "metadata": {
        "id": "ejlOlC5MT4bs",
        "outputId": "72abfba3-8c74-4100-f384-9d0c70f00bb4",
        "colab": {
          "base_uri": "https://localhost:8080/",
          "height": 54
        }
      },
      "id": "ejlOlC5MT4bs",
      "execution_count": 30,
      "outputs": [
        {
          "output_type": "execute_result",
          "data": {
            "text/plain": [
              "Eq(-g*l*m*sin(theta(t)) - 1.0*l**2*m*Derivative(theta(t), (t, 2)), 0)"
            ],
            "text/latex": "$\\displaystyle - g l m \\sin{\\left(\\theta{\\left(t \\right)} \\right)} - 1.0 l^{2} m \\frac{d^{2}}{d t^{2}} \\theta{\\left(t \\right)} = 0$"
          },
          "metadata": {},
          "execution_count": 30
        }
      ]
    }
  ],
  "metadata": {
    "kernelspec": {
      "display_name": "Python 3 (ipykernel)",
      "language": "python",
      "name": "python3"
    },
    "language_info": {
      "codemirror_mode": {
        "name": "ipython",
        "version": 3
      },
      "file_extension": ".py",
      "mimetype": "text/x-python",
      "name": "python",
      "nbconvert_exporter": "python",
      "pygments_lexer": "ipython3",
      "version": "3.9.16"
    },
    "colab": {
      "provenance": []
    }
  },
  "nbformat": 4,
  "nbformat_minor": 5
}